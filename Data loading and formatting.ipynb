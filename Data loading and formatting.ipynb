{
 "cells": [
  {
   "cell_type": "markdown",
   "metadata": {},
   "source": [
    "In this notebook, useful data loading and transforming functions are demonstrated.  The main sources of data are Quandl, Cryptocompare and Yahoo Finance."
   ]
  },
  {
   "cell_type": "code",
   "execution_count": 1,
   "metadata": {
    "ExecuteTime": {
     "end_time": "2018-07-20T17:35:11.109670Z",
     "start_time": "2018-07-20T17:35:10.457698Z"
    }
   },
   "outputs": [],
   "source": [
    "# Put these at the top of every notebook, to get automatic reloading and inline plotting\n",
    "%reload_ext autoreload\n",
    "%autoreload 2\n",
    "%matplotlib inline"
   ]
  },
  {
   "cell_type": "code",
   "execution_count": 2,
   "metadata": {
    "ExecuteTime": {
     "end_time": "2018-07-20T17:35:11.837556Z",
     "start_time": "2018-07-20T17:35:11.112198Z"
    }
   },
   "outputs": [],
   "source": [
    "import os\n",
    "import re\n",
    "import dill as pickle\n",
    "import itertools\n",
    "from tqdm import tqdm, tqdm_notebook\n",
    "from datetime import datetime\n",
    "import numpy as np\n",
    "import pandas as pd\n",
    "from pandas import Series, DataFrame\n",
    "pd.set_option('display.max_rows', 10)\n",
    "import matplotlib as mpl\n",
    "from matplotlib import pyplot as plt\n",
    "import matplotlib.transforms as mtransforms\n",
    "plt.rcParams['figure.figsize'] = [12, 4]\n",
    "\n",
    "import quandl"
   ]
  },
  {
   "cell_type": "code",
   "execution_count": 3,
   "metadata": {
    "ExecuteTime": {
     "end_time": "2018-07-20T17:35:12.592374Z",
     "start_time": "2018-07-20T17:35:11.840611Z"
    }
   },
   "outputs": [],
   "source": [
    "from utils import *"
   ]
  },
  {
   "cell_type": "markdown",
   "metadata": {
    "heading_collapsed": true
   },
   "source": [
    "# Quandl"
   ]
  },
  {
   "cell_type": "code",
   "execution_count": null,
   "metadata": {
    "ExecuteTime": {
     "end_time": "2018-07-12T16:25:35.583888Z",
     "start_time": "2018-07-12T16:25:35.518058Z"
    },
    "hidden": true
   },
   "outputs": [],
   "source": [
    "api_key = open(file='quandl_api').read().replace('\\n', '')\n",
    "quandl.ApiConfig.api_key = api_key"
   ]
  },
  {
   "cell_type": "markdown",
   "metadata": {
    "heading_collapsed": true,
    "hidden": true
   },
   "source": [
    "## Exchange Data International\n",
    "\n",
    "One may use [_Exchange Data International_](https://www.quandl.com/publishers/edi) free sample series as follows:"
   ]
  },
  {
   "cell_type": "code",
   "execution_count": null,
   "metadata": {
    "ExecuteTime": {
     "end_time": "2018-07-12T16:16:49.852538Z",
     "start_time": "2018-07-12T16:16:49.776735Z"
    },
    "hidden": true
   },
   "outputs": [],
   "source": [
    "print(os.listdir(QUANDL_PATH + 'EDI/'))"
   ]
  },
  {
   "cell_type": "code",
   "execution_count": null,
   "metadata": {
    "ExecuteTime": {
     "end_time": "2018-07-12T16:16:54.868445Z",
     "start_time": "2018-07-12T16:16:50.384979Z"
    },
    "hidden": true
   },
   "outputs": [],
   "source": [
    "# tickers, prices = get_quandl_edi(get_quandl_edi(list(QUANDL_FREE_SAMPLES_EDI.keys())), download=True)  # The first time...\n",
    "tickers, prices = get_quandl_edi(list(QUANDL_FREE_SAMPLES_EDI.keys()))"
   ]
  },
  {
   "cell_type": "code",
   "execution_count": null,
   "metadata": {
    "ExecuteTime": {
     "end_time": "2018-07-10T13:46:29.807239Z",
     "start_time": "2018-07-10T13:46:29.718311Z"
    },
    "hidden": true
   },
   "outputs": [],
   "source": [
    "prices"
   ]
  },
  {
   "cell_type": "code",
   "execution_count": null,
   "metadata": {
    "ExecuteTime": {
     "end_time": "2018-07-10T13:46:30.576569Z",
     "start_time": "2018-07-10T13:46:30.517721Z"
    },
    "hidden": true
   },
   "outputs": [],
   "source": [
    "print('Number of price series:', len(tickers))"
   ]
  },
  {
   "cell_type": "code",
   "execution_count": null,
   "metadata": {
    "ExecuteTime": {
     "end_time": "2018-07-10T13:46:32.011125Z",
     "start_time": "2018-07-10T13:46:31.677285Z"
    },
    "hidden": true
   },
   "outputs": [],
   "source": [
    "j = np.random.choice(len(tickers) - 1)\n",
    "ticker_j = list(tickers)[j]\n",
    "print('j:', j, ' - ', ticker_j)\n",
    "price_j = prices.loc[ticker_j]\n",
    "price_j[['Open', 'High', 'Low', 'Close']].plot();"
   ]
  },
  {
   "cell_type": "code",
   "execution_count": null,
   "metadata": {
    "ExecuteTime": {
     "end_time": "2018-07-10T13:46:33.992576Z",
     "start_time": "2018-07-10T13:46:33.925755Z"
    },
    "hidden": true
   },
   "outputs": [],
   "source": [
    "price_j"
   ]
  },
  {
   "cell_type": "markdown",
   "metadata": {
    "hidden": true
   },
   "source": [
    "##  Sharadar Equity Prices\n",
    "\n",
    "One may use [_Sharadar Equity Prices_](https://www.quandl.com/publishers/sharadar) free sample series as follows:"
   ]
  },
  {
   "cell_type": "code",
   "execution_count": null,
   "metadata": {
    "ExecuteTime": {
     "end_time": "2018-07-12T16:17:19.064855Z",
     "start_time": "2018-07-12T16:17:12.836944Z"
    },
    "hidden": true
   },
   "outputs": [],
   "source": [
    "# tickers, prices = get_quandl_sharadar(download=True)  # The first time...\n",
    "tickers, prices = get_quandl_sharadar(free=False)"
   ]
  },
  {
   "cell_type": "code",
   "execution_count": null,
   "metadata": {
    "ExecuteTime": {
     "end_time": "2018-07-12T14:37:27.831637Z",
     "start_time": "2018-07-12T14:37:27.757836Z"
    },
    "hidden": true
   },
   "outputs": [],
   "source": [
    "print('Number of price series:', len(tickers))"
   ]
  },
  {
   "cell_type": "code",
   "execution_count": null,
   "metadata": {
    "ExecuteTime": {
     "end_time": "2018-07-12T14:37:27.931379Z",
     "start_time": "2018-07-12T14:37:27.832635Z"
    },
    "hidden": true
   },
   "outputs": [],
   "source": [
    "prices"
   ]
  },
  {
   "cell_type": "code",
   "execution_count": null,
   "metadata": {
    "ExecuteTime": {
     "end_time": "2018-07-12T14:37:28.514166Z",
     "start_time": "2018-07-12T14:37:27.932375Z"
    },
    "hidden": true
   },
   "outputs": [],
   "source": [
    "j = np.random.choice(len(tickers) - 1)\n",
    "ticker_j = list(tickers)[j]\n",
    "print('j:', j, ' - ', ticker_j)\n",
    "price_j = prices.loc[ticker_j]\n",
    "price_j[['Open', 'High', 'Low', 'Close']].plot()\n",
    "plt.axhline(c='grey')\n",
    "plt.show()"
   ]
  },
  {
   "cell_type": "code",
   "execution_count": null,
   "metadata": {
    "ExecuteTime": {
     "end_time": "2018-07-12T14:37:28.605947Z",
     "start_time": "2018-07-12T14:37:28.516161Z"
    },
    "hidden": true
   },
   "outputs": [],
   "source": [
    "price_j"
   ]
  },
  {
   "cell_type": "markdown",
   "metadata": {
    "heading_collapsed": true,
    "hidden": true
   },
   "source": [
    "### Metadata..."
   ]
  },
  {
   "cell_type": "code",
   "execution_count": null,
   "metadata": {
    "ExecuteTime": {
     "end_time": "2018-07-10T13:51:14.298984Z",
     "start_time": "2018-07-10T13:51:08.643167Z"
    },
    "hidden": true
   },
   "outputs": [],
   "source": [
    "shr_meta = pd.read_csv(QUANDL_PATH + 'Sharadar/SHARADAR-TICKERS.csv')\n",
    "shr_meta.to_excel(QUANDL_PATH + 'Sharadar/SHARADAR-TICKERS.xlsx')\n",
    "shr_meta.keys()"
   ]
  },
  {
   "cell_type": "code",
   "execution_count": null,
   "metadata": {
    "ExecuteTime": {
     "end_time": "2018-07-10T13:51:15.927722Z",
     "start_time": "2018-07-10T13:51:15.755117Z"
    },
    "hidden": true,
    "scrolled": true
   },
   "outputs": [],
   "source": [
    "shr_meta.describe(include=np.object)"
   ]
  },
  {
   "cell_type": "code",
   "execution_count": null,
   "metadata": {
    "ExecuteTime": {
     "end_time": "2018-07-10T13:51:17.110146Z",
     "start_time": "2018-07-10T13:51:17.020309Z"
    },
    "hidden": true
   },
   "outputs": [],
   "source": [
    "shr_meta.groupby('currency').count()"
   ]
  },
  {
   "cell_type": "markdown",
   "metadata": {
    "hidden": true
   },
   "source": [
    "### Train, Dev, Test samples "
   ]
  },
  {
   "cell_type": "code",
   "execution_count": null,
   "metadata": {
    "ExecuteTime": {
     "end_time": "2018-07-12T20:28:50.578348Z",
     "start_time": "2018-07-12T20:28:50.496602Z"
    },
    "hidden": true
   },
   "outputs": [],
   "source": [
    "p_train = 0.7\n",
    "p_dev = 0.15"
   ]
  },
  {
   "cell_type": "code",
   "execution_count": null,
   "metadata": {
    "ExecuteTime": {
     "end_time": "2018-07-12T20:28:18.681830Z",
     "start_time": "2018-07-12T20:28:18.605035Z"
    },
    "hidden": true
   },
   "outputs": [],
   "source": [
    "N = len(tickers)\n",
    "train, dev = round(p_train * N), round(p_dev * N)\n",
    "test = N - train - dev\n",
    "print('N:', N, ', Tain:', train, ', Dev:', dev, ', Test:', test)"
   ]
  },
  {
   "cell_type": "code",
   "execution_count": null,
   "metadata": {
    "ExecuteTime": {
     "end_time": "2018-07-12T16:06:00.095701Z",
     "start_time": "2018-07-12T16:06:00.009084Z"
    },
    "hidden": true
   },
   "outputs": [],
   "source": [
    "np.random.seed(123)\n",
    "tickers_full = list(np.random.permutation(tickers))\n",
    "tickers_train = tickers_full[:train]\n",
    "tickers_dev = tickers_full[train:(train + dev)]\n",
    "tickers_test = tickers_full[-test:]\n",
    "assert len(tickers_train + tickers_dev + tickers_test) == N"
   ]
  },
  {
   "cell_type": "code",
   "execution_count": null,
   "metadata": {
    "ExecuteTime": {
     "end_time": "2018-07-12T16:06:04.168988Z",
     "start_time": "2018-07-12T16:06:04.088207Z"
    },
    "hidden": true
   },
   "outputs": [],
   "source": [
    "tickers_in_train_folder = [f.replace('.feather', '') for f in os.listdir(QUANDL_PATH + 'Sharadar/train/')]\n",
    "set(tickers_train) == set(tickers_in_train_folder)"
   ]
  },
  {
   "cell_type": "code",
   "execution_count": null,
   "metadata": {
    "ExecuteTime": {
     "end_time": "2018-07-10T14:36:16.136545Z",
     "start_time": "2018-07-10T14:13:47.508692Z"
    },
    "hidden": true
   },
   "outputs": [],
   "source": [
    "# # Only run once\n",
    "# for t in tickers_train:\n",
    "#     prices.loc[t].reset_index().to_feather(fname=QUANDL_PATH + 'Sharadar/train/' + t + '.feather')"
   ]
  },
  {
   "cell_type": "code",
   "execution_count": null,
   "metadata": {
    "ExecuteTime": {
     "end_time": "2018-07-10T14:01:50.216327Z",
     "start_time": "2018-07-10T13:56:52.032276Z"
    },
    "hidden": true
   },
   "outputs": [],
   "source": [
    "# # Only run once\n",
    "# for t in tickers_dev:\n",
    "#     prices.loc[t].reset_index().to_feather(fname=QUANDL_PATH + 'Sharadar/dev/' + t + '.feather')"
   ]
  },
  {
   "cell_type": "code",
   "execution_count": null,
   "metadata": {
    "ExecuteTime": {
     "end_time": "2018-07-10T14:08:02.133070Z",
     "start_time": "2018-07-10T14:03:01.575231Z"
    },
    "hidden": true
   },
   "outputs": [],
   "source": [
    "# # Only run once\n",
    "# for t in tickers_test:\n",
    "#     prices.loc[t].reset_index().to_feather(fname=QUANDL_PATH + 'Sharadar/test/' + t + '.feather')"
   ]
  },
  {
   "cell_type": "code",
   "execution_count": null,
   "metadata": {
    "ExecuteTime": {
     "end_time": "2018-07-12T20:16:12.145839Z",
     "start_time": "2018-07-12T16:35:06.827320Z"
    },
    "hidden": true,
    "scrolled": false
   },
   "outputs": [],
   "source": [
    "dir_train = os.listdir(QUANDL_PATH + 'Sharadar/train/')\n",
    "tickers_train = [f.replace('.feather', '') for f in dir_train]\n",
    "train_files = [QUANDL_PATH + 'Sharadar/train/' + f for f in dir_train]\n",
    "prices_train = pd.read_feather(train_files[0]).assign(Ticker=tickers_train[0])\n",
    "\n",
    "for i in tqdm_notebook(range(1, len(tickers_train))):\n",
    "    df_i = pd.read_feather(train_files[i]).assign(Ticker=tickers_train[i])\n",
    "    prices_train = pd.concat((prices_train, df_i), axis=0)"
   ]
  },
  {
   "cell_type": "code",
   "execution_count": null,
   "metadata": {
    "ExecuteTime": {
     "end_time": "2018-07-12T21:15:41.630368Z",
     "start_time": "2018-07-12T21:14:20.859172Z"
    },
    "hidden": true
   },
   "outputs": [],
   "source": [
    "def select_train_dev_test(x, ptr=0.7, pdv=0.15, pts=0.15):\n",
    "    y = ['train'] * int(len(x) * ptr) + ['dev'] * int(len(x) * pdv)\n",
    "    y += ['test'] * (len(x) - len(y))\n",
    "    return(y)\n",
    "\n",
    "prices_train = prices_train.sort_values(['Ticker', 'Date'])\n",
    "prices_train = prices_train.assign(Set=np.nan)\n",
    "prices_train['Set'] = prices_train.groupby(prices_train['Ticker'], sort=False).transform(select_train_dev_test)\n",
    "prices_train = prices_train.reset_index().drop('index', axis=1)\n",
    "prices_train.to_feather(fname=QUANDL_PATH + 'Sharadar/sharadar_train.feather')"
   ]
  },
  {
   "cell_type": "code",
   "execution_count": null,
   "metadata": {
    "ExecuteTime": {
     "end_time": "2018-07-12T21:38:08.244252Z",
     "start_time": "2018-07-12T21:34:11.243339Z"
    },
    "hidden": true,
    "scrolled": true
   },
   "outputs": [],
   "source": [
    "dir_dev = os.listdir(QUANDL_PATH + 'Sharadar/dev/')\n",
    "tickers_dev = [f.replace('.feather', '') for f in dir_dev]\n",
    "dev_files = [QUANDL_PATH + 'Sharadar/dev/' + f for f in dir_dev]\n",
    "prices_dev = pd.read_feather(dev_files[0]).assign(Ticker=tickers_dev[0])\n",
    "\n",
    "for i in tqdm_notebook(range(1, len(tickers_dev))):\n",
    "    df_i = pd.read_feather(dev_files[i]).assign(Ticker=tickers_dev[i])\n",
    "    prices_dev = pd.concat((prices_dev, df_i), axis=0)\n",
    "\n",
    "prices_dev = prices_dev.reset_index().drop('index', axis=1)\n",
    "prices_dev.to_feather(fname=QUANDL_PATH + 'Sharadar/sharadar_dev.feather')"
   ]
  },
  {
   "cell_type": "code",
   "execution_count": null,
   "metadata": {
    "ExecuteTime": {
     "end_time": "2018-07-12T21:43:52.325380Z",
     "start_time": "2018-07-12T21:39:49.885257Z"
    },
    "hidden": true
   },
   "outputs": [],
   "source": [
    "dir_test = os.listdir(QUANDL_PATH + 'Sharadar/test/')\n",
    "tickers_test = [f.replace('.feather', '') for f in dir_test]\n",
    "test_files = [QUANDL_PATH + 'Sharadar/test/' + f for f in dir_test]\n",
    "prices_test = pd.read_feather(test_files[0]).assign(Ticker=tickers_test[0])\n",
    "\n",
    "for i in tqdm_notebook(range(1, len(tickers_test))):\n",
    "    df_i = pd.read_feather(test_files[i]).assign(Ticker=tickers_test[i])\n",
    "    prices_test = pd.concat((prices_test, df_i), axis=0)\n",
    "\n",
    "prices_test = prices_test.reset_index().drop('index', axis=1)\n",
    "prices_test.to_feather(fname=QUANDL_PATH + 'Sharadar/sharadar_test.feather')"
   ]
  },
  {
   "cell_type": "markdown",
   "metadata": {
    "hidden": true
   },
   "source": [
    "### Train, dev, test split within train "
   ]
  },
  {
   "cell_type": "code",
   "execution_count": null,
   "metadata": {
    "ExecuteTime": {
     "end_time": "2018-07-12T22:10:58.533134Z",
     "start_time": "2018-07-12T22:10:38.949144Z"
    },
    "hidden": true
   },
   "outputs": [],
   "source": [
    " t_train, p_train = get_sharadar_train()"
   ]
  },
  {
   "cell_type": "code",
   "execution_count": null,
   "metadata": {
    "ExecuteTime": {
     "end_time": "2018-07-12T22:10:58.935543Z",
     "start_time": "2018-07-12T22:10:58.533134Z"
    },
    "hidden": true
   },
   "outputs": [],
   "source": [
    "ticker = np.random.choice(t_train)\n",
    "price = p_train.loc[ticker]"
   ]
  },
  {
   "cell_type": "code",
   "execution_count": null,
   "metadata": {
    "ExecuteTime": {
     "end_time": "2018-07-12T22:10:59.210292Z",
     "start_time": "2018-07-12T22:10:58.936514Z"
    },
    "hidden": true
   },
   "outputs": [],
   "source": [
    "pal = plt.get_cmap('Paired').colors\n",
    "fig, ax = plt.subplots(figsize=(16, 5))\n",
    "trans = mpl.transforms.blended_transform_factory(ax.transData, ax.transAxes)\n",
    "ax.fill_between(price.index, 0, price.High.max(), where=(price.Set == 'train'), facecolor=pal[0],\n",
    "                        alpha=0.25, transform=trans, label='Train')\n",
    "ax.fill_between(price.index, 0, price.High.max(), where=(price.Set == 'dev'), facecolor=pal[2],\n",
    "                        alpha=0.25, transform=trans, label='Dev')\n",
    "ax.fill_between(price.index, 0, price.High.max(), where=(price.Set == 'test'), facecolor=pal[4],\n",
    "                        alpha=0.25, transform=trans, label='Test')\n",
    "plt.plot(price.Close, label='Close')\n",
    "plt.axhline(0, c='grey')\n",
    "plt.legend()\n",
    "plt.title(ticker)\n",
    "plt.show()"
   ]
  },
  {
   "cell_type": "markdown",
   "metadata": {
    "hidden": true
   },
   "source": [
    "## Cryptocompare\n",
    "TO DO"
   ]
  },
  {
   "cell_type": "markdown",
   "metadata": {
    "hidden": true
   },
   "source": [
    "## Yahoo Finance\n",
    "TO DO"
   ]
  },
  {
   "cell_type": "markdown",
   "metadata": {},
   "source": [
    "# Data Cleaning\n",
    "\n",
    "* Positive Volume.\n",
    "* OHLC: open and close within [low, high].\n",
    "* Positive prices\n",
    "* Non nan."
   ]
  },
  {
   "cell_type": "code",
   "execution_count": 55,
   "metadata": {
    "ExecuteTime": {
     "end_time": "2018-07-20T18:12:23.007098Z",
     "start_time": "2018-07-20T18:11:01.631021Z"
    }
   },
   "outputs": [],
   "source": [
    " tickers, prices = get_sharadar_train()"
   ]
  },
  {
   "cell_type": "code",
   "execution_count": 56,
   "metadata": {
    "ExecuteTime": {
     "end_time": "2018-07-20T18:12:59.884532Z",
     "start_time": "2018-07-20T18:12:23.027211Z"
    }
   },
   "outputs": [],
   "source": [
    "prices.query('Volume > 0', inplace=True)\n",
    "prices = prices.assign(\n",
    "    Low = prices[['Open', 'High', 'Low', 'Close']].apply('min', axis=1),\n",
    "    High = prices[['Open', 'High', 'Low', 'Close']].apply('max', axis=1),\n",
    ")\n",
    "prices.query('High > 0', inplace=True)"
   ]
  },
  {
   "cell_type": "code",
   "execution_count": 57,
   "metadata": {
    "ExecuteTime": {
     "end_time": "2018-07-20T18:13:08.360821Z",
     "start_time": "2018-07-20T18:12:59.894930Z"
    }
   },
   "outputs": [],
   "source": [
    "prices.loc[prices.Open == 0, 'Open'] = prices.loc[prices.Open == 0, 'Close']\n",
    "prices.loc[prices.Close == 0, 'Close'] = prices.loc[prices.Close == 0, 'Open']\n",
    "prices.loc[np.all(prices[['Open', 'Close']] == 0, axis=1), ['Open', 'Close']] = \\\n",
    "    prices.loc[np.all(prices[['Open', 'Close']] == 0, axis=1), ['High', 'High']]\n",
    "prices.loc[prices.Low == 0, 'Low'] = \\\n",
    "    prices.loc[prices.Low == 0, ['Open', 'High', 'Close']].apply('min', axis=1)"
   ]
  },
  {
   "cell_type": "code",
   "execution_count": 66,
   "metadata": {
    "ExecuteTime": {
     "end_time": "2018-07-20T18:16:42.535925Z",
     "start_time": "2018-07-20T18:16:42.483146Z"
    }
   },
   "outputs": [],
   "source": [
    "# plot_prices(prices.loc['WLM'][-500:])\n",
    "# plot_prices(prices.loc['AGHC'][-150:])"
   ]
  },
  {
   "cell_type": "code",
   "execution_count": 67,
   "metadata": {
    "ExecuteTime": {
     "end_time": "2018-07-20T18:19:04.478158Z",
     "start_time": "2018-07-20T18:19:02.786233Z"
    },
    "scrolled": true
   },
   "outputs": [
    {
     "data": {
      "text/html": [
       "<div>\n",
       "<style scoped>\n",
       "    .dataframe tbody tr th:only-of-type {\n",
       "        vertical-align: middle;\n",
       "    }\n",
       "\n",
       "    .dataframe tbody tr th {\n",
       "        vertical-align: top;\n",
       "    }\n",
       "\n",
       "    .dataframe thead th {\n",
       "        text-align: right;\n",
       "    }\n",
       "</style>\n",
       "<table border=\"1\" class=\"dataframe\">\n",
       "  <thead>\n",
       "    <tr style=\"text-align: right;\">\n",
       "      <th></th>\n",
       "      <th></th>\n",
       "      <th>Open</th>\n",
       "      <th>High</th>\n",
       "      <th>Low</th>\n",
       "      <th>Close</th>\n",
       "      <th>Volume</th>\n",
       "      <th>Dividends</th>\n",
       "      <th>Closeunadj</th>\n",
       "      <th>Lastupdated</th>\n",
       "      <th>Set</th>\n",
       "    </tr>\n",
       "    <tr>\n",
       "      <th>Ticker</th>\n",
       "      <th>Date</th>\n",
       "      <th></th>\n",
       "      <th></th>\n",
       "      <th></th>\n",
       "      <th></th>\n",
       "      <th></th>\n",
       "      <th></th>\n",
       "      <th></th>\n",
       "      <th></th>\n",
       "      <th></th>\n",
       "    </tr>\n",
       "  </thead>\n",
       "  <tbody>\n",
       "  </tbody>\n",
       "</table>\n",
       "</div>"
      ],
      "text/plain": [
       "Empty DataFrame\n",
       "Columns: [Open, High, Low, Close, Volume, Dividends, Closeunadj, Lastupdated, Set]\n",
       "Index: []"
      ]
     },
     "execution_count": 67,
     "metadata": {},
     "output_type": "execute_result"
    }
   ],
   "source": [
    "prices.query('Low < 0')"
   ]
  },
  {
   "cell_type": "code",
   "execution_count": null,
   "metadata": {},
   "outputs": [],
   "source": [
    "prices = prices.assign(Open2 = np.nan)"
   ]
  },
  {
   "cell_type": "code",
   "execution_count": 81,
   "metadata": {
    "ExecuteTime": {
     "end_time": "2018-07-20T18:30:08.154727Z",
     "start_time": "2018-07-20T18:30:07.821218Z"
    }
   },
   "outputs": [
    {
     "data": {
      "text/html": [
       "<div>\n",
       "<style scoped>\n",
       "    .dataframe tbody tr th:only-of-type {\n",
       "        vertical-align: middle;\n",
       "    }\n",
       "\n",
       "    .dataframe tbody tr th {\n",
       "        vertical-align: top;\n",
       "    }\n",
       "\n",
       "    .dataframe thead th {\n",
       "        text-align: right;\n",
       "    }\n",
       "</style>\n",
       "<table border=\"1\" class=\"dataframe\">\n",
       "  <thead>\n",
       "    <tr style=\"text-align: right;\">\n",
       "      <th></th>\n",
       "      <th>Open</th>\n",
       "      <th>High</th>\n",
       "      <th>Low</th>\n",
       "      <th>Close</th>\n",
       "      <th>Volume</th>\n",
       "      <th>Dividends</th>\n",
       "      <th>Closeunadj</th>\n",
       "      <th>Lastupdated</th>\n",
       "      <th>Set</th>\n",
       "      <th>Open2</th>\n",
       "    </tr>\n",
       "    <tr>\n",
       "      <th>Date</th>\n",
       "      <th></th>\n",
       "      <th></th>\n",
       "      <th></th>\n",
       "      <th></th>\n",
       "      <th></th>\n",
       "      <th></th>\n",
       "      <th></th>\n",
       "      <th></th>\n",
       "      <th></th>\n",
       "      <th></th>\n",
       "    </tr>\n",
       "  </thead>\n",
       "  <tbody>\n",
       "    <tr>\n",
       "      <th>1999-01-04</th>\n",
       "      <td>NaN</td>\n",
       "      <td>15.000</td>\n",
       "      <td>14.250</td>\n",
       "      <td>14.75</td>\n",
       "      <td>9700.0</td>\n",
       "      <td>0.0</td>\n",
       "      <td>14.75</td>\n",
       "      <td>2018-02-11</td>\n",
       "      <td>train</td>\n",
       "      <td>NaN</td>\n",
       "    </tr>\n",
       "    <tr>\n",
       "      <th>1999-01-05</th>\n",
       "      <td>NaN</td>\n",
       "      <td>14.750</td>\n",
       "      <td>14.500</td>\n",
       "      <td>14.50</td>\n",
       "      <td>10400.0</td>\n",
       "      <td>0.0</td>\n",
       "      <td>14.50</td>\n",
       "      <td>2018-02-11</td>\n",
       "      <td>train</td>\n",
       "      <td>NaN</td>\n",
       "    </tr>\n",
       "    <tr>\n",
       "      <th>1999-01-06</th>\n",
       "      <td>NaN</td>\n",
       "      <td>14.500</td>\n",
       "      <td>14.000</td>\n",
       "      <td>14.00</td>\n",
       "      <td>17000.0</td>\n",
       "      <td>0.0</td>\n",
       "      <td>14.00</td>\n",
       "      <td>2018-02-11</td>\n",
       "      <td>train</td>\n",
       "      <td>NaN</td>\n",
       "    </tr>\n",
       "    <tr>\n",
       "      <th>1999-01-07</th>\n",
       "      <td>NaN</td>\n",
       "      <td>14.250</td>\n",
       "      <td>13.750</td>\n",
       "      <td>14.25</td>\n",
       "      <td>18100.0</td>\n",
       "      <td>0.0</td>\n",
       "      <td>14.25</td>\n",
       "      <td>2018-02-11</td>\n",
       "      <td>train</td>\n",
       "      <td>NaN</td>\n",
       "    </tr>\n",
       "    <tr>\n",
       "      <th>1999-01-08</th>\n",
       "      <td>NaN</td>\n",
       "      <td>14.625</td>\n",
       "      <td>14.125</td>\n",
       "      <td>14.25</td>\n",
       "      <td>17900.0</td>\n",
       "      <td>0.0</td>\n",
       "      <td>14.25</td>\n",
       "      <td>2018-02-11</td>\n",
       "      <td>train</td>\n",
       "      <td>NaN</td>\n",
       "    </tr>\n",
       "    <tr>\n",
       "      <th>...</th>\n",
       "      <td>...</td>\n",
       "      <td>...</td>\n",
       "      <td>...</td>\n",
       "      <td>...</td>\n",
       "      <td>...</td>\n",
       "      <td>...</td>\n",
       "      <td>...</td>\n",
       "      <td>...</td>\n",
       "      <td>...</td>\n",
       "      <td>...</td>\n",
       "    </tr>\n",
       "    <tr>\n",
       "      <th>2006-09-29</th>\n",
       "      <td>29.90</td>\n",
       "      <td>29.920</td>\n",
       "      <td>29.850</td>\n",
       "      <td>29.89</td>\n",
       "      <td>85855.0</td>\n",
       "      <td>0.0</td>\n",
       "      <td>29.89</td>\n",
       "      <td>2017-11-01</td>\n",
       "      <td>test</td>\n",
       "      <td>NaN</td>\n",
       "    </tr>\n",
       "    <tr>\n",
       "      <th>2006-10-02</th>\n",
       "      <td>29.91</td>\n",
       "      <td>29.980</td>\n",
       "      <td>29.890</td>\n",
       "      <td>29.89</td>\n",
       "      <td>143454.0</td>\n",
       "      <td>0.0</td>\n",
       "      <td>29.89</td>\n",
       "      <td>2017-11-01</td>\n",
       "      <td>test</td>\n",
       "      <td>NaN</td>\n",
       "    </tr>\n",
       "    <tr>\n",
       "      <th>2006-10-03</th>\n",
       "      <td>29.90</td>\n",
       "      <td>29.940</td>\n",
       "      <td>29.890</td>\n",
       "      <td>29.91</td>\n",
       "      <td>68500.0</td>\n",
       "      <td>0.0</td>\n",
       "      <td>29.91</td>\n",
       "      <td>2017-11-01</td>\n",
       "      <td>test</td>\n",
       "      <td>NaN</td>\n",
       "    </tr>\n",
       "    <tr>\n",
       "      <th>2006-10-04</th>\n",
       "      <td>29.92</td>\n",
       "      <td>30.010</td>\n",
       "      <td>29.900</td>\n",
       "      <td>29.98</td>\n",
       "      <td>29119.0</td>\n",
       "      <td>0.0</td>\n",
       "      <td>29.98</td>\n",
       "      <td>2017-11-01</td>\n",
       "      <td>test</td>\n",
       "      <td>NaN</td>\n",
       "    </tr>\n",
       "    <tr>\n",
       "      <th>2006-10-05</th>\n",
       "      <td>29.89</td>\n",
       "      <td>30.020</td>\n",
       "      <td>29.890</td>\n",
       "      <td>29.99</td>\n",
       "      <td>151087.0</td>\n",
       "      <td>0.0</td>\n",
       "      <td>29.99</td>\n",
       "      <td>2017-11-01</td>\n",
       "      <td>test</td>\n",
       "      <td>NaN</td>\n",
       "    </tr>\n",
       "  </tbody>\n",
       "</table>\n",
       "<p>1938 rows × 10 columns</p>\n",
       "</div>"
      ],
      "text/plain": [
       "             Open    High     Low  Close    Volume  Dividends  Closeunadj  \\\n",
       "Date                                                                        \n",
       "1999-01-04    NaN  15.000  14.250  14.75    9700.0        0.0       14.75   \n",
       "1999-01-05    NaN  14.750  14.500  14.50   10400.0        0.0       14.50   \n",
       "1999-01-06    NaN  14.500  14.000  14.00   17000.0        0.0       14.00   \n",
       "1999-01-07    NaN  14.250  13.750  14.25   18100.0        0.0       14.25   \n",
       "1999-01-08    NaN  14.625  14.125  14.25   17900.0        0.0       14.25   \n",
       "...           ...     ...     ...    ...       ...        ...         ...   \n",
       "2006-09-29  29.90  29.920  29.850  29.89   85855.0        0.0       29.89   \n",
       "2006-10-02  29.91  29.980  29.890  29.89  143454.0        0.0       29.89   \n",
       "2006-10-03  29.90  29.940  29.890  29.91   68500.0        0.0       29.91   \n",
       "2006-10-04  29.92  30.010  29.900  29.98   29119.0        0.0       29.98   \n",
       "2006-10-05  29.89  30.020  29.890  29.99  151087.0        0.0       29.99   \n",
       "\n",
       "           Lastupdated    Set  Open2  \n",
       "Date                                  \n",
       "1999-01-04  2018-02-11  train    NaN  \n",
       "1999-01-05  2018-02-11  train    NaN  \n",
       "1999-01-06  2018-02-11  train    NaN  \n",
       "1999-01-07  2018-02-11  train    NaN  \n",
       "1999-01-08  2018-02-11  train    NaN  \n",
       "...                ...    ...    ...  \n",
       "2006-09-29  2017-11-01   test    NaN  \n",
       "2006-10-02  2017-11-01   test    NaN  \n",
       "2006-10-03  2017-11-01   test    NaN  \n",
       "2006-10-04  2017-11-01   test    NaN  \n",
       "2006-10-05  2017-11-01   test    NaN  \n",
       "\n",
       "[1938 rows x 10 columns]"
      ]
     },
     "execution_count": 81,
     "metadata": {},
     "output_type": "execute_result"
    }
   ],
   "source": [
    "t = 'AACE'\n",
    "\n",
    "open2_t = prices.loc[t, 'Close'].shift(1).fillna(method='bfill')\n",
    "prices.loc[t, 'Open']\n",
    "prices.loc[t]"
   ]
  },
  {
   "cell_type": "code",
   "execution_count": null,
   "metadata": {},
   "outputs": [],
   "source": []
  },
  {
   "cell_type": "markdown",
   "metadata": {},
   "source": [
    "## Data Transforms\n",
    "\n",
    "* Weekly and monthly OHLC prices.\n",
    "* Zero volume days.\n",
    "* Returns.\n",
    "* Technical Indicators (volatility, skewness, etc.)"
   ]
  },
  {
   "cell_type": "code",
   "execution_count": null,
   "metadata": {
    "ExecuteTime": {
     "end_time": "2018-07-09T23:59:22.921808Z",
     "start_time": "2018-07-09T23:59:22.844015Z"
    }
   },
   "outputs": [],
   "source": [
    "weekly_j = daily_to_weekly_prices(price_j)"
   ]
  },
  {
   "cell_type": "code",
   "execution_count": null,
   "metadata": {
    "ExecuteTime": {
     "end_time": "2018-07-09T23:59:23.686286Z",
     "start_time": "2018-07-09T23:59:23.467638Z"
    }
   },
   "outputs": [],
   "source": [
    "weekly_j[['Open', 'High', 'Low', 'Close']].plot();"
   ]
  },
  {
   "cell_type": "code",
   "execution_count": null,
   "metadata": {},
   "outputs": [],
   "source": []
  }
 ],
 "metadata": {
  "kernelspec": {
   "display_name": "Python 3",
   "language": "python",
   "name": "python3"
  },
  "language_info": {
   "codemirror_mode": {
    "name": "ipython",
    "version": 3
   },
   "file_extension": ".py",
   "mimetype": "text/x-python",
   "name": "python",
   "nbconvert_exporter": "python",
   "pygments_lexer": "ipython3",
   "version": "3.6.5"
  },
  "toc": {
   "base_numbering": 1,
   "nav_menu": {},
   "number_sections": true,
   "sideBar": true,
   "skip_h1_title": false,
   "title_cell": "Table of Contents",
   "title_sidebar": "Contents",
   "toc_cell": false,
   "toc_position": {},
   "toc_section_display": true,
   "toc_window_display": false
  }
 },
 "nbformat": 4,
 "nbformat_minor": 2
}
