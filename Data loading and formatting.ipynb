{
 "cells": [
  {
   "cell_type": "markdown",
   "metadata": {},
   "source": [
    "In this notebook, useful data loading and transforming functions are demonstrated.  The main sources of data are Quandl, Cryptocompare and Yahoo Finance."
   ]
  },
  {
   "cell_type": "code",
   "execution_count": 1,
   "metadata": {
    "ExecuteTime": {
     "end_time": "2018-07-12T16:25:33.278158Z",
     "start_time": "2018-07-12T16:25:33.014688Z"
    }
   },
   "outputs": [],
   "source": [
    "# Put these at the top of every notebook, to get automatic reloading and inline plotting\n",
    "%reload_ext autoreload\n",
    "%autoreload 2\n",
    "%matplotlib inline"
   ]
  },
  {
   "cell_type": "code",
   "execution_count": 80,
   "metadata": {
    "ExecuteTime": {
     "end_time": "2018-07-12T21:39:38.090560Z",
     "start_time": "2018-07-12T21:39:38.013816Z"
    }
   },
   "outputs": [],
   "source": [
    "import os\n",
    "import re\n",
    "import pickle\n",
    "import itertools\n",
    "from tqdm import tqdm, tqdm_notebook\n",
    "from datetime import datetime\n",
    "import numpy as np\n",
    "import pandas as pd\n",
    "from pandas import Series, DataFrame\n",
    "pd.set_option('display.max_rows', 10)\n",
    "import matplotlib as mpl\n",
    "from matplotlib import pyplot as plt\n",
    "import matplotlib.transforms as mtransforms\n",
    "plt.rcParams['figure.figsize'] = [12, 4]\n",
    "\n",
    "import quandl"
   ]
  },
  {
   "cell_type": "code",
   "execution_count": 88,
   "metadata": {
    "ExecuteTime": {
     "end_time": "2018-07-12T22:04:12.932079Z",
     "start_time": "2018-07-12T22:04:12.815742Z"
    }
   },
   "outputs": [],
   "source": [
    "from utils import *"
   ]
  },
  {
   "cell_type": "markdown",
   "metadata": {},
   "source": [
    "# Quandl"
   ]
  },
  {
   "cell_type": "code",
   "execution_count": 4,
   "metadata": {
    "ExecuteTime": {
     "end_time": "2018-07-12T16:25:35.583888Z",
     "start_time": "2018-07-12T16:25:35.518058Z"
    }
   },
   "outputs": [],
   "source": [
    "api_key = open(file='quandl_api').read().replace('\\n', '')\n",
    "quandl.ApiConfig.api_key = api_key"
   ]
  },
  {
   "cell_type": "markdown",
   "metadata": {
    "heading_collapsed": true
   },
   "source": [
    "## Exchange Data International\n",
    "\n",
    "One may use [_Exchange Data International_](https://www.quandl.com/publishers/edi) free sample series as follows:"
   ]
  },
  {
   "cell_type": "code",
   "execution_count": null,
   "metadata": {
    "ExecuteTime": {
     "end_time": "2018-07-12T16:16:49.852538Z",
     "start_time": "2018-07-12T16:16:49.776735Z"
    },
    "hidden": true
   },
   "outputs": [],
   "source": [
    "print(os.listdir(QUANDL_PATH + 'EDI/'))"
   ]
  },
  {
   "cell_type": "code",
   "execution_count": null,
   "metadata": {
    "ExecuteTime": {
     "end_time": "2018-07-12T16:16:54.868445Z",
     "start_time": "2018-07-12T16:16:50.384979Z"
    },
    "hidden": true
   },
   "outputs": [],
   "source": [
    "# tickers, prices = get_quandl_edi(get_quandl_edi(list(QUANDL_FREE_SAMPLES_EDI.keys())), download=True)  # The first time...\n",
    "tickers, prices = get_quandl_edi(list(QUANDL_FREE_SAMPLES_EDI.keys()))"
   ]
  },
  {
   "cell_type": "code",
   "execution_count": null,
   "metadata": {
    "ExecuteTime": {
     "end_time": "2018-07-10T13:46:29.807239Z",
     "start_time": "2018-07-10T13:46:29.718311Z"
    },
    "hidden": true
   },
   "outputs": [],
   "source": [
    "prices"
   ]
  },
  {
   "cell_type": "code",
   "execution_count": null,
   "metadata": {
    "ExecuteTime": {
     "end_time": "2018-07-10T13:46:30.576569Z",
     "start_time": "2018-07-10T13:46:30.517721Z"
    },
    "hidden": true
   },
   "outputs": [],
   "source": [
    "print('Number of price series:', len(tickers))"
   ]
  },
  {
   "cell_type": "code",
   "execution_count": null,
   "metadata": {
    "ExecuteTime": {
     "end_time": "2018-07-10T13:46:32.011125Z",
     "start_time": "2018-07-10T13:46:31.677285Z"
    },
    "hidden": true
   },
   "outputs": [],
   "source": [
    "j = np.random.choice(len(tickers) - 1)\n",
    "ticker_j = list(tickers)[j]\n",
    "print('j:', j, ' - ', ticker_j)\n",
    "price_j = prices.loc[ticker_j]\n",
    "price_j[['Open', 'High', 'Low', 'Close']].plot();"
   ]
  },
  {
   "cell_type": "code",
   "execution_count": null,
   "metadata": {
    "ExecuteTime": {
     "end_time": "2018-07-10T13:46:33.992576Z",
     "start_time": "2018-07-10T13:46:33.925755Z"
    },
    "hidden": true
   },
   "outputs": [],
   "source": [
    "price_j"
   ]
  },
  {
   "cell_type": "markdown",
   "metadata": {},
   "source": [
    "##  Sharadar Equity Prices\n",
    "\n",
    "One may use [_Sharadar Equity Prices_](https://www.quandl.com/publishers/sharadar) free sample series as follows:"
   ]
  },
  {
   "cell_type": "code",
   "execution_count": null,
   "metadata": {
    "ExecuteTime": {
     "end_time": "2018-07-12T16:17:19.064855Z",
     "start_time": "2018-07-12T16:17:12.836944Z"
    }
   },
   "outputs": [],
   "source": [
    "# tickers, prices = get_quandl_sharadar(download=True)  # The first time...\n",
    "tickers, prices = get_quandl_sharadar(free=False)"
   ]
  },
  {
   "cell_type": "code",
   "execution_count": null,
   "metadata": {
    "ExecuteTime": {
     "end_time": "2018-07-12T14:37:27.831637Z",
     "start_time": "2018-07-12T14:37:27.757836Z"
    }
   },
   "outputs": [],
   "source": [
    "print('Number of price series:', len(tickers))"
   ]
  },
  {
   "cell_type": "code",
   "execution_count": null,
   "metadata": {
    "ExecuteTime": {
     "end_time": "2018-07-12T14:37:27.931379Z",
     "start_time": "2018-07-12T14:37:27.832635Z"
    }
   },
   "outputs": [],
   "source": [
    "prices"
   ]
  },
  {
   "cell_type": "code",
   "execution_count": null,
   "metadata": {
    "ExecuteTime": {
     "end_time": "2018-07-12T14:37:28.514166Z",
     "start_time": "2018-07-12T14:37:27.932375Z"
    }
   },
   "outputs": [],
   "source": [
    "j = np.random.choice(len(tickers) - 1)\n",
    "ticker_j = list(tickers)[j]\n",
    "print('j:', j, ' - ', ticker_j)\n",
    "price_j = prices.loc[ticker_j]\n",
    "price_j[['Open', 'High', 'Low', 'Close']].plot()\n",
    "plt.axhline(c='grey')\n",
    "plt.show()"
   ]
  },
  {
   "cell_type": "code",
   "execution_count": null,
   "metadata": {
    "ExecuteTime": {
     "end_time": "2018-07-12T14:37:28.605947Z",
     "start_time": "2018-07-12T14:37:28.516161Z"
    }
   },
   "outputs": [],
   "source": [
    "price_j"
   ]
  },
  {
   "cell_type": "markdown",
   "metadata": {
    "heading_collapsed": true
   },
   "source": [
    "### Metadata..."
   ]
  },
  {
   "cell_type": "code",
   "execution_count": null,
   "metadata": {
    "ExecuteTime": {
     "end_time": "2018-07-10T13:51:14.298984Z",
     "start_time": "2018-07-10T13:51:08.643167Z"
    },
    "hidden": true
   },
   "outputs": [],
   "source": [
    "shr_meta = pd.read_csv(QUANDL_PATH + 'Sharadar/SHARADAR-TICKERS.csv')\n",
    "shr_meta.to_excel(QUANDL_PATH + 'Sharadar/SHARADAR-TICKERS.xlsx')\n",
    "shr_meta.keys()"
   ]
  },
  {
   "cell_type": "code",
   "execution_count": null,
   "metadata": {
    "ExecuteTime": {
     "end_time": "2018-07-10T13:51:15.927722Z",
     "start_time": "2018-07-10T13:51:15.755117Z"
    },
    "hidden": true,
    "scrolled": true
   },
   "outputs": [],
   "source": [
    "shr_meta.describe(include=np.object)"
   ]
  },
  {
   "cell_type": "code",
   "execution_count": null,
   "metadata": {
    "ExecuteTime": {
     "end_time": "2018-07-10T13:51:17.110146Z",
     "start_time": "2018-07-10T13:51:17.020309Z"
    },
    "hidden": true
   },
   "outputs": [],
   "source": [
    "shr_meta.groupby('currency').count()"
   ]
  },
  {
   "cell_type": "markdown",
   "metadata": {},
   "source": [
    "### Train, Dev, Test samples "
   ]
  },
  {
   "cell_type": "code",
   "execution_count": 11,
   "metadata": {
    "ExecuteTime": {
     "end_time": "2018-07-12T20:28:50.578348Z",
     "start_time": "2018-07-12T20:28:50.496602Z"
    }
   },
   "outputs": [],
   "source": [
    "p_train = 0.7\n",
    "p_dev = 0.15"
   ]
  },
  {
   "cell_type": "code",
   "execution_count": 10,
   "metadata": {
    "ExecuteTime": {
     "end_time": "2018-07-12T20:28:18.681830Z",
     "start_time": "2018-07-12T20:28:18.605035Z"
    },
    "collapsed": true
   },
   "outputs": [
    {
     "ename": "NameError",
     "evalue": "name 'tickers' is not defined",
     "output_type": "error",
     "traceback": [
      "\u001b[1;31m---------------------------------------------------------------------------\u001b[0m",
      "\u001b[1;31mNameError\u001b[0m                                 Traceback (most recent call last)",
      "\u001b[1;32m<ipython-input-10-bc1691980012>\u001b[0m in \u001b[0;36m<module>\u001b[1;34m()\u001b[0m\n\u001b[1;32m----> 1\u001b[1;33m \u001b[0mN\u001b[0m \u001b[1;33m=\u001b[0m \u001b[0mlen\u001b[0m\u001b[1;33m(\u001b[0m\u001b[0mtickers\u001b[0m\u001b[1;33m)\u001b[0m\u001b[1;33m\u001b[0m\u001b[0m\n\u001b[0m\u001b[0;32m      2\u001b[0m \u001b[0mtrain\u001b[0m\u001b[1;33m,\u001b[0m \u001b[0mdev\u001b[0m \u001b[1;33m=\u001b[0m \u001b[0mround\u001b[0m\u001b[1;33m(\u001b[0m\u001b[1;36m0.7\u001b[0m \u001b[1;33m*\u001b[0m \u001b[0mN\u001b[0m\u001b[1;33m)\u001b[0m\u001b[1;33m,\u001b[0m \u001b[0mround\u001b[0m\u001b[1;33m(\u001b[0m\u001b[1;36m0.15\u001b[0m \u001b[1;33m*\u001b[0m \u001b[0mN\u001b[0m\u001b[1;33m)\u001b[0m\u001b[1;33m\u001b[0m\u001b[0m\n\u001b[0;32m      3\u001b[0m \u001b[0mtest\u001b[0m \u001b[1;33m=\u001b[0m \u001b[0mN\u001b[0m \u001b[1;33m-\u001b[0m \u001b[0mtrain\u001b[0m \u001b[1;33m-\u001b[0m \u001b[0mdev\u001b[0m\u001b[1;33m\u001b[0m\u001b[0m\n\u001b[0;32m      4\u001b[0m \u001b[0mprint\u001b[0m\u001b[1;33m(\u001b[0m\u001b[1;34m'N:'\u001b[0m\u001b[1;33m,\u001b[0m \u001b[0mN\u001b[0m\u001b[1;33m,\u001b[0m \u001b[1;34m', Tain:'\u001b[0m\u001b[1;33m,\u001b[0m \u001b[0mtrain\u001b[0m\u001b[1;33m,\u001b[0m \u001b[1;34m', Dev:'\u001b[0m\u001b[1;33m,\u001b[0m \u001b[0mdev\u001b[0m\u001b[1;33m,\u001b[0m \u001b[1;34m', Test:'\u001b[0m\u001b[1;33m,\u001b[0m \u001b[0mtest\u001b[0m\u001b[1;33m)\u001b[0m\u001b[1;33m\u001b[0m\u001b[0m\n",
      "\u001b[1;31mNameError\u001b[0m: name 'tickers' is not defined"
     ]
    }
   ],
   "source": [
    "N = len(tickers)\n",
    "train, dev = round(p_train * N), round(p_dev * N)\n",
    "test = N - train - dev\n",
    "print('N:', N, ', Tain:', train, ', Dev:', dev, ', Test:', test)"
   ]
  },
  {
   "cell_type": "code",
   "execution_count": null,
   "metadata": {
    "ExecuteTime": {
     "end_time": "2018-07-12T16:06:00.095701Z",
     "start_time": "2018-07-12T16:06:00.009084Z"
    }
   },
   "outputs": [],
   "source": [
    "np.random.seed(123)\n",
    "tickers_full = list(np.random.permutation(tickers))\n",
    "tickers_train = tickers_full[:train]\n",
    "tickers_dev = tickers_full[train:(train + dev)]\n",
    "tickers_test = tickers_full[-test:]\n",
    "assert len(tickers_train + tickers_dev + tickers_test) == N"
   ]
  },
  {
   "cell_type": "code",
   "execution_count": null,
   "metadata": {
    "ExecuteTime": {
     "end_time": "2018-07-12T16:06:04.168988Z",
     "start_time": "2018-07-12T16:06:04.088207Z"
    }
   },
   "outputs": [],
   "source": [
    "tickers_in_train_folder = [f.replace('.feather', '') for f in os.listdir(QUANDL_PATH + 'Sharadar/train/')]\n",
    "set(tickers_train) == set(tickers_in_train_folder)"
   ]
  },
  {
   "cell_type": "code",
   "execution_count": null,
   "metadata": {
    "ExecuteTime": {
     "end_time": "2018-07-10T14:36:16.136545Z",
     "start_time": "2018-07-10T14:13:47.508692Z"
    }
   },
   "outputs": [],
   "source": [
    "# # Only run once\n",
    "# for t in tickers_train:\n",
    "#     prices.loc[t].reset_index().to_feather(fname=QUANDL_PATH + 'Sharadar/train/' + t + '.feather')"
   ]
  },
  {
   "cell_type": "code",
   "execution_count": null,
   "metadata": {
    "ExecuteTime": {
     "end_time": "2018-07-10T14:01:50.216327Z",
     "start_time": "2018-07-10T13:56:52.032276Z"
    }
   },
   "outputs": [],
   "source": [
    "# # Only run once\n",
    "# for t in tickers_dev:\n",
    "#     prices.loc[t].reset_index().to_feather(fname=QUANDL_PATH + 'Sharadar/dev/' + t + '.feather')"
   ]
  },
  {
   "cell_type": "code",
   "execution_count": null,
   "metadata": {
    "ExecuteTime": {
     "end_time": "2018-07-10T14:08:02.133070Z",
     "start_time": "2018-07-10T14:03:01.575231Z"
    }
   },
   "outputs": [],
   "source": [
    "# # Only run once\n",
    "# for t in tickers_test:\n",
    "#     prices.loc[t].reset_index().to_feather(fname=QUANDL_PATH + 'Sharadar/test/' + t + '.feather')"
   ]
  },
  {
   "cell_type": "code",
   "execution_count": null,
   "metadata": {
    "ExecuteTime": {
     "end_time": "2018-07-12T20:16:12.145839Z",
     "start_time": "2018-07-12T16:35:06.827320Z"
    },
    "scrolled": false
   },
   "outputs": [],
   "source": [
    "dir_train = os.listdir(QUANDL_PATH + 'Sharadar/train/')\n",
    "tickers_train = [f.replace('.feather', '') for f in dir_train]\n",
    "train_files = [QUANDL_PATH + 'Sharadar/train/' + f for f in dir_train]\n",
    "prices_train = pd.read_feather(train_files[0]).assign(Ticker=tickers_train[0])\n",
    "\n",
    "for i in tqdm_notebook(range(1, len(tickers_train))):\n",
    "    df_i = pd.read_feather(train_files[i]).assign(Ticker=tickers_train[i])\n",
    "    prices_train = pd.concat((prices_train, df_i), axis=0)"
   ]
  },
  {
   "cell_type": "code",
   "execution_count": 54,
   "metadata": {
    "ExecuteTime": {
     "end_time": "2018-07-12T21:15:41.630368Z",
     "start_time": "2018-07-12T21:14:20.859172Z"
    }
   },
   "outputs": [],
   "source": [
    "def select_train_dev_test(x, ptr=0.7, pdv=0.15, pts=0.15):\n",
    "    y = ['train'] * int(len(x) * ptr) + ['dev'] * int(len(x) * pdv)\n",
    "    y += ['test'] * (len(x) - len(y))\n",
    "    return(y)\n",
    "\n",
    "prices_train = prices_train.sort_values(['Ticker', 'Date'])\n",
    "prices_train = prices_train.assign(Set=np.nan)\n",
    "prices_train['Set'] = prices_train.groupby(prices_train['Ticker'], sort=False).transform(select_train_dev_test)\n",
    "prices_train.reset_index().drop('index', axis=1).to_feather(fname=QUANDL_PATH + 'Sharadar/sharadar_train.feather')"
   ]
  },
  {
   "cell_type": "code",
   "execution_count": null,
   "metadata": {
    "ExecuteTime": {
     "end_time": "2018-07-12T21:38:08.244252Z",
     "start_time": "2018-07-12T21:34:11.243339Z"
    },
    "scrolled": true
   },
   "outputs": [],
   "source": [
    "dir_dev = os.listdir(QUANDL_PATH + 'Sharadar/dev/')\n",
    "tickers_dev = [f.replace('.feather', '') for f in dir_dev]\n",
    "dev_files = [QUANDL_PATH + 'Sharadar/dev/' + f for f in dir_dev]\n",
    "prices_dev = pd.read_feather(dev_files[0]).assign(Ticker=tickers_dev[0])\n",
    "\n",
    "for i in tqdm_notebook(range(1, len(tickers_dev))):\n",
    "    df_i = pd.read_feather(dev_files[i]).assign(Ticker=tickers_dev[i])\n",
    "    prices_dev = pd.concat((prices_dev, df_i), axis=0)\n",
    "\n",
    "prices_dev.reset_index().drop('index', axis=1).to_feather(fname=QUANDL_PATH + 'Sharadar/sharadar_dev.feather')"
   ]
  },
  {
   "cell_type": "code",
   "execution_count": 81,
   "metadata": {
    "ExecuteTime": {
     "end_time": "2018-07-12T21:43:52.325380Z",
     "start_time": "2018-07-12T21:39:49.885257Z"
    },
    "collapsed": true
   },
   "outputs": [
    {
     "data": {
      "application/vnd.jupyter.widget-view+json": {
       "model_id": "baddd9fac4b04e0f956a38635638604e",
       "version_major": 2,
       "version_minor": 0
      },
      "text/plain": [
       "HBox(children=(IntProgress(value=0, max=1929), HTML(value='')))"
      ]
     },
     "metadata": {},
     "output_type": "display_data"
    },
    {
     "name": "stderr",
     "output_type": "stream",
     "text": [
      "\n",
      "\n",
      "Exception ignored in: <bound method tqdm.__del__ of  10%|███████▉                                                                     | 198/1930 [09:47<1:25:37,  2.97s/it]>\n",
      "Traceback (most recent call last):\n",
      "  File \"C:\\Users\\REUTERS\\AppData\\Local\\conda\\conda\\envs\\trend\\lib\\site-packages\\tqdm\\_tqdm.py\", line 882, in __del__\n",
      "    self.close()\n",
      "  File \"C:\\Users\\REUTERS\\AppData\\Local\\conda\\conda\\envs\\trend\\lib\\site-packages\\tqdm\\_tqdm.py\", line 1087, in close\n",
      "    self._decr_instances(self)\n",
      "  File \"C:\\Users\\REUTERS\\AppData\\Local\\conda\\conda\\envs\\trend\\lib\\site-packages\\tqdm\\_tqdm.py\", line 452, in _decr_instances\n",
      "    cls.monitor.exit()\n",
      "  File \"C:\\Users\\REUTERS\\AppData\\Local\\conda\\conda\\envs\\trend\\lib\\site-packages\\tqdm\\_monitor.py\", line 50, in exit\n",
      "    self.join()\n",
      "  File \"C:\\Users\\REUTERS\\AppData\\Local\\conda\\conda\\envs\\trend\\lib\\threading.py\", line 1053, in join\n",
      "    raise RuntimeError(\"cannot join current thread\")\n",
      "RuntimeError: cannot join current thread\n"
     ]
    },
    {
     "name": "stdout",
     "output_type": "stream",
     "text": [
      "\n"
     ]
    }
   ],
   "source": [
    "dir_test = os.listdir(QUANDL_PATH + 'Sharadar/test/')\n",
    "tickers_test = [f.replace('.feather', '') for f in dir_test]\n",
    "test_files = [QUANDL_PATH + 'Sharadar/test/' + f for f in dir_test]\n",
    "prices_test = pd.read_feather(test_files[0]).assign(Ticker=tickers_test[0])\n",
    "\n",
    "for i in tqdm_notebook(range(1, len(tickers_test))):\n",
    "    df_i = pd.read_feather(test_files[i]).assign(Ticker=tickers_test[i])\n",
    "    prices_test = pd.concat((prices_test, df_i), axis=0)\n",
    "\n",
    "prices_test.reset_index().drop('index', axis=1).to_feather(fname=QUANDL_PATH + 'Sharadar/sharadar_test.feather')"
   ]
  },
  {
   "cell_type": "markdown",
   "metadata": {},
   "source": [
    "### Train, dev, test split within train "
   ]
  },
  {
   "cell_type": "code",
   "execution_count": 101,
   "metadata": {
    "ExecuteTime": {
     "end_time": "2018-07-12T22:10:58.533134Z",
     "start_time": "2018-07-12T22:10:38.949144Z"
    }
   },
   "outputs": [],
   "source": [
    " t_train, p_train = get_sharadar_train()"
   ]
  },
  {
   "cell_type": "code",
   "execution_count": 102,
   "metadata": {
    "ExecuteTime": {
     "end_time": "2018-07-12T22:10:58.935543Z",
     "start_time": "2018-07-12T22:10:58.533134Z"
    }
   },
   "outputs": [],
   "source": [
    "ticker = np.random.choice(t_train)\n",
    "price = p_train.loc[ticker]"
   ]
  },
  {
   "cell_type": "code",
   "execution_count": 103,
   "metadata": {
    "ExecuteTime": {
     "end_time": "2018-07-12T22:10:59.210292Z",
     "start_time": "2018-07-12T22:10:58.936514Z"
    }
   },
   "outputs": [
    {
     "data": {
      "image/png": "[encoded data removed]",
      "text/plain": [
       "<Figure size 1152x360 with 1 Axes>"
      ]
     },
     "metadata": {},
     "output_type": "display_data"
    }
   ],
   "source": [
    "pal = plt.get_cmap('Paired').colors\n",
    "fig, ax = plt.subplots(figsize=(16, 5))\n",
    "trans = mpl.transforms.blended_transform_factory(ax.transData, ax.transAxes)\n",
    "ax.fill_between(price.index, 0, price.High.max(), where=(price.Set == 'train'), facecolor=pal[0],\n",
    "                        alpha=0.25, transform=trans, label='Train')\n",
    "ax.fill_between(price.index, 0, price.High.max(), where=(price.Set == 'dev'), facecolor=pal[2],\n",
    "                        alpha=0.25, transform=trans, label='Dev')\n",
    "ax.fill_between(price.index, 0, price.High.max(), where=(price.Set == 'test'), facecolor=pal[4],\n",
    "                        alpha=0.25, transform=trans, label='Test')\n",
    "plt.plot(price.Close, label='Close')\n",
    "plt.axhline(0, c='grey')\n",
    "plt.legend()\n",
    "plt.title(ticker)\n",
    "plt.show()"
   ]
  },
  {
   "cell_type": "markdown",
   "metadata": {},
   "source": [
    "## Cryptocompare\n",
    "TO DO"
   ]
  },
  {
   "cell_type": "markdown",
   "metadata": {},
   "source": [
    "## Yahoo Finance\n",
    "TO DO"
   ]
  },
  {
   "cell_type": "markdown",
   "metadata": {},
   "source": [
    "# Data Cleaning\n",
    "\n",
    "* OHLC: open and close within [low, high]."
   ]
  },
  {
   "cell_type": "markdown",
   "metadata": {},
   "source": [
    "## Data Transforms\n",
    "\n",
    "* Weekly and monthly OHLC prices.\n",
    "* Zero volume days.\n",
    "* Returns.\n",
    "* Technical Indicators (volatility, skewness, etc.)"
   ]
  },
  {
   "cell_type": "code",
   "execution_count": null,
   "metadata": {
    "ExecuteTime": {
     "end_time": "2018-07-09T23:59:22.921808Z",
     "start_time": "2018-07-09T23:59:22.844015Z"
    }
   },
   "outputs": [],
   "source": [
    "weekly_j = daily_to_weekly_prices(price_j)"
   ]
  },
  {
   "cell_type": "code",
   "execution_count": null,
   "metadata": {
    "ExecuteTime": {
     "end_time": "2018-07-09T23:59:23.686286Z",
     "start_time": "2018-07-09T23:59:23.467638Z"
    }
   },
   "outputs": [],
   "source": [
    "weekly_j[['Open', 'High', 'Low', 'Close']].plot();"
   ]
  },
  {
   "cell_type": "code",
   "execution_count": null,
   "metadata": {},
   "outputs": [],
   "source": []
  }
 ],
 "metadata": {
  "kernelspec": {
   "display_name": "Python 3",
   "language": "python",
   "name": "python3"
  },
  "language_info": {
   "codemirror_mode": {
    "name": "ipython",
    "version": 3
   },
   "file_extension": ".py",
   "mimetype": "text/x-python",
   "name": "python",
   "nbconvert_exporter": "python",
   "pygments_lexer": "ipython3",
   "version": "3.6.5"
  },
  "toc": {
   "base_numbering": 1,
   "nav_menu": {},
   "number_sections": true,
   "sideBar": true,
   "skip_h1_title": false,
   "title_cell": "Table of Contents",
   "title_sidebar": "Contents",
   "toc_cell": false,
   "toc_position": {},
   "toc_section_display": true,
   "toc_window_display": false
  }
 },
 "nbformat": 4,
 "nbformat_minor": 2
}
