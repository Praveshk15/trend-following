{
 "cells": [
  {
   "cell_type": "markdown",
   "metadata": {},
   "source": [
    "In this notebook, useful data loading and transforming functions are demonstrated.  The main sources of data are Quandl, Cryptocompare and Yahoo Finance."
   ]
  },
  {
   "cell_type": "code",
   "execution_count": 1,
   "metadata": {
    "ExecuteTime": {
     "end_time": "2018-08-04T14:41:39.622472Z",
     "start_time": "2018-08-04T14:41:38.986897Z"
    }
   },
   "outputs": [],
   "source": [
    "# Put these at the top of every notebook, to get automatic reloading and inline plotting\n",
    "%reload_ext autoreload\n",
    "%autoreload 2\n",
    "%matplotlib inline"
   ]
  },
  {
   "cell_type": "code",
   "execution_count": 8,
   "metadata": {
    "ExecuteTime": {
     "end_time": "2018-08-04T14:47:27.160729Z",
     "start_time": "2018-08-04T14:47:27.121797Z"
    }
   },
   "outputs": [],
   "source": [
    "import os\n",
    "import re\n",
    "import dill as pickle\n",
    "import itertools\n",
    "from tqdm import tqdm, tqdm_notebook\n",
    "from datetime import datetime\n",
    "import numpy as np\n",
    "import pandas as pd\n",
    "from pandas import Series, DataFrame\n",
    "pd.set_option('display.max_rows', 6)\n",
    "import matplotlib as mpl\n",
    "from matplotlib import pyplot as plt\n",
    "import matplotlib.transforms as mtransforms\n",
    "plt.rcParams['figure.figsize'] = [12, 4]\n",
    "\n",
    "import quandl"
   ]
  },
  {
   "cell_type": "code",
   "execution_count": 52,
   "metadata": {
    "ExecuteTime": {
     "end_time": "2018-08-04T15:29:12.706669Z",
     "start_time": "2018-08-04T15:29:12.651615Z"
    }
   },
   "outputs": [],
   "source": [
    "from utils import *"
   ]
  },
  {
   "cell_type": "markdown",
   "metadata": {
    "heading_collapsed": true
   },
   "source": [
    "# Quandl"
   ]
  },
  {
   "cell_type": "code",
   "execution_count": null,
   "metadata": {
    "ExecuteTime": {
     "end_time": "2018-07-12T16:25:35.583888Z",
     "start_time": "2018-07-12T16:25:35.518058Z"
    },
    "hidden": true
   },
   "outputs": [],
   "source": [
    "api_key = open(file='quandl_api').read().replace('\\n', '')\n",
    "quandl.ApiConfig.api_key = api_key"
   ]
  },
  {
   "cell_type": "markdown",
   "metadata": {
    "heading_collapsed": true,
    "hidden": true
   },
   "source": [
    "## Exchange Data International\n",
    "\n",
    "One may use [_Exchange Data International_](https://www.quandl.com/publishers/edi) free sample series as follows:"
   ]
  },
  {
   "cell_type": "code",
   "execution_count": null,
   "metadata": {
    "ExecuteTime": {
     "end_time": "2018-07-12T16:16:49.852538Z",
     "start_time": "2018-07-12T16:16:49.776735Z"
    },
    "hidden": true
   },
   "outputs": [],
   "source": [
    "print(os.listdir(QUANDL_PATH + 'EDI/'))"
   ]
  },
  {
   "cell_type": "code",
   "execution_count": null,
   "metadata": {
    "ExecuteTime": {
     "end_time": "2018-07-12T16:16:54.868445Z",
     "start_time": "2018-07-12T16:16:50.384979Z"
    },
    "hidden": true
   },
   "outputs": [],
   "source": [
    "# tickers, prices = get_quandl_edi(get_quandl_edi(list(QUANDL_FREE_SAMPLES_EDI.keys())), download=True)  # The first time...\n",
    "tickers, prices = get_quandl_edi(list(QUANDL_FREE_SAMPLES_EDI.keys()))"
   ]
  },
  {
   "cell_type": "code",
   "execution_count": null,
   "metadata": {
    "ExecuteTime": {
     "end_time": "2018-07-10T13:46:29.807239Z",
     "start_time": "2018-07-10T13:46:29.718311Z"
    },
    "hidden": true
   },
   "outputs": [],
   "source": [
    "prices"
   ]
  },
  {
   "cell_type": "code",
   "execution_count": null,
   "metadata": {
    "ExecuteTime": {
     "end_time": "2018-07-10T13:46:30.576569Z",
     "start_time": "2018-07-10T13:46:30.517721Z"
    },
    "hidden": true
   },
   "outputs": [],
   "source": [
    "print('Number of price series:', len(tickers))"
   ]
  },
  {
   "cell_type": "code",
   "execution_count": null,
   "metadata": {
    "ExecuteTime": {
     "end_time": "2018-07-10T13:46:32.011125Z",
     "start_time": "2018-07-10T13:46:31.677285Z"
    },
    "hidden": true
   },
   "outputs": [],
   "source": [
    "j = np.random.choice(len(tickers) - 1)\n",
    "ticker_j = list(tickers)[j]\n",
    "print('j:', j, ' - ', ticker_j)\n",
    "price_j = prices.loc[ticker_j]\n",
    "price_j[['Open', 'High', 'Low', 'Close']].plot();"
   ]
  },
  {
   "cell_type": "code",
   "execution_count": null,
   "metadata": {
    "ExecuteTime": {
     "end_time": "2018-07-10T13:46:33.992576Z",
     "start_time": "2018-07-10T13:46:33.925755Z"
    },
    "hidden": true
   },
   "outputs": [],
   "source": [
    "price_j"
   ]
  },
  {
   "cell_type": "markdown",
   "metadata": {
    "hidden": true
   },
   "source": [
    "##  Sharadar Equity Prices\n",
    "\n",
    "One may use [_Sharadar Equity Prices_](https://www.quandl.com/publishers/sharadar) free sample series as follows:"
   ]
  },
  {
   "cell_type": "code",
   "execution_count": null,
   "metadata": {
    "ExecuteTime": {
     "end_time": "2018-07-12T16:17:19.064855Z",
     "start_time": "2018-07-12T16:17:12.836944Z"
    },
    "hidden": true
   },
   "outputs": [],
   "source": [
    "# tickers, prices = get_quandl_sharadar(download=True)  # The first time...\n",
    "tickers, prices = get_quandl_sharadar(free=False)"
   ]
  },
  {
   "cell_type": "code",
   "execution_count": null,
   "metadata": {
    "ExecuteTime": {
     "end_time": "2018-07-12T14:37:27.831637Z",
     "start_time": "2018-07-12T14:37:27.757836Z"
    },
    "hidden": true
   },
   "outputs": [],
   "source": [
    "print('Number of price series:', len(tickers))"
   ]
  },
  {
   "cell_type": "code",
   "execution_count": null,
   "metadata": {
    "ExecuteTime": {
     "end_time": "2018-07-12T14:37:27.931379Z",
     "start_time": "2018-07-12T14:37:27.832635Z"
    },
    "hidden": true
   },
   "outputs": [],
   "source": [
    "prices"
   ]
  },
  {
   "cell_type": "code",
   "execution_count": null,
   "metadata": {
    "ExecuteTime": {
     "end_time": "2018-07-12T14:37:28.514166Z",
     "start_time": "2018-07-12T14:37:27.932375Z"
    },
    "hidden": true
   },
   "outputs": [],
   "source": [
    "j = np.random.choice(len(tickers) - 1)\n",
    "ticker_j = list(tickers)[j]\n",
    "print('j:', j, ' - ', ticker_j)\n",
    "price_j = prices.loc[ticker_j]\n",
    "price_j[['Open', 'High', 'Low', 'Close']].plot()\n",
    "plt.axhline(c='grey')\n",
    "plt.show()"
   ]
  },
  {
   "cell_type": "code",
   "execution_count": null,
   "metadata": {
    "ExecuteTime": {
     "end_time": "2018-07-12T14:37:28.605947Z",
     "start_time": "2018-07-12T14:37:28.516161Z"
    },
    "hidden": true
   },
   "outputs": [],
   "source": [
    "price_j"
   ]
  },
  {
   "cell_type": "markdown",
   "metadata": {
    "heading_collapsed": true,
    "hidden": true
   },
   "source": [
    "### Metadata..."
   ]
  },
  {
   "cell_type": "code",
   "execution_count": null,
   "metadata": {
    "ExecuteTime": {
     "end_time": "2018-07-10T13:51:14.298984Z",
     "start_time": "2018-07-10T13:51:08.643167Z"
    },
    "hidden": true
   },
   "outputs": [],
   "source": [
    "shr_meta = pd.read_csv(QUANDL_PATH + 'Sharadar/SHARADAR-TICKERS.csv')\n",
    "shr_meta.to_excel(QUANDL_PATH + 'Sharadar/SHARADAR-TICKERS.xlsx')\n",
    "shr_meta.keys()"
   ]
  },
  {
   "cell_type": "code",
   "execution_count": null,
   "metadata": {
    "ExecuteTime": {
     "end_time": "2018-07-10T13:51:15.927722Z",
     "start_time": "2018-07-10T13:51:15.755117Z"
    },
    "hidden": true,
    "scrolled": true
   },
   "outputs": [],
   "source": [
    "shr_meta.describe(include=np.object)"
   ]
  },
  {
   "cell_type": "code",
   "execution_count": null,
   "metadata": {
    "ExecuteTime": {
     "end_time": "2018-07-10T13:51:17.110146Z",
     "start_time": "2018-07-10T13:51:17.020309Z"
    },
    "hidden": true
   },
   "outputs": [],
   "source": [
    "shr_meta.groupby('currency').count()"
   ]
  },
  {
   "cell_type": "markdown",
   "metadata": {
    "hidden": true
   },
   "source": [
    "### Train, Dev, Test samples "
   ]
  },
  {
   "cell_type": "code",
   "execution_count": null,
   "metadata": {
    "ExecuteTime": {
     "end_time": "2018-07-12T20:28:50.578348Z",
     "start_time": "2018-07-12T20:28:50.496602Z"
    },
    "hidden": true
   },
   "outputs": [],
   "source": [
    "p_train = 0.7\n",
    "p_dev = 0.15"
   ]
  },
  {
   "cell_type": "code",
   "execution_count": null,
   "metadata": {
    "ExecuteTime": {
     "end_time": "2018-07-12T20:28:18.681830Z",
     "start_time": "2018-07-12T20:28:18.605035Z"
    },
    "hidden": true
   },
   "outputs": [],
   "source": [
    "N = len(tickers)\n",
    "train, dev = round(p_train * N), round(p_dev * N)\n",
    "test = N - train - dev\n",
    "print('N:', N, ', Tain:', train, ', Dev:', dev, ', Test:', test)"
   ]
  },
  {
   "cell_type": "code",
   "execution_count": null,
   "metadata": {
    "ExecuteTime": {
     "end_time": "2018-07-12T16:06:00.095701Z",
     "start_time": "2018-07-12T16:06:00.009084Z"
    },
    "hidden": true
   },
   "outputs": [],
   "source": [
    "np.random.seed(123)\n",
    "tickers_full = list(np.random.permutation(tickers))\n",
    "tickers_train = tickers_full[:train]\n",
    "tickers_dev = tickers_full[train:(train + dev)]\n",
    "tickers_test = tickers_full[-test:]\n",
    "assert len(tickers_train + tickers_dev + tickers_test) == N"
   ]
  },
  {
   "cell_type": "code",
   "execution_count": null,
   "metadata": {
    "ExecuteTime": {
     "end_time": "2018-07-12T16:06:04.168988Z",
     "start_time": "2018-07-12T16:06:04.088207Z"
    },
    "hidden": true
   },
   "outputs": [],
   "source": [
    "tickers_in_train_folder = [f.replace('.feather', '') for f in os.listdir(QUANDL_PATH + 'Sharadar/train/')]\n",
    "set(tickers_train) == set(tickers_in_train_folder)"
   ]
  },
  {
   "cell_type": "code",
   "execution_count": null,
   "metadata": {
    "ExecuteTime": {
     "end_time": "2018-07-10T14:36:16.136545Z",
     "start_time": "2018-07-10T14:13:47.508692Z"
    },
    "hidden": true
   },
   "outputs": [],
   "source": [
    "# # Only run once\n",
    "# for t in tickers_train:\n",
    "#     prices.loc[t].reset_index().to_feather(fname=QUANDL_PATH + 'Sharadar/train/' + t + '.feather')"
   ]
  },
  {
   "cell_type": "code",
   "execution_count": null,
   "metadata": {
    "ExecuteTime": {
     "end_time": "2018-07-10T14:01:50.216327Z",
     "start_time": "2018-07-10T13:56:52.032276Z"
    },
    "hidden": true
   },
   "outputs": [],
   "source": [
    "# # Only run once\n",
    "# for t in tickers_dev:\n",
    "#     prices.loc[t].reset_index().to_feather(fname=QUANDL_PATH + 'Sharadar/dev/' + t + '.feather')"
   ]
  },
  {
   "cell_type": "code",
   "execution_count": null,
   "metadata": {
    "ExecuteTime": {
     "end_time": "2018-07-10T14:08:02.133070Z",
     "start_time": "2018-07-10T14:03:01.575231Z"
    },
    "hidden": true
   },
   "outputs": [],
   "source": [
    "# # Only run once\n",
    "# for t in tickers_test:\n",
    "#     prices.loc[t].reset_index().to_feather(fname=QUANDL_PATH + 'Sharadar/test/' + t + '.feather')"
   ]
  },
  {
   "cell_type": "code",
   "execution_count": null,
   "metadata": {
    "ExecuteTime": {
     "end_time": "2018-07-12T20:16:12.145839Z",
     "start_time": "2018-07-12T16:35:06.827320Z"
    },
    "hidden": true,
    "scrolled": false
   },
   "outputs": [],
   "source": [
    "dir_train = os.listdir(QUANDL_PATH + 'Sharadar/train/')\n",
    "tickers_train = [f.replace('.feather', '') for f in dir_train]\n",
    "train_files = [QUANDL_PATH + 'Sharadar/train/' + f for f in dir_train]\n",
    "prices_train = pd.read_feather(train_files[0]).assign(Ticker=tickers_train[0])\n",
    "\n",
    "for i in tqdm_notebook(range(1, len(tickers_train))):\n",
    "    df_i = pd.read_feather(train_files[i]).assign(Ticker=tickers_train[i])\n",
    "    prices_train = pd.concat((prices_train, df_i), axis=0)"
   ]
  },
  {
   "cell_type": "code",
   "execution_count": null,
   "metadata": {
    "ExecuteTime": {
     "end_time": "2018-07-12T21:15:41.630368Z",
     "start_time": "2018-07-12T21:14:20.859172Z"
    },
    "hidden": true
   },
   "outputs": [],
   "source": [
    "def select_train_dev_test(x, ptr=0.7, pdv=0.15, pts=0.15):\n",
    "    y = ['train'] * int(len(x) * ptr) + ['dev'] * int(len(x) * pdv)\n",
    "    y += ['test'] * (len(x) - len(y))\n",
    "    return(y)\n",
    "\n",
    "prices_train = prices_train.sort_values(['Ticker', 'Date'])\n",
    "prices_train = prices_train.assign(Set=np.nan)\n",
    "prices_train['Set'] = prices_train.groupby(prices_train['Ticker'], sort=False).transform(select_train_dev_test)\n",
    "prices_train = prices_train.reset_index().drop('index', axis=1)\n",
    "prices_train.to_feather(fname=QUANDL_PATH + 'Sharadar/sharadar_train.feather')"
   ]
  },
  {
   "cell_type": "code",
   "execution_count": null,
   "metadata": {
    "ExecuteTime": {
     "end_time": "2018-07-12T21:38:08.244252Z",
     "start_time": "2018-07-12T21:34:11.243339Z"
    },
    "hidden": true,
    "scrolled": true
   },
   "outputs": [],
   "source": [
    "dir_dev = os.listdir(QUANDL_PATH + 'Sharadar/dev/')\n",
    "tickers_dev = [f.replace('.feather', '') for f in dir_dev]\n",
    "dev_files = [QUANDL_PATH + 'Sharadar/dev/' + f for f in dir_dev]\n",
    "prices_dev = pd.read_feather(dev_files[0]).assign(Ticker=tickers_dev[0])\n",
    "\n",
    "for i in tqdm_notebook(range(1, len(tickers_dev))):\n",
    "    df_i = pd.read_feather(dev_files[i]).assign(Ticker=tickers_dev[i])\n",
    "    prices_dev = pd.concat((prices_dev, df_i), axis=0)\n",
    "\n",
    "prices_dev = prices_dev.reset_index().drop('index', axis=1)\n",
    "prices_dev.to_feather(fname=QUANDL_PATH + 'Sharadar/sharadar_dev.feather')"
   ]
  },
  {
   "cell_type": "code",
   "execution_count": null,
   "metadata": {
    "ExecuteTime": {
     "end_time": "2018-07-12T21:43:52.325380Z",
     "start_time": "2018-07-12T21:39:49.885257Z"
    },
    "hidden": true
   },
   "outputs": [],
   "source": [
    "dir_test = os.listdir(QUANDL_PATH + 'Sharadar/test/')\n",
    "tickers_test = [f.replace('.feather', '') for f in dir_test]\n",
    "test_files = [QUANDL_PATH + 'Sharadar/test/' + f for f in dir_test]\n",
    "prices_test = pd.read_feather(test_files[0]).assign(Ticker=tickers_test[0])\n",
    "\n",
    "for i in tqdm_notebook(range(1, len(tickers_test))):\n",
    "    df_i = pd.read_feather(test_files[i]).assign(Ticker=tickers_test[i])\n",
    "    prices_test = pd.concat((prices_test, df_i), axis=0)\n",
    "\n",
    "prices_test = prices_test.reset_index().drop('index', axis=1)\n",
    "prices_test.to_feather(fname=QUANDL_PATH + 'Sharadar/sharadar_test.feather')"
   ]
  },
  {
   "cell_type": "markdown",
   "metadata": {
    "hidden": true
   },
   "source": [
    "### Train, dev, test split within train "
   ]
  },
  {
   "cell_type": "code",
   "execution_count": null,
   "metadata": {
    "ExecuteTime": {
     "end_time": "2018-07-12T22:10:58.533134Z",
     "start_time": "2018-07-12T22:10:38.949144Z"
    },
    "hidden": true
   },
   "outputs": [],
   "source": [
    " t_train, p_train = get_sharadar_train()"
   ]
  },
  {
   "cell_type": "code",
   "execution_count": null,
   "metadata": {
    "ExecuteTime": {
     "end_time": "2018-07-12T22:10:58.935543Z",
     "start_time": "2018-07-12T22:10:58.533134Z"
    },
    "hidden": true
   },
   "outputs": [],
   "source": [
    "ticker = np.random.choice(t_train)\n",
    "price = p_train.loc[ticker]"
   ]
  },
  {
   "cell_type": "code",
   "execution_count": null,
   "metadata": {
    "ExecuteTime": {
     "end_time": "2018-07-12T22:10:59.210292Z",
     "start_time": "2018-07-12T22:10:58.936514Z"
    },
    "hidden": true
   },
   "outputs": [],
   "source": [
    "pal = plt.get_cmap('Paired').colors\n",
    "fig, ax = plt.subplots(figsize=(16, 5))\n",
    "trans = mpl.transforms.blended_transform_factory(ax.transData, ax.transAxes)\n",
    "ax.fill_between(price.index, 0, price.High.max(), where=(price.Set == 'train'), facecolor=pal[0],\n",
    "                        alpha=0.25, transform=trans, label='Train')\n",
    "ax.fill_between(price.index, 0, price.High.max(), where=(price.Set == 'dev'), facecolor=pal[2],\n",
    "                        alpha=0.25, transform=trans, label='Dev')\n",
    "ax.fill_between(price.index, 0, price.High.max(), where=(price.Set == 'test'), facecolor=pal[4],\n",
    "                        alpha=0.25, transform=trans, label='Test')\n",
    "plt.plot(price.Close, label='Close')\n",
    "plt.axhline(0, c='grey')\n",
    "plt.legend()\n",
    "plt.title(ticker)\n",
    "plt.show()"
   ]
  },
  {
   "cell_type": "markdown",
   "metadata": {
    "hidden": true
   },
   "source": [
    "## Cryptocompare\n",
    "TO DO"
   ]
  },
  {
   "cell_type": "markdown",
   "metadata": {
    "hidden": true
   },
   "source": [
    "## Yahoo Finance\n",
    "TO DO"
   ]
  },
  {
   "cell_type": "markdown",
   "metadata": {},
   "source": [
    "# Data Cleaning\n",
    "\n",
    "* Positive Volume.\n",
    "* OHLC: open and close within [low, high].\n",
    "* Positive prices\n",
    "* Non nan."
   ]
  },
  {
   "cell_type": "code",
   "execution_count": 64,
   "metadata": {
    "ExecuteTime": {
     "end_time": "2018-07-24T03:08:32.879676Z",
     "start_time": "2018-07-24T03:06:12.491023Z"
    },
    "scrolled": true
   },
   "outputs": [
    {
     "name": "stderr",
     "output_type": "stream",
     "text": [
      "//anaconda/envs/trend/lib/python3.6/site-packages/pandas/core/indexing.py:543: SettingWithCopyWarning: \n",
      "A value is trying to be set on a copy of a slice from a DataFrame.\n",
      "Try using .loc[row_indexer,col_indexer] = value instead\n",
      "\n",
      "See the caveats in the documentation: http://pandas.pydata.org/pandas-docs/stable/indexing.html#indexing-view-versus-copy\n",
      "  self.obj[item] = s\n"
     ]
    }
   ],
   "source": [
    "from utils import *\n",
    "tickers, prices = get_sharadar_train()"
   ]
  },
  {
   "cell_type": "code",
   "execution_count": 7,
   "metadata": {
    "ExecuteTime": {
     "end_time": "2018-07-24T02:33:47.183304Z",
     "start_time": "2018-07-24T02:33:44.360175Z"
    }
   },
   "outputs": [],
   "source": [
    "prices.query('Volume > 0', inplace=True)\n",
    "prices = prices.assign(\n",
    "    Low = prices[['Open', 'High', 'Low', 'Close']].apply('min', axis=1),\n",
    "    High = prices[['Open', 'High', 'Low', 'Close']].apply('max', axis=1),\n",
    ")\n",
    "prices.query('High > 0', inplace=True)"
   ]
  },
  {
   "cell_type": "code",
   "execution_count": 8,
   "metadata": {
    "ExecuteTime": {
     "end_time": "2018-07-24T02:33:51.668802Z",
     "start_time": "2018-07-24T02:33:50.687815Z"
    }
   },
   "outputs": [],
   "source": [
    "prices.loc[prices.Open == 0, 'Open'] = prices.loc[prices.Open == 0, 'Close']\n",
    "prices.loc[prices.Close == 0, 'Close'] = prices.loc[prices.Close == 0, 'Open']\n",
    "prices.loc[np.all(prices[['Open', 'Close']] == 0, axis=1), ['Open', 'Close']] = \\\n",
    "    prices.loc[np.all(prices[['Open', 'Close']] == 0, axis=1), ['High', 'High']]\n",
    "prices.loc[prices.Low == 0, 'Low'] = \\\n",
    "    prices.loc[prices.Low == 0, ['Open', 'High', 'Close']].apply('min', axis=1)"
   ]
  },
  {
   "cell_type": "code",
   "execution_count": 66,
   "metadata": {
    "ExecuteTime": {
     "end_time": "2018-07-20T18:16:42.535925Z",
     "start_time": "2018-07-20T18:16:42.483146Z"
    }
   },
   "outputs": [],
   "source": [
    "# plot_prices(prices.loc['WLM'][-500:])\n",
    "# plot_prices(prices.loc['AGHC'][-150:])"
   ]
  },
  {
   "cell_type": "code",
   "execution_count": 7,
   "metadata": {
    "ExecuteTime": {
     "end_time": "2018-07-21T18:11:38.726504Z",
     "start_time": "2018-07-21T18:11:36.884612Z"
    },
    "scrolled": true
   },
   "outputs": [
    {
     "data": {
      "text/html": [
       "<div>\n",
       "<style scoped>\n",
       "    .dataframe tbody tr th:only-of-type {\n",
       "        vertical-align: middle;\n",
       "    }\n",
       "\n",
       "    .dataframe tbody tr th {\n",
       "        vertical-align: top;\n",
       "    }\n",
       "\n",
       "    .dataframe thead th {\n",
       "        text-align: right;\n",
       "    }\n",
       "</style>\n",
       "<table border=\"1\" class=\"dataframe\">\n",
       "  <thead>\n",
       "    <tr style=\"text-align: right;\">\n",
       "      <th></th>\n",
       "      <th></th>\n",
       "      <th>Open</th>\n",
       "      <th>High</th>\n",
       "      <th>Low</th>\n",
       "      <th>Close</th>\n",
       "      <th>Volume</th>\n",
       "      <th>Dividends</th>\n",
       "      <th>Closeunadj</th>\n",
       "      <th>Lastupdated</th>\n",
       "      <th>Set</th>\n",
       "    </tr>\n",
       "    <tr>\n",
       "      <th>Ticker</th>\n",
       "      <th>Date</th>\n",
       "      <th></th>\n",
       "      <th></th>\n",
       "      <th></th>\n",
       "      <th></th>\n",
       "      <th></th>\n",
       "      <th></th>\n",
       "      <th></th>\n",
       "      <th></th>\n",
       "      <th></th>\n",
       "    </tr>\n",
       "  </thead>\n",
       "  <tbody>\n",
       "  </tbody>\n",
       "</table>\n",
       "</div>"
      ],
      "text/plain": [
       "Empty DataFrame\n",
       "Columns: [Open, High, Low, Close, Volume, Dividends, Closeunadj, Lastupdated, Set]\n",
       "Index: []"
      ]
     },
     "execution_count": 7,
     "metadata": {},
     "output_type": "execute_result"
    }
   ],
   "source": [
    "prices.query('Low < 0')"
   ]
  },
  {
   "cell_type": "markdown",
   "metadata": {},
   "source": [
    "## Nas"
   ]
  },
  {
   "cell_type": "code",
   "execution_count": 13,
   "metadata": {
    "ExecuteTime": {
     "end_time": "2018-07-24T02:36:09.186338Z",
     "start_time": "2018-07-24T02:36:08.905625Z"
    },
    "scrolled": false
   },
   "outputs": [],
   "source": [
    "prices.loc[prices.Open.isna(), 'Open'] = prices.loc[prices.Open.isna(), 'Close']\n",
    "prices.loc[prices.Open.isna(), 'Open'] = prices.loc[prices.Open.isna(), 'High']\n",
    "prices.loc[prices.Close.isna(), 'Close'] = prices.loc[prices.Close.isna(), 'Low']"
   ]
  },
  {
   "cell_type": "markdown",
   "metadata": {},
   "source": [
    "## Data Transforms\n",
    "\n",
    "### Weekly and monthly OHLC prices."
   ]
  },
  {
   "cell_type": "code",
   "execution_count": null,
   "metadata": {
    "ExecuteTime": {
     "end_time": "2018-07-09T23:59:22.921808Z",
     "start_time": "2018-07-09T23:59:22.844015Z"
    }
   },
   "outputs": [],
   "source": [
    "weekly_j = daily_to_weekly_prices(price_j)"
   ]
  },
  {
   "cell_type": "code",
   "execution_count": null,
   "metadata": {
    "ExecuteTime": {
     "end_time": "2018-07-09T23:59:23.686286Z",
     "start_time": "2018-07-09T23:59:23.467638Z"
    }
   },
   "outputs": [],
   "source": [
    "weekly_j[['Open', 'High', 'Low', 'Close']].plot();"
   ]
  },
  {
   "cell_type": "markdown",
   "metadata": {},
   "source": [
    "### Returns\n",
    "\n",
    "See `utils.add_changes(df)`.\n",
    "\n",
    "### Technical Indicators\n",
    "\n",
    "* Volatility.\n",
    "* Simple moving averages.\n",
    "* Support and resistance."
   ]
  },
  {
   "cell_type": "code",
   "execution_count": 54,
   "metadata": {
    "ExecuteTime": {
     "end_time": "2018-08-04T15:29:38.471172Z",
     "start_time": "2018-08-04T15:29:38.365825Z"
    }
   },
   "outputs": [
    {
     "data": {
      "text/html": [
       "<div>\n",
       "<style scoped>\n",
       "    .dataframe tbody tr th:only-of-type {\n",
       "        vertical-align: middle;\n",
       "    }\n",
       "\n",
       "    .dataframe tbody tr th {\n",
       "        vertical-align: top;\n",
       "    }\n",
       "\n",
       "    .dataframe thead th {\n",
       "        text-align: right;\n",
       "    }\n",
       "</style>\n",
       "<table border=\"1\" class=\"dataframe\">\n",
       "  <thead>\n",
       "    <tr style=\"text-align: right;\">\n",
       "      <th></th>\n",
       "      <th>Date</th>\n",
       "      <th>Open</th>\n",
       "      <th>High</th>\n",
       "      <th>Low</th>\n",
       "      <th>Close</th>\n",
       "      <th>Volume</th>\n",
       "      <th>Ch</th>\n",
       "      <th>Ch2</th>\n",
       "      <th>Ch3</th>\n",
       "      <th>Ch4</th>\n",
       "      <th>...</th>\n",
       "      <th>kurt_SMA_60</th>\n",
       "      <th>kurt_SMA_120</th>\n",
       "      <th>Support_5</th>\n",
       "      <th>Support_20</th>\n",
       "      <th>Support_60</th>\n",
       "      <th>Support_120</th>\n",
       "      <th>Resistance_5</th>\n",
       "      <th>Resistance_20</th>\n",
       "      <th>Resistance_60</th>\n",
       "      <th>Resistance_120</th>\n",
       "    </tr>\n",
       "  </thead>\n",
       "  <tbody>\n",
       "    <tr>\n",
       "      <th>0</th>\n",
       "      <td>1998-12-31</td>\n",
       "      <td>0.818</td>\n",
       "      <td>0.818</td>\n",
       "      <td>0.818</td>\n",
       "      <td>0.818</td>\n",
       "      <td>32394.938</td>\n",
       "      <td>0.000000</td>\n",
       "      <td>0.000000</td>\n",
       "      <td>0.000000e+00</td>\n",
       "      <td>0.000000e+00</td>\n",
       "      <td>...</td>\n",
       "      <td>NaN</td>\n",
       "      <td>NaN</td>\n",
       "      <td>0.818</td>\n",
       "      <td>0.818</td>\n",
       "      <td>0.818</td>\n",
       "      <td>0.818</td>\n",
       "      <td>0.818</td>\n",
       "      <td>0.818</td>\n",
       "      <td>0.818</td>\n",
       "      <td>0.818</td>\n",
       "    </tr>\n",
       "    <tr>\n",
       "      <th>1</th>\n",
       "      <td>1999-01-04</td>\n",
       "      <td>0.867</td>\n",
       "      <td>0.900</td>\n",
       "      <td>0.867</td>\n",
       "      <td>0.867</td>\n",
       "      <td>168900.188</td>\n",
       "      <td>0.058177</td>\n",
       "      <td>0.003385</td>\n",
       "      <td>1.969001e-04</td>\n",
       "      <td>1.145499e-05</td>\n",
       "      <td>...</td>\n",
       "      <td>-1.000000</td>\n",
       "      <td>-1.000000</td>\n",
       "      <td>0.818</td>\n",
       "      <td>0.818</td>\n",
       "      <td>0.818</td>\n",
       "      <td>0.818</td>\n",
       "      <td>0.900</td>\n",
       "      <td>0.900</td>\n",
       "      <td>0.900</td>\n",
       "      <td>0.900</td>\n",
       "    </tr>\n",
       "    <tr>\n",
       "      <th>2</th>\n",
       "      <td>1999-01-05</td>\n",
       "      <td>0.878</td>\n",
       "      <td>0.878</td>\n",
       "      <td>0.867</td>\n",
       "      <td>0.878</td>\n",
       "      <td>103199.063</td>\n",
       "      <td>0.012608</td>\n",
       "      <td>0.000159</td>\n",
       "      <td>2.004006e-06</td>\n",
       "      <td>2.526574e-08</td>\n",
       "      <td>...</td>\n",
       "      <td>-0.257073</td>\n",
       "      <td>-0.257073</td>\n",
       "      <td>0.818</td>\n",
       "      <td>0.818</td>\n",
       "      <td>0.818</td>\n",
       "      <td>0.818</td>\n",
       "      <td>0.900</td>\n",
       "      <td>0.900</td>\n",
       "      <td>0.900</td>\n",
       "      <td>0.900</td>\n",
       "    </tr>\n",
       "    <tr>\n",
       "      <th>...</th>\n",
       "      <td>...</td>\n",
       "      <td>...</td>\n",
       "      <td>...</td>\n",
       "      <td>...</td>\n",
       "      <td>...</td>\n",
       "      <td>...</td>\n",
       "      <td>...</td>\n",
       "      <td>...</td>\n",
       "      <td>...</td>\n",
       "      <td>...</td>\n",
       "      <td>...</td>\n",
       "      <td>...</td>\n",
       "      <td>...</td>\n",
       "      <td>...</td>\n",
       "      <td>...</td>\n",
       "      <td>...</td>\n",
       "      <td>...</td>\n",
       "      <td>...</td>\n",
       "      <td>...</td>\n",
       "      <td>...</td>\n",
       "      <td>...</td>\n",
       "    </tr>\n",
       "    <tr>\n",
       "      <th>4906</th>\n",
       "      <td>2018-07-05</td>\n",
       "      <td>34.600</td>\n",
       "      <td>35.250</td>\n",
       "      <td>34.350</td>\n",
       "      <td>35.250</td>\n",
       "      <td>218176.000</td>\n",
       "      <td>0.021506</td>\n",
       "      <td>0.000463</td>\n",
       "      <td>9.946983e-06</td>\n",
       "      <td>2.139218e-07</td>\n",
       "      <td>...</td>\n",
       "      <td>3.472443</td>\n",
       "      <td>3.105282</td>\n",
       "      <td>32.550</td>\n",
       "      <td>32.250</td>\n",
       "      <td>29.050</td>\n",
       "      <td>29.050</td>\n",
       "      <td>35.250</td>\n",
       "      <td>35.250</td>\n",
       "      <td>36.650</td>\n",
       "      <td>40.250</td>\n",
       "    </tr>\n",
       "    <tr>\n",
       "      <th>4907</th>\n",
       "      <td>2018-07-06</td>\n",
       "      <td>35.300</td>\n",
       "      <td>35.650</td>\n",
       "      <td>35.100</td>\n",
       "      <td>35.300</td>\n",
       "      <td>164903.000</td>\n",
       "      <td>0.001417</td>\n",
       "      <td>0.000002</td>\n",
       "      <td>2.847798e-09</td>\n",
       "      <td>4.036567e-12</td>\n",
       "      <td>...</td>\n",
       "      <td>3.476522</td>\n",
       "      <td>3.129036</td>\n",
       "      <td>32.839</td>\n",
       "      <td>32.250</td>\n",
       "      <td>29.050</td>\n",
       "      <td>29.050</td>\n",
       "      <td>35.650</td>\n",
       "      <td>35.650</td>\n",
       "      <td>36.650</td>\n",
       "      <td>40.250</td>\n",
       "    </tr>\n",
       "    <tr>\n",
       "      <th>4908</th>\n",
       "      <td>2018-07-09</td>\n",
       "      <td>35.500</td>\n",
       "      <td>35.750</td>\n",
       "      <td>35.200</td>\n",
       "      <td>35.700</td>\n",
       "      <td>175485.000</td>\n",
       "      <td>0.011268</td>\n",
       "      <td>0.000127</td>\n",
       "      <td>1.430569e-06</td>\n",
       "      <td>1.611925e-08</td>\n",
       "      <td>...</td>\n",
       "      <td>3.399689</td>\n",
       "      <td>3.144776</td>\n",
       "      <td>32.839</td>\n",
       "      <td>32.350</td>\n",
       "      <td>29.050</td>\n",
       "      <td>29.050</td>\n",
       "      <td>35.750</td>\n",
       "      <td>35.750</td>\n",
       "      <td>36.650</td>\n",
       "      <td>40.250</td>\n",
       "    </tr>\n",
       "  </tbody>\n",
       "</table>\n",
       "<p>4909 rows × 34 columns</p>\n",
       "</div>"
      ],
      "text/plain": [
       "           Date    Open    High     Low   Close      Volume        Ch  \\\n",
       "0    1998-12-31   0.818   0.818   0.818   0.818   32394.938  0.000000   \n",
       "1    1999-01-04   0.867   0.900   0.867   0.867  168900.188  0.058177   \n",
       "2    1999-01-05   0.878   0.878   0.867   0.878  103199.063  0.012608   \n",
       "...         ...     ...     ...     ...     ...         ...       ...   \n",
       "4906 2018-07-05  34.600  35.250  34.350  35.250  218176.000  0.021506   \n",
       "4907 2018-07-06  35.300  35.650  35.100  35.300  164903.000  0.001417   \n",
       "4908 2018-07-09  35.500  35.750  35.200  35.700  175485.000  0.011268   \n",
       "\n",
       "           Ch2           Ch3           Ch4       ...        kurt_SMA_60  \\\n",
       "0     0.000000  0.000000e+00  0.000000e+00       ...                NaN   \n",
       "1     0.003385  1.969001e-04  1.145499e-05       ...          -1.000000   \n",
       "2     0.000159  2.004006e-06  2.526574e-08       ...          -0.257073   \n",
       "...        ...           ...           ...       ...                ...   \n",
       "4906  0.000463  9.946983e-06  2.139218e-07       ...           3.472443   \n",
       "4907  0.000002  2.847798e-09  4.036567e-12       ...           3.476522   \n",
       "4908  0.000127  1.430569e-06  1.611925e-08       ...           3.399689   \n",
       "\n",
       "      kurt_SMA_120  Support_5  Support_20  Support_60  Support_120  \\\n",
       "0              NaN      0.818       0.818       0.818        0.818   \n",
       "1        -1.000000      0.818       0.818       0.818        0.818   \n",
       "2        -0.257073      0.818       0.818       0.818        0.818   \n",
       "...            ...        ...         ...         ...          ...   \n",
       "4906      3.105282     32.550      32.250      29.050       29.050   \n",
       "4907      3.129036     32.839      32.250      29.050       29.050   \n",
       "4908      3.144776     32.839      32.350      29.050       29.050   \n",
       "\n",
       "      Resistance_5  Resistance_20  Resistance_60  Resistance_120  \n",
       "0            0.818          0.818          0.818           0.818  \n",
       "1            0.900          0.900          0.900           0.900  \n",
       "2            0.900          0.900          0.900           0.900  \n",
       "...            ...            ...            ...             ...  \n",
       "4906        35.250         35.250         36.650          40.250  \n",
       "4907        35.650         35.650         36.650          40.250  \n",
       "4908        35.750         35.750         36.650          40.250  \n",
       "\n",
       "[4909 rows x 34 columns]"
      ]
     },
     "execution_count": 54,
     "metadata": {},
     "output_type": "execute_result"
    }
   ],
   "source": [
    "from utils import *\n",
    "df = pd.read_feather('input/Quandl/Sharadar/train/AAON.feather')\n",
    "df = add_changes(df)\n",
    "df"
   ]
  },
  {
   "cell_type": "code",
   "execution_count": 55,
   "metadata": {
    "ExecuteTime": {
     "end_time": "2018-08-04T15:29:41.922424Z",
     "start_time": "2018-08-04T15:29:41.500724Z"
    }
   },
   "outputs": [
    {
     "data": {
      "text/plain": [
       "<matplotlib.axes._subplots.AxesSubplot at 0x1c1d733cf8>"
      ]
     },
     "execution_count": 55,
     "metadata": {},
     "output_type": "execute_result"
    },
    {
     "data": {
      "image/png": "[encoded data removed]",
      "text/plain": [
       "<Figure size 864x288 with 1 Axes>"
      ]
     },
     "metadata": {},
     "output_type": "display_data"
    }
   ],
   "source": [
    "add_technical(df).set_index('Date')[['Close', 'SMA_120', 'Support_120', 'Resistance_120']].plot()"
   ]
  },
  {
   "cell_type": "code",
   "execution_count": 56,
   "metadata": {
    "ExecuteTime": {
     "end_time": "2018-08-04T15:29:43.977458Z",
     "start_time": "2018-08-04T15:29:43.624801Z"
    }
   },
   "outputs": [
    {
     "data": {
      "text/plain": [
       "<matplotlib.axes._subplots.AxesSubplot at 0x1c1f167630>"
      ]
     },
     "execution_count": 56,
     "metadata": {},
     "output_type": "execute_result"
    },
    {
     "data": {
      "image/png": "[encoded data removed]",
      "text/plain": [
       "<Figure size 864x288 with 1 Axes>"
      ]
     },
     "metadata": {},
     "output_type": "display_data"
    }
   ],
   "source": [
    "add_technical(df).set_index('Date')[['kurt_SMA_5', 'kurt_SMA_60', 'kurt_SMA_120']].plot()"
   ]
  },
  {
   "cell_type": "code",
   "execution_count": 57,
   "metadata": {
    "ExecuteTime": {
     "end_time": "2018-08-04T15:29:46.982721Z",
     "start_time": "2018-08-04T15:29:46.900511Z"
    }
   },
   "outputs": [
    {
     "data": {
      "text/plain": [
       "Index(['Date', 'Open', 'High', 'Low', 'Close', 'Volume', 'Ch', 'Ch2', 'Ch3',\n",
       "       'Ch4', 'SMA_5', 'SMA_20', 'SMA_60', 'SMA_120', 'sigma2_SMA_5',\n",
       "       'sigma2_SMA_20', 'sigma2_SMA_60', 'sigma2_SMA_120', 'skew_SMA_5',\n",
       "       'skew_SMA_20', 'skew_SMA_60', 'skew_SMA_120', 'kurt_SMA_5',\n",
       "       'kurt_SMA_20', 'kurt_SMA_60', 'kurt_SMA_120', 'Support_5', 'Support_20',\n",
       "       'Support_60', 'Support_120', 'Resistance_5', 'Resistance_20',\n",
       "       'Resistance_60', 'Resistance_120'],\n",
       "      dtype='object')"
      ]
     },
     "execution_count": 57,
     "metadata": {},
     "output_type": "execute_result"
    }
   ],
   "source": [
    "add_technical(df).keys()"
   ]
  },
  {
   "cell_type": "markdown",
   "metadata": {},
   "source": [
    "## Files in input/.../train"
   ]
  },
  {
   "cell_type": "code",
   "execution_count": 59,
   "metadata": {
    "ExecuteTime": {
     "end_time": "2018-08-04T15:29:59.582614Z",
     "start_time": "2018-08-04T15:29:59.385849Z"
    }
   },
   "outputs": [
    {
     "data": {
      "text/plain": [
       "Index(['Date', 'Open', 'High', 'Low', 'Close', 'Volume', 'Ch', 'Ch2', 'Ch3',\n",
       "       'Ch4', 'SMA_5', 'SMA_20', 'SMA_60', 'SMA_120', 'sigma2_SMA_5',\n",
       "       'sigma2_SMA_20', 'sigma2_SMA_60', 'sigma2_SMA_120', 'skew_SMA_5',\n",
       "       'skew_SMA_20', 'skew_SMA_60', 'skew_SMA_120', 'kurt_SMA_5',\n",
       "       'kurt_SMA_20', 'kurt_SMA_60', 'kurt_SMA_120', 'Support_5', 'Support_20',\n",
       "       'Support_60', 'Support_120', 'Resistance_5', 'Resistance_20',\n",
       "       'Resistance_60', 'Resistance_120'],\n",
       "      dtype='object')"
      ]
     },
     "execution_count": 59,
     "metadata": {},
     "output_type": "execute_result"
    }
   ],
   "source": [
    "df = pd.read_feather('input/Quandl/Sharadar/train_0/AAON.feather')\n",
    "df = clean_sharadar(df)\n",
    "df = add_changes(df)\n",
    "df = add_technical(df)\n",
    "df = df.drop(['Dividends', 'Closeunadj', 'Lastupdated'], axis=1)\n",
    "df.keys()"
   ]
  },
  {
   "cell_type": "code",
   "execution_count": 60,
   "metadata": {
    "ExecuteTime": {
     "end_time": "2018-08-04T15:30:05.058521Z",
     "start_time": "2018-08-04T15:30:05.004152Z"
    }
   },
   "outputs": [],
   "source": [
    "def transform_data(old_dir, new_dir):\n",
    "    fnames = os.listdir(old_dir)\n",
    "    \n",
    "    for f in fnames:\n",
    "        df = pd.read_feather(os.path.join(old_dir, f))\n",
    "        df = clean_sharadar(df)\n",
    "        df = add_changes(df)\n",
    "        df = add_technical(df)\n",
    "        df = df.drop(['Dividends', 'Closeunadj', 'Lastupdated'], axis=1)\n",
    "        df.reset_index(drop=True).to_feather(os.path.join(new_dir, f))"
   ]
  },
  {
   "cell_type": "code",
   "execution_count": 61,
   "metadata": {
    "ExecuteTime": {
     "end_time": "2018-08-04T15:42:49.341046Z",
     "start_time": "2018-08-04T15:30:06.668738Z"
    }
   },
   "outputs": [
    {
     "name": "stderr",
     "output_type": "stream",
     "text": [
      "//anaconda/envs/trend/lib/python3.6/site-packages/pandas/core/indexing.py:543: SettingWithCopyWarning: \n",
      "A value is trying to be set on a copy of a slice from a DataFrame.\n",
      "Try using .loc[row_indexer,col_indexer] = value instead\n",
      "\n",
      "See the caveats in the documentation: http://pandas.pydata.org/pandas-docs/stable/indexing.html#indexing-view-versus-copy\n",
      "  self.obj[item] = s\n"
     ]
    }
   ],
   "source": [
    "transform_data('input/Quandl/Sharadar/train_0/', \n",
    "               'input/Quandl/Sharadar/train/')"
   ]
  },
  {
   "cell_type": "code",
   "execution_count": 62,
   "metadata": {
    "ExecuteTime": {
     "end_time": "2018-08-04T15:48:22.657772Z",
     "start_time": "2018-08-04T15:45:40.979231Z"
    }
   },
   "outputs": [
    {
     "name": "stderr",
     "output_type": "stream",
     "text": [
      "//anaconda/envs/trend/lib/python3.6/site-packages/pandas/core/indexing.py:543: SettingWithCopyWarning: \n",
      "A value is trying to be set on a copy of a slice from a DataFrame.\n",
      "Try using .loc[row_indexer,col_indexer] = value instead\n",
      "\n",
      "See the caveats in the documentation: http://pandas.pydata.org/pandas-docs/stable/indexing.html#indexing-view-versus-copy\n",
      "  self.obj[item] = s\n"
     ]
    }
   ],
   "source": [
    "transform_data('input/Quandl/Sharadar/dev_0/', \n",
    "               'input/Quandl/Sharadar/dev/')"
   ]
  },
  {
   "cell_type": "code",
   "execution_count": 63,
   "metadata": {
    "ExecuteTime": {
     "end_time": "2018-08-04T15:48:22.657772Z",
     "start_time": "2018-08-04T15:45:40.979231Z"
    }
   },
   "outputs": [
    {
     "name": "stderr",
     "output_type": "stream",
     "text": [
      "//anaconda/envs/trend/lib/python3.6/site-packages/pandas/core/indexing.py:543: SettingWithCopyWarning: \n",
      "A value is trying to be set on a copy of a slice from a DataFrame.\n",
      "Try using .loc[row_indexer,col_indexer] = value instead\n",
      "\n",
      "See the caveats in the documentation: http://pandas.pydata.org/pandas-docs/stable/indexing.html#indexing-view-versus-copy\n",
      "  self.obj[item] = s\n"
     ]
    }
   ],
   "source": [
    "transform_data('input/Quandl/Sharadar/test_0/', \n",
    "               'input/Quandl/Sharadar/test/')"
   ]
  },
  {
   "cell_type": "markdown",
   "metadata": {},
   "source": [
    "# End"
   ]
  }
 ],
 "metadata": {
  "kernelspec": {
   "display_name": "Python 3",
   "language": "python",
   "name": "python3"
  },
  "language_info": {
   "codemirror_mode": {
    "name": "ipython",
    "version": 3
   },
   "file_extension": ".py",
   "mimetype": "text/x-python",
   "name": "python",
   "nbconvert_exporter": "python",
   "pygments_lexer": "ipython3",
   "version": "3.6.6"
  },
  "toc": {
   "base_numbering": 1,
   "nav_menu": {},
   "number_sections": true,
   "sideBar": true,
   "skip_h1_title": false,
   "title_cell": "Table of Contents",
   "title_sidebar": "Contents",
   "toc_cell": false,
   "toc_position": {},
   "toc_section_display": true,
   "toc_window_display": false
  }
 },
 "nbformat": 4,
 "nbformat_minor": 2
}
