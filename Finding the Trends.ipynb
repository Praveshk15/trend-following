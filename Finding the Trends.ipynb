{
 "cells": [
  {
   "cell_type": "markdown",
   "metadata": {},
   "source": [
    "# Setup"
   ]
  },
  {
   "cell_type": "code",
   "execution_count": 1,
   "metadata": {
    "ExecuteTime": {
     "end_time": "2018-07-13T20:10:16.153534Z",
     "start_time": "2018-07-13T20:10:15.901245Z"
    }
   },
   "outputs": [],
   "source": [
    "# Put these at the top of every notebook, to get automatic reloading and inline plotting\n",
    "%reload_ext autoreload\n",
    "%autoreload 2\n",
    "%matplotlib inline"
   ]
  },
  {
   "cell_type": "code",
   "execution_count": 2,
   "metadata": {
    "ExecuteTime": {
     "end_time": "2018-07-13T20:10:16.514926Z",
     "start_time": "2018-07-13T20:10:16.153534Z"
    }
   },
   "outputs": [],
   "source": [
    "import numpy as np\n",
    "import pandas as pd\n",
    "from pandas import Series, DataFrame\n",
    "pd.set_option('display.max_rows', 5)\n",
    "import matplotlib as mpl\n",
    "from matplotlib import pyplot as plt\n",
    "import matplotlib.transforms as mtransforms\n",
    "plt.rcParams['figure.figsize'] = [16, 5]\n",
    "pal = plt.get_cmap('Paired').colors\n",
    "\n",
    "from tqdm import tqdm, tqdm_notebook\n",
    "import quandl"
   ]
  },
  {
   "cell_type": "code",
   "execution_count": 3,
   "metadata": {
    "ExecuteTime": {
     "end_time": "2018-07-13T20:10:16.839113Z",
     "start_time": "2018-07-13T20:10:16.516889Z"
    }
   },
   "outputs": [],
   "source": [
    "from utils import *"
   ]
  },
  {
   "cell_type": "code",
   "execution_count": 4,
   "metadata": {
    "ExecuteTime": {
     "end_time": "2018-07-13T20:10:26.523956Z",
     "start_time": "2018-07-13T20:10:16.840110Z"
    }
   },
   "outputs": [],
   "source": [
    "# api_key = open(file='quandl_api').read().replace('\\n', '')\n",
    "# quandl.ApiConfig.api_key = api_key\n",
    "# tickers, prices = get_quandl_sharadar(free=True)\n",
    "tickers, prices = get_sharadar_train()\n",
    "prices = prices.query('Set == \"train\"')"
   ]
  },
  {
   "cell_type": "code",
   "execution_count": 5,
   "metadata": {
    "ExecuteTime": {
     "end_time": "2018-07-13T20:10:26.610755Z",
     "start_time": "2018-07-13T20:10:26.525955Z"
    }
   },
   "outputs": [
    {
     "data": {
      "text/html": [
       "<div>\n",
       "<style scoped>\n",
       "    .dataframe tbody tr th:only-of-type {\n",
       "        vertical-align: middle;\n",
       "    }\n",
       "\n",
       "    .dataframe tbody tr th {\n",
       "        vertical-align: top;\n",
       "    }\n",
       "\n",
       "    .dataframe thead th {\n",
       "        text-align: right;\n",
       "    }\n",
       "</style>\n",
       "<table border=\"1\" class=\"dataframe\">\n",
       "  <thead>\n",
       "    <tr style=\"text-align: right;\">\n",
       "      <th></th>\n",
       "      <th></th>\n",
       "      <th>Open</th>\n",
       "      <th>High</th>\n",
       "      <th>Low</th>\n",
       "      <th>Close</th>\n",
       "      <th>Volume</th>\n",
       "      <th>Dividends</th>\n",
       "      <th>Closeunadj</th>\n",
       "      <th>Lastupdated</th>\n",
       "      <th>Set</th>\n",
       "    </tr>\n",
       "    <tr>\n",
       "      <th>Ticker</th>\n",
       "      <th>Date</th>\n",
       "      <th></th>\n",
       "      <th></th>\n",
       "      <th></th>\n",
       "      <th></th>\n",
       "      <th></th>\n",
       "      <th></th>\n",
       "      <th></th>\n",
       "      <th></th>\n",
       "      <th></th>\n",
       "    </tr>\n",
       "  </thead>\n",
       "  <tbody>\n",
       "    <tr>\n",
       "      <th rowspan=\"2\" valign=\"top\">A</th>\n",
       "      <th>1999-11-18</th>\n",
       "      <td>45.50</td>\n",
       "      <td>50.000</td>\n",
       "      <td>40.00</td>\n",
       "      <td>44.00</td>\n",
       "      <td>44739900.0</td>\n",
       "      <td>0.0</td>\n",
       "      <td>44.00</td>\n",
       "      <td>2018-02-11</td>\n",
       "      <td>train</td>\n",
       "    </tr>\n",
       "    <tr>\n",
       "      <th>1999-11-19</th>\n",
       "      <td>42.94</td>\n",
       "      <td>43.000</td>\n",
       "      <td>39.81</td>\n",
       "      <td>40.38</td>\n",
       "      <td>10897100.0</td>\n",
       "      <td>0.0</td>\n",
       "      <td>40.38</td>\n",
       "      <td>2018-02-11</td>\n",
       "      <td>train</td>\n",
       "    </tr>\n",
       "    <tr>\n",
       "      <th>...</th>\n",
       "      <th>...</th>\n",
       "      <td>...</td>\n",
       "      <td>...</td>\n",
       "      <td>...</td>\n",
       "      <td>...</td>\n",
       "      <td>...</td>\n",
       "      <td>...</td>\n",
       "      <td>...</td>\n",
       "      <td>...</td>\n",
       "      <td>...</td>\n",
       "    </tr>\n",
       "    <tr>\n",
       "      <th rowspan=\"2\" valign=\"top\">ZYNE</th>\n",
       "      <th>2017-08-17</th>\n",
       "      <td>6.36</td>\n",
       "      <td>6.639</td>\n",
       "      <td>6.20</td>\n",
       "      <td>6.32</td>\n",
       "      <td>651837.0</td>\n",
       "      <td>0.0</td>\n",
       "      <td>6.32</td>\n",
       "      <td>2017-11-01</td>\n",
       "      <td>train</td>\n",
       "    </tr>\n",
       "    <tr>\n",
       "      <th>2017-08-18</th>\n",
       "      <td>6.26</td>\n",
       "      <td>6.450</td>\n",
       "      <td>6.17</td>\n",
       "      <td>6.25</td>\n",
       "      <td>423696.0</td>\n",
       "      <td>0.0</td>\n",
       "      <td>6.25</td>\n",
       "      <td>2017-11-01</td>\n",
       "      <td>train</td>\n",
       "    </tr>\n",
       "  </tbody>\n",
       "</table>\n",
       "<p>14052292 rows × 9 columns</p>\n",
       "</div>"
      ],
      "text/plain": [
       "                    Open    High    Low  Close      Volume  Dividends  \\\n",
       "Ticker Date                                                             \n",
       "A      1999-11-18  45.50  50.000  40.00  44.00  44739900.0        0.0   \n",
       "       1999-11-19  42.94  43.000  39.81  40.38  10897100.0        0.0   \n",
       "...                  ...     ...    ...    ...         ...        ...   \n",
       "ZYNE   2017-08-17   6.36   6.639   6.20   6.32    651837.0        0.0   \n",
       "       2017-08-18   6.26   6.450   6.17   6.25    423696.0        0.0   \n",
       "\n",
       "                   Closeunadj Lastupdated    Set  \n",
       "Ticker Date                                       \n",
       "A      1999-11-18       44.00  2018-02-11  train  \n",
       "       1999-11-19       40.38  2018-02-11  train  \n",
       "...                       ...         ...    ...  \n",
       "ZYNE   2017-08-17        6.32  2017-11-01  train  \n",
       "       2017-08-18        6.25  2017-11-01  train  \n",
       "\n",
       "[14052292 rows x 9 columns]"
      ]
     },
     "execution_count": 5,
     "metadata": {},
     "output_type": "execute_result"
    }
   ],
   "source": [
    "prices"
   ]
  },
  {
   "cell_type": "code",
   "execution_count": 69,
   "metadata": {
    "ExecuteTime": {
     "end_time": "2018-07-13T23:00:56.764619Z",
     "start_time": "2018-07-13T23:00:55.618516Z"
    }
   },
   "outputs": [],
   "source": [
    "ticker_days = prices.groupby('Ticker')[['Set']].count().rename(columns={'Set': 'n_days'}).reset_index()"
   ]
  },
  {
   "cell_type": "code",
   "execution_count": 76,
   "metadata": {
    "ExecuteTime": {
     "end_time": "2018-07-13T23:01:52.062829Z",
     "start_time": "2018-07-13T23:01:51.835510Z"
    }
   },
   "outputs": [
    {
     "data": {
      "text/plain": [
       "<matplotlib.axes._subplots.AxesSubplot at 0x213b81cfe80>"
      ]
     },
     "execution_count": 76,
     "metadata": {},
     "output_type": "execute_result"
    },
    {
     "data": {
      "image/png": "[encoded data removed]",
      "text/plain": [
       "<Figure size 1152x360 with 1 Axes>"
      ]
     },
     "metadata": {},
     "output_type": "display_data"
    }
   ],
   "source": [
    "ticker_days.n_days.hist(bins=50, alpha=0.5)"
   ]
  },
  {
   "cell_type": "markdown",
   "metadata": {
    "heading_collapsed": true
   },
   "source": [
    "# Finding the trend in a single price\n",
    "\n",
    "See An introduction to smoothing time series in python, [part 1](http://www.nehalemlabs.net/prototype/blog/2013/04/05/an-introduction-to-smoothing-time-series-in-python-part-i-filtering-theory/) and [part 2](http://www.nehalemlabs.net/prototype/blog/2013/04/09/an-introduction-to-smoothing-time-series-in-python-part-ii-wiener-filter-and-smoothing-splines/).\n",
    "\n",
    "Series to check:\n",
    "\n",
    "* AKTC"
   ]
  },
  {
   "cell_type": "code",
   "execution_count": null,
   "metadata": {
    "ExecuteTime": {
     "end_time": "2018-07-13T19:12:52.132964Z",
     "start_time": "2018-07-13T19:12:51.735151Z"
    },
    "hidden": true,
    "scrolled": true
   },
   "outputs": [],
   "source": [
    "ticker = np.random.choice(tickers)\n",
    "price = prices.loc[ticker]\n",
    "print(len(price), 'days.')\n",
    "price[['Open', 'High', 'Low', 'Close']].plot()\n",
    "plt.title(ticker);"
   ]
  },
  {
   "cell_type": "markdown",
   "metadata": {
    "ExecuteTime": {
     "end_time": "2018-07-10T22:08:07.183578Z",
     "start_time": "2018-07-10T22:08:07.108808Z"
    },
    "hidden": true
   },
   "source": [
    "## Filters"
   ]
  },
  {
   "cell_type": "code",
   "execution_count": null,
   "metadata": {
    "ExecuteTime": {
     "end_time": "2018-07-13T19:12:52.954466Z",
     "start_time": "2018-07-13T19:12:52.883157Z"
    },
    "hidden": true
   },
   "outputs": [],
   "source": [
    "from scipy.interpolate import UnivariateSpline\n",
    "from scipy.signal import wiener, filtfilt, butter, gaussian, freqz\n",
    "from scipy.ndimage import filters\n",
    "import scipy.optimize as op"
   ]
  },
  {
   "cell_type": "markdown",
   "metadata": {
    "hidden": true
   },
   "source": [
    "### Linear "
   ]
  },
  {
   "cell_type": "code",
   "execution_count": null,
   "metadata": {
    "ExecuteTime": {
     "end_time": "2018-07-13T19:12:53.826384Z",
     "start_time": "2018-07-13T19:12:53.751416Z"
    },
    "hidden": true
   },
   "outputs": [],
   "source": [
    "N = 61\n",
    "f_sma = np.ones(N) / N"
   ]
  },
  {
   "cell_type": "markdown",
   "metadata": {
    "hidden": true
   },
   "source": [
    "### Gaussian"
   ]
  },
  {
   "cell_type": "code",
   "execution_count": null,
   "metadata": {
    "ExecuteTime": {
     "end_time": "2018-07-13T19:13:12.166616Z",
     "start_time": "2018-07-13T19:13:12.091671Z"
    },
    "hidden": true
   },
   "outputs": [],
   "source": [
    "N_ga = 151\n",
    "f_ga = gaussian(N_ga, std=30.)\n",
    "f_ga = f_ga / f_ga.sum()"
   ]
  },
  {
   "cell_type": "code",
   "execution_count": null,
   "metadata": {
    "ExecuteTime": {
     "end_time": "2018-07-13T19:13:12.698770Z",
     "start_time": "2018-07-13T19:13:12.556249Z"
    },
    "hidden": true
   },
   "outputs": [],
   "source": [
    "plt.figure(figsize=(7, 3))\n",
    "plt.axhline(c='grey')\n",
    "plt.axvline(c='grey')\n",
    "plt.plot(np.arange(-N/2, N/2), f_sma, label='f_sma')\n",
    "plt.plot(np.arange(-N_ga/2, N_ga/2), f_ga, label='f_ga')\n",
    "plt.show()"
   ]
  },
  {
   "cell_type": "markdown",
   "metadata": {
    "hidden": true
   },
   "source": [
    "### Wiener "
   ]
  },
  {
   "cell_type": "code",
   "execution_count": null,
   "metadata": {
    "ExecuteTime": {
     "end_time": "2018-07-13T19:13:17.732514Z",
     "start_time": "2018-07-13T19:13:17.659551Z"
    },
    "hidden": true
   },
   "outputs": [],
   "source": [
    "sigma = np.std(price.Close)\n",
    "f_wi = lambda x: wiener(x, mysize=N, noise=sigma)"
   ]
  },
  {
   "cell_type": "markdown",
   "metadata": {
    "hidden": true
   },
   "source": [
    "### Spline"
   ]
  },
  {
   "cell_type": "code",
   "execution_count": null,
   "metadata": {
    "ExecuteTime": {
     "end_time": "2018-07-13T19:13:18.384669Z",
     "start_time": "2018-07-13T19:13:18.301535Z"
    },
    "hidden": true
   },
   "outputs": [],
   "source": [
    "f_sp = lambda x: UnivariateSpline(np.arange(len(x)), x)(np.arange(len(x)))"
   ]
  },
  {
   "cell_type": "markdown",
   "metadata": {
    "hidden": true
   },
   "source": [
    "### Results"
   ]
  },
  {
   "cell_type": "code",
   "execution_count": null,
   "metadata": {
    "ExecuteTime": {
     "end_time": "2018-07-13T19:13:40.024292Z",
     "start_time": "2018-07-13T19:13:39.783830Z"
    },
    "hidden": true
   },
   "outputs": [],
   "source": [
    "plt.figure(figsize=(16, 6))\n",
    "results = price[['Close']].assign(sma=filters.convolve1d(price.Close, f_sma),\n",
    "                                  ga=filters.convolve1d(price.Close, f_ga),\n",
    "                                  ga2=filters.convolve1d(filters.convolve1d(price.Close, f_ga), f_ga),\n",
    "                                  wi=f_wi(price.Close),\n",
    "                                  sp=f_sp(price.Close))\n",
    "results[:1000].plot(alpha=0.5);"
   ]
  },
  {
   "cell_type": "code",
   "execution_count": null,
   "metadata": {
    "ExecuteTime": {
     "end_time": "2018-07-13T19:13:41.033893Z",
     "start_time": "2018-07-13T19:13:40.775599Z"
    },
    "hidden": true
   },
   "outputs": [],
   "source": [
    "plt.figure(figsize=(16, 6));\n",
    "results.plot(alpha = 0.5);"
   ]
  },
  {
   "cell_type": "code",
   "execution_count": null,
   "metadata": {
    "ExecuteTime": {
     "end_time": "2018-07-13T19:13:42.031638Z",
     "start_time": "2018-07-13T19:13:41.959774Z"
    },
    "hidden": true
   },
   "outputs": [],
   "source": [
    "def smooth_price(df, N=151, std=20.):\n",
    "    f_ga = gaussian(N_ga, std=std)\n",
    "    f_ga = f_ga / f_ga.sum()\n",
    "    df = df.assign(Smoothed=filters.convolve1d(df.Close, f_ga))\n",
    "    \n",
    "    return df"
   ]
  },
  {
   "cell_type": "markdown",
   "metadata": {
    "hidden": true
   },
   "source": [
    "## Trends "
   ]
  },
  {
   "cell_type": "markdown",
   "metadata": {
    "hidden": true
   },
   "source": [
    "### Peaks and Valleys"
   ]
  },
  {
   "cell_type": "code",
   "execution_count": null,
   "metadata": {
    "ExecuteTime": {
     "end_time": "2018-07-13T19:14:28.734490Z",
     "start_time": "2018-07-13T19:14:28.271879Z"
    },
    "hidden": true
   },
   "outputs": [],
   "source": [
    "from scipy.signal import find_peaks, find_peaks_cwt\n",
    "from sklearn.metrics import confusion_matrix"
   ]
  },
  {
   "cell_type": "code",
   "execution_count": null,
   "metadata": {
    "ExecuteTime": {
     "end_time": "2018-07-13T19:14:28.818366Z",
     "start_time": "2018-07-13T19:14:28.734490Z"
    },
    "hidden": true
   },
   "outputs": [],
   "source": [
    "results = smooth_price(price)"
   ]
  },
  {
   "cell_type": "code",
   "execution_count": null,
   "metadata": {
    "ExecuteTime": {
     "end_time": "2018-07-13T19:14:28.902155Z",
     "start_time": "2018-07-13T19:14:28.819332Z"
    },
    "hidden": true
   },
   "outputs": [],
   "source": [
    "results"
   ]
  },
  {
   "cell_type": "code",
   "execution_count": null,
   "metadata": {
    "ExecuteTime": {
     "end_time": "2018-07-13T19:14:28.983018Z",
     "start_time": "2018-07-13T19:14:28.904107Z"
    },
    "hidden": true
   },
   "outputs": [],
   "source": [
    "results = results.assign(Trend=np.nan, Max_Drawdown=np.nan)\n",
    "peaks, _ = find_peaks(results.Smoothed)\n",
    "valleys, _ = find_peaks(-results.Smoothed)"
   ]
  },
  {
   "cell_type": "code",
   "execution_count": null,
   "metadata": {
    "ExecuteTime": {
     "end_time": "2018-07-13T19:14:29.058814Z",
     "start_time": "2018-07-13T19:14:28.984890Z"
    },
    "hidden": true
   },
   "outputs": [],
   "source": [
    "n_changes = min(len(peaks), len(valleys))\n",
    "assert len(set(np.sign(peaks[:n_changes] - valleys[:n_changes]))) == 1"
   ]
  },
  {
   "cell_type": "code",
   "execution_count": null,
   "metadata": {
    "ExecuteTime": {
     "end_time": "2018-07-13T19:14:29.134613Z",
     "start_time": "2018-07-13T19:14:29.060721Z"
    },
    "hidden": true
   },
   "outputs": [],
   "source": [
    "# End\n",
    "if valleys.max() > peaks.max():\n",
    "    peaks = np.concatenate((peaks, np.ones(1, dtype=np.int32) * len(results) - 1))\n",
    "else:\n",
    "    valleys = np.concatenate((valleys, np.ones(1, dtype=np.int32) * len(results) - 1))"
   ]
  },
  {
   "cell_type": "code",
   "execution_count": null,
   "metadata": {
    "ExecuteTime": {
     "end_time": "2018-07-13T19:14:29.211312Z",
     "start_time": "2018-07-13T19:14:29.136485Z"
    },
    "hidden": true
   },
   "outputs": [],
   "source": [
    "peaks"
   ]
  },
  {
   "cell_type": "code",
   "execution_count": null,
   "metadata": {
    "ExecuteTime": {
     "end_time": "2018-07-13T19:14:29.290246Z",
     "start_time": "2018-07-13T19:14:29.212282Z"
    },
    "hidden": true
   },
   "outputs": [],
   "source": [
    "results.loc[results.index[peaks], 'Trend'] = 1\n",
    "results.loc[results.index[valleys], 'Trend'] = -1\n",
    "results.Trend.fillna(method='bfill', inplace=True)"
   ]
  },
  {
   "cell_type": "code",
   "execution_count": null,
   "metadata": {
    "ExecuteTime": {
     "end_time": "2018-07-13T19:14:29.380991Z",
     "start_time": "2018-07-13T19:14:29.292278Z"
    },
    "hidden": true
   },
   "outputs": [],
   "source": [
    "results"
   ]
  },
  {
   "cell_type": "code",
   "execution_count": null,
   "metadata": {
    "ExecuteTime": {
     "end_time": "2018-07-13T19:14:29.628894Z",
     "start_time": "2018-07-13T19:14:29.381988Z"
    },
    "hidden": true
   },
   "outputs": [],
   "source": [
    "fig, ax = plt.subplots(figsize=(16, 5))\n",
    "trans = matplotlib.transforms.blended_transform_factory(ax.transData, ax.transAxes)\n",
    "ax.fill_between(results.index, 0, results.Trend.max(), where= results.Trend > 0, facecolor=pal[0],\n",
    "                        alpha=0.25, transform=trans, label='Trend up')\n",
    "ax.fill_between(results.index, 0, results.Trend.max(), where= results.Trend < 0, facecolor=pal[4],\n",
    "                alpha=0.25, transform=trans, label='Trend down')\n",
    "plt.plot(results['Close'], alpha = 0.5)\n",
    "plt.plot(results['Smoothed'], alpha = 0.5)\n",
    "plt.plot(results.iloc[peaks]['Smoothed'], 'o', label='peaks')\n",
    "plt.plot(results.iloc[valleys]['Smoothed'], 'o', label='valleys')\n",
    "plt.axhline(0, c='grey')\n",
    "plt.show()"
   ]
  },
  {
   "cell_type": "markdown",
   "metadata": {
    "hidden": true
   },
   "source": [
    "### Slopes"
   ]
  },
  {
   "cell_type": "code",
   "execution_count": null,
   "metadata": {
    "ExecuteTime": {
     "end_time": "2018-07-13T19:14:30.354725Z",
     "start_time": "2018-07-13T19:14:30.248070Z"
    },
    "hidden": true,
    "scrolled": false
   },
   "outputs": [],
   "source": [
    "results = results.assign(Trend2=results.Smoothed.pct_change().apply(np.sign))\n",
    "results.loc[results.index[0], 'Trend2'] = results.Trend2[1]"
   ]
  },
  {
   "cell_type": "code",
   "execution_count": null,
   "metadata": {
    "ExecuteTime": {
     "end_time": "2018-07-13T19:14:30.571663Z",
     "start_time": "2018-07-13T19:14:30.354725Z"
    },
    "hidden": true,
    "scrolled": true
   },
   "outputs": [],
   "source": [
    "fig, ax = plt.subplots(figsize=(16, 5))\n",
    "trans = matplotlib.transforms.blended_transform_factory(ax.transData, ax.transAxes)\n",
    "ax.fill_between(results.index, 0, results.Trend2.max(), where= results.Trend2 > 0, facecolor=pal[0],\n",
    "                        alpha=0.25, transform=trans, label='Trend2 up')\n",
    "ax.fill_between(results.index, 0, results.Trend2.max(), where= results.Trend2 < 0, facecolor=pal[4],\n",
    "                alpha=0.25, transform=trans, label='Trend2 down')\n",
    "plt.plot(results['Close'], alpha = 0.5)\n",
    "plt.plot(results['Smoothed'], alpha = 0.5)\n",
    "plt.plot(results.iloc[peaks]['Smoothed'], 'o', label='peaks')\n",
    "plt.plot(results.iloc[valleys]['Smoothed'], 'o', label='valleys')\n",
    "plt.axhline(0, c='grey')\n",
    "plt.show()"
   ]
  },
  {
   "cell_type": "code",
   "execution_count": null,
   "metadata": {
    "ExecuteTime": {
     "end_time": "2018-07-13T19:14:30.656415Z",
     "start_time": "2018-07-13T19:14:30.572644Z"
    },
    "hidden": true
   },
   "outputs": [],
   "source": [
    "confusion_matrix(results.Trend.values, results.Trend2) / len(results)"
   ]
  },
  {
   "cell_type": "markdown",
   "metadata": {
    "hidden": true
   },
   "source": [
    "> Both methods are equivalent!!"
   ]
  },
  {
   "cell_type": "markdown",
   "metadata": {
    "hidden": true
   },
   "source": [
    "## Max drawdown within trend\n",
    "\n",
    "-> For trailing stop-loss orders..."
   ]
  },
  {
   "cell_type": "code",
   "execution_count": null,
   "metadata": {
    "ExecuteTime": {
     "end_time": "2018-07-13T19:14:44.056195Z",
     "start_time": "2018-07-13T19:14:43.975439Z"
    },
    "hidden": true
   },
   "outputs": [],
   "source": [
    "breakpoints = np.concatenate((np.zeros(1, dtype=np.int32), peaks + 1, valleys + 1))\n",
    "breakpoints.sort()\n",
    "print('Breakpoints:', breakpoints)"
   ]
  },
  {
   "cell_type": "code",
   "execution_count": null,
   "metadata": {
    "ExecuteTime": {
     "end_time": "2018-07-13T19:14:44.147977Z",
     "start_time": "2018-07-13T19:14:44.057194Z"
    },
    "hidden": true
   },
   "outputs": [],
   "source": [
    "b = 3\n",
    "trend_start = breakpoints[b - 1]\n",
    "trend_end = breakpoints[b]\n",
    "res_b = results[trend_start:trend_end]\n",
    "res_b"
   ]
  },
  {
   "cell_type": "code",
   "execution_count": null,
   "metadata": {
    "ExecuteTime": {
     "end_time": "2018-07-13T19:14:44.352762Z",
     "start_time": "2018-07-13T19:14:44.148952Z"
    },
    "hidden": true
   },
   "outputs": [],
   "source": [
    "for b in range(1, len(breakpoints)):\n",
    "\n",
    "    trend_start = breakpoints[b - 1]\n",
    "    trend_end = breakpoints[b]\n",
    "    res_b = results[trend_start:trend_end]\n",
    "    trend_b = res_b.Trend[0]\n",
    "\n",
    "    # Adjust for position (long, short)\n",
    "    close_b = res_b.Close[0] * res_b.Close.pct_change()[1:].mul(trend_b).add(1).cumprod()  \n",
    "    close_b[res_b.index[0]] = res_b.Close[0]\n",
    "    close_b = close_b.sort_index()\n",
    "\n",
    "    peak = close_b[0]\n",
    "    low = peak\n",
    "    drawdown = 0\n",
    "    max_drawdown = 0\n",
    "\n",
    "    for i in range(1, len(close_b)):\n",
    "        # Max drawdown\n",
    "        if close_b[i] > peak:\n",
    "            peak = close_b[i]\n",
    "            low = peak\n",
    "        if close_b[i] < low:\n",
    "            low = close_b[i]\n",
    "            drawdown = low / peak - 1\n",
    "        max_drawdown = min(drawdown, max_drawdown)\n",
    "    \n",
    "    results.loc[res_b.index, 'Max_Drawdown'] = -max_drawdown\n",
    "    "
   ]
  },
  {
   "cell_type": "code",
   "execution_count": null,
   "metadata": {
    "ExecuteTime": {
     "end_time": "2018-07-13T19:14:44.439938Z",
     "start_time": "2018-07-13T19:14:44.354626Z"
    },
    "hidden": true
   },
   "outputs": [],
   "source": [
    "results"
   ]
  },
  {
   "cell_type": "code",
   "execution_count": null,
   "metadata": {
    "ExecuteTime": {
     "end_time": "2018-07-13T19:14:44.680264Z",
     "start_time": "2018-07-13T19:14:44.441900Z"
    },
    "hidden": true
   },
   "outputs": [],
   "source": [
    "fig, ax = plt.subplots(figsize=(16, 5))\n",
    "trans = matplotlib.transforms.blended_transform_factory(ax.transData, ax.transAxes)\n",
    "ax.fill_between(results.index, 0, results.Trend.max(), where= results.Trend > 0, facecolor=pal[0],\n",
    "                        alpha=0.25, transform=trans, label='Trend up')\n",
    "ax.fill_between(results.index, 0, results.Trend.max(), where= results.Trend < 0, facecolor=pal[4],\n",
    "                alpha=0.25, transform=trans, label='Trend down')\n",
    "plt.plot(results.Close, label='Close')\n",
    "plt.plot(results.Close * (1 - results.Max_Drawdown * results.Trend), label='Stop-loss')\n",
    "plt.axhline(0, c='grey')\n",
    "plt.legend()\n",
    "plt.title(ticker)\n",
    "plt.show()"
   ]
  },
  {
   "cell_type": "code",
   "execution_count": null,
   "metadata": {
    "ExecuteTime": {
     "end_time": "2018-07-13T19:14:45.082352Z",
     "start_time": "2018-07-13T19:14:44.681259Z"
    },
    "hidden": true
   },
   "outputs": [],
   "source": [
    "res2 = find_trends(price)\n",
    "plot_trends(res2)"
   ]
  },
  {
   "cell_type": "markdown",
   "metadata": {},
   "source": [
    "# Sample..."
   ]
  },
  {
   "cell_type": "markdown",
   "metadata": {},
   "source": [
    "## A single asset "
   ]
  },
  {
   "cell_type": "code",
   "execution_count": 165,
   "metadata": {
    "ExecuteTime": {
     "end_time": "2018-07-14T00:03:04.060826Z",
     "start_time": "2018-07-14T00:03:03.989018Z"
    }
   },
   "outputs": [
    {
     "name": "stdout",
     "output_type": "stream",
     "text": [
      "212 days.\n"
     ]
    }
   ],
   "source": [
    "from utils import *\n",
    "ticker = np.random.choice(tickers)\n",
    "# ticker = 'AEE'\n",
    "price = prices.loc[ticker]\n",
    "print(len(price), 'days.')"
   ]
  },
  {
   "cell_type": "code",
   "execution_count": 166,
   "metadata": {
    "ExecuteTime": {
     "end_time": "2018-07-14T00:03:05.062892Z",
     "start_time": "2018-07-14T00:03:04.837482Z"
    }
   },
   "outputs": [
    {
     "data": {
      "image/png": "[encoded data removed]",
      "text/plain": [
       "<Figure size 1152x360 with 1 Axes>"
      ]
     },
     "metadata": {},
     "output_type": "display_data"
    }
   ],
   "source": [
    "trends = find_trends(price, sd=10., N=1500)\n",
    "plot_trends(trends, ticker)"
   ]
  },
  {
   "cell_type": "code",
   "execution_count": 167,
   "metadata": {
    "ExecuteTime": {
     "end_time": "2018-07-14T00:03:05.760275Z",
     "start_time": "2018-07-14T00:03:05.685485Z"
    }
   },
   "outputs": [
    {
     "data": {
      "text/html": [
       "<div>\n",
       "<style scoped>\n",
       "    .dataframe tbody tr th:only-of-type {\n",
       "        vertical-align: middle;\n",
       "    }\n",
       "\n",
       "    .dataframe tbody tr th {\n",
       "        vertical-align: top;\n",
       "    }\n",
       "\n",
       "    .dataframe thead th {\n",
       "        text-align: right;\n",
       "    }\n",
       "</style>\n",
       "<table border=\"1\" class=\"dataframe\">\n",
       "  <thead>\n",
       "    <tr style=\"text-align: right;\">\n",
       "      <th></th>\n",
       "      <th>count</th>\n",
       "      <th>mean</th>\n",
       "      <th>std</th>\n",
       "      <th>min</th>\n",
       "      <th>25%</th>\n",
       "      <th>50%</th>\n",
       "      <th>75%</th>\n",
       "      <th>max</th>\n",
       "    </tr>\n",
       "  </thead>\n",
       "  <tbody>\n",
       "    <tr>\n",
       "      <th>Trend</th>\n",
       "      <td>5.0</td>\n",
       "      <td>42.4</td>\n",
       "      <td>16.622274</td>\n",
       "      <td>28.0</td>\n",
       "      <td>29.0</td>\n",
       "      <td>38.0</td>\n",
       "      <td>49.0</td>\n",
       "      <td>68.0</td>\n",
       "    </tr>\n",
       "  </tbody>\n",
       "</table>\n",
       "</div>"
      ],
      "text/plain": [
       "       count  mean        std   min   25%   50%   75%   max\n",
       "Trend    5.0  42.4  16.622274  28.0  29.0  38.0  49.0  68.0"
      ]
     },
     "execution_count": 167,
     "metadata": {},
     "output_type": "execute_result"
    }
   ],
   "source": [
    "DataFrame(trends.groupby('n_Trend').Trend.count().describe()).transpose()"
   ]
  },
  {
   "cell_type": "code",
   "execution_count": 169,
   "metadata": {
    "ExecuteTime": {
     "end_time": "2018-07-14T00:03:11.303246Z",
     "start_time": "2018-07-14T00:03:11.061892Z"
    },
    "scrolled": true
   },
   "outputs": [
    {
     "data": {
      "image/png": "[encoded data removed]",
      "text/plain": [
       "<Figure size 1152x360 with 1 Axes>"
      ]
     },
     "metadata": {},
     "output_type": "display_data"
    }
   ],
   "source": [
    "trends2 = find_trends(price, sd=5.)\n",
    "plot_trends(trends2, ticker)"
   ]
  },
  {
   "cell_type": "code",
   "execution_count": 170,
   "metadata": {
    "ExecuteTime": {
     "end_time": "2018-07-14T00:03:14.743081Z",
     "start_time": "2018-07-14T00:03:14.669256Z"
    },
    "scrolled": true
   },
   "outputs": [
    {
     "data": {
      "text/html": [
       "<div>\n",
       "<style scoped>\n",
       "    .dataframe tbody tr th:only-of-type {\n",
       "        vertical-align: middle;\n",
       "    }\n",
       "\n",
       "    .dataframe tbody tr th {\n",
       "        vertical-align: top;\n",
       "    }\n",
       "\n",
       "    .dataframe thead th {\n",
       "        text-align: right;\n",
       "    }\n",
       "</style>\n",
       "<table border=\"1\" class=\"dataframe\">\n",
       "  <thead>\n",
       "    <tr style=\"text-align: right;\">\n",
       "      <th></th>\n",
       "      <th>count</th>\n",
       "      <th>mean</th>\n",
       "      <th>std</th>\n",
       "      <th>min</th>\n",
       "      <th>25%</th>\n",
       "      <th>50%</th>\n",
       "      <th>75%</th>\n",
       "      <th>max</th>\n",
       "    </tr>\n",
       "  </thead>\n",
       "  <tbody>\n",
       "    <tr>\n",
       "      <th>Trend</th>\n",
       "      <td>7.0</td>\n",
       "      <td>30.285714</td>\n",
       "      <td>13.437687</td>\n",
       "      <td>12.0</td>\n",
       "      <td>23.0</td>\n",
       "      <td>28.0</td>\n",
       "      <td>36.5</td>\n",
       "      <td>53.0</td>\n",
       "    </tr>\n",
       "  </tbody>\n",
       "</table>\n",
       "</div>"
      ],
      "text/plain": [
       "       count       mean        std   min   25%   50%   75%   max\n",
       "Trend    7.0  30.285714  13.437687  12.0  23.0  28.0  36.5  53.0"
      ]
     },
     "execution_count": 170,
     "metadata": {},
     "output_type": "execute_result"
    }
   ],
   "source": [
    "DataFrame(trends2.groupby('n_Trend').Trend.count().describe()).transpose()"
   ]
  },
  {
   "cell_type": "code",
   "execution_count": 171,
   "metadata": {
    "ExecuteTime": {
     "end_time": "2018-07-14T00:03:15.353040Z",
     "start_time": "2018-07-14T00:03:15.285046Z"
    }
   },
   "outputs": [],
   "source": [
    "def summarise_trends(df, sd=20.):\n",
    "    trends = find_trends(df, sd)\n",
    "    res = DataFrame(trends.groupby('n_Trend').Trend.count().describe())\n",
    "    res = res.transpose().assign(sd = sd).set_index('sd')\n",
    "    \n",
    "    return res"
   ]
  },
  {
   "cell_type": "code",
   "execution_count": 172,
   "metadata": {
    "ExecuteTime": {
     "end_time": "2018-07-14T00:03:16.048896Z",
     "start_time": "2018-07-14T00:03:15.933442Z"
    },
    "code_folding": [],
    "collapsed": true
   },
   "outputs": [
    {
     "ename": "AssertionError",
     "evalue": "",
     "output_type": "error",
     "traceback": [
      "\u001b[1;31m---------------------------------------------------------------------------\u001b[0m",
      "\u001b[1;31mAssertionError\u001b[0m                            Traceback (most recent call last)",
      "\u001b[1;32m<ipython-input-172-98e20a8ac05d>\u001b[0m in \u001b[0;36m<module>\u001b[1;34m()\u001b[0m\n\u001b[0;32m      1\u001b[0m \u001b[0msds\u001b[0m \u001b[1;33m=\u001b[0m \u001b[0mnp\u001b[0m\u001b[1;33m.\u001b[0m\u001b[0marange\u001b[0m\u001b[1;33m(\u001b[0m\u001b[1;36m5\u001b[0m\u001b[1;33m,\u001b[0m \u001b[1;36m150\u001b[0m\u001b[1;33m,\u001b[0m \u001b[0mstep\u001b[0m\u001b[1;33m=\u001b[0m\u001b[1;36m30\u001b[0m\u001b[1;33m)\u001b[0m\u001b[1;33m\u001b[0m\u001b[0m\n\u001b[1;32m----> 2\u001b[1;33m \u001b[0msum_trends\u001b[0m \u001b[1;33m=\u001b[0m \u001b[0mpd\u001b[0m\u001b[1;33m.\u001b[0m\u001b[0mconcat\u001b[0m\u001b[1;33m(\u001b[0m\u001b[1;33m[\u001b[0m\u001b[0msummarise_trends\u001b[0m\u001b[1;33m(\u001b[0m\u001b[0mprice\u001b[0m\u001b[1;33m,\u001b[0m \u001b[0ms\u001b[0m\u001b[1;33m)\u001b[0m \u001b[1;32mfor\u001b[0m \u001b[0ms\u001b[0m \u001b[1;32min\u001b[0m \u001b[0msds\u001b[0m\u001b[1;33m]\u001b[0m\u001b[1;33m,\u001b[0m \u001b[0maxis\u001b[0m\u001b[1;33m=\u001b[0m\u001b[1;36m0\u001b[0m\u001b[1;33m)\u001b[0m\u001b[1;33m\u001b[0m\u001b[0m\n\u001b[0m",
      "\u001b[1;32m<ipython-input-172-98e20a8ac05d>\u001b[0m in \u001b[0;36m<listcomp>\u001b[1;34m(.0)\u001b[0m\n\u001b[0;32m      1\u001b[0m \u001b[0msds\u001b[0m \u001b[1;33m=\u001b[0m \u001b[0mnp\u001b[0m\u001b[1;33m.\u001b[0m\u001b[0marange\u001b[0m\u001b[1;33m(\u001b[0m\u001b[1;36m5\u001b[0m\u001b[1;33m,\u001b[0m \u001b[1;36m150\u001b[0m\u001b[1;33m,\u001b[0m \u001b[0mstep\u001b[0m\u001b[1;33m=\u001b[0m\u001b[1;36m30\u001b[0m\u001b[1;33m)\u001b[0m\u001b[1;33m\u001b[0m\u001b[0m\n\u001b[1;32m----> 2\u001b[1;33m \u001b[0msum_trends\u001b[0m \u001b[1;33m=\u001b[0m \u001b[0mpd\u001b[0m\u001b[1;33m.\u001b[0m\u001b[0mconcat\u001b[0m\u001b[1;33m(\u001b[0m\u001b[1;33m[\u001b[0m\u001b[0msummarise_trends\u001b[0m\u001b[1;33m(\u001b[0m\u001b[0mprice\u001b[0m\u001b[1;33m,\u001b[0m \u001b[0ms\u001b[0m\u001b[1;33m)\u001b[0m \u001b[1;32mfor\u001b[0m \u001b[0ms\u001b[0m \u001b[1;32min\u001b[0m \u001b[0msds\u001b[0m\u001b[1;33m]\u001b[0m\u001b[1;33m,\u001b[0m \u001b[0maxis\u001b[0m\u001b[1;33m=\u001b[0m\u001b[1;36m0\u001b[0m\u001b[1;33m)\u001b[0m\u001b[1;33m\u001b[0m\u001b[0m\n\u001b[0m",
      "\u001b[1;32m<ipython-input-171-d33ce648e20e>\u001b[0m in \u001b[0;36msummarise_trends\u001b[1;34m(df, sd)\u001b[0m\n\u001b[0;32m      1\u001b[0m \u001b[1;32mdef\u001b[0m \u001b[0msummarise_trends\u001b[0m\u001b[1;33m(\u001b[0m\u001b[0mdf\u001b[0m\u001b[1;33m,\u001b[0m \u001b[0msd\u001b[0m\u001b[1;33m=\u001b[0m\u001b[1;36m20.\u001b[0m\u001b[1;33m)\u001b[0m\u001b[1;33m:\u001b[0m\u001b[1;33m\u001b[0m\u001b[0m\n\u001b[1;32m----> 2\u001b[1;33m     \u001b[0mtrends\u001b[0m \u001b[1;33m=\u001b[0m \u001b[0mfind_trends\u001b[0m\u001b[1;33m(\u001b[0m\u001b[0mdf\u001b[0m\u001b[1;33m,\u001b[0m \u001b[0msd\u001b[0m\u001b[1;33m)\u001b[0m\u001b[1;33m\u001b[0m\u001b[0m\n\u001b[0m\u001b[0;32m      3\u001b[0m     \u001b[0mres\u001b[0m \u001b[1;33m=\u001b[0m \u001b[0mDataFrame\u001b[0m\u001b[1;33m(\u001b[0m\u001b[0mtrends\u001b[0m\u001b[1;33m.\u001b[0m\u001b[0mgroupby\u001b[0m\u001b[1;33m(\u001b[0m\u001b[1;34m'n_Trend'\u001b[0m\u001b[1;33m)\u001b[0m\u001b[1;33m.\u001b[0m\u001b[0mTrend\u001b[0m\u001b[1;33m.\u001b[0m\u001b[0mcount\u001b[0m\u001b[1;33m(\u001b[0m\u001b[1;33m)\u001b[0m\u001b[1;33m.\u001b[0m\u001b[0mdescribe\u001b[0m\u001b[1;33m(\u001b[0m\u001b[1;33m)\u001b[0m\u001b[1;33m)\u001b[0m\u001b[1;33m\u001b[0m\u001b[0m\n\u001b[0;32m      4\u001b[0m     \u001b[0mres\u001b[0m \u001b[1;33m=\u001b[0m \u001b[0mres\u001b[0m\u001b[1;33m.\u001b[0m\u001b[0mtranspose\u001b[0m\u001b[1;33m(\u001b[0m\u001b[1;33m)\u001b[0m\u001b[1;33m.\u001b[0m\u001b[0massign\u001b[0m\u001b[1;33m(\u001b[0m\u001b[0msd\u001b[0m \u001b[1;33m=\u001b[0m \u001b[0msd\u001b[0m\u001b[1;33m)\u001b[0m\u001b[1;33m.\u001b[0m\u001b[0mset_index\u001b[0m\u001b[1;33m(\u001b[0m\u001b[1;34m'sd'\u001b[0m\u001b[1;33m)\u001b[0m\u001b[1;33m\u001b[0m\u001b[0m\n\u001b[0;32m      5\u001b[0m \u001b[1;33m\u001b[0m\u001b[0m\n",
      "\u001b[1;32m~\\Github\\trend-following\\utils.py\u001b[0m in \u001b[0;36mfind_trends\u001b[1;34m(df, sd, N)\u001b[0m\n\u001b[0;32m    270\u001b[0m \u001b[1;33m\u001b[0m\u001b[0m\n\u001b[0;32m    271\u001b[0m     \u001b[0mn_changes\u001b[0m \u001b[1;33m=\u001b[0m \u001b[0mmin\u001b[0m\u001b[1;33m(\u001b[0m\u001b[0mlen\u001b[0m\u001b[1;33m(\u001b[0m\u001b[0mpeaks\u001b[0m\u001b[1;33m)\u001b[0m\u001b[1;33m,\u001b[0m \u001b[0mlen\u001b[0m\u001b[1;33m(\u001b[0m\u001b[0mvalleys\u001b[0m\u001b[1;33m)\u001b[0m\u001b[1;33m)\u001b[0m\u001b[1;33m\u001b[0m\u001b[0m\n\u001b[1;32m--> 272\u001b[1;33m     \u001b[1;32massert\u001b[0m \u001b[0mlen\u001b[0m\u001b[1;33m(\u001b[0m\u001b[0mset\u001b[0m\u001b[1;33m(\u001b[0m\u001b[0mnumpy\u001b[0m\u001b[1;33m.\u001b[0m\u001b[0msign\u001b[0m\u001b[1;33m(\u001b[0m\u001b[0mpeaks\u001b[0m\u001b[1;33m[\u001b[0m\u001b[1;33m:\u001b[0m\u001b[0mn_changes\u001b[0m\u001b[1;33m]\u001b[0m \u001b[1;33m-\u001b[0m \u001b[0mvalleys\u001b[0m\u001b[1;33m[\u001b[0m\u001b[1;33m:\u001b[0m\u001b[0mn_changes\u001b[0m\u001b[1;33m]\u001b[0m\u001b[1;33m)\u001b[0m\u001b[1;33m)\u001b[0m\u001b[1;33m)\u001b[0m \u001b[1;33m==\u001b[0m \u001b[1;36m1\u001b[0m\u001b[1;33m\u001b[0m\u001b[0m\n\u001b[0m\u001b[0;32m    273\u001b[0m \u001b[1;33m\u001b[0m\u001b[0m\n\u001b[0;32m    274\u001b[0m     \u001b[1;32mif\u001b[0m \u001b[0mvalleys\u001b[0m\u001b[1;33m.\u001b[0m\u001b[0mmax\u001b[0m\u001b[1;33m(\u001b[0m\u001b[1;33m)\u001b[0m \u001b[1;33m>\u001b[0m \u001b[0mpeaks\u001b[0m\u001b[1;33m.\u001b[0m\u001b[0mmax\u001b[0m\u001b[1;33m(\u001b[0m\u001b[1;33m)\u001b[0m\u001b[1;33m:\u001b[0m \u001b[1;31m# Last\u001b[0m\u001b[1;33m\u001b[0m\u001b[0m\n",
      "\u001b[1;31mAssertionError\u001b[0m: "
     ]
    }
   ],
   "source": [
    "sds = np.arange(5, 150, step=30)\n",
    "sum_trends = pd.concat([summarise_trends(price, s) for s in sds], axis=0)"
   ]
  },
  {
   "cell_type": "code",
   "execution_count": null,
   "metadata": {
    "ExecuteTime": {
     "end_time": "2018-07-13T03:50:18.492651Z",
     "start_time": "2018-07-13T03:50:18.436351Z"
    }
   },
   "outputs": [],
   "source": [
    "sum_trends"
   ]
  },
  {
   "cell_type": "code",
   "execution_count": null,
   "metadata": {
    "ExecuteTime": {
     "end_time": "2018-07-13T03:50:19.076592Z",
     "start_time": "2018-07-13T03:50:18.757339Z"
    }
   },
   "outputs": [],
   "source": [
    "sum_trends[['mean', 'min', '50%', 'max']].plot()"
   ]
  },
  {
   "cell_type": "code",
   "execution_count": null,
   "metadata": {
    "ExecuteTime": {
     "end_time": "2018-07-13T03:50:19.793615Z",
     "start_time": "2018-07-13T03:50:19.335602Z"
    },
    "scrolled": false
   },
   "outputs": [],
   "source": [
    "sum_trends[['count']].plot()"
   ]
  },
  {
   "cell_type": "markdown",
   "metadata": {},
   "source": [
    "## Multiple assets"
   ]
  },
  {
   "cell_type": "markdown",
   "metadata": {},
   "source": [
    "### Single thread"
   ]
  },
  {
   "cell_type": "code",
   "execution_count": 135,
   "metadata": {
    "ExecuteTime": {
     "end_time": "2018-07-13T23:54:49.158902Z",
     "start_time": "2018-07-13T23:54:49.083935Z"
    }
   },
   "outputs": [],
   "source": [
    "from utils import *\n",
    "# summarise_trends(prices.loc['A'], sd=100)\n",
    "# results = pickle.load(open('output/Finding the trends - sd values for filtering.pickle', 'rb'))"
   ]
  },
  {
   "cell_type": "code",
   "execution_count": 136,
   "metadata": {
    "ExecuteTime": {
     "end_time": "2018-07-13T23:57:53.018635Z",
     "start_time": "2018-07-13T23:55:16.913693Z"
    }
   },
   "outputs": [
    {
     "data": {
      "application/vnd.jupyter.widget-view+json": {
       "model_id": "860393edeff546f9a50729bd4b9b5355",
       "version_major": 2,
       "version_minor": 0
      },
      "text/plain": [
       "HBox(children=(IntProgress(value=0, description='Ticker:', max=30), HTML(value='')))"
      ]
     },
     "metadata": {},
     "output_type": "display_data"
    },
    {
     "data": {
      "application/vnd.jupyter.widget-view+json": {
       "model_id": "",
       "version_major": 2,
       "version_minor": 0
      },
      "text/plain": [
       "HBox(children=(IntProgress(value=0, description='sd:', max=9), HTML(value='')))"
      ]
     },
     "metadata": {},
     "output_type": "display_data"
    },
    {
     "data": {
      "application/vnd.jupyter.widget-view+json": {
       "model_id": "",
       "version_major": 2,
       "version_minor": 0
      },
      "text/plain": [
       "HBox(children=(IntProgress(value=0, description='sd:', max=9), HTML(value='')))"
      ]
     },
     "metadata": {},
     "output_type": "display_data"
    },
    {
     "data": {
      "application/vnd.jupyter.widget-view+json": {
       "model_id": "",
       "version_major": 2,
       "version_minor": 0
      },
      "text/plain": [
       "HBox(children=(IntProgress(value=0, description='sd:', max=9), HTML(value='')))"
      ]
     },
     "metadata": {},
     "output_type": "display_data"
    },
    {
     "data": {
      "application/vnd.jupyter.widget-view+json": {
       "model_id": "",
       "version_major": 2,
       "version_minor": 0
      },
      "text/plain": [
       "HBox(children=(IntProgress(value=0, description='sd:', max=9), HTML(value='')))"
      ]
     },
     "metadata": {},
     "output_type": "display_data"
    },
    {
     "data": {
      "application/vnd.jupyter.widget-view+json": {
       "model_id": "",
       "version_major": 2,
       "version_minor": 0
      },
      "text/plain": [
       "HBox(children=(IntProgress(value=0, description='sd:', max=9), HTML(value='')))"
      ]
     },
     "metadata": {},
     "output_type": "display_data"
    },
    {
     "data": {
      "application/vnd.jupyter.widget-view+json": {
       "model_id": "",
       "version_major": 2,
       "version_minor": 0
      },
      "text/plain": [
       "HBox(children=(IntProgress(value=0, description='sd:', max=9), HTML(value='')))"
      ]
     },
     "metadata": {},
     "output_type": "display_data"
    },
    {
     "data": {
      "application/vnd.jupyter.widget-view+json": {
       "model_id": "",
       "version_major": 2,
       "version_minor": 0
      },
      "text/plain": [
       "HBox(children=(IntProgress(value=0, description='sd:', max=9), HTML(value='')))"
      ]
     },
     "metadata": {},
     "output_type": "display_data"
    },
    {
     "data": {
      "application/vnd.jupyter.widget-view+json": {
       "model_id": "",
       "version_major": 2,
       "version_minor": 0
      },
      "text/plain": [
       "HBox(children=(IntProgress(value=0, description='sd:', max=9), HTML(value='')))"
      ]
     },
     "metadata": {},
     "output_type": "display_data"
    },
    {
     "data": {
      "application/vnd.jupyter.widget-view+json": {
       "model_id": "",
       "version_major": 2,
       "version_minor": 0
      },
      "text/plain": [
       "HBox(children=(IntProgress(value=0, description='sd:', max=9), HTML(value='')))"
      ]
     },
     "metadata": {},
     "output_type": "display_data"
    },
    {
     "data": {
      "application/vnd.jupyter.widget-view+json": {
       "model_id": "",
       "version_major": 2,
       "version_minor": 0
      },
      "text/plain": [
       "HBox(children=(IntProgress(value=0, description='sd:', max=9), HTML(value='')))"
      ]
     },
     "metadata": {},
     "output_type": "display_data"
    },
    {
     "data": {
      "application/vnd.jupyter.widget-view+json": {
       "model_id": "",
       "version_major": 2,
       "version_minor": 0
      },
      "text/plain": [
       "HBox(children=(IntProgress(value=0, description='sd:', max=9), HTML(value='')))"
      ]
     },
     "metadata": {},
     "output_type": "display_data"
    },
    {
     "data": {
      "application/vnd.jupyter.widget-view+json": {
       "model_id": "",
       "version_major": 2,
       "version_minor": 0
      },
      "text/plain": [
       "HBox(children=(IntProgress(value=0, description='sd:', max=9), HTML(value='')))"
      ]
     },
     "metadata": {},
     "output_type": "display_data"
    },
    {
     "data": {
      "application/vnd.jupyter.widget-view+json": {
       "model_id": "",
       "version_major": 2,
       "version_minor": 0
      },
      "text/plain": [
       "HBox(children=(IntProgress(value=0, description='sd:', max=9), HTML(value='')))"
      ]
     },
     "metadata": {},
     "output_type": "display_data"
    },
    {
     "data": {
      "application/vnd.jupyter.widget-view+json": {
       "model_id": "",
       "version_major": 2,
       "version_minor": 0
      },
      "text/plain": [
       "HBox(children=(IntProgress(value=0, description='sd:', max=9), HTML(value='')))"
      ]
     },
     "metadata": {},
     "output_type": "display_data"
    },
    {
     "data": {
      "application/vnd.jupyter.widget-view+json": {
       "model_id": "",
       "version_major": 2,
       "version_minor": 0
      },
      "text/plain": [
       "HBox(children=(IntProgress(value=0, description='sd:', max=9), HTML(value='')))"
      ]
     },
     "metadata": {},
     "output_type": "display_data"
    },
    {
     "data": {
      "application/vnd.jupyter.widget-view+json": {
       "model_id": "",
       "version_major": 2,
       "version_minor": 0
      },
      "text/plain": [
       "HBox(children=(IntProgress(value=0, description='sd:', max=9), HTML(value='')))"
      ]
     },
     "metadata": {},
     "output_type": "display_data"
    },
    {
     "data": {
      "application/vnd.jupyter.widget-view+json": {
       "model_id": "",
       "version_major": 2,
       "version_minor": 0
      },
      "text/plain": [
       "HBox(children=(IntProgress(value=0, description='sd:', max=9), HTML(value='')))"
      ]
     },
     "metadata": {},
     "output_type": "display_data"
    },
    {
     "data": {
      "application/vnd.jupyter.widget-view+json": {
       "model_id": "",
       "version_major": 2,
       "version_minor": 0
      },
      "text/plain": [
       "HBox(children=(IntProgress(value=0, description='sd:', max=9), HTML(value='')))"
      ]
     },
     "metadata": {},
     "output_type": "display_data"
    },
    {
     "data": {
      "application/vnd.jupyter.widget-view+json": {
       "model_id": "",
       "version_major": 2,
       "version_minor": 0
      },
      "text/plain": [
       "HBox(children=(IntProgress(value=0, description='sd:', max=9), HTML(value='')))"
      ]
     },
     "metadata": {},
     "output_type": "display_data"
    },
    {
     "data": {
      "application/vnd.jupyter.widget-view+json": {
       "model_id": "",
       "version_major": 2,
       "version_minor": 0
      },
      "text/plain": [
       "HBox(children=(IntProgress(value=0, description='sd:', max=9), HTML(value='')))"
      ]
     },
     "metadata": {},
     "output_type": "display_data"
    },
    {
     "data": {
      "application/vnd.jupyter.widget-view+json": {
       "model_id": "",
       "version_major": 2,
       "version_minor": 0
      },
      "text/plain": [
       "HBox(children=(IntProgress(value=0, description='sd:', max=9), HTML(value='')))"
      ]
     },
     "metadata": {},
     "output_type": "display_data"
    },
    {
     "data": {
      "application/vnd.jupyter.widget-view+json": {
       "model_id": "",
       "version_major": 2,
       "version_minor": 0
      },
      "text/plain": [
       "HBox(children=(IntProgress(value=0, description='sd:', max=9), HTML(value='')))"
      ]
     },
     "metadata": {},
     "output_type": "display_data"
    },
    {
     "data": {
      "application/vnd.jupyter.widget-view+json": {
       "model_id": "",
       "version_major": 2,
       "version_minor": 0
      },
      "text/plain": [
       "HBox(children=(IntProgress(value=0, description='sd:', max=9), HTML(value='')))"
      ]
     },
     "metadata": {},
     "output_type": "display_data"
    },
    {
     "data": {
      "application/vnd.jupyter.widget-view+json": {
       "model_id": "",
       "version_major": 2,
       "version_minor": 0
      },
      "text/plain": [
       "HBox(children=(IntProgress(value=0, description='sd:', max=9), HTML(value='')))"
      ]
     },
     "metadata": {},
     "output_type": "display_data"
    },
    {
     "data": {
      "application/vnd.jupyter.widget-view+json": {
       "model_id": "",
       "version_major": 2,
       "version_minor": 0
      },
      "text/plain": [
       "HBox(children=(IntProgress(value=0, description='sd:', max=9), HTML(value='')))"
      ]
     },
     "metadata": {},
     "output_type": "display_data"
    },
    {
     "data": {
      "application/vnd.jupyter.widget-view+json": {
       "model_id": "",
       "version_major": 2,
       "version_minor": 0
      },
      "text/plain": [
       "HBox(children=(IntProgress(value=0, description='sd:', max=9), HTML(value='')))"
      ]
     },
     "metadata": {},
     "output_type": "display_data"
    },
    {
     "data": {
      "application/vnd.jupyter.widget-view+json": {
       "model_id": "",
       "version_major": 2,
       "version_minor": 0
      },
      "text/plain": [
       "HBox(children=(IntProgress(value=0, description='sd:', max=9), HTML(value='')))"
      ]
     },
     "metadata": {},
     "output_type": "display_data"
    },
    {
     "data": {
      "application/vnd.jupyter.widget-view+json": {
       "model_id": "",
       "version_major": 2,
       "version_minor": 0
      },
      "text/plain": [
       "HBox(children=(IntProgress(value=0, description='sd:', max=9), HTML(value='')))"
      ]
     },
     "metadata": {},
     "output_type": "display_data"
    },
    {
     "data": {
      "application/vnd.jupyter.widget-view+json": {
       "model_id": "",
       "version_major": 2,
       "version_minor": 0
      },
      "text/plain": [
       "HBox(children=(IntProgress(value=0, description='sd:', max=9), HTML(value='')))"
      ]
     },
     "metadata": {},
     "output_type": "display_data"
    },
    {
     "data": {
      "application/vnd.jupyter.widget-view+json": {
       "model_id": "",
       "version_major": 2,
       "version_minor": 0
      },
      "text/plain": [
       "HBox(children=(IntProgress(value=0, description='sd:', max=9), HTML(value='')))"
      ]
     },
     "metadata": {},
     "output_type": "display_data"
    }
   ],
   "source": [
    "n_tickers = 100\n",
    "sds = np.arange(10, 210, step=10)\n",
    "\n",
    "results = []\n",
    "grouped = prices.loc[np.random.choice(tickers, size=n_tickers)].groupby('Ticker')\n",
    "# grouped = prices.loc[list(set(results_df.Ticker.values))].groupby('Ticker')\n",
    "\n",
    "for name, group in tqdm_notebook(grouped, desc='Ticker:'):\n",
    "    \n",
    "    res_g = []\n",
    "    for s in tqdm_notebook(sds, desc='sd:', leave=False):\n",
    "        try:\n",
    "            res_g.append(summarise_trends(group, s, 500))\n",
    "        except:\n",
    "            pass\n",
    "    try:\n",
    "        results.append(pd.concat(res_g, axis=0).assign(Ticker=name))\n",
    "    except:\n",
    "        pass"
   ]
  },
  {
   "cell_type": "code",
   "execution_count": 59,
   "metadata": {
    "ExecuteTime": {
     "end_time": "2018-07-13T22:57:18.465982Z",
     "start_time": "2018-07-13T22:57:18.365722Z"
    }
   },
   "outputs": [],
   "source": [
    "pickle.dump(results, open('output/Finding the trends - sd values for filtering.pickle', 'wb'))"
   ]
  },
  {
   "cell_type": "markdown",
   "metadata": {
    "heading_collapsed": true
   },
   "source": [
    "### Parallel (TO DO...)"
   ]
  },
  {
   "cell_type": "code",
   "execution_count": 7,
   "metadata": {
    "ExecuteTime": {
     "end_time": "2018-07-13T20:10:52.512845Z",
     "start_time": "2018-07-13T20:10:52.404674Z"
    },
    "hidden": true
   },
   "outputs": [
    {
     "data": {
      "text/plain": [
       "[0, 1, 2, 3, 4, 5, 6]"
      ]
     },
     "execution_count": 7,
     "metadata": {},
     "output_type": "execute_result"
    }
   ],
   "source": [
    "import ipyparallel as ipp\n",
    "\n",
    "rc = ipp.Client()\n",
    "rc[:].use_dill()\n",
    "rc.ids"
   ]
  },
  {
   "cell_type": "code",
   "execution_count": 8,
   "metadata": {
    "ExecuteTime": {
     "end_time": "2018-07-13T20:10:53.663429Z",
     "start_time": "2018-07-13T20:10:53.517089Z"
    },
    "hidden": true
   },
   "outputs": [],
   "source": [
    "%%px --local\n",
    "import itertools\n",
    "import numpy\n",
    "import pandas\n",
    "from pandas import Series, DataFrame\n",
    "from datetime import datetime\n",
    "import matplotlib\n",
    "from matplotlib import pyplot\n",
    "import matplotlib.transforms\n",
    "import trading_strategies\n",
    "from utils import *"
   ]
  },
  {
   "cell_type": "code",
   "execution_count": 9,
   "metadata": {
    "ExecuteTime": {
     "end_time": "2018-07-13T20:10:54.735456Z",
     "start_time": "2018-07-13T20:10:54.668630Z"
    },
    "hidden": true
   },
   "outputs": [],
   "source": [
    "# view = rc.load_balanced_view()\n",
    "dview = rc[:]"
   ]
  },
  {
   "cell_type": "code",
   "execution_count": 10,
   "metadata": {
    "ExecuteTime": {
     "end_time": "2018-07-13T20:11:05.173960Z",
     "start_time": "2018-07-13T20:11:04.948026Z"
    },
    "hidden": true
   },
   "outputs": [],
   "source": [
    "grouped = prices.loc[np.random.choice(tickers, size=5)].groupby('Ticker')\n",
    "\n",
    "def aux_sum_trend(gr_item):\n",
    "    sds = np.arange(5, 20, step=5)\n",
    "    group, name = gr_item\n",
    "    sum_trends = pd.concat([summarise_trends(group, s) for s in sds], axis=0)\n",
    "    sum_trends = sum_trends.assign(Ticker=name)\n",
    "    \n",
    "    return sum_trends"
   ]
  },
  {
   "cell_type": "code",
   "execution_count": 11,
   "metadata": {
    "ExecuteTime": {
     "end_time": "2018-07-13T20:11:05.879377Z",
     "start_time": "2018-07-13T20:11:05.588113Z"
    },
    "hidden": true
   },
   "outputs": [
    {
     "data": {
      "text/plain": [
       "<AsyncResult: scatter>"
      ]
     },
     "execution_count": 11,
     "metadata": {},
     "output_type": "execute_result"
    }
   ],
   "source": [
    "dview.scatter('l_grouped', list(grouped))"
   ]
  },
  {
   "cell_type": "code",
   "execution_count": 12,
   "metadata": {
    "ExecuteTime": {
     "end_time": "2018-07-13T20:11:08.602711Z",
     "start_time": "2018-07-13T20:11:08.444709Z"
    },
    "hidden": true,
    "scrolled": false
   },
   "outputs": [
    {
     "ename": "NameError",
     "evalue": "name 'l_grouped' is not defined",
     "output_type": "error",
     "traceback": [
      "\u001b[1;31m---------------------------------------------------------------------------\u001b[0m",
      "\u001b[1;31mNameError\u001b[0m                                 Traceback (most recent call last)",
      "\u001b[1;32m<ipython-input-12-f42a26753213>\u001b[0m in \u001b[0;36m<module>\u001b[1;34m()\u001b[0m\n\u001b[1;32m----> 1\u001b[1;33m \u001b[0my\u001b[0m \u001b[1;33m=\u001b[0m \u001b[1;33m[\u001b[0m\u001b[0maux_sum_trend\u001b[0m\u001b[1;33m(\u001b[0m\u001b[0mi\u001b[0m\u001b[1;33m)\u001b[0m \u001b[1;32mfor\u001b[0m \u001b[0mi\u001b[0m \u001b[1;32min\u001b[0m \u001b[0ml_grouped\u001b[0m\u001b[1;33m]\u001b[0m\u001b[1;33m\u001b[0m\u001b[0m\n\u001b[0m",
      "\u001b[1;31mNameError\u001b[0m: name 'l_grouped' is not defined"
     ]
    },
    {
     "ename": "CompositeError",
     "evalue": "one or more exceptions from call to method: execute\n[0:execute]: NameError: name 'l_grouped' is not defined\n[1:execute]: NameError: name 'l_grouped' is not defined\n[2:execute]: NameError: name 'l_grouped' is not defined\n[3:execute]: NameError: name 'l_grouped' is not defined\n.... 3 more exceptions ...",
     "output_type": "error",
     "traceback": [
      "[0:execute]: ",
      "\u001b[1;31m---------------------------------------------------------------------------\u001b[0m\u001b[1;31mNameError\u001b[0m                                 Traceback (most recent call last)\u001b[1;32m<ipython-input-9-f42a26753213>\u001b[0m in \u001b[0;36m<module>\u001b[1;34m()\u001b[0m",
      "\u001b[1;32m----> 1\u001b[1;33m \u001b[0my\u001b[0m \u001b[1;33m=\u001b[0m \u001b[1;33m[\u001b[0m\u001b[0maux_sum_trend\u001b[0m\u001b[1;33m(\u001b[0m\u001b[0mi\u001b[0m\u001b[1;33m)\u001b[0m \u001b[1;32mfor\u001b[0m \u001b[0mi\u001b[0m \u001b[1;32min\u001b[0m \u001b[0ml_grouped\u001b[0m\u001b[1;33m]\u001b[0m\u001b[1;33m\u001b[0m\u001b[0m",
      "\u001b[0m\u001b[1;31mNameError\u001b[0m: name 'l_grouped' is not defined",
      "",
      "[1:execute]: ",
      "\u001b[1;31m---------------------------------------------------------------------------\u001b[0m\u001b[1;31mNameError\u001b[0m                                 Traceback (most recent call last)\u001b[1;32m<ipython-input-9-f42a26753213>\u001b[0m in \u001b[0;36m<module>\u001b[1;34m()\u001b[0m",
      "\u001b[1;32m----> 1\u001b[1;33m \u001b[0my\u001b[0m \u001b[1;33m=\u001b[0m \u001b[1;33m[\u001b[0m\u001b[0maux_sum_trend\u001b[0m\u001b[1;33m(\u001b[0m\u001b[0mi\u001b[0m\u001b[1;33m)\u001b[0m \u001b[1;32mfor\u001b[0m \u001b[0mi\u001b[0m \u001b[1;32min\u001b[0m \u001b[0ml_grouped\u001b[0m\u001b[1;33m]\u001b[0m\u001b[1;33m\u001b[0m\u001b[0m",
      "\u001b[0m\u001b[1;31mNameError\u001b[0m: name 'l_grouped' is not defined",
      "",
      "[2:execute]: ",
      "\u001b[1;31m---------------------------------------------------------------------------\u001b[0m\u001b[1;31mNameError\u001b[0m                                 Traceback (most recent call last)\u001b[1;32m<ipython-input-9-f42a26753213>\u001b[0m in \u001b[0;36m<module>\u001b[1;34m()\u001b[0m",
      "\u001b[1;32m----> 1\u001b[1;33m \u001b[0my\u001b[0m \u001b[1;33m=\u001b[0m \u001b[1;33m[\u001b[0m\u001b[0maux_sum_trend\u001b[0m\u001b[1;33m(\u001b[0m\u001b[0mi\u001b[0m\u001b[1;33m)\u001b[0m \u001b[1;32mfor\u001b[0m \u001b[0mi\u001b[0m \u001b[1;32min\u001b[0m \u001b[0ml_grouped\u001b[0m\u001b[1;33m]\u001b[0m\u001b[1;33m\u001b[0m\u001b[0m",
      "\u001b[0m\u001b[1;31mNameError\u001b[0m: name 'l_grouped' is not defined",
      "",
      "[3:execute]: ",
      "\u001b[1;31m---------------------------------------------------------------------------\u001b[0m\u001b[1;31mNameError\u001b[0m                                 Traceback (most recent call last)\u001b[1;32m<ipython-input-9-f42a26753213>\u001b[0m in \u001b[0;36m<module>\u001b[1;34m()\u001b[0m",
      "\u001b[1;32m----> 1\u001b[1;33m \u001b[0my\u001b[0m \u001b[1;33m=\u001b[0m \u001b[1;33m[\u001b[0m\u001b[0maux_sum_trend\u001b[0m\u001b[1;33m(\u001b[0m\u001b[0mi\u001b[0m\u001b[1;33m)\u001b[0m \u001b[1;32mfor\u001b[0m \u001b[0mi\u001b[0m \u001b[1;32min\u001b[0m \u001b[0ml_grouped\u001b[0m\u001b[1;33m]\u001b[0m\u001b[1;33m\u001b[0m\u001b[0m",
      "\u001b[0m\u001b[1;31mNameError\u001b[0m: name 'l_grouped' is not defined",
      "",
      "... 3 more exceptions ..."
     ]
    }
   ],
   "source": [
    "%%px \n",
    "y = [aux_sum_trend(i) for i in l_grouped]"
   ]
  },
  {
   "cell_type": "markdown",
   "metadata": {},
   "source": [
    "### Results"
   ]
  },
  {
   "cell_type": "code",
   "execution_count": 137,
   "metadata": {
    "ExecuteTime": {
     "end_time": "2018-07-13T23:57:56.850782Z",
     "start_time": "2018-07-13T23:57:56.762766Z"
    }
   },
   "outputs": [],
   "source": [
    "results_df = pd.concat(results, axis=0, sort=True)\n",
    "results_df = results_df.assign(trend_freq=364.25*results_df['count'].astype(np.float64)/results_df.n_days.astype(np.float64))"
   ]
  },
  {
   "cell_type": "code",
   "execution_count": 138,
   "metadata": {
    "ExecuteTime": {
     "end_time": "2018-07-13T23:57:57.562658Z",
     "start_time": "2018-07-13T23:57:57.435998Z"
    }
   },
   "outputs": [
    {
     "data": {
      "text/html": [
       "<div class=\"vega-embed\" id=\"4173e3f5-dacb-4c69-96a8-6fc5e5b794c1\"></div>\n",
       "\n",
       "<style>\n",
       ".vega-embed .error p {\n",
       "    color: firebrick;\n",
       "    font-size: 14px;\n",
       "}\n",
       "</style>\n"
      ]
     },
     "metadata": {
      "jupyter-vega": "#4173e3f5-dacb-4c69-96a8-6fc5e5b794c1"
     },
     "output_type": "display_data"
    },
    {
     "data": {
      "application/javascript": [
       "var spec = {\"config\": {\"view\": {\"width\": 400, \"height\": 300}}, \"data\": {\"values\": [{\"index\": 0, \"25%\": 2.0, \"50%\": 4.0, \"75%\": 12.0, \"Ticker\": \"ADAX\", \"count\": 21.0, \"max\": 24.0, \"mean\": 7.142857142857143, \"min\": 1.0, \"n_days\": 150, \"sd\": 10, \"std\": 6.710333183126709, \"trend_freq\": 50.995}, {\"index\": 1, \"25%\": 1.0, \"50%\": 2.0, \"75%\": 10.0, \"Ticker\": \"ADAX\", \"count\": 17.0, \"max\": 63.0, \"mean\": 8.823529411764707, \"min\": 1.0, \"n_days\": 150, \"sd\": 20, \"std\": 15.32659165518237, \"trend_freq\": 41.281666666666666}, {\"index\": 2, \"25%\": 3.0, \"50%\": 3.0, \"75%\": 19.25, \"Ticker\": \"ADAX\", \"count\": 10.0, \"max\": 67.0, \"mean\": 15.0, \"min\": 1.0, \"n_days\": 150, \"sd\": 30, \"std\": 21.8936824982307, \"trend_freq\": 24.283333333333335}, {\"index\": 3, \"25%\": 1.75, \"50%\": 8.5, \"75%\": 24.75, \"Ticker\": \"ADAX\", \"count\": 8.0, \"max\": 66.0, \"mean\": 18.75, \"min\": 1.0, \"n_days\": 150, \"sd\": 40, \"std\": 24.105423219089694, \"trend_freq\": 19.426666666666666}, {\"index\": 4, \"25%\": 21.0, \"50%\": 38.0, \"75%\": 54.5, \"Ticker\": \"ADAX\", \"count\": 4.0, \"max\": 71.0, \"mean\": 37.5, \"min\": 3.0, \"n_days\": 150, \"sd\": 50, \"std\": 29.183328574147716, \"trend_freq\": 9.713333333333333}, {\"index\": 5, \"25%\": 38.5, \"50%\": 50.0, \"75%\": 61.5, \"Ticker\": \"ADAX\", \"count\": 3.0, \"max\": 73.0, \"mean\": 50.0, \"min\": 27.0, \"n_days\": 150, \"sd\": 60, \"std\": 23.0, \"trend_freq\": 7.285}, {\"index\": 6, \"25%\": 1.25, \"50%\": 11.0, \"75%\": 40.25, \"Ticker\": \"ADAX\", \"count\": 6.0, \"max\": 79.0, \"mean\": 25.0, \"min\": 1.0, \"n_days\": 150, \"sd\": 70, \"std\": 31.95622005181464, \"trend_freq\": 14.57}, {\"index\": 7, \"25%\": 1.0, \"50%\": 20.0, \"75%\": 51.0, \"Ticker\": \"ADAX\", \"count\": 5.0, \"max\": 77.0, \"mean\": 30.0, \"min\": 1.0, \"n_days\": 150, \"sd\": 80, \"std\": 33.28663395418648, \"trend_freq\": 12.141666666666667}, {\"index\": 8, \"25%\": 1.0, \"50%\": 18.0, \"75%\": 48.0, \"Ticker\": \"ADAX\", \"count\": 5.0, \"max\": 82.0, \"mean\": 30.0, \"min\": 1.0, \"n_days\": 150, \"sd\": 90, \"std\": 34.835326896700714, \"trend_freq\": 12.141666666666667}, {\"index\": 9, \"25%\": 34.0, \"50%\": 48.0, \"75%\": 65.0, \"Ticker\": \"ADAX\", \"count\": 3.0, \"max\": 82.0, \"mean\": 50.0, \"min\": 20.0, \"n_days\": 150, \"sd\": 100, \"std\": 31.04834939252005, \"trend_freq\": 7.285}, {\"index\": 0, \"25%\": 1.0, \"50%\": 4.0, \"75%\": 10.0, \"Ticker\": \"AEE\", \"count\": 487.0, \"max\": 43.0, \"mean\": 7.057494866529774, \"min\": 1.0, \"n_days\": 3437, \"sd\": 10, \"std\": 7.738311262872881, \"trend_freq\": 51.611798079720685}, {\"index\": 1, \"25%\": 1.0, \"50%\": 4.0, \"75%\": 12.0, \"Ticker\": \"AEE\", \"count\": 375.0, \"max\": 75.0, \"mean\": 9.165333333333333, \"min\": 1.0, \"n_days\": 3437, \"sd\": 20, \"std\": 11.778452788423722, \"trend_freq\": 39.742144311899914}, {\"index\": 2, \"25%\": 1.0, \"50%\": 4.0, \"75%\": 16.0, \"Ticker\": \"AEE\", \"count\": 275.0, \"max\": 93.0, \"mean\": 12.498181818181818, \"min\": 1.0, \"n_days\": 3437, \"sd\": 30, \"std\": 16.84263241762233, \"trend_freq\": 29.144239162059936}, {\"index\": 3, \"25%\": 1.0, \"50%\": 4.0, \"75%\": 22.0, \"Ticker\": \"AEE\", \"count\": 219.0, \"max\": 141.0, \"mean\": 15.69406392694064, \"min\": 1.0, \"n_days\": 3437, \"sd\": 40, \"std\": 23.68723016433707, \"trend_freq\": 23.20941227814955}, {\"index\": 4, \"25%\": 1.0, \"50%\": 4.0, \"75%\": 39.0, \"Ticker\": \"AEE\", \"count\": 157.0, \"max\": 174.0, \"mean\": 21.89171974522293, \"min\": 1.0, \"n_days\": 3437, \"sd\": 50, \"std\": 32.27001061115461, \"trend_freq\": 16.638711085248765}, {\"index\": 5, \"25%\": 2.0, \"50%\": 15.0, \"75%\": 52.75, \"Ticker\": \"AEE\", \"count\": 102.0, \"max\": 177.0, \"mean\": 33.69607843137255, \"min\": 1.0, \"n_days\": 3437, \"sd\": 60, \"std\": 39.91346808990776, \"trend_freq\": 10.809863252836776}, {\"index\": 6, \"25%\": 5.5, \"50%\": 44.5, \"75%\": 75.75, \"Ticker\": \"AEE\", \"count\": 70.0, \"max\": 184.0, \"mean\": 49.1, \"min\": 1.0, \"n_days\": 3437, \"sd\": 70, \"std\": 43.894851304162, \"trend_freq\": 7.418533604887983}, {\"index\": 7, \"25%\": 31.75, \"50%\": 51.5, \"75%\": 82.0, \"Ticker\": \"AEE\", \"count\": 56.0, \"max\": 202.0, \"mean\": 61.375, \"min\": 1.0, \"n_days\": 3437, \"sd\": 80, \"std\": 48.160928147202476, \"trend_freq\": 5.934826883910387}, {\"index\": 8, \"25%\": 36.0, \"50%\": 56.0, \"75%\": 84.0, \"Ticker\": \"AEE\", \"count\": 49.0, \"max\": 201.0, \"mean\": 70.14285714285714, \"min\": 1.0, \"n_days\": 3437, \"sd\": 90, \"std\": 50.49711212864884, \"trend_freq\": 5.192973523421589}, {\"index\": 9, \"25%\": 42.25, \"50%\": 57.5, \"75%\": 94.25, \"Ticker\": \"AEE\", \"count\": 46.0, \"max\": 201.0, \"mean\": 74.71739130434783, \"min\": 1.0, \"n_days\": 3437, \"sd\": 100, \"std\": 49.55789567924156, \"trend_freq\": 4.87503636892639}, {\"index\": 0, \"25%\": 1.0, \"50%\": 3.0, \"75%\": 8.0, \"Ticker\": \"AKR\", \"count\": 595.0, \"max\": 42.0, \"mean\": 5.776470588235294, \"min\": 1.0, \"n_days\": 3437, \"sd\": 10, \"std\": 6.470506850529795, \"trend_freq\": 63.05753564154786}, {\"index\": 1, \"25%\": 1.0, \"50%\": 3.0, \"75%\": 11.0, \"Ticker\": \"AKR\", \"count\": 392.0, \"max\": 100.0, \"mean\": 8.767857142857142, \"min\": 1.0, \"n_days\": 3437, \"sd\": 20, \"std\": 11.999560413943389, \"trend_freq\": 41.54378818737271}, {\"index\": 2, \"25%\": 1.0, \"50%\": 2.0, \"75%\": 9.75, \"Ticker\": \"AKR\", \"count\": 362.0, \"max\": 101.0, \"mean\": 9.494475138121548, \"min\": 1.0, \"n_days\": 3437, \"sd\": 30, \"std\": 15.601556225228453, \"trend_freq\": 38.364416642420714}, {\"index\": 3, \"25%\": 1.0, \"50%\": 3.0, \"75%\": 9.75, \"Ticker\": \"AKR\", \"count\": 274.0, \"max\": 200.0, \"mean\": 12.543795620437956, \"min\": 1.0, \"n_days\": 3437, \"sd\": 40, \"std\": 23.12808533640516, \"trend_freq\": 29.038260110561538}, {\"index\": 4, \"25%\": 1.0, \"50%\": 2.0, \"75%\": 18.75, \"Ticker\": \"AKR\", \"count\": 206.0, \"max\": 307.0, \"mean\": 16.684466019417474, \"min\": 1.0, \"n_days\": 3437, \"sd\": 50, \"std\": 33.3693659931777, \"trend_freq\": 21.83168460867035}, {\"index\": 5, \"25%\": 1.0, \"50%\": 5.0, \"75%\": 43.5, \"Ticker\": \"AKR\", \"count\": 115.0, \"max\": 306.0, \"mean\": 29.88695652173913, \"min\": 1.0, \"n_days\": 3437, \"sd\": 60, \"std\": 48.79832561432053, \"trend_freq\": 12.187590922315973}, {\"index\": 6, \"25%\": 2.0, \"50%\": 31.0, \"75%\": 68.5, \"Ticker\": \"AKR\", \"count\": 71.0, \"max\": 352.0, \"mean\": 48.40845070422535, \"min\": 1.0, \"n_days\": 3437, \"sd\": 70, \"std\": 61.90720647291136, \"trend_freq\": 7.524512656386383}, {\"index\": 7, \"25%\": 2.0, \"50%\": 44.5, \"75%\": 76.25, \"Ticker\": \"AKR\", \"count\": 60.0, \"max\": 351.0, \"mean\": 57.28333333333333, \"min\": 1.0, \"n_days\": 3437, \"sd\": 80, \"std\": 67.30706051730552, \"trend_freq\": 6.358743089903986}, {\"index\": 8, \"25%\": 35.5, \"50%\": 58.0, \"75%\": 120.5, \"Ticker\": \"AKR\", \"count\": 43.0, \"max\": 356.0, \"mean\": 79.93023255813954, \"min\": 1.0, \"n_days\": 3437, \"sd\": 90, \"std\": 71.07655006394336, \"trend_freq\": 4.55709921443119}, {\"index\": 9, \"25%\": 45.0, \"50%\": 67.0, \"75%\": 135.0, \"Ticker\": \"AKR\", \"count\": 37.0, \"max\": 355.0, \"mean\": 92.89189189189189, \"min\": 7.0, \"n_days\": 3437, \"sd\": 100, \"std\": 72.91006018977681, \"trend_freq\": 3.9212249054407913}, {\"index\": 0, \"25%\": 1.0, \"50%\": 4.0, \"75%\": 10.0, \"Ticker\": \"ALD1\", \"count\": 292.0, \"max\": 37.0, \"mean\": 6.780821917808219, \"min\": 1.0, \"n_days\": 1980, \"sd\": 10, \"std\": 6.942070707928739, \"trend_freq\": 53.71767676767677}, {\"index\": 1, \"25%\": 1.0, \"50%\": 3.0, \"75%\": 16.0, \"Ticker\": \"ALD1\", \"count\": 216.0, \"max\": 55.0, \"mean\": 9.166666666666666, \"min\": 1.0, \"n_days\": 1980, \"sd\": 20, \"std\": 11.546468301284083, \"trend_freq\": 39.736363636363635}, {\"index\": 2, \"25%\": 1.0, \"50%\": 3.0, \"75%\": 19.0, \"Ticker\": \"ALD1\", \"count\": 165.0, \"max\": 93.0, \"mean\": 12.0, \"min\": 1.0, \"n_days\": 1980, \"sd\": 30, \"std\": 17.14073738346109, \"trend_freq\": 30.354166666666668}, {\"index\": 3, \"25%\": 1.0, \"50%\": 4.0, \"75%\": 21.0, \"Ticker\": \"ALD1\", \"count\": 132.0, \"max\": 103.0, \"mean\": 15.0, \"min\": 1.0, \"n_days\": 1980, \"sd\": 40, \"std\": 21.844698205620887, \"trend_freq\": 24.283333333333335}, {\"index\": 4, \"25%\": 2.0, \"50%\": 7.0, \"75%\": 35.25, \"Ticker\": \"ALD1\", \"count\": 92.0, \"max\": 123.0, \"mean\": 21.52173913043478, \"min\": 1.0, \"n_days\": 1980, \"sd\": 50, \"std\": 29.377601642422572, \"trend_freq\": 16.924747474747473}, {\"index\": 5, \"25%\": 1.0, \"50%\": 4.0, \"75%\": 33.5, \"Ticker\": \"ALD1\", \"count\": 88.0, \"max\": 129.0, \"mean\": 22.5, \"min\": 1.0, \"n_days\": 1980, \"sd\": 60, \"std\": 34.16962420616891, \"trend_freq\": 16.18888888888889}, {\"index\": 6, \"25%\": 2.0, \"50%\": 6.0, \"75%\": 58.0, \"Ticker\": \"ALD1\", \"count\": 61.0, \"max\": 132.0, \"mean\": 32.459016393442624, \"min\": 1.0, \"n_days\": 1980, \"sd\": 70, \"std\": 39.73561533036905, \"trend_freq\": 11.221843434343434}, {\"index\": 7, \"25%\": 5.0, \"50%\": 50.0, \"75%\": 87.0, \"Ticker\": \"ALD1\", \"count\": 33.0, \"max\": 236.0, \"mean\": 60.0, \"min\": 1.0, \"n_days\": 1980, \"sd\": 80, \"std\": 55.96818292565875, \"trend_freq\": 6.070833333333334}, {\"index\": 8, \"25%\": 40.0, \"50%\": 63.0, \"75%\": 108.75, \"Ticker\": \"ALD1\", \"count\": 26.0, \"max\": 235.0, \"mean\": 76.15384615384616, \"min\": 1.0, \"n_days\": 1980, \"sd\": 90, \"std\": 60.413701960858056, \"trend_freq\": 4.7830808080808085}, {\"index\": 9, \"25%\": 52.75, \"50%\": 85.0, \"75%\": 138.25, \"Ticker\": \"ALD1\", \"count\": 20.0, \"max\": 235.0, \"mean\": 99.0, \"min\": 6.0, \"n_days\": 1980, \"sd\": 100, \"std\": 62.09585120474721, \"trend_freq\": 3.6792929292929295}, {\"index\": 0, \"25%\": 1.0, \"50%\": 3.0, \"75%\": 10.0, \"Ticker\": \"ARRY\", \"count\": 487.0, \"max\": 46.0, \"mean\": 6.361396303901437, \"min\": 1.0, \"n_days\": 3098, \"sd\": 10, \"std\": 7.206877466697093, \"trend_freq\": 57.25944157520981}, {\"index\": 1, \"25%\": 1.0, \"50%\": 3.0, \"75%\": 9.0, \"Ticker\": \"ARRY\", \"count\": 345.0, \"max\": 66.0, \"mean\": 8.979710144927536, \"min\": 1.0, \"n_days\": 3098, \"sd\": 20, \"std\": 12.978835406938135, \"trend_freq\": 40.56367010974822}, {\"index\": 2, \"25%\": 1.0, \"50%\": 4.0, \"75%\": 22.5, \"Ticker\": \"ARRY\", \"count\": 227.0, \"max\": 95.0, \"mean\": 13.647577092511014, \"min\": 1.0, \"n_days\": 3098, \"sd\": 30, \"std\": 18.561045678245485, \"trend_freq\": 26.689719173660425}, {\"index\": 3, \"25%\": 2.0, \"50%\": 5.0, \"75%\": 34.0, \"Ticker\": \"ARRY\", \"count\": 153.0, \"max\": 111.0, \"mean\": 20.248366013071895, \"min\": 1.0, \"n_days\": 3098, \"sd\": 40, \"std\": 25.160872151896893, \"trend_freq\": 17.989105874757907}, {\"index\": 4, \"25%\": 1.75, \"50%\": 7.5, \"75%\": 41.0, \"Ticker\": \"ARRY\", \"count\": 128.0, \"max\": 112.0, \"mean\": 24.203125, \"min\": 1.0, \"n_days\": 3098, \"sd\": 50, \"std\": 29.61122349864345, \"trend_freq\": 15.049709489993544}, {\"index\": 5, \"25%\": 2.0, \"50%\": 7.5, \"75%\": 59.75, \"Ticker\": \"ARRY\", \"count\": 102.0, \"max\": 120.0, \"mean\": 30.372549019607842, \"min\": 1.0, \"n_days\": 3098, \"sd\": 60, \"std\": 35.47581007346922, \"trend_freq\": 11.992737249838605}, {\"index\": 6, \"25%\": 13.0, \"50%\": 50.0, \"75%\": 81.0, \"Ticker\": \"ARRY\", \"count\": 57.0, \"max\": 199.0, \"mean\": 54.35087719298246, \"min\": 1.0, \"n_days\": 3098, \"sd\": 70, \"std\": 45.603685325730204, \"trend_freq\": 6.70182375726275}, {\"index\": 7, \"25%\": 7.25, \"50%\": 46.0, \"75%\": 79.0, \"Ticker\": \"ARRY\", \"count\": 60.0, \"max\": 202.0, \"mean\": 51.63333333333333, \"min\": 1.0, \"n_days\": 3098, \"sd\": 80, \"std\": 46.96553610809637, \"trend_freq\": 7.054551323434474}, {\"index\": 8, \"25%\": 33.25, \"50%\": 68.0, \"75%\": 107.0, \"Ticker\": \"ARRY\", \"count\": 42.0, \"max\": 203.0, \"mean\": 73.76190476190476, \"min\": 2.0, \"n_days\": 3098, \"sd\": 90, \"std\": 51.36184857427075, \"trend_freq\": 4.938185926404132}, {\"index\": 9, \"25%\": 37.0, \"50%\": 69.0, \"75%\": 113.0, \"Ticker\": \"ARRY\", \"count\": 40.0, \"max\": 204.0, \"mean\": 77.45, \"min\": 1.0, \"n_days\": 3098, \"sd\": 100, \"std\": 55.377006243682224, \"trend_freq\": 4.703034215622982}, {\"index\": 0, \"25%\": 1.0, \"50%\": 2.0, \"75%\": 4.0, \"Ticker\": \"CNSI1\", \"count\": 87.0, \"max\": 23.0, \"mean\": 3.9655172413793105, \"min\": 1.0, \"n_days\": 345, \"sd\": 10, \"std\": 5.005690426699906, \"trend_freq\": 91.85434782608695}, {\"index\": 1, \"25%\": 1.0, \"50%\": 2.0, \"75%\": 5.0, \"Ticker\": \"CNSI1\", \"count\": 57.0, \"max\": 47.0, \"mean\": 6.052631578947368, \"min\": 1.0, \"n_days\": 345, \"sd\": 20, \"std\": 10.532977215514917, \"trend_freq\": 60.18043478260869}, {\"index\": 2, \"25%\": 1.0, \"50%\": 1.0, \"75%\": 5.5, \"Ticker\": \"CNSI1\", \"count\": 44.0, \"max\": 55.0, \"mean\": 7.840909090909091, \"min\": 1.0, \"n_days\": 345, \"sd\": 30, \"std\": 13.636379492591203, \"trend_freq\": 46.45507246376812}, {\"index\": 3, \"25%\": 1.0, \"50%\": 2.0, \"75%\": 7.0, \"Ticker\": \"CNSI1\", \"count\": 35.0, \"max\": 58.0, \"mean\": 9.857142857142858, \"min\": 1.0, \"n_days\": 345, \"sd\": 40, \"std\": 16.906564783335178, \"trend_freq\": 36.95289855072464}, {\"index\": 4, \"25%\": 1.0, \"50%\": 2.0, \"75%\": 38.0, \"Ticker\": \"CNSI1\", \"count\": 21.0, \"max\": 69.0, \"mean\": 16.428571428571427, \"min\": 1.0, \"n_days\": 345, \"sd\": 50, \"std\": 24.190021555532827, \"trend_freq\": 22.171739130434784}, {\"index\": 5, \"25%\": 1.0, \"50%\": 3.0, \"75%\": 45.5, \"Ticker\": \"CNSI1\", \"count\": 15.0, \"max\": 73.0, \"mean\": 23.0, \"min\": 1.0, \"n_days\": 345, \"sd\": 60, \"std\": 28.334733858943213, \"trend_freq\": 15.83695652173913}, {\"index\": 6, \"25%\": 44.5, \"50%\": 49.0, \"75%\": 65.0, \"Ticker\": \"CNSI1\", \"count\": 7.0, \"max\": 76.0, \"mean\": 49.285714285714285, \"min\": 1.0, \"n_days\": 345, \"sd\": 70, \"std\": 25.117817618271737, \"trend_freq\": 7.3905797101449275}, {\"index\": 7, \"25%\": 1.0, \"50%\": 2.0, \"75%\": 49.5, \"Ticker\": \"CNSI1\", \"count\": 11.0, \"max\": 120.0, \"mean\": 31.363636363636363, \"min\": 1.0, \"n_days\": 345, \"sd\": 80, \"std\": 40.11302214312138, \"trend_freq\": 11.61376811594203}, {\"index\": 8, \"25%\": 48.0, \"50%\": 55.0, \"75%\": 78.0, \"Ticker\": \"CNSI1\", \"count\": 5.0, \"max\": 120.0, \"mean\": 69.0, \"min\": 44.0, \"n_days\": 345, \"sd\": 90, \"std\": 31.400636936215164, \"trend_freq\": 5.278985507246377}, {\"index\": 9, \"25%\": 44.75, \"50%\": 50.5, \"75%\": 73.5, \"Ticker\": \"CNSI1\", \"count\": 6.0, \"max\": 119.0, \"mean\": 57.5, \"min\": 1.0, \"n_days\": 345, \"sd\": 100, \"std\": 39.46010643675458, \"trend_freq\": 6.334782608695652}, {\"index\": 0, \"25%\": 1.0, \"50%\": 3.0, \"75%\": 6.0, \"Ticker\": \"DBSI\", \"count\": 29.0, \"max\": 27.0, \"mean\": 5.137931034482759, \"min\": 1.0, \"n_days\": 149, \"sd\": 10, \"std\": 6.157017703001502, \"trend_freq\": 70.89429530201342}, {\"index\": 1, \"25%\": 1.0, \"50%\": 3.0, \"75%\": 7.75, \"Ticker\": \"DBSI\", \"count\": 22.0, \"max\": 27.0, \"mean\": 6.7727272727272725, \"min\": 1.0, \"n_days\": 149, \"sd\": 20, \"std\": 8.635099018826308, \"trend_freq\": 53.781879194630875}, {\"index\": 2, \"25%\": 1.0, \"50%\": 4.5, \"75%\": 24.25, \"Ticker\": \"DBSI\", \"count\": 12.0, \"max\": 38.0, \"mean\": 12.416666666666666, \"min\": 1.0, \"n_days\": 149, \"sd\": 30, \"std\": 14.773799494887953, \"trend_freq\": 29.335570469798657}, {\"index\": 3, \"25%\": 1.75, \"50%\": 2.5, \"75%\": 38.0, \"Ticker\": \"DBSI\", \"count\": 4.0, \"max\": 143.0, \"mean\": 37.25, \"min\": 1.0, \"n_days\": 149, \"sd\": 40, \"std\": 70.50472797385056, \"trend_freq\": 9.778523489932885}, {\"index\": 4, \"25%\": 1.75, \"50%\": 2.0, \"75%\": 37.5, \"Ticker\": \"DBSI\", \"count\": 4.0, \"max\": 144.0, \"mean\": 37.25, \"min\": 1.0, \"n_days\": 149, \"sd\": 50, \"std\": 71.16822792979089, \"trend_freq\": 9.778523489932885}, {\"index\": 5, \"25%\": 1.5, \"50%\": 2.0, \"75%\": 74.0, \"Ticker\": \"DBSI\", \"count\": 3.0, \"max\": 146.0, \"mean\": 49.666666666666664, \"min\": 1.0, \"n_days\": 149, \"sd\": 60, \"std\": 83.42861219829403, \"trend_freq\": 7.333892617449664}, {\"index\": 6, \"25%\": 1.0, \"50%\": 1.0, \"75%\": 3.0, \"Ticker\": \"DBSI\", \"count\": 5.0, \"max\": 143.0, \"mean\": 29.8, \"min\": 1.0, \"n_days\": 149, \"sd\": 70, \"std\": 63.28664946100402, \"trend_freq\": 12.223154362416107}, {\"index\": 0, \"25%\": 1.0, \"50%\": 2.0, \"75%\": 9.0, \"Ticker\": \"DNKY\", \"count\": 171.0, \"max\": 57.0, \"mean\": 5.6725146198830405, \"min\": 1.0, \"n_days\": 970, \"sd\": 10, \"std\": 7.165957437246754, \"trend_freq\": 64.2131443298969}, {\"index\": 1, \"25%\": 1.0, \"50%\": 2.0, \"75%\": 11.75, \"Ticker\": \"DNKY\", \"count\": 114.0, \"max\": 86.0, \"mean\": 8.508771929824562, \"min\": 1.0, \"n_days\": 970, \"sd\": 20, \"std\": 13.471862262314753, \"trend_freq\": 42.80876288659794}, {\"index\": 2, \"25%\": 1.0, \"50%\": 2.0, \"75%\": 6.5, \"Ticker\": \"DNKY\", \"count\": 127.0, \"max\": 91.0, \"mean\": 7.637795275590551, \"min\": 1.0, \"n_days\": 970, \"sd\": 30, \"std\": 14.570937202995156, \"trend_freq\": 47.690463917525776}, {\"index\": 3, \"25%\": 1.0, \"50%\": 2.0, \"75%\": 5.0, \"Ticker\": \"DNKY\", \"count\": 122.0, \"max\": 95.0, \"mean\": 7.950819672131147, \"min\": 1.0, \"n_days\": 970, \"sd\": 40, \"std\": 16.283567978162665, \"trend_freq\": 45.812886597938146}, {\"index\": 4, \"25%\": 1.0, \"50%\": 2.0, \"75%\": 15.5, \"Ticker\": \"DNKY\", \"count\": 59.0, \"max\": 90.0, \"mean\": 16.440677966101696, \"min\": 1.0, \"n_days\": 970, \"sd\": 50, \"std\": 27.333364219071846, \"trend_freq\": 22.15541237113402}, {\"index\": 5, \"25%\": 1.0, \"50%\": 2.0, \"75%\": 42.25, \"Ticker\": \"DNKY\", \"count\": 44.0, \"max\": 117.0, \"mean\": 22.045454545454547, \"min\": 1.0, \"n_days\": 970, \"sd\": 60, \"std\": 32.49683673010347, \"trend_freq\": 16.522680412371134}, {\"index\": 6, \"25%\": 1.0, \"50%\": 3.5, \"75%\": 55.25, \"Ticker\": \"DNKY\", \"count\": 28.0, \"max\": 202.0, \"mean\": 34.642857142857146, \"min\": 1.0, \"n_days\": 970, \"sd\": 70, \"std\": 47.72856453965355, \"trend_freq\": 10.514432989690722}, {\"index\": 7, \"25%\": 1.0, \"50%\": 2.0, \"75%\": 56.5, \"Ticker\": \"DNKY\", \"count\": 28.0, \"max\": 199.0, \"mean\": 34.642857142857146, \"min\": 1.0, \"n_days\": 970, \"sd\": 80, \"std\": 49.67391019939295, \"trend_freq\": 10.514432989690722}, {\"index\": 8, \"25%\": 1.0, \"50%\": 27.0, \"75%\": 71.25, \"Ticker\": \"DNKY\", \"count\": 22.0, \"max\": 202.0, \"mean\": 44.09090909090909, \"min\": 1.0, \"n_days\": 970, \"sd\": 90, \"std\": 53.40582195025012, \"trend_freq\": 8.261340206185567}, {\"index\": 9, \"25%\": 1.0, \"50%\": 28.5, \"75%\": 71.75, \"Ticker\": \"DNKY\", \"count\": 22.0, \"max\": 204.0, \"mean\": 44.09090909090909, \"min\": 1.0, \"n_days\": 970, \"sd\": 100, \"std\": 53.37282087971375, \"trend_freq\": 8.261340206185567}, {\"index\": 0, \"25%\": 1.0, \"50%\": 2.0, \"75%\": 6.0, \"Ticker\": \"FBMI\", \"count\": 561.0, \"max\": 35.0, \"mean\": 4.502673796791444, \"min\": 1.0, \"n_days\": 2526, \"sd\": 10, \"std\": 5.445549622874367, \"trend_freq\": 80.89637767220903}, {\"index\": 1, \"25%\": 1.0, \"50%\": 2.0, \"75%\": 5.0, \"Ticker\": \"FBMI\", \"count\": 438.0, \"max\": 78.0, \"mean\": 5.767123287671233, \"min\": 1.0, \"n_days\": 2526, \"sd\": 20, \"std\": 9.350564609947954, \"trend_freq\": 63.159738717339664}, {\"index\": 2, \"25%\": 1.0, \"50%\": 2.0, \"75%\": 8.0, \"Ticker\": \"FBMI\", \"count\": 291.0, \"max\": 127.0, \"mean\": 8.68041237113402, \"min\": 1.0, \"n_days\": 2526, \"sd\": 30, \"std\": 16.4464940557529, \"trend_freq\": 41.96229216152019}, {\"index\": 3, \"25%\": 1.0, \"50%\": 3.0, \"75%\": 11.0, \"Ticker\": \"FBMI\", \"count\": 190.0, \"max\": 173.0, \"mean\": 13.294736842105262, \"min\": 1.0, \"n_days\": 2526, \"sd\": 40, \"std\": 25.285198080969693, \"trend_freq\": 27.39806017418844}, {\"index\": 4, \"25%\": 1.0, \"50%\": 2.0, \"75%\": 10.0, \"Ticker\": \"FBMI\", \"count\": 153.0, \"max\": 196.0, \"mean\": 16.50980392156863, \"min\": 1.0, \"n_days\": 2526, \"sd\": 50, \"std\": 32.53906915804179, \"trend_freq\": 22.06264845605701}, {\"index\": 5, \"25%\": 1.0, \"50%\": 2.0, \"75%\": 33.0, \"Ticker\": \"FBMI\", \"count\": 97.0, \"max\": 461.0, \"mean\": 26.04123711340206, \"min\": 1.0, \"n_days\": 2526, \"sd\": 60, \"std\": 59.652451319737125, \"trend_freq\": 13.98743072050673}, {\"index\": 6, \"25%\": 2.0, \"50%\": 5.0, \"75%\": 56.25, \"Ticker\": \"FBMI\", \"count\": 54.0, \"max\": 467.0, \"mean\": 46.77777777777778, \"min\": 1.0, \"n_days\": 2526, \"sd\": 70, \"std\": 88.71401298909282, \"trend_freq\": 7.786817102137767}, {\"index\": 7, \"25%\": 1.0, \"50%\": 19.5, \"75%\": 61.5, \"Ticker\": \"FBMI\", \"count\": 48.0, \"max\": 470.0, \"mean\": 52.625, \"min\": 1.0, \"n_days\": 2526, \"sd\": 80, \"std\": 93.75809184936543, \"trend_freq\": 6.921615201900238}, {\"index\": 8, \"25%\": 2.0, \"50%\": 46.5, \"75%\": 69.0, \"Ticker\": \"FBMI\", \"count\": 34.0, \"max\": 613.0, \"mean\": 74.29411764705883, \"min\": 1.0, \"n_days\": 2526, \"sd\": 90, \"std\": 122.9805427852037, \"trend_freq\": 4.902810768012668}, {\"index\": 9, \"25%\": 45.5, \"50%\": 60.0, \"75%\": 84.25, \"Ticker\": \"FBMI\", \"count\": 24.0, \"max\": 612.0, \"mean\": 105.25, \"min\": 1.0, \"n_days\": 2526, \"sd\": 100, \"std\": 139.0358883917011, \"trend_freq\": 3.460807600950119}, {\"index\": 0, \"25%\": 3.0, \"50%\": 7.0, \"75%\": 12.0, \"Ticker\": \"GIFT\", \"count\": 31.0, \"max\": 31.0, \"mean\": 9.096774193548388, \"min\": 1.0, \"n_days\": 282, \"sd\": 10, \"std\": 7.858561525324583, \"trend_freq\": 40.041666666666664}, {\"index\": 1, \"25%\": 1.0, \"50%\": 3.0, \"75%\": 14.5, \"Ticker\": \"GIFT\", \"count\": 26.0, \"max\": 60.0, \"mean\": 10.846153846153847, \"min\": 1.0, \"n_days\": 282, \"sd\": 20, \"std\": 16.175765348674684, \"trend_freq\": 33.583333333333336}, {\"index\": 2, \"25%\": 4.0, \"50%\": 5.5, \"75%\": 20.25, \"Ticker\": \"GIFT\", \"count\": 18.0, \"max\": 63.0, \"mean\": 15.666666666666666, \"min\": 1.0, \"n_days\": 282, \"sd\": 30, \"std\": 19.378581262948686, \"trend_freq\": 23.25}, {\"index\": 3, \"25%\": 1.25, \"50%\": 3.0, \"75%\": 7.75, \"Ticker\": \"GIFT\", \"count\": 26.0, \"max\": 71.0, \"mean\": 10.846153846153847, \"min\": 1.0, \"n_days\": 282, \"sd\": 40, \"std\": 18.761007025620575, \"trend_freq\": 33.583333333333336}, {\"index\": 4, \"25%\": 1.25, \"50%\": 6.0, \"75%\": 13.0, \"Ticker\": \"GIFT\", \"count\": 18.0, \"max\": 81.0, \"mean\": 15.666666666666666, \"min\": 1.0, \"n_days\": 282, \"sd\": 50, \"std\": 24.379354814606366, \"trend_freq\": 23.25}, {\"index\": 5, \"25%\": 3.0, \"50%\": 4.0, \"75%\": 7.0, \"Ticker\": \"GIFT\", \"count\": 13.0, \"max\": 107.0, \"mean\": 21.692307692307693, \"min\": 1.0, \"n_days\": 282, \"sd\": 60, \"std\": 35.25947772203623, \"trend_freq\": 16.791666666666668}, {\"index\": 6, \"25%\": 4.5, \"50%\": 10.0, \"75%\": 44.0, \"Ticker\": \"GIFT\", \"count\": 7.0, \"max\": 174.0, \"mean\": 40.285714285714285, \"min\": 1.0, \"n_days\": 282, \"sd\": 70, \"std\": 64.55156668822812, \"trend_freq\": 9.041666666666666}, {\"index\": 7, \"25%\": 1.0, \"50%\": 3.0, \"75%\": 6.5, \"Ticker\": \"GIFT\", \"count\": 11.0, \"max\": 176.0, \"mean\": 25.636363636363637, \"min\": 1.0, \"n_days\": 282, \"sd\": 80, \"std\": 55.15301030274364, \"trend_freq\": 14.208333333333334}, {\"index\": 8, \"25%\": 1.0, \"50%\": 2.0, \"75%\": 7.0, \"Ticker\": \"GIFT\", \"count\": 9.0, \"max\": 182.0, \"mean\": 31.333333333333332, \"min\": 1.0, \"n_days\": 282, \"sd\": 90, \"std\": 62.18319708731612, \"trend_freq\": 11.625}, {\"index\": 9, \"25%\": 46.5, \"50%\": 86.0, \"75%\": 137.5, \"Ticker\": \"GIFT\", \"count\": 3.0, \"max\": 189.0, \"mean\": 94.0, \"min\": 7.0, \"n_days\": 282, \"sd\": 100, \"std\": 91.2633551870629, \"trend_freq\": 3.875}, {\"index\": 0, \"25%\": 1.0, \"50%\": 2.0, \"75%\": 6.0, \"Ticker\": \"GLDB\", \"count\": 254.0, \"max\": 36.0, \"mean\": 5.0236220472440944, \"min\": 1.0, \"n_days\": 1276, \"sd\": 10, \"std\": 6.3519497699763425, \"trend_freq\": 72.50744514106583}, {\"index\": 1, \"25%\": 1.0, \"50%\": 3.0, \"75%\": 12.0, \"Ticker\": \"GLDB\", \"count\": 144.0, \"max\": 72.0, \"mean\": 8.86111111111111, \"min\": 1.0, \"n_days\": 1276, \"sd\": 20, \"std\": 12.861614767249655, \"trend_freq\": 41.106583072100314}, {\"index\": 2, \"25%\": 1.0, \"50%\": 2.5, \"75%\": 10.75, \"Ticker\": \"GLDB\", \"count\": 108.0, \"max\": 142.0, \"mean\": 11.814814814814815, \"min\": 1.0, \"n_days\": 1276, \"sd\": 30, \"std\": 20.851118057899228, \"trend_freq\": 30.829937304075234}, {\"index\": 3, \"25%\": 1.0, \"50%\": 2.0, \"75%\": 25.75, \"Ticker\": \"GLDB\", \"count\": 74.0, \"max\": 190.0, \"mean\": 17.243243243243242, \"min\": 1.0, \"n_days\": 1276, \"sd\": 40, \"std\": 30.217390806380052, \"trend_freq\": 21.12421630094044}, {\"index\": 4, \"25%\": 1.0, \"50%\": 4.5, \"75%\": 50.75, \"Ticker\": \"GLDB\", \"count\": 42.0, \"max\": 192.0, \"mean\": 30.38095238095238, \"min\": 1.0, \"n_days\": 1276, \"sd\": 50, \"std\": 43.67449017165254, \"trend_freq\": 11.989420062695924}, {\"index\": 5, \"25%\": 1.25, \"50%\": 17.5, \"75%\": 70.0, \"Ticker\": \"GLDB\", \"count\": 30.0, \"max\": 198.0, \"mean\": 42.53333333333333, \"min\": 1.0, \"n_days\": 1276, \"sd\": 60, \"std\": 51.44111687888518, \"trend_freq\": 8.563871473354231}, {\"index\": 6, \"25%\": 19.0, \"50%\": 61.0, \"75%\": 92.0, \"Ticker\": \"GLDB\", \"count\": 17.0, \"max\": 336.0, \"mean\": 75.05882352941177, \"min\": 1.0, \"n_days\": 1276, \"sd\": 70, \"std\": 84.53510409013177, \"trend_freq\": 4.852860501567398}, {\"index\": 7, \"25%\": 53.5, \"50%\": 85.0, \"75%\": 100.5, \"Ticker\": \"GLDB\", \"count\": 12.0, \"max\": 403.0, \"mean\": 106.33333333333333, \"min\": 14.0, \"n_days\": 1276, \"sd\": 80, \"std\": 104.9149727882132, \"trend_freq\": 3.425548589341693}, {\"index\": 8, \"25%\": 53.5, \"50%\": 87.5, \"75%\": 101.0, \"Ticker\": \"GLDB\", \"count\": 12.0, \"max\": 401.0, \"mean\": 106.33333333333333, \"min\": 10.0, \"n_days\": 1276, \"sd\": 90, \"std\": 104.73545317377086, \"trend_freq\": 3.425548589341693}, {\"index\": 9, \"25%\": 2.0, \"50%\": 59.0, \"75%\": 94.0, \"Ticker\": \"GLDB\", \"count\": 16.0, \"max\": 400.0, \"mean\": 79.75, \"min\": 1.0, \"n_days\": 1276, \"sd\": 100, \"std\": 101.31765229547449, \"trend_freq\": 4.567398119122257}, {\"index\": 0, \"25%\": 2.0, \"50%\": 4.0, \"75%\": 11.0, \"Ticker\": \"HUN\", \"count\": 307.0, \"max\": 59.0, \"mean\": 7.690553745928339, \"min\": 1.0, \"n_days\": 2361, \"sd\": 10, \"std\": 9.02313703652699, \"trend_freq\": 47.363299449385856}, {\"index\": 1, \"25%\": 2.0, \"50%\": 5.5, \"75%\": 22.0, \"Ticker\": \"HUN\", \"count\": 184.0, \"max\": 66.0, \"mean\": 12.831521739130435, \"min\": 1.0, \"n_days\": 2361, \"sd\": 20, \"std\": 14.619355605750673, \"trend_freq\": 28.387124099957646}, {\"index\": 2, \"25%\": 1.0, \"50%\": 4.0, \"75%\": 27.0, \"Ticker\": \"HUN\", \"count\": 149.0, \"max\": 89.0, \"mean\": 15.845637583892618, \"min\": 1.0, \"n_days\": 2361, \"sd\": 30, \"std\": 20.756218486052322, \"trend_freq\": 22.987399407030917}, {\"index\": 3, \"25%\": 2.0, \"50%\": 8.5, \"75%\": 39.0, \"Ticker\": \"HUN\", \"count\": 92.0, \"max\": 123.0, \"mean\": 25.66304347826087, \"min\": 1.0, \"n_days\": 2361, \"sd\": 40, \"std\": 32.41702075440455, \"trend_freq\": 14.193562049978823}, {\"index\": 4, \"25%\": 2.75, \"50%\": 23.5, \"75%\": 53.25, \"Ticker\": \"HUN\", \"count\": 68.0, \"max\": 173.0, \"mean\": 34.720588235294116, \"min\": 1.0, \"n_days\": 2361, \"sd\": 50, \"std\": 39.87212604652165, \"trend_freq\": 10.490893689114781}, {\"index\": 5, \"25%\": 1.5, \"50%\": 26.0, \"75%\": 66.0, \"Ticker\": \"HUN\", \"count\": 59.0, \"max\": 213.0, \"mean\": 40.016949152542374, \"min\": 1.0, \"n_days\": 2361, \"sd\": 60, \"std\": 50.32634585466719, \"trend_freq\": 9.102393053790767}, {\"index\": 6, \"25%\": 20.0, \"50%\": 52.0, \"75%\": 103.0, \"Ticker\": \"HUN\", \"count\": 33.0, \"max\": 341.0, \"mean\": 71.54545454545455, \"min\": 1.0, \"n_days\": 2361, \"sd\": 70, \"std\": 76.01483856338959, \"trend_freq\": 5.091168996188056}, {\"index\": 7, \"25%\": 24.5, \"50%\": 57.0, \"75%\": 105.5, \"Ticker\": \"HUN\", \"count\": 30.0, \"max\": 339.0, \"mean\": 78.7, \"min\": 1.0, \"n_days\": 2361, \"sd\": 80, \"std\": 76.94384427888818, \"trend_freq\": 4.6283354510800505}, {\"index\": 8, \"25%\": 24.0, \"50%\": 57.5, \"75%\": 110.25, \"Ticker\": \"HUN\", \"count\": 28.0, \"max\": 343.0, \"mean\": 84.32142857142857, \"min\": 1.0, \"n_days\": 2361, \"sd\": 90, \"std\": 84.37045892149894, \"trend_freq\": 4.319779754341381}, {\"index\": 9, \"25%\": 44.0, \"50%\": 72.0, \"75%\": 118.25, \"Ticker\": \"HUN\", \"count\": 24.0, \"max\": 344.0, \"mean\": 98.375, \"min\": 4.0, \"n_days\": 2361, \"sd\": 100, \"std\": 84.14212226424073, \"trend_freq\": 3.7026683608640405}, {\"index\": 0, \"25%\": 1.0, \"50%\": 3.0, \"75%\": 8.0, \"Ticker\": \"INET2\", \"count\": 57.0, \"max\": 33.0, \"mean\": 5.43859649122807, \"min\": 1.0, \"n_days\": 310, \"sd\": 10, \"std\": 5.861550087098029, \"trend_freq\": 66.975}, {\"index\": 1, \"25%\": 1.0, \"50%\": 2.0, \"75%\": 6.0, \"Ticker\": \"INET2\", \"count\": 52.0, \"max\": 44.0, \"mean\": 5.961538461538462, \"min\": 1.0, \"n_days\": 310, \"sd\": 20, \"std\": 8.62045342163451, \"trend_freq\": 61.1}, {\"index\": 2, \"25%\": 1.0, \"50%\": 2.0, \"75%\": 6.0, \"Ticker\": \"INET2\", \"count\": 48.0, \"max\": 48.0, \"mean\": 6.458333333333333, \"min\": 1.0, \"n_days\": 310, \"sd\": 30, \"std\": 10.68894504145712, \"trend_freq\": 56.4}, {\"index\": 3, \"25%\": 1.0, \"50%\": 2.0, \"75%\": 5.0, \"Ticker\": \"INET2\", \"count\": 44.0, \"max\": 57.0, \"mean\": 7.045454545454546, \"min\": 1.0, \"n_days\": 310, \"sd\": 40, \"std\": 12.975745791990184, \"trend_freq\": 51.7}, {\"index\": 4, \"25%\": 1.0, \"50%\": 2.0, \"75%\": 5.75, \"Ticker\": \"INET2\", \"count\": 38.0, \"max\": 83.0, \"mean\": 8.157894736842104, \"min\": 1.0, \"n_days\": 310, \"sd\": 50, \"std\": 17.676563069063118, \"trend_freq\": 44.65}, {\"index\": 5, \"25%\": 1.0, \"50%\": 2.0, \"75%\": 3.0, \"Ticker\": \"INET2\", \"count\": 38.0, \"max\": 97.0, \"mean\": 8.157894736842104, \"min\": 1.0, \"n_days\": 310, \"sd\": 60, \"std\": 20.670551341107885, \"trend_freq\": 44.65}, {\"index\": 6, \"25%\": 1.0, \"50%\": 3.0, \"75%\": 6.5, \"Ticker\": \"INET2\", \"count\": 24.0, \"max\": 94.0, \"mean\": 12.916666666666666, \"min\": 1.0, \"n_days\": 310, \"sd\": 70, \"std\": 26.093338591306782, \"trend_freq\": 28.2}, {\"index\": 7, \"25%\": 1.0, \"50%\": 1.0, \"75%\": 6.75, \"Ticker\": \"INET2\", \"count\": 10.0, \"max\": 176.0, \"mean\": 31.0, \"min\": 1.0, \"n_days\": 310, \"sd\": 80, \"std\": 62.48021909194764, \"trend_freq\": 11.75}, {\"index\": 8, \"25%\": 8.5, \"50%\": 15.0, \"75%\": 154.0, \"Ticker\": \"INET2\", \"count\": 3.0, \"max\": 293.0, \"mean\": 103.33333333333333, \"min\": 2.0, \"n_days\": 310, \"sd\": 90, \"std\": 164.38471137345266, \"trend_freq\": 3.525}, {\"index\": 0, \"25%\": 1.5, \"50%\": 6.0, \"75%\": 11.0, \"Ticker\": \"MWH\", \"count\": 111.0, \"max\": 45.0, \"mean\": 8.711711711711711, \"min\": 1.0, \"n_days\": 967, \"sd\": 10, \"std\": 9.06480445297524, \"trend_freq\": 41.81153050672182}, {\"index\": 1, \"25%\": 2.0, \"50%\": 5.0, \"75%\": 19.0, \"Ticker\": \"MWH\", \"count\": 73.0, \"max\": 66.0, \"mean\": 13.246575342465754, \"min\": 1.0, \"n_days\": 967, \"sd\": 20, \"std\": 16.267538246730144, \"trend_freq\": 27.49767321613237}, {\"index\": 2, \"25%\": 1.0, \"50%\": 4.0, \"75%\": 20.0, \"Ticker\": \"MWH\", \"count\": 65.0, \"max\": 94.0, \"mean\": 14.876923076923077, \"min\": 1.0, \"n_days\": 967, \"sd\": 30, \"std\": 20.75791091089408, \"trend_freq\": 24.48422957600827}, {\"index\": 3, \"25%\": 3.0, \"50%\": 11.0, \"75%\": 36.0, \"Ticker\": \"MWH\", \"count\": 41.0, \"max\": 117.0, \"mean\": 23.585365853658537, \"min\": 1.0, \"n_days\": 967, \"sd\": 40, \"std\": 28.159346236867872, \"trend_freq\": 15.443898655635987}, {\"index\": 4, \"25%\": 1.0, \"50%\": 4.5, \"75%\": 32.75, \"Ticker\": \"MWH\", \"count\": 48.0, \"max\": 125.0, \"mean\": 20.145833333333332, \"min\": 1.0, \"n_days\": 967, \"sd\": 50, \"std\": 29.001826489314638, \"trend_freq\": 18.080661840744572}, {\"index\": 5, \"25%\": 2.0, \"50%\": 6.0, \"75%\": 67.0, \"Ticker\": \"MWH\", \"count\": 33.0, \"max\": 127.0, \"mean\": 29.303030303030305, \"min\": 1.0, \"n_days\": 967, \"sd\": 60, \"std\": 36.609838882878236, \"trend_freq\": 12.430455015511892}, {\"index\": 6, \"25%\": 2.5, \"50%\": 10.0, \"75%\": 69.5, \"Ticker\": \"MWH\", \"count\": 27.0, \"max\": 130.0, \"mean\": 35.81481481481482, \"min\": 1.0, \"n_days\": 967, \"sd\": 70, \"std\": 39.70568360501189, \"trend_freq\": 10.170372285418821}, {\"index\": 7, \"25%\": 13.5, \"50%\": 64.0, \"75%\": 83.25, \"Ticker\": \"MWH\", \"count\": 18.0, \"max\": 131.0, \"mean\": 53.72222222222222, \"min\": 1.0, \"n_days\": 967, \"sd\": 80, \"std\": 39.936428241063254, \"trend_freq\": 6.780248190279214}, {\"index\": 8, \"25%\": 24.0, \"50%\": 69.5, \"75%\": 88.25, \"Ticker\": \"MWH\", \"count\": 16.0, \"max\": 131.0, \"mean\": 60.4375, \"min\": 1.0, \"n_days\": 967, \"sd\": 90, \"std\": 39.505221173915736, \"trend_freq\": 6.02688728024819}, {\"index\": 9, \"25%\": 61.25, \"50%\": 80.0, \"75%\": 94.5, \"Ticker\": \"MWH\", \"count\": 12.0, \"max\": 169.0, \"mean\": 80.58333333333333, \"min\": 13.0, \"n_days\": 967, \"sd\": 100, \"std\": 41.99882754496267, \"trend_freq\": 4.520165460186143}, {\"index\": 0, \"25%\": 2.0, \"50%\": 7.0, \"75%\": 15.0, \"Ticker\": \"NTIA\", \"count\": 49.0, \"max\": 42.0, \"mean\": 9.89795918367347, \"min\": 1.0, \"n_days\": 485, \"sd\": 10, \"std\": 10.00883963046163, \"trend_freq\": 36.80051546391753}, {\"index\": 1, \"25%\": 2.0, \"50%\": 5.0, \"75%\": 19.25, \"Ticker\": \"NTIA\", \"count\": 40.0, \"max\": 79.0, \"mean\": 12.125, \"min\": 1.0, \"n_days\": 485, \"sd\": 20, \"std\": 15.5665445007011, \"trend_freq\": 30.04123711340206}, {\"index\": 2, \"25%\": 1.0, \"50%\": 8.5, \"75%\": 22.75, \"Ticker\": \"NTIA\", \"count\": 32.0, \"max\": 76.0, \"mean\": 15.15625, \"min\": 1.0, \"n_days\": 485, \"sd\": 30, \"std\": 18.10562089696225, \"trend_freq\": 24.03298969072165}, {\"index\": 3, \"25%\": 2.0, \"50%\": 5.0, \"75%\": 18.5, \"Ticker\": \"NTIA\", \"count\": 31.0, \"max\": 79.0, \"mean\": 15.64516129032258, \"min\": 1.0, \"n_days\": 485, \"sd\": 40, \"std\": 22.419557514361987, \"trend_freq\": 23.2819587628866}, {\"index\": 4, \"25%\": 1.0, \"50%\": 3.0, \"75%\": 28.5, \"Ticker\": \"NTIA\", \"count\": 24.0, \"max\": 99.0, \"mean\": 20.208333333333332, \"min\": 1.0, \"n_days\": 485, \"sd\": 50, \"std\": 30.633853349105348, \"trend_freq\": 18.024742268041237}, {\"index\": 5, \"25%\": 1.0, \"50%\": 4.0, \"75%\": 51.0, \"Ticker\": \"NTIA\", \"count\": 17.0, \"max\": 121.0, \"mean\": 28.529411764705884, \"min\": 1.0, \"n_days\": 485, \"sd\": 60, \"std\": 41.14170275866512, \"trend_freq\": 12.767525773195876}, {\"index\": 6, \"25%\": 5.0, \"50%\": 14.5, \"75%\": 80.0, \"Ticker\": \"NTIA\", \"count\": 10.0, \"max\": 165.0, \"mean\": 48.5, \"min\": 1.0, \"n_days\": 485, \"sd\": 70, \"std\": 59.51143680933196, \"trend_freq\": 7.510309278350515}, {\"index\": 7, \"25%\": 13.5, \"50%\": 74.0, \"75%\": 106.5, \"Ticker\": \"NTIA\", \"count\": 7.0, \"max\": 170.0, \"mean\": 69.28571428571429, \"min\": 1.0, \"n_days\": 485, \"sd\": 80, \"std\": 64.62639885195081, \"trend_freq\": 5.257216494845361}, {\"index\": 8, \"25%\": 71.0, \"50%\": 88.0, \"75%\": 131.0, \"Ticker\": \"NTIA\", \"count\": 5.0, \"max\": 174.0, \"mean\": 97.0, \"min\": 21.0, \"n_days\": 485, \"sd\": 90, \"std\": 58.348093370734915, \"trend_freq\": 3.7551546391752577}, {\"index\": 9, \"25%\": 72.0, \"50%\": 87.0, \"75%\": 129.0, \"Ticker\": \"NTIA\", \"count\": 5.0, \"max\": 176.0, \"mean\": 97.0, \"min\": 21.0, \"n_days\": 485, \"sd\": 100, \"std\": 58.66429919465501, \"trend_freq\": 3.7551546391752577}, {\"index\": 0, \"25%\": 1.0, \"50%\": 4.0, \"75%\": 11.0, \"Ticker\": \"OLED\", \"count\": 486.0, \"max\": 56.0, \"mean\": 7.07201646090535, \"min\": 1.0, \"n_days\": 3437, \"sd\": 10, \"std\": 7.72897606265203, \"trend_freq\": 51.505819028222284}, {\"index\": 1, \"25%\": 1.0, \"50%\": 5.0, \"75%\": 21.0, \"Ticker\": \"OLED\", \"count\": 286.0, \"max\": 70.0, \"mean\": 12.017482517482517, \"min\": 1.0, \"n_days\": 3437, \"sd\": 20, \"std\": 13.739801651753124, \"trend_freq\": 30.310008728542332}, {\"index\": 2, \"25%\": 1.0, \"50%\": 5.0, \"75%\": 26.25, \"Ticker\": \"OLED\", \"count\": 224.0, \"max\": 110.0, \"mean\": 15.34375, \"min\": 1.0, \"n_days\": 3437, \"sd\": 30, \"std\": 21.299964341324706, \"trend_freq\": 23.739307535641547}, {\"index\": 3, \"25%\": 1.0, \"50%\": 6.0, \"75%\": 34.0, \"Ticker\": \"OLED\", \"count\": 153.0, \"max\": 165.0, \"mean\": 22.464052287581698, \"min\": 1.0, \"n_days\": 3437, \"sd\": 40, \"std\": 31.18156214305914, \"trend_freq\": 16.214794879255166}, {\"index\": 4, \"25%\": 2.0, \"50%\": 8.5, \"75%\": 48.0, \"Ticker\": \"OLED\", \"count\": 118.0, \"max\": 290.0, \"mean\": 29.127118644067796, \"min\": 1.0, \"n_days\": 3437, \"sd\": 50, \"std\": 40.719500486031954, \"trend_freq\": 12.505528076811173}, {\"index\": 5, \"25%\": 3.0, \"50%\": 22.0, \"75%\": 57.5, \"Ticker\": \"OLED\", \"count\": 92.0, \"max\": 287.0, \"mean\": 37.358695652173914, \"min\": 1.0, \"n_days\": 3437, \"sd\": 60, \"std\": 45.29890509356253, \"trend_freq\": 9.75007273785278}, {\"index\": 6, \"25%\": 4.0, \"50%\": 35.0, \"75%\": 64.75, \"Ticker\": \"OLED\", \"count\": 78.0, \"max\": 285.0, \"mean\": 44.06410256410256, \"min\": 1.0, \"n_days\": 3437, \"sd\": 70, \"std\": 48.74485380592266, \"trend_freq\": 8.266366016875182}, {\"index\": 7, \"25%\": 6.5, \"50%\": 51.0, \"75%\": 84.5, \"Ticker\": \"OLED\", \"count\": 60.0, \"max\": 287.0, \"mean\": 57.28333333333333, \"min\": 1.0, \"n_days\": 3437, \"sd\": 80, \"std\": 53.90232587248232, \"trend_freq\": 6.358743089903986}, {\"index\": 8, \"25%\": 39.75, \"50%\": 59.0, \"75%\": 90.75, \"Ticker\": \"OLED\", \"count\": 50.0, \"max\": 288.0, \"mean\": 68.74, \"min\": 1.0, \"n_days\": 3437, \"sd\": 90, \"std\": 52.543008622480315, \"trend_freq\": 5.298952574919988}, {\"index\": 9, \"25%\": 46.75, \"50%\": 63.5, \"75%\": 106.0, \"Ticker\": \"OLED\", \"count\": 44.0, \"max\": 287.0, \"mean\": 78.11363636363636, \"min\": 1.0, \"n_days\": 3437, \"sd\": 100, \"std\": 51.348429431424634, \"trend_freq\": 4.66307826592959}, {\"index\": 0, \"25%\": 1.0, \"50%\": 4.0, \"75%\": 11.0, \"Ticker\": \"PAY\", \"count\": 314.0, \"max\": 55.0, \"mean\": 7.401273885350318, \"min\": 1.0, \"n_days\": 2324, \"sd\": 10, \"std\": 8.152194375284171, \"trend_freq\": 49.2145008605852}, {\"index\": 1, \"25%\": 1.0, \"50%\": 4.0, \"75%\": 19.0, \"Ticker\": \"PAY\", \"count\": 198.0, \"max\": 72.0, \"mean\": 11.737373737373737, \"min\": 1.0, \"n_days\": 2324, \"sd\": 20, \"std\": 15.12860997475448, \"trend_freq\": 31.033347676419965}, {\"index\": 2, \"25%\": 1.0, \"50%\": 5.0, \"75%\": 26.0, \"Ticker\": \"PAY\", \"count\": 140.0, \"max\": 135.0, \"mean\": 16.6, \"min\": 1.0, \"n_days\": 2324, \"sd\": 30, \"std\": 22.89789660787096, \"trend_freq\": 21.94277108433735}, {\"index\": 3, \"25%\": 2.0, \"50%\": 6.0, \"75%\": 38.0, \"Ticker\": \"PAY\", \"count\": 95.0, \"max\": 218.0, \"mean\": 24.46315789473684, \"min\": 1.0, \"n_days\": 2324, \"sd\": 40, \"std\": 35.35076830436429, \"trend_freq\": 14.88973752151463}, {\"index\": 4, \"25%\": 2.0, \"50%\": 19.0, \"75%\": 57.0, \"Ticker\": \"PAY\", \"count\": 62.0, \"max\": 214.0, \"mean\": 37.483870967741936, \"min\": 1.0, \"n_days\": 2324, \"sd\": 50, \"std\": 47.336514840332086, \"trend_freq\": 9.71751290877797}, {\"index\": 5, \"25%\": 2.0, \"50%\": 13.0, \"75%\": 66.5, \"Ticker\": \"PAY\", \"count\": 55.0, \"max\": 256.0, \"mean\": 42.25454545454546, \"min\": 1.0, \"n_days\": 2324, \"sd\": 60, \"std\": 60.76890596892405, \"trend_freq\": 8.620374354561102}, {\"index\": 6, \"25%\": 4.0, \"50%\": 48.0, \"75%\": 79.0, \"Ticker\": \"PAY\", \"count\": 37.0, \"max\": 258.0, \"mean\": 62.810810810810814, \"min\": 1.0, \"n_days\": 2324, \"sd\": 70, \"std\": 71.92389412807503, \"trend_freq\": 5.799160929432014}, {\"index\": 7, \"25%\": 3.0, \"50%\": 66.0, \"75%\": 96.0, \"Ticker\": \"PAY\", \"count\": 33.0, \"max\": 261.0, \"mean\": 70.42424242424242, \"min\": 1.0, \"n_days\": 2324, \"sd\": 80, \"std\": 73.65885482370327, \"trend_freq\": 5.172224612736661}, {\"index\": 8, \"25%\": 50.25, \"50%\": 82.5, \"75%\": 138.25, \"Ticker\": \"PAY\", \"count\": 22.0, \"max\": 295.0, \"mean\": 105.63636363636364, \"min\": 1.0, \"n_days\": 2324, \"sd\": 90, \"std\": 84.16850754491054, \"trend_freq\": 3.4481497418244405}, {\"index\": 9, \"25%\": 70.5, \"50%\": 101.0, \"75%\": 150.0, \"Ticker\": \"PAY\", \"count\": 19.0, \"max\": 293.0, \"mean\": 122.3157894736842, \"min\": 22.0, \"n_days\": 2324, \"sd\": 100, \"std\": 81.22263821782894, \"trend_freq\": 2.977947504302926}, {\"index\": 0, \"25%\": 2.0, \"50%\": 4.0, \"75%\": 11.0, \"Ticker\": \"PRME1\", \"count\": 19.0, \"max\": 51.0, \"mean\": 9.894736842105264, \"min\": 1.0, \"n_days\": 188, \"sd\": 10, \"std\": 12.887956207431744, \"trend_freq\": 36.8125}, {\"index\": 1, \"25%\": 1.0, \"50%\": 1.0, \"75%\": 19.25, \"Ticker\": \"PRME1\", \"count\": 16.0, \"max\": 53.0, \"mean\": 11.75, \"min\": 1.0, \"n_days\": 188, \"sd\": 20, \"std\": 15.767054258801801, \"trend_freq\": 31.0}, {\"index\": 2, \"25%\": 1.5, \"50%\": 2.0, \"75%\": 3.5, \"Ticker\": \"PRME1\", \"count\": 19.0, \"max\": 62.0, \"mean\": 9.894736842105264, \"min\": 1.0, \"n_days\": 188, \"sd\": 30, \"std\": 18.87942659452378, \"trend_freq\": 36.8125}, {\"index\": 3, \"25%\": 4.25, \"50%\": 22.0, \"75%\": 54.0, \"Ticker\": \"PRME1\", \"count\": 6.0, \"max\": 80.0, \"mean\": 31.333333333333332, \"min\": 1.0, \"n_days\": 188, \"sd\": 40, \"std\": 33.00101008555142, \"trend_freq\": 11.625}, {\"index\": 4, \"25%\": 1.0, \"50%\": 1.0, \"75%\": 4.5, \"Ticker\": \"PRME1\", \"count\": 16.0, \"max\": 77.0, \"mean\": 11.75, \"min\": 1.0, \"n_days\": 188, \"sd\": 50, \"std\": 23.147354060453647, \"trend_freq\": 31.0}, {\"index\": 5, \"25%\": 1.75, \"50%\": 4.5, \"75%\": 39.25, \"Ticker\": \"PRME1\", \"count\": 8.0, \"max\": 82.0, \"mean\": 23.5, \"min\": 1.0, \"n_days\": 188, \"sd\": 60, \"std\": 31.843366656181317, \"trend_freq\": 15.5}, {\"index\": 6, \"25%\": 1.25, \"50%\": 17.5, \"75%\": 55.5, \"Ticker\": \"PRME1\", \"count\": 6.0, \"max\": 88.0, \"mean\": 31.333333333333332, \"min\": 1.0, \"n_days\": 188, \"sd\": 70, \"std\": 37.19498174037281, \"trend_freq\": 11.625}, {\"index\": 7, \"25%\": 22.0, \"50%\": 48.0, \"75%\": 73.0, \"Ticker\": \"PRME1\", \"count\": 4.0, \"max\": 91.0, \"mean\": 47.0, \"min\": 1.0, \"n_days\": 188, \"sd\": 80, \"std\": 39.89987468652001, \"trend_freq\": 7.75}, {\"index\": 8, \"25%\": 47.5, \"50%\": 67.0, \"75%\": 80.0, \"Ticker\": \"PRME1\", \"count\": 3.0, \"max\": 93.0, \"mean\": 62.666666666666664, \"min\": 28.0, \"n_days\": 188, \"sd\": 90, \"std\": 32.715949219506584, \"trend_freq\": 5.8125}, {\"index\": 9, \"25%\": 20.5, \"50%\": 47.5, \"75%\": 74.0, \"Ticker\": \"PRME1\", \"count\": 4.0, \"max\": 92.0, \"mean\": 47.0, \"min\": 1.0, \"n_days\": 188, \"sd\": 100, \"std\": 40.75127809856602, \"trend_freq\": 7.75}, {\"index\": 0, \"25%\": 1.0, \"50%\": 4.0, \"75%\": 10.0, \"Ticker\": \"REXX\", \"count\": 280.0, \"max\": 48.0, \"mean\": 6.817857142857143, \"min\": 1.0, \"n_days\": 1909, \"sd\": 10, \"std\": 7.534320687576703, \"trend_freq\": 53.425877422734416}, {\"index\": 1, \"25%\": 1.5, \"50%\": 4.0, \"75%\": 18.0, \"Ticker\": \"REXX\", \"count\": 179.0, \"max\": 85.0, \"mean\": 10.664804469273744, \"min\": 1.0, \"n_days\": 1909, \"sd\": 20, \"std\": 13.32562966620635, \"trend_freq\": 34.15440020953379}, {\"index\": 2, \"25%\": 2.0, \"50%\": 7.5, \"75%\": 26.0, \"Ticker\": \"REXX\", \"count\": 102.0, \"max\": 169.0, \"mean\": 18.715686274509803, \"min\": 1.0, \"n_days\": 1909, \"sd\": 30, \"std\": 26.899290524333225, \"trend_freq\": 19.462283918281823}, {\"index\": 3, \"25%\": 1.0, \"50%\": 4.0, \"75%\": 23.75, \"Ticker\": \"REXX\", \"count\": 94.0, \"max\": 211.0, \"mean\": 20.30851063829787, \"min\": 1.0, \"n_days\": 1909, \"sd\": 40, \"std\": 34.74299700326244, \"trend_freq\": 17.935830277632267}, {\"index\": 4, \"25%\": 2.0, \"50%\": 6.5, \"75%\": 44.0, \"Ticker\": \"REXX\", \"count\": 58.0, \"max\": 203.0, \"mean\": 32.91379310344828, \"min\": 1.0, \"n_days\": 1909, \"sd\": 50, \"std\": 49.88523125776459, \"trend_freq\": 11.066788894709273}, {\"index\": 5, \"25%\": 2.0, \"50%\": 5.0, \"75%\": 47.0, \"Ticker\": \"REXX\", \"count\": 53.0, \"max\": 206.0, \"mean\": 36.0188679245283, \"min\": 1.0, \"n_days\": 1909, \"sd\": 60, \"std\": 55.65155695038057, \"trend_freq\": 10.1127553693033}, {\"index\": 6, \"25%\": 2.25, \"50%\": 43.5, \"75%\": 100.25, \"Ticker\": \"REXX\", \"count\": 30.0, \"max\": 211.0, \"mean\": 63.63333333333333, \"min\": 1.0, \"n_days\": 1909, \"sd\": 70, \"std\": 66.45376060728674, \"trend_freq\": 5.72420115243583}, {\"index\": 7, \"25%\": 47.5, \"50%\": 99.0, \"75%\": 137.5, \"Ticker\": \"REXX\", \"count\": 19.0, \"max\": 211.0, \"mean\": 100.47368421052632, \"min\": 15.0, \"n_days\": 1909, \"sd\": 80, \"std\": 60.99851402657521, \"trend_freq\": 3.6253273965426924}, {\"index\": 8, \"25%\": 42.5, \"50%\": 96.5, \"75%\": 127.25, \"Ticker\": \"REXX\", \"count\": 20.0, \"max\": 211.0, \"mean\": 95.45, \"min\": 4.0, \"n_days\": 1909, \"sd\": 90, \"std\": 63.05258874438401, \"trend_freq\": 3.816134101623887}, {\"index\": 9, \"25%\": 42.0, \"50%\": 95.0, \"75%\": 115.0, \"Ticker\": \"REXX\", \"count\": 21.0, \"max\": 211.0, \"mean\": 90.9047619047619, \"min\": 1.0, \"n_days\": 1909, \"sd\": 100, \"std\": 65.99917026895471, \"trend_freq\": 4.006940806705082}, {\"index\": 0, \"25%\": 2.0, \"50%\": 7.0, \"75%\": 11.0, \"Ticker\": \"RLBS\", \"count\": 175.0, \"max\": 73.0, \"mean\": 8.64, \"min\": 1.0, \"n_days\": 1512, \"sd\": 10, \"std\": 9.123772157984032, \"trend_freq\": 42.15856481481482}, {\"index\": 1, \"25%\": 2.0, \"50%\": 5.0, \"75%\": 11.0, \"Ticker\": \"RLBS\", \"count\": 157.0, \"max\": 84.0, \"mean\": 9.630573248407643, \"min\": 1.0, \"n_days\": 1512, \"sd\": 20, \"std\": 13.093003917831716, \"trend_freq\": 37.82225529100529}, {\"index\": 2, \"25%\": 2.0, \"50%\": 4.0, \"75%\": 12.0, \"Ticker\": \"RLBS\", \"count\": 120.0, \"max\": 88.0, \"mean\": 12.6, \"min\": 1.0, \"n_days\": 1512, \"sd\": 30, \"std\": 19.409951532329877, \"trend_freq\": 28.908730158730158}, {\"index\": 3, \"25%\": 2.0, \"50%\": 6.0, \"75%\": 19.75, \"Ticker\": \"RLBS\", \"count\": 88.0, \"max\": 131.0, \"mean\": 17.181818181818183, \"min\": 1.0, \"n_days\": 1512, \"sd\": 40, \"std\": 25.188277447934947, \"trend_freq\": 21.19973544973545}, {\"index\": 4, \"25%\": 2.0, \"50%\": 4.5, \"75%\": 22.75, \"Ticker\": \"RLBS\", \"count\": 66.0, \"max\": 187.0, \"mean\": 22.90909090909091, \"min\": 1.0, \"n_days\": 1512, \"sd\": 50, \"std\": 40.00412566136235, \"trend_freq\": 15.899801587301587}, {\"index\": 5, \"25%\": 2.75, \"50%\": 12.5, \"75%\": 49.0, \"Ticker\": \"RLBS\", \"count\": 44.0, \"max\": 207.0, \"mean\": 34.36363636363637, \"min\": 1.0, \"n_days\": 1512, \"sd\": 60, \"std\": 47.62063794787264, \"trend_freq\": 10.599867724867725}, {\"index\": 6, \"25%\": 2.5, \"50%\": 8.0, \"75%\": 50.0, \"Ticker\": \"RLBS\", \"count\": 47.0, \"max\": 204.0, \"mean\": 32.170212765957444, \"min\": 1.0, \"n_days\": 1512, \"sd\": 70, \"std\": 47.35312264113941, \"trend_freq\": 11.32258597883598}, {\"index\": 7, \"25%\": 1.25, \"50%\": 11.0, \"75%\": 56.0, \"Ticker\": \"RLBS\", \"count\": 38.0, \"max\": 223.0, \"mean\": 39.78947368421053, \"min\": 1.0, \"n_days\": 1512, \"sd\": 80, \"std\": 55.47687996387609, \"trend_freq\": 9.154431216931217}, {\"index\": 8, \"25%\": 2.0, \"50%\": 29.0, \"75%\": 65.0, \"Ticker\": \"RLBS\", \"count\": 29.0, \"max\": 217.0, \"mean\": 52.13793103448276, \"min\": 1.0, \"n_days\": 1512, \"sd\": 90, \"std\": 59.819803301206825, \"trend_freq\": 6.986276455026455}, {\"index\": 9, \"25%\": 43.0, \"50%\": 63.0, \"75%\": 113.25, \"Ticker\": \"RLBS\", \"count\": 18.0, \"max\": 219.0, \"mean\": 84.0, \"min\": 15.0, \"n_days\": 1512, \"sd\": 100, \"std\": 59.29983632553545, \"trend_freq\": 4.336309523809524}, {\"index\": 0, \"25%\": 1.0, \"50%\": 3.0, \"75%\": 8.0, \"Ticker\": \"RVLT\", \"count\": 610.0, \"max\": 42.0, \"mean\": 5.634426229508197, \"min\": 1.0, \"n_days\": 3437, \"sd\": 10, \"std\": 6.89583261614712, \"trend_freq\": 64.64722141402386}, {\"index\": 1, \"25%\": 1.0, \"50%\": 3.0, \"75%\": 8.0, \"Ticker\": \"RVLT\", \"count\": 451.0, \"max\": 118.0, \"mean\": 7.6208425720620845, \"min\": 1.0, \"n_days\": 3437, \"sd\": 20, \"std\": 12.318564497882646, \"trend_freq\": 47.79655222577829}, {\"index\": 2, \"25%\": 1.0, \"50%\": 3.0, \"75%\": 9.75, \"Ticker\": \"RVLT\", \"count\": 334.0, \"max\": 121.0, \"mean\": 10.290419161676647, \"min\": 1.0, \"n_days\": 3437, \"sd\": 30, \"std\": 17.51660124976576, \"trend_freq\": 35.39700320046552}, {\"index\": 3, \"25%\": 1.0, \"50%\": 3.0, \"75%\": 9.0, \"Ticker\": \"RVLT\", \"count\": 273.0, \"max\": 130.0, \"mean\": 12.58974358974359, \"min\": 1.0, \"n_days\": 3437, \"sd\": 40, \"std\": 22.393379017715723, \"trend_freq\": 28.932281059063136}, {\"index\": 4, \"25%\": 1.0, \"50%\": 3.0, \"75%\": 22.0, \"Ticker\": \"RVLT\", \"count\": 179.0, \"max\": 200.0, \"mean\": 19.201117318435752, \"min\": 1.0, \"n_days\": 3437, \"sd\": 50, \"std\": 32.462663062765024, \"trend_freq\": 18.970250218213558}, {\"index\": 5, \"25%\": 1.0, \"50%\": 3.0, \"75%\": 34.0, \"Ticker\": \"RVLT\", \"count\": 145.0, \"max\": 202.0, \"mean\": 23.70344827586207, \"min\": 1.0, \"n_days\": 3437, \"sd\": 60, \"std\": 39.43034014737802, \"trend_freq\": 15.366962467267966}, {\"index\": 6, \"25%\": 2.0, \"50%\": 11.0, \"75%\": 61.0, \"Ticker\": \"RVLT\", \"count\": 83.0, \"max\": 228.0, \"mean\": 41.40963855421687, \"min\": 1.0, \"n_days\": 3437, \"sd\": 70, \"std\": 55.04898841466135, \"trend_freq\": 8.79626127436718}, {\"index\": 7, \"25%\": 2.0, \"50%\": 40.0, \"75%\": 92.0, \"Ticker\": \"RVLT\", \"count\": 60.0, \"max\": 223.0, \"mean\": 57.28333333333333, \"min\": 1.0, \"n_days\": 3437, \"sd\": 80, \"std\": 61.71011829971623, \"trend_freq\": 6.358743089903986}, {\"index\": 8, \"25%\": 15.5, \"50%\": 57.5, \"75%\": 113.5, \"Ticker\": \"RVLT\", \"count\": 48.0, \"max\": 221.0, \"mean\": 71.60416666666667, \"min\": 1.0, \"n_days\": 3437, \"sd\": 90, \"std\": 65.04458032056179, \"trend_freq\": 5.086994471923189}, {\"index\": 9, \"25%\": 37.5, \"50%\": 68.0, \"75%\": 132.0, \"Ticker\": \"RVLT\", \"count\": 40.0, \"max\": 222.0, \"mean\": 85.925, \"min\": 1.0, \"n_days\": 3437, \"sd\": 100, \"std\": 63.15970295151076, \"trend_freq\": 4.239162059935991}, {\"index\": 0, \"25%\": 1.0, \"50%\": 3.0, \"75%\": 9.0, \"Ticker\": \"SFEG\", \"count\": 562.0, \"max\": 39.0, \"mean\": 5.6886120996441285, \"min\": 1.0, \"n_days\": 3197, \"sd\": 10, \"std\": 6.082983353901785, \"trend_freq\": 64.03143572098843}, {\"index\": 1, \"25%\": 1.0, \"50%\": 2.0, \"75%\": 9.5, \"Ticker\": \"SFEG\", \"count\": 415.0, \"max\": 94.0, \"mean\": 7.703614457831326, \"min\": 1.0, \"n_days\": 3197, \"sd\": 20, \"std\": 11.183638905770774, \"trend_freq\": 47.282999687206754}, {\"index\": 2, \"25%\": 1.0, \"50%\": 3.0, \"75%\": 13.75, \"Ticker\": \"SFEG\", \"count\": 294.0, \"max\": 102.0, \"mean\": 10.874149659863946, \"min\": 1.0, \"n_days\": 3197, \"sd\": 30, \"std\": 16.238027202571452, \"trend_freq\": 33.49687206756334}, {\"index\": 3, \"25%\": 1.0, \"50%\": 4.0, \"75%\": 14.75, \"Ticker\": \"SFEG\", \"count\": 222.0, \"max\": 167.0, \"mean\": 14.4009009009009, \"min\": 1.0, \"n_days\": 3197, \"sd\": 40, \"std\": 24.553507902455134, \"trend_freq\": 25.293556459180483}, {\"index\": 4, \"25%\": 1.0, \"50%\": 2.0, \"75%\": 19.5, \"Ticker\": \"SFEG\", \"count\": 187.0, \"max\": 171.0, \"mean\": 17.09625668449198, \"min\": 1.0, \"n_days\": 3197, \"sd\": 50, \"std\": 30.950556075717355, \"trend_freq\": 21.305833593994368}, {\"index\": 5, \"25%\": 1.0, \"50%\": 3.0, \"75%\": 38.5, \"Ticker\": \"SFEG\", \"count\": 127.0, \"max\": 208.0, \"mean\": 25.173228346456693, \"min\": 1.0, \"n_days\": 3197, \"sd\": 60, \"std\": 40.347517082630475, \"trend_freq\": 14.469737253675321}, {\"index\": 6, \"25%\": 1.0, \"50%\": 16.5, \"75%\": 58.25, \"Ticker\": \"SFEG\", \"count\": 80.0, \"max\": 262.0, \"mean\": 39.9625, \"min\": 1.0, \"n_days\": 3197, \"sd\": 70, \"std\": 53.71571765121276, \"trend_freq\": 9.114795120425399}, {\"index\": 7, \"25%\": 3.0, \"50%\": 40.0, \"75%\": 82.0, \"Ticker\": \"SFEG\", \"count\": 61.0, \"max\": 292.0, \"mean\": 52.40983606557377, \"min\": 1.0, \"n_days\": 3197, \"sd\": 80, \"std\": 58.79891638717512, \"trend_freq\": 6.950031279324366}, {\"index\": 8, \"25%\": 32.5, \"50%\": 63.0, \"75%\": 103.0, \"Ticker\": \"SFEG\", \"count\": 43.0, \"max\": 293.0, \"mean\": 74.34883720930233, \"min\": 1.0, \"n_days\": 3197, \"sd\": 90, \"std\": 62.01454657345293, \"trend_freq\": 4.899202377228652}, {\"index\": 9, \"25%\": 40.5, \"50%\": 81.0, \"75%\": 112.75, \"Ticker\": \"SFEG\", \"count\": 38.0, \"max\": 292.0, \"mean\": 84.13157894736842, \"min\": 1.0, \"n_days\": 3197, \"sd\": 100, \"std\": 60.90673909929684, \"trend_freq\": 4.329527682202064}, {\"index\": 0, \"25%\": 1.0, \"50%\": 2.0, \"75%\": 9.0, \"Ticker\": \"SHIP\", \"count\": 311.0, \"max\": 87.0, \"mean\": 5.916398713826367, \"min\": 1.0, \"n_days\": 1840, \"sd\": 10, \"std\": 8.083800281359107, \"trend_freq\": 61.56616847826087}, {\"index\": 1, \"25%\": 1.0, \"50%\": 3.0, \"75%\": 9.0, \"Ticker\": \"SHIP\", \"count\": 215.0, \"max\": 122.0, \"mean\": 8.55813953488372, \"min\": 1.0, \"n_days\": 1840, \"sd\": 20, \"std\": 13.550015218085386, \"trend_freq\": 42.561820652173914}, {\"index\": 2, \"25%\": 1.0, \"50%\": 3.0, \"75%\": 13.0, \"Ticker\": \"SHIP\", \"count\": 151.0, \"max\": 173.0, \"mean\": 12.185430463576159, \"min\": 1.0, \"n_days\": 1840, \"sd\": 30, \"std\": 21.54666377068151, \"trend_freq\": 29.89225543478261}, {\"index\": 3, \"25%\": 1.75, \"50%\": 3.0, \"75%\": 15.0, \"Ticker\": \"SHIP\", \"count\": 116.0, \"max\": 203.0, \"mean\": 15.862068965517242, \"min\": 1.0, \"n_days\": 1840, \"sd\": 40, \"std\": 28.688702988466034, \"trend_freq\": 22.963586956521738}, {\"index\": 4, \"25%\": 1.0, \"50%\": 4.0, \"75%\": 30.5, \"Ticker\": \"SHIP\", \"count\": 80.0, \"max\": 224.0, \"mean\": 23.0, \"min\": 1.0, \"n_days\": 1840, \"sd\": 50, \"std\": 39.90431593674733, \"trend_freq\": 15.83695652173913}, {\"index\": 5, \"25%\": 3.0, \"50%\": 23.0, \"75%\": 55.0, \"Ticker\": \"SHIP\", \"count\": 45.0, \"max\": 302.0, \"mean\": 40.888888888888886, \"min\": 1.0, \"n_days\": 1840, \"sd\": 60, \"std\": 56.71027733626027, \"trend_freq\": 8.908288043478262}, {\"index\": 6, \"25%\": 2.0, \"50%\": 25.0, \"75%\": 58.5, \"Ticker\": \"SHIP\", \"count\": 42.0, \"max\": 299.0, \"mean\": 43.80952380952381, \"min\": 1.0, \"n_days\": 1840, \"sd\": 70, \"std\": 62.31792526652191, \"trend_freq\": 8.314402173913043}, {\"index\": 7, \"25%\": 2.0, \"50%\": 51.0, \"75%\": 84.75, \"Ticker\": \"SHIP\", \"count\": 28.0, \"max\": 301.0, \"mean\": 65.71428571428571, \"min\": 1.0, \"n_days\": 1840, \"sd\": 80, \"std\": 73.72765556944826, \"trend_freq\": 5.542934782608696}, {\"index\": 8, \"25%\": 51.0, \"50%\": 74.0, \"75%\": 115.0, \"Ticker\": \"SHIP\", \"count\": 19.0, \"max\": 302.0, \"mean\": 96.84210526315789, \"min\": 24.0, \"n_days\": 1840, \"sd\": 90, \"std\": 71.59784537252712, \"trend_freq\": 3.7612771739130433}, {\"index\": 9, \"25%\": 50.5, \"50%\": 75.0, \"75%\": 115.5, \"Ticker\": \"SHIP\", \"count\": 19.0, \"max\": 302.0, \"mean\": 96.84210526315789, \"min\": 22.0, \"n_days\": 1840, \"sd\": 100, \"std\": 72.15820824787613, \"trend_freq\": 3.7612771739130433}, {\"index\": 0, \"25%\": 1.0, \"50%\": 3.0, \"75%\": 8.5, \"Ticker\": \"SILWF\", \"count\": 135.0, \"max\": 29.0, \"mean\": 5.8, \"min\": 1.0, \"n_days\": 783, \"sd\": 10, \"std\": 6.219612696105138, \"trend_freq\": 62.80172413793103}, {\"index\": 1, \"25%\": 1.0, \"50%\": 3.0, \"75%\": 10.0, \"Ticker\": \"SILWF\", \"count\": 95.0, \"max\": 66.0, \"mean\": 8.242105263157894, \"min\": 1.0, \"n_days\": 783, \"sd\": 20, \"std\": 11.743459736574502, \"trend_freq\": 44.19380587484036}, {\"index\": 2, \"25%\": 1.0, \"50%\": 3.0, \"75%\": 10.75, \"Ticker\": \"SILWF\", \"count\": 78.0, \"max\": 86.0, \"mean\": 10.038461538461538, \"min\": 1.0, \"n_days\": 783, \"sd\": 30, \"std\": 16.770755551204058, \"trend_freq\": 36.28544061302682}, {\"index\": 3, \"25%\": 1.0, \"50%\": 2.0, \"75%\": 11.0, \"Ticker\": \"SILWF\", \"count\": 65.0, \"max\": 95.0, \"mean\": 12.046153846153846, \"min\": 1.0, \"n_days\": 783, \"sd\": 40, \"std\": 20.963085687428308, \"trend_freq\": 30.23786717752235}, {\"index\": 4, \"25%\": 1.0, \"50%\": 3.5, \"75%\": 30.75, \"Ticker\": \"SILWF\", \"count\": 38.0, \"max\": 99.0, \"mean\": 20.605263157894736, \"min\": 1.0, \"n_days\": 783, \"sd\": 50, \"std\": 29.95450557066383, \"trend_freq\": 17.677522349936144}, {\"index\": 5, \"25%\": 1.0, \"50%\": 3.5, \"75%\": 25.25, \"Ticker\": \"SILWF\", \"count\": 36.0, \"max\": 127.0, \"mean\": 21.75, \"min\": 1.0, \"n_days\": 783, \"sd\": 60, \"std\": 35.38956666266809, \"trend_freq\": 16.74712643678161}, {\"index\": 6, \"25%\": 1.0, \"50%\": 4.0, \"75%\": 35.5, \"Ticker\": \"SILWF\", \"count\": 30.0, \"max\": 131.0, \"mean\": 26.1, \"min\": 1.0, \"n_days\": 783, \"sd\": 70, \"std\": 39.00517207084033, \"trend_freq\": 13.955938697318008}, {\"index\": 7, \"25%\": 2.0, \"50%\": 27.0, \"75%\": 83.0, \"Ticker\": \"SILWF\", \"count\": 17.0, \"max\": 167.0, \"mean\": 46.05882352941177, \"min\": 1.0, \"n_days\": 783, \"sd\": 80, \"std\": 53.41637224231361, \"trend_freq\": 7.908365261813538}, {\"index\": 8, \"25%\": 31.0, \"50%\": 67.0, \"75%\": 107.0, \"Ticker\": \"SILWF\", \"count\": 11.0, \"max\": 166.0, \"mean\": 71.18181818181819, \"min\": 1.0, \"n_days\": 783, \"sd\": 90, \"std\": 53.572041554934565, \"trend_freq\": 5.1171775223499365}, {\"index\": 9, \"25%\": 37.0, \"50%\": 74.5, \"75%\": 111.25, \"Ticker\": \"SILWF\", \"count\": 10.0, \"max\": 166.0, \"mean\": 78.3, \"min\": 16.0, \"n_days\": 783, \"sd\": 100, \"std\": 49.80417206977299, \"trend_freq\": 4.6519795657726695}, {\"index\": 0, \"25%\": 1.0, \"50%\": 2.0, \"75%\": 6.0, \"Ticker\": \"TIBB\", \"count\": 412.0, \"max\": 68.0, \"mean\": 5.148058252427185, \"min\": 1.0, \"n_days\": 2121, \"sd\": 10, \"std\": 7.264547188605714, \"trend_freq\": 70.75483262611975}, {\"index\": 1, \"25%\": 1.0, \"50%\": 2.0, \"75%\": 8.0, \"Ticker\": \"TIBB\", \"count\": 247.0, \"max\": 87.0, \"mean\": 8.587044534412955, \"min\": 1.0, \"n_days\": 2121, \"sd\": 20, \"std\": 14.054464114825551, \"trend_freq\": 42.41855256954267}, {\"index\": 2, \"25%\": 1.0, \"50%\": 2.0, \"75%\": 9.0, \"Ticker\": \"TIBB\", \"count\": 206.0, \"max\": 105.0, \"mean\": 10.29611650485437, \"min\": 1.0, \"n_days\": 2121, \"sd\": 30, \"std\": 18.164685235999706, \"trend_freq\": 35.377416313059875}, {\"index\": 3, \"25%\": 1.0, \"50%\": 2.0, \"75%\": 8.0, \"Ticker\": \"TIBB\", \"count\": 161.0, \"max\": 194.0, \"mean\": 13.173913043478262, \"min\": 1.0, \"n_days\": 2121, \"sd\": 40, \"std\": 27.396524692328978, \"trend_freq\": 27.6493399339934}, {\"index\": 4, \"25%\": 1.0, \"50%\": 2.0, \"75%\": 13.25, \"Ticker\": \"TIBB\", \"count\": 116.0, \"max\": 199.0, \"mean\": 18.28448275862069, \"min\": 1.0, \"n_days\": 2121, \"sd\": 50, \"std\": 35.8214912501184, \"trend_freq\": 19.92126355492692}, {\"index\": 5, \"25%\": 1.0, \"50%\": 3.0, \"75%\": 39.5, \"Ticker\": \"TIBB\", \"count\": 79.0, \"max\": 298.0, \"mean\": 26.848101265822784, \"min\": 1.0, \"n_days\": 2121, \"sd\": 60, \"std\": 49.267217114893185, \"trend_freq\": 13.567067421027817}, {\"index\": 6, \"25%\": 1.0, \"50%\": 4.5, \"75%\": 59.25, \"Ticker\": \"TIBB\", \"count\": 52.0, \"max\": 314.0, \"mean\": 40.78846153846154, \"min\": 1.0, \"n_days\": 2121, \"sd\": 70, \"std\": 65.8540681782526, \"trend_freq\": 8.93022159358793}, {\"index\": 7, \"25%\": 9.0, \"50%\": 44.0, \"75%\": 72.5, \"Ticker\": \"TIBB\", \"count\": 31.0, \"max\": 395.0, \"mean\": 68.41935483870968, \"min\": 1.0, \"n_days\": 2121, \"sd\": 80, \"std\": 88.45593034332533, \"trend_freq\": 5.323785950023574}, {\"index\": 8, \"25%\": 40.0, \"50%\": 59.0, \"75%\": 94.0, \"Ticker\": \"TIBB\", \"count\": 23.0, \"max\": 394.0, \"mean\": 92.21739130434783, \"min\": 16.0, \"n_days\": 2121, \"sd\": 90, \"std\": 92.18260362490959, \"trend_freq\": 3.9499057048562}, {\"index\": 9, \"25%\": 40.0, \"50%\": 60.0, \"75%\": 94.0, \"Ticker\": \"TIBB\", \"count\": 23.0, \"max\": 395.0, \"mean\": 92.21739130434783, \"min\": 14.0, \"n_days\": 2121, \"sd\": 100, \"std\": 92.58163794076268, \"trend_freq\": 3.9499057048562}, {\"index\": 0, \"25%\": 2.0, \"50%\": 4.0, \"75%\": 11.0, \"Ticker\": \"TREX\", \"count\": 457.0, \"max\": 57.0, \"mean\": 7.420131291028446, \"min\": 1.0, \"n_days\": 3391, \"sd\": 10, \"std\": 7.953998055722931, \"trend_freq\": 49.08942789737541}, {\"index\": 1, \"25%\": 1.0, \"50%\": 4.0, \"75%\": 17.0, \"Ticker\": \"TREX\", \"count\": 298.0, \"max\": 120.0, \"mean\": 11.379194630872483, \"min\": 1.0, \"n_days\": 3391, \"sd\": 20, \"std\": 15.504984645079341, \"trend_freq\": 32.01017398997346}, {\"index\": 2, \"25%\": 1.5, \"50%\": 8.0, \"75%\": 30.0, \"Ticker\": \"TREX\", \"count\": 175.0, \"max\": 134.0, \"mean\": 19.377142857142857, \"min\": 1.0, \"n_days\": 3391, \"sd\": 30, \"std\": 25.17560265021105, \"trend_freq\": 18.797920967266293}, {\"index\": 3, \"25%\": 2.0, \"50%\": 14.0, \"75%\": 40.0, \"Ticker\": \"TREX\", \"count\": 129.0, \"max\": 136.0, \"mean\": 26.286821705426355, \"min\": 1.0, \"n_days\": 3391, \"sd\": 40, \"std\": 31.814205209320807, \"trend_freq\": 13.856753170156296}, {\"index\": 4, \"25%\": 2.0, \"50%\": 10.0, \"75%\": 44.0, \"Ticker\": \"TREX\", \"count\": 119.0, \"max\": 210.0, \"mean\": 28.49579831932773, \"min\": 1.0, \"n_days\": 3391, \"sd\": 50, \"std\": 40.49667781929351, \"trend_freq\": 12.782586257741078}, {\"index\": 5, \"25%\": 2.0, \"50%\": 7.0, \"75%\": 49.5, \"Ticker\": \"TREX\", \"count\": 111.0, \"max\": 215.0, \"mean\": 30.54954954954955, \"min\": 1.0, \"n_days\": 3391, \"sd\": 60, \"std\": 43.75733470750179, \"trend_freq\": 11.923252727808906}, {\"index\": 6, \"25%\": 1.5, \"50%\": 28.0, \"75%\": 73.0, \"Ticker\": \"TREX\", \"count\": 71.0, \"max\": 217.0, \"mean\": 47.76056338028169, \"min\": 1.0, \"n_days\": 3391, \"sd\": 70, \"std\": 56.180948674473115, \"trend_freq\": 7.626585078148039}, {\"index\": 7, \"25%\": 10.5, \"50%\": 50.0, \"75%\": 99.0, \"Ticker\": \"TREX\", \"count\": 55.0, \"max\": 219.0, \"mean\": 61.654545454545456, \"min\": 1.0, \"n_days\": 3391, \"sd\": 80, \"std\": 58.07792280931815, \"trend_freq\": 5.907918018283692}, {\"index\": 8, \"25%\": 13.0, \"50%\": 54.0, \"75%\": 115.0, \"Ticker\": \"TREX\", \"count\": 53.0, \"max\": 221.0, \"mean\": 63.9811320754717, \"min\": 1.0, \"n_days\": 3391, \"sd\": 90, \"std\": 58.83794254823281, \"trend_freq\": 5.693084635800648}, {\"index\": 9, \"25%\": 37.0, \"50%\": 67.0, \"75%\": 118.0, \"Ticker\": \"TREX\", \"count\": 41.0, \"max\": 222.0, \"mean\": 82.70731707317073, \"min\": 1.0, \"n_days\": 3391, \"sd\": 100, \"std\": 58.891529060824624, \"trend_freq\": 4.404084340902389}, {\"index\": 0, \"25%\": 1.0, \"50%\": 2.0, \"75%\": 8.0, \"Ticker\": \"TWMC\", \"count\": 643.0, \"max\": 41.0, \"mean\": 5.345256609642302, \"min\": 1.0, \"n_days\": 3437, \"sd\": 10, \"std\": 6.335302985161776, \"trend_freq\": 68.14453011347105}, {\"index\": 1, \"25%\": 1.0, \"50%\": 3.0, \"75%\": 12.0, \"Ticker\": \"TWMC\", \"count\": 409.0, \"max\": 67.0, \"mean\": 8.403422982885086, \"min\": 1.0, \"n_days\": 3437, \"sd\": 20, \"std\": 11.091247565905109, \"trend_freq\": 43.345432062845504}, {\"index\": 2, \"25%\": 1.0, \"50%\": 3.0, \"75%\": 11.0, \"Ticker\": \"TWMC\", \"count\": 316.0, \"max\": 132.0, \"mean\": 10.876582278481013, \"min\": 1.0, \"n_days\": 3437, \"sd\": 30, \"std\": 17.73062875086908, \"trend_freq\": 33.489380273494326}, {\"index\": 3, \"25%\": 1.0, \"50%\": 4.0, \"75%\": 23.0, \"Ticker\": \"TWMC\", \"count\": 209.0, \"max\": 133.0, \"mean\": 16.444976076555022, \"min\": 1.0, \"n_days\": 3437, \"sd\": 40, \"std\": 25.220147740302675, \"trend_freq\": 22.149621763165552}, {\"index\": 4, \"25%\": 1.0, \"50%\": 4.0, \"75%\": 34.0, \"Ticker\": \"TWMC\", \"count\": 149.0, \"max\": 205.0, \"mean\": 23.06711409395973, \"min\": 1.0, \"n_days\": 3437, \"sd\": 50, \"std\": 36.52482762220089, \"trend_freq\": 15.790878673261565}, {\"index\": 5, \"25%\": 1.0, \"50%\": 7.0, \"75%\": 42.75, \"Ticker\": \"TWMC\", \"count\": 110.0, \"max\": 300.0, \"mean\": 31.245454545454546, \"min\": 1.0, \"n_days\": 3437, \"sd\": 60, \"std\": 49.112711851289816, \"trend_freq\": 11.657695664823974}, {\"index\": 6, \"25%\": 1.0, \"50%\": 25.0, \"75%\": 59.25, \"Ticker\": \"TWMC\", \"count\": 82.0, \"max\": 304.0, \"mean\": 41.91463414634146, \"min\": 1.0, \"n_days\": 3437, \"sd\": 70, \"std\": 55.558489082441376, \"trend_freq\": 8.690282222868781}, {\"index\": 7, \"25%\": 1.0, \"50%\": 36.0, \"75%\": 64.0, \"Ticker\": \"TWMC\", \"count\": 73.0, \"max\": 302.0, \"mean\": 47.082191780821915, \"min\": 1.0, \"n_days\": 3437, \"sd\": 80, \"std\": 58.69761338718635, \"trend_freq\": 7.736470759383183}, {\"index\": 8, \"25%\": 37.5, \"50%\": 51.0, \"75%\": 88.0, \"Ticker\": \"TWMC\", \"count\": 47.0, \"max\": 304.0, \"mean\": 73.12765957446808, \"min\": 1.0, \"n_days\": 3437, \"sd\": 90, \"std\": 62.294747151458914, \"trend_freq\": 4.981015420424789}, {\"index\": 9, \"25%\": 35.0, \"50%\": 51.0, \"75%\": 86.0, \"Ticker\": \"TWMC\", \"count\": 48.0, \"max\": 303.0, \"mean\": 71.60416666666667, \"min\": 1.0, \"n_days\": 3437, \"sd\": 100, \"std\": 62.69030247831554, \"trend_freq\": 5.086994471923189}, {\"index\": 0, \"25%\": 1.0, \"50%\": 3.0, \"75%\": 9.0, \"Ticker\": \"USNA\", \"count\": 564.0, \"max\": 56.0, \"mean\": 6.093971631205674, \"min\": 1.0, \"n_days\": 3437, \"sd\": 10, \"std\": 7.275597245698075, \"trend_freq\": 59.772185045097466}, {\"index\": 1, \"25%\": 1.0, \"50%\": 3.0, \"75%\": 11.0, \"Ticker\": \"USNA\", \"count\": 369.0, \"max\": 100.0, \"mean\": 9.314363143631436, \"min\": 1.0, \"n_days\": 3437, \"sd\": 20, \"std\": 13.820032509885426, \"trend_freq\": 39.10627000290951}, {\"index\": 2, \"25%\": 1.0, \"50%\": 4.0, \"75%\": 23.5, \"Ticker\": \"USNA\", \"count\": 230.0, \"max\": 195.0, \"mean\": 14.943478260869565, \"min\": 1.0, \"n_days\": 3437, \"sd\": 30, \"std\": 22.36226793395921, \"trend_freq\": 24.375181844631946}, {\"index\": 3, \"25%\": 1.0, \"50%\": 6.0, \"75%\": 38.0, \"Ticker\": \"USNA\", \"count\": 157.0, \"max\": 200.0, \"mean\": 21.89171974522293, \"min\": 1.0, \"n_days\": 3437, \"sd\": 40, \"std\": 29.54821779037816, \"trend_freq\": 16.638711085248765}, {\"index\": 4, \"25%\": 1.0, \"50%\": 7.0, \"75%\": 43.5, \"Ticker\": \"USNA\", \"count\": 126.0, \"max\": 205.0, \"mean\": 27.27777777777778, \"min\": 1.0, \"n_days\": 3437, \"sd\": 50, \"std\": 37.46136973232856, \"trend_freq\": 13.353360488798371}, {\"index\": 5, \"25%\": 1.0, \"50%\": 8.0, \"75%\": 56.5, \"Ticker\": \"USNA\", \"count\": 104.0, \"max\": 219.0, \"mean\": 33.04807692307692, \"min\": 1.0, \"n_days\": 3437, \"sd\": 60, \"std\": 43.629370130835525, \"trend_freq\": 11.021821355833575}, {\"index\": 6, \"25%\": 7.0, \"50%\": 46.0, \"75%\": 93.0, \"Ticker\": \"USNA\", \"count\": 57.0, \"max\": 232.0, \"mean\": 60.29824561403509, \"min\": 1.0, \"n_days\": 3437, \"sd\": 70, \"std\": 58.23596241409375, \"trend_freq\": 6.040805935408787}, {\"index\": 7, \"25%\": 2.0, \"50%\": 42.5, \"75%\": 96.25, \"Ticker\": \"USNA\", \"count\": 54.0, \"max\": 232.0, \"mean\": 63.648148148148145, \"min\": 1.0, \"n_days\": 3437, \"sd\": 80, \"std\": 65.49266339652168, \"trend_freq\": 5.722868780913587}, {\"index\": 8, \"25%\": 38.75, \"50%\": 76.5, \"75%\": 121.75, \"Ticker\": \"USNA\", \"count\": 36.0, \"max\": 407.0, \"mean\": 95.47222222222223, \"min\": 1.0, \"n_days\": 3437, \"sd\": 90, \"std\": 81.0440748203844, \"trend_freq\": 3.8152458539423915}, {\"index\": 9, \"25%\": 38.0, \"50%\": 82.5, \"75%\": 136.25, \"Ticker\": \"USNA\", \"count\": 32.0, \"max\": 492.0, \"mean\": 107.40625, \"min\": 19.0, \"n_days\": 3437, \"sd\": 100, \"std\": 94.55596034675325, \"trend_freq\": 3.3913296479487927}, {\"index\": 0, \"25%\": 2.0, \"50%\": 4.0, \"75%\": 10.5, \"Ticker\": \"VO1\", \"count\": 47.0, \"max\": 27.0, \"mean\": 7.297872340425532, \"min\": 1.0, \"n_days\": 343, \"sd\": 10, \"std\": 7.204813890777476, \"trend_freq\": 49.91180758017493}, {\"index\": 1, \"25%\": 1.0, \"50%\": 3.5, \"75%\": 13.75, \"Ticker\": \"VO1\", \"count\": 38.0, \"max\": 43.0, \"mean\": 9.026315789473685, \"min\": 1.0, \"n_days\": 343, \"sd\": 20, \"std\": 11.609611214258228, \"trend_freq\": 40.35422740524781}, {\"index\": 2, \"25%\": 1.0, \"50%\": 3.0, \"75%\": 10.0, \"Ticker\": \"VO1\", \"count\": 39.0, \"max\": 44.0, \"mean\": 8.794871794871796, \"min\": 1.0, \"n_days\": 343, \"sd\": 30, \"std\": 11.890242543627476, \"trend_freq\": 41.41618075801749}, {\"index\": 3, \"25%\": 1.0, \"50%\": 3.0, \"75%\": 11.0, \"Ticker\": \"VO1\", \"count\": 29.0, \"max\": 79.0, \"mean\": 11.827586206896552, \"min\": 1.0, \"n_days\": 343, \"sd\": 40, \"std\": 19.106971363348062, \"trend_freq\": 30.7966472303207}, {\"index\": 4, \"25%\": 6.5, \"50%\": 33.0, \"75%\": 56.0, \"Ticker\": \"VO1\", \"count\": 10.0, \"max\": 86.0, \"mean\": 34.3, \"min\": 1.0, \"n_days\": 343, \"sd\": 50, \"std\": 30.081555810828668, \"trend_freq\": 10.619533527696793}, {\"index\": 5, \"25%\": 2.5, \"50%\": 5.0, \"75%\": 47.5, \"Ticker\": \"VO1\", \"count\": 15.0, \"max\": 82.0, \"mean\": 22.866666666666667, \"min\": 1.0, \"n_days\": 343, \"sd\": 60, \"std\": 29.526904599671383, \"trend_freq\": 15.92930029154519}, {\"index\": 6, \"25%\": 4.5, \"50%\": 46.0, \"75%\": 78.5, \"Ticker\": \"VO1\", \"count\": 8.0, \"max\": 84.0, \"mean\": 42.875, \"min\": 1.0, \"n_days\": 343, \"sd\": 70, \"std\": 36.06120788722577, \"trend_freq\": 8.495626822157435}, {\"index\": 7, \"25%\": 71.5, \"50%\": 82.0, \"75%\": 96.25, \"Ticker\": \"VO1\", \"count\": 4.0, \"max\": 133.0, \"mean\": 85.75, \"min\": 46.0, \"n_days\": 343, \"sd\": 80, \"std\": 35.81782610191002, \"trend_freq\": 4.247813411078718}, {\"index\": 8, \"25%\": 72.75, \"50%\": 83.5, \"75%\": 96.5, \"Ticker\": \"VO1\", \"count\": 4.0, \"max\": 131.0, \"mean\": 85.75, \"min\": 45.0, \"n_days\": 343, \"sd\": 90, \"std\": 35.226647110769235, \"trend_freq\": 4.247813411078718}, {\"index\": 9, \"25%\": 73.5, \"50%\": 84.0, \"75%\": 96.25, \"Ticker\": \"VO1\", \"count\": 4.0, \"max\": 130.0, \"mean\": 85.75, \"min\": 45.0, \"n_days\": 343, \"sd\": 100, \"std\": 34.76947895305115, \"trend_freq\": 4.247813411078718}, {\"index\": 0, \"25%\": 1.0, \"50%\": 3.0, \"75%\": 10.0, \"Ticker\": \"WTM\", \"count\": 546.0, \"max\": 67.0, \"mean\": 6.294871794871795, \"min\": 1.0, \"n_days\": 3437, \"sd\": 10, \"std\": 7.454513519901595, \"trend_freq\": 57.86456211812627}, {\"index\": 1, \"25%\": 1.0, \"50%\": 3.0, \"75%\": 12.0, \"Ticker\": \"WTM\", \"count\": 356.0, \"max\": 79.0, \"mean\": 9.654494382022472, \"min\": 1.0, \"n_days\": 3437, \"sd\": 20, \"std\": 13.436811200451842, \"trend_freq\": 37.72854233343032}, {\"index\": 2, \"25%\": 1.0, \"50%\": 3.0, \"75%\": 12.0, \"Ticker\": \"WTM\", \"count\": 303.0, \"max\": 119.0, \"mean\": 11.343234323432343, \"min\": 1.0, \"n_days\": 3437, \"sd\": 30, \"std\": 18.354340088941903, \"trend_freq\": 32.11165260401513}, {\"index\": 3, \"25%\": 1.0, \"50%\": 3.0, \"75%\": 26.0, \"Ticker\": \"WTM\", \"count\": 193.0, \"max\": 178.0, \"mean\": 17.808290155440414, \"min\": 1.0, \"n_days\": 3437, \"sd\": 40, \"std\": 29.009508744238296, \"trend_freq\": 20.453956939191155}, {\"index\": 4, \"25%\": 1.0, \"50%\": 3.0, \"75%\": 30.0, \"Ticker\": \"WTM\", \"count\": 151.0, \"max\": 252.0, \"mean\": 22.76158940397351, \"min\": 1.0, \"n_days\": 3437, \"sd\": 50, \"std\": 38.2980780386817, \"trend_freq\": 16.002836776258366}, {\"index\": 5, \"25%\": 2.75, \"50%\": 16.0, \"75%\": 57.0, \"Ticker\": \"WTM\", \"count\": 84.0, \"max\": 291.0, \"mean\": 40.916666666666664, \"min\": 1.0, \"n_days\": 3437, \"sd\": 60, \"std\": 58.06689294447309, \"trend_freq\": 8.90224032586558}, {\"index\": 6, \"25%\": 2.25, \"50%\": 22.0, \"75%\": 72.0, \"Ticker\": \"WTM\", \"count\": 66.0, \"max\": 362.0, \"mean\": 52.07575757575758, \"min\": 1.0, \"n_days\": 3437, \"sd\": 70, \"std\": 72.92700472834476, \"trend_freq\": 6.994617398894385}, {\"index\": 7, \"25%\": 9.75, \"50%\": 43.5, \"75%\": 102.75, \"Ticker\": \"WTM\", \"count\": 50.0, \"max\": 361.0, \"mean\": 68.74, \"min\": 1.0, \"n_days\": 3437, \"sd\": 80, \"std\": 81.19912787306856, \"trend_freq\": 5.298952574919988}, {\"index\": 8, \"25%\": 19.0, \"50%\": 45.0, \"75%\": 115.0, \"Ticker\": \"WTM\", \"count\": 45.0, \"max\": 361.0, \"mean\": 76.37777777777778, \"min\": 1.0, \"n_days\": 3437, \"sd\": 90, \"std\": 84.91527565994261, \"trend_freq\": 4.76905731742799}, {\"index\": 9, \"25%\": 28.75, \"50%\": 52.5, \"75%\": 133.5, \"Ticker\": \"WTM\", \"count\": 38.0, \"max\": 360.0, \"mean\": 90.44736842105263, \"min\": 3.0, \"n_days\": 3437, \"sd\": 100, \"std\": 85.51361433205165, \"trend_freq\": 4.027203956939191}, {\"index\": 0, \"25%\": 3.0, \"50%\": 5.0, \"75%\": 39.5, \"Ticker\": \"ADAX\", \"count\": 4.0, \"max\": 137.0, \"mean\": 37.5, \"min\": 3.0, \"n_days\": 150, \"sd\": 110, \"std\": 66.3601285913964, \"trend_freq\": 9.713333333333333}, {\"index\": 0, \"25%\": 2.0, \"50%\": 3.0, \"75%\": 14.0, \"Ticker\": \"ADAX\", \"count\": 9.0, \"max\": 88.0, \"mean\": 16.666666666666668, \"min\": 2.0, \"n_days\": 150, \"sd\": 120, \"std\": 28.40774542268358, \"trend_freq\": 21.855}, {\"index\": 0, \"25%\": 1.0, \"50%\": 2.0, \"75%\": 12.0, \"Ticker\": \"ADAX\", \"count\": 17.0, \"max\": 50.0, \"mean\": 8.823529411764707, \"min\": 1.0, \"n_days\": 150, \"sd\": 130, \"std\": 13.044324887272083, \"trend_freq\": 41.281666666666666}, {\"index\": 0, \"25%\": 1.0, \"50%\": 2.0, \"75%\": 7.0, \"Ticker\": \"ADAX\", \"count\": 13.0, \"max\": 108.0, \"mean\": 11.538461538461538, \"min\": 1.0, \"n_days\": 150, \"sd\": 140, \"std\": 29.207919544236017, \"trend_freq\": 31.56833333333333}, {\"index\": 0, \"25%\": 1.0, \"50%\": 2.0, \"75%\": 4.0, \"Ticker\": \"ADAX\", \"count\": 13.0, \"max\": 109.0, \"mean\": 11.538461538461538, \"min\": 1.0, \"n_days\": 150, \"sd\": 150, \"std\": 29.474891531085078, \"trend_freq\": 31.56833333333333}, {\"index\": 0, \"25%\": 2.0, \"50%\": 4.0, \"75%\": 9.0, \"Ticker\": \"ADAX\", \"count\": 9.0, \"max\": 110.0, \"mean\": 16.666666666666668, \"min\": 1.0, \"n_days\": 150, \"sd\": 160, \"std\": 35.206533484567885, \"trend_freq\": 21.855}, {\"index\": 0, \"25%\": 2.0, \"50%\": 4.0, \"75%\": 9.0, \"Ticker\": \"ADAX\", \"count\": 9.0, \"max\": 110.0, \"mean\": 16.666666666666668, \"min\": 1.0, \"n_days\": 150, \"sd\": 170, \"std\": 35.220732530712645, \"trend_freq\": 21.855}, {\"index\": 0, \"25%\": 2.0, \"50%\": 4.0, \"75%\": 9.0, \"Ticker\": \"ADAX\", \"count\": 9.0, \"max\": 110.0, \"mean\": 16.666666666666668, \"min\": 1.0, \"n_days\": 150, \"sd\": 180, \"std\": 35.220732530712645, \"trend_freq\": 21.855}, {\"index\": 0, \"25%\": 2.0, \"50%\": 4.0, \"75%\": 9.0, \"Ticker\": \"ADAX\", \"count\": 9.0, \"max\": 110.0, \"mean\": 16.666666666666668, \"min\": 1.0, \"n_days\": 150, \"sd\": 190, \"std\": 35.220732530712645, \"trend_freq\": 21.855}, {\"index\": 0, \"25%\": 1.0, \"50%\": 6.0, \"75%\": 173.5, \"Ticker\": \"AEE\", \"count\": 22.0, \"max\": 710.0, \"mean\": 156.22727272727272, \"min\": 1.0, \"n_days\": 3437, \"sd\": 110, \"std\": 259.97599373022365, \"trend_freq\": 2.331539132964795}, {\"index\": 0, \"25%\": 1.75, \"50%\": 5.5, \"75%\": 35.5, \"Ticker\": \"AEE\", \"count\": 32.0, \"max\": 755.0, \"mean\": 107.40625, \"min\": 1.0, \"n_days\": 3437, \"sd\": 120, \"std\": 227.3378698247426, \"trend_freq\": 3.3913296479487927}, {\"index\": 0, \"25%\": 1.0, \"50%\": 4.0, \"75%\": 21.75, \"Ticker\": \"AEE\", \"count\": 48.0, \"max\": 778.0, \"mean\": 71.60416666666667, \"min\": 1.0, \"n_days\": 3437, \"sd\": 130, \"std\": 185.1501678722452, \"trend_freq\": 5.086994471923189}, {\"index\": 0, \"25%\": 1.0, \"50%\": 3.0, \"75%\": 13.5, \"Ticker\": \"AEE\", \"count\": 68.0, \"max\": 825.0, \"mean\": 50.544117647058826, \"min\": 1.0, \"n_days\": 3437, \"sd\": 140, \"std\": 159.86369509572083, \"trend_freq\": 7.206575501891185}, {\"index\": 0, \"25%\": 7.0, \"50%\": 13.0, \"75%\": 755.5, \"Ticker\": \"RLBS\", \"count\": 3.0, \"max\": 1498.0, \"mean\": 504.0, \"min\": 1.0, \"n_days\": 1512, \"sd\": 130, \"std\": 860.8501611778904, \"trend_freq\": 0.722718253968254}]}, \"mark\": {\"type\": \"line\", \"opacity\": 0.5, \"point\": true}, \"encoding\": {\"color\": {\"type\": \"nominal\", \"field\": \"Ticker\", \"legend\": null}, \"size\": {\"type\": \"quantitative\", \"field\": \"n_days\"}, \"tooltip\": [{\"type\": \"nominal\", \"field\": \"Ticker\"}, {\"type\": \"quantitative\", \"field\": \"max\"}, {\"type\": \"quantitative\", \"field\": \"min\"}, {\"type\": \"quantitative\", \"field\": \"50%\"}, {\"type\": \"quantitative\", \"field\": \"mean\"}, {\"type\": \"quantitative\", \"field\": \"count\"}, {\"type\": \"quantitative\", \"field\": \"n_days\"}], \"x\": {\"type\": \"quantitative\", \"field\": \"sd\"}, \"y\": {\"type\": \"quantitative\", \"field\": \"trend_freq\", \"scale\": {\"type\": \"log\"}}}, \"height\": 250, \"selection\": {\"selector034\": {\"type\": \"interval\", \"bind\": \"scales\", \"encodings\": [\"x\", \"y\"]}}, \"width\": 600, \"$schema\": \"https://vega.github.io/schema/vega-lite/v2.4.3.json\"};\n",
       "var opt = {};\n",
       "var selector = \"#4173e3f5-dacb-4c69-96a8-6fc5e5b794c1\";\n",
       "var type = \"vega-lite\";\n",
       "\n",
       "var output_area = this;\n",
       "\n",
       "require(['nbextensions/jupyter-vega/index'], function(vega) {\n",
       "  vega.render(selector, spec, type, opt, output_area);\n",
       "}, function (err) {\n",
       "  if (err.requireType !== 'scripterror') {\n",
       "    throw(err);\n",
       "  }\n",
       "});\n"
      ]
     },
     "metadata": {
      "jupyter-vega": "#4173e3f5-dacb-4c69-96a8-6fc5e5b794c1"
     },
     "output_type": "display_data"
    },
    {
     "data": {
      "text/plain": []
     },
     "execution_count": 138,
     "metadata": {},
     "output_type": "execute_result"
    },
    {
     "data": {
      "image/png": "[encoded data removed]"
     },
     "metadata": {
      "jupyter-vega": "#4173e3f5-dacb-4c69-96a8-6fc5e5b794c1"
     },
     "output_type": "display_data"
    }
   ],
   "source": [
    "import altair as alt\n",
    "alt.renderers.enable('notebook')\n",
    "alt.Chart(results_df.reset_index()).mark_line(point=True, opacity=0.5).encode(\n",
    "    x='sd',\n",
    "    y=alt.Y('trend_freq', scale=alt.Scale(type='log')), #y='trend_freq',\n",
    "    color=alt.Color('Ticker', legend=None),\n",
    "    size='n_days',\n",
    "    tooltip=['Ticker', 'max', 'min', '50%', 'mean', 'count', 'n_days']\n",
    ").properties(\n",
    "    width=600,\n",
    "    height=250\n",
    ").interactive()"
   ]
  },
  {
   "cell_type": "markdown",
   "metadata": {},
   "source": [
    "# TO DO:\n",
    "\n",
    "* Asset selection.\n",
    "  * By small or negative change correlations.\n",
    "  * Highest signal to noise ratios (see Kaufman, 2005, pp. 870).\n",
    "* Exit by volume (~extreme reduction, bankrupt, ...).\n",
    "* Feature engineering.\n",
    "  * c.f. fast.ai's `add_datepart` function."
   ]
  },
  {
   "cell_type": "code",
   "execution_count": null,
   "metadata": {},
   "outputs": [],
   "source": []
  }
 ],
 "metadata": {
  "kernelspec": {
   "display_name": "Python 3",
   "language": "python",
   "name": "python3"
  },
  "language_info": {
   "codemirror_mode": {
    "name": "ipython",
    "version": 3
   },
   "file_extension": ".py",
   "mimetype": "text/x-python",
   "name": "python",
   "nbconvert_exporter": "python",
   "pygments_lexer": "ipython3",
   "version": "3.6.6"
  },
  "toc": {
   "base_numbering": 1,
   "nav_menu": {},
   "number_sections": true,
   "sideBar": true,
   "skip_h1_title": false,
   "title_cell": "Table of Contents",
   "title_sidebar": "Contents",
   "toc_cell": false,
   "toc_position": {},
   "toc_section_display": true,
   "toc_window_display": false
  }
 },
 "nbformat": 4,
 "nbformat_minor": 2
}
