{
 "cells": [
  {
   "cell_type": "markdown",
   "metadata": {},
   "source": [
    "# Setup"
   ]
  },
  {
   "cell_type": "code",
   "execution_count": 42,
   "metadata": {
    "ExecuteTime": {
     "end_time": "2018-07-18T22:50:54.648660Z",
     "start_time": "2018-07-18T22:50:54.481917Z"
    },
    "code_folding": []
   },
   "outputs": [],
   "source": [
    "# Put these at the top of every notebook, to get automatic reloading and inline plotting\n",
    "%reload_ext autoreload\n",
    "%autoreload 2\n",
    "%matplotlib inline"
   ]
  },
  {
   "cell_type": "code",
   "execution_count": 43,
   "metadata": {
    "ExecuteTime": {
     "end_time": "2018-07-18T22:50:54.804245Z",
     "start_time": "2018-07-18T22:50:54.648660Z"
    }
   },
   "outputs": [],
   "source": [
    "import numpy as np\n",
    "import pandas as pd\n",
    "from pandas import Series, DataFrame\n",
    "pd.set_option('display.max_rows', 5)\n",
    "import matplotlib as mpl\n",
    "from matplotlib import pyplot as plt\n",
    "import matplotlib.transforms as mtransforms\n",
    "plt.rcParams['figure.figsize'] = [16, 5]\n",
    "pal = plt.get_cmap('Paired').colors\n",
    "\n",
    "import altair as alt\n",
    "alt.data_transformers.enable('json')\n",
    "alt.renderers.enable('notebook')\n",
    "\n",
    "\n",
    "\n",
    "from tqdm import tqdm, tqdm_notebook\n",
    "import quandl"
   ]
  },
  {
   "cell_type": "code",
   "execution_count": 44,
   "metadata": {
    "ExecuteTime": {
     "end_time": "2018-07-18T22:50:54.947838Z",
     "start_time": "2018-07-18T22:50:54.805210Z"
    }
   },
   "outputs": [],
   "source": [
    "from utils import *"
   ]
  },
  {
   "cell_type": "code",
   "execution_count": 45,
   "metadata": {
    "ExecuteTime": {
     "end_time": "2018-07-18T22:51:05.866967Z",
     "start_time": "2018-07-18T22:50:54.949824Z"
    }
   },
   "outputs": [],
   "source": [
    "# api_key = open(file='quandl_api').read().replace('\\n', '')\n",
    "# quandl.ApiConfig.api_key = api_key\n",
    "\n",
    "# tickers, prices = get_quandl_sharadar(free=True)\n",
    "# prices = prices.assign(Set='free')\n",
    "\n",
    "tickers, prices = get_sharadar_train()\n",
    "prices = prices.query('Set == \"train\"')"
   ]
  },
  {
   "cell_type": "code",
   "execution_count": 46,
   "metadata": {
    "ExecuteTime": {
     "end_time": "2018-07-18T22:51:06.034507Z",
     "start_time": "2018-07-18T22:51:05.866967Z"
    }
   },
   "outputs": [
    {
     "name": "stdout",
     "output_type": "stream",
     "text": [
      "9010 assets in train set.\n"
     ]
    },
    {
     "data": {
      "text/html": [
       "<div>\n",
       "<style scoped>\n",
       "    .dataframe tbody tr th:only-of-type {\n",
       "        vertical-align: middle;\n",
       "    }\n",
       "\n",
       "    .dataframe tbody tr th {\n",
       "        vertical-align: top;\n",
       "    }\n",
       "\n",
       "    .dataframe thead th {\n",
       "        text-align: right;\n",
       "    }\n",
       "</style>\n",
       "<table border=\"1\" class=\"dataframe\">\n",
       "  <thead>\n",
       "    <tr style=\"text-align: right;\">\n",
       "      <th></th>\n",
       "      <th></th>\n",
       "      <th>Open</th>\n",
       "      <th>High</th>\n",
       "      <th>Low</th>\n",
       "      <th>Close</th>\n",
       "      <th>Volume</th>\n",
       "      <th>Dividends</th>\n",
       "      <th>Closeunadj</th>\n",
       "      <th>Lastupdated</th>\n",
       "      <th>Set</th>\n",
       "    </tr>\n",
       "    <tr>\n",
       "      <th>Ticker</th>\n",
       "      <th>Date</th>\n",
       "      <th></th>\n",
       "      <th></th>\n",
       "      <th></th>\n",
       "      <th></th>\n",
       "      <th></th>\n",
       "      <th></th>\n",
       "      <th></th>\n",
       "      <th></th>\n",
       "      <th></th>\n",
       "    </tr>\n",
       "  </thead>\n",
       "  <tbody>\n",
       "    <tr>\n",
       "      <th rowspan=\"2\" valign=\"top\">A</th>\n",
       "      <th>1999-11-18</th>\n",
       "      <td>45.50</td>\n",
       "      <td>50.000</td>\n",
       "      <td>40.00</td>\n",
       "      <td>44.00</td>\n",
       "      <td>44739900.0</td>\n",
       "      <td>0.0</td>\n",
       "      <td>44.00</td>\n",
       "      <td>2018-02-11</td>\n",
       "      <td>train</td>\n",
       "    </tr>\n",
       "    <tr>\n",
       "      <th>1999-11-19</th>\n",
       "      <td>42.94</td>\n",
       "      <td>43.000</td>\n",
       "      <td>39.81</td>\n",
       "      <td>40.38</td>\n",
       "      <td>10897100.0</td>\n",
       "      <td>0.0</td>\n",
       "      <td>40.38</td>\n",
       "      <td>2018-02-11</td>\n",
       "      <td>train</td>\n",
       "    </tr>\n",
       "    <tr>\n",
       "      <th>...</th>\n",
       "      <th>...</th>\n",
       "      <td>...</td>\n",
       "      <td>...</td>\n",
       "      <td>...</td>\n",
       "      <td>...</td>\n",
       "      <td>...</td>\n",
       "      <td>...</td>\n",
       "      <td>...</td>\n",
       "      <td>...</td>\n",
       "      <td>...</td>\n",
       "    </tr>\n",
       "    <tr>\n",
       "      <th rowspan=\"2\" valign=\"top\">ZYNE</th>\n",
       "      <th>2017-08-17</th>\n",
       "      <td>6.36</td>\n",
       "      <td>6.639</td>\n",
       "      <td>6.20</td>\n",
       "      <td>6.32</td>\n",
       "      <td>651837.0</td>\n",
       "      <td>0.0</td>\n",
       "      <td>6.32</td>\n",
       "      <td>2017-11-01</td>\n",
       "      <td>train</td>\n",
       "    </tr>\n",
       "    <tr>\n",
       "      <th>2017-08-18</th>\n",
       "      <td>6.26</td>\n",
       "      <td>6.450</td>\n",
       "      <td>6.17</td>\n",
       "      <td>6.25</td>\n",
       "      <td>423696.0</td>\n",
       "      <td>0.0</td>\n",
       "      <td>6.25</td>\n",
       "      <td>2017-11-01</td>\n",
       "      <td>train</td>\n",
       "    </tr>\n",
       "  </tbody>\n",
       "</table>\n",
       "<p>14052292 rows × 9 columns</p>\n",
       "</div>"
      ],
      "text/plain": [
       "                    Open    High    Low  Close      Volume  Dividends  \\\n",
       "Ticker Date                                                             \n",
       "A      1999-11-18  45.50  50.000  40.00  44.00  44739900.0        0.0   \n",
       "       1999-11-19  42.94  43.000  39.81  40.38  10897100.0        0.0   \n",
       "...                  ...     ...    ...    ...         ...        ...   \n",
       "ZYNE   2017-08-17   6.36   6.639   6.20   6.32    651837.0        0.0   \n",
       "       2017-08-18   6.26   6.450   6.17   6.25    423696.0        0.0   \n",
       "\n",
       "                   Closeunadj Lastupdated    Set  \n",
       "Ticker Date                                       \n",
       "A      1999-11-18       44.00  2018-02-11  train  \n",
       "       1999-11-19       40.38  2018-02-11  train  \n",
       "...                       ...         ...    ...  \n",
       "ZYNE   2017-08-17        6.32  2017-11-01  train  \n",
       "       2017-08-18        6.25  2017-11-01  train  \n",
       "\n",
       "[14052292 rows x 9 columns]"
      ]
     },
     "execution_count": 46,
     "metadata": {},
     "output_type": "execute_result"
    }
   ],
   "source": [
    "print(len(tickers), 'assets in train set.')\n",
    "prices"
   ]
  },
  {
   "cell_type": "code",
   "execution_count": 47,
   "metadata": {
    "ExecuteTime": {
     "end_time": "2018-07-18T22:51:07.246643Z",
     "start_time": "2018-07-18T22:51:06.036504Z"
    }
   },
   "outputs": [],
   "source": [
    "ticker_days = prices.groupby('Ticker')[['Set']].count().rename(columns={'Set': 'n_days'}).reset_index()"
   ]
  },
  {
   "cell_type": "code",
   "execution_count": 48,
   "metadata": {
    "ExecuteTime": {
     "end_time": "2018-07-18T22:51:07.564799Z",
     "start_time": "2018-07-18T22:51:07.247617Z"
    }
   },
   "outputs": [
    {
     "data": {
      "text/plain": [
       "<matplotlib.axes._subplots.AxesSubplot at 0x140b7b7e908>"
      ]
     },
     "execution_count": 48,
     "metadata": {},
     "output_type": "execute_result"
    },
    {
     "data": {
      "image/png": "[encoded data removed]",
      "text/plain": [
       "<Figure size 1152x360 with 1 Axes>"
      ]
     },
     "metadata": {},
     "output_type": "display_data"
    }
   ],
   "source": [
    "ticker_days.n_days.hist(bins=50, alpha=0.5)"
   ]
  },
  {
   "cell_type": "markdown",
   "metadata": {
    "heading_collapsed": true
   },
   "source": [
    "# Finding the trend in a single price\n",
    "\n",
    "See An introduction to smoothing time series in python, [part 1](http://www.nehalemlabs.net/prototype/blog/2013/04/05/an-introduction-to-smoothing-time-series-in-python-part-i-filtering-theory/) and [part 2](http://www.nehalemlabs.net/prototype/blog/2013/04/09/an-introduction-to-smoothing-time-series-in-python-part-ii-wiener-filter-and-smoothing-splines/).\n",
    "\n",
    "Series to check:\n",
    "\n",
    "* AKTC"
   ]
  },
  {
   "cell_type": "code",
   "execution_count": null,
   "metadata": {
    "ExecuteTime": {
     "end_time": "2018-07-16T14:29:56.808858Z",
     "start_time": "2018-07-16T14:29:56.442810Z"
    },
    "hidden": true,
    "scrolled": true
   },
   "outputs": [],
   "source": [
    "ticker = np.random.choice(tickers)\n",
    "price = prices.loc[ticker]\n",
    "print(len(price), 'days.')\n",
    "price[['Open', 'High', 'Low', 'Close']].plot()\n",
    "plt.title(ticker);"
   ]
  },
  {
   "cell_type": "markdown",
   "metadata": {
    "ExecuteTime": {
     "end_time": "2018-07-10T22:08:07.183578Z",
     "start_time": "2018-07-10T22:08:07.108808Z"
    },
    "hidden": true
   },
   "source": [
    "## Filters"
   ]
  },
  {
   "cell_type": "code",
   "execution_count": null,
   "metadata": {
    "ExecuteTime": {
     "end_time": "2018-07-16T14:29:56.881740Z",
     "start_time": "2018-07-16T14:29:56.809828Z"
    },
    "hidden": true
   },
   "outputs": [],
   "source": [
    "from scipy.interpolate import UnivariateSpline\n",
    "from scipy.signal import wiener, filtfilt, butter, gaussian, freqz\n",
    "from scipy.ndimage import filters\n",
    "import scipy.optimize as op"
   ]
  },
  {
   "cell_type": "markdown",
   "metadata": {
    "hidden": true
   },
   "source": [
    "### Linear "
   ]
  },
  {
   "cell_type": "code",
   "execution_count": null,
   "metadata": {
    "ExecuteTime": {
     "end_time": "2018-07-16T14:29:56.954473Z",
     "start_time": "2018-07-16T14:29:56.883644Z"
    },
    "hidden": true
   },
   "outputs": [],
   "source": [
    "N = 61\n",
    "f_sma = np.ones(N) / N"
   ]
  },
  {
   "cell_type": "markdown",
   "metadata": {
    "hidden": true
   },
   "source": [
    "### Gaussian"
   ]
  },
  {
   "cell_type": "code",
   "execution_count": null,
   "metadata": {
    "ExecuteTime": {
     "end_time": "2018-07-16T14:29:57.026300Z",
     "start_time": "2018-07-16T14:29:56.955470Z"
    },
    "hidden": true
   },
   "outputs": [],
   "source": [
    "N_ga = 1500\n",
    "f_ga = gaussian(N_ga, std=30.)\n",
    "f_ga = f_ga / f_ga.sum()"
   ]
  },
  {
   "cell_type": "code",
   "execution_count": null,
   "metadata": {
    "ExecuteTime": {
     "end_time": "2018-07-16T14:29:57.171912Z",
     "start_time": "2018-07-16T14:29:57.028297Z"
    },
    "hidden": true
   },
   "outputs": [],
   "source": [
    "plt.figure(figsize=(7, 3))\n",
    "plt.axhline(c='grey')\n",
    "plt.axvline(c='grey')\n",
    "plt.plot(np.arange(-N/2, N/2), f_sma, label='f_sma')\n",
    "plt.plot(np.arange(-N_ga/2, N_ga/2), f_ga, label='f_ga')\n",
    "plt.show()"
   ]
  },
  {
   "cell_type": "markdown",
   "metadata": {
    "hidden": true
   },
   "source": [
    "### Geometric"
   ]
  },
  {
   "cell_type": "code",
   "execution_count": null,
   "metadata": {
    "ExecuteTime": {
     "end_time": "2018-07-16T14:29:57.244842Z",
     "start_time": "2018-07-16T14:29:57.172910Z"
    },
    "hidden": true
   },
   "outputs": [],
   "source": [
    "f_geo = lambda s: np.exp(filters.convolve1d(np.log(price.Close), f_ga))"
   ]
  },
  {
   "cell_type": "markdown",
   "metadata": {
    "hidden": true
   },
   "source": [
    "### Wiener "
   ]
  },
  {
   "cell_type": "code",
   "execution_count": null,
   "metadata": {
    "ExecuteTime": {
     "end_time": "2018-07-16T14:29:57.322540Z",
     "start_time": "2018-07-16T14:29:57.246742Z"
    },
    "hidden": true
   },
   "outputs": [],
   "source": [
    "sigma = np.std(price.Close)\n",
    "f_wi = lambda x: wiener(x, mysize=N, noise=sigma)"
   ]
  },
  {
   "cell_type": "markdown",
   "metadata": {
    "hidden": true
   },
   "source": [
    "### Spline"
   ]
  },
  {
   "cell_type": "code",
   "execution_count": null,
   "metadata": {
    "ExecuteTime": {
     "end_time": "2018-07-16T14:29:57.398327Z",
     "start_time": "2018-07-16T14:29:57.324520Z"
    },
    "hidden": true
   },
   "outputs": [],
   "source": [
    "f_sp = lambda x: UnivariateSpline(np.arange(len(x)), x)(np.arange(len(x)))"
   ]
  },
  {
   "cell_type": "markdown",
   "metadata": {
    "hidden": true
   },
   "source": [
    "### Results"
   ]
  },
  {
   "cell_type": "code",
   "execution_count": null,
   "metadata": {
    "ExecuteTime": {
     "end_time": "2018-07-16T14:29:57.671043Z",
     "start_time": "2018-07-16T14:29:57.399362Z"
    },
    "hidden": true
   },
   "outputs": [],
   "source": [
    "plt.figure(figsize=(16, 6))\n",
    "results = price[['Close']].assign(\n",
    "    sma=filters.convolve1d(price.Close, f_sma),\n",
    "    geo=f_geo(price.Close),\n",
    "    ga=filters.convolve1d(price.Close, f_ga),\n",
    "    ga2=filters.convolve1d(filters.convolve1d(price.Close, f_ga), f_ga),\n",
    "    wi=f_wi(price.Close),\n",
    "    sp=f_sp(price.Close),\n",
    ")\n",
    "results[:1000].plot(alpha=0.5);"
   ]
  },
  {
   "cell_type": "code",
   "execution_count": null,
   "metadata": {
    "ExecuteTime": {
     "end_time": "2018-07-16T14:29:57.920446Z",
     "start_time": "2018-07-16T14:29:57.672012Z"
    },
    "hidden": true
   },
   "outputs": [],
   "source": [
    "plt.figure(figsize=(16, 6));\n",
    "results.plot(alpha = 0.5);"
   ]
  },
  {
   "cell_type": "code",
   "execution_count": null,
   "metadata": {
    "ExecuteTime": {
     "end_time": "2018-07-16T14:29:57.994260Z",
     "start_time": "2018-07-16T14:29:57.921422Z"
    },
    "hidden": true
   },
   "outputs": [],
   "source": [
    "def smooth_price(df, N=151, std=20.):\n",
    "    f_ga = gaussian(N_ga, std=std)\n",
    "    f_ga = f_ga / f_ga.sum()\n",
    "    df = df.assign(Smoothed=filters.convolve1d(df.Close, f_ga))\n",
    "    \n",
    "    return df"
   ]
  },
  {
   "cell_type": "markdown",
   "metadata": {
    "hidden": true
   },
   "source": [
    "## Trends "
   ]
  },
  {
   "cell_type": "markdown",
   "metadata": {
    "hidden": true
   },
   "source": [
    "### Peaks and Valleys"
   ]
  },
  {
   "cell_type": "code",
   "execution_count": null,
   "metadata": {
    "ExecuteTime": {
     "end_time": "2018-07-16T14:29:58.094071Z",
     "start_time": "2018-07-16T14:29:57.995214Z"
    },
    "hidden": true
   },
   "outputs": [],
   "source": [
    "from scipy.signal import find_peaks, find_peaks_cwt\n",
    "from sklearn.metrics import confusion_matrix"
   ]
  },
  {
   "cell_type": "code",
   "execution_count": null,
   "metadata": {
    "ExecuteTime": {
     "end_time": "2018-07-16T14:29:58.172741Z",
     "start_time": "2018-07-16T14:29:58.095976Z"
    },
    "hidden": true
   },
   "outputs": [],
   "source": [
    "results = smooth_price(price)"
   ]
  },
  {
   "cell_type": "code",
   "execution_count": null,
   "metadata": {
    "ExecuteTime": {
     "end_time": "2018-07-16T14:29:58.257540Z",
     "start_time": "2018-07-16T14:29:58.174766Z"
    },
    "hidden": true
   },
   "outputs": [],
   "source": [
    "results"
   ]
  },
  {
   "cell_type": "code",
   "execution_count": null,
   "metadata": {
    "ExecuteTime": {
     "end_time": "2018-07-16T14:29:58.338329Z",
     "start_time": "2018-07-16T14:29:58.258525Z"
    },
    "hidden": true
   },
   "outputs": [],
   "source": [
    "results = results.assign(Trend=np.nan, Max_Drawdown=np.nan)\n",
    "peaks, _ = find_peaks(results.Smoothed)\n",
    "valleys, _ = find_peaks(-results.Smoothed)"
   ]
  },
  {
   "cell_type": "code",
   "execution_count": null,
   "metadata": {
    "ExecuteTime": {
     "end_time": "2018-07-16T14:29:58.416098Z",
     "start_time": "2018-07-16T14:29:58.339326Z"
    },
    "hidden": true
   },
   "outputs": [],
   "source": [
    "n_changes = min(len(peaks), len(valleys))\n",
    "assert len(set(np.sign(peaks[:n_changes] - valleys[:n_changes]))) == 1"
   ]
  },
  {
   "cell_type": "code",
   "execution_count": null,
   "metadata": {
    "ExecuteTime": {
     "end_time": "2018-07-16T14:29:58.493914Z",
     "start_time": "2018-07-16T14:29:58.417087Z"
    },
    "hidden": true
   },
   "outputs": [],
   "source": [
    "# End\n",
    "if valleys.max() > peaks.max():\n",
    "    peaks = np.concatenate((peaks, np.ones(1, dtype=np.int32) * len(results) - 1))\n",
    "else:\n",
    "    valleys = np.concatenate((valleys, np.ones(1, dtype=np.int32) * len(results) - 1))"
   ]
  },
  {
   "cell_type": "code",
   "execution_count": null,
   "metadata": {
    "ExecuteTime": {
     "end_time": "2018-07-16T14:29:58.567715Z",
     "start_time": "2018-07-16T14:29:58.494885Z"
    },
    "hidden": true
   },
   "outputs": [],
   "source": [
    "peaks"
   ]
  },
  {
   "cell_type": "code",
   "execution_count": null,
   "metadata": {
    "ExecuteTime": {
     "end_time": "2018-07-16T14:29:58.645490Z",
     "start_time": "2018-07-16T14:29:58.569710Z"
    },
    "hidden": true
   },
   "outputs": [],
   "source": [
    "results.loc[results.index[peaks], 'Trend'] = 1\n",
    "results.loc[results.index[valleys], 'Trend'] = -1\n",
    "results.Trend.fillna(method='bfill', inplace=True)"
   ]
  },
  {
   "cell_type": "code",
   "execution_count": null,
   "metadata": {
    "ExecuteTime": {
     "end_time": "2018-07-16T14:29:58.730329Z",
     "start_time": "2018-07-16T14:29:58.646473Z"
    },
    "hidden": true
   },
   "outputs": [],
   "source": [
    "results"
   ]
  },
  {
   "cell_type": "code",
   "execution_count": null,
   "metadata": {
    "ExecuteTime": {
     "end_time": "2018-07-16T14:29:58.955699Z",
     "start_time": "2018-07-16T14:29:58.732308Z"
    },
    "hidden": true
   },
   "outputs": [],
   "source": [
    "fig, ax = plt.subplots(figsize=(16, 5))\n",
    "trans = matplotlib.transforms.blended_transform_factory(ax.transData, ax.transAxes)\n",
    "ax.fill_between(results.index, 0, results.Trend.max(), where= results.Trend > 0, facecolor=pal[0],\n",
    "                        alpha=0.25, transform=trans, label='Trend up')\n",
    "ax.fill_between(results.index, 0, results.Trend.max(), where= results.Trend < 0, facecolor=pal[4],\n",
    "                alpha=0.25, transform=trans, label='Trend down')\n",
    "plt.plot(results['Close'], alpha = 0.5)\n",
    "plt.plot(results['Smoothed'], alpha = 0.5)\n",
    "plt.plot(results.iloc[peaks]['Smoothed'], 'o', label='peaks')\n",
    "plt.plot(results.iloc[valleys]['Smoothed'], 'o', label='valleys')\n",
    "plt.axhline(0, c='grey')\n",
    "plt.show()"
   ]
  },
  {
   "cell_type": "markdown",
   "metadata": {
    "hidden": true
   },
   "source": [
    "### Slopes"
   ]
  },
  {
   "cell_type": "code",
   "execution_count": null,
   "metadata": {
    "ExecuteTime": {
     "end_time": "2018-07-16T14:29:59.033637Z",
     "start_time": "2018-07-16T14:29:58.956697Z"
    },
    "hidden": true,
    "scrolled": false
   },
   "outputs": [],
   "source": [
    "results = results.assign(Trend2=results.Smoothed.pct_change().apply(np.sign))\n",
    "results.loc[results.index[0], 'Trend2'] = results.Trend2[1]"
   ]
  },
  {
   "cell_type": "code",
   "execution_count": null,
   "metadata": {
    "ExecuteTime": {
     "end_time": "2018-07-16T14:29:59.225456Z",
     "start_time": "2018-07-16T14:29:59.034939Z"
    },
    "hidden": true,
    "scrolled": true
   },
   "outputs": [],
   "source": [
    "fig, ax = plt.subplots(figsize=(16, 5))\n",
    "trans = matplotlib.transforms.blended_transform_factory(ax.transData, ax.transAxes)\n",
    "ax.fill_between(results.index, 0, results.Trend2.max(), where= results.Trend2 > 0, facecolor=pal[0],\n",
    "                        alpha=0.25, transform=trans, label='Trend2 up')\n",
    "ax.fill_between(results.index, 0, results.Trend2.max(), where= results.Trend2 < 0, facecolor=pal[4],\n",
    "                alpha=0.25, transform=trans, label='Trend2 down')\n",
    "plt.plot(results['Close'], alpha = 0.5)\n",
    "plt.plot(results['Smoothed'], alpha = 0.5)\n",
    "plt.plot(results.iloc[peaks]['Smoothed'], 'o', label='peaks')\n",
    "plt.plot(results.iloc[valleys]['Smoothed'], 'o', label='valleys')\n",
    "plt.axhline(0, c='grey')\n",
    "plt.show()"
   ]
  },
  {
   "cell_type": "code",
   "execution_count": null,
   "metadata": {
    "ExecuteTime": {
     "end_time": "2018-07-16T14:29:59.304230Z",
     "start_time": "2018-07-16T14:29:59.226438Z"
    },
    "hidden": true
   },
   "outputs": [],
   "source": [
    "confusion_matrix(results.Trend.values, results.Trend2) / len(results)"
   ]
  },
  {
   "cell_type": "markdown",
   "metadata": {
    "hidden": true
   },
   "source": [
    "> Both methods are equivalent!!"
   ]
  },
  {
   "cell_type": "markdown",
   "metadata": {
    "hidden": true
   },
   "source": [
    "## Max drawdown within trend\n",
    "\n",
    "-> For trailing stop-loss orders..."
   ]
  },
  {
   "cell_type": "code",
   "execution_count": null,
   "metadata": {
    "ExecuteTime": {
     "end_time": "2018-07-16T14:29:59.383965Z",
     "start_time": "2018-07-16T14:29:59.305216Z"
    },
    "hidden": true
   },
   "outputs": [],
   "source": [
    "breakpoints = np.concatenate((np.zeros(1, dtype=np.int32), peaks + 1, valleys + 1))\n",
    "breakpoints.sort()\n",
    "print('Breakpoints:', breakpoints)"
   ]
  },
  {
   "cell_type": "code",
   "execution_count": null,
   "metadata": {
    "ExecuteTime": {
     "end_time": "2018-07-16T14:29:59.471685Z",
     "start_time": "2018-07-16T14:29:59.385915Z"
    },
    "hidden": true
   },
   "outputs": [],
   "source": [
    "b = 3\n",
    "trend_start = breakpoints[b - 1]\n",
    "trend_end = breakpoints[b]\n",
    "res_b = results[trend_start:trend_end]\n",
    "res_b"
   ]
  },
  {
   "cell_type": "code",
   "execution_count": null,
   "metadata": {
    "ExecuteTime": {
     "end_time": "2018-07-16T14:29:59.655193Z",
     "start_time": "2018-07-16T14:29:59.473680Z"
    },
    "hidden": true
   },
   "outputs": [],
   "source": [
    "for b in range(1, len(breakpoints)):\n",
    "\n",
    "    trend_start = breakpoints[b - 1]\n",
    "    trend_end = breakpoints[b]\n",
    "    res_b = results[trend_start:trend_end]\n",
    "    trend_b = res_b.Trend[0]\n",
    "\n",
    "    # Adjust for position (long, short)\n",
    "    close_b = res_b.Close[0] * res_b.Close.pct_change()[1:].mul(trend_b).add(1).cumprod()  \n",
    "    close_b[res_b.index[0]] = res_b.Close[0]\n",
    "    close_b = close_b.sort_index()\n",
    "\n",
    "    peak = close_b[0]\n",
    "    low = peak\n",
    "    drawdown = 0\n",
    "    max_drawdown = 0\n",
    "\n",
    "    for i in range(1, len(close_b)):\n",
    "        # Max drawdown\n",
    "        if close_b[i] > peak:\n",
    "            peak = close_b[i]\n",
    "            low = peak\n",
    "        if close_b[i] < low:\n",
    "            low = close_b[i]\n",
    "            drawdown = low / peak - 1\n",
    "        max_drawdown = min(drawdown, max_drawdown)\n",
    "    \n",
    "    results.loc[res_b.index, 'Max_Drawdown'] = -max_drawdown\n",
    "    "
   ]
  },
  {
   "cell_type": "code",
   "execution_count": null,
   "metadata": {
    "ExecuteTime": {
     "end_time": "2018-07-16T14:29:59.743956Z",
     "start_time": "2018-07-16T14:29:59.656191Z"
    },
    "hidden": true
   },
   "outputs": [],
   "source": [
    "results"
   ]
  },
  {
   "cell_type": "code",
   "execution_count": null,
   "metadata": {
    "ExecuteTime": {
     "end_time": "2018-07-16T14:29:59.970351Z",
     "start_time": "2018-07-16T14:29:59.744954Z"
    },
    "hidden": true
   },
   "outputs": [],
   "source": [
    "fig, ax = plt.subplots(figsize=(16, 5))\n",
    "trans = matplotlib.transforms.blended_transform_factory(ax.transData, ax.transAxes)\n",
    "ax.fill_between(results.index, 0, results.Trend.max(), where= results.Trend > 0, facecolor=pal[0],\n",
    "                        alpha=0.25, transform=trans, label='Trend up')\n",
    "ax.fill_between(results.index, 0, results.Trend.max(), where= results.Trend < 0, facecolor=pal[4],\n",
    "                alpha=0.25, transform=trans, label='Trend down')\n",
    "plt.plot(results.Close, label='Close')\n",
    "plt.plot(results.Smoothed, label='Smoothed')\n",
    "plt.plot(results.Close * (1 - results.Max_Drawdown * results.Trend), label='Stop-loss')\n",
    "plt.axhline(0, c='grey')\n",
    "plt.legend()\n",
    "plt.title(ticker)\n",
    "plt.show()"
   ]
  },
  {
   "cell_type": "code",
   "execution_count": null,
   "metadata": {
    "ExecuteTime": {
     "end_time": "2018-07-16T14:30:00.316769Z",
     "start_time": "2018-07-16T14:29:59.971362Z"
    },
    "hidden": true
   },
   "outputs": [],
   "source": [
    "res2 = find_trends(price)\n",
    "plot_trends(res2)"
   ]
  },
  {
   "cell_type": "markdown",
   "metadata": {},
   "source": [
    "# Sample..."
   ]
  },
  {
   "cell_type": "markdown",
   "metadata": {
    "heading_collapsed": true
   },
   "source": [
    "## A single asset "
   ]
  },
  {
   "cell_type": "code",
   "execution_count": null,
   "metadata": {
    "ExecuteTime": {
     "end_time": "2018-07-18T22:30:31.476393Z",
     "start_time": "2018-07-18T22:30:31.398602Z"
    },
    "hidden": true
   },
   "outputs": [],
   "source": [
    "from utils import *"
   ]
  },
  {
   "cell_type": "code",
   "execution_count": null,
   "metadata": {
    "ExecuteTime": {
     "end_time": "2018-07-18T22:30:31.676818Z",
     "start_time": "2018-07-18T22:30:31.478349Z"
    },
    "hidden": true
   },
   "outputs": [],
   "source": [
    "ticker = np.random.choice(tickers)\n",
    "# ticker = 'TFCO'\n",
    "price = prices.loc[ticker]\n",
    "print(len(price), 'days.')"
   ]
  },
  {
   "cell_type": "code",
   "execution_count": null,
   "metadata": {
    "ExecuteTime": {
     "end_time": "2018-07-18T22:30:32.043836Z",
     "start_time": "2018-07-18T22:30:31.677816Z"
    },
    "hidden": true
   },
   "outputs": [],
   "source": [
    "trends = find_trends(price, sd=20.)\n",
    "plot_trends(trends, ticker)"
   ]
  },
  {
   "cell_type": "code",
   "execution_count": null,
   "metadata": {
    "ExecuteTime": {
     "end_time": "2018-07-18T22:30:41.741894Z",
     "start_time": "2018-07-18T22:30:41.649137Z"
    },
    "hidden": true
   },
   "outputs": [],
   "source": [
    "trends"
   ]
  },
  {
   "cell_type": "code",
   "execution_count": null,
   "metadata": {
    "ExecuteTime": {
     "end_time": "2018-07-18T22:30:51.869628Z",
     "start_time": "2018-07-18T22:30:51.775875Z"
    },
    "hidden": true
   },
   "outputs": [],
   "source": [
    "trends.groupby('n_Trend').first()"
   ]
  },
  {
   "cell_type": "code",
   "execution_count": null,
   "metadata": {
    "ExecuteTime": {
     "end_time": "2018-07-18T22:31:06.755068Z",
     "start_time": "2018-07-18T22:31:06.675254Z"
    },
    "hidden": true
   },
   "outputs": [],
   "source": [
    "trends.groupby('n_Trend').Trend.count()"
   ]
  },
  {
   "cell_type": "code",
   "execution_count": null,
   "metadata": {
    "ExecuteTime": {
     "end_time": "2018-07-18T22:31:12.752584Z",
     "start_time": "2018-07-18T22:31:12.562333Z"
    },
    "hidden": true,
    "scrolled": true
   },
   "outputs": [],
   "source": [
    "summarise_trends(price, sd=20)"
   ]
  },
  {
   "cell_type": "code",
   "execution_count": null,
   "metadata": {
    "ExecuteTime": {
     "end_time": "2018-07-17T20:24:43.905017Z",
     "start_time": "2018-07-17T20:24:42.666970Z"
    },
    "hidden": true,
    "scrolled": false
   },
   "outputs": [],
   "source": [
    "trends2 = find_trends(price, sd=5.)\n",
    "plot_trends(trends2, ticker)"
   ]
  },
  {
   "cell_type": "code",
   "execution_count": null,
   "metadata": {
    "ExecuteTime": {
     "end_time": "2018-07-17T20:24:44.989362Z",
     "start_time": "2018-07-17T20:24:43.907011Z"
    },
    "hidden": true,
    "scrolled": true
   },
   "outputs": [],
   "source": [
    "summarise_trends(price, sd=5)"
   ]
  },
  {
   "cell_type": "code",
   "execution_count": null,
   "metadata": {
    "ExecuteTime": {
     "end_time": "2018-07-17T20:24:57.228398Z",
     "start_time": "2018-07-17T20:24:44.991388Z"
    },
    "code_folding": [],
    "hidden": true
   },
   "outputs": [],
   "source": [
    "sds = np.arange(5, 250, step=5)\n",
    "sum_trends = pd.concat([summarise_trends(price, s) for s in sds], axis=0)"
   ]
  },
  {
   "cell_type": "code",
   "execution_count": null,
   "metadata": {
    "ExecuteTime": {
     "end_time": "2018-07-17T20:24:57.330098Z",
     "start_time": "2018-07-17T20:24:57.229367Z"
    },
    "hidden": true
   },
   "outputs": [],
   "source": [
    "sum_trends"
   ]
  },
  {
   "cell_type": "code",
   "execution_count": null,
   "metadata": {
    "ExecuteTime": {
     "end_time": "2018-07-17T20:24:57.544535Z",
     "start_time": "2018-07-17T20:24:57.332145Z"
    },
    "hidden": true
   },
   "outputs": [],
   "source": [
    "sum_trends.set_index('sd')[['mean', 'min', '50%', 'max']].plot();"
   ]
  },
  {
   "cell_type": "code",
   "execution_count": null,
   "metadata": {
    "ExecuteTime": {
     "end_time": "2018-07-17T20:24:57.741995Z",
     "start_time": "2018-07-17T20:24:57.545533Z"
    },
    "hidden": true,
    "scrolled": true
   },
   "outputs": [],
   "source": [
    "sum_trends.set_index('sd')[['trend_freq']].plot();"
   ]
  },
  {
   "cell_type": "code",
   "execution_count": null,
   "metadata": {
    "ExecuteTime": {
     "end_time": "2018-07-17T20:24:57.955451Z",
     "start_time": "2018-07-17T20:24:57.744024Z"
    },
    "hidden": true,
    "scrolled": false
   },
   "outputs": [],
   "source": [
    "sum_trends.set_index('sd')[['ICAGR', 'mean_ICAGR', 'neg_ICAGR']].plot();"
   ]
  },
  {
   "cell_type": "code",
   "execution_count": null,
   "metadata": {
    "ExecuteTime": {
     "end_time": "2018-07-17T20:24:58.139958Z",
     "start_time": "2018-07-17T20:24:57.957419Z"
    },
    "hidden": true,
    "scrolled": false
   },
   "outputs": [],
   "source": [
    "sum_trends.set_index('sd')[['Bliss']].plot();"
   ]
  },
  {
   "cell_type": "markdown",
   "metadata": {},
   "source": [
    "## Multiple assets"
   ]
  },
  {
   "cell_type": "markdown",
   "metadata": {
    "heading_collapsed": true
   },
   "source": [
    "### Single thread"
   ]
  },
  {
   "cell_type": "code",
   "execution_count": null,
   "metadata": {
    "ExecuteTime": {
     "end_time": "2018-07-17T22:04:33.073599Z",
     "start_time": "2018-07-17T22:04:32.997675Z"
    },
    "hidden": true
   },
   "outputs": [],
   "source": [
    "from utils import *\n",
    "# summarise_trends(prices.loc['A'], sd=100)\n",
    "# results = pickle.load(open('output/Finding the trends - sd values for filtering.pickle', 'rb'))"
   ]
  },
  {
   "cell_type": "code",
   "execution_count": null,
   "metadata": {
    "ExecuteTime": {
     "end_time": "2018-07-18T16:20:38.576716Z",
     "start_time": "2018-07-17T22:04:33.075467Z"
    },
    "hidden": true,
    "scrolled": false
   },
   "outputs": [],
   "source": [
    "# n_tickers = 1000\n",
    "sds = np.arange(5, 300, step=5)\n",
    "\n",
    "results = []\n",
    "# grouped = prices.loc[np.random.choice(tickers, size=n_tickers)].groupby('Ticker')\n",
    "grouped = prices.groupby('Ticker')\n",
    "# grouped = prices.loc[list(set(results_df.Ticker.values))].groupby('Ticker')\n",
    "\n",
    "for name, group in tqdm_notebook(grouped, desc='Ticker:'):\n",
    "    res_g = []\n",
    "    for s in tqdm_notebook(sds, desc='sd:', leave=False, postfix=dict(n_days=str(len(group)))):\n",
    "        try:\n",
    "            res_g.append(summarise_trends(group.reset_index('Ticker'), s))\n",
    "        except:\n",
    "            pass\n",
    "    try:\n",
    "        results.append(pd.concat(res_g, axis=0).assign(Ticker=name))\n",
    "    except:\n",
    "        pass"
   ]
  },
  {
   "cell_type": "code",
   "execution_count": null,
   "metadata": {
    "ExecuteTime": {
     "end_time": "2018-07-18T16:20:40.537045Z",
     "start_time": "2018-07-18T16:20:38.578737Z"
    },
    "hidden": true
   },
   "outputs": [],
   "source": [
    "# pickle.dump(results, open('output/Finding the trends - std values for filtering.pickle', 'wb'))"
   ]
  },
  {
   "cell_type": "markdown",
   "metadata": {},
   "source": [
    "### Results"
   ]
  },
  {
   "cell_type": "code",
   "execution_count": 67,
   "metadata": {
    "ExecuteTime": {
     "end_time": "2018-07-18T22:57:55.881797Z",
     "start_time": "2018-07-18T22:57:53.095581Z"
    }
   },
   "outputs": [],
   "source": [
    "results = pickle.load(open('output/Finding the trends - std values for filtering.pickle', 'rb'))"
   ]
  },
  {
   "cell_type": "code",
   "execution_count": 68,
   "metadata": {
    "ExecuteTime": {
     "end_time": "2018-07-18T22:58:00.617039Z",
     "start_time": "2018-07-18T22:57:55.881797Z"
    }
   },
   "outputs": [
    {
     "data": {
      "text/html": [
       "<div>\n",
       "<style scoped>\n",
       "    .dataframe tbody tr th:only-of-type {\n",
       "        vertical-align: middle;\n",
       "    }\n",
       "\n",
       "    .dataframe tbody tr th {\n",
       "        vertical-align: top;\n",
       "    }\n",
       "\n",
       "    .dataframe thead th {\n",
       "        text-align: right;\n",
       "    }\n",
       "</style>\n",
       "<table border=\"1\" class=\"dataframe\">\n",
       "  <thead>\n",
       "    <tr style=\"text-align: right;\">\n",
       "      <th></th>\n",
       "      <th>Ticker</th>\n",
       "      <th>25%</th>\n",
       "      <th>50%</th>\n",
       "      <th>75%</th>\n",
       "      <th>Bliss</th>\n",
       "      <th>ICAGR</th>\n",
       "      <th>Max_Drawdown</th>\n",
       "      <th>Ratio</th>\n",
       "      <th>count</th>\n",
       "      <th>max</th>\n",
       "      <th>mean</th>\n",
       "      <th>mean_Bliss</th>\n",
       "      <th>mean_ICAGR</th>\n",
       "      <th>min</th>\n",
       "      <th>n_days</th>\n",
       "      <th>neg_ICAGR</th>\n",
       "      <th>neg_freq</th>\n",
       "      <th>sd</th>\n",
       "      <th>std</th>\n",
       "      <th>trend_freq</th>\n",
       "    </tr>\n",
       "  </thead>\n",
       "  <tbody>\n",
       "    <tr>\n",
       "      <th>0</th>\n",
       "      <td>GCOR</td>\n",
       "      <td>16.00</td>\n",
       "      <td>24.0</td>\n",
       "      <td>43.00</td>\n",
       "      <td>17.947266</td>\n",
       "      <td>2.333172</td>\n",
       "      <td>0.130002</td>\n",
       "      <td>2293.285316</td>\n",
       "      <td>29.0</td>\n",
       "      <td>89.0</td>\n",
       "      <td>28.655172</td>\n",
       "      <td>46.334248</td>\n",
       "      <td>2.695630</td>\n",
       "      <td>7.0</td>\n",
       "      <td>831</td>\n",
       "      <td>0</td>\n",
       "      <td>0.0</td>\n",
       "      <td>5</td>\n",
       "      <td>17.911042</td>\n",
       "      <td>12.711492</td>\n",
       "    </tr>\n",
       "    <tr>\n",
       "      <th>1</th>\n",
       "      <td>GCOR</td>\n",
       "      <td>24.25</td>\n",
       "      <td>32.5</td>\n",
       "      <td>46.25</td>\n",
       "      <td>7.784758</td>\n",
       "      <td>1.843758</td>\n",
       "      <td>0.236842</td>\n",
       "      <td>452.436356</td>\n",
       "      <td>22.0</td>\n",
       "      <td>89.0</td>\n",
       "      <td>37.772727</td>\n",
       "      <td>27.939108</td>\n",
       "      <td>1.992383</td>\n",
       "      <td>15.0</td>\n",
       "      <td>831</td>\n",
       "      <td>0</td>\n",
       "      <td>0.0</td>\n",
       "      <td>10</td>\n",
       "      <td>19.534906</td>\n",
       "      <td>9.643201</td>\n",
       "    </tr>\n",
       "    <tr>\n",
       "      <th>...</th>\n",
       "      <td>...</td>\n",
       "      <td>...</td>\n",
       "      <td>...</td>\n",
       "      <td>...</td>\n",
       "      <td>...</td>\n",
       "      <td>...</td>\n",
       "      <td>...</td>\n",
       "      <td>...</td>\n",
       "      <td>...</td>\n",
       "      <td>...</td>\n",
       "      <td>...</td>\n",
       "      <td>...</td>\n",
       "      <td>...</td>\n",
       "      <td>...</td>\n",
       "      <td>...</td>\n",
       "      <td>...</td>\n",
       "      <td>...</td>\n",
       "      <td>...</td>\n",
       "      <td>...</td>\n",
       "      <td>...</td>\n",
       "    </tr>\n",
       "    <tr>\n",
       "      <th>29498</th>\n",
       "      <td>BUCY</td>\n",
       "      <td>1228.00</td>\n",
       "      <td>1228.0</td>\n",
       "      <td>1228.00</td>\n",
       "      <td>2.212319</td>\n",
       "      <td>1.904896</td>\n",
       "      <td>0.861040</td>\n",
       "      <td>10976.666667</td>\n",
       "      <td>1.0</td>\n",
       "      <td>1228.0</td>\n",
       "      <td>1228.000000</td>\n",
       "      <td>2.212319</td>\n",
       "      <td>1.904896</td>\n",
       "      <td>1228.0</td>\n",
       "      <td>1228</td>\n",
       "      <td>0</td>\n",
       "      <td>0.0</td>\n",
       "      <td>290</td>\n",
       "      <td>NaN</td>\n",
       "      <td>0.296621</td>\n",
       "    </tr>\n",
       "    <tr>\n",
       "      <th>29499</th>\n",
       "      <td>BUCY</td>\n",
       "      <td>1228.00</td>\n",
       "      <td>1228.0</td>\n",
       "      <td>1228.00</td>\n",
       "      <td>2.212319</td>\n",
       "      <td>1.904896</td>\n",
       "      <td>0.861040</td>\n",
       "      <td>10976.666667</td>\n",
       "      <td>1.0</td>\n",
       "      <td>1228.0</td>\n",
       "      <td>1228.000000</td>\n",
       "      <td>2.212319</td>\n",
       "      <td>1.904896</td>\n",
       "      <td>1228.0</td>\n",
       "      <td>1228</td>\n",
       "      <td>0</td>\n",
       "      <td>0.0</td>\n",
       "      <td>295</td>\n",
       "      <td>NaN</td>\n",
       "      <td>0.296621</td>\n",
       "    </tr>\n",
       "  </tbody>\n",
       "</table>\n",
       "<p>23773 rows × 20 columns</p>\n",
       "</div>"
      ],
      "text/plain": [
       "      Ticker      25%     50%      75%      Bliss     ICAGR  Max_Drawdown  \\\n",
       "0       GCOR    16.00    24.0    43.00  17.947266  2.333172      0.130002   \n",
       "1       GCOR    24.25    32.5    46.25   7.784758  1.843758      0.236842   \n",
       "...      ...      ...     ...      ...        ...       ...           ...   \n",
       "29498   BUCY  1228.00  1228.0  1228.00   2.212319  1.904896      0.861040   \n",
       "29499   BUCY  1228.00  1228.0  1228.00   2.212319  1.904896      0.861040   \n",
       "\n",
       "              Ratio  count     max         mean  mean_Bliss  mean_ICAGR  \\\n",
       "0       2293.285316   29.0    89.0    28.655172   46.334248    2.695630   \n",
       "1        452.436356   22.0    89.0    37.772727   27.939108    1.992383   \n",
       "...             ...    ...     ...          ...         ...         ...   \n",
       "29498  10976.666667    1.0  1228.0  1228.000000    2.212319    1.904896   \n",
       "29499  10976.666667    1.0  1228.0  1228.000000    2.212319    1.904896   \n",
       "\n",
       "          min  n_days  neg_ICAGR  neg_freq   sd        std  trend_freq  \n",
       "0         7.0     831          0       0.0    5  17.911042   12.711492  \n",
       "1        15.0     831          0       0.0   10  19.534906    9.643201  \n",
       "...       ...     ...        ...       ...  ...        ...         ...  \n",
       "29498  1228.0    1228          0       0.0  290        NaN    0.296621  \n",
       "29499  1228.0    1228          0       0.0  295        NaN    0.296621  \n",
       "\n",
       "[23773 rows x 20 columns]"
      ]
     },
     "execution_count": 68,
     "metadata": {},
     "output_type": "execute_result"
    }
   ],
   "source": [
    "results_df = pd.concat(results, axis=0, sort=True)\n",
    "# results_df = results_df.query('n_days > 3 * sd')\n",
    "results_df = results_df.set_index('Ticker').loc[np.random.choice(results_df.Ticker.values, size=500)]\n",
    "results_df = results_df.reset_index().query('n_days > 3 * sd')\n",
    "results_df"
   ]
  },
  {
   "cell_type": "markdown",
   "metadata": {
    "heading_collapsed": true
   },
   "source": [
    "####  ICAGR"
   ]
  },
  {
   "cell_type": "code",
   "execution_count": 10,
   "metadata": {
    "ExecuteTime": {
     "end_time": "2018-07-18T22:41:55.509531Z",
     "start_time": "2018-07-18T22:41:55.206341Z"
    },
    "hidden": true
   },
   "outputs": [
    {
     "data": {
      "text/html": [
       "<div class=\"vega-embed\" id=\"c5f52f61-42cd-4ef6-99d3-cdcd7d7e5cbf\"></div>\n",
       "\n",
       "<style>\n",
       ".vega-embed .error p {\n",
       "    color: firebrick;\n",
       "    font-size: 14px;\n",
       "}\n",
       "</style>\n"
      ]
     },
     "metadata": {
      "jupyter-vega": "#c5f52f61-42cd-4ef6-99d3-cdcd7d7e5cbf"
     },
     "output_type": "display_data"
    },
    {
     "data": {
      "application/javascript": [
       "var spec = {\"config\": {\"view\": {\"width\": 400, \"height\": 300}}, \"data\": {\"url\": \"altair-data-c2600d3436b0b7788f34cec37377aaed.json\", \"format\": {\"type\": \"json\"}}, \"mark\": {\"type\": \"line\", \"opacity\": 0.25, \"point\": true}, \"encoding\": {\"color\": {\"type\": \"nominal\", \"field\": \"Ticker\", \"legend\": null}, \"size\": {\"type\": \"quantitative\", \"field\": \"n_days\"}, \"tooltip\": [{\"type\": \"nominal\", \"field\": \"Ticker\"}, {\"type\": \"quantitative\", \"field\": \"max\"}, {\"type\": \"quantitative\", \"field\": \"min\"}, {\"type\": \"quantitative\", \"field\": \"50%\"}, {\"type\": \"quantitative\", \"field\": \"mean\"}, {\"type\": \"quantitative\", \"field\": \"count\"}, {\"type\": \"quantitative\", \"field\": \"n_days\"}, {\"type\": \"quantitative\", \"field\": \"sd\"}], \"x\": {\"type\": \"quantitative\", \"field\": \"sd\"}, \"y\": {\"type\": \"quantitative\", \"field\": \"ICAGR\"}}, \"height\": 300, \"selection\": {\"selector001\": {\"type\": \"interval\", \"bind\": \"scales\", \"encodings\": [\"x\", \"y\"]}}, \"width\": 800, \"$schema\": \"https://vega.github.io/schema/vega-lite/v2.4.3.json\"};\n",
       "var opt = {};\n",
       "var selector = \"#c5f52f61-42cd-4ef6-99d3-cdcd7d7e5cbf\";\n",
       "var type = \"vega-lite\";\n",
       "\n",
       "var output_area = this;\n",
       "\n",
       "require(['nbextensions/jupyter-vega/index'], function(vega) {\n",
       "  vega.render(selector, spec, type, opt, output_area);\n",
       "}, function (err) {\n",
       "  if (err.requireType !== 'scripterror') {\n",
       "    throw(err);\n",
       "  }\n",
       "});\n"
      ]
     },
     "metadata": {
      "jupyter-vega": "#c5f52f61-42cd-4ef6-99d3-cdcd7d7e5cbf"
     },
     "output_type": "display_data"
    },
    {
     "data": {
      "text/plain": []
     },
     "execution_count": 10,
     "metadata": {},
     "output_type": "execute_result"
    },
    {
     "data": {
      "image/png": "[encoded data removed]"
     },
     "metadata": {
      "jupyter-vega": "#c5f52f61-42cd-4ef6-99d3-cdcd7d7e5cbf"
     },
     "output_type": "display_data"
    }
   ],
   "source": [
    "alt.Chart(results_df.reset_index()).mark_line(point=True, opacity=0.25).encode(\n",
    "    x='sd',\n",
    "    y='ICAGR',\n",
    "    color=alt.Color('Ticker', legend=None),\n",
    "    size='n_days',\n",
    "    tooltip=['Ticker', 'max', 'min', '50%', 'mean', 'count', 'n_days', 'sd']\n",
    ").properties(width=800, height=300).interactive()"
   ]
  },
  {
   "cell_type": "code",
   "execution_count": 11,
   "metadata": {
    "ExecuteTime": {
     "end_time": "2018-07-18T22:41:56.260522Z",
     "start_time": "2018-07-18T22:41:55.510528Z"
    },
    "hidden": true,
    "scrolled": false
   },
   "outputs": [
    {
     "data": {
      "text/html": [
       "<div class=\"vega-embed\" id=\"a734b82b-dac9-47c2-bd5e-db973449910f\"></div>\n",
       "\n",
       "<style>\n",
       ".vega-embed .error p {\n",
       "    color: firebrick;\n",
       "    font-size: 14px;\n",
       "}\n",
       "</style>\n"
      ]
     },
     "metadata": {
      "jupyter-vega": "#a734b82b-dac9-47c2-bd5e-db973449910f"
     },
     "output_type": "display_data"
    },
    {
     "data": {
      "application/javascript": [
       "var spec = {\"config\": {\"view\": {\"width\": 400, \"height\": 300}}, \"layer\": [{\"data\": {\"url\": \"altair-data-c2600d3436b0b7788f34cec37377aaed.json\", \"format\": {\"type\": \"json\"}}, \"mark\": {\"type\": \"area\", \"opacity\": 0.1}, \"encoding\": {\"x\": {\"type\": \"quantitative\", \"field\": \"sd\"}, \"y\": {\"type\": \"quantitative\", \"aggregate\": \"min\", \"axis\": {\"title\": \"ICAGR\"}, \"field\": \"ICAGR\"}, \"y2\": {\"type\": \"quantitative\", \"aggregate\": \"max\", \"field\": \"ICAGR\"}}, \"height\": 300, \"selection\": {\"selector002\": {\"type\": \"interval\", \"bind\": \"scales\", \"encodings\": [\"x\", \"y\"]}}, \"width\": 800}, {\"data\": {\"url\": \"altair-data-c2600d3436b0b7788f34cec37377aaed.json\", \"format\": {\"type\": \"json\"}}, \"mark\": {\"type\": \"area\", \"opacity\": 0.5}, \"encoding\": {\"x\": {\"type\": \"quantitative\", \"field\": \"sd\"}, \"y\": {\"type\": \"quantitative\", \"aggregate\": \"ci0\", \"axis\": {\"title\": \"ICAGR\"}, \"field\": \"ICAGR\"}, \"y2\": {\"type\": \"quantitative\", \"aggregate\": \"ci1\", \"field\": \"ICAGR\"}}}, {\"data\": {\"url\": \"altair-data-c2600d3436b0b7788f34cec37377aaed.json\", \"format\": {\"type\": \"json\"}}, \"mark\": \"line\", \"encoding\": {\"x\": {\"type\": \"quantitative\", \"field\": \"sd\"}, \"y\": {\"type\": \"quantitative\", \"aggregate\": \"mean\", \"field\": \"ICAGR\"}}}], \"$schema\": \"https://vega.github.io/schema/vega-lite/v2.4.3.json\"};\n",
       "var opt = {};\n",
       "var selector = \"#a734b82b-dac9-47c2-bd5e-db973449910f\";\n",
       "var type = \"vega-lite\";\n",
       "\n",
       "var output_area = this;\n",
       "\n",
       "require(['nbextensions/jupyter-vega/index'], function(vega) {\n",
       "  vega.render(selector, spec, type, opt, output_area);\n",
       "}, function (err) {\n",
       "  if (err.requireType !== 'scripterror') {\n",
       "    throw(err);\n",
       "  }\n",
       "});\n"
      ]
     },
     "metadata": {
      "jupyter-vega": "#a734b82b-dac9-47c2-bd5e-db973449910f"
     },
     "output_type": "display_data"
    },
    {
     "data": {
      "text/plain": []
     },
     "execution_count": 11,
     "metadata": {},
     "output_type": "execute_result"
    },
    {
     "data": {
      "image/png": "[encoded data removed]"
     },
     "metadata": {
      "jupyter-vega": "#a734b82b-dac9-47c2-bd5e-db973449910f"
     },
     "output_type": "display_data"
    }
   ],
   "source": [
    "line = alt.Chart(results_df.reset_index()).mark_line().encode(\n",
    "    x='sd',\n",
    "    y='mean(ICAGR)'\n",
    ")\n",
    "confidence_interval = alt.Chart(results_df.reset_index()).mark_area(opacity=0.5).encode(\n",
    "    x='sd',\n",
    "    y=alt.Y('ci0(ICAGR)', axis=alt.Axis(title='ICAGR')),\n",
    "    y2='ci1(ICAGR)',\n",
    ")\n",
    "total_interval = alt.Chart(results_df.reset_index()).mark_area(opacity=0.1).encode(\n",
    "    x='sd',\n",
    "    y=alt.Y('min(ICAGR)', axis=alt.Axis(title='ICAGR')),\n",
    "    y2='max(ICAGR)',\n",
    ").properties(width=800, height=300).interactive()\n",
    "total_interval + confidence_interval + line"
   ]
  },
  {
   "cell_type": "markdown",
   "metadata": {},
   "source": [
    "#### Max Drawdown"
   ]
  },
  {
   "cell_type": "code",
   "execution_count": null,
   "metadata": {
    "ExecuteTime": {
     "end_time": "2018-07-18T22:58:01.004013Z",
     "start_time": "2018-07-18T22:58:00.619016Z"
    }
   },
   "outputs": [],
   "source": [
    "alt.Chart(results_df.reset_index()).mark_line(point=True, opacity=0.25).encode(\n",
    "    x='sd',\n",
    "    y='Max_Drawdown',\n",
    "    color=alt.Color('Ticker', legend=None),\n",
    "    size='n_days',\n",
    "    tooltip=['Ticker', 'max', 'min', '50%', 'mean', 'count', 'n_days', 'sd']\n",
    ").properties(width=800, height=300).interactive()"
   ]
  },
  {
   "cell_type": "code",
   "execution_count": null,
   "metadata": {
    "ExecuteTime": {
     "end_time": "2018-07-18T22:44:50.852458Z",
     "start_time": "2018-07-18T22:44:50.379237Z"
    }
   },
   "outputs": [],
   "source": [
    "line = alt.Chart(results_df.reset_index()).mark_line().encode(\n",
    "    x='sd',\n",
    "    y='mean(Max_Drawdown)'\n",
    ").properties(width=800, height=300).interactive()\n",
    "confidence_interval = alt.Chart(results_df.reset_index()).mark_area(opacity=0.5).encode(\n",
    "    x='sd',\n",
    "    y=alt.Y('ci0(Max_Drawdown)', axis=alt.Axis(title='Max_Drawdown')),\n",
    "    y2='ci1(Max_Drawdown)',\n",
    ")\n",
    "total_interval = alt.Chart(results_df.reset_index()).mark_area(opacity=0.1).encode(\n",
    "    x='sd',\n",
    "    y=alt.Y('min(Max_Drawdown)', axis=alt.Axis(title='Max_Drawdown')),\n",
    "    y2='max(Max_Drawdown)',\n",
    ")\n",
    "# total_interval + \n",
    "confidence_interval + line"
   ]
  },
  {
   "cell_type": "markdown",
   "metadata": {},
   "source": [
    "#### Bliss"
   ]
  },
  {
   "cell_type": "code",
   "execution_count": null,
   "metadata": {
    "ExecuteTime": {
     "end_time": "2018-07-18T22:44:40.320841Z",
     "start_time": "2018-07-18T22:44:40.034590Z"
    },
    "scrolled": false
   },
   "outputs": [],
   "source": [
    "alt.Chart(results_df.reset_index()).mark_line(point=True, opacity=0.5).encode(\n",
    "    x='sd',\n",
    "    y='Bliss',\n",
    "    color=alt.Color('Ticker', legend=None),\n",
    "    size='n_days',\n",
    "    tooltip=['Ticker', 'max', 'min', '50%', 'mean', 'count', 'n_days']\n",
    ").properties(\n",
    "    width=800,\n",
    "    height=300\n",
    ").interactive()"
   ]
  },
  {
   "cell_type": "code",
   "execution_count": null,
   "metadata": {
    "ExecuteTime": {
     "end_time": "2018-07-18T22:44:35.749176Z",
     "start_time": "2018-07-18T22:44:35.274927Z"
    },
    "scrolled": false
   },
   "outputs": [],
   "source": [
    "line = alt.Chart(results_df.reset_index()).mark_line().encode(\n",
    "    x='sd',\n",
    "    y='mean(Bliss)'\n",
    ").properties(width=800, height=300).interactive()\n",
    "confidence_interval = alt.Chart(results_df.reset_index()).mark_area(opacity=0.5).encode(\n",
    "    x='sd',\n",
    "    y=alt.Y('ci0(Bliss)', axis=alt.Axis(title='Bliss')),\n",
    "    y2='ci1(Bliss)',\n",
    ")\n",
    "total_interval = alt.Chart(results_df.reset_index()).mark_area(opacity=0.1).encode(\n",
    "    x='sd',\n",
    "    y=alt.Y('min(Bliss)', axis=alt.Axis(title='Bliss')),\n",
    "    y2='max(Bliss)',\n",
    ")\n",
    "# total_interval + \n",
    "confidence_interval + line"
   ]
  },
  {
   "cell_type": "markdown",
   "metadata": {
    "heading_collapsed": true
   },
   "source": [
    "#### Error frequency"
   ]
  },
  {
   "cell_type": "code",
   "execution_count": null,
   "metadata": {
    "ExecuteTime": {
     "end_time": "2018-07-18T22:41:58.615813Z",
     "start_time": "2018-07-18T22:41:57.955990Z"
    },
    "hidden": true,
    "scrolled": true
   },
   "outputs": [],
   "source": [
    "line = alt.Chart(results_df.reset_index(), title='Number of negative ratios / number of trends').mark_line().encode(\n",
    "    x='sd',\n",
    "    y='mean(neg_freq)'\n",
    ").properties(width=800, height=300).interactive()\n",
    "confidence_interval = alt.Chart(results_df.reset_index()).mark_area(opacity=0.5).encode(\n",
    "    x='sd',\n",
    "    y=alt.Y('ci0(neg_freq)', axis=alt.Axis(title='neg_freq')),\n",
    "    y2='ci1(neg_freq)',\n",
    ")\n",
    "total_interval = alt.Chart(results_df.reset_index()).mark_area(opacity=0.1).encode(\n",
    "    x='sd',\n",
    "    y=alt.Y('min(neg_freq)', axis=alt.Axis(title='neg_freq')),\n",
    "    y2='max(neg_freq)',\n",
    ")\n",
    "# total_interval + \n",
    "confidence_interval + line"
   ]
  },
  {
   "cell_type": "code",
   "execution_count": null,
   "metadata": {
    "ExecuteTime": {
     "end_time": "2018-07-18T22:41:58.923959Z",
     "start_time": "2018-07-18T22:41:58.616781Z"
    },
    "hidden": true
   },
   "outputs": [],
   "source": [
    "alt.Chart(results_df.assign(Color = results_df.neg_ICAGR > 0).reset_index()).mark_area(opacity=0.25).encode(\n",
    "    x='sd',\n",
    "    y=alt.Y('count()'),\n",
    "    color=alt.Color('Color', title='neg_ICAGR'),\n",
    "#     size='sd',\n",
    "#     tooltip=['Ticker', 'max', 'min', '50%', 'mean', 'count', 'n_days', 'sd', 'ICAGR', 'neg_ICAGR']\n",
    ").properties(\n",
    "    width=800,\n",
    "    height=200\n",
    ").interactive()"
   ]
  },
  {
   "cell_type": "code",
   "execution_count": null,
   "metadata": {
    "ExecuteTime": {
     "end_time": "2018-07-18T22:41:59.260090Z",
     "start_time": "2018-07-18T22:41:58.924966Z"
    },
    "hidden": true
   },
   "outputs": [],
   "source": [
    "alt.Chart(results_df.assign(neg_ICAGR = results_df.neg_ICAGR.astype(str)).reset_index()).mark_area(opacity=0.25).encode(\n",
    "    x='sd',\n",
    "    y=alt.Y('count()'),\n",
    "    color=alt.Color('neg_ICAGR', title='neg_ICAGR',\n",
    "                    scale=alt.Scale(domain=[str(i) for i in np.arange(11)])),\n",
    "#     size='sd',\n",
    "#     tooltip=['Ticker', 'max', 'min', '50%', 'mean', 'count', 'n_days', 'sd', 'ICAGR', 'neg_ICAGR']\n",
    ").properties(\n",
    "    width=800,\n",
    "    height=200\n",
    ").interactive()"
   ]
  },
  {
   "cell_type": "markdown",
   "metadata": {
    "heading_collapsed": true
   },
   "source": [
    "#### Trend frequency and duration"
   ]
  },
  {
   "cell_type": "code",
   "execution_count": null,
   "metadata": {
    "ExecuteTime": {
     "end_time": "2018-07-18T22:41:59.576217Z",
     "start_time": "2018-07-18T22:41:59.262058Z"
    },
    "code_folding": [],
    "hidden": true
   },
   "outputs": [],
   "source": [
    "alt.Chart(results_df).mark_line(point=True, opacity=0.5).encode(\n",
    "    x='sd',\n",
    "    y=alt.Y('trend_freq', scale=alt.Scale(type='log')), #y='trend_freq',\n",
    "    color=alt.Color('Ticker', legend=None),\n",
    "    size='n_days',\n",
    "    tooltip=['Ticker', 'max', 'min', '50%', 'mean', 'count', 'n_days']\n",
    ").properties(\n",
    "    width=800,\n",
    "    height=200\n",
    ").interactive()"
   ]
  },
  {
   "cell_type": "code",
   "execution_count": null,
   "metadata": {
    "ExecuteTime": {
     "end_time": "2018-07-18T22:41:59.898353Z",
     "start_time": "2018-07-18T22:41:59.577214Z"
    },
    "code_folding": [],
    "hidden": true
   },
   "outputs": [],
   "source": [
    "alt.Chart(results_df, title='Trend duration (days)').mark_line(point=True, opacity=0.5).encode(\n",
    "    x='sd',\n",
    "    y=alt.Y('mean', scale=alt.Scale(type='log')), #y='trend_freq',\n",
    "    color=alt.Color('Ticker', legend=None),\n",
    "    size='n_days',\n",
    "    tooltip=['Ticker', 'max', 'min', '50%', 'mean', 'count', 'n_days']\n",
    ").properties(\n",
    "    width=800,\n",
    "    height=200\n",
    ").interactive()"
   ]
  },
  {
   "cell_type": "markdown",
   "metadata": {},
   "source": [
    "#### Lab"
   ]
  },
  {
   "cell_type": "code",
   "execution_count": null,
   "metadata": {
    "ExecuteTime": {
     "end_time": "2018-07-18T23:01:16.019710Z",
     "start_time": "2018-07-18T23:01:15.868114Z"
    }
   },
   "outputs": [],
   "source": [
    "ticker = np.random.choice(results_df.Ticker)  \n",
    "ticker = 'NSCT'\n",
    "price = prices.loc[ticker]\n",
    "print(ticker, len(price), 'days.')"
   ]
  },
  {
   "cell_type": "code",
   "execution_count": null,
   "metadata": {
    "ExecuteTime": {
     "end_time": "2018-07-18T23:01:17.977832Z",
     "start_time": "2018-07-18T23:01:17.827647Z"
    }
   },
   "outputs": [],
   "source": [
    "# price = price.query('Volume > 0')"
   ]
  },
  {
   "cell_type": "code",
   "execution_count": null,
   "metadata": {
    "ExecuteTime": {
     "end_time": "2018-07-18T23:01:18.452345Z",
     "start_time": "2018-07-18T23:01:17.989582Z"
    }
   },
   "outputs": [],
   "source": [
    "trends = find_trends(price, sd=20)\n",
    "plot_trends(trends, ticker)"
   ]
  },
  {
   "cell_type": "markdown",
   "metadata": {},
   "source": [
    "# Data transforms for learning"
   ]
  },
  {
   "cell_type": "code",
   "execution_count": 89,
   "metadata": {
    "ExecuteTime": {
     "end_time": "2018-07-18T23:04:41.956020Z",
     "start_time": "2018-07-18T23:04:41.804408Z"
    }
   },
   "outputs": [
    {
     "name": "stdout",
     "output_type": "stream",
     "text": [
      "TERN 1504 days.\n"
     ]
    }
   ],
   "source": [
    "ticker = np.random.choice(tickers)\n",
    "price = prices.loc[ticker]\n",
    "print(ticker, len(price), 'days.')"
   ]
  },
  {
   "cell_type": "code",
   "execution_count": 115,
   "metadata": {
    "ExecuteTime": {
     "end_time": "2018-07-18T23:16:03.757275Z",
     "start_time": "2018-07-18T23:16:03.456501Z"
    }
   },
   "outputs": [],
   "source": [
    "df = price\n",
    "tr = find_trends(df)\n",
    "tr = tr[['Open', 'High', 'Low', 'Close', 'Volume', 'Set', 'Trend', 'Max_Drawdown', 'ICAGR']]\n",
    "tr = tr.assign(Ch = tr.Close.pct_change().add(1).apply('log'))\n",
    "tr = tr.assign(Ch2 = tr.Ch.pow(2), Ch3 = tr.Ch.pow(3), Ch4 = tr.Ch.pow(4))"
   ]
  },
  {
   "cell_type": "code",
   "execution_count": 117,
   "metadata": {
    "ExecuteTime": {
     "end_time": "2018-07-18T23:16:15.697673Z",
     "start_time": "2018-07-18T23:16:15.539708Z"
    }
   },
   "outputs": [
    {
     "data": {
      "text/html": [
       "<div>\n",
       "<style scoped>\n",
       "    .dataframe tbody tr th:only-of-type {\n",
       "        vertical-align: middle;\n",
       "    }\n",
       "\n",
       "    .dataframe tbody tr th {\n",
       "        vertical-align: top;\n",
       "    }\n",
       "\n",
       "    .dataframe thead th {\n",
       "        text-align: right;\n",
       "    }\n",
       "</style>\n",
       "<table border=\"1\" class=\"dataframe\">\n",
       "  <thead>\n",
       "    <tr style=\"text-align: right;\">\n",
       "      <th></th>\n",
       "      <th>Open</th>\n",
       "      <th>High</th>\n",
       "      <th>Low</th>\n",
       "      <th>Close</th>\n",
       "      <th>Volume</th>\n",
       "      <th>Set</th>\n",
       "      <th>Trend</th>\n",
       "      <th>Max_Drawdown</th>\n",
       "      <th>ICAGR</th>\n",
       "      <th>Ch</th>\n",
       "      <th>Ch2</th>\n",
       "      <th>Ch3</th>\n",
       "      <th>Ch4</th>\n",
       "    </tr>\n",
       "    <tr>\n",
       "      <th>Date</th>\n",
       "      <th></th>\n",
       "      <th></th>\n",
       "      <th></th>\n",
       "      <th></th>\n",
       "      <th></th>\n",
       "      <th></th>\n",
       "      <th></th>\n",
       "      <th></th>\n",
       "      <th></th>\n",
       "      <th></th>\n",
       "      <th></th>\n",
       "      <th></th>\n",
       "      <th></th>\n",
       "    </tr>\n",
       "  </thead>\n",
       "  <tbody>\n",
       "    <tr>\n",
       "      <th>1999-01-04</th>\n",
       "      <td>18.563</td>\n",
       "      <td>19.188</td>\n",
       "      <td>18.313</td>\n",
       "      <td>18.563</td>\n",
       "      <td>286702.0</td>\n",
       "      <td>train</td>\n",
       "      <td>-1.0</td>\n",
       "      <td>0.299283</td>\n",
       "      <td>1.096051</td>\n",
       "      <td>NaN</td>\n",
       "      <td>NaN</td>\n",
       "      <td>NaN</td>\n",
       "      <td>NaN</td>\n",
       "    </tr>\n",
       "    <tr>\n",
       "      <th>1999-01-05</th>\n",
       "      <td>18.625</td>\n",
       "      <td>19.188</td>\n",
       "      <td>18.250</td>\n",
       "      <td>18.438</td>\n",
       "      <td>187786.0</td>\n",
       "      <td>train</td>\n",
       "      <td>-1.0</td>\n",
       "      <td>NaN</td>\n",
       "      <td>NaN</td>\n",
       "      <td>-0.006757</td>\n",
       "      <td>0.000046</td>\n",
       "      <td>-3.084499e-07</td>\n",
       "      <td>2.084072e-09</td>\n",
       "    </tr>\n",
       "    <tr>\n",
       "      <th>...</th>\n",
       "      <td>...</td>\n",
       "      <td>...</td>\n",
       "      <td>...</td>\n",
       "      <td>...</td>\n",
       "      <td>...</td>\n",
       "      <td>...</td>\n",
       "      <td>...</td>\n",
       "      <td>...</td>\n",
       "      <td>...</td>\n",
       "      <td>...</td>\n",
       "      <td>...</td>\n",
       "      <td>...</td>\n",
       "      <td>...</td>\n",
       "    </tr>\n",
       "    <tr>\n",
       "      <th>2004-12-23</th>\n",
       "      <td>2.640</td>\n",
       "      <td>2.670</td>\n",
       "      <td>2.580</td>\n",
       "      <td>2.640</td>\n",
       "      <td>480300.0</td>\n",
       "      <td>train</td>\n",
       "      <td>1.0</td>\n",
       "      <td>NaN</td>\n",
       "      <td>NaN</td>\n",
       "      <td>0.015267</td>\n",
       "      <td>0.000233</td>\n",
       "      <td>3.558782e-06</td>\n",
       "      <td>5.433361e-08</td>\n",
       "    </tr>\n",
       "    <tr>\n",
       "      <th>2004-12-27</th>\n",
       "      <td>2.640</td>\n",
       "      <td>2.690</td>\n",
       "      <td>2.570</td>\n",
       "      <td>2.660</td>\n",
       "      <td>495302.0</td>\n",
       "      <td>train</td>\n",
       "      <td>1.0</td>\n",
       "      <td>NaN</td>\n",
       "      <td>NaN</td>\n",
       "      <td>0.007547</td>\n",
       "      <td>0.000057</td>\n",
       "      <td>4.298912e-07</td>\n",
       "      <td>3.244477e-09</td>\n",
       "    </tr>\n",
       "  </tbody>\n",
       "</table>\n",
       "<p>1504 rows × 13 columns</p>\n",
       "</div>"
      ],
      "text/plain": [
       "              Open    High     Low   Close    Volume    Set  Trend  \\\n",
       "Date                                                                 \n",
       "1999-01-04  18.563  19.188  18.313  18.563  286702.0  train   -1.0   \n",
       "1999-01-05  18.625  19.188  18.250  18.438  187786.0  train   -1.0   \n",
       "...            ...     ...     ...     ...       ...    ...    ...   \n",
       "2004-12-23   2.640   2.670   2.580   2.640  480300.0  train    1.0   \n",
       "2004-12-27   2.640   2.690   2.570   2.660  495302.0  train    1.0   \n",
       "\n",
       "            Max_Drawdown     ICAGR        Ch       Ch2           Ch3  \\\n",
       "Date                                                                   \n",
       "1999-01-04      0.299283  1.096051       NaN       NaN           NaN   \n",
       "1999-01-05           NaN       NaN -0.006757  0.000046 -3.084499e-07   \n",
       "...                  ...       ...       ...       ...           ...   \n",
       "2004-12-23           NaN       NaN  0.015267  0.000233  3.558782e-06   \n",
       "2004-12-27           NaN       NaN  0.007547  0.000057  4.298912e-07   \n",
       "\n",
       "                     Ch4  \n",
       "Date                      \n",
       "1999-01-04           NaN  \n",
       "1999-01-05  2.084072e-09  \n",
       "...                  ...  \n",
       "2004-12-23  5.433361e-08  \n",
       "2004-12-27  3.244477e-09  \n",
       "\n",
       "[1504 rows x 13 columns]"
      ]
     },
     "execution_count": 117,
     "metadata": {},
     "output_type": "execute_result"
    }
   ],
   "source": [
    "tr"
   ]
  },
  {
   "cell_type": "code",
   "execution_count": null,
   "metadata": {},
   "outputs": [],
   "source": [
    "def transform_trends(df, sd=15):\n",
    "    tr = find_trends(df, sd)\n",
    "    tr = tr.loc"
   ]
  },
  {
   "cell_type": "markdown",
   "metadata": {},
   "source": [
    "# TO DO:\n",
    "\n",
    "* Asset selection.\n",
    "  * By small or negative change correlations.\n",
    "  * Highest signal to noise ratios (see Kaufman, 2005, pp. 870).\n",
    "* Exit by volume (~extreme reduction, bankrupt, ...).\n",
    "* Feature engineering.\n",
    "  * c.f. fast.ai's `add_datepart` function."
   ]
  }
 ],
 "metadata": {
  "kernelspec": {
   "display_name": "Python 3",
   "language": "python",
   "name": "python3"
  },
  "language_info": {
   "codemirror_mode": {
    "name": "ipython",
    "version": 3
   },
   "file_extension": ".py",
   "mimetype": "text/x-python",
   "name": "python",
   "nbconvert_exporter": "python",
   "pygments_lexer": "ipython3",
   "version": "3.6.6"
  },
  "toc": {
   "base_numbering": 1,
   "nav_menu": {},
   "number_sections": true,
   "sideBar": true,
   "skip_h1_title": false,
   "title_cell": "Table of Contents",
   "title_sidebar": "Contents",
   "toc_cell": false,
   "toc_position": {},
   "toc_section_display": true,
   "toc_window_display": false
  }
 },
 "nbformat": 4,
 "nbformat_minor": 2
}
