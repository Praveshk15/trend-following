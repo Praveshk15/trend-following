{
 "cells": [
  {
   "cell_type": "markdown",
   "metadata": {},
   "source": [
    "# Temp\n",
    "\n",
    "Temporary file for testing new functions."
   ]
  },
  {
   "cell_type": "code",
   "execution_count": null,
   "metadata": {
    "ExecuteTime": {
     "end_time": "2018-06-28T22:46:34.557160Z",
     "start_time": "2018-06-28T22:46:34.312183Z"
    }
   },
   "outputs": [],
   "source": [
    "# Put these at the top of every notebook, to get automatic reloading and inline plotting\n",
    "%reload_ext autoreload\n",
    "%autoreload 2\n",
    "%matplotlib inline"
   ]
  },
  {
   "cell_type": "code",
   "execution_count": null,
   "metadata": {
    "ExecuteTime": {
     "end_time": "2018-06-28T22:46:34.906266Z",
     "start_time": "2018-06-28T22:46:34.559155Z"
    }
   },
   "outputs": [],
   "source": [
    "import os\n",
    "import re\n",
    "import pickle\n",
    "from datetime import datetime\n",
    "import numpy as np\n",
    "import pandas as pd\n",
    "from pandas import Series, DataFrame\n",
    "pd.set_option('display.max_rows', 10)\n",
    "import matplotlib as mpl\n",
    "from matplotlib import pyplot as plt\n",
    "import matplotlib.transforms as mtransforms\n",
    "plt.rcParams['figure.figsize'] = [12, 4]\n",
    "\n",
    "import quandl\n",
    "\n",
    "from utils import *"
   ]
  },
  {
   "cell_type": "code",
   "execution_count": null,
   "metadata": {
    "ExecuteTime": {
     "end_time": "2018-06-28T22:46:36.965376Z",
     "start_time": "2018-06-28T22:46:35.631725Z"
    }
   },
   "outputs": [],
   "source": [
    "from trading_strategies import *\n",
    "test_RS_Trading_Strategy()"
   ]
  },
  {
   "cell_type": "code",
   "execution_count": null,
   "metadata": {
    "ExecuteTime": {
     "end_time": "2018-06-28T16:46:47.431779Z",
     "start_time": "2018-06-28T16:46:45.977089Z"
    }
   },
   "outputs": [],
   "source": [
    "from temp import *\n",
    "price = pd.read_csv(filepath_or_buffer='test/Seykota GC----C.csv', header=None,\n",
    "           names=['Date', 'Open', 'High', 'Low', 'Close', 'Volume', 'Open_Interest'], \n",
    "           index_col=0)\n",
    "\n",
    "price.index = [datetime.strptime(str(i), '%Y%m%d') for i in price.index.values]\n",
    "\n",
    "rs_tr = RS_Trading_Strategy(price, equity=1e6, position_step=1e2,\n",
    "                            days_fast=20, days_slow=140,\n",
    "                            name='Comex Gold')\n",
    "rs_tr.excecute(warmup=20)\n",
    "\n",
    "# test states\n",
    "stts = rs_tr.get_state()\n",
    "metrics = pd.merge(price[['Open', 'High', 'Low', 'Close']], stts, left_index=True, right_index=True)\n",
    "metrics_log = pd.read_excel(io='test/Metrics_Log_1-1.xlsx', index_col=0)\n",
    "assert np.all(np.equal(metrics_log.values, metrics.values))\n",
    "\n",
    "# test trades\n",
    "trds = rs_tr.get_trades()\n",
    "trade_log = pd.read_excel(io='test/Trade_Log.xlsx').set_index('Date').sort_index()[['Price', 'Amount']]\n",
    "assert max(abs(trds.Price.values - trade_log.Price.values)) < 1e-3\n",
    "assert trds.Amount.equals(trade_log.Amount.astype('float64'))\n",
    "\n",
    "# test equity\n",
    "eqty = rs_tr.get_equity()\n",
    "equity_log = pd.read_excel(io='test/Equity_Log.xlsx', index_col=0)\n",
    "assert max(abs(eqty.Equity.values - equity_log.Equity.values)) < 1e-3\n",
    "assert np.max(np.abs(equity_log.Clo_Bal - rs_tr.get_equity().Closing_Balance)) < 1e-3\n",
    "assert np.max(np.abs(equity_log.Open_Profit - rs_tr.get_equity().Open_Profit)) < 1e-3\n",
    "\n",
    "# test performance indicators\n",
    "assert np.round(rs_tr.performance['ICAGR'], 4) == 0.0309\n",
    "assert np.round(rs_tr.performance['Max_Drawdown'], 4) == 0.4077\n",
    "assert np.round(rs_tr.performance['Bliss'], 4) == 0.0758"
   ]
  },
  {
   "cell_type": "code",
   "execution_count": null,
   "metadata": {
    "ExecuteTime": {
     "end_time": "2018-06-28T16:46:57.787283Z",
     "start_time": "2018-06-28T16:46:56.357532Z"
    }
   },
   "outputs": [],
   "source": [
    "from trading_strategies import *\n",
    "test_RS_Trading_Strategy()\n",
    "from temp import *"
   ]
  },
  {
   "cell_type": "code",
   "execution_count": null,
   "metadata": {
    "ExecuteTime": {
     "end_time": "2018-06-28T16:46:57.853304Z",
     "start_time": "2018-06-28T16:46:57.787283Z"
    }
   },
   "outputs": [],
   "source": [
    "es1 = ES1_Trading_Strategy(price, equity=1e6, position_step=1e2,\n",
    "                           a=1e-2,\n",
    "                           name='Comex Gold')"
   ]
  },
  {
   "cell_type": "code",
   "execution_count": null,
   "metadata": {
    "ExecuteTime": {
     "end_time": "2018-06-28T16:46:58.727390Z",
     "start_time": "2018-06-28T16:46:58.357526Z"
    },
    "scrolled": true
   },
   "outputs": [],
   "source": [
    "es1.excecute()"
   ]
  },
  {
   "cell_type": "code",
   "execution_count": null,
   "metadata": {
    "ExecuteTime": {
     "end_time": "2018-06-28T16:46:59.453361Z",
     "start_time": "2018-06-28T16:46:59.390529Z"
    }
   },
   "outputs": [],
   "source": [
    "es1.performance"
   ]
  },
  {
   "cell_type": "code",
   "execution_count": null,
   "metadata": {
    "ExecuteTime": {
     "end_time": "2018-06-28T16:47:00.596658Z",
     "start_time": "2018-06-28T16:47:00.262025Z"
    }
   },
   "outputs": [],
   "source": [
    "es1.plot_state()"
   ]
  },
  {
   "cell_type": "code",
   "execution_count": null,
   "metadata": {
    "ExecuteTime": {
     "end_time": "2018-06-28T16:47:01.830945Z",
     "start_time": "2018-06-28T16:47:01.485734Z"
    }
   },
   "outputs": [],
   "source": [
    "es1.plot_equity()"
   ]
  },
  {
   "cell_type": "code",
   "execution_count": null,
   "metadata": {
    "ExecuteTime": {
     "end_time": "2018-06-28T03:54:14.089636Z",
     "start_time": "2018-06-28T03:54:14.049423Z"
    }
   },
   "outputs": [],
   "source": [
    "np.isnan(np.nan) * 1"
   ]
  },
  {
   "cell_type": "markdown",
   "metadata": {},
   "source": [
    "# Pytorch "
   ]
  },
  {
   "cell_type": "code",
   "execution_count": null,
   "metadata": {
    "ExecuteTime": {
     "end_time": "2018-06-28T22:46:46.576641Z",
     "start_time": "2018-06-28T22:46:46.427825Z"
    }
   },
   "outputs": [],
   "source": [
    "import torch"
   ]
  },
  {
   "cell_type": "code",
   "execution_count": null,
   "metadata": {
    "ExecuteTime": {
     "end_time": "2018-06-28T22:46:48.375738Z",
     "start_time": "2018-06-28T22:46:48.307945Z"
    }
   },
   "outputs": [],
   "source": [
    "# Simple example: y = (x1 - 2)^2 + (x2 - 5)^2\n",
    "x = np.random.randn(2, 1)\n",
    "x"
   ]
  },
  {
   "cell_type": "code",
   "execution_count": null,
   "metadata": {
    "ExecuteTime": {
     "end_time": "2018-06-28T22:46:48.793071Z",
     "start_time": "2018-06-28T22:46:48.723214Z"
    }
   },
   "outputs": [],
   "source": [
    "x = torch.from_numpy(x)\n",
    "x"
   ]
  },
  {
   "cell_type": "code",
   "execution_count": null,
   "metadata": {
    "ExecuteTime": {
     "end_time": "2018-06-28T22:46:49.230646Z",
     "start_time": "2018-06-28T22:46:49.164736Z"
    }
   },
   "outputs": [],
   "source": [
    "x.requires_grad = True"
   ]
  },
  {
   "cell_type": "code",
   "execution_count": null,
   "metadata": {
    "ExecuteTime": {
     "end_time": "2018-06-28T22:46:49.646263Z",
     "start_time": "2018-06-28T22:46:49.579407Z"
    }
   },
   "outputs": [],
   "source": [
    "y = (x[0] - 2)**2 + (x[1] - 5)**2"
   ]
  },
  {
   "cell_type": "code",
   "execution_count": null,
   "metadata": {
    "ExecuteTime": {
     "end_time": "2018-06-28T22:46:50.018673Z",
     "start_time": "2018-06-28T22:46:49.947862Z"
    }
   },
   "outputs": [],
   "source": [
    "y"
   ]
  },
  {
   "cell_type": "code",
   "execution_count": null,
   "metadata": {
    "ExecuteTime": {
     "end_time": "2018-06-28T22:46:50.476823Z",
     "start_time": "2018-06-28T22:46:50.411806Z"
    }
   },
   "outputs": [],
   "source": [
    "y.backward()"
   ]
  },
  {
   "cell_type": "code",
   "execution_count": null,
   "metadata": {
    "ExecuteTime": {
     "end_time": "2018-06-28T22:46:50.910258Z",
     "start_time": "2018-06-28T22:46:50.843437Z"
    }
   },
   "outputs": [],
   "source": [
    "x.grad"
   ]
  },
  {
   "cell_type": "code",
   "execution_count": null,
   "metadata": {
    "ExecuteTime": {
     "end_time": "2018-06-28T22:46:51.399608Z",
     "start_time": "2018-06-28T22:46:51.331782Z"
    }
   },
   "outputs": [],
   "source": [
    "print(2*(-0.77451728 - 2))\n",
    "print(2 * (-0.64667186 - 3))"
   ]
  },
  {
   "cell_type": "code",
   "execution_count": null,
   "metadata": {
    "ExecuteTime": {
     "end_time": "2018-06-28T22:46:51.989478Z",
     "start_time": "2018-06-28T22:46:51.923669Z"
    }
   },
   "outputs": [],
   "source": [
    "lr = 0.1\n",
    "x.data.sub_(lr * x.grad)  # With '_', modifies in place."
   ]
  },
  {
   "cell_type": "code",
   "execution_count": null,
   "metadata": {
    "ExecuteTime": {
     "end_time": "2018-06-28T22:46:52.508750Z",
     "start_time": "2018-06-28T22:46:52.443375Z"
    }
   },
   "outputs": [],
   "source": [
    "x"
   ]
  },
  {
   "cell_type": "code",
   "execution_count": null,
   "metadata": {
    "ExecuteTime": {
     "end_time": "2018-06-28T22:46:52.982575Z",
     "start_time": "2018-06-28T22:46:52.915755Z"
    }
   },
   "outputs": [],
   "source": [
    "x.grad.zero_()"
   ]
  },
  {
   "cell_type": "code",
   "execution_count": null,
   "metadata": {
    "ExecuteTime": {
     "end_time": "2018-06-28T22:46:53.533580Z",
     "start_time": "2018-06-28T22:46:53.467776Z"
    }
   },
   "outputs": [],
   "source": [
    "x.grad"
   ]
  },
  {
   "cell_type": "markdown",
   "metadata": {},
   "source": [
    "## Gradient Descent "
   ]
  },
  {
   "cell_type": "code",
   "execution_count": null,
   "metadata": {
    "ExecuteTime": {
     "end_time": "2018-06-28T22:46:56.243696Z",
     "start_time": "2018-06-28T22:46:56.171887Z"
    }
   },
   "outputs": [],
   "source": [
    "# Gradient descent\n",
    "lr = 0.1\n",
    "steps = 30\n",
    "\n",
    "def loss(x1, x2):\n",
    "    return (x1 - 2)**2 + (x2 - 5)**2\n",
    "\n",
    "x = torch.tensor(np.array([5., -4.]), requires_grad=True)\n",
    "results = {'x1': [x.detach().numpy()[0]], 'x2': [x.detach().numpy()[1]],\n",
    "           'loss': [loss(x.detach().numpy()[0], x.detach().numpy()[1])]}\n",
    "\n",
    "for i in range(steps):\n",
    "    y = loss(x[0], x[1])\n",
    "    y.backward()\n",
    "    x.data.sub_(lr * x.grad)  # With '_', modifies in place.\n",
    "    x.grad.zero_()\n",
    "    results['x1'].append(x.detach().numpy()[0])\n",
    "    results['x2'].append(x.detach().numpy()[1])\n",
    "    results['loss'].append(y.detach().numpy())\n"
   ]
  },
  {
   "cell_type": "code",
   "execution_count": null,
   "metadata": {
    "ExecuteTime": {
     "end_time": "2018-06-28T22:46:56.750789Z",
     "start_time": "2018-06-28T22:46:56.611433Z"
    }
   },
   "outputs": [],
   "source": [
    "res_df = DataFrame.from_dict(results)\n",
    "plt.plot(res_df.loss)\n",
    "plt.axhline(y=0, c='grey', alpha=0.5)\n",
    "plt.show()"
   ]
  },
  {
   "cell_type": "code",
   "execution_count": null,
   "metadata": {
    "ExecuteTime": {
     "end_time": "2018-06-28T22:46:57.630248Z",
     "start_time": "2018-06-28T22:46:57.475827Z"
    }
   },
   "outputs": [],
   "source": [
    "res_df.plot()\n",
    "plt.axhline(y=2, c='grey', ls='dashed', alpha=0.5)\n",
    "plt.axhline(y=5, c='grey', ls='dashed', alpha=0.5)\n",
    "plt.axhline(y=0, c='grey', alpha=0.5)\n",
    "plt.show()"
   ]
  },
  {
   "cell_type": "code",
   "execution_count": null,
   "metadata": {
    "ExecuteTime": {
     "end_time": "2018-06-28T22:46:58.251795Z",
     "start_time": "2018-06-28T22:46:58.180042Z"
    }
   },
   "outputs": [],
   "source": [
    "res_df"
   ]
  },
  {
   "cell_type": "markdown",
   "metadata": {},
   "source": [
    "## Gradient Descent with Constraints\n",
    "\n",
    "$$ y = (x_1 - 2)^2 + (x_2 - 5)^2, \\quad x_1 >= 3 $$"
   ]
  },
  {
   "cell_type": "code",
   "execution_count": null,
   "metadata": {
    "ExecuteTime": {
     "end_time": "2018-06-28T22:46:59.507636Z",
     "start_time": "2018-06-28T22:46:59.332028Z"
    },
    "scrolled": true
   },
   "outputs": [],
   "source": [
    "# Gradient descent\n",
    "lr = 0.01\n",
    "steps = 1000\n",
    "\n",
    "def loss(x1, x2):\n",
    "    return (torch.clamp(x1, 3, 4) - 2)**2 + (x2 - 5)**2\n",
    "\n",
    "x = torch.tensor(np.array([3.5, -25.]), requires_grad=True)\n",
    "results = {'x1': [x.detach().numpy()[0]], 'x2': [x.detach().numpy()[1]],\n",
    "           'loss': [loss(x[0], x[1]).detach().numpy()]}\n",
    "\n",
    "for i in range(steps):\n",
    "    y = loss(x[0], x[1])\n",
    "    y.backward()\n",
    "    x.data.sub_(lr * x.grad)  # With '_', modifies in place.\n",
    "    x.grad.zero_()\n",
    "    results['x1'].append(x.detach().numpy()[0])\n",
    "    results['x2'].append(x.detach().numpy()[1])\n",
    "    results['loss'].append(y.detach().numpy())\n"
   ]
  },
  {
   "cell_type": "code",
   "execution_count": null,
   "metadata": {
    "ExecuteTime": {
     "end_time": "2018-06-28T22:47:00.172580Z",
     "start_time": "2018-06-28T22:47:00.099743Z"
    },
    "scrolled": true
   },
   "outputs": [],
   "source": [
    "res_df = DataFrame.from_dict(results)\n",
    "res_df"
   ]
  },
  {
   "cell_type": "code",
   "execution_count": null,
   "metadata": {
    "ExecuteTime": {
     "end_time": "2018-06-28T22:47:00.662618Z",
     "start_time": "2018-06-28T22:47:00.531317Z"
    }
   },
   "outputs": [],
   "source": [
    "res_df = DataFrame.from_dict(results)\n",
    "plt.plot(res_df.loss)\n",
    "plt.axhline(y=0, c='grey', alpha=0.5)\n",
    "plt.show()"
   ]
  },
  {
   "cell_type": "code",
   "execution_count": null,
   "metadata": {
    "ExecuteTime": {
     "end_time": "2018-06-28T22:47:01.455709Z",
     "start_time": "2018-06-28T22:47:01.307590Z"
    }
   },
   "outputs": [],
   "source": [
    "res_df.plot()\n",
    "plt.axhline(y=2, c='grey', ls='dashed', alpha=0.5)\n",
    "plt.axhline(y=5, c='grey', ls='dashed', alpha=0.5)\n",
    "plt.axhline(y=0, c='grey', alpha=0.5)\n",
    "plt.show()"
   ]
  },
  {
   "cell_type": "markdown",
   "metadata": {},
   "source": [
    "## Exponential Smoothing Optimization"
   ]
  },
  {
   "cell_type": "code",
   "execution_count": null,
   "metadata": {
    "ExecuteTime": {
     "end_time": "2018-06-28T22:47:06.032982Z",
     "start_time": "2018-06-28T22:47:05.859513Z"
    }
   },
   "outputs": [],
   "source": [
    "price = pd.read_csv(filepath_or_buffer='test/Seykota GC----C.csv', header=None,\n",
    "           names=['Date', 'Open', 'High', 'Low', 'Close', 'Volume', 'Open_Interest'], \n",
    "           index_col=0)\n",
    "\n",
    "price.index = [datetime.strptime(str(i), '%Y%m%d') for i in price.index.values]"
   ]
  },
  {
   "cell_type": "code",
   "execution_count": null,
   "metadata": {
    "ExecuteTime": {
     "end_time": "2018-06-28T22:47:06.629518Z",
     "start_time": "2018-06-28T22:47:06.535977Z"
    },
    "code_folding": [
     0
    ]
   },
   "outputs": [],
   "source": [
    "class Trading_Strategy:\n",
    "    \"\"\"\n",
    "    Class that performs a trading strategy on a single asset.\n",
    "    \"\"\"\n",
    "    \n",
    "    def __init__(self, prices, equity=100, heat=0.05, position_step=100, name='', **kwargs):\n",
    "        \"\"\"\n",
    "        Defines the initial state and hyper parameters of the trading strategy.\n",
    "        \n",
    "        Parameters\n",
    "        ----------\n",
    "        prices: DataFrame with columns Date, Open, High, Low, Close\n",
    "        equity: Initial equity to invest in the asset.\n",
    "        heat: Proportion of the equity that one is willing to risk.\n",
    "        position_step: Minimum steps in position' sizes\n",
    "        name: Name of the asset for plotting purposes.\n",
    "        \"\"\"\n",
    "        self.dates = prices.index\n",
    "        self.first_trading_day = None\n",
    "        self.last_trading_day = None\n",
    "        self.prices_df = prices\n",
    "        self.prices = {s: prices[s].values for s in list(prices.keys())}\n",
    "        self.heat = heat\n",
    "        self.position_step = position_step\n",
    "        self.name = name\n",
    "        self.today_prices = None\n",
    "        \n",
    "        self.equity = {'Available_Balance': torch.ones(len(self.dates), dtype=torch.float64) * equity,\n",
    "                       'Closing_Balance': torch.ones(len(self.dates), dtype=torch.float64) * equity,\n",
    "                       'Position': torch.zeros(len(self.dates), dtype=torch.float64),\n",
    "                       'Open_Profit': torch.zeros(len(self.dates), dtype=torch.float64),\n",
    "                       'Position_Value': torch.zeros(len(self.dates), dtype=torch.float64),\n",
    "                       'Equity': torch.ones(len(self.dates), dtype=torch.float64) * equity}\n",
    "        \n",
    "        self.orders = {'buy_stop': torch.zeros(len(self.dates), dtype=torch.float64) * np.nan,\n",
    "                       'sell_stop': torch.zeros(len(self.dates), dtype=torch.float64) * np.nan,\n",
    "                       'protective_buy': torch.zeros(len(self.dates), dtype=torch.float64) * np.nan,\n",
    "                       'protective_sell': torch.zeros(len(self.dates), dtype=torch.float64) * np.nan,\n",
    "                       'risk_per_lot': torch.zeros(len(self.dates), dtype=torch.float64) * np.nan,\n",
    "                       'amount': torch.zeros(len(self.dates), dtype=torch.float64) * np.nan}\n",
    "        \n",
    "        self.trades = []\n",
    "        self.max_drawdown = 0\n",
    "        self.performance = {}\n",
    "        \n",
    "        self.init_state(**kwargs)\n",
    "    \n",
    "    \n",
    "    def init_state(self):\n",
    "        pass\n",
    "    \n",
    "    \n",
    "    def update_state(self, today_i):\n",
    "        \"\"\"\n",
    "        Updates the state as of market close from today_i - 1, for determining orders before market openas today_i.\n",
    "        \"\"\"\n",
    "        pass\n",
    "    \n",
    "    \n",
    "    def orders_before_trading_starts(self, today_i):\n",
    "        \"\"\"\n",
    "        Computes the orders for the day (today).\n",
    "        \n",
    "        Parameters\n",
    "        ----------\n",
    "        prices : a prices data frame with a Date index and columns: Open, High, Low, Close, Volume.\n",
    "            Prices until today only for accessing current date.\n",
    "        prev_day_position : position in the asset at the end of yesterday.\n",
    "        \"\"\"\n",
    "        self.entry_order_prices(today_i)\n",
    "        self.protective_order_prices(today_i)\n",
    "        self.order_amounts(today_i)\n",
    "    \n",
    "    \n",
    "    def entry_order_prices(self, today_i):\n",
    "        \"\"\"\n",
    "        Computes the entry orders for the day (today) according to a Support and Resistance system.\n",
    "        \"\"\"\n",
    "        pass\n",
    "    \n",
    "    \n",
    "    def protective_order_prices(self, today_i):\n",
    "        \"\"\"\n",
    "        Computes the protective orders for the day (today) according to a Support and Resistance system.\n",
    "        \"\"\"\n",
    "        pass\n",
    "    \n",
    "    \n",
    "    def order_amounts(self, today_i):\n",
    "        \"\"\"\n",
    "        Sets the order amounts for the day\n",
    "        \"\"\"\n",
    "        equity_to_risk = self.equity['Available_Balance'][today_i - 1] * self.heat\n",
    "\n",
    "        if self.orders['buy_stop'][today_i] > 0 and self.orders['protective_sell'][today_i] > 0:\n",
    "            self.orders['risk_per_lot'][today_i] = self.orders['buy_stop'][today_i] - \\\n",
    "                self.orders['protective_sell'][today_i] + 1e-12\n",
    "            self.orders['amount'][today_i] = self.position_step * \\\n",
    "                    torch.round((1e-8 + equity_to_risk / self.orders['risk_per_lot'][today_i]) / self.position_step)\n",
    "        \n",
    "        elif self.orders['sell_stop'][today_i] > 0 and self.orders['protective_buy'][today_i] > 0:\n",
    "            self.orders['risk_per_lot'][today_i] = self.orders['protective_buy'][today_i] - \\\n",
    "                self.orders['sell_stop'][today_i] + 1e-12\n",
    "            self.orders['amount'][today_i] = - self.position_step * \\\n",
    "                torch.round((1e-8 + equity_to_risk / self.orders['risk_per_lot'][today_i]) / self.position_step)\n",
    "        else:\n",
    "            pass\n",
    "    \n",
    "    \n",
    "    def excecute_orders(self, today_i, skid=0.5):\n",
    "        \"\"\"\n",
    "        Excecutes orders during the day.\n",
    "        \"\"\"\n",
    "        \n",
    "        position = self.equity['Position'][today_i - 1]  # previous day's position\n",
    "        balance = self.equity['Available_Balance'][today_i - 1]  # previous day's balance\n",
    "        o = {k: self.orders[k][today_i] for k in self.orders.keys()}  # orders for the day\n",
    "        tp = self.today_prices\n",
    "\n",
    "        if position == 0:  # Enter the market.\n",
    "\n",
    "            if not np.isnan(o['buy_stop'].detach()) and not np.isnan(o['protective_sell'].detach()) and \\\n",
    "                o['buy_stop'] > o['protective_sell'] and tp['High'] > o['buy_stop']:\n",
    "                \n",
    "                buy_price = tp['High'] - skid * (tp['High'] - max(tp['Open'], tp['Low'], o['buy_stop']))\n",
    "                trade = {'Date': self.dates[today_i],\n",
    "                         'Price': buy_price,\n",
    "                         'Amount': min(o['amount'], balance)}\n",
    "                position += o['amount']\n",
    "                balance -= o['amount'] * buy_price\n",
    "                self.trades.append(trade)\n",
    "\n",
    "\n",
    "            elif not np.isnan(o['sell_stop'].detach()) and not np.isnan(o['protective_buy'].detach()) and \\\n",
    "                o['sell_stop'] < o['protective_buy'] and tp['Low'] < o['sell_stop']:\n",
    "                \n",
    "                sell_price = tp['Low'] + skid * (min(tp['Open'], tp['High'], o['sell_stop']) - tp['Low'])\n",
    "                trade = {'Date': self.dates[today_i],\n",
    "                         'Price': sell_price,\n",
    "                         'Amount': max(o['amount'], -balance)}  # o['amount'] < 0\n",
    "                position += o['amount']\n",
    "                balance -= o['amount'] * sell_price\n",
    "                self.trades.append(trade)\n",
    "\n",
    "        if position != 0:  # Close positions.\n",
    "\n",
    "            if not np.isnan(o['protective_buy'].detach()) and tp['High'] > o['protective_buy']:\n",
    "                \n",
    "                buy_price = tp['High'] - skid * (tp['High'] - max(tp['Open'], tp['Low'], o['protective_buy']))\n",
    "                amount = max(-position, 0)\n",
    "                trade = {'Date': self.dates[today_i],\n",
    "                         'Price': buy_price,\n",
    "                         'Amount': amount}\n",
    "                position += amount\n",
    "                balance -= amount * buy_price\n",
    "                self.trades.append(trade)\n",
    "\n",
    "            if not np.isnan(o['protective_sell'].detach()) and tp['Low'] < o['protective_sell']:\n",
    "                \n",
    "                sell_price = tp['Low'] + skid * (min(tp['Open'], tp['High'], o['protective_sell']) - tp['Low'])\n",
    "                amount = min(-position, 0)\n",
    "                trade = {'Date': self.dates[today_i],\n",
    "                         'Price': sell_price,\n",
    "                         'Amount': amount}\n",
    "                position += amount\n",
    "                balance -= amount * sell_price\n",
    "                self.trades.append(trade)\n",
    "\n",
    "        if self.dates[today_i] == self.dates[-1] and position != 0:  # Last day\n",
    "            \n",
    "            if position > 0:\n",
    "                \n",
    "                sell_price = tp['Low'] + skid * (min(tp['Open'], tp['Close'], tp['High']) - tp['Low'])\n",
    "                amount = min(-position, 0)\n",
    "                trade = {'Date': self.dates[today_i],\n",
    "                         'Price': sell_price,\n",
    "                         'Amount': amount}\n",
    "                position += amount\n",
    "                balance -= amount * sell_price\n",
    "                self.trades.append(trade)\n",
    "                \n",
    "            else:  # position < 0\n",
    "                \n",
    "                buy_price = tp['High'] - skid * (tp['High'] - max(tp['Open'], tp['Close'], tp['Low']))\n",
    "                amount = max(-position, 0)\n",
    "                trade = {'Date': self.dates[today_i],\n",
    "                         'Price': buy_price,\n",
    "                         'Amount': amount}\n",
    "                position += amount\n",
    "                balance -= amount * buy_price\n",
    "                self.trades.append(trade)\n",
    "\n",
    "        if position != 0:\n",
    "            open_profit = position * (tp['Close'] - self.trades[-1]['Price'])\n",
    "        else:\n",
    "            open_profit = 0\n",
    "\n",
    "        if self.equity['Position'][today_i - 1] != 0 and position == 0:\n",
    "            closing_balance = balance\n",
    "        else:\n",
    "            closing_balance = self.equity['Closing_Balance'][today_i - 1]\n",
    "\n",
    "\n",
    "        \n",
    "        self.equity['Available_Balance'][today_i] = balance\n",
    "        self.equity['Closing_Balance'][today_i] = closing_balance\n",
    "        self.equity['Position'][today_i] = position\n",
    "        self.equity['Open_Profit'][today_i] = open_profit\n",
    "        self.equity['Position_Value'][today_i] = position * tp['Close']\n",
    "        self.equity['Equity'][today_i] = balance + position * tp['Close']\n",
    "    \n",
    "    \n",
    "    \n",
    "    \n",
    "    def excecute(self, warmup=25, end=None, skid=0.5):\n",
    "        \"\"\"\n",
    "        Excecutes the trading strategy and computes its performance measures.\n",
    "        \n",
    "        Parameters\n",
    "        ----------\n",
    "        warmup: warmup period in days or a proportion from 0 to 1.\n",
    "        end: either a datetime or a proportion from 0 to 1 (all sample).\n",
    "        \"\"\"\n",
    "        peak = self.equity['Equity'][0]\n",
    "        low = peak\n",
    "        drawdown = 0\n",
    "        max_drawdown = 0\n",
    "        \n",
    "        if end is None:\n",
    "            end = self.dates[-1]\n",
    "        elif type(end) == float:\n",
    "            end = self.dates[int(len(self.dates) * end)]\n",
    "        \n",
    "        \n",
    "        if warmup < 1:\n",
    "            warmup = int(len(self.dates) * warmup)\n",
    "            \n",
    "        self.first_trading_day = self.dates[warmup]\n",
    "        self.last_trading_day = end\n",
    "        \n",
    "        for i in range(1, len(self.dates)):\n",
    "            self.today_prices = {k: self.prices[k][i] for k in self.prices.keys()}\n",
    "            self.update_state(i)\n",
    "            if i >= warmup:\n",
    "                self.orders_before_trading_starts(i)\n",
    "                self.excecute_orders(i, skid)\n",
    "                \n",
    "                # Max drawdown\n",
    "                if self.equity['Equity'][i] > peak:\n",
    "                    peak = self.equity['Equity'][i]\n",
    "                    low = peak\n",
    "                if self.equity['Equity'][i] < low:\n",
    "                    low = self.equity['Equity'][i]\n",
    "                    drawdown = low / peak - 1\n",
    "                max_drawdown = min(drawdown, max_drawdown)\n",
    "                \n",
    "            if self.dates[i] > end:\n",
    "                self.equity['Available_Balance'][i] = self.equity['Available_Balance'][i - 1]\n",
    "                self.equity['Closing_Balance'][i] = self.equity['Closing_Balance'][i - 1]\n",
    "                self.equity['Position'][i] = self.equity['Position'][i - 1]\n",
    "                self.equity['Open_Profit'][i] =  self.equity['Position'][i] * \\\n",
    "                    (self.prices['Close'][i] - self.trades[-1]['Price'])\n",
    "                self.equity['Position_Value'][i] = self.equity['Position'][i] * self.prices['Close'][i]\n",
    "                self.equity['Equity'][i] = self.equity['Equity'][i - 1]\n",
    "        \n",
    "        self.max_drawdown = max_drawdown\n",
    "        self.compute_performance()\n",
    "    \n",
    "    \n",
    "    def compute_performance(self):\n",
    "        \"\"\"\n",
    "        Computes performance indicators for the trading strategy.\n",
    "        \"\"\"\n",
    "        \n",
    "        self.performance['Years'] = (self.last_trading_day - self.first_trading_day).days / 364.25\n",
    "        self.performance['Ratio'] = self.equity['Equity'][-1] / self.equity['Equity'][0]\n",
    "        # Instantaneously Compounding Annual Gain\n",
    "        self.performance['ICAGR'] = torch.log(self.performance['Ratio']) / self.performance['Years']\n",
    "        self.performance['Max_Drawdown'] = -self.max_drawdown\n",
    "        # How Often the System Earns Back its Biggest Drawdown\n",
    "        self.performance['Bliss'] = self.performance['ICAGR'] / self.performance['Max_Drawdown']\n",
    "        \n",
    "        eqty = self.equity['Equity'][np.where(self.dates > self.first_trading_day)]\n",
    "        self.performance['Volatility'] = torch.std(torch.log(eqty[1:] / eqty[:-1])) * np.sqrt(364.25)\n",
    "        \n",
    "        # Lake Ratio (see http://www.seykota.com/tribe/risk/index.htm)\n",
    "        lake_bottom = Series(eqty.detach()) / self.equity['Equity'][1].detach()\n",
    "        lake_surface = lake_bottom.cummax()\n",
    "\n",
    "        earth = np.trapz(lake_bottom.values)\n",
    "        water = np.trapz(lake_surface - lake_bottom)\n",
    "        self.performance['Lake_Ratio'] = water / earth\n",
    "        \n",
    "        earth0 = np.trapz(lake_bottom.values - 1)\n",
    "        self.performance['Sea_Ratio'] = water / earth0\n",
    "    \n",
    "    \n",
    "    \n",
    "    def get_prices(self):\n",
    "        return self.prices_df\n",
    "    \n",
    "    \n",
    "    def get_state(self):\n",
    "        if not any([i == 'state_df' for i in dir(self)]):\n",
    "            self.state_df = DataFrame(self.state, index=self.dates).iloc[:-1]\n",
    "        return self.state_df\n",
    "    \n",
    "    \n",
    "    def get_orders(self):\n",
    "        if not any([i == 'orders_df' for i in dir(self)]):\n",
    "            self.orders_df = DataFrame(self.orders, index=self.dates)\n",
    "        return self.orders_df\n",
    "    \n",
    "    \n",
    "    def get_trades(self):\n",
    "        if not any([i == 'trades_df' for i in dir(self)]):\n",
    "            self.trades_df = dict_list_to_DataFrame(self.trades).set_index('Date')\n",
    "        return self.trades_df\n",
    "    \n",
    "    \n",
    "    def get_equity(self):\n",
    "        if not any([i == 'equity_df' for i in dir(self)]):\n",
    "            self.equity_df =DataFrame(self.equity, index=self.dates)\n",
    "        return self.equity_df\n",
    "    \n",
    "    \n",
    "    \n",
    "    def plot_prices(self):\n",
    "        fig, ax = pyplot.subplots()\n",
    "        ax.plot(self.prices_df.Open)\n",
    "        ax.plot(self.prices_df.High)\n",
    "        ax.plot(self.prices_df.Low)\n",
    "        ax.plot(self.prices_df.Close)\n",
    "        ax.axhline(0, color='grey', lw=2, alpha=0.75)\n",
    "        ax.set_title(self.name)\n",
    "        ax.legend()\n",
    "    \n",
    "    \n",
    "    def plot_state(self):\n",
    "        x = pandas.merge(self.prices_df[['Open', 'High', 'Low', 'Close']],\n",
    "                         self.get_state(), left_index=True, right_index=True, how='outer')\n",
    "        x.plot()\n",
    "    \n",
    "    \n",
    "    def plot_equity(self):\n",
    "        x = pandas.merge(self.get_equity(), self.get_state(), left_index=True, right_index=True, how = 'outer')\n",
    "        tit = self.name + ', '\n",
    "        tit += 'heat: ' + str(self.heat) + '.\\n'\n",
    "        tit += 'Initial Equity: ' + str(int(self.equity['Equity'][0]))\n",
    "        tit += ', Ending Equity: ' + str(int(self.equity['Equity'][-1])) + ', '\n",
    "        tit += 'Total Return: ' + str(int(10000 * self.equity['Equity'][-1] / self.equity['Equity'][1] - 1) / 100) + '%.\\n'\n",
    "#         tit += 'ICAGR: ' + str(int(10000 * self.performance['ICAGR']) / 100) + '%.\\n'\n",
    "#         tit += 'Volatility: ' + str(int(10000 * self.performance['Volatility']) / 100) + '%, '\n",
    "        tit += 'Lake Ratio: ' + str(int(10000 * self.performance['Lake_Ratio']) / 100) + '%, '\n",
    "        tit += 'Max. Drawdown: ' + str(int(10000* self.performance['Max_Drawdown']) / 100) + '%, '\n",
    "#         tit += 'Bliss: ' + str(torch.round(364.25 * self.performance['Bliss'], 1)) + ' days.'\n",
    "        pal = pyplot.get_cmap('Paired').colors\n",
    "        fig, ax = pyplot.subplots()\n",
    "        trans = matplotlib.transforms.blended_transform_factory(ax.transData, ax.transAxes)\n",
    "        ax.fill_between(x.index, 0, x.Equity.max(), where= x.Trend > 0, facecolor=pal[0],\n",
    "                        alpha=0.25, transform=trans, label='Trend up')\n",
    "        ax.fill_between(x.index, 0, x.Equity.max(), where= x.Trend < 0, facecolor=pal[4],\n",
    "                        alpha=0.25, transform=trans, label='Trend down')\n",
    "        ax.plot(x.index, x.Equity)\n",
    "        ax.plot(x.index, x.Closing_Balance)\n",
    "        ax.axhline(0, color='grey', lw=2, alpha=0.75)\n",
    "        ax.set_title(tit)\n",
    "        ax.legend()\n",
    "    \n",
    "    \n",
    "    def plot_lake_ratio(self):\n",
    "        \"\"\"\n",
    "        Illustrates the computation of the lake ratio.\n",
    "        See http://www.seykota.com/tribe/risk/index.htm\n",
    "        \"\"\"\n",
    "        eqty = self.equity['Equity'][self.dates > self.first_trading_day]\n",
    "        lake_bottom = Series(eqty) / self.equity['Equity'][1]\n",
    "        lake_surface = lake_bottom.cummax()\n",
    "        fig, ax = pyplot.subplots()\n",
    "        ax.fill_between(lake_bottom.index, y1 = lake_bottom, y2 = lake_surface, alpha=0.5)\n",
    "        ax.fill_between(lake_bottom.index, y1 = 0, y2 = lake_bottom, alpha=0.5)\n",
    "        ax.axhline(1, color='grey', lw=2, alpha=0.75)\n",
    "        ax.axhline(0, color='grey', lw=2, alpha=0.75)\n",
    "        ax.plot(lake_bottom)\n",
    "        tit = 'Lake Ratio: ' + str(int(10000 * self.performance['Lake_Ratio']) / 100) + '%'\n",
    "        tit += ', Sea Ratio (areas over 1): ' + str(int(10000 * self.performance['Sea_Ratio']) / 100) + '%.'\n",
    "        ax.set_title(tit)"
   ]
  },
  {
   "cell_type": "code",
   "execution_count": null,
   "metadata": {
    "ExecuteTime": {
     "end_time": "2018-06-28T22:47:17.540913Z",
     "start_time": "2018-06-28T22:47:17.471975Z"
    },
    "code_folding": []
   },
   "outputs": [],
   "source": [
    "class ES1_Trading_Strategy_torch(Trading_Strategy):\n",
    "    \"\"\"\n",
    "    Implements a simple exponential smoothing trading system.\n",
    "    \"\"\"\n",
    "    def init_state(self, a=0.1):\n",
    "        \"\"\"\n",
    "        Parameters\n",
    "        ----------\n",
    "        a: exponential smoothing constant between 0 and 1. S_t = a * P_t + (1 - a) * S_t-1\n",
    "        \"\"\"\n",
    "\n",
    "        self.state = {'esa': torch.from_numpy(np.zeros(len(self.dates))),\n",
    "                      'Trend': torch.from_numpy(np.zeros(len(self.dates)))}\n",
    "        self.prices = {s: torch.from_numpy(self.prices[s]) for s in list(self.prices.keys())}\n",
    "        self.a = torch.tensor(min(max(a, 0), 1), dtype=torch.float64, requires_grad=True)\n",
    "        \n",
    "    \n",
    "    \n",
    "    def update_state(self, today_i):\n",
    "        \"\"\"\n",
    "        Updates the Resistance, Support, and Trend variables.\n",
    "        \"\"\"\n",
    "        if today_i == 1:\n",
    "            self.state['esa'][0] = self.prices['Close'][0]\n",
    "            self.state['Trend'][0] = 0\n",
    "        else:        \n",
    "            self.state['esa'][today_i - 1] = self.a * self.prices['Close'][today_i - 1] + \\\n",
    "                (1 - self.a) * self.state['esa'][today_i - 2]\n",
    "            self.state['Trend'][today_i - 1] = torch.sign(self.prices['Close'][today_i - 1] - self.state['esa'][today_i - 1])\n",
    "    \n",
    "    \n",
    "    def entry_order_prices(self, today_i):\n",
    "        \"\"\"\n",
    "        Computes the entry orders for the day (today).\n",
    "        \"\"\"\n",
    "        prev_day_position = self.equity['Position'][today_i - 1]\n",
    "        state = {k: self.state[k][today_i - 1] for k in self.state.keys()}\n",
    "        \n",
    "        if prev_day_position == 0:\n",
    "            if state['Trend'] == 1:\n",
    "                self.orders['buy_stop'][today_i] = self.prices['High'][today_i - 1]\n",
    "            elif state['Trend'] == -1:\n",
    "                self.orders['sell_stop'][today_i] = self.prices['Low'][today_i - 1]\n",
    "            else:\n",
    "                pass\n",
    "        else:\n",
    "            pass\n",
    "    \n",
    "    \n",
    "    \n",
    "    def protective_order_prices(self, today_i):\n",
    "        \"\"\"\n",
    "        Computes the protective orders for the day (today) according to a Support and Resistance system.\n",
    "        \"\"\"\n",
    "        state = {k: self.state[k][today_i - 1] for k in self.state.keys()}\n",
    "        prev_day_position = self.equity['Position'][today_i - 1]\n",
    "        \n",
    "        if self.orders['buy_stop'][today_i] > 0 or prev_day_position > 0:\n",
    "            self.orders['protective_sell'][today_i] = state['esa']\n",
    "            \n",
    "        elif self.orders['sell_stop'][today_i] > 0 or prev_day_position < 0:\n",
    "            self.orders['protective_buy'][today_i] = state['esa']\n",
    "            \n",
    "        else:\n",
    "            pass"
   ]
  },
  {
   "cell_type": "code",
   "execution_count": null,
   "metadata": {
    "ExecuteTime": {
     "end_time": "2018-06-28T22:47:18.945739Z",
     "start_time": "2018-06-28T22:47:18.875928Z"
    },
    "code_folding": []
   },
   "outputs": [],
   "source": [
    "es1 = ES1_Trading_Strategy_torch(price, equity=1e6, position_step=1e2,\n",
    "                           a=0.3, name='Comex Gold')"
   ]
  },
  {
   "cell_type": "code",
   "execution_count": null,
   "metadata": {
    "ExecuteTime": {
     "end_time": "2018-06-28T22:47:20.205010Z",
     "start_time": "2018-06-28T22:47:19.924059Z"
    }
   },
   "outputs": [],
   "source": [
    "print(es1.a)\n",
    "print(es1.state['esa'])\n",
    "print(es1.prices)\n",
    "print(es1.orders)"
   ]
  },
  {
   "cell_type": "code",
   "execution_count": null,
   "metadata": {
    "ExecuteTime": {
     "end_time": "2018-06-28T22:47:22.780263Z",
     "start_time": "2018-06-28T22:47:20.619257Z"
    }
   },
   "outputs": [],
   "source": [
    "es1.excecute()"
   ]
  },
  {
   "cell_type": "code",
   "execution_count": null,
   "metadata": {
    "ExecuteTime": {
     "end_time": "2018-06-28T22:47:25.085615Z",
     "start_time": "2018-06-28T22:47:25.019815Z"
    }
   },
   "outputs": [],
   "source": [
    "es1.performance['Ratio'].requires_grad"
   ]
  },
  {
   "cell_type": "code",
   "execution_count": null,
   "metadata": {
    "ExecuteTime": {
     "end_time": "2018-06-28T22:49:59.182029Z",
     "start_time": "2018-06-28T22:49:58.860788Z"
    }
   },
   "outputs": [],
   "source": [
    "# See https://discuss.pytorch.org/t/encounter-the-runtimeerror-one-of-the-variables-needed-for-gradient-computation-has-been-modified-by-an-inplace-operation/836\n",
    "es1.performance['Ratio'].backward()"
   ]
  },
  {
   "cell_type": "code",
   "execution_count": null,
   "metadata": {},
   "outputs": [],
   "source": []
  }
 ],
 "metadata": {
  "kernelspec": {
   "display_name": "Python 3",
   "language": "python",
   "name": "python3"
  },
  "language_info": {
   "codemirror_mode": {
    "name": "ipython",
    "version": 3
   },
   "file_extension": ".py",
   "mimetype": "text/x-python",
   "name": "python",
   "nbconvert_exporter": "python",
   "pygments_lexer": "ipython3",
   "version": "3.6.5"
  },
  "toc": {
   "base_numbering": 1,
   "nav_menu": {},
   "number_sections": true,
   "sideBar": true,
   "skip_h1_title": false,
   "title_cell": "Table of Contents",
   "title_sidebar": "Contents",
   "toc_cell": false,
   "toc_position": {},
   "toc_section_display": true,
   "toc_window_display": false
  }
 },
 "nbformat": 4,
 "nbformat_minor": 2
}
