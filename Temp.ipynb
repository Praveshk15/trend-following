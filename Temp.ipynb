{
 "cells": [
  {
   "cell_type": "markdown",
   "metadata": {},
   "source": [
    "# Temp\n",
    "\n",
    "Temporary file for testing new functions."
   ]
  },
  {
   "cell_type": "code",
   "execution_count": 1,
   "metadata": {
    "ExecuteTime": {
     "end_time": "2018-06-29T00:47:06.130697Z",
     "start_time": "2018-06-29T00:47:05.293717Z"
    }
   },
   "outputs": [],
   "source": [
    "# Put these at the top of every notebook, to get automatic reloading and inline plotting\n",
    "%reload_ext autoreload\n",
    "%autoreload 2\n",
    "%matplotlib inline"
   ]
  },
  {
   "cell_type": "code",
   "execution_count": 2,
   "metadata": {
    "ExecuteTime": {
     "end_time": "2018-06-29T00:47:06.816861Z",
     "start_time": "2018-06-29T00:47:06.133156Z"
    }
   },
   "outputs": [],
   "source": [
    "import os\n",
    "import re\n",
    "import pickle\n",
    "from datetime import datetime\n",
    "import numpy as np\n",
    "import pandas as pd\n",
    "from pandas import Series, DataFrame\n",
    "pd.set_option('display.max_rows', 10)\n",
    "import matplotlib as mpl\n",
    "from matplotlib import pyplot as plt\n",
    "import matplotlib.transforms as mtransforms\n",
    "plt.rcParams['figure.figsize'] = [12, 4]\n",
    "\n",
    "import quandl\n",
    "\n",
    "from utils import *"
   ]
  },
  {
   "cell_type": "code",
   "execution_count": 3,
   "metadata": {
    "ExecuteTime": {
     "end_time": "2018-06-29T00:47:11.094412Z",
     "start_time": "2018-06-29T00:47:08.942643Z"
    }
   },
   "outputs": [],
   "source": [
    "from trading_strategies import *\n",
    "test_RS_Trading_Strategy()"
   ]
  },
  {
   "cell_type": "code",
   "execution_count": null,
   "metadata": {
    "ExecuteTime": {
     "end_time": "2018-06-28T16:46:47.431779Z",
     "start_time": "2018-06-28T16:46:45.977089Z"
    }
   },
   "outputs": [],
   "source": [
    "from temp import *\n",
    "price = pd.read_csv(filepath_or_buffer='test/Seykota GC----C.csv', header=None,\n",
    "           names=['Date', 'Open', 'High', 'Low', 'Close', 'Volume', 'Open_Interest'], \n",
    "           index_col=0)\n",
    "\n",
    "price.index = [datetime.strptime(str(i), '%Y%m%d') for i in price.index.values]\n",
    "\n",
    "rs_tr = RS_Trading_Strategy(price, equity=1e6, position_step=1e2,\n",
    "                            days_fast=20, days_slow=140,\n",
    "                            name='Comex Gold')\n",
    "rs_tr.excecute(warmup=20)\n",
    "\n",
    "# test states\n",
    "stts = rs_tr.get_state()\n",
    "metrics = pd.merge(price[['Open', 'High', 'Low', 'Close']], stts, left_index=True, right_index=True)\n",
    "metrics_log = pd.read_excel(io='test/Metrics_Log_1-1.xlsx', index_col=0)\n",
    "assert np.all(np.equal(metrics_log.values, metrics.values))\n",
    "\n",
    "# test trades\n",
    "trds = rs_tr.get_trades()\n",
    "trade_log = pd.read_excel(io='test/Trade_Log.xlsx').set_index('Date').sort_index()[['Price', 'Amount']]\n",
    "assert max(abs(trds.Price.values - trade_log.Price.values)) < 1e-3\n",
    "assert trds.Amount.equals(trade_log.Amount.astype('float64'))\n",
    "\n",
    "# test equity\n",
    "eqty = rs_tr.get_equity()\n",
    "equity_log = pd.read_excel(io='test/Equity_Log.xlsx', index_col=0)\n",
    "assert max(abs(eqty.Equity.values - equity_log.Equity.values)) < 1e-3\n",
    "assert np.max(np.abs(equity_log.Clo_Bal - rs_tr.get_equity().Closing_Balance)) < 1e-3\n",
    "assert np.max(np.abs(equity_log.Open_Profit - rs_tr.get_equity().Open_Profit)) < 1e-3\n",
    "\n",
    "# test performance indicators\n",
    "assert np.round(rs_tr.performance['ICAGR'], 4) == 0.0309\n",
    "assert np.round(rs_tr.performance['Max_Drawdown'], 4) == 0.4077\n",
    "assert np.round(rs_tr.performance['Bliss'], 4) == 0.0758"
   ]
  },
  {
   "cell_type": "code",
   "execution_count": null,
   "metadata": {
    "ExecuteTime": {
     "end_time": "2018-06-28T16:46:57.787283Z",
     "start_time": "2018-06-28T16:46:56.357532Z"
    }
   },
   "outputs": [],
   "source": [
    "from trading_strategies import *\n",
    "test_RS_Trading_Strategy()\n",
    "from temp import *"
   ]
  },
  {
   "cell_type": "code",
   "execution_count": null,
   "metadata": {
    "ExecuteTime": {
     "end_time": "2018-06-28T16:46:57.853304Z",
     "start_time": "2018-06-28T16:46:57.787283Z"
    }
   },
   "outputs": [],
   "source": [
    "es1 = ES1_Trading_Strategy(price, equity=1e6, position_step=1e2,\n",
    "                           a=1e-2,\n",
    "                           name='Comex Gold')"
   ]
  },
  {
   "cell_type": "code",
   "execution_count": null,
   "metadata": {
    "ExecuteTime": {
     "end_time": "2018-06-28T16:46:58.727390Z",
     "start_time": "2018-06-28T16:46:58.357526Z"
    },
    "scrolled": true
   },
   "outputs": [],
   "source": [
    "es1.excecute()"
   ]
  },
  {
   "cell_type": "code",
   "execution_count": null,
   "metadata": {
    "ExecuteTime": {
     "end_time": "2018-06-28T16:46:59.453361Z",
     "start_time": "2018-06-28T16:46:59.390529Z"
    }
   },
   "outputs": [],
   "source": [
    "es1.performance"
   ]
  },
  {
   "cell_type": "code",
   "execution_count": null,
   "metadata": {
    "ExecuteTime": {
     "end_time": "2018-06-28T16:47:00.596658Z",
     "start_time": "2018-06-28T16:47:00.262025Z"
    }
   },
   "outputs": [],
   "source": [
    "es1.plot_state()"
   ]
  },
  {
   "cell_type": "code",
   "execution_count": null,
   "metadata": {
    "ExecuteTime": {
     "end_time": "2018-06-28T16:47:01.830945Z",
     "start_time": "2018-06-28T16:47:01.485734Z"
    }
   },
   "outputs": [],
   "source": [
    "es1.plot_equity()"
   ]
  },
  {
   "cell_type": "code",
   "execution_count": null,
   "metadata": {
    "ExecuteTime": {
     "end_time": "2018-06-28T03:54:14.089636Z",
     "start_time": "2018-06-28T03:54:14.049423Z"
    }
   },
   "outputs": [],
   "source": [
    "np.isnan(np.nan) * 1"
   ]
  },
  {
   "cell_type": "markdown",
   "metadata": {},
   "source": [
    "# Pytorch "
   ]
  },
  {
   "cell_type": "code",
   "execution_count": 4,
   "metadata": {
    "ExecuteTime": {
     "end_time": "2018-06-29T00:47:19.259290Z",
     "start_time": "2018-06-29T00:47:18.989528Z"
    }
   },
   "outputs": [],
   "source": [
    "import torch"
   ]
  },
  {
   "cell_type": "code",
   "execution_count": 5,
   "metadata": {
    "ExecuteTime": {
     "end_time": "2018-06-29T00:47:21.733215Z",
     "start_time": "2018-06-29T00:47:21.694099Z"
    }
   },
   "outputs": [
    {
     "data": {
      "text/plain": [
       "array([[0.70211947],\n",
       "       [0.69891209]])"
      ]
     },
     "execution_count": 5,
     "metadata": {},
     "output_type": "execute_result"
    }
   ],
   "source": [
    "# Simple example: y = (x1 - 2)^2 + (x2 - 5)^2\n",
    "x = np.random.randn(2, 1)\n",
    "x"
   ]
  },
  {
   "cell_type": "code",
   "execution_count": 6,
   "metadata": {
    "ExecuteTime": {
     "end_time": "2018-06-29T00:47:22.535502Z",
     "start_time": "2018-06-29T00:47:22.493505Z"
    }
   },
   "outputs": [
    {
     "data": {
      "text/plain": [
       "tensor([[ 0.7021],\n",
       "        [ 0.6989]], dtype=torch.float64)"
      ]
     },
     "execution_count": 6,
     "metadata": {},
     "output_type": "execute_result"
    }
   ],
   "source": [
    "x = torch.from_numpy(x)\n",
    "x"
   ]
  },
  {
   "cell_type": "code",
   "execution_count": 7,
   "metadata": {
    "ExecuteTime": {
     "end_time": "2018-06-29T00:47:23.881697Z",
     "start_time": "2018-06-29T00:47:23.845585Z"
    }
   },
   "outputs": [],
   "source": [
    "x.requires_grad = True"
   ]
  },
  {
   "cell_type": "code",
   "execution_count": 19,
   "metadata": {
    "ExecuteTime": {
     "end_time": "2018-06-29T00:48:36.864353Z",
     "start_time": "2018-06-29T00:48:36.830883Z"
    }
   },
   "outputs": [],
   "source": [
    "y = (x[0] - 2)**2 + (x[1] - 5)**2"
   ]
  },
  {
   "cell_type": "code",
   "execution_count": 20,
   "metadata": {
    "ExecuteTime": {
     "end_time": "2018-06-29T00:48:37.264208Z",
     "start_time": "2018-06-29T00:48:37.229310Z"
    }
   },
   "outputs": [],
   "source": [
    "y.backward()"
   ]
  },
  {
   "cell_type": "code",
   "execution_count": 21,
   "metadata": {
    "ExecuteTime": {
     "end_time": "2018-06-29T00:48:37.603858Z",
     "start_time": "2018-06-29T00:48:37.566323Z"
    }
   },
   "outputs": [
    {
     "data": {
      "text/plain": [
       "tensor([[-2.0766],\n",
       "        [-6.8817]], dtype=torch.float64)"
      ]
     },
     "execution_count": 21,
     "metadata": {},
     "output_type": "execute_result"
    }
   ],
   "source": [
    "x.grad"
   ]
  },
  {
   "cell_type": "code",
   "execution_count": 22,
   "metadata": {
    "ExecuteTime": {
     "end_time": "2018-06-29T00:48:38.153081Z",
     "start_time": "2018-06-29T00:48:38.119280Z"
    }
   },
   "outputs": [
    {
     "name": "stdout",
     "output_type": "stream",
     "text": [
      "-5.54903456\n",
      "-7.29334372\n"
     ]
    }
   ],
   "source": [
    "print(2*(-0.77451728 - 2))\n",
    "print(2 * (-0.64667186 - 3))"
   ]
  },
  {
   "cell_type": "code",
   "execution_count": 23,
   "metadata": {
    "ExecuteTime": {
     "end_time": "2018-06-29T00:48:38.691473Z",
     "start_time": "2018-06-29T00:48:38.655764Z"
    }
   },
   "outputs": [
    {
     "data": {
      "text/plain": [
       "tensor([[ 1.1694],\n",
       "        [ 2.2473]], dtype=torch.float64)"
      ]
     },
     "execution_count": 23,
     "metadata": {},
     "output_type": "execute_result"
    }
   ],
   "source": [
    "lr = 0.1\n",
    "x.data.sub_(lr * x.grad)  # With '_', modifies in place."
   ]
  },
  {
   "cell_type": "code",
   "execution_count": 24,
   "metadata": {
    "ExecuteTime": {
     "end_time": "2018-06-29T00:48:39.497883Z",
     "start_time": "2018-06-29T00:48:39.461974Z"
    }
   },
   "outputs": [
    {
     "data": {
      "text/plain": [
       "tensor([[-2.0766],\n",
       "        [-6.8817]], dtype=torch.float64)"
      ]
     },
     "execution_count": 24,
     "metadata": {},
     "output_type": "execute_result"
    }
   ],
   "source": [
    "x.grad"
   ]
  },
  {
   "cell_type": "code",
   "execution_count": 25,
   "metadata": {
    "ExecuteTime": {
     "end_time": "2018-06-29T00:48:39.748194Z",
     "start_time": "2018-06-29T00:48:39.712083Z"
    }
   },
   "outputs": [
    {
     "data": {
      "text/plain": [
       "tensor([[ 0.],\n",
       "        [ 0.]], dtype=torch.float64)"
      ]
     },
     "execution_count": 25,
     "metadata": {},
     "output_type": "execute_result"
    }
   ],
   "source": [
    "x.grad.zero_()"
   ]
  },
  {
   "cell_type": "code",
   "execution_count": 26,
   "metadata": {
    "ExecuteTime": {
     "end_time": "2018-06-29T00:48:40.217970Z",
     "start_time": "2018-06-29T00:48:40.181567Z"
    }
   },
   "outputs": [
    {
     "data": {
      "text/plain": [
       "tensor([[ 0.],\n",
       "        [ 0.]], dtype=torch.float64)"
      ]
     },
     "execution_count": 26,
     "metadata": {},
     "output_type": "execute_result"
    }
   ],
   "source": [
    "x.grad"
   ]
  },
  {
   "cell_type": "markdown",
   "metadata": {},
   "source": [
    "## Gradient Descent "
   ]
  },
  {
   "cell_type": "code",
   "execution_count": 27,
   "metadata": {
    "ExecuteTime": {
     "end_time": "2018-06-29T00:48:41.265507Z",
     "start_time": "2018-06-29T00:48:41.222450Z"
    }
   },
   "outputs": [],
   "source": [
    "# Gradient descent\n",
    "lr = 0.1\n",
    "steps = 30\n",
    "\n",
    "def loss(x1, x2):\n",
    "    return (x1 - 2)**2 + (x2 - 5)**2\n",
    "\n",
    "x = torch.tensor(np.array([5., -4.]), requires_grad=True)\n",
    "results = {'x1': [x.detach().numpy()[0]], 'x2': [x.detach().numpy()[1]],\n",
    "           'loss': [loss(x.detach().numpy()[0], x.detach().numpy()[1])]}\n",
    "\n",
    "for i in range(steps):\n",
    "    y = loss(x[0], x[1])\n",
    "    y.backward()\n",
    "    x.data.sub_(lr * x.grad)  # With '_', modifies in place.\n",
    "    x.grad.zero_()\n",
    "    results['x1'].append(x.detach().numpy()[0])\n",
    "    results['x2'].append(x.detach().numpy()[1])\n",
    "    results['loss'].append(y.detach().numpy())\n"
   ]
  },
  {
   "cell_type": "code",
   "execution_count": 28,
   "metadata": {
    "ExecuteTime": {
     "end_time": "2018-06-29T00:48:41.718778Z",
     "start_time": "2018-06-29T00:48:41.475846Z"
    }
   },
   "outputs": [
    {
     "data": {
      "image/png": "[encoded data removed]",
      "text/plain": [
       "<Figure size 864x288 with 1 Axes>"
      ]
     },
     "metadata": {},
     "output_type": "display_data"
    }
   ],
   "source": [
    "res_df = DataFrame.from_dict(results)\n",
    "plt.plot(res_df.loss)\n",
    "plt.axhline(y=0, c='grey', alpha=0.5)\n",
    "plt.show()"
   ]
  },
  {
   "cell_type": "code",
   "execution_count": 29,
   "metadata": {
    "ExecuteTime": {
     "end_time": "2018-06-29T00:48:42.730975Z",
     "start_time": "2018-06-29T00:48:42.535262Z"
    }
   },
   "outputs": [
    {
     "data": {
      "image/png": "[encoded data removed]",
      "text/plain": [
       "<Figure size 864x288 with 1 Axes>"
      ]
     },
     "metadata": {},
     "output_type": "display_data"
    }
   ],
   "source": [
    "res_df.plot()\n",
    "plt.axhline(y=2, c='grey', ls='dashed', alpha=0.5)\n",
    "plt.axhline(y=5, c='grey', ls='dashed', alpha=0.5)\n",
    "plt.axhline(y=0, c='grey', alpha=0.5)\n",
    "plt.show()"
   ]
  },
  {
   "cell_type": "code",
   "execution_count": 30,
   "metadata": {
    "ExecuteTime": {
     "end_time": "2018-06-29T00:48:43.798133Z",
     "start_time": "2018-06-29T00:48:43.751253Z"
    }
   },
   "outputs": [
    {
     "data": {
      "text/html": [
       "<div>\n",
       "<style scoped>\n",
       "    .dataframe tbody tr th:only-of-type {\n",
       "        vertical-align: middle;\n",
       "    }\n",
       "\n",
       "    .dataframe tbody tr th {\n",
       "        vertical-align: top;\n",
       "    }\n",
       "\n",
       "    .dataframe thead th {\n",
       "        text-align: right;\n",
       "    }\n",
       "</style>\n",
       "<table border=\"1\" class=\"dataframe\">\n",
       "  <thead>\n",
       "    <tr style=\"text-align: right;\">\n",
       "      <th></th>\n",
       "      <th>x1</th>\n",
       "      <th>x2</th>\n",
       "      <th>loss</th>\n",
       "    </tr>\n",
       "  </thead>\n",
       "  <tbody>\n",
       "    <tr>\n",
       "      <th>0</th>\n",
       "      <td>5.000000</td>\n",
       "      <td>-4.000000</td>\n",
       "      <td>90</td>\n",
       "    </tr>\n",
       "    <tr>\n",
       "      <th>1</th>\n",
       "      <td>4.400000</td>\n",
       "      <td>-2.200000</td>\n",
       "      <td>90.0</td>\n",
       "    </tr>\n",
       "    <tr>\n",
       "      <th>2</th>\n",
       "      <td>3.920000</td>\n",
       "      <td>-0.760000</td>\n",
       "      <td>57.60000000000001</td>\n",
       "    </tr>\n",
       "    <tr>\n",
       "      <th>3</th>\n",
       "      <td>3.536000</td>\n",
       "      <td>0.392000</td>\n",
       "      <td>36.864</td>\n",
       "    </tr>\n",
       "    <tr>\n",
       "      <th>4</th>\n",
       "      <td>3.228800</td>\n",
       "      <td>1.313600</td>\n",
       "      <td>23.592960000000005</td>\n",
       "    </tr>\n",
       "    <tr>\n",
       "      <th>...</th>\n",
       "      <td>...</td>\n",
       "      <td>...</td>\n",
       "      <td>...</td>\n",
       "    </tr>\n",
       "    <tr>\n",
       "      <th>26</th>\n",
       "      <td>2.009067</td>\n",
       "      <td>4.972799</td>\n",
       "      <td>0.0012845229234353854</td>\n",
       "    </tr>\n",
       "    <tr>\n",
       "      <th>27</th>\n",
       "      <td>2.007254</td>\n",
       "      <td>4.978239</td>\n",
       "      <td>0.0008220946709986565</td>\n",
       "    </tr>\n",
       "    <tr>\n",
       "      <th>28</th>\n",
       "      <td>2.005803</td>\n",
       "      <td>4.982591</td>\n",
       "      <td>0.0005261405894391414</td>\n",
       "    </tr>\n",
       "    <tr>\n",
       "      <th>29</th>\n",
       "      <td>2.004642</td>\n",
       "      <td>4.986073</td>\n",
       "      <td>0.0003367299772410381</td>\n",
       "    </tr>\n",
       "    <tr>\n",
       "      <th>30</th>\n",
       "      <td>2.003714</td>\n",
       "      <td>4.988859</td>\n",
       "      <td>0.00021550718543426853</td>\n",
       "    </tr>\n",
       "  </tbody>\n",
       "</table>\n",
       "<p>31 rows × 3 columns</p>\n",
       "</div>"
      ],
      "text/plain": [
       "          x1        x2                    loss\n",
       "0   5.000000 -4.000000                      90\n",
       "1   4.400000 -2.200000                    90.0\n",
       "2   3.920000 -0.760000       57.60000000000001\n",
       "3   3.536000  0.392000                  36.864\n",
       "4   3.228800  1.313600      23.592960000000005\n",
       "..       ...       ...                     ...\n",
       "26  2.009067  4.972799   0.0012845229234353854\n",
       "27  2.007254  4.978239   0.0008220946709986565\n",
       "28  2.005803  4.982591   0.0005261405894391414\n",
       "29  2.004642  4.986073   0.0003367299772410381\n",
       "30  2.003714  4.988859  0.00021550718543426853\n",
       "\n",
       "[31 rows x 3 columns]"
      ]
     },
     "execution_count": 30,
     "metadata": {},
     "output_type": "execute_result"
    }
   ],
   "source": [
    "res_df"
   ]
  },
  {
   "cell_type": "markdown",
   "metadata": {},
   "source": [
    "## Gradient Descent with Constraints\n",
    "\n",
    "$$ y = (x_1 - 2)^2 + (x_2 - 5)^2, \\quad x_1 >= 3 $$"
   ]
  },
  {
   "cell_type": "code",
   "execution_count": 31,
   "metadata": {
    "ExecuteTime": {
     "end_time": "2018-06-29T00:48:45.086369Z",
     "start_time": "2018-06-29T00:48:44.845608Z"
    },
    "scrolled": true
   },
   "outputs": [],
   "source": [
    "# Gradient descent\n",
    "lr = 0.01\n",
    "steps = 1000\n",
    "\n",
    "def loss(x1, x2):\n",
    "    return (torch.clamp(x1, 3, 4) - 2)**2 + (x2 - 5)**2\n",
    "\n",
    "x = torch.tensor(np.array([3.5, -25.]), requires_grad=True)\n",
    "results = {'x1': [x.detach().numpy()[0]], 'x2': [x.detach().numpy()[1]],\n",
    "           'loss': [loss(x[0], x[1]).detach().numpy()]}\n",
    "\n",
    "for i in range(steps):\n",
    "    y = loss(x[0], x[1])\n",
    "    y.backward()\n",
    "    x.data.sub_(lr * x.grad)  # With '_', modifies in place.\n",
    "    x.grad.zero_()\n",
    "    results['x1'].append(x.detach().numpy()[0])\n",
    "    results['x2'].append(x.detach().numpy()[1])\n",
    "    results['loss'].append(y.detach().numpy())\n"
   ]
  },
  {
   "cell_type": "code",
   "execution_count": 32,
   "metadata": {
    "ExecuteTime": {
     "end_time": "2018-06-29T00:48:45.585867Z",
     "start_time": "2018-06-29T00:48:45.543053Z"
    },
    "scrolled": true
   },
   "outputs": [
    {
     "data": {
      "text/html": [
       "<div>\n",
       "<style scoped>\n",
       "    .dataframe tbody tr th:only-of-type {\n",
       "        vertical-align: middle;\n",
       "    }\n",
       "\n",
       "    .dataframe tbody tr th {\n",
       "        vertical-align: top;\n",
       "    }\n",
       "\n",
       "    .dataframe thead th {\n",
       "        text-align: right;\n",
       "    }\n",
       "</style>\n",
       "<table border=\"1\" class=\"dataframe\">\n",
       "  <thead>\n",
       "    <tr style=\"text-align: right;\">\n",
       "      <th></th>\n",
       "      <th>x1</th>\n",
       "      <th>x2</th>\n",
       "      <th>loss</th>\n",
       "    </tr>\n",
       "  </thead>\n",
       "  <tbody>\n",
       "    <tr>\n",
       "      <th>0</th>\n",
       "      <td>3.500000</td>\n",
       "      <td>-25.000000</td>\n",
       "      <td>902.25</td>\n",
       "    </tr>\n",
       "    <tr>\n",
       "      <th>1</th>\n",
       "      <td>3.470000</td>\n",
       "      <td>-24.400000</td>\n",
       "      <td>902.25</td>\n",
       "    </tr>\n",
       "    <tr>\n",
       "      <th>2</th>\n",
       "      <td>3.440600</td>\n",
       "      <td>-23.812000</td>\n",
       "      <td>866.5208999999999</td>\n",
       "    </tr>\n",
       "    <tr>\n",
       "      <th>3</th>\n",
       "      <td>3.411788</td>\n",
       "      <td>-23.235760</td>\n",
       "      <td>832.2066723599999</td>\n",
       "    </tr>\n",
       "    <tr>\n",
       "      <th>4</th>\n",
       "      <td>3.383552</td>\n",
       "      <td>-22.671045</td>\n",
       "      <td>799.2512881345439</td>\n",
       "    </tr>\n",
       "    <tr>\n",
       "      <th>...</th>\n",
       "      <td>...</td>\n",
       "      <td>...</td>\n",
       "      <td>...</td>\n",
       "    </tr>\n",
       "    <tr>\n",
       "      <th>996</th>\n",
       "      <td>2.981384</td>\n",
       "      <td>5.000000</td>\n",
       "      <td>1.000000000000003</td>\n",
       "    </tr>\n",
       "    <tr>\n",
       "      <th>997</th>\n",
       "      <td>2.981384</td>\n",
       "      <td>5.000000</td>\n",
       "      <td>1.0000000000000029</td>\n",
       "    </tr>\n",
       "    <tr>\n",
       "      <th>998</th>\n",
       "      <td>2.981384</td>\n",
       "      <td>5.000000</td>\n",
       "      <td>1.0000000000000029</td>\n",
       "    </tr>\n",
       "    <tr>\n",
       "      <th>999</th>\n",
       "      <td>2.981384</td>\n",
       "      <td>5.000000</td>\n",
       "      <td>1.0000000000000027</td>\n",
       "    </tr>\n",
       "    <tr>\n",
       "      <th>1000</th>\n",
       "      <td>2.981384</td>\n",
       "      <td>5.000000</td>\n",
       "      <td>1.0000000000000027</td>\n",
       "    </tr>\n",
       "  </tbody>\n",
       "</table>\n",
       "<p>1001 rows × 3 columns</p>\n",
       "</div>"
      ],
      "text/plain": [
       "            x1         x2                loss\n",
       "0     3.500000 -25.000000              902.25\n",
       "1     3.470000 -24.400000              902.25\n",
       "2     3.440600 -23.812000   866.5208999999999\n",
       "3     3.411788 -23.235760   832.2066723599999\n",
       "4     3.383552 -22.671045   799.2512881345439\n",
       "...        ...        ...                 ...\n",
       "996   2.981384   5.000000   1.000000000000003\n",
       "997   2.981384   5.000000  1.0000000000000029\n",
       "998   2.981384   5.000000  1.0000000000000029\n",
       "999   2.981384   5.000000  1.0000000000000027\n",
       "1000  2.981384   5.000000  1.0000000000000027\n",
       "\n",
       "[1001 rows x 3 columns]"
      ]
     },
     "execution_count": 32,
     "metadata": {},
     "output_type": "execute_result"
    }
   ],
   "source": [
    "res_df = DataFrame.from_dict(results)\n",
    "res_df"
   ]
  },
  {
   "cell_type": "code",
   "execution_count": 33,
   "metadata": {
    "ExecuteTime": {
     "end_time": "2018-06-29T00:48:46.647516Z",
     "start_time": "2018-06-29T00:48:46.479557Z"
    }
   },
   "outputs": [
    {
     "data": {
      "image/png": "[encoded data removed]",
      "text/plain": [
       "<Figure size 864x288 with 1 Axes>"
      ]
     },
     "metadata": {},
     "output_type": "display_data"
    }
   ],
   "source": [
    "res_df = DataFrame.from_dict(results)\n",
    "plt.plot(res_df.loss)\n",
    "plt.axhline(y=0, c='grey', alpha=0.5)\n",
    "plt.show()"
   ]
  },
  {
   "cell_type": "code",
   "execution_count": 34,
   "metadata": {
    "ExecuteTime": {
     "end_time": "2018-06-29T00:48:47.532188Z",
     "start_time": "2018-06-29T00:48:47.335579Z"
    }
   },
   "outputs": [
    {
     "data": {
      "image/png": "[encoded data removed]",
      "text/plain": [
       "<Figure size 864x288 with 1 Axes>"
      ]
     },
     "metadata": {},
     "output_type": "display_data"
    }
   ],
   "source": [
    "res_df.plot()\n",
    "plt.axhline(y=2, c='grey', ls='dashed', alpha=0.5)\n",
    "plt.axhline(y=5, c='grey', ls='dashed', alpha=0.5)\n",
    "plt.axhline(y=0, c='grey', alpha=0.5)\n",
    "plt.show()"
   ]
  },
  {
   "cell_type": "markdown",
   "metadata": {},
   "source": [
    "## Exponential Smoothing Optimization"
   ]
  },
  {
   "cell_type": "code",
   "execution_count": 212,
   "metadata": {
    "ExecuteTime": {
     "end_time": "2018-06-29T01:43:00.802173Z",
     "start_time": "2018-06-29T01:43:00.769830Z"
    }
   },
   "outputs": [],
   "source": [
    "N = 100\n",
    "n = 50\n",
    "a = 0.1\n",
    "x = np.cumsum(np.random.randn(N))"
   ]
  },
  {
   "cell_type": "code",
   "execution_count": 213,
   "metadata": {
    "ExecuteTime": {
     "end_time": "2018-06-29T01:43:01.453814Z",
     "start_time": "2018-06-29T01:43:01.417691Z"
    }
   },
   "outputs": [],
   "source": [
    "def moving_average(x, n):\n",
    "    mav = x.copy()\n",
    "    for i in range(1, len(mav)):\n",
    "        mav[i] = np.mean(x[:i][-n:])\n",
    "    return(mav)\n",
    "\n",
    "\n",
    "def exponential_smoothing(x, a):\n",
    "    esm = x.copy()\n",
    "    for i in range(1, len(esm)):\n",
    "        esm[i] = a * x[i] + (1 - a) * esm[i - 1]\n",
    "    return(esm)\n",
    "\n",
    "\n",
    "def exponential_smoothing_t(x, a):\n",
    "    esm = [torch.tensor(x[0])]\n",
    "    for i in range(1, len(x)):\n",
    "        esm.append(a * x[i] + (1 - a) * esm[-1])\n",
    "    return(esm)"
   ]
  },
  {
   "cell_type": "code",
   "execution_count": 214,
   "metadata": {
    "ExecuteTime": {
     "end_time": "2018-06-29T01:43:02.229507Z",
     "start_time": "2018-06-29T01:43:02.004565Z"
    },
    "scrolled": true
   },
   "outputs": [
    {
     "data": {
      "image/png": "[encoded data removed]",
      "text/plain": [
       "<Figure size 864x288 with 1 Axes>"
      ]
     },
     "metadata": {},
     "output_type": "display_data"
    }
   ],
   "source": [
    "plt.plot(x)\n",
    "plt.plot(moving_average(x, n))\n",
    "plt.plot(exponential_smoothing(x, a))\n",
    "plt.show()"
   ]
  },
  {
   "cell_type": "code",
   "execution_count": 226,
   "metadata": {
    "ExecuteTime": {
     "end_time": "2018-06-29T01:45:20.656814Z",
     "start_time": "2018-06-29T01:45:19.885962Z"
    }
   },
   "outputs": [],
   "source": [
    "# Gradient descent\n",
    "lr = 0.001\n",
    "steps = 100\n",
    "\n",
    "mav_t = torch.from_numpy(moving_average(x, n))\n",
    "\n",
    "def loss(x, aa):\n",
    "    l = torch.tensor(0., dtype=torch.float64)\n",
    "    esm_t = exponential_smoothing_t(x_t, aa)\n",
    "    for i in range(len(esm_t)):\n",
    "        l.add_((mav_t[i] - esm_t[i])**2)\n",
    "    return l\n",
    "\n",
    "x_t = torch.tensor(x)\n",
    "a_t = torch.tensor(a, requires_grad=True, dtype=torch.float64)\n",
    "\n",
    "results = {'a': [a_t.detach().numpy()], \n",
    "           'loss': [loss(x_t, a_t).detach().numpy()]}\n",
    "\n",
    "for i in range(steps):\n",
    "    y = loss(x_t, a_t)\n",
    "    y.backward()\n",
    "    a_t.data.sub_(lr * a_t.grad)  # With '_', modifies in place.\n",
    "    a_t.grad.zero_()\n",
    "    results['a'].append(a_t.detach().numpy())\n",
    "    results['loss'].append(y.detach().numpy())\n"
   ]
  },
  {
   "cell_type": "code",
   "execution_count": 227,
   "metadata": {
    "ExecuteTime": {
     "end_time": "2018-06-29T01:45:21.248188Z",
     "start_time": "2018-06-29T01:45:21.212942Z"
    }
   },
   "outputs": [
    {
     "data": {
      "text/plain": [
       "tensor(nan., dtype=torch.float64)"
      ]
     },
     "execution_count": 227,
     "metadata": {},
     "output_type": "execute_result"
    }
   ],
   "source": [
    "a_t"
   ]
  },
  {
   "cell_type": "code",
   "execution_count": 228,
   "metadata": {
    "ExecuteTime": {
     "end_time": "2018-06-29T01:45:22.585208Z",
     "start_time": "2018-06-29T01:45:22.541178Z"
    },
    "scrolled": true
   },
   "outputs": [
    {
     "data": {
      "text/html": [
       "<div>\n",
       "<style scoped>\n",
       "    .dataframe tbody tr th:only-of-type {\n",
       "        vertical-align: middle;\n",
       "    }\n",
       "\n",
       "    .dataframe tbody tr th {\n",
       "        vertical-align: top;\n",
       "    }\n",
       "\n",
       "    .dataframe thead th {\n",
       "        text-align: right;\n",
       "    }\n",
       "</style>\n",
       "<table border=\"1\" class=\"dataframe\">\n",
       "  <thead>\n",
       "    <tr style=\"text-align: right;\">\n",
       "      <th></th>\n",
       "      <th>a</th>\n",
       "      <th>loss</th>\n",
       "    </tr>\n",
       "  </thead>\n",
       "  <tbody>\n",
       "    <tr>\n",
       "      <th>0</th>\n",
       "      <td>nan</td>\n",
       "      <td>424.1570097185271</td>\n",
       "    </tr>\n",
       "    <tr>\n",
       "      <th>1</th>\n",
       "      <td>nan</td>\n",
       "      <td>424.1570097185271</td>\n",
       "    </tr>\n",
       "    <tr>\n",
       "      <th>2</th>\n",
       "      <td>nan</td>\n",
       "      <td>1.6904684237203734e+154</td>\n",
       "    </tr>\n",
       "    <tr>\n",
       "      <th>3</th>\n",
       "      <td>nan</td>\n",
       "      <td>inf</td>\n",
       "    </tr>\n",
       "    <tr>\n",
       "      <th>4</th>\n",
       "      <td>nan</td>\n",
       "      <td>nan</td>\n",
       "    </tr>\n",
       "    <tr>\n",
       "      <th>...</th>\n",
       "      <td>...</td>\n",
       "      <td>...</td>\n",
       "    </tr>\n",
       "    <tr>\n",
       "      <th>96</th>\n",
       "      <td>nan</td>\n",
       "      <td>nan</td>\n",
       "    </tr>\n",
       "    <tr>\n",
       "      <th>97</th>\n",
       "      <td>nan</td>\n",
       "      <td>nan</td>\n",
       "    </tr>\n",
       "    <tr>\n",
       "      <th>98</th>\n",
       "      <td>nan</td>\n",
       "      <td>nan</td>\n",
       "    </tr>\n",
       "    <tr>\n",
       "      <th>99</th>\n",
       "      <td>nan</td>\n",
       "      <td>nan</td>\n",
       "    </tr>\n",
       "    <tr>\n",
       "      <th>100</th>\n",
       "      <td>nan</td>\n",
       "      <td>nan</td>\n",
       "    </tr>\n",
       "  </tbody>\n",
       "</table>\n",
       "<p>101 rows × 2 columns</p>\n",
       "</div>"
      ],
      "text/plain": [
       "       a                     loss\n",
       "0    nan        424.1570097185271\n",
       "1    nan        424.1570097185271\n",
       "2    nan  1.6904684237203734e+154\n",
       "3    nan                      inf\n",
       "4    nan                      nan\n",
       "..   ...                      ...\n",
       "96   nan                      nan\n",
       "97   nan                      nan\n",
       "98   nan                      nan\n",
       "99   nan                      nan\n",
       "100  nan                      nan\n",
       "\n",
       "[101 rows x 2 columns]"
      ]
     },
     "execution_count": 228,
     "metadata": {},
     "output_type": "execute_result"
    }
   ],
   "source": [
    "res_df = DataFrame.from_dict(results)\n",
    "res_df"
   ]
  },
  {
   "cell_type": "code",
   "execution_count": 217,
   "metadata": {
    "ExecuteTime": {
     "end_time": "2018-06-29T01:43:33.256311Z",
     "start_time": "2018-06-29T01:43:33.065730Z"
    }
   },
   "outputs": [
    {
     "data": {
      "image/png": "[encoded data removed]",
      "text/plain": [
       "<Figure size 864x288 with 1 Axes>"
      ]
     },
     "metadata": {},
     "output_type": "display_data"
    }
   ],
   "source": [
    "res_df = DataFrame.from_dict(results)\n",
    "plt.plot(res_df.loss)\n",
    "plt.axhline(y=0, c='grey', alpha=0.5)\n",
    "plt.show()"
   ]
  },
  {
   "cell_type": "code",
   "execution_count": 218,
   "metadata": {
    "ExecuteTime": {
     "end_time": "2018-06-29T01:43:34.119398Z",
     "start_time": "2018-06-29T01:43:34.065668Z"
    }
   },
   "outputs": [
    {
     "ename": "TypeError",
     "evalue": "Empty 'DataFrame': no numeric data to plot",
     "output_type": "error",
     "traceback": [
      "\u001b[0;31m---------------------------------------------------------------------------\u001b[0m",
      "\u001b[0;31mTypeError\u001b[0m                                 Traceback (most recent call last)",
      "\u001b[0;32m<ipython-input-218-6ba786fd9055>\u001b[0m in \u001b[0;36m<module>\u001b[0;34m()\u001b[0m\n\u001b[0;32m----> 1\u001b[0;31m \u001b[0mres_df\u001b[0m\u001b[0;34m.\u001b[0m\u001b[0mplot\u001b[0m\u001b[0;34m(\u001b[0m\u001b[0;34m)\u001b[0m\u001b[0;34m\u001b[0m\u001b[0m\n\u001b[0m\u001b[1;32m      2\u001b[0m \u001b[0mplt\u001b[0m\u001b[0;34m.\u001b[0m\u001b[0maxhline\u001b[0m\u001b[0;34m(\u001b[0m\u001b[0my\u001b[0m\u001b[0;34m=\u001b[0m\u001b[0;36m2\u001b[0m\u001b[0;34m,\u001b[0m \u001b[0mc\u001b[0m\u001b[0;34m=\u001b[0m\u001b[0;34m'grey'\u001b[0m\u001b[0;34m,\u001b[0m \u001b[0mls\u001b[0m\u001b[0;34m=\u001b[0m\u001b[0;34m'dashed'\u001b[0m\u001b[0;34m,\u001b[0m \u001b[0malpha\u001b[0m\u001b[0;34m=\u001b[0m\u001b[0;36m0.5\u001b[0m\u001b[0;34m)\u001b[0m\u001b[0;34m\u001b[0m\u001b[0m\n\u001b[1;32m      3\u001b[0m \u001b[0mplt\u001b[0m\u001b[0;34m.\u001b[0m\u001b[0maxhline\u001b[0m\u001b[0;34m(\u001b[0m\u001b[0my\u001b[0m\u001b[0;34m=\u001b[0m\u001b[0;36m5\u001b[0m\u001b[0;34m,\u001b[0m \u001b[0mc\u001b[0m\u001b[0;34m=\u001b[0m\u001b[0;34m'grey'\u001b[0m\u001b[0;34m,\u001b[0m \u001b[0mls\u001b[0m\u001b[0;34m=\u001b[0m\u001b[0;34m'dashed'\u001b[0m\u001b[0;34m,\u001b[0m \u001b[0malpha\u001b[0m\u001b[0;34m=\u001b[0m\u001b[0;36m0.5\u001b[0m\u001b[0;34m)\u001b[0m\u001b[0;34m\u001b[0m\u001b[0m\n\u001b[1;32m      4\u001b[0m \u001b[0mplt\u001b[0m\u001b[0;34m.\u001b[0m\u001b[0maxhline\u001b[0m\u001b[0;34m(\u001b[0m\u001b[0my\u001b[0m\u001b[0;34m=\u001b[0m\u001b[0;36m0\u001b[0m\u001b[0;34m,\u001b[0m \u001b[0mc\u001b[0m\u001b[0;34m=\u001b[0m\u001b[0;34m'grey'\u001b[0m\u001b[0;34m,\u001b[0m \u001b[0malpha\u001b[0m\u001b[0;34m=\u001b[0m\u001b[0;36m0.5\u001b[0m\u001b[0;34m)\u001b[0m\u001b[0;34m\u001b[0m\u001b[0m\n\u001b[1;32m      5\u001b[0m \u001b[0mplt\u001b[0m\u001b[0;34m.\u001b[0m\u001b[0mshow\u001b[0m\u001b[0;34m(\u001b[0m\u001b[0;34m)\u001b[0m\u001b[0;34m\u001b[0m\u001b[0m\n",
      "\u001b[0;32m//anaconda/envs/trend/lib/python3.6/site-packages/pandas/plotting/_core.py\u001b[0m in \u001b[0;36m__call__\u001b[0;34m(self, x, y, kind, ax, subplots, sharex, sharey, layout, figsize, use_index, title, grid, legend, style, logx, logy, loglog, xticks, yticks, xlim, ylim, rot, fontsize, colormap, table, yerr, xerr, secondary_y, sort_columns, **kwds)\u001b[0m\n\u001b[1;32m   2939\u001b[0m                           \u001b[0mfontsize\u001b[0m\u001b[0;34m=\u001b[0m\u001b[0mfontsize\u001b[0m\u001b[0;34m,\u001b[0m \u001b[0mcolormap\u001b[0m\u001b[0;34m=\u001b[0m\u001b[0mcolormap\u001b[0m\u001b[0;34m,\u001b[0m \u001b[0mtable\u001b[0m\u001b[0;34m=\u001b[0m\u001b[0mtable\u001b[0m\u001b[0;34m,\u001b[0m\u001b[0;34m\u001b[0m\u001b[0m\n\u001b[1;32m   2940\u001b[0m                           \u001b[0myerr\u001b[0m\u001b[0;34m=\u001b[0m\u001b[0myerr\u001b[0m\u001b[0;34m,\u001b[0m \u001b[0mxerr\u001b[0m\u001b[0;34m=\u001b[0m\u001b[0mxerr\u001b[0m\u001b[0;34m,\u001b[0m \u001b[0msecondary_y\u001b[0m\u001b[0;34m=\u001b[0m\u001b[0msecondary_y\u001b[0m\u001b[0;34m,\u001b[0m\u001b[0;34m\u001b[0m\u001b[0m\n\u001b[0;32m-> 2941\u001b[0;31m                           sort_columns=sort_columns, **kwds)\n\u001b[0m\u001b[1;32m   2942\u001b[0m     \u001b[0m__call__\u001b[0m\u001b[0;34m.\u001b[0m\u001b[0m__doc__\u001b[0m \u001b[0;34m=\u001b[0m \u001b[0mplot_frame\u001b[0m\u001b[0;34m.\u001b[0m\u001b[0m__doc__\u001b[0m\u001b[0;34m\u001b[0m\u001b[0m\n\u001b[1;32m   2943\u001b[0m \u001b[0;34m\u001b[0m\u001b[0m\n",
      "\u001b[0;32m//anaconda/envs/trend/lib/python3.6/site-packages/pandas/plotting/_core.py\u001b[0m in \u001b[0;36mplot_frame\u001b[0;34m(data, x, y, kind, ax, subplots, sharex, sharey, layout, figsize, use_index, title, grid, legend, style, logx, logy, loglog, xticks, yticks, xlim, ylim, rot, fontsize, colormap, table, yerr, xerr, secondary_y, sort_columns, **kwds)\u001b[0m\n\u001b[1;32m   1975\u001b[0m                  \u001b[0myerr\u001b[0m\u001b[0;34m=\u001b[0m\u001b[0myerr\u001b[0m\u001b[0;34m,\u001b[0m \u001b[0mxerr\u001b[0m\u001b[0;34m=\u001b[0m\u001b[0mxerr\u001b[0m\u001b[0;34m,\u001b[0m\u001b[0;34m\u001b[0m\u001b[0m\n\u001b[1;32m   1976\u001b[0m                  \u001b[0msecondary_y\u001b[0m\u001b[0;34m=\u001b[0m\u001b[0msecondary_y\u001b[0m\u001b[0;34m,\u001b[0m \u001b[0msort_columns\u001b[0m\u001b[0;34m=\u001b[0m\u001b[0msort_columns\u001b[0m\u001b[0;34m,\u001b[0m\u001b[0;34m\u001b[0m\u001b[0m\n\u001b[0;32m-> 1977\u001b[0;31m                  **kwds)\n\u001b[0m\u001b[1;32m   1978\u001b[0m \u001b[0;34m\u001b[0m\u001b[0m\n\u001b[1;32m   1979\u001b[0m \u001b[0;34m\u001b[0m\u001b[0m\n",
      "\u001b[0;32m//anaconda/envs/trend/lib/python3.6/site-packages/pandas/plotting/_core.py\u001b[0m in \u001b[0;36m_plot\u001b[0;34m(data, x, y, subplots, ax, kind, **kwds)\u001b[0m\n\u001b[1;32m   1802\u001b[0m         \u001b[0mplot_obj\u001b[0m \u001b[0;34m=\u001b[0m \u001b[0mklass\u001b[0m\u001b[0;34m(\u001b[0m\u001b[0mdata\u001b[0m\u001b[0;34m,\u001b[0m \u001b[0msubplots\u001b[0m\u001b[0;34m=\u001b[0m\u001b[0msubplots\u001b[0m\u001b[0;34m,\u001b[0m \u001b[0max\u001b[0m\u001b[0;34m=\u001b[0m\u001b[0max\u001b[0m\u001b[0;34m,\u001b[0m \u001b[0mkind\u001b[0m\u001b[0;34m=\u001b[0m\u001b[0mkind\u001b[0m\u001b[0;34m,\u001b[0m \u001b[0;34m**\u001b[0m\u001b[0mkwds\u001b[0m\u001b[0;34m)\u001b[0m\u001b[0;34m\u001b[0m\u001b[0m\n\u001b[1;32m   1803\u001b[0m \u001b[0;34m\u001b[0m\u001b[0m\n\u001b[0;32m-> 1804\u001b[0;31m     \u001b[0mplot_obj\u001b[0m\u001b[0;34m.\u001b[0m\u001b[0mgenerate\u001b[0m\u001b[0;34m(\u001b[0m\u001b[0;34m)\u001b[0m\u001b[0;34m\u001b[0m\u001b[0m\n\u001b[0m\u001b[1;32m   1805\u001b[0m     \u001b[0mplot_obj\u001b[0m\u001b[0;34m.\u001b[0m\u001b[0mdraw\u001b[0m\u001b[0;34m(\u001b[0m\u001b[0;34m)\u001b[0m\u001b[0;34m\u001b[0m\u001b[0m\n\u001b[1;32m   1806\u001b[0m     \u001b[0;32mreturn\u001b[0m \u001b[0mplot_obj\u001b[0m\u001b[0;34m.\u001b[0m\u001b[0mresult\u001b[0m\u001b[0;34m\u001b[0m\u001b[0m\n",
      "\u001b[0;32m//anaconda/envs/trend/lib/python3.6/site-packages/pandas/plotting/_core.py\u001b[0m in \u001b[0;36mgenerate\u001b[0;34m(self)\u001b[0m\n\u001b[1;32m    256\u001b[0m     \u001b[0;32mdef\u001b[0m \u001b[0mgenerate\u001b[0m\u001b[0;34m(\u001b[0m\u001b[0mself\u001b[0m\u001b[0;34m)\u001b[0m\u001b[0;34m:\u001b[0m\u001b[0;34m\u001b[0m\u001b[0m\n\u001b[1;32m    257\u001b[0m         \u001b[0mself\u001b[0m\u001b[0;34m.\u001b[0m\u001b[0m_args_adjust\u001b[0m\u001b[0;34m(\u001b[0m\u001b[0;34m)\u001b[0m\u001b[0;34m\u001b[0m\u001b[0m\n\u001b[0;32m--> 258\u001b[0;31m         \u001b[0mself\u001b[0m\u001b[0;34m.\u001b[0m\u001b[0m_compute_plot_data\u001b[0m\u001b[0;34m(\u001b[0m\u001b[0;34m)\u001b[0m\u001b[0;34m\u001b[0m\u001b[0m\n\u001b[0m\u001b[1;32m    259\u001b[0m         \u001b[0mself\u001b[0m\u001b[0;34m.\u001b[0m\u001b[0m_setup_subplots\u001b[0m\u001b[0;34m(\u001b[0m\u001b[0;34m)\u001b[0m\u001b[0;34m\u001b[0m\u001b[0m\n\u001b[1;32m    260\u001b[0m         \u001b[0mself\u001b[0m\u001b[0;34m.\u001b[0m\u001b[0m_make_plot\u001b[0m\u001b[0;34m(\u001b[0m\u001b[0;34m)\u001b[0m\u001b[0;34m\u001b[0m\u001b[0m\n",
      "\u001b[0;32m//anaconda/envs/trend/lib/python3.6/site-packages/pandas/plotting/_core.py\u001b[0m in \u001b[0;36m_compute_plot_data\u001b[0;34m(self)\u001b[0m\n\u001b[1;32m    371\u001b[0m         \u001b[0;32mif\u001b[0m \u001b[0mis_empty\u001b[0m\u001b[0;34m:\u001b[0m\u001b[0;34m\u001b[0m\u001b[0m\n\u001b[1;32m    372\u001b[0m             raise TypeError('Empty {0!r}: no numeric data to '\n\u001b[0;32m--> 373\u001b[0;31m                             'plot'.format(numeric_data.__class__.__name__))\n\u001b[0m\u001b[1;32m    374\u001b[0m \u001b[0;34m\u001b[0m\u001b[0m\n\u001b[1;32m    375\u001b[0m         \u001b[0mself\u001b[0m\u001b[0;34m.\u001b[0m\u001b[0mdata\u001b[0m \u001b[0;34m=\u001b[0m \u001b[0mnumeric_data\u001b[0m\u001b[0;34m\u001b[0m\u001b[0m\n",
      "\u001b[0;31mTypeError\u001b[0m: Empty 'DataFrame': no numeric data to plot"
     ]
    }
   ],
   "source": [
    "res_df.plot()\n",
    "plt.axhline(y=2, c='grey', ls='dashed', alpha=0.5)\n",
    "plt.axhline(y=5, c='grey', ls='dashed', alpha=0.5)\n",
    "plt.axhline(y=0, c='grey', alpha=0.5)\n",
    "plt.show()"
   ]
  },
  {
   "cell_type": "code",
   "execution_count": 202,
   "metadata": {
    "ExecuteTime": {
     "end_time": "2018-06-29T01:35:47.535742Z",
     "start_time": "2018-06-29T01:35:47.465874Z"
    }
   },
   "outputs": [],
   "source": [
    "loss.backward()"
   ]
  },
  {
   "cell_type": "code",
   "execution_count": 206,
   "metadata": {
    "ExecuteTime": {
     "end_time": "2018-06-29T01:36:06.550781Z",
     "start_time": "2018-06-29T01:36:06.514913Z"
    }
   },
   "outputs": [
    {
     "data": {
      "text/plain": [
       "tensor(95621.9554, dtype=torch.float64)"
      ]
     },
     "execution_count": 206,
     "metadata": {},
     "output_type": "execute_result"
    }
   ],
   "source": [
    "a_t.grad"
   ]
  },
  {
   "cell_type": "markdown",
   "metadata": {},
   "source": [
    "## Exponential Smoothing Trading system "
   ]
  },
  {
   "cell_type": "code",
   "execution_count": 47,
   "metadata": {
    "ExecuteTime": {
     "end_time": "2018-06-29T00:52:55.691680Z",
     "start_time": "2018-06-29T00:52:55.474187Z"
    }
   },
   "outputs": [],
   "source": [
    "price = pd.read_csv(filepath_or_buffer='test/Seykota GC----C.csv', header=None,\n",
    "           names=['Date', 'Open', 'High', 'Low', 'Close', 'Volume', 'Open_Interest'], \n",
    "           index_col=0)\n",
    "\n",
    "price.index = [datetime.strptime(str(i), '%Y%m%d') for i in price.index.values]\n",
    "y = np.random.randn(len(price))"
   ]
  },
  {
   "cell_type": "code",
   "execution_count": null,
   "metadata": {
    "ExecuteTime": {
     "end_time": "2018-06-28T22:47:06.629518Z",
     "start_time": "2018-06-28T22:47:06.535977Z"
    },
    "code_folding": [
     0
    ]
   },
   "outputs": [],
   "source": [
    "class Trading_Strategy:\n",
    "    \"\"\"\n",
    "    Class that performs a trading strategy on a single asset.\n",
    "    \"\"\"\n",
    "    \n",
    "    def __init__(self, prices, equity=100, heat=0.05, position_step=100, name='', **kwargs):\n",
    "        \"\"\"\n",
    "        Defines the initial state and hyper parameters of the trading strategy.\n",
    "        \n",
    "        Parameters\n",
    "        ----------\n",
    "        prices: DataFrame with columns Date, Open, High, Low, Close\n",
    "        equity: Initial equity to invest in the asset.\n",
    "        heat: Proportion of the equity that one is willing to risk.\n",
    "        position_step: Minimum steps in position' sizes\n",
    "        name: Name of the asset for plotting purposes.\n",
    "        \"\"\"\n",
    "        self.dates = prices.index\n",
    "        self.first_trading_day = None\n",
    "        self.last_trading_day = None\n",
    "        self.prices_df = prices\n",
    "        self.prices = {s: prices[s].values for s in list(prices.keys())}\n",
    "        self.heat = heat\n",
    "        self.position_step = position_step\n",
    "        self.name = name\n",
    "        self.today_prices = None\n",
    "        \n",
    "        self.equity = {'Available_Balance': torch.ones(len(self.dates), dtype=torch.float64) * equity,\n",
    "                       'Closing_Balance': torch.ones(len(self.dates), dtype=torch.float64) * equity,\n",
    "                       'Position': torch.zeros(len(self.dates), dtype=torch.float64),\n",
    "                       'Open_Profit': torch.zeros(len(self.dates), dtype=torch.float64),\n",
    "                       'Position_Value': torch.zeros(len(self.dates), dtype=torch.float64),\n",
    "                       'Equity': torch.ones(len(self.dates), dtype=torch.float64) * equity}\n",
    "        \n",
    "        self.orders = {'buy_stop': torch.zeros(len(self.dates), dtype=torch.float64) * np.nan,\n",
    "                       'sell_stop': torch.zeros(len(self.dates), dtype=torch.float64) * np.nan,\n",
    "                       'protective_buy': torch.zeros(len(self.dates), dtype=torch.float64) * np.nan,\n",
    "                       'protective_sell': torch.zeros(len(self.dates), dtype=torch.float64) * np.nan,\n",
    "                       'risk_per_lot': torch.zeros(len(self.dates), dtype=torch.float64) * np.nan,\n",
    "                       'amount': torch.zeros(len(self.dates), dtype=torch.float64) * np.nan}\n",
    "        \n",
    "        self.trades = []\n",
    "        self.max_drawdown = 0\n",
    "        self.performance = {}\n",
    "        \n",
    "        self.init_state(**kwargs)\n",
    "    \n",
    "    \n",
    "    def init_state(self):\n",
    "        pass\n",
    "    \n",
    "    \n",
    "    def update_state(self, today_i):\n",
    "        \"\"\"\n",
    "        Updates the state as of market close from today_i - 1, for determining orders before market openas today_i.\n",
    "        \"\"\"\n",
    "        pass\n",
    "    \n",
    "    \n",
    "    def orders_before_trading_starts(self, today_i):\n",
    "        \"\"\"\n",
    "        Computes the orders for the day (today).\n",
    "        \n",
    "        Parameters\n",
    "        ----------\n",
    "        prices : a prices data frame with a Date index and columns: Open, High, Low, Close, Volume.\n",
    "            Prices until today only for accessing current date.\n",
    "        prev_day_position : position in the asset at the end of yesterday.\n",
    "        \"\"\"\n",
    "        self.entry_order_prices(today_i)\n",
    "        self.protective_order_prices(today_i)\n",
    "        self.order_amounts(today_i)\n",
    "    \n",
    "    \n",
    "    def entry_order_prices(self, today_i):\n",
    "        \"\"\"\n",
    "        Computes the entry orders for the day (today) according to a Support and Resistance system.\n",
    "        \"\"\"\n",
    "        pass\n",
    "    \n",
    "    \n",
    "    def protective_order_prices(self, today_i):\n",
    "        \"\"\"\n",
    "        Computes the protective orders for the day (today) according to a Support and Resistance system.\n",
    "        \"\"\"\n",
    "        pass\n",
    "    \n",
    "    \n",
    "    def order_amounts(self, today_i):\n",
    "        \"\"\"\n",
    "        Sets the order amounts for the day\n",
    "        \"\"\"\n",
    "        equity_to_risk = self.equity['Available_Balance'][today_i - 1] * self.heat\n",
    "\n",
    "        if self.orders['buy_stop'][today_i] > 0 and self.orders['protective_sell'][today_i] > 0:\n",
    "            self.orders['risk_per_lot'][today_i] = self.orders['buy_stop'][today_i] - \\\n",
    "                self.orders['protective_sell'][today_i] + 1e-12\n",
    "            self.orders['amount'][today_i] = self.position_step * \\\n",
    "                    torch.round((1e-8 + equity_to_risk / self.orders['risk_per_lot'][today_i]) / self.position_step)\n",
    "        \n",
    "        elif self.orders['sell_stop'][today_i] > 0 and self.orders['protective_buy'][today_i] > 0:\n",
    "            self.orders['risk_per_lot'][today_i] = self.orders['protective_buy'][today_i] - \\\n",
    "                self.orders['sell_stop'][today_i] + 1e-12\n",
    "            self.orders['amount'][today_i] = - self.position_step * \\\n",
    "                torch.round((1e-8 + equity_to_risk / self.orders['risk_per_lot'][today_i]) / self.position_step)\n",
    "        else:\n",
    "            pass\n",
    "    \n",
    "    \n",
    "    def excecute_orders(self, today_i, skid=0.5):\n",
    "        \"\"\"\n",
    "        Excecutes orders during the day.\n",
    "        \"\"\"\n",
    "        \n",
    "        position = self.equity['Position'][today_i - 1]  # previous day's position\n",
    "        balance = self.equity['Available_Balance'][today_i - 1]  # previous day's balance\n",
    "        o = {k: self.orders[k][today_i] for k in self.orders.keys()}  # orders for the day\n",
    "        tp = self.today_prices\n",
    "\n",
    "        if position == 0:  # Enter the market.\n",
    "\n",
    "            if not np.isnan(o['buy_stop'].detach()) and not np.isnan(o['protective_sell'].detach()) and \\\n",
    "                o['buy_stop'] > o['protective_sell'] and tp['High'] > o['buy_stop']:\n",
    "                \n",
    "                buy_price = tp['High'] - skid * (tp['High'] - max(tp['Open'], tp['Low'], o['buy_stop']))\n",
    "                trade = {'Date': self.dates[today_i],\n",
    "                         'Price': buy_price,\n",
    "                         'Amount': min(o['amount'], balance)}\n",
    "                position += o['amount']\n",
    "                balance -= o['amount'] * buy_price\n",
    "                self.trades.append(trade)\n",
    "\n",
    "\n",
    "            elif not np.isnan(o['sell_stop'].detach()) and not np.isnan(o['protective_buy'].detach()) and \\\n",
    "                o['sell_stop'] < o['protective_buy'] and tp['Low'] < o['sell_stop']:\n",
    "                \n",
    "                sell_price = tp['Low'] + skid * (min(tp['Open'], tp['High'], o['sell_stop']) - tp['Low'])\n",
    "                trade = {'Date': self.dates[today_i],\n",
    "                         'Price': sell_price,\n",
    "                         'Amount': max(o['amount'], -balance)}  # o['amount'] < 0\n",
    "                position += o['amount']\n",
    "                balance -= o['amount'] * sell_price\n",
    "                self.trades.append(trade)\n",
    "\n",
    "        if position != 0:  # Close positions.\n",
    "\n",
    "            if not np.isnan(o['protective_buy'].detach()) and tp['High'] > o['protective_buy']:\n",
    "                \n",
    "                buy_price = tp['High'] - skid * (tp['High'] - max(tp['Open'], tp['Low'], o['protective_buy']))\n",
    "                amount = max(-position, 0)\n",
    "                trade = {'Date': self.dates[today_i],\n",
    "                         'Price': buy_price,\n",
    "                         'Amount': amount}\n",
    "                position += amount\n",
    "                balance -= amount * buy_price\n",
    "                self.trades.append(trade)\n",
    "\n",
    "            if not np.isnan(o['protective_sell'].detach()) and tp['Low'] < o['protective_sell']:\n",
    "                \n",
    "                sell_price = tp['Low'] + skid * (min(tp['Open'], tp['High'], o['protective_sell']) - tp['Low'])\n",
    "                amount = min(-position, 0)\n",
    "                trade = {'Date': self.dates[today_i],\n",
    "                         'Price': sell_price,\n",
    "                         'Amount': amount}\n",
    "                position += amount\n",
    "                balance -= amount * sell_price\n",
    "                self.trades.append(trade)\n",
    "\n",
    "        if self.dates[today_i] == self.dates[-1] and position != 0:  # Last day\n",
    "            \n",
    "            if position > 0:\n",
    "                \n",
    "                sell_price = tp['Low'] + skid * (min(tp['Open'], tp['Close'], tp['High']) - tp['Low'])\n",
    "                amount = min(-position, 0)\n",
    "                trade = {'Date': self.dates[today_i],\n",
    "                         'Price': sell_price,\n",
    "                         'Amount': amount}\n",
    "                position += amount\n",
    "                balance -= amount * sell_price\n",
    "                self.trades.append(trade)\n",
    "                \n",
    "            else:  # position < 0\n",
    "                \n",
    "                buy_price = tp['High'] - skid * (tp['High'] - max(tp['Open'], tp['Close'], tp['Low']))\n",
    "                amount = max(-position, 0)\n",
    "                trade = {'Date': self.dates[today_i],\n",
    "                         'Price': buy_price,\n",
    "                         'Amount': amount}\n",
    "                position += amount\n",
    "                balance -= amount * buy_price\n",
    "                self.trades.append(trade)\n",
    "\n",
    "        if position != 0:\n",
    "            open_profit = position * (tp['Close'] - self.trades[-1]['Price'])\n",
    "        else:\n",
    "            open_profit = 0\n",
    "\n",
    "        if self.equity['Position'][today_i - 1] != 0 and position == 0:\n",
    "            closing_balance = balance\n",
    "        else:\n",
    "            closing_balance = self.equity['Closing_Balance'][today_i - 1]\n",
    "\n",
    "\n",
    "        \n",
    "        self.equity['Available_Balance'][today_i] = balance\n",
    "        self.equity['Closing_Balance'][today_i] = closing_balance\n",
    "        self.equity['Position'][today_i] = position\n",
    "        self.equity['Open_Profit'][today_i] = open_profit\n",
    "        self.equity['Position_Value'][today_i] = position * tp['Close']\n",
    "        self.equity['Equity'][today_i] = balance + position * tp['Close']\n",
    "    \n",
    "    \n",
    "    \n",
    "    \n",
    "    def excecute(self, warmup=25, end=None, skid=0.5):\n",
    "        \"\"\"\n",
    "        Excecutes the trading strategy and computes its performance measures.\n",
    "        \n",
    "        Parameters\n",
    "        ----------\n",
    "        warmup: warmup period in days or a proportion from 0 to 1.\n",
    "        end: either a datetime or a proportion from 0 to 1 (all sample).\n",
    "        \"\"\"\n",
    "        peak = self.equity['Equity'][0]\n",
    "        low = peak\n",
    "        drawdown = 0\n",
    "        max_drawdown = 0\n",
    "        \n",
    "        if end is None:\n",
    "            end = self.dates[-1]\n",
    "        elif type(end) == float:\n",
    "            end = self.dates[int(len(self.dates) * end)]\n",
    "        \n",
    "        \n",
    "        if warmup < 1:\n",
    "            warmup = int(len(self.dates) * warmup)\n",
    "            \n",
    "        self.first_trading_day = self.dates[warmup]\n",
    "        self.last_trading_day = end\n",
    "        \n",
    "        for i in range(1, len(self.dates)):\n",
    "            self.today_prices = {k: self.prices[k][i] for k in self.prices.keys()}\n",
    "            self.update_state(i)\n",
    "            if i >= warmup:\n",
    "                self.orders_before_trading_starts(i)\n",
    "                self.excecute_orders(i, skid)\n",
    "                \n",
    "                # Max drawdown\n",
    "                if self.equity['Equity'][i] > peak:\n",
    "                    peak = self.equity['Equity'][i]\n",
    "                    low = peak\n",
    "                if self.equity['Equity'][i] < low:\n",
    "                    low = self.equity['Equity'][i]\n",
    "                    drawdown = low / peak - 1\n",
    "                max_drawdown = min(drawdown, max_drawdown)\n",
    "                \n",
    "            if self.dates[i] > end:\n",
    "                self.equity['Available_Balance'][i] = self.equity['Available_Balance'][i - 1]\n",
    "                self.equity['Closing_Balance'][i] = self.equity['Closing_Balance'][i - 1]\n",
    "                self.equity['Position'][i] = self.equity['Position'][i - 1]\n",
    "                self.equity['Open_Profit'][i] =  self.equity['Position'][i] * \\\n",
    "                    (self.prices['Close'][i] - self.trades[-1]['Price'])\n",
    "                self.equity['Position_Value'][i] = self.equity['Position'][i] * self.prices['Close'][i]\n",
    "                self.equity['Equity'][i] = self.equity['Equity'][i - 1]\n",
    "        \n",
    "        self.max_drawdown = max_drawdown\n",
    "        self.compute_performance()\n",
    "    \n",
    "    \n",
    "    def compute_performance(self):\n",
    "        \"\"\"\n",
    "        Computes performance indicators for the trading strategy.\n",
    "        \"\"\"\n",
    "        \n",
    "        self.performance['Years'] = (self.last_trading_day - self.first_trading_day).days / 364.25\n",
    "        self.performance['Ratio'] = self.equity['Equity'][-1] / self.equity['Equity'][0]\n",
    "        # Instantaneously Compounding Annual Gain\n",
    "        self.performance['ICAGR'] = torch.log(self.performance['Ratio']) / self.performance['Years']\n",
    "        self.performance['Max_Drawdown'] = -self.max_drawdown\n",
    "        # How Often the System Earns Back its Biggest Drawdown\n",
    "        self.performance['Bliss'] = self.performance['ICAGR'] / self.performance['Max_Drawdown']\n",
    "        \n",
    "        eqty = self.equity['Equity'][np.where(self.dates > self.first_trading_day)]\n",
    "        self.performance['Volatility'] = torch.std(torch.log(eqty[1:] / eqty[:-1])) * np.sqrt(364.25)\n",
    "        \n",
    "        # Lake Ratio (see http://www.seykota.com/tribe/risk/index.htm)\n",
    "        lake_bottom = Series(eqty.detach()) / self.equity['Equity'][1].detach()\n",
    "        lake_surface = lake_bottom.cummax()\n",
    "\n",
    "        earth = np.trapz(lake_bottom.values)\n",
    "        water = np.trapz(lake_surface - lake_bottom)\n",
    "        self.performance['Lake_Ratio'] = water / earth\n",
    "        \n",
    "        earth0 = np.trapz(lake_bottom.values - 1)\n",
    "        self.performance['Sea_Ratio'] = water / earth0\n",
    "    \n",
    "    \n",
    "    \n",
    "    def get_prices(self):\n",
    "        return self.prices_df\n",
    "    \n",
    "    \n",
    "    def get_state(self):\n",
    "        if not any([i == 'state_df' for i in dir(self)]):\n",
    "            self.state_df = DataFrame(self.state, index=self.dates).iloc[:-1]\n",
    "        return self.state_df\n",
    "    \n",
    "    \n",
    "    def get_orders(self):\n",
    "        if not any([i == 'orders_df' for i in dir(self)]):\n",
    "            self.orders_df = DataFrame(self.orders, index=self.dates)\n",
    "        return self.orders_df\n",
    "    \n",
    "    \n",
    "    def get_trades(self):\n",
    "        if not any([i == 'trades_df' for i in dir(self)]):\n",
    "            self.trades_df = dict_list_to_DataFrame(self.trades).set_index('Date')\n",
    "        return self.trades_df\n",
    "    \n",
    "    \n",
    "    def get_equity(self):\n",
    "        if not any([i == 'equity_df' for i in dir(self)]):\n",
    "            self.equity_df =DataFrame(self.equity, index=self.dates)\n",
    "        return self.equity_df\n",
    "    \n",
    "    \n",
    "    \n",
    "    def plot_prices(self):\n",
    "        fig, ax = pyplot.subplots()\n",
    "        ax.plot(self.prices_df.Open)\n",
    "        ax.plot(self.prices_df.High)\n",
    "        ax.plot(self.prices_df.Low)\n",
    "        ax.plot(self.prices_df.Close)\n",
    "        ax.axhline(0, color='grey', lw=2, alpha=0.75)\n",
    "        ax.set_title(self.name)\n",
    "        ax.legend()\n",
    "    \n",
    "    \n",
    "    def plot_state(self):\n",
    "        x = pandas.merge(self.prices_df[['Open', 'High', 'Low', 'Close']],\n",
    "                         self.get_state(), left_index=True, right_index=True, how='outer')\n",
    "        x.plot()\n",
    "    \n",
    "    \n",
    "    def plot_equity(self):\n",
    "        x = pandas.merge(self.get_equity(), self.get_state(), left_index=True, right_index=True, how = 'outer')\n",
    "        tit = self.name + ', '\n",
    "        tit += 'heat: ' + str(self.heat) + '.\\n'\n",
    "        tit += 'Initial Equity: ' + str(int(self.equity['Equity'][0]))\n",
    "        tit += ', Ending Equity: ' + str(int(self.equity['Equity'][-1])) + ', '\n",
    "        tit += 'Total Return: ' + str(int(10000 * self.equity['Equity'][-1] / self.equity['Equity'][1] - 1) / 100) + '%.\\n'\n",
    "#         tit += 'ICAGR: ' + str(int(10000 * self.performance['ICAGR']) / 100) + '%.\\n'\n",
    "#         tit += 'Volatility: ' + str(int(10000 * self.performance['Volatility']) / 100) + '%, '\n",
    "        tit += 'Lake Ratio: ' + str(int(10000 * self.performance['Lake_Ratio']) / 100) + '%, '\n",
    "        tit += 'Max. Drawdown: ' + str(int(10000* self.performance['Max_Drawdown']) / 100) + '%, '\n",
    "#         tit += 'Bliss: ' + str(torch.round(364.25 * self.performance['Bliss'], 1)) + ' days.'\n",
    "        pal = pyplot.get_cmap('Paired').colors\n",
    "        fig, ax = pyplot.subplots()\n",
    "        trans = matplotlib.transforms.blended_transform_factory(ax.transData, ax.transAxes)\n",
    "        ax.fill_between(x.index, 0, x.Equity.max(), where= x.Trend > 0, facecolor=pal[0],\n",
    "                        alpha=0.25, transform=trans, label='Trend up')\n",
    "        ax.fill_between(x.index, 0, x.Equity.max(), where= x.Trend < 0, facecolor=pal[4],\n",
    "                        alpha=0.25, transform=trans, label='Trend down')\n",
    "        ax.plot(x.index, x.Equity)\n",
    "        ax.plot(x.index, x.Closing_Balance)\n",
    "        ax.axhline(0, color='grey', lw=2, alpha=0.75)\n",
    "        ax.set_title(tit)\n",
    "        ax.legend()\n",
    "    \n",
    "    \n",
    "    def plot_lake_ratio(self):\n",
    "        \"\"\"\n",
    "        Illustrates the computation of the lake ratio.\n",
    "        See http://www.seykota.com/tribe/risk/index.htm\n",
    "        \"\"\"\n",
    "        eqty = self.equity['Equity'][self.dates > self.first_trading_day]\n",
    "        lake_bottom = Series(eqty) / self.equity['Equity'][1]\n",
    "        lake_surface = lake_bottom.cummax()\n",
    "        fig, ax = pyplot.subplots()\n",
    "        ax.fill_between(lake_bottom.index, y1 = lake_bottom, y2 = lake_surface, alpha=0.5)\n",
    "        ax.fill_between(lake_bottom.index, y1 = 0, y2 = lake_bottom, alpha=0.5)\n",
    "        ax.axhline(1, color='grey', lw=2, alpha=0.75)\n",
    "        ax.axhline(0, color='grey', lw=2, alpha=0.75)\n",
    "        ax.plot(lake_bottom)\n",
    "        tit = 'Lake Ratio: ' + str(int(10000 * self.performance['Lake_Ratio']) / 100) + '%'\n",
    "        tit += ', Sea Ratio (areas over 1): ' + str(int(10000 * self.performance['Sea_Ratio']) / 100) + '%.'\n",
    "        ax.set_title(tit)"
   ]
  },
  {
   "cell_type": "code",
   "execution_count": 82,
   "metadata": {
    "ExecuteTime": {
     "end_time": "2018-06-29T00:58:56.955955Z",
     "start_time": "2018-06-29T00:58:56.915777Z"
    },
    "code_folding": [
     0,
     31,
     50
    ]
   },
   "outputs": [],
   "source": [
    "class ES1_Trading_Strategy_torch(Trading_Strategy):\n",
    "    \"\"\"\n",
    "    Implements a simple exponential smoothing trading system.\n",
    "    \"\"\"\n",
    "    def init_state(self, a=0.1):\n",
    "        \"\"\"\n",
    "        Parameters\n",
    "        ----------\n",
    "        a: exponential smoothing constant between 0 and 1. S_t = a * P_t + (1 - a) * S_t-1\n",
    "        \"\"\"\n",
    "\n",
    "        self.state = {'esa': torch.from_numpy(np.zeros(len(self.dates))),\n",
    "                      'Trend': torch.from_numpy(np.zeros(len(self.dates)))}\n",
    "        self.prices = {s: torch.from_numpy(self.prices[s]) for s in list(self.prices.keys())}\n",
    "        self.a = torch.tensor(min(max(a, 0), 1), dtype=torch.float64, requires_grad=True)\n",
    "        \n",
    "    \n",
    "    \n",
    "    def update_state(self, today_i):\n",
    "        \"\"\"\n",
    "        Updates the Resistance, Support, and Trend variables.\n",
    "        \"\"\"\n",
    "        if today_i == 1:\n",
    "            self.state['esa'][0].add_(self.prices['Close'][0])\n",
    "            self.state['Trend'][0] = 0\n",
    "        else:      \n",
    "            self.state['esa'][today_i - 1].add_(self.a.clone() * self.prices['Close'][today_i - 1] + \\\n",
    "                (1 - self.a.clone()) * self.state['esa'][today_i - 2])\n",
    "            self.state['Trend'][today_i - 1] = torch.sign(self.prices['Close'][today_i - 1] - self.state['esa'][today_i - 1])\n",
    "    \n",
    "    \n",
    "    def entry_order_prices(self, today_i):\n",
    "        \"\"\"\n",
    "        Computes the entry orders for the day (today).\n",
    "        \"\"\"\n",
    "        prev_day_position = self.equity['Position'][today_i - 1]\n",
    "        state = {k: self.state[k][today_i - 1] for k in self.state.keys()}\n",
    "        \n",
    "        if prev_day_position == 0:\n",
    "            if state['Trend'] == 1:\n",
    "                self.orders['buy_stop'][today_i] = self.prices['High'][today_i - 1]\n",
    "            elif state['Trend'] == -1:\n",
    "                self.orders['sell_stop'][today_i] = self.prices['Low'][today_i - 1]\n",
    "            else:\n",
    "                pass\n",
    "        else:\n",
    "            pass\n",
    "    \n",
    "    \n",
    "    \n",
    "    def protective_order_prices(self, today_i):\n",
    "        \"\"\"\n",
    "        Computes the protective orders for the day (today) according to a Support and Resistance system.\n",
    "        \"\"\"\n",
    "        state = {k: self.state[k][today_i - 1] for k in self.state.keys()}\n",
    "        prev_day_position = self.equity['Position'][today_i - 1]\n",
    "        \n",
    "        if self.orders['buy_stop'][today_i] > 0 or prev_day_position > 0:\n",
    "            self.orders['protective_sell'][today_i] = state['esa']\n",
    "            \n",
    "        elif self.orders['sell_stop'][today_i] > 0 or prev_day_position < 0:\n",
    "            self.orders['protective_buy'][today_i] = state['esa']\n",
    "            \n",
    "        else:\n",
    "            pass"
   ]
  },
  {
   "cell_type": "code",
   "execution_count": 83,
   "metadata": {
    "ExecuteTime": {
     "end_time": "2018-06-29T00:58:57.791665Z",
     "start_time": "2018-06-29T00:58:57.730202Z"
    },
    "code_folding": [
     0
    ]
   },
   "outputs": [],
   "source": [
    "es1 = ES1_Trading_Strategy_torch(price, equity=1e6, position_step=1e2,\n",
    "                           a=0.3, name='Comex Gold')"
   ]
  },
  {
   "cell_type": "code",
   "execution_count": 84,
   "metadata": {
    "ExecuteTime": {
     "end_time": "2018-06-29T00:58:58.516939Z",
     "start_time": "2018-06-29T00:58:58.338389Z"
    }
   },
   "outputs": [
    {
     "name": "stdout",
     "output_type": "stream",
     "text": [
      "tensor(0.3000, dtype=torch.float64)\n",
      "tensor([ 0.,  0.,  0.,  ...,  0.,  0.,  0.], dtype=torch.float64)\n",
      "{'Open': tensor([  762.3000,   752.9000,   742.4000,  ...,   470.2000,\n",
      "          466.4000,   469.5000], dtype=torch.float64), 'High': tensor([  762.3000,   754.4000,   745.4000,  ...,   470.2000,\n",
      "          470.5000,   470.9000], dtype=torch.float64), 'Low': tensor([  752.6000,   742.9000,   739.4000,  ...,   464.3000,\n",
      "          462.3000,   461.2000], dtype=torch.float64), 'Close': tensor([  754.6000,   745.1000,   744.4000,  ...,   467.2000,\n",
      "          469.5000,   466.2000], dtype=torch.float64), 'Volume': tensor([ 1.2150e+03,  1.7210e+03,  1.1080e+03,  ...,  5.5002e+04,\n",
      "         6.1123e+04,  0.0000e+00]), 'Open_Interest': tensor([ 7.1100e+02,  1.3090e+03,  1.5510e+03,  ...,  2.8849e+05,\n",
      "         2.9562e+05,  0.0000e+00])}\n",
      "{'buy_stop': array([nan, nan, nan, ..., nan, nan, nan]), 'sell_stop': array([nan, nan, nan, ..., nan, nan, nan]), 'protective_buy': array([nan, nan, nan, ..., nan, nan, nan]), 'protective_sell': array([nan, nan, nan, ..., nan, nan, nan]), 'risk_per_lot': array([nan, nan, nan, ..., nan, nan, nan]), 'amount': array([nan, nan, nan, ..., nan, nan, nan])}\n"
     ]
    }
   ],
   "source": [
    "print(es1.a)\n",
    "print(es1.state['esa'])\n",
    "print(es1.prices)\n",
    "print(es1.orders)"
   ]
  },
  {
   "cell_type": "code",
   "execution_count": 85,
   "metadata": {
    "ExecuteTime": {
     "end_time": "2018-06-29T00:58:59.216379Z",
     "start_time": "2018-06-29T00:58:58.763644Z"
    }
   },
   "outputs": [],
   "source": [
    "for i in range(len(price)):\n",
    "    es1.update_state(i)"
   ]
  },
  {
   "cell_type": "code",
   "execution_count": 86,
   "metadata": {
    "ExecuteTime": {
     "end_time": "2018-06-29T00:59:00.240151Z",
     "start_time": "2018-06-29T00:59:00.202071Z"
    }
   },
   "outputs": [],
   "source": [
    "loss = torch.sum((es1.state['esa'][:10] - torch.from_numpy(y[:10]))**2)"
   ]
  },
  {
   "cell_type": "code",
   "execution_count": 87,
   "metadata": {
    "ExecuteTime": {
     "end_time": "2018-06-29T00:59:01.104437Z",
     "start_time": "2018-06-29T00:59:00.971731Z"
    }
   },
   "outputs": [
    {
     "ename": "RuntimeError",
     "evalue": "one of the variables needed for gradient computation has been modified by an inplace operation",
     "output_type": "error",
     "traceback": [
      "\u001b[0;31m---------------------------------------------------------------------------\u001b[0m",
      "\u001b[0;31mRuntimeError\u001b[0m                              Traceback (most recent call last)",
      "\u001b[0;32m<ipython-input-87-52a0569421b1>\u001b[0m in \u001b[0;36m<module>\u001b[0;34m()\u001b[0m\n\u001b[0;32m----> 1\u001b[0;31m \u001b[0mloss\u001b[0m\u001b[0;34m.\u001b[0m\u001b[0mbackward\u001b[0m\u001b[0;34m(\u001b[0m\u001b[0;34m)\u001b[0m\u001b[0;34m\u001b[0m\u001b[0m\n\u001b[0m",
      "\u001b[0;32m//anaconda/envs/trend/lib/python3.6/site-packages/torch/tensor.py\u001b[0m in \u001b[0;36mbackward\u001b[0;34m(self, gradient, retain_graph, create_graph)\u001b[0m\n\u001b[1;32m     91\u001b[0m                 \u001b[0mproducts\u001b[0m\u001b[0;34m.\u001b[0m \u001b[0mDefaults\u001b[0m \u001b[0mto\u001b[0m\u001b[0;31m \u001b[0m\u001b[0;31m`\u001b[0m\u001b[0;31m`\u001b[0m\u001b[0;32mFalse\u001b[0m\u001b[0;31m`\u001b[0m\u001b[0;31m`\u001b[0m\u001b[0;34m.\u001b[0m\u001b[0;34m\u001b[0m\u001b[0m\n\u001b[1;32m     92\u001b[0m         \"\"\"\n\u001b[0;32m---> 93\u001b[0;31m         \u001b[0mtorch\u001b[0m\u001b[0;34m.\u001b[0m\u001b[0mautograd\u001b[0m\u001b[0;34m.\u001b[0m\u001b[0mbackward\u001b[0m\u001b[0;34m(\u001b[0m\u001b[0mself\u001b[0m\u001b[0;34m,\u001b[0m \u001b[0mgradient\u001b[0m\u001b[0;34m,\u001b[0m \u001b[0mretain_graph\u001b[0m\u001b[0;34m,\u001b[0m \u001b[0mcreate_graph\u001b[0m\u001b[0;34m)\u001b[0m\u001b[0;34m\u001b[0m\u001b[0m\n\u001b[0m\u001b[1;32m     94\u001b[0m \u001b[0;34m\u001b[0m\u001b[0m\n\u001b[1;32m     95\u001b[0m     \u001b[0;32mdef\u001b[0m \u001b[0mregister_hook\u001b[0m\u001b[0;34m(\u001b[0m\u001b[0mself\u001b[0m\u001b[0;34m,\u001b[0m \u001b[0mhook\u001b[0m\u001b[0;34m)\u001b[0m\u001b[0;34m:\u001b[0m\u001b[0;34m\u001b[0m\u001b[0m\n",
      "\u001b[0;32m//anaconda/envs/trend/lib/python3.6/site-packages/torch/autograd/__init__.py\u001b[0m in \u001b[0;36mbackward\u001b[0;34m(tensors, grad_tensors, retain_graph, create_graph, grad_variables)\u001b[0m\n\u001b[1;32m     87\u001b[0m     Variable._execution_engine.run_backward(\n\u001b[1;32m     88\u001b[0m         \u001b[0mtensors\u001b[0m\u001b[0;34m,\u001b[0m \u001b[0mgrad_tensors\u001b[0m\u001b[0;34m,\u001b[0m \u001b[0mretain_graph\u001b[0m\u001b[0;34m,\u001b[0m \u001b[0mcreate_graph\u001b[0m\u001b[0;34m,\u001b[0m\u001b[0;34m\u001b[0m\u001b[0m\n\u001b[0;32m---> 89\u001b[0;31m         allow_unreachable=True)  # allow_unreachable flag\n\u001b[0m\u001b[1;32m     90\u001b[0m \u001b[0;34m\u001b[0m\u001b[0m\n\u001b[1;32m     91\u001b[0m \u001b[0;34m\u001b[0m\u001b[0m\n",
      "\u001b[0;31mRuntimeError\u001b[0m: one of the variables needed for gradient computation has been modified by an inplace operation"
     ]
    }
   ],
   "source": [
    "loss.backward()"
   ]
  },
  {
   "cell_type": "code",
   "execution_count": null,
   "metadata": {},
   "outputs": [],
   "source": []
  },
  {
   "cell_type": "code",
   "execution_count": 39,
   "metadata": {
    "ExecuteTime": {
     "end_time": "2018-06-29T00:49:28.329635Z",
     "start_time": "2018-06-29T00:49:25.826621Z"
    }
   },
   "outputs": [
    {
     "name": "stderr",
     "output_type": "stream",
     "text": [
      "/Users/juanpabloacosta/GitHub/trend-following/trading_strategies.py:297: RuntimeWarning: invalid value encountered in log\n",
      "  self.performance['Volatility'] = numpy.std(numpy.log(eqty[1:] / eqty[:-1])) * numpy.sqrt(364.25)\n"
     ]
    }
   ],
   "source": [
    "es1.excecute()"
   ]
  },
  {
   "cell_type": "code",
   "execution_count": null,
   "metadata": {
    "ExecuteTime": {
     "end_time": "2018-06-28T22:47:25.085615Z",
     "start_time": "2018-06-28T22:47:25.019815Z"
    }
   },
   "outputs": [],
   "source": [
    "es1.performance['Ratio'].requires_grad"
   ]
  },
  {
   "cell_type": "code",
   "execution_count": null,
   "metadata": {
    "ExecuteTime": {
     "end_time": "2018-06-28T22:49:59.182029Z",
     "start_time": "2018-06-28T22:49:58.860788Z"
    }
   },
   "outputs": [],
   "source": [
    "# See https://discuss.pytorch.org/t/encounter-the-runtimeerror-one-of-the-variables-needed-for-gradient-computation-has-been-modified-by-an-inplace-operation/836\n",
    "es1.performance['Ratio'].backward()"
   ]
  },
  {
   "cell_type": "code",
   "execution_count": null,
   "metadata": {},
   "outputs": [],
   "source": []
  }
 ],
 "metadata": {
  "kernelspec": {
   "display_name": "Python 3",
   "language": "python",
   "name": "python3"
  },
  "language_info": {
   "codemirror_mode": {
    "name": "ipython",
    "version": 3
   },
   "file_extension": ".py",
   "mimetype": "text/x-python",
   "name": "python",
   "nbconvert_exporter": "python",
   "pygments_lexer": "ipython3",
   "version": "3.6.5"
  },
  "toc": {
   "base_numbering": 1,
   "nav_menu": {},
   "number_sections": true,
   "sideBar": true,
   "skip_h1_title": false,
   "title_cell": "Table of Contents",
   "title_sidebar": "Contents",
   "toc_cell": false,
   "toc_position": {},
   "toc_section_display": true,
   "toc_window_display": false
  }
 },
 "nbformat": 4,
 "nbformat_minor": 2
}
