{
 "cells": [
  {
   "cell_type": "code",
   "execution_count": 1,
   "metadata": {
    "ExecuteTime": {
<<<<<<< HEAD
     "end_time": "2018-07-30T21:30:23.999970Z",
     "start_time": "2018-07-30T21:30:23.767551Z"
=======
     "end_time": "2018-07-30T20:59:31.343049Z",
     "start_time": "2018-07-30T20:59:31.112239Z"
>>>>>>> c64c1452452931607088e2b598aacb87b87ec7a9
    }
   },
   "outputs": [],
   "source": [
    "%matplotlib inline"
   ]
  },
  {
   "cell_type": "code",
   "execution_count": 2,
   "metadata": {
    "ExecuteTime": {
<<<<<<< HEAD
     "end_time": "2018-07-30T21:30:24.125633Z",
     "start_time": "2018-07-30T21:30:24.000927Z"
=======
     "end_time": "2018-07-30T20:59:32.716903Z",
     "start_time": "2018-07-30T20:59:32.507379Z"
>>>>>>> c64c1452452931607088e2b598aacb87b87ec7a9
    }
   },
   "outputs": [],
   "source": [
    "from __future__ import print_function\n",
    "import torch\n",
    "import torch.nn as nn\n",
    "import torch.optim as optim\n",
    "import numpy as np\n",
    "import matplotlib\n",
    "import matplotlib.pyplot as plt\n",
    "\n",
    "from tqdm import tqdm_notebook"
   ]
  },
  {
   "cell_type": "code",
   "execution_count": 18,
   "metadata": {
    "ExecuteTime": {
     "end_time": "2018-07-30T20:59:58.080594Z",
     "start_time": "2018-07-30T20:59:58.071952Z"
    },
    "collapsed": true
   },
   "outputs": [
    {
     "ename": "ModuleNotFoundError",
     "evalue": "No module named 'fastai'",
     "output_type": "error",
     "traceback": [
      "\u001b[0;31m---------------------------------------------------------------------------\u001b[0m",
      "\u001b[0;31mModuleNotFoundError\u001b[0m                       Traceback (most recent call last)",
      "\u001b[0;32m<ipython-input-18-94fabf9055d8>\u001b[0m in \u001b[0;36m<module>\u001b[0;34m()\u001b[0m\n\u001b[0;32m----> 1\u001b[0;31m \u001b[0;32mfrom\u001b[0m \u001b[0mfastai\u001b[0m\u001b[0;34m.\u001b[0m\u001b[0mimports\u001b[0m \u001b[0;32mimport\u001b[0m \u001b[0;34m*\u001b[0m\u001b[0;34m\u001b[0m\u001b[0m\n\u001b[0m\u001b[1;32m      2\u001b[0m \u001b[0;32mfrom\u001b[0m \u001b[0mfastai\u001b[0m\u001b[0;34m.\u001b[0m\u001b[0mtorch_imports\u001b[0m \u001b[0;32mimport\u001b[0m \u001b[0;34m*\u001b[0m\u001b[0;34m\u001b[0m\u001b[0m\n\u001b[1;32m      3\u001b[0m \u001b[0;32mfrom\u001b[0m \u001b[0mfastai\u001b[0m\u001b[0;34m.\u001b[0m\u001b[0mtransforms\u001b[0m \u001b[0;32mimport\u001b[0m \u001b[0;34m*\u001b[0m\u001b[0;34m\u001b[0m\u001b[0m\n\u001b[1;32m      4\u001b[0m \u001b[0;32mfrom\u001b[0m \u001b[0mfastai\u001b[0m\u001b[0;34m.\u001b[0m\u001b[0mconv_learner\u001b[0m \u001b[0;32mimport\u001b[0m \u001b[0;34m*\u001b[0m\u001b[0;34m\u001b[0m\u001b[0m\n\u001b[1;32m      5\u001b[0m \u001b[0;32mfrom\u001b[0m \u001b[0mfastai\u001b[0m\u001b[0;34m.\u001b[0m\u001b[0mmodel\u001b[0m \u001b[0;32mimport\u001b[0m \u001b[0;34m*\u001b[0m\u001b[0;34m\u001b[0m\u001b[0m\n",
      "\u001b[0;31mModuleNotFoundError\u001b[0m: No module named 'fastai'"
     ]
    }
   ],
   "source": [
    "# from fastai.imports import *\n",
    "# from fastai.torch_imports import *\n",
    "# from fastai.transforms import *\n",
    "# from fastai.conv_learner import *\n",
    "# from fastai.model import *\n",
    "# from fastai.dataset import *\n",
    "# from fastai.sgdr import *\n",
    "# from fastai.plots import *"
   ]
  },
  {
   "cell_type": "code",
   "execution_count": 19,
   "metadata": {
    "ExecuteTime": {
     "end_time": "2018-07-30T21:01:30.994587Z",
     "start_time": "2018-07-30T21:01:30.844490Z"
    }
   },
   "outputs": [],
   "source": [
    "import torch, torchvision, torchtext\n",
    "from torch import nn, cuda, backends, FloatTensor, LongTensor, optim\n",
    "import torch.nn.functional as F\n",
    "from torch.autograd import Variable\n",
    "from torch.utils.data import Dataset, TensorDataset"
   ]
  },
  {
   "cell_type": "code",
   "execution_count": 20,
   "metadata": {
    "ExecuteTime": {
     "end_time": "2018-07-30T21:01:33.819261Z",
     "start_time": "2018-07-30T21:01:33.816476Z"
    }
   },
   "outputs": [],
   "source": [
    "torch.cuda.set_device(0)"
   ]
  },
  {
   "cell_type": "markdown",
   "metadata": {},
   "source": [
    "# Generate Sine Wave "
   ]
  },
  {
   "cell_type": "code",
   "execution_count": 21,
   "metadata": {
    "ExecuteTime": {
     "end_time": "2018-07-30T21:01:34.291687Z",
     "start_time": "2018-07-30T21:01:34.289031Z"
    }
   },
   "outputs": [],
   "source": [
    "np.random.seed(2)\n",
    "\n",
    "T = 20\n",
    "L = 1000\n",
    "N = 100"
   ]
  },
  {
   "cell_type": "code",
   "execution_count": 22,
   "metadata": {
    "ExecuteTime": {
     "end_time": "2018-07-30T21:01:34.630069Z",
     "start_time": "2018-07-30T21:01:34.624273Z"
    }
   },
   "outputs": [
    {
     "data": {
      "text/plain": [
       "(100, 1000)"
      ]
     },
     "execution_count": 22,
     "metadata": {},
     "output_type": "execute_result"
    }
   ],
   "source": [
    "x = np.empty((N, L), 'int64')\n",
    "x[:] = np.array(range(L)) + np.random.randint(-4 * T, 4 * T, N).reshape(N, 1)\n",
    "x.shape"
   ]
  },
  {
   "cell_type": "code",
   "execution_count": 23,
   "metadata": {
    "ExecuteTime": {
     "end_time": "2018-07-30T21:01:34.839852Z",
     "start_time": "2018-07-30T21:01:34.825411Z"
    }
   },
   "outputs": [
    {
     "data": {
      "text/plain": [
       "(100, 1000)"
      ]
     },
     "execution_count": 23,
     "metadata": {},
     "output_type": "execute_result"
    }
   ],
   "source": [
    "data = np.sin(x / 1.0 / T).astype('float64')\n",
    "torch.save(data, open('traindata.pt', 'wb'))\n",
    "data.shape"
   ]
  },
  {
   "cell_type": "code",
   "execution_count": 24,
   "metadata": {
    "ExecuteTime": {
     "end_time": "2018-07-30T21:01:35.153848Z",
     "start_time": "2018-07-30T21:01:34.984215Z"
    },
    "scrolled": true
   },
   "outputs": [
    {
     "data": {
      "text/plain": [
       "[<matplotlib.lines.Line2D at 0x7f81f87a80b8>]"
      ]
     },
     "execution_count": 24,
     "metadata": {},
     "output_type": "execute_result"
    },
    {
     "data": {
      "image/png": "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\n",
      "text/plain": [
       "<Figure size 432x288 with 1 Axes>"
      ]
     },
     "metadata": {},
     "output_type": "display_data"
    }
   ],
   "source": [
    "plt.plot(data[5,: ])"
   ]
  },
  {
   "cell_type": "markdown",
   "metadata": {},
   "source": [
    "To use the data in the model, `.chunk(train_input.size(1), dim=1)` splits it into slices `1, 2, ..., t, ..., L`."
   ]
  },
  {
   "cell_type": "markdown",
   "metadata": {},
   "source": [
    "# Train "
   ]
  },
  {
   "cell_type": "code",
   "execution_count": 25,
   "metadata": {
    "ExecuteTime": {
     "end_time": "2018-07-30T21:01:36.854390Z",
     "start_time": "2018-07-30T21:01:36.847894Z"
    }
   },
   "outputs": [],
   "source": [
    "class Sequence(nn.Module):\n",
    "    def __init__(self):\n",
    "        super(Sequence, self).__init__()\n",
    "        self.lstm1 = nn.LSTMCell(1, 51)\n",
    "        self.lstm2 = nn.LSTMCell(51, 51)\n",
    "        self.linear = nn.Linear(51, 1)\n",
    "\n",
    "    def forward(self, input, future = 0):\n",
    "        outputs = []\n",
    "        h_t = torch.zeros(input.size(0), 51, dtype=torch.double)\n",
    "        c_t = torch.zeros(input.size(0), 51, dtype=torch.double)\n",
    "        h_t2 = torch.zeros(input.size(0), 51, dtype=torch.double)\n",
    "        c_t2 = torch.zeros(input.size(0), 51, dtype=torch.double)\n",
    "\n",
    "        for i, input_t in enumerate(input.chunk(input.size(1), dim=1)):\n",
    "            h_t, c_t = self.lstm1(input_t, (h_t, c_t))\n",
    "            h_t2, c_t2 = self.lstm2(h_t, (h_t2, c_t2))\n",
    "            output = self.linear(h_t2)\n",
    "            outputs += [output]\n",
    "        for i in range(future):# if we should predict the future\n",
    "            h_t, c_t = self.lstm1(output, (h_t, c_t))\n",
    "            h_t2, c_t2 = self.lstm2(h_t, (h_t2, c_t2))\n",
    "            output = self.linear(h_t2)\n",
    "            outputs += [output]\n",
    "        outputs = torch.stack(outputs, 1).squeeze(2)\n",
    "        return outputs\n"
   ]
  },
  {
   "cell_type": "code",
   "execution_count": 26,
   "metadata": {
    "ExecuteTime": {
     "end_time": "2018-07-30T21:01:36.862698Z",
     "start_time": "2018-07-30T21:01:36.856127Z"
    }
   },
   "outputs": [
    {
     "data": {
      "text/plain": [
       "<torch._C.Generator at 0x7f81e1a9da50>"
      ]
     },
     "execution_count": 26,
     "metadata": {},
     "output_type": "execute_result"
    }
   ],
   "source": [
    "# set random seed to 0\n",
    "np.random.seed(0)\n",
    "torch.manual_seed(0)"
   ]
  },
  {
   "cell_type": "markdown",
   "metadata": {},
   "source": [
    "## Train and Test sets "
   ]
  },
  {
   "cell_type": "code",
   "execution_count": 27,
   "metadata": {
    "ExecuteTime": {
     "end_time": "2018-07-30T21:01:36.874787Z",
     "start_time": "2018-07-30T21:01:36.864527Z"
    }
   },
   "outputs": [],
   "source": [
    "# load data and make training set\n",
    "data = torch.load('traindata.pt')\n",
    "\n",
    "# Train dataset\n",
    "train_input = torch.from_numpy(data[3:, :-1])\n",
    "train_target = torch.from_numpy(data[3:, 1:])\n",
    "\n",
    "# Test dataset\n",
    "test_input = torch.from_numpy(data[:3, :-1])\n",
    "test_target = torch.from_numpy(data[:3, 1:])\n"
   ]
  },
  {
   "cell_type": "code",
   "execution_count": 28,
   "metadata": {
    "ExecuteTime": {
     "end_time": "2018-07-30T21:01:36.879655Z",
     "start_time": "2018-07-30T21:01:36.876478Z"
    }
   },
   "outputs": [
    {
     "data": {
      "text/plain": [
       "(100, 1000)"
      ]
     },
     "execution_count": 28,
     "metadata": {},
     "output_type": "execute_result"
    }
   ],
   "source": [
    "data.shape"
   ]
  },
  {
   "cell_type": "code",
   "execution_count": 29,
   "metadata": {
    "ExecuteTime": {
     "end_time": "2018-07-30T21:01:37.042604Z",
     "start_time": "2018-07-30T21:01:36.881798Z"
    }
   },
   "outputs": [
    {
     "data": {
      "text/plain": [
       "[<matplotlib.lines.Line2D at 0x7f81f878d5c0>]"
      ]
     },
     "execution_count": 29,
     "metadata": {},
     "output_type": "execute_result"
    },
    {
     "data": {
      "image/png": "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\n",
      "text/plain": [
       "<Figure size 432x288 with 1 Axes>"
      ]
     },
     "metadata": {},
     "output_type": "display_data"
    }
   ],
   "source": [
    "plt.plot(train_input[96].numpy())"
   ]
  },
  {
   "cell_type": "code",
   "execution_count": 30,
   "metadata": {
    "ExecuteTime": {
     "end_time": "2018-07-30T21:01:37.048199Z",
     "start_time": "2018-07-30T21:01:37.044334Z"
    }
   },
   "outputs": [
    {
     "name": "stdout",
     "output_type": "stream",
     "text": [
      "Train input: torch.Size([97, 999]) , Train target: torch.Size([97, 999])\n"
     ]
    }
   ],
   "source": [
    "print('Train input:', train_input.size(), ', Train target:', train_target.size())"
   ]
  },
  {
   "cell_type": "code",
   "execution_count": 31,
   "metadata": {
    "ExecuteTime": {
     "end_time": "2018-07-30T21:01:37.105046Z",
     "start_time": "2018-07-30T21:01:37.050041Z"
    },
    "scrolled": true
   },
   "outputs": [
    {
     "data": {
      "text/plain": [
       "torch.Size([97, 1])"
      ]
     },
     "execution_count": 31,
     "metadata": {},
     "output_type": "execute_result"
    }
   ],
   "source": [
    "list(train_input.chunk(train_input.size(1), dim=1))[0].size()"
   ]
  },
  {
   "cell_type": "markdown",
   "metadata": {},
   "source": [
    "## Build the model"
   ]
  },
  {
   "cell_type": "code",
   "execution_count": 32,
   "metadata": {
    "ExecuteTime": {
     "end_time": "2018-07-30T21:01:37.111162Z",
     "start_time": "2018-07-30T21:01:37.106734Z"
    }
   },
   "outputs": [
    {
     "data": {
      "text/plain": [
       "Sequence(\n",
       "  (lstm1): LSTMCell(1, 51)\n",
       "  (lstm2): LSTMCell(51, 51)\n",
       "  (linear): Linear(in_features=51, out_features=1, bias=True)\n",
       ")"
      ]
     },
     "execution_count": 32,
     "metadata": {},
     "output_type": "execute_result"
    }
   ],
   "source": [
    "# build the model\n",
    "seq = Sequence()\n",
    "seq.double()"
   ]
  },
  {
   "cell_type": "code",
   "execution_count": 33,
   "metadata": {
    "ExecuteTime": {
     "end_time": "2018-07-30T21:01:37.115633Z",
     "start_time": "2018-07-30T21:01:37.112820Z"
    }
   },
   "outputs": [],
   "source": [
    "criterion = nn.MSELoss()\n",
    "\n",
    "# use LBFGS as optimizer since we can load the whole data to train\n",
    "optimizer = optim.LBFGS(seq.parameters(), lr=0.8)\n",
    "\n",
    "# optimizer = optim.Adam(seq.parameters(), lr=0.1, weight_decay=1e-3)"
   ]
  },
  {
   "cell_type": "markdown",
   "metadata": {},
   "source": [
    "## Train"
   ]
  },
  {
   "cell_type": "code",
   "execution_count": 34,
   "metadata": {
    "ExecuteTime": {
     "end_time": "2018-07-30T21:01:37.187173Z",
     "start_time": "2018-07-30T21:01:37.117384Z"
    },
    "scrolled": true
   },
   "outputs": [
    {
     "data": {
      "application/vnd.jupyter.widget-view+json": {
       "model_id": "06c4e73341974922966a1ced6011ef04",
       "version_major": 2,
       "version_minor": 0
      },
      "text/plain": [
       "HBox(children=(IntProgress(value=0, description='Epoch:', max=20), HTML(value='')))"
      ]
     },
     "metadata": {},
     "output_type": "display_data"
    },
    {
     "name": "stdout",
     "output_type": "stream",
     "text": [
      "\n"
     ]
    },
    {
     "ename": "AttributeError",
     "evalue": "module 'torch' has no attribute 'double'",
     "output_type": "error",
     "traceback": [
      "\u001b[0;31m---------------------------------------------------------------------------\u001b[0m",
      "\u001b[0;31mAttributeError\u001b[0m                            Traceback (most recent call last)",
      "\u001b[0;32m<ipython-input-34-6b85ede30727>\u001b[0m in \u001b[0;36m<module>\u001b[0;34m()\u001b[0m\n\u001b[1;32m      9\u001b[0m         \u001b[0mloss\u001b[0m\u001b[0;34m.\u001b[0m\u001b[0mbackward\u001b[0m\u001b[0;34m(\u001b[0m\u001b[0;34m)\u001b[0m\u001b[0;34m\u001b[0m\u001b[0m\n\u001b[1;32m     10\u001b[0m         \u001b[0;32mreturn\u001b[0m \u001b[0mloss\u001b[0m\u001b[0;34m\u001b[0m\u001b[0m\n\u001b[0;32m---> 11\u001b[0;31m     \u001b[0moptimizer\u001b[0m\u001b[0;34m.\u001b[0m\u001b[0mstep\u001b[0m\u001b[0;34m(\u001b[0m\u001b[0mclosure\u001b[0m\u001b[0;34m)\u001b[0m\u001b[0;34m\u001b[0m\u001b[0m\n\u001b[0m\u001b[1;32m     12\u001b[0m     \u001b[0;31m# begin to predict, no need to track gradient here\u001b[0m\u001b[0;34m\u001b[0m\u001b[0;34m\u001b[0m\u001b[0m\n\u001b[1;32m     13\u001b[0m     \u001b[0;32mwith\u001b[0m \u001b[0mtorch\u001b[0m\u001b[0;34m.\u001b[0m\u001b[0mno_grad\u001b[0m\u001b[0;34m(\u001b[0m\u001b[0;34m)\u001b[0m\u001b[0;34m:\u001b[0m\u001b[0;34m\u001b[0m\u001b[0m\n",
      "\u001b[0;32m~/anaconda3/envs/fastai/lib/python3.6/site-packages/torch/optim/lbfgs.py\u001b[0m in \u001b[0;36mstep\u001b[0;34m(self, closure)\u001b[0m\n\u001b[1;32m     99\u001b[0m \u001b[0;34m\u001b[0m\u001b[0m\n\u001b[1;32m    100\u001b[0m         \u001b[0;31m# evaluate initial f(x) and df/dx\u001b[0m\u001b[0;34m\u001b[0m\u001b[0;34m\u001b[0m\u001b[0m\n\u001b[0;32m--> 101\u001b[0;31m         \u001b[0morig_loss\u001b[0m \u001b[0;34m=\u001b[0m \u001b[0mclosure\u001b[0m\u001b[0;34m(\u001b[0m\u001b[0;34m)\u001b[0m\u001b[0;34m\u001b[0m\u001b[0m\n\u001b[0m\u001b[1;32m    102\u001b[0m         \u001b[0mloss\u001b[0m \u001b[0;34m=\u001b[0m \u001b[0morig_loss\u001b[0m\u001b[0;34m.\u001b[0m\u001b[0mdata\u001b[0m\u001b[0;34m[\u001b[0m\u001b[0;36m0\u001b[0m\u001b[0;34m]\u001b[0m\u001b[0;34m\u001b[0m\u001b[0m\n\u001b[1;32m    103\u001b[0m         \u001b[0mcurrent_evals\u001b[0m \u001b[0;34m=\u001b[0m \u001b[0;36m1\u001b[0m\u001b[0;34m\u001b[0m\u001b[0m\n",
      "\u001b[0;32m<ipython-input-34-6b85ede30727>\u001b[0m in \u001b[0;36mclosure\u001b[0;34m()\u001b[0m\n\u001b[1;32m      4\u001b[0m     \u001b[0;32mdef\u001b[0m \u001b[0mclosure\u001b[0m\u001b[0;34m(\u001b[0m\u001b[0;34m)\u001b[0m\u001b[0;34m:\u001b[0m\u001b[0;34m\u001b[0m\u001b[0m\n\u001b[1;32m      5\u001b[0m         \u001b[0moptimizer\u001b[0m\u001b[0;34m.\u001b[0m\u001b[0mzero_grad\u001b[0m\u001b[0;34m(\u001b[0m\u001b[0;34m)\u001b[0m\u001b[0;34m\u001b[0m\u001b[0m\n\u001b[0;32m----> 6\u001b[0;31m         \u001b[0mout\u001b[0m \u001b[0;34m=\u001b[0m \u001b[0mseq\u001b[0m\u001b[0;34m(\u001b[0m\u001b[0mtrain_input\u001b[0m\u001b[0;34m)\u001b[0m\u001b[0;34m\u001b[0m\u001b[0m\n\u001b[0m\u001b[1;32m      7\u001b[0m         \u001b[0mloss\u001b[0m \u001b[0;34m=\u001b[0m \u001b[0mcriterion\u001b[0m\u001b[0;34m(\u001b[0m\u001b[0mout\u001b[0m\u001b[0;34m,\u001b[0m \u001b[0mtrain_target\u001b[0m\u001b[0;34m)\u001b[0m\u001b[0;34m\u001b[0m\u001b[0m\n\u001b[1;32m      8\u001b[0m         \u001b[0mprint\u001b[0m\u001b[0;34m(\u001b[0m\u001b[0;34m'loss:'\u001b[0m\u001b[0;34m,\u001b[0m \u001b[0mloss\u001b[0m\u001b[0;34m.\u001b[0m\u001b[0mitem\u001b[0m\u001b[0;34m(\u001b[0m\u001b[0;34m)\u001b[0m\u001b[0;34m)\u001b[0m\u001b[0;34m\u001b[0m\u001b[0m\n",
      "\u001b[0;32m~/anaconda3/envs/fastai/lib/python3.6/site-packages/torch/nn/modules/module.py\u001b[0m in \u001b[0;36m__call__\u001b[0;34m(self, *input, **kwargs)\u001b[0m\n\u001b[1;32m    355\u001b[0m             \u001b[0mresult\u001b[0m \u001b[0;34m=\u001b[0m \u001b[0mself\u001b[0m\u001b[0;34m.\u001b[0m\u001b[0m_slow_forward\u001b[0m\u001b[0;34m(\u001b[0m\u001b[0;34m*\u001b[0m\u001b[0minput\u001b[0m\u001b[0;34m,\u001b[0m \u001b[0;34m**\u001b[0m\u001b[0mkwargs\u001b[0m\u001b[0;34m)\u001b[0m\u001b[0;34m\u001b[0m\u001b[0m\n\u001b[1;32m    356\u001b[0m         \u001b[0;32melse\u001b[0m\u001b[0;34m:\u001b[0m\u001b[0;34m\u001b[0m\u001b[0m\n\u001b[0;32m--> 357\u001b[0;31m             \u001b[0mresult\u001b[0m \u001b[0;34m=\u001b[0m \u001b[0mself\u001b[0m\u001b[0;34m.\u001b[0m\u001b[0mforward\u001b[0m\u001b[0;34m(\u001b[0m\u001b[0;34m*\u001b[0m\u001b[0minput\u001b[0m\u001b[0;34m,\u001b[0m \u001b[0;34m**\u001b[0m\u001b[0mkwargs\u001b[0m\u001b[0;34m)\u001b[0m\u001b[0;34m\u001b[0m\u001b[0m\n\u001b[0m\u001b[1;32m    358\u001b[0m         \u001b[0;32mfor\u001b[0m \u001b[0mhook\u001b[0m \u001b[0;32min\u001b[0m \u001b[0mself\u001b[0m\u001b[0;34m.\u001b[0m\u001b[0m_forward_hooks\u001b[0m\u001b[0;34m.\u001b[0m\u001b[0mvalues\u001b[0m\u001b[0;34m(\u001b[0m\u001b[0;34m)\u001b[0m\u001b[0;34m:\u001b[0m\u001b[0;34m\u001b[0m\u001b[0m\n\u001b[1;32m    359\u001b[0m             \u001b[0mhook_result\u001b[0m \u001b[0;34m=\u001b[0m \u001b[0mhook\u001b[0m\u001b[0;34m(\u001b[0m\u001b[0mself\u001b[0m\u001b[0;34m,\u001b[0m \u001b[0minput\u001b[0m\u001b[0;34m,\u001b[0m \u001b[0mresult\u001b[0m\u001b[0;34m)\u001b[0m\u001b[0;34m\u001b[0m\u001b[0m\n",
      "\u001b[0;32m<ipython-input-25-694098469212>\u001b[0m in \u001b[0;36mforward\u001b[0;34m(self, input, future)\u001b[0m\n\u001b[1;32m      8\u001b[0m     \u001b[0;32mdef\u001b[0m \u001b[0mforward\u001b[0m\u001b[0;34m(\u001b[0m\u001b[0mself\u001b[0m\u001b[0;34m,\u001b[0m \u001b[0minput\u001b[0m\u001b[0;34m,\u001b[0m \u001b[0mfuture\u001b[0m \u001b[0;34m=\u001b[0m \u001b[0;36m0\u001b[0m\u001b[0;34m)\u001b[0m\u001b[0;34m:\u001b[0m\u001b[0;34m\u001b[0m\u001b[0m\n\u001b[1;32m      9\u001b[0m         \u001b[0moutputs\u001b[0m \u001b[0;34m=\u001b[0m \u001b[0;34m[\u001b[0m\u001b[0;34m]\u001b[0m\u001b[0;34m\u001b[0m\u001b[0m\n\u001b[0;32m---> 10\u001b[0;31m         \u001b[0mh_t\u001b[0m \u001b[0;34m=\u001b[0m \u001b[0mtorch\u001b[0m\u001b[0;34m.\u001b[0m\u001b[0mzeros\u001b[0m\u001b[0;34m(\u001b[0m\u001b[0minput\u001b[0m\u001b[0;34m.\u001b[0m\u001b[0msize\u001b[0m\u001b[0;34m(\u001b[0m\u001b[0;36m0\u001b[0m\u001b[0;34m)\u001b[0m\u001b[0;34m,\u001b[0m \u001b[0;36m51\u001b[0m\u001b[0;34m,\u001b[0m \u001b[0mdtype\u001b[0m\u001b[0;34m=\u001b[0m\u001b[0mtorch\u001b[0m\u001b[0;34m.\u001b[0m\u001b[0mdouble\u001b[0m\u001b[0;34m)\u001b[0m\u001b[0;34m\u001b[0m\u001b[0m\n\u001b[0m\u001b[1;32m     11\u001b[0m         \u001b[0mc_t\u001b[0m \u001b[0;34m=\u001b[0m \u001b[0mtorch\u001b[0m\u001b[0;34m.\u001b[0m\u001b[0mzeros\u001b[0m\u001b[0;34m(\u001b[0m\u001b[0minput\u001b[0m\u001b[0;34m.\u001b[0m\u001b[0msize\u001b[0m\u001b[0;34m(\u001b[0m\u001b[0;36m0\u001b[0m\u001b[0;34m)\u001b[0m\u001b[0;34m,\u001b[0m \u001b[0;36m51\u001b[0m\u001b[0;34m,\u001b[0m \u001b[0mdtype\u001b[0m\u001b[0;34m=\u001b[0m\u001b[0mtorch\u001b[0m\u001b[0;34m.\u001b[0m\u001b[0mdouble\u001b[0m\u001b[0;34m)\u001b[0m\u001b[0;34m\u001b[0m\u001b[0m\n\u001b[1;32m     12\u001b[0m         \u001b[0mh_t2\u001b[0m \u001b[0;34m=\u001b[0m \u001b[0mtorch\u001b[0m\u001b[0;34m.\u001b[0m\u001b[0mzeros\u001b[0m\u001b[0;34m(\u001b[0m\u001b[0minput\u001b[0m\u001b[0;34m.\u001b[0m\u001b[0msize\u001b[0m\u001b[0;34m(\u001b[0m\u001b[0;36m0\u001b[0m\u001b[0;34m)\u001b[0m\u001b[0;34m,\u001b[0m \u001b[0;36m51\u001b[0m\u001b[0;34m,\u001b[0m \u001b[0mdtype\u001b[0m\u001b[0;34m=\u001b[0m\u001b[0mtorch\u001b[0m\u001b[0;34m.\u001b[0m\u001b[0mdouble\u001b[0m\u001b[0;34m)\u001b[0m\u001b[0;34m\u001b[0m\u001b[0m\n",
      "\u001b[0;31mAttributeError\u001b[0m: module 'torch' has no attribute 'double'"
     ]
    }
   ],
   "source": [
    "#begin to train\n",
    "for i in tqdm_notebook(range(20), desc='Epoch:'):\n",
    "    \n",
    "    def closure():\n",
    "        optimizer.zero_grad()\n",
    "        out = seq(train_input)\n",
    "        loss = criterion(out, train_target)\n",
    "        print('loss:', loss.item())\n",
    "        loss.backward()\n",
    "        return loss\n",
    "    optimizer.step(closure)\n",
    "    # begin to predict, no need to track gradient here\n",
    "    with torch.no_grad():\n",
    "        future = 1000\n",
    "        pred = seq(test_input, future=future)\n",
    "        loss = criterion(pred[:, :-future], test_target)\n",
    "        print('test loss:', loss.item())\n",
    "        y = pred.detach().numpy()\n",
    "    # draw the result\n",
    "    plt.figure(figsize=(30,10))\n",
    "    plt.title('Predict future values for time sequences\\n(Dashlines are predicted values)',\n",
    "              fontsize=30)\n",
    "    plt.xlabel('x', fontsize=20)\n",
    "    plt.ylabel('y', fontsize=20)\n",
    "    plt.xticks(fontsize=20)\n",
    "    plt.yticks(fontsize=20)\n",
    "    def draw(yi, color):\n",
    "        plt.plot(np.arange(train_input.size(1)),\n",
    "                 yi[:train_input.size(1)], color, linewidth = 2.0)\n",
    "        plt.plot(np.arange(train_input.size(1), train_input.size(1) + future), \n",
    "                 yi[train_input.size(1):], color + ':', linewidth = 2.0)\n",
    "    draw(y[0], 'r')\n",
    "    draw(y[1], 'g')\n",
    "    draw(y[2], 'b')\n",
    "    plt.show()"
   ]
  },
  {
   "cell_type": "markdown",
   "metadata": {},
   "source": [
    "# Trends and prices\n",
    "\n",
    "* Simulate price paths according to Dai, M., Zhang, Q., & Zhu, Q. J. (2010). _Trend following trading under a regime switching model_. SIAM Journal on Financial Mathematics, 1(1), 780-810."
   ]
  },
  {
   "cell_type": "code",
   "execution_count": 3,
   "metadata": {
    "ExecuteTime": {
<<<<<<< HEAD
     "end_time": "2018-07-30T21:30:26.191709Z",
     "start_time": "2018-07-30T21:30:26.031974Z"
=======
     "end_time": "2018-07-30T20:42:17.987156Z",
     "start_time": "2018-07-30T20:42:17.819148Z"
>>>>>>> c64c1452452931607088e2b598aacb87b87ec7a9
    }
   },
   "outputs": [],
   "source": [
    "import pandas as pd\n",
    "from pandas import DataFrame, Series\n",
    "pd.set_option('display.max_rows', 6)"
   ]
  },
  {
   "cell_type": "code",
   "execution_count": 4,
   "metadata": {
    "ExecuteTime": {
<<<<<<< HEAD
     "end_time": "2018-07-30T21:30:26.220557Z",
     "start_time": "2018-07-30T21:30:26.214548Z"
=======
     "end_time": "2018-07-30T20:42:18.314519Z",
     "start_time": "2018-07-30T20:42:18.307321Z"
>>>>>>> c64c1452452931607088e2b598aacb87b87ec7a9
    }
   },
   "outputs": [],
   "source": [
    "def sim_path(N=1000, P=np.array([[0.95, 0.05], [0.1, 0.9]]),\n",
    "             mu=[-0.05, 0.1], sigma=0.35, S0=1, dt=1/250):\n",
    "    \n",
    "    # State simulation\n",
    "    state = np.random.randint(0, 2)\n",
    "    states = [state]\n",
    "    for t in range(N - 1):\n",
    "        state = int(np.random.multinomial(1, P[state, :]).argmax())\n",
    "        states.append(state)\n",
    "    \n",
    "    # Price simulation\n",
    "    drift = (np.array([mu[s] for s in states[1:]]) - 0.5 * sigma**2) * dt\n",
    "    wiener = np.random.randn(N - 1) * sigma * np.sqrt(dt)\n",
    "\n",
    "    S = S0 * np.concatenate((np.ones(1), np.exp(np.cumsum(drift + wiener))))\n",
    "    \n",
    "    res_df = DataFrame(data=dict(Close=S, State=states))\n",
    "    res_df = res_df.assign(Ch = res_df.Close.pct_change().add(1).apply('log'))\n",
    "    res_df = res_df.assign(Ch2 = res_df.Ch.pow(2),\n",
    "                           Ch3 = res_df.Ch.pow(3),\n",
    "                           Ch4 = res_df.Ch.pow(4)).fillna(0)\n",
    "    return res_df"
   ]
  },
  {
   "cell_type": "code",
   "execution_count": 5,
   "metadata": {
    "ExecuteTime": {
<<<<<<< HEAD
     "end_time": "2018-07-30T21:30:28.220716Z",
     "start_time": "2018-07-30T21:30:28.079120Z"
=======
     "end_time": "2018-07-30T20:42:19.389190Z",
     "start_time": "2018-07-30T20:42:18.963203Z"
>>>>>>> c64c1452452931607088e2b598aacb87b87ec7a9
    },
    "scrolled": true
   },
   "outputs": [
    {
     "data": {
<<<<<<< HEAD
      "image/png": "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\n",
=======
      "image/png": "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\n",
>>>>>>> c64c1452452931607088e2b598aacb87b87ec7a9
      "text/plain": [
       "<Figure size 720x288 with 1 Axes>"
      ]
     },
     "metadata": {},
     "output_type": "display_data"
    }
   ],
   "source": [
    "price_df = sim_path()\n",
    "price_df[['Close', 'State']].plot(figsize=(10, 4), alpha = 0.5);"
   ]
  },
  {
   "cell_type": "code",
   "execution_count": 6,
   "metadata": {
    "ExecuteTime": {
<<<<<<< HEAD
     "end_time": "2018-07-30T21:30:29.580772Z",
     "start_time": "2018-07-30T21:30:29.567814Z"
=======
     "end_time": "2018-07-30T20:42:20.258245Z",
     "start_time": "2018-07-30T20:42:20.240308Z"
>>>>>>> c64c1452452931607088e2b598aacb87b87ec7a9
    },
    "scrolled": true
   },
   "outputs": [
    {
     "data": {
      "text/html": [
       "<div>\n",
       "<style scoped>\n",
       "    .dataframe tbody tr th:only-of-type {\n",
       "        vertical-align: middle;\n",
       "    }\n",
       "\n",
       "    .dataframe tbody tr th {\n",
       "        vertical-align: top;\n",
       "    }\n",
       "\n",
       "    .dataframe thead th {\n",
       "        text-align: right;\n",
       "    }\n",
       "</style>\n",
       "<table border=\"1\" class=\"dataframe\">\n",
       "  <thead>\n",
       "    <tr style=\"text-align: right;\">\n",
       "      <th></th>\n",
       "      <th>Close</th>\n",
       "      <th>State</th>\n",
       "      <th>Ch</th>\n",
       "      <th>Ch2</th>\n",
       "      <th>Ch3</th>\n",
       "      <th>Ch4</th>\n",
       "    </tr>\n",
       "  </thead>\n",
       "  <tbody>\n",
       "    <tr>\n",
       "      <th>0</th>\n",
       "      <td>1.000000</td>\n",
       "      <td>0</td>\n",
       "      <td>0.000000</td>\n",
       "      <td>0.000000</td>\n",
       "      <td>0.000000e+00</td>\n",
       "      <td>0.000000e+00</td>\n",
       "    </tr>\n",
       "    <tr>\n",
       "      <th>1</th>\n",
<<<<<<< HEAD
       "      <td>0.985885</td>\n",
       "      <td>0</td>\n",
       "      <td>-0.014216</td>\n",
       "      <td>0.000202</td>\n",
       "      <td>-2.872754e-06</td>\n",
       "      <td>4.083801e-08</td>\n",
       "    </tr>\n",
       "    <tr>\n",
       "      <th>2</th>\n",
       "      <td>0.964182</td>\n",
       "      <td>0</td>\n",
       "      <td>-0.022260</td>\n",
       "      <td>0.000495</td>\n",
       "      <td>-1.102973e-05</td>\n",
       "      <td>2.455197e-07</td>\n",
=======
       "      <td>1.009682</td>\n",
       "      <td>0</td>\n",
       "      <td>0.009635</td>\n",
       "      <td>0.000093</td>\n",
       "      <td>8.944310e-07</td>\n",
       "      <td>8.617788e-09</td>\n",
       "    </tr>\n",
       "    <tr>\n",
       "      <th>2</th>\n",
       "      <td>1.035279</td>\n",
       "      <td>0</td>\n",
       "      <td>0.025036</td>\n",
       "      <td>0.000627</td>\n",
       "      <td>1.569334e-05</td>\n",
       "      <td>3.929048e-07</td>\n",
>>>>>>> c64c1452452931607088e2b598aacb87b87ec7a9
       "    </tr>\n",
       "    <tr>\n",
       "      <th>...</th>\n",
       "      <td>...</td>\n",
       "      <td>...</td>\n",
       "      <td>...</td>\n",
       "      <td>...</td>\n",
       "      <td>...</td>\n",
       "      <td>...</td>\n",
       "    </tr>\n",
       "    <tr>\n",
       "      <th>997</th>\n",
<<<<<<< HEAD
       "      <td>0.534556</td>\n",
       "      <td>0</td>\n",
       "      <td>-0.003547</td>\n",
       "      <td>0.000013</td>\n",
       "      <td>-4.462267e-08</td>\n",
       "      <td>1.582732e-10</td>\n",
       "    </tr>\n",
       "    <tr>\n",
       "      <th>998</th>\n",
       "      <td>0.543795</td>\n",
       "      <td>0</td>\n",
       "      <td>0.017135</td>\n",
       "      <td>0.000294</td>\n",
       "      <td>5.030738e-06</td>\n",
       "      <td>8.620034e-08</td>\n",
       "    </tr>\n",
       "    <tr>\n",
       "      <th>999</th>\n",
       "      <td>0.545879</td>\n",
       "      <td>0</td>\n",
       "      <td>0.003824</td>\n",
       "      <td>0.000015</td>\n",
       "      <td>5.593211e-08</td>\n",
       "      <td>2.139020e-10</td>\n",
=======
       "      <td>0.808636</td>\n",
       "      <td>0</td>\n",
       "      <td>0.006316</td>\n",
       "      <td>0.000040</td>\n",
       "      <td>2.520038e-07</td>\n",
       "      <td>1.591755e-09</td>\n",
       "    </tr>\n",
       "    <tr>\n",
       "      <th>998</th>\n",
       "      <td>0.790493</td>\n",
       "      <td>0</td>\n",
       "      <td>-0.022692</td>\n",
       "      <td>0.000515</td>\n",
       "      <td>-1.168424e-05</td>\n",
       "      <td>2.651351e-07</td>\n",
       "    </tr>\n",
       "    <tr>\n",
       "      <th>999</th>\n",
       "      <td>0.767207</td>\n",
       "      <td>0</td>\n",
       "      <td>-0.029900</td>\n",
       "      <td>0.000894</td>\n",
       "      <td>-2.673202e-05</td>\n",
       "      <td>7.992987e-07</td>\n",
>>>>>>> c64c1452452931607088e2b598aacb87b87ec7a9
       "    </tr>\n",
       "  </tbody>\n",
       "</table>\n",
       "<p>1000 rows × 6 columns</p>\n",
       "</div>"
      ],
      "text/plain": [
       "        Close  State        Ch       Ch2           Ch3           Ch4\n",
       "0    1.000000      0  0.000000  0.000000  0.000000e+00  0.000000e+00\n",
<<<<<<< HEAD
       "1    0.985885      0 -0.014216  0.000202 -2.872754e-06  4.083801e-08\n",
       "2    0.964182      0 -0.022260  0.000495 -1.102973e-05  2.455197e-07\n",
       "..        ...    ...       ...       ...           ...           ...\n",
       "997  0.534556      0 -0.003547  0.000013 -4.462267e-08  1.582732e-10\n",
       "998  0.543795      0  0.017135  0.000294  5.030738e-06  8.620034e-08\n",
       "999  0.545879      0  0.003824  0.000015  5.593211e-08  2.139020e-10\n",
=======
       "1    1.009682      0  0.009635  0.000093  8.944310e-07  8.617788e-09\n",
       "2    1.035279      0  0.025036  0.000627  1.569334e-05  3.929048e-07\n",
       "..        ...    ...       ...       ...           ...           ...\n",
       "997  0.808636      0  0.006316  0.000040  2.520038e-07  1.591755e-09\n",
       "998  0.790493      0 -0.022692  0.000515 -1.168424e-05  2.651351e-07\n",
       "999  0.767207      0 -0.029900  0.000894 -2.673202e-05  7.992987e-07\n",
>>>>>>> c64c1452452931607088e2b598aacb87b87ec7a9
       "\n",
       "[1000 rows x 6 columns]"
      ]
     },
     "execution_count": 6,
     "metadata": {},
     "output_type": "execute_result"
    }
   ],
   "source": [
    "price_df"
   ]
  },
  {
   "cell_type": "markdown",
   "metadata": {
    "heading_collapsed": true
   },
   "source": [
    "## Only Price "
   ]
  },
  {
   "cell_type": "markdown",
   "metadata": {
    "hidden": true
   },
   "source": [
    "### Train and test sets\n",
    "\n",
    "The input data for an LSTM cell in pytorch must be of dimension:\n",
    "\n",
    "* `(seq_len, batch, input_size) = (seq_len, N_samples, 1)`."
   ]
  },
  {
   "cell_type": "code",
   "execution_count": null,
   "metadata": {
    "ExecuteTime": {
     "end_time": "2018-07-28T23:52:42.423873Z",
     "start_time": "2018-07-28T23:52:41.647134Z"
    },
    "hidden": true
   },
   "outputs": [],
   "source": [
    "N_samples = 100\n",
    "\n",
    "paths = [sim_path() for i in range(N_samples)]\n",
    "inputs = np.array([p.Close.values for p in paths])\n",
    "targets = np.array([p.State.values for p in paths])"
   ]
  },
  {
   "cell_type": "code",
   "execution_count": null,
   "metadata": {
    "ExecuteTime": {
     "end_time": "2018-07-28T23:52:42.430601Z",
     "start_time": "2018-07-28T23:52:42.426549Z"
    },
    "hidden": true
   },
   "outputs": [],
   "source": [
    "inputs = torch.from_numpy(inputs)\n",
    "targets = torch.from_numpy(targets)"
   ]
  },
  {
   "cell_type": "code",
   "execution_count": null,
   "metadata": {
    "ExecuteTime": {
     "end_time": "2018-07-28T23:52:42.439937Z",
     "start_time": "2018-07-28T23:52:42.434421Z"
    },
    "hidden": true,
    "scrolled": true
   },
   "outputs": [],
   "source": [
    "inputs.size(), targets.size()"
   ]
  },
  {
   "cell_type": "code",
   "execution_count": null,
   "metadata": {
    "ExecuteTime": {
     "end_time": "2018-07-28T23:52:42.605799Z",
     "start_time": "2018-07-28T23:52:42.592993Z"
    },
    "hidden": true
   },
   "outputs": [],
   "source": [
    "list(inputs.chunk(inputs.size(1), dim=1))[0].size()"
   ]
  },
  {
   "cell_type": "markdown",
   "metadata": {
    "hidden": true
   },
   "source": [
    "### Build the model"
   ]
  },
  {
   "cell_type": "code",
   "execution_count": null,
   "metadata": {
    "ExecuteTime": {
     "end_time": "2018-07-28T23:52:47.181519Z",
     "start_time": "2018-07-28T23:52:47.174911Z"
    },
    "hidden": true
   },
   "outputs": [],
   "source": [
    "class Sequence(nn.Module):\n",
    "    def __init__(self):\n",
    "        super(Sequence, self).__init__()\n",
    "        self.lstm1 = nn.LSTMCell(1, 51)\n",
    "        self.lstm2 = nn.LSTMCell(51, 51)\n",
    "        self.linear = nn.Linear(51, 2)\n",
    "        self.sigmoid = nn.Sigmoid()\n",
    "\n",
    "    def forward(self, input):\n",
    "        outputs = []\n",
    "        h_t = torch.zeros(input.size(0), 51, dtype=torch.double)\n",
    "        c_t = torch.zeros(input.size(0), 51, dtype=torch.double)\n",
    "        h_t2 = torch.zeros(input.size(0), 51, dtype=torch.double)\n",
    "        c_t2 = torch.zeros(input.size(0), 51, dtype=torch.double)\n",
    "\n",
    "        for i, input_t in enumerate(input.chunk(input.size(1), dim=1)):\n",
    "            h_t, c_t = self.lstm1(input_t, (h_t, c_t))\n",
    "            h_t2, c_t2 = self.lstm2(h_t, (h_t2, c_t2))\n",
    "            output = self.sigmoid(self.linear(h_t2))\n",
    "            outputs += [output]\n",
    "\n",
    "        outputs = torch.stack(outputs, 1).squeeze(2)\n",
    "        return outputs\n"
   ]
  },
  {
   "cell_type": "code",
   "execution_count": null,
   "metadata": {
    "ExecuteTime": {
     "end_time": "2018-07-28T23:52:48.116146Z",
     "start_time": "2018-07-28T23:52:48.106391Z"
    },
    "hidden": true
   },
   "outputs": [],
   "source": [
    "# build the model\n",
    "seq = Sequence()\n",
    "seq.double()"
   ]
  },
  {
   "cell_type": "code",
   "execution_count": null,
   "metadata": {
    "ExecuteTime": {
     "end_time": "2018-07-28T23:53:07.645131Z",
     "start_time": "2018-07-28T23:53:07.641007Z"
    },
    "hidden": true
   },
   "outputs": [],
   "source": [
    "criterion = nn.CrossEntropyLoss()\n",
    "\n",
    "# use LBFGS as optimizer since we can load the whole data to train\n",
    "# optimizer = optim.LBFGS(seq.parameters(), lr=0.8)\n",
    "\n",
    "optimizer = optim.Adam(seq.parameters())"
   ]
  },
  {
   "cell_type": "code",
   "execution_count": null,
   "metadata": {
    "ExecuteTime": {
     "end_time": "2018-07-28T23:53:11.141907Z",
     "start_time": "2018-07-28T23:53:08.847939Z"
    },
    "hidden": true,
    "scrolled": true
   },
   "outputs": [],
   "source": [
    "out = seq(inputs)\n",
    "out"
   ]
  },
  {
   "cell_type": "code",
   "execution_count": null,
   "metadata": {
    "ExecuteTime": {
     "end_time": "2018-07-28T23:53:11.162694Z",
     "start_time": "2018-07-28T23:53:11.150034Z"
    },
    "hidden": true
   },
   "outputs": [],
   "source": [
    "out.view(-1, 2).size()"
   ]
  },
  {
   "cell_type": "code",
   "execution_count": null,
   "metadata": {
    "ExecuteTime": {
     "end_time": "2018-07-28T23:53:11.178797Z",
     "start_time": "2018-07-28T23:53:11.169751Z"
    },
    "hidden": true
   },
   "outputs": [],
   "source": [
    "targets.view(-1).size()"
   ]
  },
  {
   "cell_type": "code",
   "execution_count": null,
   "metadata": {
    "ExecuteTime": {
     "end_time": "2018-07-28T23:53:11.198862Z",
     "start_time": "2018-07-28T23:53:11.187858Z"
    },
    "hidden": true
   },
   "outputs": [],
   "source": [
    "out.size(), targets.size()"
   ]
  },
  {
   "cell_type": "code",
   "execution_count": null,
   "metadata": {
    "ExecuteTime": {
     "end_time": "2018-07-28T23:53:11.268616Z",
     "start_time": "2018-07-28T23:53:11.213285Z"
    },
    "hidden": true
   },
   "outputs": [],
   "source": [
    "criterion(out.view(-1, 2), targets.view(-1))"
   ]
  },
  {
   "cell_type": "markdown",
   "metadata": {
    "hidden": true
   },
   "source": [
    "### Train"
   ]
  },
  {
   "cell_type": "code",
   "execution_count": null,
   "metadata": {
    "ExecuteTime": {
     "end_time": "2018-07-28T23:54:41.458802Z",
     "start_time": "2018-07-28T23:53:35.336921Z"
    },
    "hidden": true,
    "scrolled": true
   },
   "outputs": [],
   "source": [
    "#begin to train\n",
    "for i in tqdm_notebook(range(20), desc='Epoch:'):\n",
    "    \n",
    "    def closure():\n",
    "        optimizer.zero_grad()\n",
    "        out = seq(inputs)\n",
    "        loss = criterion(out.view(-1, 2), targets.view(-1))\n",
    "        print('loss:', loss.item())\n",
    "        loss.backward()\n",
    "        return loss\n",
    "    optimizer.step(closure)\n",
    "    # begin to predict, no need to track gradient here\n",
    "#     with torch.no_grad():\n",
    "#         future = 1000\n",
    "#         pred = seq(test_input, future=future)\n",
    "#         loss = criterion(pred[:, :-future], test_target)\n",
    "#         print('test loss:', loss.item())\n",
    "#         y = pred.detach().numpy()\n"
   ]
  },
  {
   "cell_type": "code",
   "execution_count": null,
   "metadata": {
    "ExecuteTime": {
     "end_time": "2018-07-28T23:54:43.816733Z",
     "start_time": "2018-07-28T23:54:41.461955Z"
    },
    "hidden": true,
    "scrolled": true
   },
   "outputs": [],
   "source": [
    "out = seq(inputs)\n",
    "out"
   ]
  },
  {
   "cell_type": "markdown",
   "metadata": {},
   "source": [
    "## Price and changes"
   ]
  },
  {
   "cell_type": "markdown",
   "metadata": {
    "heading_collapsed": true
   },
   "source": [
    "### Train and test sets\n",
    "\n",
    "The input data for an LSTM cell in pytorch must be of dimension:\n",
    "\n",
    "* `(seq_len, batch, input_size) = (seq_len, N_samples, 5)`."
   ]
  },
  {
   "cell_type": "code",
   "execution_count": null,
   "metadata": {
    "ExecuteTime": {
     "end_time": "2018-07-28T23:55:19.742212Z",
     "start_time": "2018-07-28T23:55:18.927909Z"
    },
    "hidden": true
   },
   "outputs": [],
   "source": [
    "N_samples = 100\n",
    "\n",
    "paths = [sim_path() for i in range(N_samples)]\n",
    "inputs = np.array([p.drop('State', axis=1).values for p in paths])\n",
    "targets = np.array([p.State.values for p in paths])"
   ]
  },
  {
   "cell_type": "code",
   "execution_count": null,
   "metadata": {
    "ExecuteTime": {
     "end_time": "2018-07-28T23:55:19.750426Z",
     "start_time": "2018-07-28T23:55:19.745108Z"
    },
    "hidden": true
   },
   "outputs": [],
   "source": [
    "inputs = torch.from_numpy(inputs)\n",
    "targets = torch.from_numpy(targets)"
   ]
  },
  {
   "cell_type": "code",
   "execution_count": null,
   "metadata": {
    "ExecuteTime": {
     "end_time": "2018-07-28T23:55:19.764874Z",
     "start_time": "2018-07-28T23:55:19.754748Z"
    },
    "hidden": true,
    "scrolled": true
   },
   "outputs": [],
   "source": [
    "inputs.size(), targets.size()"
   ]
  },
  {
   "cell_type": "code",
   "execution_count": null,
   "metadata": {
    "ExecuteTime": {
     "end_time": "2018-07-28T23:55:19.782460Z",
     "start_time": "2018-07-28T23:55:19.772379Z"
    },
    "hidden": true
   },
   "outputs": [],
   "source": [
    "list(inputs.chunk(inputs.size(1), dim=1))[0].view(N_samples, -1).size()"
   ]
  },
  {
   "cell_type": "markdown",
   "metadata": {
    "heading_collapsed": true
   },
   "source": [
    "### Build the model"
   ]
  },
  {
   "cell_type": "code",
   "execution_count": null,
   "metadata": {
    "ExecuteTime": {
     "end_time": "2018-07-28T23:55:33.613536Z",
     "start_time": "2018-07-28T23:55:33.607020Z"
    },
    "hidden": true
   },
   "outputs": [],
   "source": [
    "class Sequence(nn.Module):\n",
    "    def __init__(self):\n",
    "        super(Sequence, self).__init__()\n",
    "        self.lstm1 = nn.LSTMCell(5, 51)\n",
    "        self.lstm2 = nn.LSTMCell(51, 51)\n",
    "        self.linear = nn.Linear(51, 2)\n",
    "        self.sigmoid = nn.Sigmoid()\n",
    "\n",
    "    def forward(self, input):\n",
    "        outputs = []\n",
    "        h_t = torch.zeros(input.size(0), 51, dtype=torch.double)\n",
    "        c_t = torch.zeros(input.size(0), 51, dtype=torch.double)\n",
    "        h_t2 = torch.zeros(input.size(0), 51, dtype=torch.double)\n",
    "        c_t2 = torch.zeros(input.size(0), 51, dtype=torch.double)\n",
    "\n",
    "        for i, input_t in enumerate(input.chunk(input.size(1), dim=1)):\n",
    "            h_t, c_t = self.lstm1(input_t.view(N_samples, -1), (h_t, c_t))\n",
    "            h_t2, c_t2 = self.lstm2(h_t, (h_t2, c_t2))\n",
    "            output = self.sigmoid(self.linear(h_t2))\n",
    "            outputs += [output]\n",
    "\n",
    "        outputs = torch.stack(outputs, 1).squeeze(2)\n",
    "        return outputs\n"
   ]
  },
  {
   "cell_type": "code",
   "execution_count": null,
   "metadata": {
    "ExecuteTime": {
     "end_time": "2018-07-28T23:55:34.206250Z",
     "start_time": "2018-07-28T23:55:34.198216Z"
    },
    "hidden": true
   },
   "outputs": [],
   "source": [
    "# build the model\n",
    "seq = Sequence()\n",
    "seq.double()"
   ]
  },
  {
   "cell_type": "code",
   "execution_count": null,
   "metadata": {
    "ExecuteTime": {
     "end_time": "2018-07-28T23:55:34.724157Z",
     "start_time": "2018-07-28T23:55:34.719776Z"
    },
    "hidden": true
   },
   "outputs": [],
   "source": [
    "criterion = nn.CrossEntropyLoss()\n",
    "\n",
    "# use LBFGS as optimizer since we can load the whole data to train\n",
    "# optimizer = optim.LBFGS(seq.parameters(), lr=0.1)\n",
    "\n",
    "optimizer = optim.Adam(seq.parameters())"
   ]
  },
  {
   "cell_type": "code",
   "execution_count": null,
   "metadata": {
    "ExecuteTime": {
     "end_time": "2018-07-28T23:55:37.566994Z",
     "start_time": "2018-07-28T23:55:35.426779Z"
    },
    "hidden": true
   },
   "outputs": [],
   "source": [
    "out = seq(inputs)\n",
    "out"
   ]
  },
  {
   "cell_type": "code",
   "execution_count": null,
   "metadata": {
    "ExecuteTime": {
     "end_time": "2018-07-28T23:55:39.034933Z",
     "start_time": "2018-07-28T23:55:39.029045Z"
    },
    "hidden": true
   },
   "outputs": [],
   "source": [
    "out.size(), targets.size()"
   ]
  },
  {
   "cell_type": "code",
   "execution_count": null,
   "metadata": {
    "ExecuteTime": {
     "end_time": "2018-07-28T23:55:39.579820Z",
     "start_time": "2018-07-28T23:55:39.573201Z"
    },
    "hidden": true
   },
   "outputs": [],
   "source": [
    "out.view(-1, 2).size()"
   ]
  },
  {
   "cell_type": "code",
   "execution_count": null,
   "metadata": {
    "ExecuteTime": {
     "end_time": "2018-07-28T23:55:39.795955Z",
     "start_time": "2018-07-28T23:55:39.790250Z"
    },
    "hidden": true
   },
   "outputs": [],
   "source": [
    "targets.view(-1).size()"
   ]
  },
  {
   "cell_type": "code",
   "execution_count": null,
   "metadata": {
    "ExecuteTime": {
     "end_time": "2018-07-28T23:55:40.066605Z",
     "start_time": "2018-07-28T23:55:40.052664Z"
    },
    "hidden": true
   },
   "outputs": [],
   "source": [
    "criterion(out.view(-1, 2), targets.view(-1))"
   ]
  },
  {
   "cell_type": "markdown",
   "metadata": {
    "heading_collapsed": true
   },
   "source": [
    "### Train"
   ]
  },
  {
   "cell_type": "code",
   "execution_count": null,
   "metadata": {
    "ExecuteTime": {
     "end_time": "2018-07-28T23:57:12.249752Z",
     "start_time": "2018-07-28T23:55:50.806530Z"
    },
    "hidden": true,
    "scrolled": false
   },
   "outputs": [],
   "source": [
    "#begin to train\n",
    "for i in tqdm_notebook(range(20), desc='Epoch:'):\n",
    "    \n",
    "    def closure():\n",
    "        optimizer.zero_grad()\n",
    "        out = seq(inputs)\n",
    "        loss = criterion(out.view(-1, 2), targets.view(-1))\n",
    "        print('loss:', loss.item())\n",
    "        loss.backward()\n",
    "        return loss\n",
    "    optimizer.step(closure)\n",
    "    # begin to predict, no need to track gradient here\n",
    "#     with torch.no_grad():\n",
    "#         future = 1000\n",
    "#         pred = seq(test_input, future=future)\n",
    "#         loss = criterion(pred[:, :-future], test_target)\n",
    "#         print('test loss:', loss.item())\n",
    "#         y = pred.detach().numpy()\n"
   ]
  },
  {
   "cell_type": "code",
   "execution_count": null,
   "metadata": {
    "ExecuteTime": {
     "end_time": "2018-07-28T23:57:14.461483Z",
     "start_time": "2018-07-28T23:57:12.257261Z"
    },
    "hidden": true,
    "scrolled": true
   },
   "outputs": [],
   "source": [
    "out = seq(inputs)\n",
    "out"
   ]
  },
  {
   "cell_type": "markdown",
   "metadata": {},
   "source": [
    "## Support and Resistance"
   ]
  },
  {
   "cell_type": "code",
   "execution_count": 7,
   "metadata": {
    "ExecuteTime": {
<<<<<<< HEAD
     "end_time": "2018-07-30T21:30:32.642793Z",
     "start_time": "2018-07-30T21:30:32.638803Z"
=======
     "end_time": "2018-07-30T20:42:30.684449Z",
     "start_time": "2018-07-30T20:42:30.680497Z"
>>>>>>> c64c1452452931607088e2b598aacb87b87ec7a9
    }
   },
   "outputs": [],
   "source": [
    "def add_support_resistance(df, fast=30, slow=120):\n",
    "    return df.assign(Resistance_fast = df.Close.rolling(30).max(),\n",
    "                     Resistance_slow = df.Close.rolling(120).max(),\n",
    "                     Support_fast = df.Close.rolling(30).min(),\n",
    "                     Support_slow = df.Close.rolling(120).min())"
   ]
  },
  {
   "cell_type": "code",
   "execution_count": 8,
   "metadata": {
    "ExecuteTime": {
<<<<<<< HEAD
     "end_time": "2018-07-30T21:30:33.058451Z",
     "start_time": "2018-07-30T21:30:32.870739Z"
=======
     "end_time": "2018-07-30T20:42:31.156064Z",
     "start_time": "2018-07-30T20:42:30.882258Z"
>>>>>>> c64c1452452931607088e2b598aacb87b87ec7a9
    }
   },
   "outputs": [
    {
     "data": {
      "text/plain": [
<<<<<<< HEAD
       "<matplotlib.axes._subplots.AxesSubplot at 0x22cc98fc898>"
=======
       "<matplotlib.axes._subplots.AxesSubplot at 0x7f20ac6dd198>"
>>>>>>> c64c1452452931607088e2b598aacb87b87ec7a9
      ]
     },
     "execution_count": 8,
     "metadata": {},
     "output_type": "execute_result"
    },
    {
     "data": {
<<<<<<< HEAD
      "image/png": "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\n",
=======
      "image/png": "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\n",
>>>>>>> c64c1452452931607088e2b598aacb87b87ec7a9
      "text/plain": [
       "<Figure size 864x288 with 1 Axes>"
      ]
     },
     "metadata": {},
     "output_type": "display_data"
    }
   ],
   "source": [
    "price_df = add_support_resistance(sim_path())\n",
    "\n",
    "price_df[['Close', 'Support_fast', 'Resistance_fast',\n",
    "          'Support_slow', 'Resistance_slow']].plot(figsize=(12, 4))"
   ]
  },
  {
   "cell_type": "code",
   "execution_count": 9,
   "metadata": {
    "ExecuteTime": {
<<<<<<< HEAD
     "end_time": "2018-07-30T21:30:33.172604Z",
     "start_time": "2018-07-30T21:30:33.157641Z"
=======
     "end_time": "2018-07-30T20:42:31.219623Z",
     "start_time": "2018-07-30T20:42:31.202408Z"
>>>>>>> c64c1452452931607088e2b598aacb87b87ec7a9
    }
   },
   "outputs": [
    {
     "data": {
      "text/html": [
       "<div>\n",
       "<style scoped>\n",
       "    .dataframe tbody tr th:only-of-type {\n",
       "        vertical-align: middle;\n",
       "    }\n",
       "\n",
       "    .dataframe tbody tr th {\n",
       "        vertical-align: top;\n",
       "    }\n",
       "\n",
       "    .dataframe thead th {\n",
       "        text-align: right;\n",
       "    }\n",
       "</style>\n",
       "<table border=\"1\" class=\"dataframe\">\n",
       "  <thead>\n",
       "    <tr style=\"text-align: right;\">\n",
       "      <th></th>\n",
       "      <th>Close</th>\n",
       "      <th>State</th>\n",
       "      <th>Ch</th>\n",
       "      <th>Ch2</th>\n",
       "      <th>Ch3</th>\n",
       "      <th>Ch4</th>\n",
       "      <th>Resistance_fast</th>\n",
       "      <th>Resistance_slow</th>\n",
       "      <th>Support_fast</th>\n",
       "      <th>Support_slow</th>\n",
       "    </tr>\n",
       "  </thead>\n",
       "  <tbody>\n",
       "    <tr>\n",
       "      <th>0</th>\n",
       "      <td>1.000000</td>\n",
       "      <td>0</td>\n",
       "      <td>0.000000</td>\n",
       "      <td>0.000000e+00</td>\n",
       "      <td>0.000000e+00</td>\n",
       "      <td>0.000000e+00</td>\n",
       "      <td>NaN</td>\n",
       "      <td>NaN</td>\n",
       "      <td>NaN</td>\n",
       "      <td>NaN</td>\n",
       "    </tr>\n",
       "    <tr>\n",
       "      <th>1</th>\n",
<<<<<<< HEAD
       "      <td>0.998048</td>\n",
       "      <td>0</td>\n",
       "      <td>-0.001954</td>\n",
       "      <td>0.000004</td>\n",
       "      <td>-7.463772e-09</td>\n",
       "      <td>1.458628e-11</td>\n",
=======
       "      <td>1.027111</td>\n",
       "      <td>1</td>\n",
       "      <td>0.026750</td>\n",
       "      <td>7.155814e-04</td>\n",
       "      <td>1.914205e-05</td>\n",
       "      <td>5.120567e-07</td>\n",
>>>>>>> c64c1452452931607088e2b598aacb87b87ec7a9
       "      <td>NaN</td>\n",
       "      <td>NaN</td>\n",
       "      <td>NaN</td>\n",
       "      <td>NaN</td>\n",
       "    </tr>\n",
       "    <tr>\n",
       "      <th>2</th>\n",
<<<<<<< HEAD
       "      <td>1.026891</td>\n",
       "      <td>0</td>\n",
       "      <td>0.028490</td>\n",
       "      <td>0.000812</td>\n",
       "      <td>2.312534e-05</td>\n",
       "      <td>6.588464e-07</td>\n",
=======
       "      <td>1.039455</td>\n",
       "      <td>1</td>\n",
       "      <td>0.011946</td>\n",
       "      <td>1.427047e-04</td>\n",
       "      <td>1.704737e-06</td>\n",
       "      <td>2.036464e-08</td>\n",
>>>>>>> c64c1452452931607088e2b598aacb87b87ec7a9
       "      <td>NaN</td>\n",
       "      <td>NaN</td>\n",
       "      <td>NaN</td>\n",
       "      <td>NaN</td>\n",
       "    </tr>\n",
       "    <tr>\n",
       "      <th>...</th>\n",
       "      <td>...</td>\n",
       "      <td>...</td>\n",
       "      <td>...</td>\n",
       "      <td>...</td>\n",
       "      <td>...</td>\n",
       "      <td>...</td>\n",
       "      <td>...</td>\n",
       "      <td>...</td>\n",
       "      <td>...</td>\n",
       "      <td>...</td>\n",
       "    </tr>\n",
       "    <tr>\n",
       "      <th>997</th>\n",
<<<<<<< HEAD
       "      <td>0.715658</td>\n",
       "      <td>0</td>\n",
       "      <td>-0.007235</td>\n",
       "      <td>0.000052</td>\n",
       "      <td>-3.787476e-07</td>\n",
       "      <td>2.740311e-09</td>\n",
       "      <td>0.720855</td>\n",
       "      <td>0.720855</td>\n",
       "      <td>0.573239</td>\n",
       "      <td>0.502416</td>\n",
       "    </tr>\n",
       "    <tr>\n",
       "      <th>998</th>\n",
       "      <td>0.701933</td>\n",
       "      <td>0</td>\n",
       "      <td>-0.019365</td>\n",
       "      <td>0.000375</td>\n",
       "      <td>-7.261724e-06</td>\n",
       "      <td>1.406219e-07</td>\n",
       "      <td>0.720855</td>\n",
       "      <td>0.720855</td>\n",
       "      <td>0.573239</td>\n",
       "      <td>0.502416</td>\n",
       "    </tr>\n",
       "    <tr>\n",
       "      <th>999</th>\n",
       "      <td>0.691425</td>\n",
       "      <td>0</td>\n",
       "      <td>-0.015083</td>\n",
       "      <td>0.000227</td>\n",
       "      <td>-3.431008e-06</td>\n",
       "      <td>5.174824e-08</td>\n",
       "      <td>0.720855</td>\n",
       "      <td>0.720855</td>\n",
       "      <td>0.573239</td>\n",
       "      <td>0.502416</td>\n",
=======
       "      <td>1.185021</td>\n",
       "      <td>0</td>\n",
       "      <td>-0.001665</td>\n",
       "      <td>2.770846e-06</td>\n",
       "      <td>-4.612310e-09</td>\n",
       "      <td>7.677586e-12</td>\n",
       "      <td>1.437721</td>\n",
       "      <td>1.437721</td>\n",
       "      <td>1.161195</td>\n",
       "      <td>0.968092</td>\n",
       "    </tr>\n",
       "    <tr>\n",
       "      <th>998</th>\n",
       "      <td>1.159806</td>\n",
       "      <td>0</td>\n",
       "      <td>-0.021508</td>\n",
       "      <td>4.626102e-04</td>\n",
       "      <td>-9.949992e-06</td>\n",
       "      <td>2.140082e-07</td>\n",
       "      <td>1.437721</td>\n",
       "      <td>1.437721</td>\n",
       "      <td>1.159806</td>\n",
       "      <td>0.968092</td>\n",
       "    </tr>\n",
       "    <tr>\n",
       "      <th>999</th>\n",
       "      <td>1.159268</td>\n",
       "      <td>0</td>\n",
       "      <td>-0.000464</td>\n",
       "      <td>2.148898e-07</td>\n",
       "      <td>-9.961478e-11</td>\n",
       "      <td>4.617764e-14</td>\n",
       "      <td>1.422593</td>\n",
       "      <td>1.437721</td>\n",
       "      <td>1.159268</td>\n",
       "      <td>0.968092</td>\n",
>>>>>>> c64c1452452931607088e2b598aacb87b87ec7a9
       "    </tr>\n",
       "  </tbody>\n",
       "</table>\n",
       "<p>1000 rows × 10 columns</p>\n",
       "</div>"
      ],
      "text/plain": [
<<<<<<< HEAD
       "        Close  State        Ch       Ch2           Ch3           Ch4  \\\n",
       "0    1.000000      0  0.000000  0.000000  0.000000e+00  0.000000e+00   \n",
       "1    0.998048      0 -0.001954  0.000004 -7.463772e-09  1.458628e-11   \n",
       "2    1.026891      0  0.028490  0.000812  2.312534e-05  6.588464e-07   \n",
       "..        ...    ...       ...       ...           ...           ...   \n",
       "997  0.715658      0 -0.007235  0.000052 -3.787476e-07  2.740311e-09   \n",
       "998  0.701933      0 -0.019365  0.000375 -7.261724e-06  1.406219e-07   \n",
       "999  0.691425      0 -0.015083  0.000227 -3.431008e-06  5.174824e-08   \n",
=======
       "        Close  State        Ch           Ch2           Ch3           Ch4  \\\n",
       "0    1.000000      1  0.000000  0.000000e+00  0.000000e+00  0.000000e+00   \n",
       "1    1.027111      1  0.026750  7.155814e-04  1.914205e-05  5.120567e-07   \n",
       "2    1.039455      1  0.011946  1.427047e-04  1.704737e-06  2.036464e-08   \n",
       "..        ...    ...       ...           ...           ...           ...   \n",
       "997  1.185021      0 -0.001665  2.770846e-06 -4.612310e-09  7.677586e-12   \n",
       "998  1.159806      0 -0.021508  4.626102e-04 -9.949992e-06  2.140082e-07   \n",
       "999  1.159268      0 -0.000464  2.148898e-07 -9.961478e-11  4.617764e-14   \n",
>>>>>>> c64c1452452931607088e2b598aacb87b87ec7a9
       "\n",
       "     Resistance_fast  Resistance_slow  Support_fast  Support_slow  \n",
       "0                NaN              NaN           NaN           NaN  \n",
       "1                NaN              NaN           NaN           NaN  \n",
       "2                NaN              NaN           NaN           NaN  \n",
       "..               ...              ...           ...           ...  \n",
<<<<<<< HEAD
       "997         0.720855         0.720855      0.573239      0.502416  \n",
       "998         0.720855         0.720855      0.573239      0.502416  \n",
       "999         0.720855         0.720855      0.573239      0.502416  \n",
=======
       "997         1.437721         1.437721      1.161195      0.968092  \n",
       "998         1.437721         1.437721      1.159806      0.968092  \n",
       "999         1.422593         1.437721      1.159268      0.968092  \n",
>>>>>>> c64c1452452931607088e2b598aacb87b87ec7a9
       "\n",
       "[1000 rows x 10 columns]"
      ]
     },
     "execution_count": 9,
     "metadata": {},
     "output_type": "execute_result"
    }
   ],
   "source": [
    "price_df"
   ]
  },
  {
   "cell_type": "markdown",
   "metadata": {},
   "source": [
    "### Train and test sets\n",
    "\n",
    "The input data for an LSTM cell in pytorch must be of dimension:\n",
    "\n",
    "* `(seq_len, batch, input_size) = (seq_len, N_samples, 5)`."
   ]
  },
  {
   "cell_type": "code",
<<<<<<< HEAD
   "execution_count": 83,
   "metadata": {
    "ExecuteTime": {
     "end_time": "2018-07-30T22:37:56.260739Z",
     "start_time": "2018-07-30T22:37:56.257747Z"
=======
   "execution_count": 18,
   "metadata": {
    "ExecuteTime": {
     "end_time": "2018-07-30T20:43:46.534561Z",
     "start_time": "2018-07-30T20:43:40.718606Z"
>>>>>>> c64c1452452931607088e2b598aacb87b87ec7a9
    }
   },
   "outputs": [],
   "source": [
<<<<<<< HEAD
    "N_samples = 100\n",
=======
    "N_samples = 500\n",
>>>>>>> c64c1452452931607088e2b598aacb87b87ec7a9
    "\n",
    "input_variables = ['Close']\n",
    "target_variables = ['Resistance_fast', 'Resistance_slow',\n",
    "                    'Support_fast', 'Support_slow']\n",
    "\n",
    "paths = [add_support_resistance(sim_path()) for i in range(N_samples)]\n",
    "inputs = np.array([p[input_variables].values for p in paths], dtype=np.double)\n",
    "targets = np.array([p[target_variables].values for p in paths], dtype=np.double)"
   ]
  },
  {
   "cell_type": "code",
   "execution_count": 19,
   "metadata": {
    "ExecuteTime": {
<<<<<<< HEAD
     "end_time": "2018-07-30T21:30:40.624914Z",
     "start_time": "2018-07-30T21:30:40.622926Z"
=======
     "end_time": "2018-07-30T20:43:47.259715Z",
     "start_time": "2018-07-30T20:43:47.257289Z"
>>>>>>> c64c1452452931607088e2b598aacb87b87ec7a9
    }
   },
   "outputs": [],
   "source": [
    "inputs = torch.from_numpy(inputs)\n",
    "targets = torch.from_numpy(targets)"
   ]
  },
  {
   "cell_type": "code",
   "execution_count": 20,
   "metadata": {
    "ExecuteTime": {
<<<<<<< HEAD
     "end_time": "2018-07-30T21:30:41.259228Z",
     "start_time": "2018-07-30T21:30:41.255268Z"
=======
     "end_time": "2018-07-30T20:43:47.622797Z",
     "start_time": "2018-07-30T20:43:47.618746Z"
>>>>>>> c64c1452452931607088e2b598aacb87b87ec7a9
    },
    "scrolled": true
   },
   "outputs": [
    {
     "data": {
      "text/plain": [
<<<<<<< HEAD
       "(torch.Size([100, 1000, 1]), torch.Size([100, 1000, 4]))"
=======
       "(torch.Size([500, 1000, 1]), torch.Size([500, 1000, 4]))"
>>>>>>> c64c1452452931607088e2b598aacb87b87ec7a9
      ]
     },
     "execution_count": 20,
     "metadata": {},
     "output_type": "execute_result"
    }
   ],
   "source": [
    "inputs.size(), targets.size()"
   ]
  },
  {
   "cell_type": "code",
   "execution_count": 21,
   "metadata": {
    "ExecuteTime": {
<<<<<<< HEAD
     "end_time": "2018-07-30T21:30:41.764209Z",
     "start_time": "2018-07-30T21:30:41.758226Z"
    }
   },
   "outputs": [
    {
     "data": {
      "text/plain": [
       "torch.Size([100, 1])"
      ]
     },
     "execution_count": 13,
     "metadata": {},
     "output_type": "execute_result"
    }
   ],
=======
     "end_time": "2018-07-30T20:43:48.113584Z",
     "start_time": "2018-07-30T20:43:48.111217Z"
    }
   },
   "outputs": [],
>>>>>>> c64c1452452931607088e2b598aacb87b87ec7a9
   "source": [
    "# list(inputs.chunk(inputs.size(1), dim=1))[0].view(N_samples, -1).size()"
   ]
  },
  {
   "cell_type": "markdown",
   "metadata": {},
   "source": [
    "### Build the model"
   ]
  },
  {
   "cell_type": "code",
<<<<<<< HEAD
   "execution_count": 97,
   "metadata": {
    "ExecuteTime": {
     "end_time": "2018-07-30T22:40:59.288066Z",
     "start_time": "2018-07-30T22:40:59.275100Z"
=======
   "execution_count": 22,
   "metadata": {
    "ExecuteTime": {
     "end_time": "2018-07-30T20:43:50.276473Z",
     "start_time": "2018-07-30T20:43:50.264123Z"
>>>>>>> c64c1452452931607088e2b598aacb87b87ec7a9
    }
   },
   "outputs": [],
   "source": [
    "class Sequence(nn.Module):\n",
    "    def __init__(self, h0=1, h1=51, h2=51, hL=1):\n",
    "        super(Sequence, self).__init__()\n",
    "        self.h0 = h0\n",
    "        self.h1 = h1\n",
    "        self.h2 = h2\n",
    "        self.hL = hL\n",
    "        self.lstm1 = nn.LSTMCell(h0, h1)\n",
    "        self.lstm2 = nn.LSTMCell(h1, h2)\n",
    "        self.linear = nn.Linear(h2, hL)\n",
    "\n",
    "    def forward(self, input):\n",
    "        outputs = []\n",
    "        h_t = torch.zeros(input.size(0), self.h1, dtype=torch.double)\n",
    "        c_t = torch.zeros(input.size(0), self.h1, dtype=torch.double)\n",
    "        h_t2 = torch.zeros(input.size(0), self.h2, dtype=torch.double)\n",
    "        c_t2 = torch.zeros(input.size(0), self.h2, dtype=torch.double)\n",
    "\n",
    "        for i, input_t in enumerate(input.chunk(input.size(1), dim=1)):\n",
    "            h_t, c_t = self.lstm1(input_t.view(N_samples, -1), (h_t, c_t))\n",
    "            h_t2, c_t2 = self.lstm2(h_t, (h_t2, c_t2))\n",
    "            output = self.linear(h_t2)\n",
    "            outputs += [output]\n",
    "\n",
    "        outputs = torch.stack(outputs, 1).squeeze(2)\n",
    "        return outputs\n",
    "\n",
    "    \n",
    "class Sequence3(nn.Module):\n",
    "    def __init__(self, h0=1, h1=10, h2=10, h3=10, hL=1):\n",
    "        super(Sequence3, self).__init__()\n",
    "        self.h0 = h0\n",
    "        self.h1 = h1\n",
    "        self.h2 = h2\n",
    "        self.h3 = h3\n",
    "        self.hL = hL\n",
    "        self.lstm1 = nn.LSTMCell(h0, h1)\n",
    "        self.lstm2 = nn.LSTMCell(h1, h2)\n",
    "        self.lstm3 = nn.LSTMCell(h2, h3)\n",
    "        self.linear = nn.Linear(h3, hL)\n",
    "\n",
    "    def forward(self, input):\n",
    "        outputs = []\n",
    "        h_t = torch.zeros(input.size(0), self.h1, dtype=torch.double)\n",
    "        c_t = torch.zeros(input.size(0), self.h1, dtype=torch.double)\n",
    "        h_t2 = torch.zeros(input.size(0), self.h2, dtype=torch.double)\n",
    "        c_t2 = torch.zeros(input.size(0), self.h2, dtype=torch.double)\n",
    "        h_t3 = torch.ones(input.size(0), self.h3, dtype=torch.double)\n",
    "        c_t3 = torch.zeros(input.size(0), self.h3, dtype=torch.double)\n",
    "\n",
    "        for i, input_t in enumerate(input.chunk(input.size(1), dim=1)):\n",
    "            h_t, c_t = self.lstm1(input_t.view(N_samples, -1), (h_t, c_t))\n",
    "            h_t2, c_t2 = self.lstm2(h_t, (h_t2, c_t2))\n",
    "            h_t3, c_t3 = self.lstm3(h_t2, (h_t3, c_t3))\n",
    "            output = self.linear(h_t3)\n",
    "            outputs += [output]\n",
    "\n",
    "        outputs = torch.stack(outputs, 1).squeeze(2)\n",
    "        return outputs\n",
    "\n",
    "    \n",
    "class Sequence4(nn.Module):\n",
    "    def __init__(self, h0=1, h1=5, h2=5, h3=5, h4=5, hL=1):\n",
    "        super(Sequence4, self).__init__()\n",
    "        self.h0 = h0\n",
    "        self.h1 = h1\n",
    "        self.h2 = h2\n",
    "        self.h3 = h3\n",
    "        self.h4 = h4\n",
    "        self.hL = hL\n",
    "        self.lstm1 = nn.LSTMCell(h0, h1)\n",
    "        self.lstm2 = nn.LSTMCell(h1, h2)\n",
    "        self.lstm3 = nn.LSTMCell(h2, h3)\n",
    "        self.lstm4 = nn.LSTMCell(h3, h4)\n",
    "        self.linear = nn.Linear(h4, hL)\n",
    "\n",
    "    def forward(self, input):\n",
    "        outputs = []\n",
    "        h_t = torch.zeros(input.size(0), self.h1, dtype=torch.double)\n",
    "        c_t = torch.zeros(input.size(0), self.h1, dtype=torch.double)\n",
    "        h_t2 = torch.zeros(input.size(0), self.h2, dtype=torch.double)\n",
    "        c_t2 = torch.zeros(input.size(0), self.h2, dtype=torch.double)\n",
    "        h_t3 = torch.ones(input.size(0), self.h3, dtype=torch.double)\n",
    "        c_t3 = torch.zeros(input.size(0), self.h3, dtype=torch.double)\n",
    "        h_t4 = torch.ones(input.size(0), self.h4, dtype=torch.double)\n",
    "        c_t4 = torch.zeros(input.size(0), self.h4, dtype=torch.double)\n",
    "\n",
    "        for i, input_t in enumerate(input.chunk(input.size(1), dim=1)):\n",
    "            h_t, c_t = self.lstm1(input_t.view(N_samples, -1), (h_t, c_t))\n",
    "            h_t2, c_t2 = self.lstm2(h_t, (h_t2, c_t2))\n",
    "            h_t3, c_t3 = self.lstm3(h_t2, (h_t3, c_t3))\n",
    "            h_t4, c_t4 = self.lstm4(h_t3, (h_t4, c_t4))\n",
    "            output = self.linear(h_t4)\n",
    "            outputs += [output]\n",
    "\n",
    "        outputs = torch.stack(outputs, 1).squeeze(2)\n",
    "        return outputs\n"
   ]
  },
  {
   "cell_type": "code",
<<<<<<< HEAD
   "execution_count": 98,
   "metadata": {
    "ExecuteTime": {
     "end_time": "2018-07-30T22:41:04.166310Z",
     "start_time": "2018-07-30T22:41:04.161299Z"
=======
   "execution_count": 23,
   "metadata": {
    "ExecuteTime": {
     "end_time": "2018-07-30T20:43:51.236706Z",
     "start_time": "2018-07-30T20:43:51.231876Z"
>>>>>>> c64c1452452931607088e2b598aacb87b87ec7a9
    }
   },
   "outputs": [
    {
     "data": {
      "text/plain": [
       "Sequence4(\n",
       "  (lstm1): LSTMCell(1, 5)\n",
       "  (lstm2): LSTMCell(5, 5)\n",
       "  (lstm3): LSTMCell(5, 5)\n",
       "  (lstm4): LSTMCell(5, 5)\n",
       "  (linear): Linear(in_features=5, out_features=4, bias=True)\n",
       ")"
      ]
     },
<<<<<<< HEAD
     "execution_count": 98,
=======
     "execution_count": 23,
>>>>>>> c64c1452452931607088e2b598aacb87b87ec7a9
     "metadata": {},
     "output_type": "execute_result"
    }
   ],
   "source": [
    "# build the model\n",
    "seq = Sequence4(hL=4)#Sequence(h0=1, h1=20, h2=10, hL=4)\n",
    "seq.double()"
   ]
  },
  {
   "cell_type": "code",
<<<<<<< HEAD
   "execution_count": 99,
   "metadata": {
    "ExecuteTime": {
     "end_time": "2018-07-30T22:41:06.997482Z",
     "start_time": "2018-07-30T22:41:06.993517Z"
=======
   "execution_count": 24,
   "metadata": {
    "ExecuteTime": {
     "end_time": "2018-07-30T20:43:51.979695Z",
     "start_time": "2018-07-30T20:43:51.976536Z"
>>>>>>> c64c1452452931607088e2b598aacb87b87ec7a9
    }
   },
   "outputs": [],
   "source": [
    "mse = nn.MSELoss(reduce=False)\n",
    "def criterion(y_hat, y_true):\n",
    "    loss = mse(y_hat[:, 119:, :], y_true[:, 119:, :]).sqrt().\\\n",
    "        div(y_true[:, 119:, :]).mean()\n",
    "    return loss"
   ]
  },
  {
   "cell_type": "code",
<<<<<<< HEAD
   "execution_count": 100,
   "metadata": {
    "ExecuteTime": {
     "end_time": "2018-07-30T22:41:07.915696Z",
     "start_time": "2018-07-30T22:41:07.505792Z"
=======
   "execution_count": null,
   "metadata": {},
   "outputs": [],
   "source": [
    "inputs.double()"
   ]
  },
  {
   "cell_type": "code",
   "execution_count": 25,
   "metadata": {
    "ExecuteTime": {
     "end_time": "2018-07-30T20:43:52.751322Z",
     "start_time": "2018-07-30T20:43:52.736448Z"
>>>>>>> c64c1452452931607088e2b598aacb87b87ec7a9
    },
    "scrolled": true
   },
   "outputs": [
    {
<<<<<<< HEAD
     "data": {
      "text/plain": [
       "tensor([[[-0.0766, -0.0992,  0.4970,  0.1808],\n",
       "         [-0.0024, -0.1543,  0.4951,  0.1524],\n",
       "         [ 0.0379, -0.2011,  0.4759,  0.1230],\n",
       "         ...,\n",
       "         [ 0.0561, -0.2333,  0.4642,  0.0870],\n",
       "         [ 0.0561, -0.2333,  0.4642,  0.0870],\n",
       "         [ 0.0561, -0.2333,  0.4642,  0.0870]],\n",
       "\n",
       "        [[-0.0766, -0.0992,  0.4970,  0.1808],\n",
       "         [-0.0024, -0.1543,  0.4951,  0.1524],\n",
       "         [ 0.0379, -0.2011,  0.4759,  0.1230],\n",
       "         ...,\n",
       "         [ 0.0553, -0.2317,  0.4647,  0.0854],\n",
       "         [ 0.0553, -0.2317,  0.4647,  0.0854],\n",
       "         [ 0.0553, -0.2317,  0.4647,  0.0854]],\n",
       "\n",
       "        [[-0.0766, -0.0992,  0.4970,  0.1808],\n",
       "         [-0.0024, -0.1543,  0.4951,  0.1524],\n",
       "         [ 0.0379, -0.2011,  0.4759,  0.1230],\n",
       "         ...,\n",
       "         [ 0.0561, -0.2333,  0.4642,  0.0871],\n",
       "         [ 0.0561, -0.2333,  0.4642,  0.0871],\n",
       "         [ 0.0561, -0.2333,  0.4642,  0.0871]],\n",
       "\n",
       "        ...,\n",
       "\n",
       "        [[-0.0766, -0.0992,  0.4970,  0.1808],\n",
       "         [-0.0024, -0.1543,  0.4951,  0.1524],\n",
       "         [ 0.0379, -0.2011,  0.4759,  0.1230],\n",
       "         ...,\n",
       "         [ 0.0559, -0.2330,  0.4643,  0.0867],\n",
       "         [ 0.0559, -0.2330,  0.4643,  0.0867],\n",
       "         [ 0.0559, -0.2329,  0.4643,  0.0867]],\n",
       "\n",
       "        [[-0.0766, -0.0992,  0.4970,  0.1808],\n",
       "         [-0.0024, -0.1543,  0.4951,  0.1524],\n",
       "         [ 0.0379, -0.2011,  0.4759,  0.1230],\n",
       "         ...,\n",
       "         [ 0.0563, -0.2339,  0.4640,  0.0875],\n",
       "         [ 0.0563, -0.2339,  0.4640,  0.0875],\n",
       "         [ 0.0563, -0.2339,  0.4640,  0.0875]],\n",
       "\n",
       "        [[-0.0766, -0.0992,  0.4970,  0.1808],\n",
       "         [-0.0024, -0.1543,  0.4951,  0.1524],\n",
       "         [ 0.0379, -0.2011,  0.4759,  0.1230],\n",
       "         ...,\n",
       "         [ 0.0561, -0.2333,  0.4642,  0.0871],\n",
       "         [ 0.0561, -0.2333,  0.4642,  0.0871],\n",
       "         [ 0.0561, -0.2333,  0.4642,  0.0871]]], dtype=torch.float64)"
      ]
     },
     "execution_count": 100,
     "metadata": {},
     "output_type": "execute_result"
=======
     "ename": "AttributeError",
     "evalue": "module 'torch' has no attribute 'double'",
     "output_type": "error",
     "traceback": [
      "\u001b[0;31m---------------------------------------------------------------------------\u001b[0m",
      "\u001b[0;31mAttributeError\u001b[0m                            Traceback (most recent call last)",
      "\u001b[0;32m<ipython-input-25-61b1268be65b>\u001b[0m in \u001b[0;36m<module>\u001b[0;34m()\u001b[0m\n\u001b[0;32m----> 1\u001b[0;31m \u001b[0mout\u001b[0m \u001b[0;34m=\u001b[0m \u001b[0mseq\u001b[0m\u001b[0;34m(\u001b[0m\u001b[0minputs\u001b[0m\u001b[0;34m)\u001b[0m\u001b[0;34m\u001b[0m\u001b[0m\n\u001b[0m\u001b[1;32m      2\u001b[0m \u001b[0mout\u001b[0m\u001b[0;34m\u001b[0m\u001b[0m\n",
      "\u001b[0;32m~/anaconda3/envs/fastai/lib/python3.6/site-packages/torch/nn/modules/module.py\u001b[0m in \u001b[0;36m__call__\u001b[0;34m(self, *input, **kwargs)\u001b[0m\n\u001b[1;32m    355\u001b[0m             \u001b[0mresult\u001b[0m \u001b[0;34m=\u001b[0m \u001b[0mself\u001b[0m\u001b[0;34m.\u001b[0m\u001b[0m_slow_forward\u001b[0m\u001b[0;34m(\u001b[0m\u001b[0;34m*\u001b[0m\u001b[0minput\u001b[0m\u001b[0;34m,\u001b[0m \u001b[0;34m**\u001b[0m\u001b[0mkwargs\u001b[0m\u001b[0;34m)\u001b[0m\u001b[0;34m\u001b[0m\u001b[0m\n\u001b[1;32m    356\u001b[0m         \u001b[0;32melse\u001b[0m\u001b[0;34m:\u001b[0m\u001b[0;34m\u001b[0m\u001b[0m\n\u001b[0;32m--> 357\u001b[0;31m             \u001b[0mresult\u001b[0m \u001b[0;34m=\u001b[0m \u001b[0mself\u001b[0m\u001b[0;34m.\u001b[0m\u001b[0mforward\u001b[0m\u001b[0;34m(\u001b[0m\u001b[0;34m*\u001b[0m\u001b[0minput\u001b[0m\u001b[0;34m,\u001b[0m \u001b[0;34m**\u001b[0m\u001b[0mkwargs\u001b[0m\u001b[0;34m)\u001b[0m\u001b[0;34m\u001b[0m\u001b[0m\n\u001b[0m\u001b[1;32m    358\u001b[0m         \u001b[0;32mfor\u001b[0m \u001b[0mhook\u001b[0m \u001b[0;32min\u001b[0m \u001b[0mself\u001b[0m\u001b[0;34m.\u001b[0m\u001b[0m_forward_hooks\u001b[0m\u001b[0;34m.\u001b[0m\u001b[0mvalues\u001b[0m\u001b[0;34m(\u001b[0m\u001b[0;34m)\u001b[0m\u001b[0;34m:\u001b[0m\u001b[0;34m\u001b[0m\u001b[0m\n\u001b[1;32m    359\u001b[0m             \u001b[0mhook_result\u001b[0m \u001b[0;34m=\u001b[0m \u001b[0mhook\u001b[0m\u001b[0;34m(\u001b[0m\u001b[0mself\u001b[0m\u001b[0;34m,\u001b[0m \u001b[0minput\u001b[0m\u001b[0;34m,\u001b[0m \u001b[0mresult\u001b[0m\u001b[0;34m)\u001b[0m\u001b[0;34m\u001b[0m\u001b[0m\n",
      "\u001b[0;32m<ipython-input-22-c49ca38ad890>\u001b[0m in \u001b[0;36mforward\u001b[0;34m(self, input)\u001b[0m\n\u001b[1;32m     42\u001b[0m     \u001b[0;32mdef\u001b[0m \u001b[0mforward\u001b[0m\u001b[0;34m(\u001b[0m\u001b[0mself\u001b[0m\u001b[0;34m,\u001b[0m \u001b[0minput\u001b[0m\u001b[0;34m)\u001b[0m\u001b[0;34m:\u001b[0m\u001b[0;34m\u001b[0m\u001b[0m\n\u001b[1;32m     43\u001b[0m         \u001b[0moutputs\u001b[0m \u001b[0;34m=\u001b[0m \u001b[0;34m[\u001b[0m\u001b[0;34m]\u001b[0m\u001b[0;34m\u001b[0m\u001b[0m\n\u001b[0;32m---> 44\u001b[0;31m         \u001b[0mh_t\u001b[0m \u001b[0;34m=\u001b[0m \u001b[0mtorch\u001b[0m\u001b[0;34m.\u001b[0m\u001b[0mzeros\u001b[0m\u001b[0;34m(\u001b[0m\u001b[0minput\u001b[0m\u001b[0;34m.\u001b[0m\u001b[0msize\u001b[0m\u001b[0;34m(\u001b[0m\u001b[0;36m0\u001b[0m\u001b[0;34m)\u001b[0m\u001b[0;34m,\u001b[0m \u001b[0mself\u001b[0m\u001b[0;34m.\u001b[0m\u001b[0mh1\u001b[0m\u001b[0;34m,\u001b[0m \u001b[0mdtype\u001b[0m\u001b[0;34m=\u001b[0m\u001b[0mtorch\u001b[0m\u001b[0;34m.\u001b[0m\u001b[0mdouble\u001b[0m\u001b[0;34m)\u001b[0m\u001b[0;34m\u001b[0m\u001b[0m\n\u001b[0m\u001b[1;32m     45\u001b[0m         \u001b[0mc_t\u001b[0m \u001b[0;34m=\u001b[0m \u001b[0mtorch\u001b[0m\u001b[0;34m.\u001b[0m\u001b[0mzeros\u001b[0m\u001b[0;34m(\u001b[0m\u001b[0minput\u001b[0m\u001b[0;34m.\u001b[0m\u001b[0msize\u001b[0m\u001b[0;34m(\u001b[0m\u001b[0;36m0\u001b[0m\u001b[0;34m)\u001b[0m\u001b[0;34m,\u001b[0m \u001b[0mself\u001b[0m\u001b[0;34m.\u001b[0m\u001b[0mh1\u001b[0m\u001b[0;34m,\u001b[0m \u001b[0mdtype\u001b[0m\u001b[0;34m=\u001b[0m\u001b[0mtorch\u001b[0m\u001b[0;34m.\u001b[0m\u001b[0mdouble\u001b[0m\u001b[0;34m)\u001b[0m\u001b[0;34m\u001b[0m\u001b[0m\n\u001b[1;32m     46\u001b[0m         \u001b[0mh_t2\u001b[0m \u001b[0;34m=\u001b[0m \u001b[0mtorch\u001b[0m\u001b[0;34m.\u001b[0m\u001b[0mzeros\u001b[0m\u001b[0;34m(\u001b[0m\u001b[0minput\u001b[0m\u001b[0;34m.\u001b[0m\u001b[0msize\u001b[0m\u001b[0;34m(\u001b[0m\u001b[0;36m0\u001b[0m\u001b[0;34m)\u001b[0m\u001b[0;34m,\u001b[0m \u001b[0mself\u001b[0m\u001b[0;34m.\u001b[0m\u001b[0mh2\u001b[0m\u001b[0;34m,\u001b[0m \u001b[0mdtype\u001b[0m\u001b[0;34m=\u001b[0m\u001b[0mtorch\u001b[0m\u001b[0;34m.\u001b[0m\u001b[0mdouble\u001b[0m\u001b[0;34m)\u001b[0m\u001b[0;34m\u001b[0m\u001b[0m\n",
      "\u001b[0;31mAttributeError\u001b[0m: module 'torch' has no attribute 'double'"
     ]
>>>>>>> c64c1452452931607088e2b598aacb87b87ec7a9
    }
   ],
   "source": [
    "out = seq(inputs)\n",
    "out"
   ]
  },
  {
   "cell_type": "code",
   "execution_count": 101,
   "metadata": {
    "ExecuteTime": {
     "end_time": "2018-07-30T22:41:10.182562Z",
     "start_time": "2018-07-30T22:41:10.177575Z"
    },
    "scrolled": true
   },
   "outputs": [
    {
     "data": {
      "text/plain": [
       "(torch.Size([100, 1000, 4]), torch.Size([100, 1000, 4]))"
      ]
     },
     "execution_count": 101,
     "metadata": {},
     "output_type": "execute_result"
    }
   ],
   "source": [
    "out.size(), targets.size()"
   ]
  },
  {
   "cell_type": "code",
   "execution_count": 102,
   "metadata": {
    "ExecuteTime": {
     "end_time": "2018-07-30T22:41:10.624780Z",
     "start_time": "2018-07-30T22:41:10.616780Z"
    }
   },
   "outputs": [
    {
     "data": {
      "text/plain": [
       "tensor(0.9281, dtype=torch.float64)"
      ]
     },
     "execution_count": 102,
     "metadata": {},
     "output_type": "execute_result"
    }
   ],
   "source": [
    "criterion(out, targets)"
   ]
  },
  {
   "cell_type": "markdown",
   "metadata": {},
   "source": [
    "### Train"
   ]
  },
  {
   "cell_type": "code",
   "execution_count": 104,
   "metadata": {
    "ExecuteTime": {
     "end_time": "2018-07-30T22:41:20.274530Z",
     "start_time": "2018-07-30T22:41:20.269544Z"
    }
   },
   "outputs": [],
   "source": [
    "losses = []"
   ]
  },
  {
   "cell_type": "code",
   "execution_count": 109,
   "metadata": {
    "ExecuteTime": {
     "end_time": "2018-07-30T22:52:15.675223Z",
     "start_time": "2018-07-30T22:52:15.671234Z"
    }
   },
   "outputs": [],
   "source": [
    "optimizer = optim.Adam(seq.parameters(), lr=1e-4)"
   ]
  },
  {
   "cell_type": "code",
   "execution_count": 110,
   "metadata": {
    "ExecuteTime": {
     "end_time": "2018-07-30T23:00:00.267398Z",
     "start_time": "2018-07-30T22:52:19.295871Z"
    },
    "scrolled": true
   },
   "outputs": [
    {
     "data": {
      "application/vnd.jupyter.widget-view+json": {
       "model_id": "2c33be858d1446b3afa3aa1d131b1a84",
       "version_major": 2,
       "version_minor": 0
      },
      "text/plain": [
       "HBox(children=(IntProgress(value=0, description='Epoch:', max=500), HTML(value='')))"
      ]
     },
     "metadata": {},
     "output_type": "display_data"
    },
    {
     "name": "stdout",
     "output_type": "stream",
     "text": [
      "i: 0 , loss: 0.0109527583604541\n",
      "i: 10 , loss: 0.010806837314353975\n",
      "i: 20 , loss: 0.010690444000764956\n",
      "i: 30 , loss: 0.010575258399329567\n",
      "i: 40 , loss: 0.010463053627695682\n",
      "i: 50 , loss: 0.010354847327459022\n",
      "i: 60 , loss: 0.010250704690094342\n",
      "i: 70 , loss: 0.010150309339886835\n",
      "i: 80 , loss: 0.010053295563573067\n",
      "i: 90 , loss: 0.009959258359374177\n",
      "i: 100 , loss: 0.009867855102137195\n",
      "i: 110 , loss: 0.00977878736565279\n",
      "i: 120 , loss: 0.009691816346995803\n",
      "i: 130 , loss: 0.009606755877297013\n",
      "i: 140 , loss: 0.009523464278036914\n",
      "i: 150 , loss: 0.009441839012395026\n",
      "i: 160 , loss: 0.009361810615173072\n",
      "i: 170 , loss: 0.009283338161224905\n",
      "i: 180 , loss: 0.009206405219234182\n",
      "i: 190 , loss: 0.009131016742622617\n",
      "i: 200 , loss: 0.009057196393516388\n",
      "i: 210 , loss: 0.00898498418275651\n",
      "i: 220 , loss: 0.008914434262474112\n",
      "i: 230 , loss: 0.008845612694982331\n",
      "i: 240 , loss: 0.008778595056017554\n",
      "i: 250 , loss: 0.008713463700205851\n",
      "i: 260 , loss: 0.008650304559374577\n",
      "i: 270 , loss: 0.008589203387607096\n",
      "i: 280 , loss: 0.008530241430143878\n",
      "i: 290 , loss: 0.008473490588012141\n",
      "i: 300 , loss: 0.008419008266532186\n",
      "i: 310 , loss: 0.008366832225728536\n",
      "i: 320 , loss: 0.008316975870507486\n",
      "i: 330 , loss: 0.008269424499035019\n",
      "i: 340 , loss: 0.008224133036535628\n",
      "i: 350 , loss: 0.008181025695374445\n",
      "i: 360 , loss: 0.008139997814366548\n",
      "i: 370 , loss: 0.008100919859535712\n",
      "i: 380 , loss: 0.008063643261527968\n",
      "i: 390 , loss: 0.008028007487709883\n",
      "i: 400 , loss: 0.00799384756726894\n",
      "i: 410 , loss: 0.00796100125144538\n",
      "i: 420 , loss: 0.007929315105374403\n",
      "i: 430 , loss: 0.007898649057965902\n",
      "i: 440 , loss: 0.007868879218279619\n",
      "i: 450 , loss: 0.007839899032246711\n",
      "i: 460 , loss: 0.007811619050388147\n",
      "i: 470 , loss: 0.007783965682064353\n",
      "i: 480 , loss: 0.007756879330137146\n",
      "i: 490 , loss: 0.0077305390222424455\n",
      "\n"
     ]
    }
   ],
   "source": [
    "for i in tqdm_notebook(range(500), desc='Epoch:'):\n",
    "    \n",
    "    def closure():\n",
    "        optimizer.zero_grad()\n",
    "        out = seq(inputs)\n",
    "        loss = criterion(out, targets)\n",
    "        losses.append(loss.detach().numpy())\n",
    "        loss.backward()\n",
    "        return loss\n",
    "    optimizer.step(closure)\n",
    "    \n",
    "    if i % 10 == 0:\n",
    "        print('i:', i, ', loss:', losses[-1])\n",
    "    # begin to predict, no need to track gradient here\n",
    "#     with torch.no_grad():\n",
    "#         future = 1000\n",
    "#         pred = seq(test_input, future=future)\n",
    "#         loss = criterion(pred[:, :-future], test_target)\n",
    "#         print('test loss:', loss.item())\n",
    "#         y = pred.detach().numpy()\n"
   ]
  },
  {
   "cell_type": "code",
   "execution_count": 111,
   "metadata": {
    "ExecuteTime": {
     "end_time": "2018-07-30T23:02:35.882375Z",
     "start_time": "2018-07-30T23:02:35.804585Z"
    },
    "scrolled": false
   },
   "outputs": [
    {
     "data": {
      "image/png": "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\n",
      "text/plain": [
       "<Figure size 432x288 with 1 Axes>"
      ]
     },
     "metadata": {},
     "output_type": "display_data"
    }
   ],
   "source": [
    "plt.plot(np.array(losses));"
   ]
  },
  {
   "cell_type": "code",
   "execution_count": 112,
   "metadata": {
    "ExecuteTime": {
     "end_time": "2018-07-30T23:02:46.571749Z",
     "start_time": "2018-07-30T23:02:46.243843Z"
    },
    "scrolled": true
   },
   "outputs": [
    {
     "data": {
      "text/plain": [
       "torch.Size([100, 1000, 4])"
      ]
     },
     "execution_count": 112,
     "metadata": {},
     "output_type": "execute_result"
    }
   ],
   "source": [
    "with torch.no_grad():\n",
    "    out = seq(inputs)\n",
    "out.size()"
   ]
  },
  {
   "cell_type": "code",
   "execution_count": 123,
   "metadata": {
    "ExecuteTime": {
     "end_time": "2018-07-30T23:03:12.439281Z",
     "start_time": "2018-07-30T23:03:12.295708Z"
    }
   },
   "outputs": [
    {
     "name": "stdout",
     "output_type": "stream",
     "text": [
      "Loss: 0.007709141354825658\n"
     ]
    },
    {
     "data": {
      "image/png": "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\n",
      "text/plain": [
       "<Figure size 864x360 with 1 Axes>"
      ]
     },
     "metadata": {},
     "output_type": "display_data"
    }
   ],
   "source": [
    "j = np.random.randint(0, N_samples)\n",
    "y_hat = out.detach().numpy()\n",
    "y_hat_df = DataFrame(data=y_hat[j,...], columns=['rf', 'rs', 'sf', 'ss'])\n",
    "res_j = pd.concat((paths[j], y_hat_df), axis=1)\n",
    "print('Loss:', criterion(out, targets).item())\n",
    "res_j[['Close', 'Support_slow', 'ss']].plot(figsize=(12, 5));"
   ]
  },
  {
   "cell_type": "markdown",
   "metadata": {},
   "source": [
    "### Test sample "
   ]
  },
  {
   "cell_type": "code",
   "execution_count": 72,
   "metadata": {
    "ExecuteTime": {
     "end_time": "2018-07-30T22:36:55.657439Z",
     "start_time": "2018-07-30T22:36:55.569551Z"
    }
   },
   "outputs": [],
   "source": [
    "test_samples = 10\n",
    "\n",
    "input_variables = ['Close']\n",
    "target_variables = ['Resistance_fast', 'Resistance_slow',\n",
    "                    'Support_fast', 'Support_slow']\n",
    "\n",
    "test_paths = [add_support_resistance(sim_path()) for i in range(test_samples)]\n",
    "test_inputs = np.array([p[input_variables].values for p in test_paths])\n",
    "test_targets = np.array([p[target_variables].values for p in test_paths])"
   ]
  },
  {
   "cell_type": "code",
   "execution_count": 73,
   "metadata": {
    "ExecuteTime": {
     "end_time": "2018-07-30T22:36:55.812421Z",
     "start_time": "2018-07-30T22:36:55.809429Z"
    }
   },
   "outputs": [],
   "source": [
    "test_inputs = torch.from_numpy(test_inputs)\n",
    "test_targets = torch.from_numpy(test_targets)"
   ]
  },
  {
   "cell_type": "code",
   "execution_count": 74,
   "metadata": {
    "ExecuteTime": {
     "end_time": "2018-07-30T22:36:56.061391Z",
     "start_time": "2018-07-30T22:36:56.057403Z"
    }
   },
   "outputs": [
    {
     "data": {
      "text/plain": [
       "torch.Size([10, 1000, 1])"
      ]
     },
     "execution_count": 74,
     "metadata": {},
     "output_type": "execute_result"
    }
   ],
   "source": [
    "test_inputs.size()"
   ]
  },
  {
   "cell_type": "code",
   "execution_count": 75,
   "metadata": {
    "ExecuteTime": {
     "end_time": "2018-07-30T22:36:56.595034Z",
     "start_time": "2018-07-30T22:36:56.425482Z"
    },
    "scrolled": true
   },
   "outputs": [
    {
     "data": {
      "text/plain": [
       "torch.Size([10, 1000, 4])"
      ]
     },
     "execution_count": 75,
     "metadata": {},
     "output_type": "execute_result"
    }
   ],
   "source": [
    "with torch.no_grad():\n",
    "    test_out = seq(test_inputs)\n",
    "test_out.size()"
   ]
  },
  {
   "cell_type": "code",
   "execution_count": 96,
   "metadata": {
    "ExecuteTime": {
     "end_time": "2018-07-30T22:39:24.486589Z",
     "start_time": "2018-07-30T22:39:24.341976Z"
    }
   },
   "outputs": [
    {
     "name": "stdout",
     "output_type": "stream",
     "text": [
      "Loss: 0.0019386608605562398\n"
     ]
    },
    {
     "data": {
      "image/png": "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\n",
      "text/plain": [
       "<Figure size 864x360 with 1 Axes>"
      ]
     },
     "metadata": {},
     "output_type": "display_data"
    }
   ],
   "source": [
    "j = np.random.randint(0, test_samples)\n",
    "y_hat = test_out.detach().numpy()\n",
    "y_hat_df = DataFrame(data=y_hat[j,...], columns=['rf', 'rs', 'sf', 'ss'])\n",
    "res_j = pd.concat((test_paths[j], y_hat_df), axis=1)\n",
    "print('Loss:', criterion(test_out, test_targets).item())\n",
    "res_j[['Close', 'Support_slow', 'ss']].plot(figsize=(12, 5));"
   ]
  }
 ],
 "metadata": {
  "kernelspec": {
   "display_name": "Python 3",
   "language": "python",
   "name": "python3"
  },
  "language_info": {
   "codemirror_mode": {
    "name": "ipython",
    "version": 3
   },
   "file_extension": ".py",
   "mimetype": "text/x-python",
   "name": "python",
   "nbconvert_exporter": "python",
   "pygments_lexer": "ipython3",
   "version": "3.6.6"
  },
  "toc": {
   "base_numbering": 1,
   "nav_menu": {},
   "number_sections": true,
   "sideBar": true,
   "skip_h1_title": false,
   "title_cell": "Table of Contents",
   "title_sidebar": "Contents",
   "toc_cell": false,
   "toc_position": {},
   "toc_section_display": true,
   "toc_window_display": false
  }
 },
 "nbformat": 4,
 "nbformat_minor": 2
}
