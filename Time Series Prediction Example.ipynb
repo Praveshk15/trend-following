{
 "cells": [
  {
   "cell_type": "code",
   "execution_count": 1,
   "metadata": {
    "ExecuteTime": {
     "end_time": "2018-07-30T21:30:23.999970Z",
     "start_time": "2018-07-30T21:30:23.767551Z"
    }
   },
   "outputs": [],
   "source": [
    "%matplotlib inline"
   ]
  },
  {
   "cell_type": "code",
   "execution_count": 2,
   "metadata": {
    "ExecuteTime": {
     "end_time": "2018-07-30T21:30:24.125633Z",
     "start_time": "2018-07-30T21:30:24.000927Z"
    }
   },
   "outputs": [],
   "source": [
    "from __future__ import print_function\n",
    "import torch\n",
    "import torch.nn as nn\n",
    "import torch.optim as optim\n",
    "import numpy as np\n",
    "import matplotlib\n",
    "import matplotlib.pyplot as plt\n",
    "\n",
    "from tqdm import tqdm_notebook"
   ]
  },
  {
   "cell_type": "markdown",
   "metadata": {
    "heading_collapsed": true
   },
   "source": [
    "# Generate Sine Wave "
   ]
  },
  {
   "cell_type": "code",
   "execution_count": null,
   "metadata": {
    "ExecuteTime": {
     "end_time": "2018-07-28T20:22:33.035324Z",
     "start_time": "2018-07-28T20:22:33.030650Z"
    },
    "hidden": true
   },
   "outputs": [],
   "source": [
    "np.random.seed(2)\n",
    "\n",
    "T = 20\n",
    "L = 1000\n",
    "N = 100"
   ]
  },
  {
   "cell_type": "code",
   "execution_count": null,
   "metadata": {
    "ExecuteTime": {
     "end_time": "2018-07-28T20:22:33.055501Z",
     "start_time": "2018-07-28T20:22:33.044449Z"
    },
    "hidden": true
   },
   "outputs": [],
   "source": [
    "x = np.empty((N, L), 'int64')\n",
    "x[:] = np.array(range(L)) + np.random.randint(-4 * T, 4 * T, N).reshape(N, 1)\n",
    "x.shape"
   ]
  },
  {
   "cell_type": "code",
   "execution_count": null,
   "metadata": {
    "ExecuteTime": {
     "end_time": "2018-07-28T20:22:33.085195Z",
     "start_time": "2018-07-28T20:22:33.059848Z"
    },
    "hidden": true
   },
   "outputs": [],
   "source": [
    "data = np.sin(x / 1.0 / T).astype('float64')\n",
    "torch.save(data, open('traindata.pt', 'wb'))\n",
    "data.shape"
   ]
  },
  {
   "cell_type": "code",
   "execution_count": null,
   "metadata": {
    "ExecuteTime": {
     "end_time": "2018-07-28T22:48:40.290409Z",
     "start_time": "2018-07-28T22:48:40.075262Z"
    },
    "hidden": true,
    "scrolled": true
   },
   "outputs": [],
   "source": [
    "plt.plot(data[5,: ])"
   ]
  },
  {
   "cell_type": "code",
   "execution_count": null,
   "metadata": {
    "ExecuteTime": {
     "end_time": "2018-07-28T22:48:14.885304Z",
     "start_time": "2018-07-28T22:48:14.879478Z"
    },
    "hidden": true
   },
   "outputs": [],
   "source": [
    "train_input.size(1)"
   ]
  },
  {
   "cell_type": "markdown",
   "metadata": {
    "hidden": true
   },
   "source": [
    "To use the data in the model, `.chunk(train_input.size(1), dim=1)` splits it into slices `1, 2, ..., t, ..., L`."
   ]
  },
  {
   "cell_type": "code",
   "execution_count": null,
   "metadata": {
    "ExecuteTime": {
     "end_time": "2018-07-28T22:54:43.718835Z",
     "start_time": "2018-07-28T22:54:43.710451Z"
    },
    "hidden": true,
    "scrolled": true
   },
   "outputs": [],
   "source": [
    "list(train_input.chunk(train_input.size(1), dim=1))[0].size()"
   ]
  },
  {
   "cell_type": "markdown",
   "metadata": {
    "heading_collapsed": true
   },
   "source": [
    "# Train "
   ]
  },
  {
   "cell_type": "code",
   "execution_count": null,
   "metadata": {
    "ExecuteTime": {
     "end_time": "2018-07-28T20:23:36.105874Z",
     "start_time": "2018-07-28T20:23:36.097023Z"
    },
    "hidden": true
   },
   "outputs": [],
   "source": [
    "class Sequence(nn.Module):\n",
    "    def __init__(self):\n",
    "        super(Sequence, self).__init__()\n",
    "        self.lstm1 = nn.LSTMCell(1, 51)\n",
    "        self.lstm2 = nn.LSTMCell(51, 51)\n",
    "        self.linear = nn.Linear(51, 1)\n",
    "\n",
    "    def forward(self, input, future = 0):\n",
    "        outputs = []\n",
    "        h_t = torch.zeros(input.size(0), 51, dtype=torch.double)\n",
    "        c_t = torch.zeros(input.size(0), 51, dtype=torch.double)\n",
    "        h_t2 = torch.zeros(input.size(0), 51, dtype=torch.double)\n",
    "        c_t2 = torch.zeros(input.size(0), 51, dtype=torch.double)\n",
    "\n",
    "        for i, input_t in enumerate(input.chunk(input.size(1), dim=1)):\n",
    "            h_t, c_t = self.lstm1(input_t, (h_t, c_t))\n",
    "            h_t2, c_t2 = self.lstm2(h_t, (h_t2, c_t2))\n",
    "            output = self.linear(h_t2)\n",
    "            outputs += [output]\n",
    "        for i in range(future):# if we should predict the future\n",
    "            h_t, c_t = self.lstm1(output, (h_t, c_t))\n",
    "            h_t2, c_t2 = self.lstm2(h_t, (h_t2, c_t2))\n",
    "            output = self.linear(h_t2)\n",
    "            outputs += [output]\n",
    "        outputs = torch.stack(outputs, 1).squeeze(2)\n",
    "        return outputs\n"
   ]
  },
  {
   "cell_type": "code",
   "execution_count": null,
   "metadata": {
    "ExecuteTime": {
     "end_time": "2018-07-28T20:23:36.117430Z",
     "start_time": "2018-07-28T20:23:36.109045Z"
    },
    "hidden": true
   },
   "outputs": [],
   "source": [
    "# set random seed to 0\n",
    "np.random.seed(0)\n",
    "torch.manual_seed(0)"
   ]
  },
  {
   "cell_type": "markdown",
   "metadata": {
    "hidden": true
   },
   "source": [
    "## Train and Test sets "
   ]
  },
  {
   "cell_type": "code",
   "execution_count": null,
   "metadata": {
    "ExecuteTime": {
     "end_time": "2018-07-28T20:23:36.135321Z",
     "start_time": "2018-07-28T20:23:36.120738Z"
    },
    "hidden": true
   },
   "outputs": [],
   "source": [
    "# load data and make training set\n",
    "data = torch.load('traindata.pt')\n",
    "\n",
    "# Train dataset\n",
    "train_input = torch.from_numpy(data[3:, :-1])\n",
    "train_target = torch.from_numpy(data[3:, 1:])\n",
    "\n",
    "# Test dataset\n",
    "test_input = torch.from_numpy(data[:3, :-1])\n",
    "test_target = torch.from_numpy(data[:3, 1:])\n"
   ]
  },
  {
   "cell_type": "code",
   "execution_count": null,
   "metadata": {
    "ExecuteTime": {
     "end_time": "2018-07-28T23:02:01.278522Z",
     "start_time": "2018-07-28T23:02:01.270249Z"
    },
    "hidden": true
   },
   "outputs": [],
   "source": [
    "data.shape"
   ]
  },
  {
   "cell_type": "code",
   "execution_count": null,
   "metadata": {
    "ExecuteTime": {
     "end_time": "2018-07-28T22:45:07.819183Z",
     "start_time": "2018-07-28T22:45:07.606880Z"
    },
    "hidden": true
   },
   "outputs": [],
   "source": [
    "plt.plot(train_input[96].numpy())"
   ]
  },
  {
   "cell_type": "code",
   "execution_count": null,
   "metadata": {
    "ExecuteTime": {
     "end_time": "2018-07-28T20:23:36.142498Z",
     "start_time": "2018-07-28T20:23:36.137657Z"
    },
    "hidden": true
   },
   "outputs": [],
   "source": [
    "print('Train input:', train_input.size(), ', Train target:', train_target.size())"
   ]
  },
  {
   "cell_type": "markdown",
   "metadata": {
    "hidden": true
   },
   "source": [
    "## Build the model"
   ]
  },
  {
   "cell_type": "code",
   "execution_count": null,
   "metadata": {
    "ExecuteTime": {
     "end_time": "2018-07-28T20:23:36.153791Z",
     "start_time": "2018-07-28T20:23:36.145056Z"
    },
    "hidden": true
   },
   "outputs": [],
   "source": [
    "# build the model\n",
    "seq = Sequence()\n",
    "seq.double()"
   ]
  },
  {
   "cell_type": "code",
   "execution_count": null,
   "metadata": {
    "ExecuteTime": {
     "end_time": "2018-07-28T20:23:36.161313Z",
     "start_time": "2018-07-28T20:23:36.156950Z"
    },
    "hidden": true
   },
   "outputs": [],
   "source": [
    "criterion = nn.MSELoss()\n",
    "\n",
    "# use LBFGS as optimizer since we can load the whole data to train\n",
    "optimizer = optim.LBFGS(seq.parameters(), lr=0.8)\n",
    "\n",
    "# optimizer = optim.Adam(seq.parameters(), lr=0.1, weight_decay=1e-3)"
   ]
  },
  {
   "cell_type": "markdown",
   "metadata": {
    "hidden": true
   },
   "source": [
    "## Train"
   ]
  },
  {
   "cell_type": "code",
   "execution_count": null,
   "metadata": {
    "ExecuteTime": {
     "end_time": "2018-07-28T20:39:46.412459Z",
     "start_time": "2018-07-28T20:23:36.163947Z"
    },
    "hidden": true,
    "scrolled": true
   },
   "outputs": [],
   "source": [
    "#begin to train\n",
    "for i in tqdm_notebook(range(20), desc='Epoch:'):\n",
    "    \n",
    "    def closure():\n",
    "        optimizer.zero_grad()\n",
    "        out = seq(train_input)\n",
    "        loss = criterion(out, train_target)\n",
    "        print('loss:', loss.item())\n",
    "        loss.backward()\n",
    "        return loss\n",
    "    optimizer.step(closure)\n",
    "    # begin to predict, no need to track gradient here\n",
    "    with torch.no_grad():\n",
    "        future = 1000\n",
    "        pred = seq(test_input, future=future)\n",
    "        loss = criterion(pred[:, :-future], test_target)\n",
    "        print('test loss:', loss.item())\n",
    "        y = pred.detach().numpy()\n",
    "    # draw the result\n",
    "    plt.figure(figsize=(30,10))\n",
    "    plt.title('Predict future values for time sequences\\n(Dashlines are predicted values)',\n",
    "              fontsize=30)\n",
    "    plt.xlabel('x', fontsize=20)\n",
    "    plt.ylabel('y', fontsize=20)\n",
    "    plt.xticks(fontsize=20)\n",
    "    plt.yticks(fontsize=20)\n",
    "    def draw(yi, color):\n",
    "        plt.plot(np.arange(train_input.size(1)),\n",
    "                 yi[:train_input.size(1)], color, linewidth = 2.0)\n",
    "        plt.plot(np.arange(train_input.size(1), train_input.size(1) + future), \n",
    "                 yi[train_input.size(1):], color + ':', linewidth = 2.0)\n",
    "    draw(y[0], 'r')\n",
    "    draw(y[1], 'g')\n",
    "    draw(y[2], 'b')\n",
    "    plt.show()"
   ]
  },
  {
   "cell_type": "markdown",
   "metadata": {},
   "source": [
    "# Trends and prices\n",
    "\n",
    "* Simulate price paths according to Dai, M., Zhang, Q., & Zhu, Q. J. (2010). _Trend following trading under a regime switching model_. SIAM Journal on Financial Mathematics, 1(1), 780-810."
   ]
  },
  {
   "cell_type": "code",
   "execution_count": 3,
   "metadata": {
    "ExecuteTime": {
     "end_time": "2018-07-30T21:30:26.191709Z",
     "start_time": "2018-07-30T21:30:26.031974Z"
    }
   },
   "outputs": [],
   "source": [
    "import pandas as pd\n",
    "from pandas import DataFrame, Series\n",
    "pd.set_option('display.max_rows', 6)"
   ]
  },
  {
   "cell_type": "code",
   "execution_count": 4,
   "metadata": {
    "ExecuteTime": {
     "end_time": "2018-07-30T21:30:26.220557Z",
     "start_time": "2018-07-30T21:30:26.214548Z"
    }
   },
   "outputs": [],
   "source": [
    "def sim_path(N=1000, P=np.array([[0.95, 0.05], [0.1, 0.9]]),\n",
    "             mu=[-0.05, 0.1], sigma=0.35, S0=1, dt=1/250):\n",
    "    \n",
    "    # State simulation\n",
    "    state = np.random.randint(0, 2)\n",
    "    states = [state]\n",
    "    for t in range(N - 1):\n",
    "        state = int(np.random.multinomial(1, P[state, :]).argmax())\n",
    "        states.append(state)\n",
    "    \n",
    "    # Price simulation\n",
    "    drift = (np.array([mu[s] for s in states[1:]]) - 0.5 * sigma**2) * dt\n",
    "    wiener = np.random.randn(N - 1) * sigma * np.sqrt(dt)\n",
    "\n",
    "    S = S0 * np.concatenate((np.ones(1), np.exp(np.cumsum(drift + wiener))))\n",
    "    \n",
    "    res_df = DataFrame(data=dict(Close=S, State=states))\n",
    "    res_df = res_df.assign(Ch = res_df.Close.pct_change().add(1).apply('log'))\n",
    "    res_df = res_df.assign(Ch2 = res_df.Ch.pow(2),\n",
    "                           Ch3 = res_df.Ch.pow(3),\n",
    "                           Ch4 = res_df.Ch.pow(4)).fillna(0)\n",
    "    return res_df"
   ]
  },
  {
   "cell_type": "code",
   "execution_count": 5,
   "metadata": {
    "ExecuteTime": {
     "end_time": "2018-07-30T21:30:28.220716Z",
     "start_time": "2018-07-30T21:30:28.079120Z"
    },
    "scrolled": true
   },
   "outputs": [
    {
     "data": {
      "image/png": "[encoded data removed]",
      "text/plain": [
       "<Figure size 720x288 with 1 Axes>"
      ]
     },
     "metadata": {},
     "output_type": "display_data"
    }
   ],
   "source": [
    "price_df = sim_path()\n",
    "price_df[['Close', 'State']].plot(figsize=(10, 4), alpha = 0.5);"
   ]
  },
  {
   "cell_type": "code",
   "execution_count": 6,
   "metadata": {
    "ExecuteTime": {
     "end_time": "2018-07-30T21:30:29.580772Z",
     "start_time": "2018-07-30T21:30:29.567814Z"
    },
    "scrolled": true
   },
   "outputs": [
    {
     "data": {
      "text/html": [
       "<div>\n",
       "<style scoped>\n",
       "    .dataframe tbody tr th:only-of-type {\n",
       "        vertical-align: middle;\n",
       "    }\n",
       "\n",
       "    .dataframe tbody tr th {\n",
       "        vertical-align: top;\n",
       "    }\n",
       "\n",
       "    .dataframe thead th {\n",
       "        text-align: right;\n",
       "    }\n",
       "</style>\n",
       "<table border=\"1\" class=\"dataframe\">\n",
       "  <thead>\n",
       "    <tr style=\"text-align: right;\">\n",
       "      <th></th>\n",
       "      <th>Close</th>\n",
       "      <th>State</th>\n",
       "      <th>Ch</th>\n",
       "      <th>Ch2</th>\n",
       "      <th>Ch3</th>\n",
       "      <th>Ch4</th>\n",
       "    </tr>\n",
       "  </thead>\n",
       "  <tbody>\n",
       "    <tr>\n",
       "      <th>0</th>\n",
       "      <td>1.000000</td>\n",
       "      <td>0</td>\n",
       "      <td>0.000000</td>\n",
       "      <td>0.000000</td>\n",
       "      <td>0.000000e+00</td>\n",
       "      <td>0.000000e+00</td>\n",
       "    </tr>\n",
       "    <tr>\n",
       "      <th>1</th>\n",
       "      <td>0.985885</td>\n",
       "      <td>0</td>\n",
       "      <td>-0.014216</td>\n",
       "      <td>0.000202</td>\n",
       "      <td>-2.872754e-06</td>\n",
       "      <td>4.083801e-08</td>\n",
       "    </tr>\n",
       "    <tr>\n",
       "      <th>2</th>\n",
       "      <td>0.964182</td>\n",
       "      <td>0</td>\n",
       "      <td>-0.022260</td>\n",
       "      <td>0.000495</td>\n",
       "      <td>-1.102973e-05</td>\n",
       "      <td>2.455197e-07</td>\n",
       "    </tr>\n",
       "    <tr>\n",
       "      <th>...</th>\n",
       "      <td>...</td>\n",
       "      <td>...</td>\n",
       "      <td>...</td>\n",
       "      <td>...</td>\n",
       "      <td>...</td>\n",
       "      <td>...</td>\n",
       "    </tr>\n",
       "    <tr>\n",
       "      <th>997</th>\n",
       "      <td>0.534556</td>\n",
       "      <td>0</td>\n",
       "      <td>-0.003547</td>\n",
       "      <td>0.000013</td>\n",
       "      <td>-4.462267e-08</td>\n",
       "      <td>1.582732e-10</td>\n",
       "    </tr>\n",
       "    <tr>\n",
       "      <th>998</th>\n",
       "      <td>0.543795</td>\n",
       "      <td>0</td>\n",
       "      <td>0.017135</td>\n",
       "      <td>0.000294</td>\n",
       "      <td>5.030738e-06</td>\n",
       "      <td>8.620034e-08</td>\n",
       "    </tr>\n",
       "    <tr>\n",
       "      <th>999</th>\n",
       "      <td>0.545879</td>\n",
       "      <td>0</td>\n",
       "      <td>0.003824</td>\n",
       "      <td>0.000015</td>\n",
       "      <td>5.593211e-08</td>\n",
       "      <td>2.139020e-10</td>\n",
       "    </tr>\n",
       "  </tbody>\n",
       "</table>\n",
       "<p>1000 rows × 6 columns</p>\n",
       "</div>"
      ],
      "text/plain": [
       "        Close  State        Ch       Ch2           Ch3           Ch4\n",
       "0    1.000000      0  0.000000  0.000000  0.000000e+00  0.000000e+00\n",
       "1    0.985885      0 -0.014216  0.000202 -2.872754e-06  4.083801e-08\n",
       "2    0.964182      0 -0.022260  0.000495 -1.102973e-05  2.455197e-07\n",
       "..        ...    ...       ...       ...           ...           ...\n",
       "997  0.534556      0 -0.003547  0.000013 -4.462267e-08  1.582732e-10\n",
       "998  0.543795      0  0.017135  0.000294  5.030738e-06  8.620034e-08\n",
       "999  0.545879      0  0.003824  0.000015  5.593211e-08  2.139020e-10\n",
       "\n",
       "[1000 rows x 6 columns]"
      ]
     },
     "execution_count": 6,
     "metadata": {},
     "output_type": "execute_result"
    }
   ],
   "source": [
    "price_df"
   ]
  },
  {
   "cell_type": "markdown",
   "metadata": {
    "heading_collapsed": true
   },
   "source": [
    "## Only Price "
   ]
  },
  {
   "cell_type": "markdown",
   "metadata": {
    "hidden": true
   },
   "source": [
    "### Train and test sets\n",
    "\n",
    "The input data for an LSTM cell in pytorch must be of dimension:\n",
    "\n",
    "* `(seq_len, batch, input_size) = (seq_len, N_samples, 1)`."
   ]
  },
  {
   "cell_type": "code",
   "execution_count": null,
   "metadata": {
    "ExecuteTime": {
     "end_time": "2018-07-28T23:52:42.423873Z",
     "start_time": "2018-07-28T23:52:41.647134Z"
    },
    "hidden": true
   },
   "outputs": [],
   "source": [
    "N_samples = 100\n",
    "\n",
    "paths = [sim_path() for i in range(N_samples)]\n",
    "inputs = np.array([p.Close.values for p in paths])\n",
    "targets = np.array([p.State.values for p in paths])"
   ]
  },
  {
   "cell_type": "code",
   "execution_count": null,
   "metadata": {
    "ExecuteTime": {
     "end_time": "2018-07-28T23:52:42.430601Z",
     "start_time": "2018-07-28T23:52:42.426549Z"
    },
    "hidden": true
   },
   "outputs": [],
   "source": [
    "inputs = torch.from_numpy(inputs)\n",
    "targets = torch.from_numpy(targets)"
   ]
  },
  {
   "cell_type": "code",
   "execution_count": null,
   "metadata": {
    "ExecuteTime": {
     "end_time": "2018-07-28T23:52:42.439937Z",
     "start_time": "2018-07-28T23:52:42.434421Z"
    },
    "hidden": true,
    "scrolled": true
   },
   "outputs": [],
   "source": [
    "inputs.size(), targets.size()"
   ]
  },
  {
   "cell_type": "code",
   "execution_count": null,
   "metadata": {
    "ExecuteTime": {
     "end_time": "2018-07-28T23:52:42.605799Z",
     "start_time": "2018-07-28T23:52:42.592993Z"
    },
    "hidden": true
   },
   "outputs": [],
   "source": [
    "list(inputs.chunk(inputs.size(1), dim=1))[0].size()"
   ]
  },
  {
   "cell_type": "markdown",
   "metadata": {
    "hidden": true
   },
   "source": [
    "### Build the model"
   ]
  },
  {
   "cell_type": "code",
   "execution_count": null,
   "metadata": {
    "ExecuteTime": {
     "end_time": "2018-07-28T23:52:47.181519Z",
     "start_time": "2018-07-28T23:52:47.174911Z"
    },
    "hidden": true
   },
   "outputs": [],
   "source": [
    "class Sequence(nn.Module):\n",
    "    def __init__(self):\n",
    "        super(Sequence, self).__init__()\n",
    "        self.lstm1 = nn.LSTMCell(1, 51)\n",
    "        self.lstm2 = nn.LSTMCell(51, 51)\n",
    "        self.linear = nn.Linear(51, 2)\n",
    "        self.sigmoid = nn.Sigmoid()\n",
    "\n",
    "    def forward(self, input):\n",
    "        outputs = []\n",
    "        h_t = torch.zeros(input.size(0), 51, dtype=torch.double)\n",
    "        c_t = torch.zeros(input.size(0), 51, dtype=torch.double)\n",
    "        h_t2 = torch.zeros(input.size(0), 51, dtype=torch.double)\n",
    "        c_t2 = torch.zeros(input.size(0), 51, dtype=torch.double)\n",
    "\n",
    "        for i, input_t in enumerate(input.chunk(input.size(1), dim=1)):\n",
    "            h_t, c_t = self.lstm1(input_t, (h_t, c_t))\n",
    "            h_t2, c_t2 = self.lstm2(h_t, (h_t2, c_t2))\n",
    "            output = self.sigmoid(self.linear(h_t2))\n",
    "            outputs += [output]\n",
    "\n",
    "        outputs = torch.stack(outputs, 1).squeeze(2)\n",
    "        return outputs\n"
   ]
  },
  {
   "cell_type": "code",
   "execution_count": null,
   "metadata": {
    "ExecuteTime": {
     "end_time": "2018-07-28T23:52:48.116146Z",
     "start_time": "2018-07-28T23:52:48.106391Z"
    },
    "hidden": true
   },
   "outputs": [],
   "source": [
    "# build the model\n",
    "seq = Sequence()\n",
    "seq.double()"
   ]
  },
  {
   "cell_type": "code",
   "execution_count": null,
   "metadata": {
    "ExecuteTime": {
     "end_time": "2018-07-28T23:53:07.645131Z",
     "start_time": "2018-07-28T23:53:07.641007Z"
    },
    "hidden": true
   },
   "outputs": [],
   "source": [
    "criterion = nn.CrossEntropyLoss()\n",
    "\n",
    "# use LBFGS as optimizer since we can load the whole data to train\n",
    "# optimizer = optim.LBFGS(seq.parameters(), lr=0.8)\n",
    "\n",
    "optimizer = optim.Adam(seq.parameters())"
   ]
  },
  {
   "cell_type": "code",
   "execution_count": null,
   "metadata": {
    "ExecuteTime": {
     "end_time": "2018-07-28T23:53:11.141907Z",
     "start_time": "2018-07-28T23:53:08.847939Z"
    },
    "hidden": true,
    "scrolled": true
   },
   "outputs": [],
   "source": [
    "out = seq(inputs)\n",
    "out"
   ]
  },
  {
   "cell_type": "code",
   "execution_count": null,
   "metadata": {
    "ExecuteTime": {
     "end_time": "2018-07-28T23:53:11.162694Z",
     "start_time": "2018-07-28T23:53:11.150034Z"
    },
    "hidden": true
   },
   "outputs": [],
   "source": [
    "out.view(-1, 2).size()"
   ]
  },
  {
   "cell_type": "code",
   "execution_count": null,
   "metadata": {
    "ExecuteTime": {
     "end_time": "2018-07-28T23:53:11.178797Z",
     "start_time": "2018-07-28T23:53:11.169751Z"
    },
    "hidden": true
   },
   "outputs": [],
   "source": [
    "targets.view(-1).size()"
   ]
  },
  {
   "cell_type": "code",
   "execution_count": null,
   "metadata": {
    "ExecuteTime": {
     "end_time": "2018-07-28T23:53:11.198862Z",
     "start_time": "2018-07-28T23:53:11.187858Z"
    },
    "hidden": true
   },
   "outputs": [],
   "source": [
    "out.size(), targets.size()"
   ]
  },
  {
   "cell_type": "code",
   "execution_count": null,
   "metadata": {
    "ExecuteTime": {
     "end_time": "2018-07-28T23:53:11.268616Z",
     "start_time": "2018-07-28T23:53:11.213285Z"
    },
    "hidden": true
   },
   "outputs": [],
   "source": [
    "criterion(out.view(-1, 2), targets.view(-1))"
   ]
  },
  {
   "cell_type": "markdown",
   "metadata": {
    "hidden": true
   },
   "source": [
    "### Train"
   ]
  },
  {
   "cell_type": "code",
   "execution_count": null,
   "metadata": {
    "ExecuteTime": {
     "end_time": "2018-07-28T23:54:41.458802Z",
     "start_time": "2018-07-28T23:53:35.336921Z"
    },
    "hidden": true,
    "scrolled": true
   },
   "outputs": [],
   "source": [
    "#begin to train\n",
    "for i in tqdm_notebook(range(20), desc='Epoch:'):\n",
    "    \n",
    "    def closure():\n",
    "        optimizer.zero_grad()\n",
    "        out = seq(inputs)\n",
    "        loss = criterion(out.view(-1, 2), targets.view(-1))\n",
    "        print('loss:', loss.item())\n",
    "        loss.backward()\n",
    "        return loss\n",
    "    optimizer.step(closure)\n",
    "    # begin to predict, no need to track gradient here\n",
    "#     with torch.no_grad():\n",
    "#         future = 1000\n",
    "#         pred = seq(test_input, future=future)\n",
    "#         loss = criterion(pred[:, :-future], test_target)\n",
    "#         print('test loss:', loss.item())\n",
    "#         y = pred.detach().numpy()\n"
   ]
  },
  {
   "cell_type": "code",
   "execution_count": null,
   "metadata": {
    "ExecuteTime": {
     "end_time": "2018-07-28T23:54:43.816733Z",
     "start_time": "2018-07-28T23:54:41.461955Z"
    },
    "hidden": true,
    "scrolled": true
   },
   "outputs": [],
   "source": [
    "out = seq(inputs)\n",
    "out"
   ]
  },
  {
   "cell_type": "markdown",
   "metadata": {},
   "source": [
    "## Price and changes"
   ]
  },
  {
   "cell_type": "markdown",
   "metadata": {
    "heading_collapsed": true
   },
   "source": [
    "### Train and test sets\n",
    "\n",
    "The input data for an LSTM cell in pytorch must be of dimension:\n",
    "\n",
    "* `(seq_len, batch, input_size) = (seq_len, N_samples, 5)`."
   ]
  },
  {
   "cell_type": "code",
   "execution_count": null,
   "metadata": {
    "ExecuteTime": {
     "end_time": "2018-07-28T23:55:19.742212Z",
     "start_time": "2018-07-28T23:55:18.927909Z"
    },
    "hidden": true
   },
   "outputs": [],
   "source": [
    "N_samples = 100\n",
    "\n",
    "paths = [sim_path() for i in range(N_samples)]\n",
    "inputs = np.array([p.drop('State', axis=1).values for p in paths])\n",
    "targets = np.array([p.State.values for p in paths])"
   ]
  },
  {
   "cell_type": "code",
   "execution_count": null,
   "metadata": {
    "ExecuteTime": {
     "end_time": "2018-07-28T23:55:19.750426Z",
     "start_time": "2018-07-28T23:55:19.745108Z"
    },
    "hidden": true
   },
   "outputs": [],
   "source": [
    "inputs = torch.from_numpy(inputs)\n",
    "targets = torch.from_numpy(targets)"
   ]
  },
  {
   "cell_type": "code",
   "execution_count": null,
   "metadata": {
    "ExecuteTime": {
     "end_time": "2018-07-28T23:55:19.764874Z",
     "start_time": "2018-07-28T23:55:19.754748Z"
    },
    "hidden": true,
    "scrolled": true
   },
   "outputs": [],
   "source": [
    "inputs.size(), targets.size()"
   ]
  },
  {
   "cell_type": "code",
   "execution_count": null,
   "metadata": {
    "ExecuteTime": {
     "end_time": "2018-07-28T23:55:19.782460Z",
     "start_time": "2018-07-28T23:55:19.772379Z"
    },
    "hidden": true
   },
   "outputs": [],
   "source": [
    "list(inputs.chunk(inputs.size(1), dim=1))[0].view(N_samples, -1).size()"
   ]
  },
  {
   "cell_type": "markdown",
   "metadata": {
    "heading_collapsed": true
   },
   "source": [
    "### Build the model"
   ]
  },
  {
   "cell_type": "code",
   "execution_count": null,
   "metadata": {
    "ExecuteTime": {
     "end_time": "2018-07-28T23:55:33.613536Z",
     "start_time": "2018-07-28T23:55:33.607020Z"
    },
    "hidden": true
   },
   "outputs": [],
   "source": [
    "class Sequence(nn.Module):\n",
    "    def __init__(self):\n",
    "        super(Sequence, self).__init__()\n",
    "        self.lstm1 = nn.LSTMCell(5, 51)\n",
    "        self.lstm2 = nn.LSTMCell(51, 51)\n",
    "        self.linear = nn.Linear(51, 2)\n",
    "        self.sigmoid = nn.Sigmoid()\n",
    "\n",
    "    def forward(self, input):\n",
    "        outputs = []\n",
    "        h_t = torch.zeros(input.size(0), 51, dtype=torch.double)\n",
    "        c_t = torch.zeros(input.size(0), 51, dtype=torch.double)\n",
    "        h_t2 = torch.zeros(input.size(0), 51, dtype=torch.double)\n",
    "        c_t2 = torch.zeros(input.size(0), 51, dtype=torch.double)\n",
    "\n",
    "        for i, input_t in enumerate(input.chunk(input.size(1), dim=1)):\n",
    "            h_t, c_t = self.lstm1(input_t.view(N_samples, -1), (h_t, c_t))\n",
    "            h_t2, c_t2 = self.lstm2(h_t, (h_t2, c_t2))\n",
    "            output = self.sigmoid(self.linear(h_t2))\n",
    "            outputs += [output]\n",
    "\n",
    "        outputs = torch.stack(outputs, 1).squeeze(2)\n",
    "        return outputs\n"
   ]
  },
  {
   "cell_type": "code",
   "execution_count": null,
   "metadata": {
    "ExecuteTime": {
     "end_time": "2018-07-28T23:55:34.206250Z",
     "start_time": "2018-07-28T23:55:34.198216Z"
    },
    "hidden": true
   },
   "outputs": [],
   "source": [
    "# build the model\n",
    "seq = Sequence()\n",
    "seq.double()"
   ]
  },
  {
   "cell_type": "code",
   "execution_count": null,
   "metadata": {
    "ExecuteTime": {
     "end_time": "2018-07-28T23:55:34.724157Z",
     "start_time": "2018-07-28T23:55:34.719776Z"
    },
    "hidden": true
   },
   "outputs": [],
   "source": [
    "criterion = nn.CrossEntropyLoss()\n",
    "\n",
    "# use LBFGS as optimizer since we can load the whole data to train\n",
    "# optimizer = optim.LBFGS(seq.parameters(), lr=0.1)\n",
    "\n",
    "optimizer = optim.Adam(seq.parameters())"
   ]
  },
  {
   "cell_type": "code",
   "execution_count": null,
   "metadata": {
    "ExecuteTime": {
     "end_time": "2018-07-28T23:55:37.566994Z",
     "start_time": "2018-07-28T23:55:35.426779Z"
    },
    "hidden": true
   },
   "outputs": [],
   "source": [
    "out = seq(inputs)\n",
    "out"
   ]
  },
  {
   "cell_type": "code",
   "execution_count": null,
   "metadata": {
    "ExecuteTime": {
     "end_time": "2018-07-28T23:55:39.034933Z",
     "start_time": "2018-07-28T23:55:39.029045Z"
    },
    "hidden": true
   },
   "outputs": [],
   "source": [
    "out.size(), targets.size()"
   ]
  },
  {
   "cell_type": "code",
   "execution_count": null,
   "metadata": {
    "ExecuteTime": {
     "end_time": "2018-07-28T23:55:39.579820Z",
     "start_time": "2018-07-28T23:55:39.573201Z"
    },
    "hidden": true
   },
   "outputs": [],
   "source": [
    "out.view(-1, 2).size()"
   ]
  },
  {
   "cell_type": "code",
   "execution_count": null,
   "metadata": {
    "ExecuteTime": {
     "end_time": "2018-07-28T23:55:39.795955Z",
     "start_time": "2018-07-28T23:55:39.790250Z"
    },
    "hidden": true
   },
   "outputs": [],
   "source": [
    "targets.view(-1).size()"
   ]
  },
  {
   "cell_type": "code",
   "execution_count": null,
   "metadata": {
    "ExecuteTime": {
     "end_time": "2018-07-28T23:55:40.066605Z",
     "start_time": "2018-07-28T23:55:40.052664Z"
    },
    "hidden": true
   },
   "outputs": [],
   "source": [
    "criterion(out.view(-1, 2), targets.view(-1))"
   ]
  },
  {
   "cell_type": "markdown",
   "metadata": {
    "heading_collapsed": true
   },
   "source": [
    "### Train"
   ]
  },
  {
   "cell_type": "code",
   "execution_count": null,
   "metadata": {
    "ExecuteTime": {
     "end_time": "2018-07-28T23:57:12.249752Z",
     "start_time": "2018-07-28T23:55:50.806530Z"
    },
    "hidden": true,
    "scrolled": false
   },
   "outputs": [],
   "source": [
    "#begin to train\n",
    "for i in tqdm_notebook(range(20), desc='Epoch:'):\n",
    "    \n",
    "    def closure():\n",
    "        optimizer.zero_grad()\n",
    "        out = seq(inputs)\n",
    "        loss = criterion(out.view(-1, 2), targets.view(-1))\n",
    "        print('loss:', loss.item())\n",
    "        loss.backward()\n",
    "        return loss\n",
    "    optimizer.step(closure)\n",
    "    # begin to predict, no need to track gradient here\n",
    "#     with torch.no_grad():\n",
    "#         future = 1000\n",
    "#         pred = seq(test_input, future=future)\n",
    "#         loss = criterion(pred[:, :-future], test_target)\n",
    "#         print('test loss:', loss.item())\n",
    "#         y = pred.detach().numpy()\n"
   ]
  },
  {
   "cell_type": "code",
   "execution_count": null,
   "metadata": {
    "ExecuteTime": {
     "end_time": "2018-07-28T23:57:14.461483Z",
     "start_time": "2018-07-28T23:57:12.257261Z"
    },
    "hidden": true,
    "scrolled": true
   },
   "outputs": [],
   "source": [
    "out = seq(inputs)\n",
    "out"
   ]
  },
  {
   "cell_type": "markdown",
   "metadata": {},
   "source": [
    "## Support and Resistance"
   ]
  },
  {
   "cell_type": "code",
   "execution_count": 7,
   "metadata": {
    "ExecuteTime": {
     "end_time": "2018-07-30T21:30:32.642793Z",
     "start_time": "2018-07-30T21:30:32.638803Z"
    }
   },
   "outputs": [],
   "source": [
    "def add_support_resistance(df, fast=30, slow=120):\n",
    "    return df.assign(Resistance_fast = df.Close.rolling(30).max(),\n",
    "                     Resistance_slow = df.Close.rolling(120).max(),\n",
    "                     Support_fast = df.Close.rolling(30).min(),\n",
    "                     Support_slow = df.Close.rolling(120).min())"
   ]
  },
  {
   "cell_type": "code",
   "execution_count": 8,
   "metadata": {
    "ExecuteTime": {
     "end_time": "2018-07-30T21:30:33.058451Z",
     "start_time": "2018-07-30T21:30:32.870739Z"
    }
   },
   "outputs": [
    {
     "data": {
      "text/plain": [
       "<matplotlib.axes._subplots.AxesSubplot at 0x22cc98fc898>"
      ]
     },
     "execution_count": 8,
     "metadata": {},
     "output_type": "execute_result"
    },
    {
     "data": {
      "image/png": "[encoded data removed]",
      "text/plain": [
       "<Figure size 864x288 with 1 Axes>"
      ]
     },
     "metadata": {},
     "output_type": "display_data"
    }
   ],
   "source": [
    "price_df = add_support_resistance(sim_path())\n",
    "\n",
    "price_df[['Close', 'Support_fast', 'Resistance_fast',\n",
    "          'Support_slow', 'Resistance_slow']].plot(figsize=(12, 4))"
   ]
  },
  {
   "cell_type": "code",
   "execution_count": 9,
   "metadata": {
    "ExecuteTime": {
     "end_time": "2018-07-30T21:30:33.172604Z",
     "start_time": "2018-07-30T21:30:33.157641Z"
    }
   },
   "outputs": [
    {
     "data": {
      "text/html": [
       "<div>\n",
       "<style scoped>\n",
       "    .dataframe tbody tr th:only-of-type {\n",
       "        vertical-align: middle;\n",
       "    }\n",
       "\n",
       "    .dataframe tbody tr th {\n",
       "        vertical-align: top;\n",
       "    }\n",
       "\n",
       "    .dataframe thead th {\n",
       "        text-align: right;\n",
       "    }\n",
       "</style>\n",
       "<table border=\"1\" class=\"dataframe\">\n",
       "  <thead>\n",
       "    <tr style=\"text-align: right;\">\n",
       "      <th></th>\n",
       "      <th>Close</th>\n",
       "      <th>State</th>\n",
       "      <th>Ch</th>\n",
       "      <th>Ch2</th>\n",
       "      <th>Ch3</th>\n",
       "      <th>Ch4</th>\n",
       "      <th>Resistance_fast</th>\n",
       "      <th>Resistance_slow</th>\n",
       "      <th>Support_fast</th>\n",
       "      <th>Support_slow</th>\n",
       "    </tr>\n",
       "  </thead>\n",
       "  <tbody>\n",
       "    <tr>\n",
       "      <th>0</th>\n",
       "      <td>1.000000</td>\n",
       "      <td>0</td>\n",
       "      <td>0.000000</td>\n",
       "      <td>0.000000</td>\n",
       "      <td>0.000000e+00</td>\n",
       "      <td>0.000000e+00</td>\n",
       "      <td>NaN</td>\n",
       "      <td>NaN</td>\n",
       "      <td>NaN</td>\n",
       "      <td>NaN</td>\n",
       "    </tr>\n",
       "    <tr>\n",
       "      <th>1</th>\n",
       "      <td>0.998048</td>\n",
       "      <td>0</td>\n",
       "      <td>-0.001954</td>\n",
       "      <td>0.000004</td>\n",
       "      <td>-7.463772e-09</td>\n",
       "      <td>1.458628e-11</td>\n",
       "      <td>NaN</td>\n",
       "      <td>NaN</td>\n",
       "      <td>NaN</td>\n",
       "      <td>NaN</td>\n",
       "    </tr>\n",
       "    <tr>\n",
       "      <th>2</th>\n",
       "      <td>1.026891</td>\n",
       "      <td>0</td>\n",
       "      <td>0.028490</td>\n",
       "      <td>0.000812</td>\n",
       "      <td>2.312534e-05</td>\n",
       "      <td>6.588464e-07</td>\n",
       "      <td>NaN</td>\n",
       "      <td>NaN</td>\n",
       "      <td>NaN</td>\n",
       "      <td>NaN</td>\n",
       "    </tr>\n",
       "    <tr>\n",
       "      <th>...</th>\n",
       "      <td>...</td>\n",
       "      <td>...</td>\n",
       "      <td>...</td>\n",
       "      <td>...</td>\n",
       "      <td>...</td>\n",
       "      <td>...</td>\n",
       "      <td>...</td>\n",
       "      <td>...</td>\n",
       "      <td>...</td>\n",
       "      <td>...</td>\n",
       "    </tr>\n",
       "    <tr>\n",
       "      <th>997</th>\n",
       "      <td>0.715658</td>\n",
       "      <td>0</td>\n",
       "      <td>-0.007235</td>\n",
       "      <td>0.000052</td>\n",
       "      <td>-3.787476e-07</td>\n",
       "      <td>2.740311e-09</td>\n",
       "      <td>0.720855</td>\n",
       "      <td>0.720855</td>\n",
       "      <td>0.573239</td>\n",
       "      <td>0.502416</td>\n",
       "    </tr>\n",
       "    <tr>\n",
       "      <th>998</th>\n",
       "      <td>0.701933</td>\n",
       "      <td>0</td>\n",
       "      <td>-0.019365</td>\n",
       "      <td>0.000375</td>\n",
       "      <td>-7.261724e-06</td>\n",
       "      <td>1.406219e-07</td>\n",
       "      <td>0.720855</td>\n",
       "      <td>0.720855</td>\n",
       "      <td>0.573239</td>\n",
       "      <td>0.502416</td>\n",
       "    </tr>\n",
       "    <tr>\n",
       "      <th>999</th>\n",
       "      <td>0.691425</td>\n",
       "      <td>0</td>\n",
       "      <td>-0.015083</td>\n",
       "      <td>0.000227</td>\n",
       "      <td>-3.431008e-06</td>\n",
       "      <td>5.174824e-08</td>\n",
       "      <td>0.720855</td>\n",
       "      <td>0.720855</td>\n",
       "      <td>0.573239</td>\n",
       "      <td>0.502416</td>\n",
       "    </tr>\n",
       "  </tbody>\n",
       "</table>\n",
       "<p>1000 rows × 10 columns</p>\n",
       "</div>"
      ],
      "text/plain": [
       "        Close  State        Ch       Ch2           Ch3           Ch4  \\\n",
       "0    1.000000      0  0.000000  0.000000  0.000000e+00  0.000000e+00   \n",
       "1    0.998048      0 -0.001954  0.000004 -7.463772e-09  1.458628e-11   \n",
       "2    1.026891      0  0.028490  0.000812  2.312534e-05  6.588464e-07   \n",
       "..        ...    ...       ...       ...           ...           ...   \n",
       "997  0.715658      0 -0.007235  0.000052 -3.787476e-07  2.740311e-09   \n",
       "998  0.701933      0 -0.019365  0.000375 -7.261724e-06  1.406219e-07   \n",
       "999  0.691425      0 -0.015083  0.000227 -3.431008e-06  5.174824e-08   \n",
       "\n",
       "     Resistance_fast  Resistance_slow  Support_fast  Support_slow  \n",
       "0                NaN              NaN           NaN           NaN  \n",
       "1                NaN              NaN           NaN           NaN  \n",
       "2                NaN              NaN           NaN           NaN  \n",
       "..               ...              ...           ...           ...  \n",
       "997         0.720855         0.720855      0.573239      0.502416  \n",
       "998         0.720855         0.720855      0.573239      0.502416  \n",
       "999         0.720855         0.720855      0.573239      0.502416  \n",
       "\n",
       "[1000 rows x 10 columns]"
      ]
     },
     "execution_count": 9,
     "metadata": {},
     "output_type": "execute_result"
    }
   ],
   "source": [
    "price_df"
   ]
  },
  {
   "cell_type": "markdown",
   "metadata": {},
   "source": [
    "### Train and test sets\n",
    "\n",
    "The input data for an LSTM cell in pytorch must be of dimension:\n",
    "\n",
    "* `(seq_len, batch, input_size) = (seq_len, N_samples, 5)`."
   ]
  },
  {
   "cell_type": "code",
   "execution_count": 83,
   "metadata": {
    "ExecuteTime": {
     "end_time": "2018-07-30T22:37:56.260739Z",
     "start_time": "2018-07-30T22:37:56.257747Z"
    }
   },
   "outputs": [],
   "source": [
    "N_samples = 100\n",
    "\n",
    "input_variables = ['Close']\n",
    "target_variables = ['Resistance_fast', 'Resistance_slow',\n",
    "                    'Support_fast', 'Support_slow']\n",
    "\n",
    "paths = [add_support_resistance(sim_path()) for i in range(N_samples)]\n",
    "inputs = np.array([p[input_variables].values for p in paths])\n",
    "targets = np.array([p[target_variables].values for p in paths])"
   ]
  },
  {
   "cell_type": "code",
   "execution_count": 11,
   "metadata": {
    "ExecuteTime": {
     "end_time": "2018-07-30T21:30:40.624914Z",
     "start_time": "2018-07-30T21:30:40.622926Z"
    }
   },
   "outputs": [],
   "source": [
    "inputs = torch.from_numpy(inputs)\n",
    "targets = torch.from_numpy(targets)"
   ]
  },
  {
   "cell_type": "code",
   "execution_count": 12,
   "metadata": {
    "ExecuteTime": {
     "end_time": "2018-07-30T21:30:41.259228Z",
     "start_time": "2018-07-30T21:30:41.255268Z"
    },
    "scrolled": true
   },
   "outputs": [
    {
     "data": {
      "text/plain": [
       "(torch.Size([100, 1000, 1]), torch.Size([100, 1000, 4]))"
      ]
     },
     "execution_count": 12,
     "metadata": {},
     "output_type": "execute_result"
    }
   ],
   "source": [
    "inputs.size(), targets.size()"
   ]
  },
  {
   "cell_type": "code",
   "execution_count": 13,
   "metadata": {
    "ExecuteTime": {
     "end_time": "2018-07-30T21:30:41.764209Z",
     "start_time": "2018-07-30T21:30:41.758226Z"
    }
   },
   "outputs": [
    {
     "data": {
      "text/plain": [
       "torch.Size([100, 1])"
      ]
     },
     "execution_count": 13,
     "metadata": {},
     "output_type": "execute_result"
    }
   ],
   "source": [
    "list(inputs.chunk(inputs.size(1), dim=1))[0].view(N_samples, -1).size()"
   ]
  },
  {
   "cell_type": "markdown",
   "metadata": {},
   "source": [
    "### Build the model"
   ]
  },
  {
   "cell_type": "code",
   "execution_count": 97,
   "metadata": {
    "ExecuteTime": {
     "end_time": "2018-07-30T22:40:59.288066Z",
     "start_time": "2018-07-30T22:40:59.275100Z"
    }
   },
   "outputs": [],
   "source": [
    "class Sequence(nn.Module):\n",
    "    def __init__(self, h0=1, h1=51, h2=51, hL=1):\n",
    "        super(Sequence, self).__init__()\n",
    "        self.h0 = h0\n",
    "        self.h1 = h1\n",
    "        self.h2 = h2\n",
    "        self.hL = hL\n",
    "        self.lstm1 = nn.LSTMCell(h0, h1)\n",
    "        self.lstm2 = nn.LSTMCell(h1, h2)\n",
    "        self.linear = nn.Linear(h2, hL)\n",
    "\n",
    "    def forward(self, input):\n",
    "        outputs = []\n",
    "        h_t = torch.zeros(input.size(0), self.h1, dtype=torch.double)\n",
    "        c_t = torch.zeros(input.size(0), self.h1, dtype=torch.double)\n",
    "        h_t2 = torch.zeros(input.size(0), self.h2, dtype=torch.double)\n",
    "        c_t2 = torch.zeros(input.size(0), self.h2, dtype=torch.double)\n",
    "\n",
    "        for i, input_t in enumerate(input.chunk(input.size(1), dim=1)):\n",
    "            h_t, c_t = self.lstm1(input_t.view(N_samples, -1), (h_t, c_t))\n",
    "            h_t2, c_t2 = self.lstm2(h_t, (h_t2, c_t2))\n",
    "            output = self.linear(h_t2)\n",
    "            outputs += [output]\n",
    "\n",
    "        outputs = torch.stack(outputs, 1).squeeze(2)\n",
    "        return outputs\n",
    "\n",
    "    \n",
    "class Sequence3(nn.Module):\n",
    "    def __init__(self, h0=1, h1=10, h2=10, h3=10, hL=1):\n",
    "        super(Sequence3, self).__init__()\n",
    "        self.h0 = h0\n",
    "        self.h1 = h1\n",
    "        self.h2 = h2\n",
    "        self.h3 = h3\n",
    "        self.hL = hL\n",
    "        self.lstm1 = nn.LSTMCell(h0, h1)\n",
    "        self.lstm2 = nn.LSTMCell(h1, h2)\n",
    "        self.lstm3 = nn.LSTMCell(h2, h3)\n",
    "        self.linear = nn.Linear(h3, hL)\n",
    "\n",
    "    def forward(self, input):\n",
    "        outputs = []\n",
    "        h_t = torch.zeros(input.size(0), self.h1, dtype=torch.double)\n",
    "        c_t = torch.zeros(input.size(0), self.h1, dtype=torch.double)\n",
    "        h_t2 = torch.zeros(input.size(0), self.h2, dtype=torch.double)\n",
    "        c_t2 = torch.zeros(input.size(0), self.h2, dtype=torch.double)\n",
    "        h_t3 = torch.ones(input.size(0), self.h3, dtype=torch.double)\n",
    "        c_t3 = torch.zeros(input.size(0), self.h3, dtype=torch.double)\n",
    "\n",
    "        for i, input_t in enumerate(input.chunk(input.size(1), dim=1)):\n",
    "            h_t, c_t = self.lstm1(input_t.view(N_samples, -1), (h_t, c_t))\n",
    "            h_t2, c_t2 = self.lstm2(h_t, (h_t2, c_t2))\n",
    "            h_t3, c_t3 = self.lstm3(h_t2, (h_t3, c_t3))\n",
    "            output = self.linear(h_t3)\n",
    "            outputs += [output]\n",
    "\n",
    "        outputs = torch.stack(outputs, 1).squeeze(2)\n",
    "        return outputs\n",
    "\n",
    "    \n",
    "class Sequence4(nn.Module):\n",
    "    def __init__(self, h0=1, h1=5, h2=5, h3=5, h4=5, hL=1):\n",
    "        super(Sequence4, self).__init__()\n",
    "        self.h0 = h0\n",
    "        self.h1 = h1\n",
    "        self.h2 = h2\n",
    "        self.h3 = h3\n",
    "        self.h4 = h4\n",
    "        self.hL = hL\n",
    "        self.lstm1 = nn.LSTMCell(h0, h1)\n",
    "        self.lstm2 = nn.LSTMCell(h1, h2)\n",
    "        self.lstm3 = nn.LSTMCell(h2, h3)\n",
    "        self.lstm4 = nn.LSTMCell(h3, h4)\n",
    "        self.linear = nn.Linear(h4, hL)\n",
    "\n",
    "    def forward(self, input):\n",
    "        outputs = []\n",
    "        h_t = torch.zeros(input.size(0), self.h1, dtype=torch.double)\n",
    "        c_t = torch.zeros(input.size(0), self.h1, dtype=torch.double)\n",
    "        h_t2 = torch.zeros(input.size(0), self.h2, dtype=torch.double)\n",
    "        c_t2 = torch.zeros(input.size(0), self.h2, dtype=torch.double)\n",
    "        h_t3 = torch.ones(input.size(0), self.h3, dtype=torch.double)\n",
    "        c_t3 = torch.zeros(input.size(0), self.h3, dtype=torch.double)\n",
    "        h_t4 = torch.ones(input.size(0), self.h4, dtype=torch.double)\n",
    "        c_t4 = torch.zeros(input.size(0), self.h4, dtype=torch.double)\n",
    "\n",
    "        for i, input_t in enumerate(input.chunk(input.size(1), dim=1)):\n",
    "            h_t, c_t = self.lstm1(input_t.view(N_samples, -1), (h_t, c_t))\n",
    "            h_t2, c_t2 = self.lstm2(h_t, (h_t2, c_t2))\n",
    "            h_t3, c_t3 = self.lstm3(h_t2, (h_t3, c_t3))\n",
    "            h_t4, c_t4 = self.lstm4(h_t3, (h_t4, c_t4))\n",
    "            output = self.linear(h_t4)\n",
    "            outputs += [output]\n",
    "\n",
    "        outputs = torch.stack(outputs, 1).squeeze(2)\n",
    "        return outputs\n"
   ]
  },
  {
   "cell_type": "code",
   "execution_count": 98,
   "metadata": {
    "ExecuteTime": {
     "end_time": "2018-07-30T22:41:04.166310Z",
     "start_time": "2018-07-30T22:41:04.161299Z"
    }
   },
   "outputs": [
    {
     "data": {
      "text/plain": [
       "Sequence4(\n",
       "  (lstm1): LSTMCell(1, 5)\n",
       "  (lstm2): LSTMCell(5, 5)\n",
       "  (lstm3): LSTMCell(5, 5)\n",
       "  (lstm4): LSTMCell(5, 5)\n",
       "  (linear): Linear(in_features=5, out_features=4, bias=True)\n",
       ")"
      ]
     },
     "execution_count": 98,
     "metadata": {},
     "output_type": "execute_result"
    }
   ],
   "source": [
    "# build the model\n",
    "seq = Sequence4(hL=4)#Sequence(h0=1, h1=20, h2=10, hL=4)\n",
    "seq.double()"
   ]
  },
  {
   "cell_type": "code",
   "execution_count": 99,
   "metadata": {
    "ExecuteTime": {
     "end_time": "2018-07-30T22:41:06.997482Z",
     "start_time": "2018-07-30T22:41:06.993517Z"
    }
   },
   "outputs": [],
   "source": [
    "mse = nn.MSELoss(reduce=False)\n",
    "def criterion(y_hat, y_true):\n",
    "    loss = mse(y_hat[:, 119:, :], y_true[:, 119:, :]).sqrt().\\\n",
    "        div(y_true[:, 119:, :]).mean()\n",
    "    return loss"
   ]
  },
  {
   "cell_type": "code",
   "execution_count": 100,
   "metadata": {
    "ExecuteTime": {
     "end_time": "2018-07-30T22:41:07.915696Z",
     "start_time": "2018-07-30T22:41:07.505792Z"
    },
    "scrolled": true
   },
   "outputs": [
    {
     "data": {
      "text/plain": [
       "tensor([[[-0.0766, -0.0992,  0.4970,  0.1808],\n",
       "         [-0.0024, -0.1543,  0.4951,  0.1524],\n",
       "         [ 0.0379, -0.2011,  0.4759,  0.1230],\n",
       "         ...,\n",
       "         [ 0.0561, -0.2333,  0.4642,  0.0870],\n",
       "         [ 0.0561, -0.2333,  0.4642,  0.0870],\n",
       "         [ 0.0561, -0.2333,  0.4642,  0.0870]],\n",
       "\n",
       "        [[-0.0766, -0.0992,  0.4970,  0.1808],\n",
       "         [-0.0024, -0.1543,  0.4951,  0.1524],\n",
       "         [ 0.0379, -0.2011,  0.4759,  0.1230],\n",
       "         ...,\n",
       "         [ 0.0553, -0.2317,  0.4647,  0.0854],\n",
       "         [ 0.0553, -0.2317,  0.4647,  0.0854],\n",
       "         [ 0.0553, -0.2317,  0.4647,  0.0854]],\n",
       "\n",
       "        [[-0.0766, -0.0992,  0.4970,  0.1808],\n",
       "         [-0.0024, -0.1543,  0.4951,  0.1524],\n",
       "         [ 0.0379, -0.2011,  0.4759,  0.1230],\n",
       "         ...,\n",
       "         [ 0.0561, -0.2333,  0.4642,  0.0871],\n",
       "         [ 0.0561, -0.2333,  0.4642,  0.0871],\n",
       "         [ 0.0561, -0.2333,  0.4642,  0.0871]],\n",
       "\n",
       "        ...,\n",
       "\n",
       "        [[-0.0766, -0.0992,  0.4970,  0.1808],\n",
       "         [-0.0024, -0.1543,  0.4951,  0.1524],\n",
       "         [ 0.0379, -0.2011,  0.4759,  0.1230],\n",
       "         ...,\n",
       "         [ 0.0559, -0.2330,  0.4643,  0.0867],\n",
       "         [ 0.0559, -0.2330,  0.4643,  0.0867],\n",
       "         [ 0.0559, -0.2329,  0.4643,  0.0867]],\n",
       "\n",
       "        [[-0.0766, -0.0992,  0.4970,  0.1808],\n",
       "         [-0.0024, -0.1543,  0.4951,  0.1524],\n",
       "         [ 0.0379, -0.2011,  0.4759,  0.1230],\n",
       "         ...,\n",
       "         [ 0.0563, -0.2339,  0.4640,  0.0875],\n",
       "         [ 0.0563, -0.2339,  0.4640,  0.0875],\n",
       "         [ 0.0563, -0.2339,  0.4640,  0.0875]],\n",
       "\n",
       "        [[-0.0766, -0.0992,  0.4970,  0.1808],\n",
       "         [-0.0024, -0.1543,  0.4951,  0.1524],\n",
       "         [ 0.0379, -0.2011,  0.4759,  0.1230],\n",
       "         ...,\n",
       "         [ 0.0561, -0.2333,  0.4642,  0.0871],\n",
       "         [ 0.0561, -0.2333,  0.4642,  0.0871],\n",
       "         [ 0.0561, -0.2333,  0.4642,  0.0871]]], dtype=torch.float64)"
      ]
     },
     "execution_count": 100,
     "metadata": {},
     "output_type": "execute_result"
    }
   ],
   "source": [
    "out = seq(inputs)\n",
    "out"
   ]
  },
  {
   "cell_type": "code",
   "execution_count": 101,
   "metadata": {
    "ExecuteTime": {
     "end_time": "2018-07-30T22:41:10.182562Z",
     "start_time": "2018-07-30T22:41:10.177575Z"
    },
    "scrolled": true
   },
   "outputs": [
    {
     "data": {
      "text/plain": [
       "(torch.Size([100, 1000, 4]), torch.Size([100, 1000, 4]))"
      ]
     },
     "execution_count": 101,
     "metadata": {},
     "output_type": "execute_result"
    }
   ],
   "source": [
    "out.size(), targets.size()"
   ]
  },
  {
   "cell_type": "code",
   "execution_count": 102,
   "metadata": {
    "ExecuteTime": {
     "end_time": "2018-07-30T22:41:10.624780Z",
     "start_time": "2018-07-30T22:41:10.616780Z"
    }
   },
   "outputs": [
    {
     "data": {
      "text/plain": [
       "tensor(0.9281, dtype=torch.float64)"
      ]
     },
     "execution_count": 102,
     "metadata": {},
     "output_type": "execute_result"
    }
   ],
   "source": [
    "criterion(out, targets)"
   ]
  },
  {
   "cell_type": "markdown",
   "metadata": {},
   "source": [
    "### Train"
   ]
  },
  {
   "cell_type": "code",
   "execution_count": 104,
   "metadata": {
    "ExecuteTime": {
     "end_time": "2018-07-30T22:41:20.274530Z",
     "start_time": "2018-07-30T22:41:20.269544Z"
    }
   },
   "outputs": [],
   "source": [
    "losses = []"
   ]
  },
  {
   "cell_type": "code",
   "execution_count": 109,
   "metadata": {
    "ExecuteTime": {
     "end_time": "2018-07-30T22:52:15.675223Z",
     "start_time": "2018-07-30T22:52:15.671234Z"
    }
   },
   "outputs": [],
   "source": [
    "optimizer = optim.Adam(seq.parameters(), lr=1e-4)"
   ]
  },
  {
   "cell_type": "code",
   "execution_count": 110,
   "metadata": {
    "ExecuteTime": {
     "end_time": "2018-07-30T23:00:00.267398Z",
     "start_time": "2018-07-30T22:52:19.295871Z"
    },
    "scrolled": true
   },
   "outputs": [
    {
     "data": {
      "application/vnd.jupyter.widget-view+json": {
       "model_id": "2c33be858d1446b3afa3aa1d131b1a84",
       "version_major": 2,
       "version_minor": 0
      },
      "text/plain": [
       "HBox(children=(IntProgress(value=0, description='Epoch:', max=500), HTML(value='')))"
      ]
     },
     "metadata": {},
     "output_type": "display_data"
    },
    {
     "name": "stdout",
     "output_type": "stream",
     "text": [
      "i: 0 , loss: 0.0109527583604541\n",
      "i: 10 , loss: 0.010806837314353975\n",
      "i: 20 , loss: 0.010690444000764956\n",
      "i: 30 , loss: 0.010575258399329567\n",
      "i: 40 , loss: 0.010463053627695682\n",
      "i: 50 , loss: 0.010354847327459022\n",
      "i: 60 , loss: 0.010250704690094342\n",
      "i: 70 , loss: 0.010150309339886835\n",
      "i: 80 , loss: 0.010053295563573067\n",
      "i: 90 , loss: 0.009959258359374177\n",
      "i: 100 , loss: 0.009867855102137195\n",
      "i: 110 , loss: 0.00977878736565279\n",
      "i: 120 , loss: 0.009691816346995803\n",
      "i: 130 , loss: 0.009606755877297013\n",
      "i: 140 , loss: 0.009523464278036914\n",
      "i: 150 , loss: 0.009441839012395026\n",
      "i: 160 , loss: 0.009361810615173072\n",
      "i: 170 , loss: 0.009283338161224905\n",
      "i: 180 , loss: 0.009206405219234182\n",
      "i: 190 , loss: 0.009131016742622617\n",
      "i: 200 , loss: 0.009057196393516388\n",
      "i: 210 , loss: 0.00898498418275651\n",
      "i: 220 , loss: 0.008914434262474112\n",
      "i: 230 , loss: 0.008845612694982331\n",
      "i: 240 , loss: 0.008778595056017554\n",
      "i: 250 , loss: 0.008713463700205851\n",
      "i: 260 , loss: 0.008650304559374577\n",
      "i: 270 , loss: 0.008589203387607096\n",
      "i: 280 , loss: 0.008530241430143878\n",
      "i: 290 , loss: 0.008473490588012141\n",
      "i: 300 , loss: 0.008419008266532186\n",
      "i: 310 , loss: 0.008366832225728536\n",
      "i: 320 , loss: 0.008316975870507486\n",
      "i: 330 , loss: 0.008269424499035019\n",
      "i: 340 , loss: 0.008224133036535628\n",
      "i: 350 , loss: 0.008181025695374445\n",
      "i: 360 , loss: 0.008139997814366548\n",
      "i: 370 , loss: 0.008100919859535712\n",
      "i: 380 , loss: 0.008063643261527968\n",
      "i: 390 , loss: 0.008028007487709883\n",
      "i: 400 , loss: 0.00799384756726894\n",
      "i: 410 , loss: 0.00796100125144538\n",
      "i: 420 , loss: 0.007929315105374403\n",
      "i: 430 , loss: 0.007898649057965902\n",
      "i: 440 , loss: 0.007868879218279619\n",
      "i: 450 , loss: 0.007839899032246711\n",
      "i: 460 , loss: 0.007811619050388147\n",
      "i: 470 , loss: 0.007783965682064353\n",
      "i: 480 , loss: 0.007756879330137146\n",
      "i: 490 , loss: 0.0077305390222424455\n",
      "\n"
     ]
    }
   ],
   "source": [
    "for i in tqdm_notebook(range(500), desc='Epoch:'):\n",
    "    \n",
    "    def closure():\n",
    "        optimizer.zero_grad()\n",
    "        out = seq(inputs)\n",
    "        loss = criterion(out, targets)\n",
    "        losses.append(loss.detach().numpy())\n",
    "        loss.backward()\n",
    "        return loss\n",
    "    optimizer.step(closure)\n",
    "    \n",
    "    if i % 10 == 0:\n",
    "        print('i:', i, ', loss:', losses[-1])\n",
    "    # begin to predict, no need to track gradient here\n",
    "#     with torch.no_grad():\n",
    "#         future = 1000\n",
    "#         pred = seq(test_input, future=future)\n",
    "#         loss = criterion(pred[:, :-future], test_target)\n",
    "#         print('test loss:', loss.item())\n",
    "#         y = pred.detach().numpy()\n"
   ]
  },
  {
   "cell_type": "code",
   "execution_count": 111,
   "metadata": {
    "ExecuteTime": {
     "end_time": "2018-07-30T23:02:35.882375Z",
     "start_time": "2018-07-30T23:02:35.804585Z"
    },
    "scrolled": false
   },
   "outputs": [
    {
     "data": {
      "image/png": "[encoded data removed]",
      "text/plain": [
       "<Figure size 432x288 with 1 Axes>"
      ]
     },
     "metadata": {},
     "output_type": "display_data"
    }
   ],
   "source": [
    "plt.plot(np.array(losses));"
   ]
  },
  {
   "cell_type": "code",
   "execution_count": 112,
   "metadata": {
    "ExecuteTime": {
     "end_time": "2018-07-30T23:02:46.571749Z",
     "start_time": "2018-07-30T23:02:46.243843Z"
    },
    "scrolled": true
   },
   "outputs": [
    {
     "data": {
      "text/plain": [
       "torch.Size([100, 1000, 4])"
      ]
     },
     "execution_count": 112,
     "metadata": {},
     "output_type": "execute_result"
    }
   ],
   "source": [
    "with torch.no_grad():\n",
    "    out = seq(inputs)\n",
    "out.size()"
   ]
  },
  {
   "cell_type": "code",
   "execution_count": 123,
   "metadata": {
    "ExecuteTime": {
     "end_time": "2018-07-30T23:03:12.439281Z",
     "start_time": "2018-07-30T23:03:12.295708Z"
    }
   },
   "outputs": [
    {
     "name": "stdout",
     "output_type": "stream",
     "text": [
      "Loss: 0.007709141354825658\n"
     ]
    },
    {
     "data": {
      "image/png": "[encoded data removed]",
      "text/plain": [
       "<Figure size 864x360 with 1 Axes>"
      ]
     },
     "metadata": {},
     "output_type": "display_data"
    }
   ],
   "source": [
    "j = np.random.randint(0, N_samples)\n",
    "y_hat = out.detach().numpy()\n",
    "y_hat_df = DataFrame(data=y_hat[j,...], columns=['rf', 'rs', 'sf', 'ss'])\n",
    "res_j = pd.concat((paths[j], y_hat_df), axis=1)\n",
    "print('Loss:', criterion(out, targets).item())\n",
    "res_j[['Close', 'Support_slow', 'ss']].plot(figsize=(12, 5));"
   ]
  },
  {
   "cell_type": "markdown",
   "metadata": {},
   "source": [
    "### Test sample "
   ]
  },
  {
   "cell_type": "code",
   "execution_count": 72,
   "metadata": {
    "ExecuteTime": {
     "end_time": "2018-07-30T22:36:55.657439Z",
     "start_time": "2018-07-30T22:36:55.569551Z"
    }
   },
   "outputs": [],
   "source": [
    "test_samples = 10\n",
    "\n",
    "input_variables = ['Close']\n",
    "target_variables = ['Resistance_fast', 'Resistance_slow',\n",
    "                    'Support_fast', 'Support_slow']\n",
    "\n",
    "test_paths = [add_support_resistance(sim_path()) for i in range(test_samples)]\n",
    "test_inputs = np.array([p[input_variables].values for p in test_paths])\n",
    "test_targets = np.array([p[target_variables].values for p in test_paths])"
   ]
  },
  {
   "cell_type": "code",
   "execution_count": 73,
   "metadata": {
    "ExecuteTime": {
     "end_time": "2018-07-30T22:36:55.812421Z",
     "start_time": "2018-07-30T22:36:55.809429Z"
    }
   },
   "outputs": [],
   "source": [
    "test_inputs = torch.from_numpy(test_inputs)\n",
    "test_targets = torch.from_numpy(test_targets)"
   ]
  },
  {
   "cell_type": "code",
   "execution_count": 74,
   "metadata": {
    "ExecuteTime": {
     "end_time": "2018-07-30T22:36:56.061391Z",
     "start_time": "2018-07-30T22:36:56.057403Z"
    }
   },
   "outputs": [
    {
     "data": {
      "text/plain": [
       "torch.Size([10, 1000, 1])"
      ]
     },
     "execution_count": 74,
     "metadata": {},
     "output_type": "execute_result"
    }
   ],
   "source": [
    "test_inputs.size()"
   ]
  },
  {
   "cell_type": "code",
   "execution_count": 75,
   "metadata": {
    "ExecuteTime": {
     "end_time": "2018-07-30T22:36:56.595034Z",
     "start_time": "2018-07-30T22:36:56.425482Z"
    },
    "scrolled": true
   },
   "outputs": [
    {
     "data": {
      "text/plain": [
       "torch.Size([10, 1000, 4])"
      ]
     },
     "execution_count": 75,
     "metadata": {},
     "output_type": "execute_result"
    }
   ],
   "source": [
    "with torch.no_grad():\n",
    "    test_out = seq(test_inputs)\n",
    "test_out.size()"
   ]
  },
  {
   "cell_type": "code",
   "execution_count": 96,
   "metadata": {
    "ExecuteTime": {
     "end_time": "2018-07-30T22:39:24.486589Z",
     "start_time": "2018-07-30T22:39:24.341976Z"
    }
   },
   "outputs": [
    {
     "name": "stdout",
     "output_type": "stream",
     "text": [
      "Loss: 0.0019386608605562398\n"
     ]
    },
    {
     "data": {
      "image/png": "[encoded data removed]",
      "text/plain": [
       "<Figure size 864x360 with 1 Axes>"
      ]
     },
     "metadata": {},
     "output_type": "display_data"
    }
   ],
   "source": [
    "j = np.random.randint(0, test_samples)\n",
    "y_hat = test_out.detach().numpy()\n",
    "y_hat_df = DataFrame(data=y_hat[j,...], columns=['rf', 'rs', 'sf', 'ss'])\n",
    "res_j = pd.concat((test_paths[j], y_hat_df), axis=1)\n",
    "print('Loss:', criterion(test_out, test_targets).item())\n",
    "res_j[['Close', 'Support_slow', 'ss']].plot(figsize=(12, 5));"
   ]
  }
 ],
 "metadata": {
  "kernelspec": {
   "display_name": "Python 3",
   "language": "python",
   "name": "python3"
  },
  "language_info": {
   "codemirror_mode": {
    "name": "ipython",
    "version": 3
   },
   "file_extension": ".py",
   "mimetype": "text/x-python",
   "name": "python",
   "nbconvert_exporter": "python",
   "pygments_lexer": "ipython3",
   "version": "3.6.6"
  },
  "toc": {
   "base_numbering": 1,
   "nav_menu": {},
   "number_sections": true,
   "sideBar": true,
   "skip_h1_title": false,
   "title_cell": "Table of Contents",
   "title_sidebar": "Contents",
   "toc_cell": false,
   "toc_position": {},
   "toc_section_display": true,
   "toc_window_display": false
  }
 },
 "nbformat": 4,
 "nbformat_minor": 2
}
