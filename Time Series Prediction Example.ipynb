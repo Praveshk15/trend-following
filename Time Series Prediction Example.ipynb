{
 "cells": [
  {
   "cell_type": "code",
   "execution_count": 1,
   "metadata": {
    "ExecuteTime": {
     "end_time": "2018-07-31T15:46:19.438221Z",
     "start_time": "2018-07-31T15:46:17.866889Z"
    }
   },
   "outputs": [],
   "source": [
    "%matplotlib inline"
   ]
  },
  {
   "cell_type": "code",
   "execution_count": 2,
   "metadata": {
    "ExecuteTime": {
     "end_time": "2018-07-31T15:46:23.433300Z",
     "start_time": "2018-07-31T15:46:22.737999Z"
    }
   },
   "outputs": [],
   "source": [
    "from __future__ import print_function\n",
    "import torch\n",
    "import torch.nn as nn\n",
    "import torch.optim as optim\n",
    "import numpy as np\n",
    "import matplotlib\n",
    "import matplotlib.pyplot as plt\n",
    "\n",
    "from tqdm import tqdm_notebook"
   ]
  },
  {
   "cell_type": "code",
   "execution_count": null,
   "metadata": {},
   "outputs": [],
   "source": [
    "# import torch, torchvision, torchtext\n",
    "# from torch import nn, cuda, backends, FloatTensor, LongTensor, optim\n",
    "# import torch.nn.functional as F\n",
    "# from torch.autograd import Variable\n",
    "# from torch.utils.data import Dataset, TensorDataset"
   ]
  },
  {
   "cell_type": "code",
   "execution_count": 3,
   "metadata": {
    "ExecuteTime": {
     "end_time": "2018-07-31T15:46:38.900010Z",
     "start_time": "2018-07-31T15:46:38.898015Z"
    }
   },
   "outputs": [],
   "source": [
    "# torch.cuda.set_device(0)"
   ]
  },
  {
   "cell_type": "markdown",
   "metadata": {},
   "source": [
    "# Generate Sine Wave"
   ]
  },
  {
   "cell_type": "code",
   "execution_count": 4,
   "metadata": {
    "ExecuteTime": {
     "end_time": "2018-07-31T15:47:00.064611Z",
     "start_time": "2018-07-31T15:47:00.061589Z"
    }
   },
   "outputs": [],
   "source": [
    "np.random.seed(2)\n",
    "\n",
    "T = 20\n",
    "L = 1000\n",
    "N = 100"
   ]
  },
  {
   "cell_type": "code",
   "execution_count": 5,
   "metadata": {
    "ExecuteTime": {
     "end_time": "2018-07-31T15:47:05.197601Z",
     "start_time": "2018-07-31T15:47:05.189623Z"
    }
   },
   "outputs": [
    {
     "data": {
      "text/plain": [
       "(100, 1000)"
      ]
     },
     "execution_count": 5,
     "metadata": {},
     "output_type": "execute_result"
    }
   ],
   "source": [
    "x = np.empty((N, L), 'int64')\n",
    "x[:] = np.array(range(L)) + np.random.randint(-4 * T, 4 * T, N).reshape(N, 1)\n",
    "x.shape"
   ]
  },
  {
   "cell_type": "code",
   "execution_count": 6,
   "metadata": {
    "ExecuteTime": {
     "end_time": "2018-07-31T15:47:17.199619Z",
     "start_time": "2018-07-31T15:47:17.121843Z"
    }
   },
   "outputs": [
    {
     "data": {
      "text/plain": [
       "(100, 1000)"
      ]
     },
     "execution_count": 6,
     "metadata": {},
     "output_type": "execute_result"
    }
   ],
   "source": [
    "data = np.sin(x / 1.0 / T).astype('float64')\n",
    "torch.save(data, open('traindata.pt', 'wb'))\n",
    "data.shape"
   ]
  },
  {
   "cell_type": "code",
   "execution_count": 7,
   "metadata": {
    "ExecuteTime": {
     "end_time": "2018-07-31T15:47:19.222953Z",
     "start_time": "2018-07-31T15:47:19.094816Z"
    }
   },
   "outputs": [
    {
     "data": {
      "text/plain": [
       "[<matplotlib.lines.Line2D at 0x260c136a9e8>]"
      ]
     },
     "execution_count": 7,
     "metadata": {},
     "output_type": "execute_result"
    },
    {
     "data": {
      "image/png": "[encoded data removed]",
      "text/plain": [
       "<Figure size 432x288 with 1 Axes>"
      ]
     },
     "metadata": {},
     "output_type": "display_data"
    }
   ],
   "source": [
    "plt.plot(data[5,: ])"
   ]
  },
  {
   "cell_type": "markdown",
   "metadata": {},
   "source": [
    "To use the data in the model, .chunk(train_input.size(1), dim=1) splits it into slices 1, 2, ..., t, ..., L."
   ]
  },
  {
   "cell_type": "markdown",
   "metadata": {},
   "source": [
    "## Model "
   ]
  },
  {
   "cell_type": "markdown",
   "metadata": {},
   "source": [
    "## Train and Test sets"
   ]
  },
  {
   "cell_type": "code",
   "execution_count": 9,
   "metadata": {
    "ExecuteTime": {
     "end_time": "2018-07-31T15:48:08.654870Z",
     "start_time": "2018-07-31T15:48:08.637916Z"
    }
   },
   "outputs": [
    {
     "data": {
      "text/plain": [
       "<torch._C.Generator at 0x260c09c7370>"
      ]
     },
     "execution_count": 9,
     "metadata": {},
     "output_type": "execute_result"
    }
   ],
   "source": [
    "# set random seed to 0\n",
    "np.random.seed(0)\n",
    "torch.manual_seed(0)"
   ]
  },
  {
   "cell_type": "code",
   "execution_count": 10,
   "metadata": {
    "ExecuteTime": {
     "end_time": "2018-07-31T15:48:41.264400Z",
     "start_time": "2018-07-31T15:48:41.242460Z"
    }
   },
   "outputs": [],
   "source": [
    "# load data and make training set\n",
    "data = torch.load('traindata.pt')\n",
    "\n",
    "# Train dataset\n",
    "train_input = torch.from_numpy(data[3:, :-1])\n",
    "train_target = torch.from_numpy(data[3:, 1:])\n",
    "\n",
    "# Test dataset\n",
    "test_input = torch.from_numpy(data[:3, :-1])\n",
    "test_target = torch.from_numpy(data[:3, 1:])"
   ]
  },
  {
   "cell_type": "code",
   "execution_count": 11,
   "metadata": {
    "ExecuteTime": {
     "end_time": "2018-07-31T15:48:45.389704Z",
     "start_time": "2018-07-31T15:48:45.385714Z"
    }
   },
   "outputs": [
    {
     "data": {
      "text/plain": [
       "(100, 1000)"
      ]
     },
     "execution_count": 11,
     "metadata": {},
     "output_type": "execute_result"
    }
   ],
   "source": [
    "data.shape"
   ]
  },
  {
   "cell_type": "code",
   "execution_count": 12,
   "metadata": {
    "ExecuteTime": {
     "end_time": "2018-07-31T15:48:46.705555Z",
     "start_time": "2018-07-31T15:48:46.609816Z"
    }
   },
   "outputs": [
    {
     "data": {
      "text/plain": [
       "[<matplotlib.lines.Line2D at 0x260c1433c18>]"
      ]
     },
     "execution_count": 12,
     "metadata": {},
     "output_type": "execute_result"
    },
    {
     "data": {
      "image/png": "[encoded data removed]",
      "text/plain": [
       "<Figure size 432x288 with 1 Axes>"
      ]
     },
     "metadata": {},
     "output_type": "display_data"
    }
   ],
   "source": [
    "plt.plot(train_input[96].numpy())"
   ]
  },
  {
   "cell_type": "code",
   "execution_count": 13,
   "metadata": {
    "ExecuteTime": {
     "end_time": "2018-07-31T15:48:53.373714Z",
     "start_time": "2018-07-31T15:48:53.365763Z"
    }
   },
   "outputs": [
    {
     "name": "stdout",
     "output_type": "stream",
     "text": [
      "Train input: torch.Size([97, 999]) , Train target: torch.Size([97, 999])\n"
     ]
    }
   ],
   "source": [
    "print('Train input:', train_input.size(), ', Train target:', train_target.size())"
   ]
  },
  {
   "cell_type": "code",
   "execution_count": 14,
   "metadata": {
    "ExecuteTime": {
     "end_time": "2018-07-31T15:48:57.988780Z",
     "start_time": "2018-07-31T15:48:57.977808Z"
    }
   },
   "outputs": [
    {
     "data": {
      "text/plain": [
       "torch.Size([97, 1])"
      ]
     },
     "execution_count": 14,
     "metadata": {},
     "output_type": "execute_result"
    }
   ],
   "source": [
    "list(train_input.chunk(train_input.size(1), dim=1))[0].size()"
   ]
  },
  {
   "cell_type": "markdown",
   "metadata": {},
   "source": [
    "## Build the model"
   ]
  },
  {
   "cell_type": "code",
   "execution_count": 8,
   "metadata": {
    "ExecuteTime": {
     "end_time": "2018-07-31T15:48:03.163646Z",
     "start_time": "2018-07-31T15:48:03.157662Z"
    }
   },
   "outputs": [],
   "source": [
    "class Sequence(nn.Module):\n",
    "    def __init__(self):\n",
    "        super(Sequence, self).__init__()\n",
    "        self.lstm1 = nn.LSTMCell(1, 51)\n",
    "        self.lstm2 = nn.LSTMCell(51, 51)\n",
    "        self.linear = nn.Linear(51, 1)\n",
    "\n",
    "    def forward(self, input, future = 0):\n",
    "        outputs = []\n",
    "        h_t = torch.zeros(input.size(0), 51, dtype=torch.double)\n",
    "        c_t = torch.zeros(input.size(0), 51, dtype=torch.double)\n",
    "        h_t2 = torch.zeros(input.size(0), 51, dtype=torch.double)\n",
    "        c_t2 = torch.zeros(input.size(0), 51, dtype=torch.double)\n",
    "\n",
    "        for i, input_t in enumerate(input.chunk(input.size(1), dim=1)):\n",
    "            h_t, c_t = self.lstm1(input_t, (h_t, c_t))\n",
    "            h_t2, c_t2 = self.lstm2(h_t, (h_t2, c_t2))\n",
    "            output = self.linear(h_t2)\n",
    "            outputs += [output]\n",
    "        for i in range(future):# if we should predict the future\n",
    "            h_t, c_t = self.lstm1(output, (h_t, c_t))\n",
    "            h_t2, c_t2 = self.lstm2(h_t, (h_t2, c_t2))\n",
    "            output = self.linear(h_t2)\n",
    "            outputs += [output]\n",
    "        outputs = torch.stack(outputs, 1).squeeze(2)\n",
    "        return outputs"
   ]
  },
  {
   "cell_type": "code",
   "execution_count": 15,
   "metadata": {
    "ExecuteTime": {
     "end_time": "2018-07-31T15:49:12.429162Z",
     "start_time": "2018-07-31T15:49:12.414203Z"
    }
   },
   "outputs": [
    {
     "data": {
      "text/plain": [
       "Sequence(\n",
       "  (lstm1): LSTMCell(1, 51)\n",
       "  (lstm2): LSTMCell(51, 51)\n",
       "  (linear): Linear(in_features=51, out_features=1, bias=True)\n",
       ")"
      ]
     },
     "execution_count": 15,
     "metadata": {},
     "output_type": "execute_result"
    }
   ],
   "source": [
    "# build the model\n",
    "seq = Sequence()\n",
    "seq.double()"
   ]
  },
  {
   "cell_type": "code",
   "execution_count": null,
   "metadata": {},
   "outputs": [],
   "source": [
    "criterion = nn.MSELoss()\n",
    "\n",
    "# use LBFGS as optimizer since we can load the whole data to train\n",
    "optimizer = optim.LBFGS(seq.parameters(), lr=0.8)\n",
    "\n",
    "# optimizer = optim.Adam(seq.parameters(), lr=0.1, weight_decay=1e-3)"
   ]
  },
  {
   "cell_type": "markdown",
   "metadata": {},
   "source": [
    "## Train"
   ]
  },
  {
   "cell_type": "code",
   "execution_count": null,
   "metadata": {},
   "outputs": [],
   "source": [
    "#begin to train\n",
    "for i in tqdm_notebook(range(20), desc='Epoch:'):\n",
    "    \n",
    "    def closure():\n",
    "        optimizer.zero_grad()\n",
    "        out = seq(train_input)\n",
    "        loss = criterion(out, train_target)\n",
    "        print('loss:', loss.item())\n",
    "        loss.backward()\n",
    "        return loss\n",
    "    optimizer.step(closure)\n",
    "    # begin to predict, no need to track gradient here\n",
    "    with torch.no_grad():\n",
    "        future = 1000\n",
    "        pred = seq(test_input, future=future)\n",
    "        loss = criterion(pred[:, :-future], test_target)\n",
    "        print('test loss:', loss.item())\n",
    "        y = pred.detach().numpy()\n",
    "    # draw the result\n",
    "    plt.figure(figsize=(30,10))\n",
    "    plt.title('Predict future values for time sequences\\n(Dashlines are predicted values)',\n",
    "              fontsize=30)\n",
    "    plt.xlabel('x', fontsize=20)\n",
    "    plt.ylabel('y', fontsize=20)\n",
    "    plt.xticks(fontsize=20)\n",
    "    plt.yticks(fontsize=20)\n",
    "    def draw(yi, color):\n",
    "        plt.plot(np.arange(train_input.size(1)),\n",
    "                 yi[:train_input.size(1)], color, linewidth = 2.0)\n",
    "        plt.plot(np.arange(train_input.size(1), train_input.size(1) + future), \n",
    "                 yi[train_input.size(1):], color + ':', linewidth = 2.0)\n",
    "    draw(y[0], 'r')\n",
    "    draw(y[1], 'g')\n",
    "    draw(y[2], 'b')\n",
    "    plt.show()"
   ]
  },
  {
   "cell_type": "markdown",
   "metadata": {},
   "source": [
    "# Trends and prices\n",
    "Simulate price paths according to Dai, M., Zhang, Q., & Zhu, Q. J. (2010). Trend following trading under a regime switching model. SIAM Journal on Financial Mathematics, 1(1), 780-810."
   ]
  },
  {
   "cell_type": "code",
   "execution_count": 16,
   "metadata": {
    "ExecuteTime": {
     "end_time": "2018-07-31T15:51:10.264283Z",
     "start_time": "2018-07-31T15:51:09.006281Z"
    }
   },
   "outputs": [],
   "source": [
    "import pandas as pd\n",
    "from pandas import DataFrame, Series\n",
    "pd.set_option('display.max_rows', 6)"
   ]
  },
  {
   "cell_type": "code",
   "execution_count": 17,
   "metadata": {
    "ExecuteTime": {
     "end_time": "2018-07-31T15:51:17.484638Z",
     "start_time": "2018-07-31T15:51:17.478685Z"
    }
   },
   "outputs": [],
   "source": [
    "def sim_path(N=1000, P=np.array([[0.95, 0.05], [0.1, 0.9]]),\n",
    "             mu=[-0.05, 0.1], sigma=0.35, S0=1, dt=1/250):\n",
    "    \n",
    "    # State simulation\n",
    "    state = np.random.randint(0, 2)\n",
    "    states = [state]\n",
    "    for t in range(N - 1):\n",
    "        state = int(np.random.multinomial(1, P[state, :]).argmax())\n",
    "        states.append(state)\n",
    "    \n",
    "    # Price simulation\n",
    "    drift = (np.array([mu[s] for s in states[1:]]) - 0.5 * sigma**2) * dt\n",
    "    wiener = np.random.randn(N - 1) * sigma * np.sqrt(dt)\n",
    "\n",
    "    S = S0 * np.concatenate((np.ones(1), np.exp(np.cumsum(drift + wiener))))\n",
    "    \n",
    "    res_df = DataFrame(data=dict(Close=S, State=states))\n",
    "    res_df = res_df.assign(Ch = res_df.Close.pct_change().add(1).apply('log'))\n",
    "    res_df = res_df.assign(Ch2 = res_df.Ch.pow(2),\n",
    "                           Ch3 = res_df.Ch.pow(3),\n",
    "                           Ch4 = res_df.Ch.pow(4)).fillna(0)\n",
    "    return res_df"
   ]
  },
  {
   "cell_type": "code",
   "execution_count": 18,
   "metadata": {
    "ExecuteTime": {
     "end_time": "2018-07-31T15:51:23.926335Z",
     "start_time": "2018-07-31T15:51:23.773710Z"
    }
   },
   "outputs": [
    {
     "data": {
      "image/png": "[encoded data removed]",
      "text/plain": [
       "<Figure size 720x288 with 1 Axes>"
      ]
     },
     "metadata": {},
     "output_type": "display_data"
    }
   ],
   "source": [
    "price_df = sim_path()\n",
    "price_df[['Close', 'State']].plot(figsize=(10, 4), alpha = 0.5);"
   ]
  },
  {
   "cell_type": "code",
   "execution_count": 19,
   "metadata": {
    "ExecuteTime": {
     "end_time": "2018-07-31T15:52:18.054138Z",
     "start_time": "2018-07-31T15:52:18.030230Z"
    }
   },
   "outputs": [
    {
     "data": {
      "text/html": [
       "<div>\n",
       "<style scoped>\n",
       "    .dataframe tbody tr th:only-of-type {\n",
       "        vertical-align: middle;\n",
       "    }\n",
       "\n",
       "    .dataframe tbody tr th {\n",
       "        vertical-align: top;\n",
       "    }\n",
       "\n",
       "    .dataframe thead th {\n",
       "        text-align: right;\n",
       "    }\n",
       "</style>\n",
       "<table border=\"1\" class=\"dataframe\">\n",
       "  <thead>\n",
       "    <tr style=\"text-align: right;\">\n",
       "      <th></th>\n",
       "      <th>Close</th>\n",
       "      <th>State</th>\n",
       "      <th>Ch</th>\n",
       "      <th>Ch2</th>\n",
       "      <th>Ch3</th>\n",
       "      <th>Ch4</th>\n",
       "    </tr>\n",
       "  </thead>\n",
       "  <tbody>\n",
       "    <tr>\n",
       "      <th>0</th>\n",
       "      <td>1.000000</td>\n",
       "      <td>0</td>\n",
       "      <td>0.000000</td>\n",
       "      <td>0.000000</td>\n",
       "      <td>0.000000e+00</td>\n",
       "      <td>0.000000e+00</td>\n",
       "    </tr>\n",
       "    <tr>\n",
       "      <th>1</th>\n",
       "      <td>1.013202</td>\n",
       "      <td>0</td>\n",
       "      <td>0.013116</td>\n",
       "      <td>0.000172</td>\n",
       "      <td>2.256165e-06</td>\n",
       "      <td>2.959111e-08</td>\n",
       "    </tr>\n",
       "    <tr>\n",
       "      <th>2</th>\n",
       "      <td>1.008497</td>\n",
       "      <td>0</td>\n",
       "      <td>-0.004655</td>\n",
       "      <td>0.000022</td>\n",
       "      <td>-1.008666e-07</td>\n",
       "      <td>4.695296e-10</td>\n",
       "    </tr>\n",
       "    <tr>\n",
       "      <th>...</th>\n",
       "      <td>...</td>\n",
       "      <td>...</td>\n",
       "      <td>...</td>\n",
       "      <td>...</td>\n",
       "      <td>...</td>\n",
       "      <td>...</td>\n",
       "    </tr>\n",
       "    <tr>\n",
       "      <th>997</th>\n",
       "      <td>0.969607</td>\n",
       "      <td>1</td>\n",
       "      <td>0.011989</td>\n",
       "      <td>0.000144</td>\n",
       "      <td>1.723397e-06</td>\n",
       "      <td>2.066238e-08</td>\n",
       "    </tr>\n",
       "    <tr>\n",
       "      <th>998</th>\n",
       "      <td>0.972561</td>\n",
       "      <td>1</td>\n",
       "      <td>0.003042</td>\n",
       "      <td>0.000009</td>\n",
       "      <td>2.815255e-08</td>\n",
       "      <td>8.564268e-11</td>\n",
       "    </tr>\n",
       "    <tr>\n",
       "      <th>999</th>\n",
       "      <td>0.964794</td>\n",
       "      <td>1</td>\n",
       "      <td>-0.008018</td>\n",
       "      <td>0.000064</td>\n",
       "      <td>-5.155096e-07</td>\n",
       "      <td>4.133478e-09</td>\n",
       "    </tr>\n",
       "  </tbody>\n",
       "</table>\n",
       "<p>1000 rows × 6 columns</p>\n",
       "</div>"
      ],
      "text/plain": [
       "        Close  State        Ch       Ch2           Ch3           Ch4\n",
       "0    1.000000      0  0.000000  0.000000  0.000000e+00  0.000000e+00\n",
       "1    1.013202      0  0.013116  0.000172  2.256165e-06  2.959111e-08\n",
       "2    1.008497      0 -0.004655  0.000022 -1.008666e-07  4.695296e-10\n",
       "..        ...    ...       ...       ...           ...           ...\n",
       "997  0.969607      1  0.011989  0.000144  1.723397e-06  2.066238e-08\n",
       "998  0.972561      1  0.003042  0.000009  2.815255e-08  8.564268e-11\n",
       "999  0.964794      1 -0.008018  0.000064 -5.155096e-07  4.133478e-09\n",
       "\n",
       "[1000 rows x 6 columns]"
      ]
     },
     "execution_count": 19,
     "metadata": {},
     "output_type": "execute_result"
    }
   ],
   "source": [
    "price_df"
   ]
  },
  {
   "cell_type": "markdown",
   "metadata": {},
   "source": [
    "## Only Price\n",
    "### Train and test sets\n",
    "The input data for an LSTM cell in pytorch must be of dimension:\n",
    "\n",
    "* `(seq_len, batch, input_size) = (seq_len, N_samples, 1)`."
   ]
  },
  {
   "cell_type": "code",
   "execution_count": 20,
   "metadata": {
    "ExecuteTime": {
     "end_time": "2018-07-31T15:54:34.044714Z",
     "start_time": "2018-07-31T15:54:33.582102Z"
    }
   },
   "outputs": [],
   "source": [
    "N_samples = 100\n",
    "\n",
    "paths = [sim_path() for i in range(N_samples)]\n",
    "inputs = np.array([p.Close.values for p in paths])\n",
    "targets = np.array([p.State.values for p in paths])"
   ]
  },
  {
   "cell_type": "code",
   "execution_count": 21,
   "metadata": {
    "ExecuteTime": {
     "end_time": "2018-07-31T15:54:34.049703Z",
     "start_time": "2018-07-31T15:54:34.046713Z"
    }
   },
   "outputs": [],
   "source": [
    "inputs = torch.from_numpy(inputs)\n",
    "targets = torch.from_numpy(targets)"
   ]
  },
  {
   "cell_type": "code",
   "execution_count": 22,
   "metadata": {
    "ExecuteTime": {
     "end_time": "2018-07-31T15:54:34.072665Z",
     "start_time": "2018-07-31T15:54:34.050700Z"
    }
   },
   "outputs": [
    {
     "data": {
      "text/plain": [
       "(torch.Size([100, 1000]), torch.Size([100, 1000]))"
      ]
     },
     "execution_count": 22,
     "metadata": {},
     "output_type": "execute_result"
    }
   ],
   "source": [
    "inputs.size(), targets.size()"
   ]
  },
  {
   "cell_type": "code",
   "execution_count": 23,
   "metadata": {
    "ExecuteTime": {
     "end_time": "2018-07-31T15:54:34.097580Z",
     "start_time": "2018-07-31T15:54:34.073645Z"
    }
   },
   "outputs": [
    {
     "data": {
      "text/plain": [
       "torch.Size([100, 1])"
      ]
     },
     "execution_count": 23,
     "metadata": {},
     "output_type": "execute_result"
    }
   ],
   "source": [
    "list(inputs.chunk(inputs.size(1), dim=1))[0].size()"
   ]
  },
  {
   "cell_type": "markdown",
   "metadata": {},
   "source": [
    "### Build the model "
   ]
  },
  {
   "cell_type": "code",
   "execution_count": 24,
   "metadata": {
    "ExecuteTime": {
     "end_time": "2018-07-31T15:54:34.114531Z",
     "start_time": "2018-07-31T15:54:34.099569Z"
    }
   },
   "outputs": [],
   "source": [
    "class Sequence(nn.Module):\n",
    "    def __init__(self):\n",
    "        super(Sequence, self).__init__()\n",
    "        self.lstm1 = nn.LSTMCell(1, 51)\n",
    "        self.lstm2 = nn.LSTMCell(51, 51)\n",
    "        self.linear = nn.Linear(51, 2)\n",
    "        self.sigmoid = nn.Sigmoid()\n",
    "\n",
    "    def forward(self, input):\n",
    "        outputs = []\n",
    "        h_t = torch.zeros(input.size(0), 51, dtype=torch.double)\n",
    "        c_t = torch.zeros(input.size(0), 51, dtype=torch.double)\n",
    "        h_t2 = torch.zeros(input.size(0), 51, dtype=torch.double)\n",
    "        c_t2 = torch.zeros(input.size(0), 51, dtype=torch.double)\n",
    "\n",
    "        for i, input_t in enumerate(input.chunk(input.size(1), dim=1)):\n",
    "            h_t, c_t = self.lstm1(input_t, (h_t, c_t))\n",
    "            h_t2, c_t2 = self.lstm2(h_t, (h_t2, c_t2))\n",
    "            output = self.sigmoid(self.linear(h_t2))\n",
    "            outputs += [output]\n",
    "\n",
    "        outputs = torch.stack(outputs, 1).squeeze(2)\n",
    "        return outputs"
   ]
  },
  {
   "cell_type": "code",
   "execution_count": 25,
   "metadata": {
    "ExecuteTime": {
     "end_time": "2018-07-31T15:54:34.131510Z",
     "start_time": "2018-07-31T15:54:34.116526Z"
    }
   },
   "outputs": [
    {
     "data": {
      "text/plain": [
       "Sequence(\n",
       "  (lstm1): LSTMCell(1, 51)\n",
       "  (lstm2): LSTMCell(51, 51)\n",
       "  (linear): Linear(in_features=51, out_features=2, bias=True)\n",
       "  (sigmoid): Sigmoid()\n",
       ")"
      ]
     },
     "execution_count": 25,
     "metadata": {},
     "output_type": "execute_result"
    }
   ],
   "source": [
    "# build the model\n",
    "seq = Sequence()\n",
    "seq.double()"
   ]
  },
  {
   "cell_type": "code",
   "execution_count": 26,
   "metadata": {
    "ExecuteTime": {
     "end_time": "2018-07-31T15:54:34.151431Z",
     "start_time": "2018-07-31T15:54:34.132482Z"
    }
   },
   "outputs": [],
   "source": [
    "criterion = nn.CrossEntropyLoss()\n",
    "\n",
    "# use LBFGS as optimizer since we can load the whole data to train\n",
    "# optimizer = optim.LBFGS(seq.parameters(), lr=0.8)\n",
    "\n",
    "optimizer = optim.Adam(seq.parameters())"
   ]
  },
  {
   "cell_type": "code",
   "execution_count": 27,
   "metadata": {
    "ExecuteTime": {
     "end_time": "2018-07-31T15:54:35.522547Z",
     "start_time": "2018-07-31T15:54:34.153426Z"
    }
   },
   "outputs": [
    {
     "data": {
      "text/plain": [
       "tensor([[[ 0.4807,  0.4700],\n",
       "         [ 0.4803,  0.4721],\n",
       "         [ 0.4801,  0.4730],\n",
       "         ...,\n",
       "         [ 0.4800,  0.4731],\n",
       "         [ 0.4800,  0.4731],\n",
       "         [ 0.4800,  0.4731]],\n",
       "\n",
       "        [[ 0.4807,  0.4700],\n",
       "         [ 0.4803,  0.4721],\n",
       "         [ 0.4801,  0.4730],\n",
       "         ...,\n",
       "         [ 0.4802,  0.4733],\n",
       "         [ 0.4802,  0.4733],\n",
       "         [ 0.4802,  0.4733]],\n",
       "\n",
       "        [[ 0.4807,  0.4700],\n",
       "         [ 0.4803,  0.4721],\n",
       "         [ 0.4801,  0.4730],\n",
       "         ...,\n",
       "         [ 0.4802,  0.4732],\n",
       "         [ 0.4801,  0.4732],\n",
       "         [ 0.4801,  0.4732]],\n",
       "\n",
       "        ...,\n",
       "\n",
       "        [[ 0.4807,  0.4700],\n",
       "         [ 0.4803,  0.4721],\n",
       "         [ 0.4801,  0.4730],\n",
       "         ...,\n",
       "         [ 0.4800,  0.4731],\n",
       "         [ 0.4800,  0.4731],\n",
       "         [ 0.4800,  0.4731]],\n",
       "\n",
       "        [[ 0.4807,  0.4700],\n",
       "         [ 0.4803,  0.4721],\n",
       "         [ 0.4801,  0.4730],\n",
       "         ...,\n",
       "         [ 0.4801,  0.4732],\n",
       "         [ 0.4801,  0.4732],\n",
       "         [ 0.4801,  0.4732]],\n",
       "\n",
       "        [[ 0.4807,  0.4700],\n",
       "         [ 0.4803,  0.4721],\n",
       "         [ 0.4801,  0.4730],\n",
       "         ...,\n",
       "         [ 0.4807,  0.4737],\n",
       "         [ 0.4807,  0.4737],\n",
       "         [ 0.4807,  0.4737]]], dtype=torch.float64)"
      ]
     },
     "execution_count": 27,
     "metadata": {},
     "output_type": "execute_result"
    }
   ],
   "source": [
    "out = seq(inputs)\n",
    "out"
   ]
  },
  {
   "cell_type": "code",
   "execution_count": 28,
   "metadata": {
    "ExecuteTime": {
     "end_time": "2018-07-31T15:54:35.530525Z",
     "start_time": "2018-07-31T15:54:35.525538Z"
    }
   },
   "outputs": [
    {
     "data": {
      "text/plain": [
       "torch.Size([100000, 2])"
      ]
     },
     "execution_count": 28,
     "metadata": {},
     "output_type": "execute_result"
    }
   ],
   "source": [
    "out.view(-1, 2).size()"
   ]
  },
  {
   "cell_type": "code",
   "execution_count": 29,
   "metadata": {
    "ExecuteTime": {
     "end_time": "2018-07-31T15:54:35.551469Z",
     "start_time": "2018-07-31T15:54:35.533517Z"
    }
   },
   "outputs": [
    {
     "data": {
      "text/plain": [
       "torch.Size([100000])"
      ]
     },
     "execution_count": 29,
     "metadata": {},
     "output_type": "execute_result"
    }
   ],
   "source": [
    "targets.view(-1).size()"
   ]
  },
  {
   "cell_type": "code",
   "execution_count": 30,
   "metadata": {
    "ExecuteTime": {
     "end_time": "2018-07-31T15:54:35.571415Z",
     "start_time": "2018-07-31T15:54:35.553463Z"
    }
   },
   "outputs": [
    {
     "data": {
      "text/plain": [
       "(torch.Size([100, 1000, 2]), torch.Size([100, 1000]))"
      ]
     },
     "execution_count": 30,
     "metadata": {},
     "output_type": "execute_result"
    }
   ],
   "source": [
    "out.size(), targets.size()"
   ]
  },
  {
   "cell_type": "code",
   "execution_count": 31,
   "metadata": {
    "ExecuteTime": {
     "end_time": "2018-07-31T15:54:35.597346Z",
     "start_time": "2018-07-31T15:54:35.573410Z"
    }
   },
   "outputs": [
    {
     "data": {
      "text/plain": [
       "tensor(0.6920, dtype=torch.float64)"
      ]
     },
     "execution_count": 31,
     "metadata": {},
     "output_type": "execute_result"
    }
   ],
   "source": [
    "criterion(out.view(-1, 2), targets.view(-1))"
   ]
  },
  {
   "cell_type": "markdown",
   "metadata": {},
   "source": [
    "### Train"
   ]
  },
  {
   "cell_type": "code",
   "execution_count": 32,
   "metadata": {
    "ExecuteTime": {
     "end_time": "2018-07-31T15:58:19.721424Z",
     "start_time": "2018-07-31T15:54:35.600339Z"
    }
   },
   "outputs": [
    {
     "data": {
      "application/vnd.jupyter.widget-view+json": {
       "model_id": "e795e5b5ecb143918368e4bd4b195f0a",
       "version_major": 2,
       "version_minor": 0
      },
      "text/plain": [
       "HBox(children=(IntProgress(value=0, description='Epoch:', max=20), HTML(value='')))"
      ]
     },
     "metadata": {},
     "output_type": "display_data"
    },
    {
     "name": "stdout",
     "output_type": "stream",
     "text": [
      "loss: 0.691976544202113\n",
      "loss: 0.6908654625159294\n",
      "loss: 0.6897665082973412\n",
      "loss: 0.6886690057331414\n",
      "loss: 0.6875582084160831\n",
      "loss: 0.6864147156374325\n",
      "loss: 0.6852184111026464\n",
      "loss: 0.6839484980770573\n",
      "loss: 0.6825815644275748\n",
      "loss: 0.6810904788128209\n",
      "loss: 0.6794429755836374\n",
      "loss: 0.6775997599532404\n",
      "loss: 0.6755130150641632\n",
      "loss: 0.673125553967109\n",
      "loss: 0.6703713664967113\n",
      "loss: 0.6671798818018595\n",
      "loss: 0.6634879367132206\n",
      "loss: 0.6592656643775809\n",
      "loss: 0.6545655112506982\n",
      "loss: 0.6495953648997443\n",
      "\n"
     ]
    }
   ],
   "source": [
    "#begin to train\n",
    "for i in tqdm_notebook(range(20), desc='Epoch:'):\n",
    "    \n",
    "    def closure():\n",
    "        optimizer.zero_grad()\n",
    "        out = seq(inputs)\n",
    "        loss = criterion(out.view(-1, 2), targets.view(-1))\n",
    "        print('loss:', loss.item())\n",
    "        loss.backward()\n",
    "        return loss\n",
    "    optimizer.step(closure)\n",
    "    # begin to predict, no need to track gradient here\n",
    "#     with torch.no_grad():\n",
    "#         future = 1000\n",
    "#         pred = seq(test_input, future=future)\n",
    "#         loss = criterion(pred[:, :-future], test_target)\n",
    "#         print('test loss:', loss.item())\n",
    "#         y = pred.detach().numpy()"
   ]
  },
  {
   "cell_type": "code",
   "execution_count": 33,
   "metadata": {
    "ExecuteTime": {
     "end_time": "2018-07-31T15:58:23.174213Z",
     "start_time": "2018-07-31T15:58:19.724416Z"
    }
   },
   "outputs": [
    {
     "data": {
      "text/plain": [
       "tensor([[[ 0.4807,  0.4700],\n",
       "         [ 0.4803,  0.4721],\n",
       "         [ 0.4801,  0.4730],\n",
       "         ...,\n",
       "         [ 0.4800,  0.4731],\n",
       "         [ 0.4800,  0.4731],\n",
       "         [ 0.4800,  0.4731]],\n",
       "\n",
       "        [[ 0.4807,  0.4700],\n",
       "         [ 0.4803,  0.4721],\n",
       "         [ 0.4801,  0.4730],\n",
       "         ...,\n",
       "         [ 0.4802,  0.4733],\n",
       "         [ 0.4802,  0.4733],\n",
       "         [ 0.4802,  0.4733]],\n",
       "\n",
       "        [[ 0.4807,  0.4700],\n",
       "         [ 0.4803,  0.4721],\n",
       "         [ 0.4801,  0.4730],\n",
       "         ...,\n",
       "         [ 0.4802,  0.4732],\n",
       "         [ 0.4801,  0.4732],\n",
       "         [ 0.4801,  0.4732]],\n",
       "\n",
       "        ...,\n",
       "\n",
       "        [[ 0.4807,  0.4700],\n",
       "         [ 0.4803,  0.4721],\n",
       "         [ 0.4801,  0.4730],\n",
       "         ...,\n",
       "         [ 0.4800,  0.4731],\n",
       "         [ 0.4800,  0.4731],\n",
       "         [ 0.4800,  0.4731]],\n",
       "\n",
       "        [[ 0.4807,  0.4700],\n",
       "         [ 0.4803,  0.4721],\n",
       "         [ 0.4801,  0.4730],\n",
       "         ...,\n",
       "         [ 0.4801,  0.4732],\n",
       "         [ 0.4801,  0.4732],\n",
       "         [ 0.4801,  0.4732]],\n",
       "\n",
       "        [[ 0.4807,  0.4700],\n",
       "         [ 0.4803,  0.4721],\n",
       "         [ 0.4801,  0.4730],\n",
       "         ...,\n",
       "         [ 0.4807,  0.4737],\n",
       "         [ 0.4807,  0.4737],\n",
       "         [ 0.4807,  0.4737]]], dtype=torch.float64)"
      ]
     },
     "execution_count": 33,
     "metadata": {},
     "output_type": "execute_result"
    }
   ],
   "source": [
    "outout = seq(inputs)\n",
    "out"
   ]
  },
  {
   "cell_type": "markdown",
   "metadata": {},
   "source": [
    "## Prices and changes \n",
    "### Train and test sets\n",
    "The input data for an LSTM cell in pytorch must be of dimension:\n",
    "\n",
    "* `(seq_len, batch, input_size) = (seq_len, N_samples, 5)`."
   ]
  },
  {
   "cell_type": "code",
   "execution_count": null,
   "metadata": {},
   "outputs": [],
   "source": [
    "N_samples = 100\n",
    "\n",
    "paths = [sim_path() for i in range(N_samples)]\n",
    "inputs = np.array([p.drop('State', axis=1).values for p in paths])\n",
    "targets = np.array([p.State.values for p in paths])"
   ]
  },
  {
   "cell_type": "code",
   "execution_count": null,
   "metadata": {},
   "outputs": [],
   "source": [
    "inputs = torch.from_numpy(inputs)\n",
    "targets = torch.from_numpy(targets)"
   ]
  },
  {
   "cell_type": "code",
   "execution_count": null,
   "metadata": {},
   "outputs": [],
   "source": [
    "inputs.size(), targets.size()"
   ]
  },
  {
   "cell_type": "code",
   "execution_count": null,
   "metadata": {},
   "outputs": [],
   "source": [
    "list(inputs.chunk(inputs.size(1), dim=1))[0].view(N_samples, -1).size()"
   ]
  },
  {
   "cell_type": "markdown",
   "metadata": {},
   "source": [
    "### Build the model"
   ]
  },
  {
   "cell_type": "code",
   "execution_count": null,
   "metadata": {},
   "outputs": [],
   "source": [
    "class Sequence(nn.Module):\n",
    "    def __init__(self):\n",
    "        super(Sequence, self).__init__()\n",
    "        self.lstm1 = nn.LSTMCell(5, 51)\n",
    "        self.lstm2 = nn.LSTMCell(51, 51)\n",
    "        self.linear = nn.Linear(51, 2)\n",
    "        self.sigmoid = nn.Sigmoid()\n",
    "\n",
    "    def forward(self, input):\n",
    "        outputs = []\n",
    "        h_t = torch.zeros(input.size(0), 51, dtype=torch.double)\n",
    "        c_t = torch.zeros(input.size(0), 51, dtype=torch.double)\n",
    "        h_t2 = torch.zeros(input.size(0), 51, dtype=torch.double)\n",
    "        c_t2 = torch.zeros(input.size(0), 51, dtype=torch.double)\n",
    "\n",
    "        for i, input_t in enumerate(input.chunk(input.size(1), dim=1)):\n",
    "            h_t, c_t = self.lstm1(input_t.view(N_samples, -1), (h_t, c_t))\n",
    "            h_t2, c_t2 = self.lstm2(h_t, (h_t2, c_t2))\n",
    "            output = self.sigmoid(self.linear(h_t2))\n",
    "            outputs += [output]\n",
    "\n",
    "        outputs = torch.stack(outputs, 1).squeeze(2)\n",
    "        return outputs"
   ]
  },
  {
   "cell_type": "code",
   "execution_count": null,
   "metadata": {},
   "outputs": [],
   "source": [
    "# build the model# build \n",
    "seq = Sequence()\n",
    "seq.double()"
   ]
  },
  {
   "cell_type": "code",
   "execution_count": null,
   "metadata": {},
   "outputs": [],
   "source": [
    "criterion = nn.CrossEntropyLoss()\n",
    "\n",
    "# use LBFGS as optimizer since we can load the whole data to train\n",
    "# optimizer = optim.LBFGS(seq.parameters(), lr=0.1)\n",
    "\n",
    "optimizer = optim.Adam(seq.parameters())"
   ]
  },
  {
   "cell_type": "code",
   "execution_count": null,
   "metadata": {},
   "outputs": [],
   "source": [
    "out = seq(inputs)\n",
    "out"
   ]
  },
  {
   "cell_type": "code",
   "execution_count": null,
   "metadata": {},
   "outputs": [],
   "source": [
    "out.size(), targets.size()"
   ]
  },
  {
   "cell_type": "code",
   "execution_count": null,
   "metadata": {},
   "outputs": [],
   "source": [
    "out.view(-1, 2).size()"
   ]
  },
  {
   "cell_type": "code",
   "execution_count": null,
   "metadata": {},
   "outputs": [],
   "source": [
    "targets.view(-1).size()"
   ]
  },
  {
   "cell_type": "code",
   "execution_count": null,
   "metadata": {},
   "outputs": [],
   "source": [
    "criterion(out.view(-1, 2), targets.view(-1))"
   ]
  },
  {
   "cell_type": "markdown",
   "metadata": {},
   "source": [
    "### Train"
   ]
  },
  {
   "cell_type": "code",
   "execution_count": null,
   "metadata": {},
   "outputs": [],
   "source": [
    "#begin to train\n",
    "for i in tqdm_notebook(range(20), desc='Epoch:'):\n",
    "    \n",
    "    def closure():\n",
    "        optimizer.zero_grad()\n",
    "        out = seq(inputs)\n",
    "        loss = criterion(out.view(-1, 2), targets.view(-1))\n",
    "        print('loss:', loss.item())\n",
    "        loss.backward()\n",
    "        return loss\n",
    "    optimizer.step(closure)\n",
    "    # begin to predict, no need to track gradient here\n",
    "#     with torch.no_grad():\n",
    "#         future = 1000\n",
    "#         pred = seq(test_input, future=future)\n",
    "#         loss = criterion(pred[:, :-future], test_target)\n",
    "#         print('test loss:', loss.item())\n",
    "#         y = pred.detach().numpy()"
   ]
  },
  {
   "cell_type": "code",
   "execution_count": null,
   "metadata": {},
   "outputs": [],
   "source": [
    "out = seq(inputs)\n",
    "out"
   ]
  },
  {
   "cell_type": "markdown",
   "metadata": {},
   "source": [
    "# Support and Resistance"
   ]
  },
  {
   "cell_type": "code",
   "execution_count": null,
   "metadata": {},
   "outputs": [],
   "source": [
    "def add_support_resistance(df, fast=30, slow=120):\n",
    "    return df.assign(Resistance_fast = df.Close.rolling(30).max(),\n",
    "                     Resistance_slow = df.Close.rolling(120).max(),\n",
    "                     Support_fast = df.Close.rolling(30).min(),\n",
    "                     Support_slow = df.Close.rolling(120).min())"
   ]
  },
  {
   "cell_type": "code",
   "execution_count": null,
   "metadata": {},
   "outputs": [],
   "source": [
    "price_df = add_support_resistance(sim_path())\n",
    "\n",
    "price_df[['Close', 'Support_fast', 'Resistance_fast',\n",
    "          'Support_slow', 'Resistance_slow']].plot(figsize=(12, 4))"
   ]
  },
  {
   "cell_type": "code",
   "execution_count": null,
   "metadata": {},
   "outputs": [],
   "source": [
    "price_df"
   ]
  },
  {
   "cell_type": "markdown",
   "metadata": {},
   "source": [
    "## Train and test sets"
   ]
  },
  {
   "cell_type": "code",
   "execution_count": null,
   "metadata": {},
   "outputs": [],
   "source": [
    "N_samples = 500\n",
    "\n",
    "input_variables = ['Close']\n",
    "target_variables = ['Resistance_fast', 'Resistance_slow',\n",
    "                    'Support_fast', 'Support_slow']\n",
    "\n",
    "paths = [add_support_resistance(sim_path()) for i in range(N_samples)]\n",
    "inputs = np.array([p[input_variables].values for p in paths], dtype=np.double)\n",
    "targets = np.array([p[target_variables].values for p in paths], dtype=np.double)"
   ]
  },
  {
   "cell_type": "code",
   "execution_count": null,
   "metadata": {},
   "outputs": [],
   "source": [
    "inputs = torch.from_numpy(inputs)\n",
    "targets = torch.from_numpy(targets)"
   ]
  },
  {
   "cell_type": "code",
   "execution_count": null,
   "metadata": {},
   "outputs": [],
   "source": [
    "inputs.size(), targets.size()"
   ]
  },
  {
   "cell_type": "code",
   "execution_count": null,
   "metadata": {},
   "outputs": [],
   "source": [
    "# list(inputs.chunk(inputs.size(1), dim=1))[0].view(N_samples, -1).size()"
   ]
  },
  {
   "cell_type": "markdown",
   "metadata": {},
   "source": [
    "## Build the model"
   ]
  },
  {
   "cell_type": "code",
   "execution_count": null,
   "metadata": {},
   "outputs": [],
   "source": [
    "class Sequence(nn.Module):\n",
    "    def __init__(self, h0=1, h1=51, h2=51, hL=1):\n",
    "        super(Sequence, self).__init__()\n",
    "        self.h0 = h0\n",
    "        self.h1 = h1\n",
    "        self.h2 = h2\n",
    "        self.hL = hL\n",
    "        self.lstm1 = nn.LSTMCell(h0, h1)\n",
    "        self.lstm2 = nn.LSTMCell(h1, h2)\n",
    "        self.linear = nn.Linear(h2, hL)\n",
    "\n",
    "    def forward(self, input):\n",
    "        outputs = []\n",
    "        h_t = torch.zeros(input.size(0), self.h1, dtype=torch.double)\n",
    "        c_t = torch.zeros(input.size(0), self.h1, dtype=torch.double)\n",
    "        h_t2 = torch.zeros(input.size(0), self.h2, dtype=torch.double)\n",
    "        c_t2 = torch.zeros(input.size(0), self.h2, dtype=torch.double)\n",
    "\n",
    "        for i, input_t in enumerate(input.chunk(input.size(1), dim=1)):\n",
    "            h_t, c_t = self.lstm1(input_t.view(N_samples, -1), (h_t, c_t))\n",
    "            h_t2, c_t2 = self.lstm2(h_t, (h_t2, c_t2))\n",
    "            output = self.linear(h_t2)\n",
    "            outputs += [output]\n",
    "\n",
    "        outputs = torch.stack(outputs, 1).squeeze(2)\n",
    "        return outputs\n",
    "\n",
    "    \n",
    "class Sequence3(nn.Module):\n",
    "    def __init__(self, h0=1, h1=10, h2=10, h3=10, hL=1):\n",
    "        super(Sequence3, self).__init__()\n",
    "        self.h0 = h0\n",
    "        self.h1 = h1\n",
    "        self.h2 = h2\n",
    "        self.h3 = h3\n",
    "        self.hL = hL\n",
    "        self.lstm1 = nn.LSTMCell(h0, h1)\n",
    "        self.lstm2 = nn.LSTMCell(h1, h2)\n",
    "        self.lstm3 = nn.LSTMCell(h2, h3)\n",
    "        self.linear = nn.Linear(h3, hL)\n",
    "\n",
    "    def forward(self, input):\n",
    "        outputs = []\n",
    "        h_t = torch.zeros(input.size(0), self.h1, dtype=torch.double)\n",
    "        c_t = torch.zeros(input.size(0), self.h1, dtype=torch.double)\n",
    "        h_t2 = torch.zeros(input.size(0), self.h2, dtype=torch.double)\n",
    "        c_t2 = torch.zeros(input.size(0), self.h2, dtype=torch.double)\n",
    "        h_t3 = torch.ones(input.size(0), self.h3, dtype=torch.double)\n",
    "        c_t3 = torch.zeros(input.size(0), self.h3, dtype=torch.double)\n",
    "\n",
    "        for i, input_t in enumerate(input.chunk(input.size(1), dim=1)):\n",
    "            h_t, c_t = self.lstm1(input_t.view(N_samples, -1), (h_t, c_t))\n",
    "            h_t2, c_t2 = self.lstm2(h_t, (h_t2, c_t2))\n",
    "            h_t3, c_t3 = self.lstm3(h_t2, (h_t3, c_t3))\n",
    "            output = self.linear(h_t3)\n",
    "            outputs += [output]\n",
    "\n",
    "        outputs = torch.stack(outputs, 1).squeeze(2)\n",
    "        return outputs"
   ]
  },
  {
   "cell_type": "code",
   "execution_count": null,
   "metadata": {},
   "outputs": [],
   "source": [
    "# build the model\n",
    "seq = Sequence3(hL=4)#Sequence(h0=1, h1=20, h2=10, hL=4)\n",
    "seq.double()"
   ]
  },
  {
   "cell_type": "code",
   "execution_count": null,
   "metadata": {},
   "outputs": [],
   "source": [
    "mse = nn.MSELoss(reduce=False)\n",
    "def criterion(y_hat, y_true):\n",
    "    loss = mse(y_hat[:, 119:, :], y_true[:, 119:, :]).\\\n",
    "        div(y_true[:, 119:, :]).mean()\n",
    "    return loss"
   ]
  },
  {
   "cell_type": "code",
   "execution_count": null,
   "metadata": {},
   "outputs": [],
   "source": [
    "out = seq(inputs)\n",
    "out"
   ]
  },
  {
   "cell_type": "code",
   "execution_count": 34,
   "metadata": {
    "ExecuteTime": {
     "end_time": "2018-07-31T15:58:56.535356Z",
     "start_time": "2018-07-31T15:58:56.527378Z"
    }
   },
   "outputs": [
    {
     "data": {
      "text/plain": [
       "(torch.Size([100, 1000, 2]), torch.Size([100, 1000]))"
      ]
     },
     "execution_count": 34,
     "metadata": {},
     "output_type": "execute_result"
    }
   ],
   "source": [
    "out.size(), targets.size()"
   ]
  },
  {
   "cell_type": "code",
   "execution_count": null,
   "metadata": {},
   "outputs": [],
   "source": [
    "criterion(out, targets)"
   ]
  },
  {
   "cell_type": "markdown",
   "metadata": {},
   "source": [
    "## Train"
   ]
  },
  {
   "cell_type": "code",
   "execution_count": null,
   "metadata": {},
   "outputs": [],
   "source": [
    "losses = []"
   ]
  },
  {
   "cell_type": "code",
   "execution_count": null,
   "metadata": {},
   "outputs": [],
   "source": [
    "optimizer = optim.Adam(seq.parameters(), lr=1e-3)"
   ]
  },
  {
   "cell_type": "code",
   "execution_count": null,
   "metadata": {},
   "outputs": [],
   "source": [
    "for i in tqdm_notebook(range(200), desc='Epoch:'):\n",
    "    \n",
    "    def closure():\n",
    "        optimizer.zero_grad()\n",
    "        out = seq(inputs)\n",
    "        loss = criterion(out, targets)\n",
    "        losses.append(loss.detach().numpy())\n",
    "        loss.backward()\n",
    "        return loss\n",
    "    optimizer.step(closure)\n",
    "    \n",
    "    if i % 10 == 0:\n",
    "        print('i:', i, ', loss:', losses[-1])\n",
    "    # begin to predict, no need to track gradient here\n",
    "#     with torch.no_grad():\n",
    "#         future = 1000\n",
    "#         pred = seq(test_input, future=future)\n",
    "#         loss = criterion(pred[:, :-future], test_target)\n",
    "#         print('test loss:', loss.item())\n",
    "#         y = pred.detach().numpy()"
   ]
  },
  {
   "cell_type": "code",
   "execution_count": null,
   "metadata": {},
   "outputs": [],
   "source": [
    "plt.plot(np.array(losses))"
   ]
  },
  {
   "cell_type": "markdown",
   "metadata": {},
   "source": [
    "### Train sample"
   ]
  },
  {
   "cell_type": "code",
   "execution_count": null,
   "metadata": {},
   "outputs": [],
   "source": [
    "with torch.no_grad():\n",
    "    out = seq(inputs)\n",
    "out.size()"
   ]
  },
  {
   "cell_type": "code",
   "execution_count": null,
   "metadata": {},
   "outputs": [],
   "source": [
    "j = np.random.randint(0, N_samples)\n",
    "y_hat = out.detach().numpy()\n",
    "y_hat_df = DataFrame(data=y_hat[j,...], columns=['rf', 'rs', 'sf', 'ss'])\n",
    "res_j = pd.concat((paths[j], y_hat_df), axis=1)\n",
    "res_j[['Close', 'Support_slow', 'ss']].plot(figsize=(12, 5));"
   ]
  },
  {
   "cell_type": "markdown",
   "metadata": {},
   "source": [
    "### Test sample"
   ]
  },
  {
   "cell_type": "code",
   "execution_count": null,
   "metadata": {},
   "outputs": [],
   "source": [
    "test_samples = 2\n",
    "\n",
    "input_variables = ['Close']\n",
    "target_variables = ['Resistance_fast', 'Resistance_slow',\n",
    "                    'Support_fast', 'Support_slow']\n",
    "\n",
    "test_paths = [add_support_resistance(sim_path()) for i in range(N_samples)]\n",
    "test_inputs = np.array([p[input_variables].values for p in test_paths])\n",
    "test_targets = np.array([p[target_variables].values for p in test_paths])"
   ]
  },
  {
   "cell_type": "code",
   "execution_count": null,
   "metadata": {},
   "outputs": [],
   "source": [
    "test_inputs = torch.from_numpy(test_inputs)\n",
    "test_targets = torch.from_numpy(test_targets)"
   ]
  },
  {
   "cell_type": "code",
   "execution_count": null,
   "metadata": {},
   "outputs": [],
   "source": [
    "test_inputs.size()"
   ]
  },
  {
   "cell_type": "code",
   "execution_count": null,
   "metadata": {},
   "outputs": [],
   "source": [
    "with torch.no_grad():\n",
    "    test_out = seq(test_inputs)\n",
    "test_out.size()"
   ]
  },
  {
   "cell_type": "code",
   "execution_count": null,
   "metadata": {},
   "outputs": [],
   "source": [
    "j = np.random.randint(0, test_samples)\n",
    "y_hat = test_out.detach().numpy()\n",
    "y_hat_df = DataFrame(data=y_hat[j,...], columns=['rf', 'rs', 'sf', 'ss'])\n",
    "res_j = pd.concat((test_paths[j], y_hat_df), axis=1)\n",
    "res_j[['Close', 'Support_slow', 'ss']].plot(figsize=(12, 5));"
   ]
  }
 ],
 "metadata": {
  "kernelspec": {
   "display_name": "Python 3",
   "language": "python",
   "name": "python3"
  },
  "language_info": {
   "codemirror_mode": {
    "name": "ipython",
    "version": 3
   },
   "file_extension": ".py",
   "mimetype": "text/x-python",
   "name": "python",
   "nbconvert_exporter": "python",
   "pygments_lexer": "ipython3",
   "version": "3.6.6"
  },
  "toc": {
   "base_numbering": 1,
   "nav_menu": {},
   "number_sections": true,
   "sideBar": true,
   "skip_h1_title": false,
   "title_cell": "Table of Contents",
   "title_sidebar": "Contents",
   "toc_cell": false,
   "toc_position": {},
   "toc_section_display": true,
   "toc_window_display": false
  }
 },
 "nbformat": 4,
 "nbformat_minor": 2
}
