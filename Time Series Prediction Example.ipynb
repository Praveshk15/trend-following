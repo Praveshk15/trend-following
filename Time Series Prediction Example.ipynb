{
 "cells": [
  {
   "cell_type": "code",
   "execution_count": 1,
   "metadata": {
    "ExecuteTime": {
     "end_time": "2018-08-02T02:04:23.372167Z",
     "start_time": "2018-08-02T02:04:22.457090Z"
    }
   },
   "outputs": [],
   "source": [
    "%matplotlib inline"
   ]
  },
  {
   "cell_type": "code",
   "execution_count": 2,
   "metadata": {
    "ExecuteTime": {
     "end_time": "2018-08-02T02:04:23.782495Z",
     "start_time": "2018-08-02T02:04:23.374594Z"
    }
   },
   "outputs": [],
   "source": [
    "from __future__ import print_function\n",
    "import torch\n",
    "import torch.nn as nn\n",
    "import torch.optim as optim\n",
    "import numpy as np\n",
    "import matplotlib\n",
    "import matplotlib.pyplot as plt\n",
    "\n",
    "from tqdm import tqdm_notebook"
   ]
  },
  {
   "cell_type": "code",
   "execution_count": 176,
   "metadata": {
    "ExecuteTime": {
     "end_time": "2018-08-02T03:14:17.626249Z",
     "start_time": "2018-08-02T03:14:17.620484Z"
    }
   },
   "outputs": [
    {
     "data": {
      "text/plain": [
       "1"
      ]
     },
     "execution_count": 176,
     "metadata": {},
     "output_type": "execute_result"
    }
   ],
   "source": [
    "# torch.set_num_threads(3)\n",
    "torch.get_num_threads()"
   ]
  },
  {
   "cell_type": "code",
   "execution_count": 3,
   "metadata": {
    "ExecuteTime": {
     "end_time": "2018-08-02T02:04:23.788922Z",
     "start_time": "2018-08-02T02:04:23.785324Z"
    }
   },
   "outputs": [],
   "source": [
    "# import torch, torchvision, torchtext\n",
    "# from torch import nn, cuda, backends, FloatTensor, LongTensor, optim\n",
    "# import torch.nn.functional as F\n",
    "# from torch.autograd import Variable\n",
    "# from torch.utils.data import Dataset, TensorDataset"
   ]
  },
  {
   "cell_type": "code",
   "execution_count": 4,
   "metadata": {
    "ExecuteTime": {
     "end_time": "2018-08-02T02:04:24.182784Z",
     "start_time": "2018-08-02T02:04:24.176110Z"
    }
   },
   "outputs": [],
   "source": [
    "# torch.cuda.set_device(0)"
   ]
  },
  {
   "cell_type": "markdown",
   "metadata": {
    "heading_collapsed": true
   },
   "source": [
    "# Generate Sine Wave"
   ]
  },
  {
   "cell_type": "code",
   "execution_count": null,
   "metadata": {
    "ExecuteTime": {
     "end_time": "2018-07-31T15:47:00.064611Z",
     "start_time": "2018-07-31T15:47:00.061589Z"
    },
    "hidden": true
   },
   "outputs": [],
   "source": [
    "np.random.seed(2)\n",
    "\n",
    "T = 20\n",
    "L = 1000\n",
    "N = 100"
   ]
  },
  {
   "cell_type": "code",
   "execution_count": null,
   "metadata": {
    "ExecuteTime": {
     "end_time": "2018-07-31T15:47:05.197601Z",
     "start_time": "2018-07-31T15:47:05.189623Z"
    },
    "hidden": true
   },
   "outputs": [],
   "source": [
    "x = np.empty((N, L), 'int64')\n",
    "x[:] = np.array(range(L)) + np.random.randint(-4 * T, 4 * T, N).reshape(N, 1)\n",
    "x.shape"
   ]
  },
  {
   "cell_type": "code",
   "execution_count": null,
   "metadata": {
    "ExecuteTime": {
     "end_time": "2018-07-31T15:47:17.199619Z",
     "start_time": "2018-07-31T15:47:17.121843Z"
    },
    "hidden": true
   },
   "outputs": [],
   "source": [
    "data = np.sin(x / 1.0 / T).astype('float64')\n",
    "torch.save(data, open('traindata.pt', 'wb'))\n",
    "data.shape"
   ]
  },
  {
   "cell_type": "code",
   "execution_count": null,
   "metadata": {
    "ExecuteTime": {
     "end_time": "2018-07-31T15:47:19.222953Z",
     "start_time": "2018-07-31T15:47:19.094816Z"
    },
    "hidden": true
   },
   "outputs": [],
   "source": [
    "plt.plot(data[5,: ])"
   ]
  },
  {
   "cell_type": "markdown",
   "metadata": {
    "hidden": true
   },
   "source": [
    "To use the data in the model, .chunk(train_input.size(1), dim=1) splits it into slices 1, 2, ..., t, ..., L."
   ]
  },
  {
   "cell_type": "markdown",
   "metadata": {
    "hidden": true
   },
   "source": [
    "## Model "
   ]
  },
  {
   "cell_type": "markdown",
   "metadata": {
    "hidden": true
   },
   "source": [
    "## Train and Test sets"
   ]
  },
  {
   "cell_type": "code",
   "execution_count": null,
   "metadata": {
    "ExecuteTime": {
     "end_time": "2018-07-31T15:48:08.654870Z",
     "start_time": "2018-07-31T15:48:08.637916Z"
    },
    "hidden": true
   },
   "outputs": [],
   "source": [
    "# set random seed to 0\n",
    "np.random.seed(0)\n",
    "torch.manual_seed(0)"
   ]
  },
  {
   "cell_type": "code",
   "execution_count": null,
   "metadata": {
    "ExecuteTime": {
     "end_time": "2018-07-31T15:48:41.264400Z",
     "start_time": "2018-07-31T15:48:41.242460Z"
    },
    "hidden": true
   },
   "outputs": [],
   "source": [
    "# load data and make training set\n",
    "data = torch.load('traindata.pt')\n",
    "\n",
    "# Train dataset\n",
    "train_input = torch.from_numpy(data[3:, :-1])\n",
    "train_target = torch.from_numpy(data[3:, 1:])\n",
    "\n",
    "# Test dataset\n",
    "test_input = torch.from_numpy(data[:3, :-1])\n",
    "test_target = torch.from_numpy(data[:3, 1:])"
   ]
  },
  {
   "cell_type": "code",
   "execution_count": null,
   "metadata": {
    "ExecuteTime": {
     "end_time": "2018-07-31T15:48:45.389704Z",
     "start_time": "2018-07-31T15:48:45.385714Z"
    },
    "hidden": true
   },
   "outputs": [],
   "source": [
    "data.shape"
   ]
  },
  {
   "cell_type": "code",
   "execution_count": null,
   "metadata": {
    "ExecuteTime": {
     "end_time": "2018-07-31T15:48:46.705555Z",
     "start_time": "2018-07-31T15:48:46.609816Z"
    },
    "hidden": true
   },
   "outputs": [],
   "source": [
    "plt.plot(train_input[96].numpy())"
   ]
  },
  {
   "cell_type": "code",
   "execution_count": null,
   "metadata": {
    "ExecuteTime": {
     "end_time": "2018-07-31T15:48:53.373714Z",
     "start_time": "2018-07-31T15:48:53.365763Z"
    },
    "hidden": true
   },
   "outputs": [],
   "source": [
    "print('Train input:', train_input.size(), ', Train target:', train_target.size())"
   ]
  },
  {
   "cell_type": "code",
   "execution_count": null,
   "metadata": {
    "ExecuteTime": {
     "end_time": "2018-07-31T15:48:57.988780Z",
     "start_time": "2018-07-31T15:48:57.977808Z"
    },
    "hidden": true
   },
   "outputs": [],
   "source": [
    "list(train_input.chunk(train_input.size(1), dim=1))[0].size()"
   ]
  },
  {
   "cell_type": "markdown",
   "metadata": {
    "hidden": true
   },
   "source": [
    "## Build the model"
   ]
  },
  {
   "cell_type": "code",
   "execution_count": null,
   "metadata": {
    "ExecuteTime": {
     "end_time": "2018-07-31T15:48:03.163646Z",
     "start_time": "2018-07-31T15:48:03.157662Z"
    },
    "hidden": true
   },
   "outputs": [],
   "source": [
    "class Sequence(nn.Module):\n",
    "    def __init__(self):\n",
    "        super(Sequence, self).__init__()\n",
    "        self.lstm1 = nn.LSTMCell(1, 51)\n",
    "        self.lstm2 = nn.LSTMCell(51, 51)\n",
    "        self.linear = nn.Linear(51, 1)\n",
    "\n",
    "    def forward(self, input, future = 0):\n",
    "        outputs = []\n",
    "        h_t = torch.zeros(input.size(0), 51, dtype=torch.double)\n",
    "        c_t = torch.zeros(input.size(0), 51, dtype=torch.double)\n",
    "        h_t2 = torch.zeros(input.size(0), 51, dtype=torch.double)\n",
    "        c_t2 = torch.zeros(input.size(0), 51, dtype=torch.double)\n",
    "\n",
    "        for i, input_t in enumerate(input.chunk(input.size(1), dim=1)):\n",
    "            h_t, c_t = self.lstm1(input_t, (h_t, c_t))\n",
    "            h_t2, c_t2 = self.lstm2(h_t, (h_t2, c_t2))\n",
    "            output = self.linear(h_t2)\n",
    "            outputs += [output]\n",
    "        for i in range(future):# if we should predict the future\n",
    "            h_t, c_t = self.lstm1(output, (h_t, c_t))\n",
    "            h_t2, c_t2 = self.lstm2(h_t, (h_t2, c_t2))\n",
    "            output = self.linear(h_t2)\n",
    "            outputs += [output]\n",
    "        outputs = torch.stack(outputs, 1).squeeze(2)\n",
    "        return outputs"
   ]
  },
  {
   "cell_type": "code",
   "execution_count": null,
   "metadata": {
    "ExecuteTime": {
     "end_time": "2018-07-31T15:49:12.429162Z",
     "start_time": "2018-07-31T15:49:12.414203Z"
    },
    "hidden": true
   },
   "outputs": [],
   "source": [
    "# build the model\n",
    "seq = Sequence()\n",
    "seq.double()"
   ]
  },
  {
   "cell_type": "code",
   "execution_count": null,
   "metadata": {
    "hidden": true
   },
   "outputs": [],
   "source": [
    "criterion = nn.MSELoss()\n",
    "\n",
    "# use LBFGS as optimizer since we can load the whole data to train\n",
    "optimizer = optim.LBFGS(seq.parameters(), lr=0.8)\n",
    "\n",
    "# optimizer = optim.Adam(seq.parameters(), lr=0.1, weight_decay=1e-3)"
   ]
  },
  {
   "cell_type": "markdown",
   "metadata": {
    "hidden": true
   },
   "source": [
    "## Train"
   ]
  },
  {
   "cell_type": "code",
   "execution_count": null,
   "metadata": {
    "hidden": true
   },
   "outputs": [],
   "source": [
    "#begin to train\n",
    "for i in tqdm_notebook(range(20), desc='Epoch:'):\n",
    "    \n",
    "    def closure():\n",
    "        optimizer.zero_grad()\n",
    "        out = seq(train_input)\n",
    "        loss = criterion(out, train_target)\n",
    "        print('loss:', loss.item())\n",
    "        loss.backward()\n",
    "        return loss\n",
    "    optimizer.step(closure)\n",
    "    # begin to predict, no need to track gradient here\n",
    "    with torch.no_grad():\n",
    "        future = 1000\n",
    "        pred = seq(test_input, future=future)\n",
    "        loss = criterion(pred[:, :-future], test_target)\n",
    "        print('test loss:', loss.item())\n",
    "        y = pred.detach().numpy()\n",
    "    # draw the result\n",
    "    plt.figure(figsize=(30,10))\n",
    "    plt.title('Predict future values for time sequences\\n(Dashlines are predicted values)',\n",
    "              fontsize=30)\n",
    "    plt.xlabel('x', fontsize=20)\n",
    "    plt.ylabel('y', fontsize=20)\n",
    "    plt.xticks(fontsize=20)\n",
    "    plt.yticks(fontsize=20)\n",
    "    def draw(yi, color):\n",
    "        plt.plot(np.arange(train_input.size(1)),\n",
    "                 yi[:train_input.size(1)], color, linewidth = 2.0)\n",
    "        plt.plot(np.arange(train_input.size(1), train_input.size(1) + future), \n",
    "                 yi[train_input.size(1):], color + ':', linewidth = 2.0)\n",
    "    draw(y[0], 'r')\n",
    "    draw(y[1], 'g')\n",
    "    draw(y[2], 'b')\n",
    "    plt.show()"
   ]
  },
  {
   "cell_type": "markdown",
   "metadata": {},
   "source": [
    "# Trends and prices\n",
    "Simulate price paths according to Dai, M., Zhang, Q., & Zhu, Q. J. (2010). Trend following trading under a regime switching model. SIAM Journal on Financial Mathematics, 1(1), 780-810."
   ]
  },
  {
   "cell_type": "code",
   "execution_count": 5,
   "metadata": {
    "ExecuteTime": {
     "end_time": "2018-08-02T02:04:32.223161Z",
     "start_time": "2018-08-02T02:04:31.669087Z"
    }
   },
   "outputs": [],
   "source": [
    "import pandas as pd\n",
    "from pandas import DataFrame, Series\n",
    "pd.set_option('display.max_rows', 6)"
   ]
  },
  {
   "cell_type": "code",
   "execution_count": 22,
   "metadata": {
    "ExecuteTime": {
     "end_time": "2018-08-02T02:14:57.501582Z",
     "start_time": "2018-08-02T02:14:57.493131Z"
    }
   },
   "outputs": [],
   "source": [
    "def sim_path(N=1000, P=np.array([[0.95, 0.05], [0.1, 0.9]]),\n",
    "             mu=[-0.05, 0.1], sigma=0.35, S0=1, dt=1/250):\n",
    "    \n",
    "    # State simulation\n",
    "    state = np.random.randint(0, 2)\n",
    "    states = [state]\n",
    "    for t in range(N - 1):\n",
    "        state = int(np.random.multinomial(1, P[state, :]).argmax())\n",
    "        states.append(state)\n",
    "    \n",
    "    # Price simulation\n",
    "    drift = (np.array([mu[s] for s in states[1:]]) - 0.5 * sigma**2) * dt\n",
    "    wiener = np.random.randn(N - 1) * sigma * np.sqrt(dt)\n",
    "\n",
    "    S = S0 * np.concatenate((np.ones(1), np.exp(np.cumsum(drift + wiener))))\n",
    "    \n",
    "    res_df = DataFrame(data=dict(Close=S, State=states))\n",
    "    res_df = res_df.assign(Date = pd.date_range(start=datetime(2018, 1, 1),\n",
    "                                                periods=N, freq='D')).set_index('Date')\n",
    "    res_df = res_df.assign(Ch = res_df.Close.pct_change().add(1).apply('log'))\n",
    "    res_df = res_df.assign(Ch2 = res_df.Ch.pow(2),\n",
    "                           Ch3 = res_df.Ch.pow(3),\n",
    "                           Ch4 = res_df.Ch.pow(4)).fillna(0)\n",
    "\n",
    "    return res_df"
   ]
  },
  {
   "cell_type": "code",
   "execution_count": 23,
   "metadata": {
    "ExecuteTime": {
     "end_time": "2018-08-02T02:14:58.927943Z",
     "start_time": "2018-08-02T02:14:58.580133Z"
    }
   },
   "outputs": [
    {
     "data": {
      "image/png": "[encoded data removed]",
      "text/plain": [
       "<Figure size 720x288 with 1 Axes>"
      ]
     },
     "metadata": {},
     "output_type": "display_data"
    }
   ],
   "source": [
    "price_df = sim_path()\n",
    "price_df[['Close', 'State']].plot(figsize=(10, 4), alpha = 0.5);"
   ]
  },
  {
   "cell_type": "code",
   "execution_count": 24,
   "metadata": {
    "ExecuteTime": {
     "end_time": "2018-08-02T02:15:00.127280Z",
     "start_time": "2018-08-02T02:15:00.109358Z"
    }
   },
   "outputs": [
    {
     "data": {
      "text/html": [
       "<div>\n",
       "<style scoped>\n",
       "    .dataframe tbody tr th:only-of-type {\n",
       "        vertical-align: middle;\n",
       "    }\n",
       "\n",
       "    .dataframe tbody tr th {\n",
       "        vertical-align: top;\n",
       "    }\n",
       "\n",
       "    .dataframe thead th {\n",
       "        text-align: right;\n",
       "    }\n",
       "</style>\n",
       "<table border=\"1\" class=\"dataframe\">\n",
       "  <thead>\n",
       "    <tr style=\"text-align: right;\">\n",
       "      <th></th>\n",
       "      <th>Close</th>\n",
       "      <th>State</th>\n",
       "      <th>Ch</th>\n",
       "      <th>Ch2</th>\n",
       "      <th>Ch3</th>\n",
       "      <th>Ch4</th>\n",
       "    </tr>\n",
       "    <tr>\n",
       "      <th>Date</th>\n",
       "      <th></th>\n",
       "      <th></th>\n",
       "      <th></th>\n",
       "      <th></th>\n",
       "      <th></th>\n",
       "      <th></th>\n",
       "    </tr>\n",
       "  </thead>\n",
       "  <tbody>\n",
       "    <tr>\n",
       "      <th>2018-01-01</th>\n",
       "      <td>1.000000</td>\n",
       "      <td>1</td>\n",
       "      <td>0.000000</td>\n",
       "      <td>0.000000</td>\n",
       "      <td>0.000000e+00</td>\n",
       "      <td>0.000000e+00</td>\n",
       "    </tr>\n",
       "    <tr>\n",
       "      <th>2018-01-02</th>\n",
       "      <td>0.998473</td>\n",
       "      <td>0</td>\n",
       "      <td>-0.001528</td>\n",
       "      <td>0.000002</td>\n",
       "      <td>-3.569463e-09</td>\n",
       "      <td>5.455113e-12</td>\n",
       "    </tr>\n",
       "    <tr>\n",
       "      <th>2018-01-03</th>\n",
       "      <td>0.990929</td>\n",
       "      <td>1</td>\n",
       "      <td>-0.007584</td>\n",
       "      <td>0.000058</td>\n",
       "      <td>-4.362425e-07</td>\n",
       "      <td>3.308547e-09</td>\n",
       "    </tr>\n",
       "    <tr>\n",
       "      <th>...</th>\n",
       "      <td>...</td>\n",
       "      <td>...</td>\n",
       "      <td>...</td>\n",
       "      <td>...</td>\n",
       "      <td>...</td>\n",
       "      <td>...</td>\n",
       "    </tr>\n",
       "    <tr>\n",
       "      <th>2020-09-24</th>\n",
       "      <td>1.145878</td>\n",
       "      <td>1</td>\n",
       "      <td>-0.005442</td>\n",
       "      <td>0.000030</td>\n",
       "      <td>-1.611890e-07</td>\n",
       "      <td>8.772306e-10</td>\n",
       "    </tr>\n",
       "    <tr>\n",
       "      <th>2020-09-25</th>\n",
       "      <td>1.153095</td>\n",
       "      <td>1</td>\n",
       "      <td>0.006278</td>\n",
       "      <td>0.000039</td>\n",
       "      <td>2.474225e-07</td>\n",
       "      <td>1.553289e-09</td>\n",
       "    </tr>\n",
       "    <tr>\n",
       "      <th>2020-09-26</th>\n",
       "      <td>1.119268</td>\n",
       "      <td>1</td>\n",
       "      <td>-0.029774</td>\n",
       "      <td>0.000887</td>\n",
       "      <td>-2.639526e-05</td>\n",
       "      <td>7.859013e-07</td>\n",
       "    </tr>\n",
       "  </tbody>\n",
       "</table>\n",
       "<p>1000 rows × 6 columns</p>\n",
       "</div>"
      ],
      "text/plain": [
       "               Close  State        Ch       Ch2           Ch3           Ch4\n",
       "Date                                                                       \n",
       "2018-01-01  1.000000      1  0.000000  0.000000  0.000000e+00  0.000000e+00\n",
       "2018-01-02  0.998473      0 -0.001528  0.000002 -3.569463e-09  5.455113e-12\n",
       "2018-01-03  0.990929      1 -0.007584  0.000058 -4.362425e-07  3.308547e-09\n",
       "...              ...    ...       ...       ...           ...           ...\n",
       "2020-09-24  1.145878      1 -0.005442  0.000030 -1.611890e-07  8.772306e-10\n",
       "2020-09-25  1.153095      1  0.006278  0.000039  2.474225e-07  1.553289e-09\n",
       "2020-09-26  1.119268      1 -0.029774  0.000887 -2.639526e-05  7.859013e-07\n",
       "\n",
       "[1000 rows x 6 columns]"
      ]
     },
     "execution_count": 24,
     "metadata": {},
     "output_type": "execute_result"
    }
   ],
   "source": [
    "price_df"
   ]
  },
  {
   "cell_type": "markdown",
   "metadata": {
    "heading_collapsed": true
   },
   "source": [
    "## Only Price\n",
    "### Train and test sets\n",
    "The input data for an LSTM cell in pytorch must be of dimension:\n",
    "\n",
    "* `(seq_len, batch, input_size) = (seq_len, N_samples, 1)`."
   ]
  },
  {
   "cell_type": "code",
   "execution_count": null,
   "metadata": {
    "ExecuteTime": {
     "end_time": "2018-07-31T15:54:34.044714Z",
     "start_time": "2018-07-31T15:54:33.582102Z"
    },
    "hidden": true
   },
   "outputs": [],
   "source": [
    "N_samples = 100\n",
    "\n",
    "paths = [sim_path() for i in range(N_samples)]\n",
    "inputs = np.array([p.Close.values for p in paths])\n",
    "targets = np.array([p.State.values for p in paths])"
   ]
  },
  {
   "cell_type": "code",
   "execution_count": null,
   "metadata": {
    "ExecuteTime": {
     "end_time": "2018-07-31T15:54:34.049703Z",
     "start_time": "2018-07-31T15:54:34.046713Z"
    },
    "hidden": true
   },
   "outputs": [],
   "source": [
    "inputs = torch.from_numpy(inputs)\n",
    "targets = torch.from_numpy(targets)"
   ]
  },
  {
   "cell_type": "code",
   "execution_count": null,
   "metadata": {
    "ExecuteTime": {
     "end_time": "2018-07-31T15:54:34.072665Z",
     "start_time": "2018-07-31T15:54:34.050700Z"
    },
    "hidden": true
   },
   "outputs": [],
   "source": [
    "inputs.size(), targets.size()"
   ]
  },
  {
   "cell_type": "code",
   "execution_count": null,
   "metadata": {
    "ExecuteTime": {
     "end_time": "2018-07-31T15:54:34.097580Z",
     "start_time": "2018-07-31T15:54:34.073645Z"
    },
    "hidden": true
   },
   "outputs": [],
   "source": [
    "list(inputs.chunk(inputs.size(1), dim=1))[0].size()"
   ]
  },
  {
   "cell_type": "markdown",
   "metadata": {
    "hidden": true
   },
   "source": [
    "### Build the model "
   ]
  },
  {
   "cell_type": "code",
   "execution_count": null,
   "metadata": {
    "ExecuteTime": {
     "end_time": "2018-07-31T15:54:34.114531Z",
     "start_time": "2018-07-31T15:54:34.099569Z"
    },
    "hidden": true
   },
   "outputs": [],
   "source": [
    "class Sequence(nn.Module):\n",
    "    def __init__(self):\n",
    "        super(Sequence, self).__init__()\n",
    "        self.lstm1 = nn.LSTMCell(1, 51)\n",
    "        self.lstm2 = nn.LSTMCell(51, 51)\n",
    "        self.linear = nn.Linear(51, 2)\n",
    "        self.sigmoid = nn.Sigmoid()\n",
    "\n",
    "    def forward(self, input):\n",
    "        outputs = []\n",
    "        h_t = torch.zeros(input.size(0), 51, dtype=torch.double)\n",
    "        c_t = torch.zeros(input.size(0), 51, dtype=torch.double)\n",
    "        h_t2 = torch.zeros(input.size(0), 51, dtype=torch.double)\n",
    "        c_t2 = torch.zeros(input.size(0), 51, dtype=torch.double)\n",
    "\n",
    "        for i, input_t in enumerate(input.chunk(input.size(1), dim=1)):\n",
    "            h_t, c_t = self.lstm1(input_t, (h_t, c_t))\n",
    "            h_t2, c_t2 = self.lstm2(h_t, (h_t2, c_t2))\n",
    "            output = self.sigmoid(self.linear(h_t2))\n",
    "            outputs += [output]\n",
    "\n",
    "        outputs = torch.stack(outputs, 1).squeeze(2)\n",
    "        return outputs"
   ]
  },
  {
   "cell_type": "code",
   "execution_count": null,
   "metadata": {
    "ExecuteTime": {
     "end_time": "2018-07-31T15:54:34.131510Z",
     "start_time": "2018-07-31T15:54:34.116526Z"
    },
    "hidden": true
   },
   "outputs": [],
   "source": [
    "# build the model\n",
    "seq = Sequence()\n",
    "seq.double()"
   ]
  },
  {
   "cell_type": "code",
   "execution_count": null,
   "metadata": {
    "ExecuteTime": {
     "end_time": "2018-07-31T15:54:34.151431Z",
     "start_time": "2018-07-31T15:54:34.132482Z"
    },
    "hidden": true
   },
   "outputs": [],
   "source": [
    "criterion = nn.CrossEntropyLoss()\n",
    "\n",
    "# use LBFGS as optimizer since we can load the whole data to train\n",
    "# optimizer = optim.LBFGS(seq.parameters(), lr=0.8)\n",
    "\n",
    "optimizer = optim.Adam(seq.parameters())"
   ]
  },
  {
   "cell_type": "code",
   "execution_count": null,
   "metadata": {
    "ExecuteTime": {
     "end_time": "2018-07-31T15:54:35.522547Z",
     "start_time": "2018-07-31T15:54:34.153426Z"
    },
    "hidden": true
   },
   "outputs": [],
   "source": [
    "out = seq(inputs)\n",
    "out"
   ]
  },
  {
   "cell_type": "code",
   "execution_count": null,
   "metadata": {
    "ExecuteTime": {
     "end_time": "2018-07-31T15:54:35.530525Z",
     "start_time": "2018-07-31T15:54:35.525538Z"
    },
    "hidden": true
   },
   "outputs": [],
   "source": [
    "out.view(-1, 2).size()"
   ]
  },
  {
   "cell_type": "code",
   "execution_count": null,
   "metadata": {
    "ExecuteTime": {
     "end_time": "2018-07-31T15:54:35.551469Z",
     "start_time": "2018-07-31T15:54:35.533517Z"
    },
    "hidden": true
   },
   "outputs": [],
   "source": [
    "targets.view(-1).size()"
   ]
  },
  {
   "cell_type": "code",
   "execution_count": null,
   "metadata": {
    "ExecuteTime": {
     "end_time": "2018-07-31T15:54:35.571415Z",
     "start_time": "2018-07-31T15:54:35.553463Z"
    },
    "hidden": true
   },
   "outputs": [],
   "source": [
    "out.size(), targets.size()"
   ]
  },
  {
   "cell_type": "code",
   "execution_count": null,
   "metadata": {
    "ExecuteTime": {
     "end_time": "2018-07-31T15:54:35.597346Z",
     "start_time": "2018-07-31T15:54:35.573410Z"
    },
    "hidden": true
   },
   "outputs": [],
   "source": [
    "criterion(out.view(-1, 2), targets.view(-1))"
   ]
  },
  {
   "cell_type": "markdown",
   "metadata": {
    "hidden": true
   },
   "source": [
    "### Train"
   ]
  },
  {
   "cell_type": "code",
   "execution_count": null,
   "metadata": {
    "ExecuteTime": {
     "end_time": "2018-07-31T15:58:19.721424Z",
     "start_time": "2018-07-31T15:54:35.600339Z"
    },
    "hidden": true
   },
   "outputs": [],
   "source": [
    "#begin to train\n",
    "for i in tqdm_notebook(range(20), desc='Epoch:'):\n",
    "    \n",
    "    def closure():\n",
    "        optimizer.zero_grad()\n",
    "        out = seq(inputs)\n",
    "        loss = criterion(out.view(-1, 2), targets.view(-1))\n",
    "        print('loss:', loss.item())\n",
    "        loss.backward()\n",
    "        return loss\n",
    "    optimizer.step(closure)\n",
    "    # begin to predict, no need to track gradient here\n",
    "#     with torch.no_grad():\n",
    "#         future = 1000\n",
    "#         pred = seq(test_input, future=future)\n",
    "#         loss = criterion(pred[:, :-future], test_target)\n",
    "#         print('test loss:', loss.item())\n",
    "#         y = pred.detach().numpy()"
   ]
  },
  {
   "cell_type": "code",
   "execution_count": null,
   "metadata": {
    "ExecuteTime": {
     "end_time": "2018-07-31T15:58:23.174213Z",
     "start_time": "2018-07-31T15:58:19.724416Z"
    },
    "hidden": true
   },
   "outputs": [],
   "source": [
    "outout = seq(inputs)\n",
    "out"
   ]
  },
  {
   "cell_type": "markdown",
   "metadata": {
    "heading_collapsed": true
   },
   "source": [
    "## Prices and changes \n",
    "### Train and test sets\n",
    "The input data for an LSTM cell in pytorch must be of dimension:\n",
    "\n",
    "* `(seq_len, batch, input_size) = (seq_len, N_samples, 5)`."
   ]
  },
  {
   "cell_type": "code",
   "execution_count": null,
   "metadata": {
    "hidden": true
   },
   "outputs": [],
   "source": [
    "N_samples = 100\n",
    "\n",
    "paths = [sim_path() for i in range(N_samples)]\n",
    "inputs = np.array([p.drop('State', axis=1).values for p in paths])\n",
    "targets = np.array([p.State.values for p in paths])"
   ]
  },
  {
   "cell_type": "code",
   "execution_count": null,
   "metadata": {
    "hidden": true
   },
   "outputs": [],
   "source": [
    "inputs = torch.from_numpy(inputs)\n",
    "targets = torch.from_numpy(targets)"
   ]
  },
  {
   "cell_type": "code",
   "execution_count": null,
   "metadata": {
    "hidden": true
   },
   "outputs": [],
   "source": [
    "inputs.size(), targets.size()"
   ]
  },
  {
   "cell_type": "code",
   "execution_count": null,
   "metadata": {
    "hidden": true
   },
   "outputs": [],
   "source": [
    "list(inputs.chunk(inputs.size(1), dim=1))[0].view(N_samples, -1).size()"
   ]
  },
  {
   "cell_type": "markdown",
   "metadata": {
    "hidden": true
   },
   "source": [
    "### Build the model"
   ]
  },
  {
   "cell_type": "code",
   "execution_count": null,
   "metadata": {
    "hidden": true
   },
   "outputs": [],
   "source": [
    "class Sequence(nn.Module):\n",
    "    def __init__(self):\n",
    "        super(Sequence, self).__init__()\n",
    "        self.lstm1 = nn.LSTMCell(5, 51)\n",
    "        self.lstm2 = nn.LSTMCell(51, 51)\n",
    "        self.linear = nn.Linear(51, 2)\n",
    "        self.sigmoid = nn.Sigmoid()\n",
    "\n",
    "    def forward(self, input):\n",
    "        outputs = []\n",
    "        h_t = torch.zeros(input.size(0), 51, dtype=torch.double)\n",
    "        c_t = torch.zeros(input.size(0), 51, dtype=torch.double)\n",
    "        h_t2 = torch.zeros(input.size(0), 51, dtype=torch.double)\n",
    "        c_t2 = torch.zeros(input.size(0), 51, dtype=torch.double)\n",
    "\n",
    "        for i, input_t in enumerate(input.chunk(input.size(1), dim=1)):\n",
    "            h_t, c_t = self.lstm1(input_t.view(N_samples, -1), (h_t, c_t))\n",
    "            h_t2, c_t2 = self.lstm2(h_t, (h_t2, c_t2))\n",
    "            output = self.sigmoid(self.linear(h_t2))\n",
    "            outputs += [output]\n",
    "\n",
    "        outputs = torch.stack(outputs, 1).squeeze(2)\n",
    "        return outputs"
   ]
  },
  {
   "cell_type": "code",
   "execution_count": null,
   "metadata": {
    "hidden": true
   },
   "outputs": [],
   "source": [
    "# build the model# build \n",
    "seq = Sequence()\n",
    "seq.double()"
   ]
  },
  {
   "cell_type": "code",
   "execution_count": null,
   "metadata": {
    "hidden": true
   },
   "outputs": [],
   "source": [
    "criterion = nn.CrossEntropyLoss()\n",
    "\n",
    "# use LBFGS as optimizer since we can load the whole data to train\n",
    "# optimizer = optim.LBFGS(seq.parameters(), lr=0.1)\n",
    "\n",
    "optimizer = optim.Adam(seq.parameters())"
   ]
  },
  {
   "cell_type": "code",
   "execution_count": null,
   "metadata": {
    "hidden": true
   },
   "outputs": [],
   "source": [
    "out = seq(inputs)\n",
    "out"
   ]
  },
  {
   "cell_type": "code",
   "execution_count": null,
   "metadata": {
    "hidden": true
   },
   "outputs": [],
   "source": [
    "out.size(), targets.size()"
   ]
  },
  {
   "cell_type": "code",
   "execution_count": null,
   "metadata": {
    "hidden": true
   },
   "outputs": [],
   "source": [
    "out.view(-1, 2).size()"
   ]
  },
  {
   "cell_type": "code",
   "execution_count": null,
   "metadata": {
    "hidden": true
   },
   "outputs": [],
   "source": [
    "targets.view(-1).size()"
   ]
  },
  {
   "cell_type": "code",
   "execution_count": null,
   "metadata": {
    "hidden": true
   },
   "outputs": [],
   "source": [
    "criterion(out.view(-1, 2), targets.view(-1))"
   ]
  },
  {
   "cell_type": "markdown",
   "metadata": {
    "hidden": true
   },
   "source": [
    "### Train"
   ]
  },
  {
   "cell_type": "code",
   "execution_count": null,
   "metadata": {
    "hidden": true
   },
   "outputs": [],
   "source": [
    "#begin to train\n",
    "for i in tqdm_notebook(range(20), desc='Epoch:'):\n",
    "    \n",
    "    def closure():\n",
    "        optimizer.zero_grad()\n",
    "        out = seq(inputs)\n",
    "        loss = criterion(out.view(-1, 2), targets.view(-1))\n",
    "        print('loss:', loss.item())\n",
    "        loss.backward()\n",
    "        return loss\n",
    "    optimizer.step(closure)\n",
    "    # begin to predict, no need to track gradient here\n",
    "#     with torch.no_grad():\n",
    "#         future = 1000\n",
    "#         pred = seq(test_input, future=future)\n",
    "#         loss = criterion(pred[:, :-future], test_target)\n",
    "#         print('test loss:', loss.item())\n",
    "#         y = pred.detach().numpy()"
   ]
  },
  {
   "cell_type": "code",
   "execution_count": null,
   "metadata": {
    "hidden": true
   },
   "outputs": [],
   "source": [
    "out = seq(inputs)\n",
    "out"
   ]
  },
  {
   "cell_type": "markdown",
   "metadata": {},
   "source": [
    "# Support and Resistance"
   ]
  },
  {
   "cell_type": "code",
   "execution_count": 9,
   "metadata": {
    "ExecuteTime": {
     "end_time": "2018-07-31T19:14:26.667481Z",
     "start_time": "2018-07-31T19:14:26.664463Z"
    }
   },
   "outputs": [],
   "source": [
    "def add_support_resistance(df, fast=30, slow=120):\n",
    "    return df.assign(Resistance_fast = df.Close.rolling(30).max(),\n",
    "                     Resistance_slow = df.Close.rolling(120).max(),\n",
    "                     Support_fast = df.Close.rolling(30).min(),\n",
    "                     Support_slow = df.Close.rolling(120).min())"
   ]
  },
  {
   "cell_type": "code",
   "execution_count": 10,
   "metadata": {
    "ExecuteTime": {
     "end_time": "2018-07-31T19:14:27.249550Z",
     "start_time": "2018-07-31T19:14:27.087593Z"
    }
   },
   "outputs": [
    {
     "data": {
      "image/png": "[encoded data removed]",
      "text/plain": [
       "<Figure size 864x288 with 1 Axes>"
      ]
     },
     "metadata": {},
     "output_type": "display_data"
    }
   ],
   "source": [
    "price_df = add_support_resistance(sim_path())\n",
    "\n",
    "price_df[['Close', 'Support_fast', 'Resistance_fast',\n",
    "          'Support_slow', 'Resistance_slow']].plot(figsize=(12, 4));"
   ]
  },
  {
   "cell_type": "code",
   "execution_count": 11,
   "metadata": {
    "ExecuteTime": {
     "end_time": "2018-07-31T19:14:27.938940Z",
     "start_time": "2018-07-31T19:14:27.924978Z"
    },
    "scrolled": true
   },
   "outputs": [
    {
     "data": {
      "text/html": [
       "<div>\n",
       "<style scoped>\n",
       "    .dataframe tbody tr th:only-of-type {\n",
       "        vertical-align: middle;\n",
       "    }\n",
       "\n",
       "    .dataframe tbody tr th {\n",
       "        vertical-align: top;\n",
       "    }\n",
       "\n",
       "    .dataframe thead th {\n",
       "        text-align: right;\n",
       "    }\n",
       "</style>\n",
       "<table border=\"1\" class=\"dataframe\">\n",
       "  <thead>\n",
       "    <tr style=\"text-align: right;\">\n",
       "      <th></th>\n",
       "      <th>Close</th>\n",
       "      <th>State</th>\n",
       "      <th>Ch</th>\n",
       "      <th>Ch2</th>\n",
       "      <th>Ch3</th>\n",
       "      <th>Ch4</th>\n",
       "      <th>Resistance_fast</th>\n",
       "      <th>Resistance_slow</th>\n",
       "      <th>Support_fast</th>\n",
       "      <th>Support_slow</th>\n",
       "    </tr>\n",
       "  </thead>\n",
       "  <tbody>\n",
       "    <tr>\n",
       "      <th>0</th>\n",
       "      <td>1.000000</td>\n",
       "      <td>1</td>\n",
       "      <td>0.000000</td>\n",
       "      <td>0.000000</td>\n",
       "      <td>0.000000e+00</td>\n",
       "      <td>0.000000e+00</td>\n",
       "      <td>NaN</td>\n",
       "      <td>NaN</td>\n",
       "      <td>NaN</td>\n",
       "      <td>NaN</td>\n",
       "    </tr>\n",
       "    <tr>\n",
       "      <th>1</th>\n",
       "      <td>1.037318</td>\n",
       "      <td>1</td>\n",
       "      <td>0.036639</td>\n",
       "      <td>0.001342</td>\n",
       "      <td>4.918293e-05</td>\n",
       "      <td>1.801991e-06</td>\n",
       "      <td>NaN</td>\n",
       "      <td>NaN</td>\n",
       "      <td>NaN</td>\n",
       "      <td>NaN</td>\n",
       "    </tr>\n",
       "    <tr>\n",
       "      <th>2</th>\n",
       "      <td>1.019814</td>\n",
       "      <td>1</td>\n",
       "      <td>-0.017018</td>\n",
       "      <td>0.000290</td>\n",
       "      <td>-4.928860e-06</td>\n",
       "      <td>8.388069e-08</td>\n",
       "      <td>NaN</td>\n",
       "      <td>NaN</td>\n",
       "      <td>NaN</td>\n",
       "      <td>NaN</td>\n",
       "    </tr>\n",
       "    <tr>\n",
       "      <th>...</th>\n",
       "      <td>...</td>\n",
       "      <td>...</td>\n",
       "      <td>...</td>\n",
       "      <td>...</td>\n",
       "      <td>...</td>\n",
       "      <td>...</td>\n",
       "      <td>...</td>\n",
       "      <td>...</td>\n",
       "      <td>...</td>\n",
       "      <td>...</td>\n",
       "    </tr>\n",
       "    <tr>\n",
       "      <th>997</th>\n",
       "      <td>0.623371</td>\n",
       "      <td>1</td>\n",
       "      <td>0.012457</td>\n",
       "      <td>0.000155</td>\n",
       "      <td>1.932805e-06</td>\n",
       "      <td>2.407599e-08</td>\n",
       "      <td>0.623371</td>\n",
       "      <td>0.623371</td>\n",
       "      <td>0.512718</td>\n",
       "      <td>0.456728</td>\n",
       "    </tr>\n",
       "    <tr>\n",
       "      <th>998</th>\n",
       "      <td>0.621816</td>\n",
       "      <td>1</td>\n",
       "      <td>-0.002499</td>\n",
       "      <td>0.000006</td>\n",
       "      <td>-1.560078e-08</td>\n",
       "      <td>3.898178e-11</td>\n",
       "      <td>0.623371</td>\n",
       "      <td>0.623371</td>\n",
       "      <td>0.512718</td>\n",
       "      <td>0.456728</td>\n",
       "    </tr>\n",
       "    <tr>\n",
       "      <th>999</th>\n",
       "      <td>0.597411</td>\n",
       "      <td>1</td>\n",
       "      <td>-0.040038</td>\n",
       "      <td>0.001603</td>\n",
       "      <td>-6.418120e-05</td>\n",
       "      <td>2.569669e-06</td>\n",
       "      <td>0.623371</td>\n",
       "      <td>0.623371</td>\n",
       "      <td>0.512718</td>\n",
       "      <td>0.456728</td>\n",
       "    </tr>\n",
       "  </tbody>\n",
       "</table>\n",
       "<p>1000 rows × 10 columns</p>\n",
       "</div>"
      ],
      "text/plain": [
       "        Close  State        Ch       Ch2           Ch3           Ch4  \\\n",
       "0    1.000000      1  0.000000  0.000000  0.000000e+00  0.000000e+00   \n",
       "1    1.037318      1  0.036639  0.001342  4.918293e-05  1.801991e-06   \n",
       "2    1.019814      1 -0.017018  0.000290 -4.928860e-06  8.388069e-08   \n",
       "..        ...    ...       ...       ...           ...           ...   \n",
       "997  0.623371      1  0.012457  0.000155  1.932805e-06  2.407599e-08   \n",
       "998  0.621816      1 -0.002499  0.000006 -1.560078e-08  3.898178e-11   \n",
       "999  0.597411      1 -0.040038  0.001603 -6.418120e-05  2.569669e-06   \n",
       "\n",
       "     Resistance_fast  Resistance_slow  Support_fast  Support_slow  \n",
       "0                NaN              NaN           NaN           NaN  \n",
       "1                NaN              NaN           NaN           NaN  \n",
       "2                NaN              NaN           NaN           NaN  \n",
       "..               ...              ...           ...           ...  \n",
       "997         0.623371         0.623371      0.512718      0.456728  \n",
       "998         0.623371         0.623371      0.512718      0.456728  \n",
       "999         0.623371         0.623371      0.512718      0.456728  \n",
       "\n",
       "[1000 rows x 10 columns]"
      ]
     },
     "execution_count": 11,
     "metadata": {},
     "output_type": "execute_result"
    }
   ],
   "source": [
    "price_df"
   ]
  },
  {
   "cell_type": "markdown",
   "metadata": {
    "heading_collapsed": true
   },
   "source": [
    "## Train and test sets"
   ]
  },
  {
   "cell_type": "code",
   "execution_count": 12,
   "metadata": {
    "ExecuteTime": {
     "end_time": "2018-07-31T19:14:30.467125Z",
     "start_time": "2018-07-31T19:14:29.740121Z"
    },
    "hidden": true
   },
   "outputs": [],
   "source": [
    "N_samples = 100\n",
    "\n",
    "input_variables = ['Close']\n",
    "target_variables = ['Resistance_fast', 'Resistance_slow',\n",
    "                    'Support_fast', 'Support_slow']\n",
    "\n",
    "paths = [add_support_resistance(sim_path()) for i in range(N_samples)]\n",
    "inputs = np.array([p[input_variables].values for p in paths], dtype=np.double)\n",
    "targets = np.array([p[target_variables].values for p in paths], dtype=np.double)"
   ]
  },
  {
   "cell_type": "code",
   "execution_count": 13,
   "metadata": {
    "ExecuteTime": {
     "end_time": "2018-07-31T19:14:30.503067Z",
     "start_time": "2018-07-31T19:14:30.500062Z"
    },
    "hidden": true
   },
   "outputs": [],
   "source": [
    "inputs = torch.from_numpy(inputs)\n",
    "targets = torch.from_numpy(targets)"
   ]
  },
  {
   "cell_type": "code",
   "execution_count": 14,
   "metadata": {
    "ExecuteTime": {
     "end_time": "2018-07-31T19:14:31.575455Z",
     "start_time": "2018-07-31T19:14:31.572487Z"
    },
    "hidden": true
   },
   "outputs": [
    {
     "data": {
      "text/plain": [
       "(torch.Size([100, 1000, 1]), torch.Size([100, 1000, 4]))"
      ]
     },
     "execution_count": 14,
     "metadata": {},
     "output_type": "execute_result"
    }
   ],
   "source": [
    "inputs.size(), targets.size()"
   ]
  },
  {
   "cell_type": "code",
   "execution_count": null,
   "metadata": {
    "hidden": true
   },
   "outputs": [],
   "source": [
    "# list(inputs.chunk(inputs.size(1), dim=1))[0].view(N_samples, -1).size()"
   ]
  },
  {
   "cell_type": "markdown",
   "metadata": {
    "heading_collapsed": true
   },
   "source": [
    "## Build the model"
   ]
  },
  {
   "cell_type": "code",
   "execution_count": 37,
   "metadata": {
    "ExecuteTime": {
     "end_time": "2018-08-02T02:20:13.625028Z",
     "start_time": "2018-08-02T02:20:13.606203Z"
    },
    "hidden": true
   },
   "outputs": [],
   "source": [
    "class Sequence(nn.Module):\n",
    "    def __init__(self, h0=1, h1=51, h2=51, hL=1):\n",
    "        super(Sequence, self).__init__()\n",
    "        self.h0 = h0\n",
    "        self.h1 = h1\n",
    "        self.h2 = h2\n",
    "        self.hL = hL\n",
    "        self.lstm1 = nn.LSTMCell(h0, h1)\n",
    "        self.lstm2 = nn.LSTMCell(h1, h2)\n",
    "        self.linear = nn.Linear(h2, hL)\n",
    "\n",
    "    def forward(self, input):\n",
    "        outputs = []\n",
    "        h_t = torch.zeros(input.size(0), self.h1, dtype=torch.double)\n",
    "        c_t = torch.zeros(input.size(0), self.h1, dtype=torch.double)\n",
    "        h_t2 = torch.zeros(input.size(0), self.h2, dtype=torch.double)\n",
    "        c_t2 = torch.zeros(input.size(0), self.h2, dtype=torch.double)\n",
    "\n",
    "        for i, input_t in enumerate(input.chunk(input.size(1), dim=1)):\n",
    "            h_t, c_t = self.lstm1(input_t.view(N_samples, -1), (h_t, c_t))\n",
    "            h_t2, c_t2 = self.lstm2(h_t, (h_t2, c_t2))\n",
    "            output = self.linear(h_t2)\n",
    "            outputs += [output]\n",
    "\n",
    "        outputs = torch.stack(outputs, 1).squeeze(2)\n",
    "        return outputs\n",
    "\n",
    "    \n",
    "class Sequence3(nn.Module):\n",
    "    def __init__(self, h0=1, h1=10, h2=10, h3=10, hL=1):\n",
    "        super(Sequence3, self).__init__()\n",
    "        self.h0 = h0\n",
    "        self.h1 = h1\n",
    "        self.h2 = h2\n",
    "        self.h3 = h3\n",
    "        self.hL = hL\n",
    "        self.lstm1 = nn.LSTMCell(h0, h1)\n",
    "        self.lstm2 = nn.LSTMCell(h1, h2)\n",
    "        self.lstm3 = nn.LSTMCell(h2, h3)\n",
    "        self.linear = nn.Linear(h3, hL)\n",
    "\n",
    "    def forward(self, input):\n",
    "        outputs = []\n",
    "        h_t = torch.zeros(input.size(0), self.h1, dtype=torch.double)\n",
    "        c_t = torch.zeros(input.size(0), self.h1, dtype=torch.double)\n",
    "        h_t2 = torch.zeros(input.size(0), self.h2, dtype=torch.double)\n",
    "        c_t2 = torch.zeros(input.size(0), self.h2, dtype=torch.double)\n",
    "        h_t3 = torch.ones(input.size(0), self.h3, dtype=torch.double)\n",
    "        c_t3 = torch.zeros(input.size(0), self.h3, dtype=torch.double)\n",
    "\n",
    "        for i, input_t in enumerate(input.chunk(input.size(1), dim=1)):\n",
    "            h_t, c_t = self.lstm1(input_t.view(N_samples, -1), (h_t, c_t))\n",
    "            h_t2, c_t2 = self.lstm2(h_t, (h_t2, c_t2))\n",
    "            h_t3, c_t3 = self.lstm3(h_t2, (h_t3, c_t3))\n",
    "            output = self.linear(h_t3)\n",
    "            outputs += [output]\n",
    "\n",
    "        outputs = torch.stack(outputs, 1).squeeze(2)\n",
    "        return outputs\n",
    "\n",
    "class Sequence4(nn.Module):\n",
    "    def __init__(self, h0=1, h1=5, h2=5, h3=5, h4=5, hL=1):\n",
    "        super(Sequence4, self).__init__()\n",
    "        self.h0 = h0\n",
    "        self.h1 = h1\n",
    "        self.h2 = h2\n",
    "        self.h3 = h3\n",
    "        self.h4 = h4\n",
    "        self.hL = hL\n",
    "        self.lstm1 = nn.LSTMCell(h0, h1)\n",
    "        self.lstm2 = nn.LSTMCell(h1, h2)\n",
    "        self.lstm3 = nn.LSTMCell(h2, h3)\n",
    "        self.lstm4 = nn.LSTMCell(h3, h4)\n",
    "        self.linear = nn.Linear(h4, hL)\n",
    "\n",
    "    def forward(self, input):\n",
    "        outputs = []\n",
    "        h_t = torch.zeros(input.size(0), self.h1, dtype=torch.double)\n",
    "        c_t = torch.zeros(input.size(0), self.h1, dtype=torch.double)\n",
    "        h_t2 = torch.zeros(input.size(0), self.h2, dtype=torch.double)\n",
    "        c_t2 = torch.zeros(input.size(0), self.h2, dtype=torch.double)\n",
    "        h_t3 = torch.ones(input.size(0), self.h3, dtype=torch.double)\n",
    "        c_t3 = torch.zeros(input.size(0), self.h3, dtype=torch.double)\n",
    "        h_t4 = torch.ones(input.size(0), self.h4, dtype=torch.double)\n",
    "        c_t4 = torch.zeros(input.size(0), self.h4, dtype=torch.double)\n",
    "\n",
    "        for i, input_t in enumerate(input.chunk(input.size(1), dim=1)):\n",
    "            h_t, c_t = self.lstm1(input_t.view(N_samples, -1), (h_t, c_t))\n",
    "            h_t2, c_t2 = self.lstm2(h_t, (h_t2, c_t2))\n",
    "            h_t3, c_t3 = self.lstm3(h_t2, (h_t3, c_t3))\n",
    "            h_t4, c_t4 = self.lstm4(h_t3, (h_t4, c_t4))\n",
    "            output = self.linear(h_t4)\n",
    "            outputs += [output]\n",
    "\n",
    "        outputs = torch.stack(outputs, 1).squeeze(2)\n",
    "        return outputs"
   ]
  },
  {
   "cell_type": "code",
   "execution_count": 31,
   "metadata": {
    "ExecuteTime": {
     "end_time": "2018-07-31T19:28:32.333169Z",
     "start_time": "2018-07-31T19:28:32.328182Z"
    },
    "hidden": true
   },
   "outputs": [
    {
     "data": {
      "text/plain": [
       "Sequence4(\n",
       "  (lstm1): LSTMCell(1, 5)\n",
       "  (lstm2): LSTMCell(5, 5)\n",
       "  (lstm3): LSTMCell(5, 5)\n",
       "  (lstm4): LSTMCell(5, 5)\n",
       "  (linear): Linear(in_features=5, out_features=4, bias=True)\n",
       ")"
      ]
     },
     "execution_count": 31,
     "metadata": {},
     "output_type": "execute_result"
    }
   ],
   "source": [
    "# build the model\n",
    "seq = Sequence4(hL=4)#Sequence(h0=1, h1=20, h2=10, hL=4)\n",
    "seq.double()"
   ]
  },
  {
   "cell_type": "code",
   "execution_count": 32,
   "metadata": {
    "ExecuteTime": {
     "end_time": "2018-07-31T19:28:35.875796Z",
     "start_time": "2018-07-31T19:28:35.872797Z"
    },
    "hidden": true
   },
   "outputs": [],
   "source": [
    "mse = nn.MSELoss(reduce=False)\n",
    "def criterion(y_hat, y_true):\n",
    "    loss = mse(y_hat[:, 119:, :], y_true[:, 119:, :]).\\\n",
    "        div(y_true[:, 119:, :]).mean()\n",
    "    return loss"
   ]
  },
  {
   "cell_type": "code",
   "execution_count": 33,
   "metadata": {
    "ExecuteTime": {
     "end_time": "2018-07-31T19:28:36.843833Z",
     "start_time": "2018-07-31T19:28:36.448316Z"
    },
    "hidden": true
   },
   "outputs": [
    {
     "data": {
      "text/plain": [
       "tensor([[[ 0.1074,  0.1168,  0.1329,  0.4372],\n",
       "         [ 0.0785,  0.1262,  0.1089,  0.4136],\n",
       "         [ 0.0652,  0.1325,  0.0987,  0.4039],\n",
       "         ...,\n",
       "         [ 0.0409,  0.1392,  0.0887,  0.4006],\n",
       "         [ 0.0409,  0.1392,  0.0887,  0.4006],\n",
       "         [ 0.0409,  0.1392,  0.0887,  0.4006]],\n",
       "\n",
       "        [[ 0.1074,  0.1168,  0.1329,  0.4372],\n",
       "         [ 0.0785,  0.1262,  0.1089,  0.4136],\n",
       "         [ 0.0652,  0.1325,  0.0987,  0.4039],\n",
       "         ...,\n",
       "         [ 0.0410,  0.1393,  0.0888,  0.4007],\n",
       "         [ 0.0410,  0.1393,  0.0888,  0.4007],\n",
       "         [ 0.0410,  0.1393,  0.0888,  0.4007]],\n",
       "\n",
       "        [[ 0.1074,  0.1168,  0.1329,  0.4372],\n",
       "         [ 0.0785,  0.1262,  0.1089,  0.4136],\n",
       "         [ 0.0652,  0.1325,  0.0987,  0.4039],\n",
       "         ...,\n",
       "         [ 0.0400,  0.1387,  0.0882,  0.4001],\n",
       "         [ 0.0400,  0.1387,  0.0882,  0.4001],\n",
       "         [ 0.0400,  0.1387,  0.0882,  0.4001]],\n",
       "\n",
       "        ...,\n",
       "\n",
       "        [[ 0.1074,  0.1168,  0.1329,  0.4372],\n",
       "         [ 0.0785,  0.1262,  0.1089,  0.4136],\n",
       "         [ 0.0652,  0.1325,  0.0987,  0.4039],\n",
       "         ...,\n",
       "         [ 0.0405,  0.1390,  0.0885,  0.4003],\n",
       "         [ 0.0405,  0.1390,  0.0885,  0.4003],\n",
       "         [ 0.0405,  0.1390,  0.0885,  0.4003]],\n",
       "\n",
       "        [[ 0.1074,  0.1168,  0.1329,  0.4372],\n",
       "         [ 0.0785,  0.1262,  0.1089,  0.4136],\n",
       "         [ 0.0652,  0.1325,  0.0987,  0.4039],\n",
       "         ...,\n",
       "         [ 0.0408,  0.1392,  0.0887,  0.4005],\n",
       "         [ 0.0408,  0.1392,  0.0887,  0.4005],\n",
       "         [ 0.0408,  0.1392,  0.0887,  0.4005]],\n",
       "\n",
       "        [[ 0.1074,  0.1168,  0.1329,  0.4372],\n",
       "         [ 0.0785,  0.1262,  0.1089,  0.4136],\n",
       "         [ 0.0652,  0.1325,  0.0987,  0.4039],\n",
       "         ...,\n",
       "         [ 0.0410,  0.1394,  0.0888,  0.4009],\n",
       "         [ 0.0410,  0.1394,  0.0888,  0.4009],\n",
       "         [ 0.0410,  0.1393,  0.0888,  0.4009]]], dtype=torch.float64)"
      ]
     },
     "execution_count": 33,
     "metadata": {},
     "output_type": "execute_result"
    }
   ],
   "source": [
    "out = seq(inputs)\n",
    "out"
   ]
  },
  {
   "cell_type": "code",
   "execution_count": 34,
   "metadata": {
    "ExecuteTime": {
     "end_time": "2018-07-31T19:28:38.348387Z",
     "start_time": "2018-07-31T19:28:38.344399Z"
    },
    "hidden": true
   },
   "outputs": [
    {
     "data": {
      "text/plain": [
       "(torch.Size([100, 1000, 4]), torch.Size([100, 1000, 4]))"
      ]
     },
     "execution_count": 34,
     "metadata": {},
     "output_type": "execute_result"
    }
   ],
   "source": [
    "out.size(), targets.size()"
   ]
  },
  {
   "cell_type": "code",
   "execution_count": 35,
   "metadata": {
    "ExecuteTime": {
     "end_time": "2018-07-31T19:28:40.207281Z",
     "start_time": "2018-07-31T19:28:40.200329Z"
    },
    "hidden": true
   },
   "outputs": [
    {
     "data": {
      "text/plain": [
       "tensor(0.8206, dtype=torch.float64)"
      ]
     },
     "execution_count": 35,
     "metadata": {},
     "output_type": "execute_result"
    }
   ],
   "source": [
    "criterion(out, targets)"
   ]
  },
  {
   "cell_type": "markdown",
   "metadata": {},
   "source": [
    "## Train"
   ]
  },
  {
   "cell_type": "code",
   "execution_count": 36,
   "metadata": {
    "ExecuteTime": {
     "end_time": "2018-07-31T19:28:42.659008Z",
     "start_time": "2018-07-31T19:28:42.655989Z"
    }
   },
   "outputs": [],
   "source": [
    "losses = []"
   ]
  },
  {
   "cell_type": "code",
   "execution_count": 80,
   "metadata": {
    "ExecuteTime": {
     "end_time": "2018-07-31T21:16:39.854669Z",
     "start_time": "2018-07-31T21:16:39.851677Z"
    }
   },
   "outputs": [],
   "source": [
    "optimizer = optim.Adam(seq.parameters(), lr=7e-5)"
   ]
  },
  {
   "cell_type": "code",
   "execution_count": 81,
   "metadata": {
    "ExecuteTime": {
     "end_time": "2018-07-31T21:52:54.054516Z",
     "start_time": "2018-07-31T21:16:40.307753Z"
    }
   },
   "outputs": [
    {
     "data": {
      "application/vnd.jupyter.widget-view+json": {
       "model_id": "d2f1b4b9f3ba4effabdddba70d5792b1",
       "version_major": 2,
       "version_minor": 0
      },
      "text/plain": [
       "HBox(children=(IntProgress(value=0, description='Epoch:', max=2500), HTML(value='')))"
      ]
     },
     "metadata": {},
     "output_type": "display_data"
    },
    {
     "name": "stdout",
     "output_type": "stream",
     "text": [
      "i: 0 , loss: 0.004424214091111001\n",
      "i: 10 , loss: 0.004787197425403388\n",
      "i: 20 , loss: 0.004636265204985733\n",
      "i: 30 , loss: 0.004489289844777983\n",
      "i: 40 , loss: 0.004435507850846919\n",
      "i: 50 , loss: 0.0044189552503190385\n",
      "i: 60 , loss: 0.004409819953812263\n",
      "i: 70 , loss: 0.004402652246288815\n",
      "i: 80 , loss: 0.004398267744551486\n",
      "i: 90 , loss: 0.004394528600916309\n",
      "i: 100 , loss: 0.004390412768950595\n",
      "i: 110 , loss: 0.004386464202774011\n",
      "i: 120 , loss: 0.0043824308715428115\n",
      "i: 130 , loss: 0.004378365136534045\n",
      "i: 140 , loss: 0.004374261475270767\n",
      "i: 150 , loss: 0.004370115345379152\n",
      "i: 160 , loss: 0.004365929458718344\n",
      "i: 170 , loss: 0.004361706233831019\n",
      "i: 180 , loss: 0.0043574479190183635\n",
      "i: 190 , loss: 0.004353156789727205\n",
      "i: 200 , loss: 0.00434883508532724\n",
      "i: 210 , loss: 0.004344484952029976\n",
      "i: 220 , loss: 0.004340108418110394\n",
      "i: 230 , loss: 0.0043357073884747336\n",
      "i: 240 , loss: 0.004331283648611308\n",
      "i: 250 , loss: 0.004326838872380339\n",
      "i: 260 , loss: 0.004322374630763671\n",
      "i: 270 , loss: 0.004317892400920338\n",
      "i: 280 , loss: 0.00431339357489811\n",
      "i: 290 , loss: 0.004308879467268965\n",
      "i: 300 , loss: 0.00430435132185553\n",
      "i: 310 , loss: 0.004299810317580899\n",
      "i: 320 , loss: 0.004295257573543494\n",
      "i: 330 , loss: 0.004290694153438976\n",
      "i: 340 , loss: 0.00428612106942724\n",
      "i: 350 , loss: 0.004281539285533341\n",
      "i: 360 , loss: 0.0042769497206601465\n",
      "i: 370 , loss: 0.004272353251274604\n",
      "i: 380 , loss: 0.004267750713821025\n",
      "i: 390 , loss: 0.004263142906905174\n",
      "i: 400 , loss: 0.004258530593283591\n",
      "i: 410 , loss: 0.004253914501688309\n",
      "i: 420 , loss: 0.004249295328510883\n",
      "i: 430 , loss: 0.004244673739364739\n",
      "i: 440 , loss: 0.004240050370542205\n",
      "i: 450 , loss: 0.004235425830378826\n",
      "i: 460 , loss: 0.004230800700535289\n",
      "i: 470 , loss: 0.004226175537206329\n",
      "i: 480 , loss: 0.0042215508722619095\n",
      "i: 490 , loss: 0.0042169272143285945\n",
      "i: 500 , loss: 0.00421230504981397\n",
      "i: 510 , loss: 0.004207684843879507\n",
      "i: 520 , loss: 0.004203067041364314\n",
      "i: 530 , loss: 0.00419845206766377\n",
      "i: 540 , loss: 0.004193840329565055\n",
      "i: 550 , loss: 0.004189232216042067\n",
      "i: 560 , loss: 0.00418462809901217\n",
      "i: 570 , loss: 0.004180028334056706\n",
      "i: 580 , loss: 0.004175433261107133\n",
      "i: 590 , loss: 0.004170843205098428\n",
      "i: 600 , loss: 0.004166258476592021\n",
      "i: 610 , loss: 0.004161679372368994\n",
      "i: 620 , loss: 0.004157106175995973\n",
      "i: 630 , loss: 0.004152539158364578\n",
      "i: 640 , loss: 0.0041479785782060526\n",
      "i: 650 , loss: 0.004143424682582236\n",
      "i: 660 , loss: 0.004138877707354485\n",
      "i: 670 , loss: 0.004134337877631155\n",
      "i: 680 , loss: 0.004129805408195273\n",
      "i: 690 , loss: 0.004125280503913401\n",
      "i: 700 , loss: 0.0041207633601260205\n",
      "i: 710 , loss: 0.004116254163021564\n",
      "i: 720 , loss: 0.004111753089993766\n",
      "i: 730 , loss: 0.0041072603099839445\n",
      "i: 740 , loss: 0.004102775983808618\n",
      "i: 750 , loss: 0.004098300264473372\n",
      "i: 760 , loss: 0.0040938332974734745\n",
      "i: 770 , loss: 0.0040893752210819905\n",
      "i: 780 , loss: 0.004084926166625937\n",
      "i: 790 , loss: 0.004080486258751178\n",
      "i: 800 , loss: 0.00407605561567633\n",
      "i: 810 , loss: 0.004071634349436315\n",
      "i: 820 , loss: 0.004067222566116076\n",
      "i: 830 , loss: 0.004062820366074972\n",
      "i: 840 , loss: 0.004058427844161757\n",
      "i: 850 , loss: 0.004054045089921173\n",
      "i: 860 , loss: 0.004049672187792359\n",
      "i: 870 , loss: 0.004045309217298979\n",
      "i: 880 , loss: 0.0040409562532320534\n",
      "i: 890 , loss: 0.0040366133658253514\n",
      "i: 900 , loss: 0.004032280620923671\n",
      "i: 910 , loss: 0.004027958080144849\n",
      "i: 920 , loss: 0.004023645801034778\n",
      "i: 930 , loss: 0.0040193438372165225\n",
      "i: 940 , loss: 0.004015052238533504\n",
      "i: 950 , loss: 0.004010771051187051\n",
      "i: 960 , loss: 0.0040065003178680085\n",
      "i: 970 , loss: 0.004002240077883707\n",
      "i: 980 , loss: 0.003997990367279439\n",
      "i: 990 , loss: 0.00399375121895506\n",
      "i: 1000 , loss: 0.003989522662777123\n",
      "i: 1010 , loss: 0.003985304725686261\n",
      "i: 1020 , loss: 0.003981097431800331\n",
      "i: 1030 , loss: 0.0039769008025132314\n",
      "i: 1040 , loss: 0.003972714856589745\n",
      "i: 1050 , loss: 0.003968539610256717\n",
      "i: 1060 , loss: 0.003964375077289858\n",
      "i: 1070 , loss: 0.003960221269097573\n",
      "i: 1080 , loss: 0.003956078194800682\n",
      "i: 1090 , loss: 0.003951945861309452\n",
      "i: 1100 , loss: 0.003947824273396623\n",
      "i: 1110 , loss: 0.00394371343376785\n",
      "i: 1120 , loss: 0.003939613343128655\n",
      "i: 1130 , loss: 0.00393552400024893\n",
      "i: 1140 , loss: 0.003931445402023978\n",
      "i: 1150 , loss: 0.003927377543533375\n",
      "i: 1160 , loss: 0.0039233204180969235\n",
      "i: 1170 , loss: 0.003919274017327847\n",
      "i: 1180 , loss: 0.003915238331184096\n",
      "i: 1190 , loss: 0.003911213348016544\n",
      "i: 1200 , loss: 0.003907199054615367\n",
      "i: 1210 , loss: 0.003903195436254024\n",
      "i: 1220 , loss: 0.003899202476731125\n",
      "i: 1230 , loss: 0.003895220158410277\n",
      "i: 1240 , loss: 0.0038912484622577424\n",
      "i: 1250 , loss: 0.003887287367878436\n",
      "i: 1260 , loss: 0.003883336853549911\n",
      "i: 1270 , loss: 0.0038793968962545864\n",
      "i: 1280 , loss: 0.003875467471710288\n",
      "i: 1290 , loss: 0.0038715485543991987\n",
      "i: 1300 , loss: 0.0038676401175951674\n",
      "i: 1310 , loss: 0.003863742133389567\n",
      "i: 1320 , loss: 0.0038598545727157\n",
      "i: 1330 , loss: 0.003855977405371782\n",
      "i: 1340 , loss: 0.003852110600042792\n",
      "i: 1350 , loss: 0.0038482541243209075\n",
      "i: 1360 , loss: 0.003844407944724814\n",
      "i: 1370 , loss: 0.003840572026717936\n",
      "i: 1380 , loss: 0.003836746334725661\n",
      "i: 1390 , loss: 0.003832930832151509\n",
      "i: 1400 , loss: 0.0038291254813922803\n",
      "i: 1410 , loss: 0.0038253302438528447\n",
      "i: 1420 , loss: 0.0038215450799590836\n",
      "i: 1430 , loss: 0.0038177699491714345\n",
      "i: 1440 , loss: 0.003814004809996764\n",
      "i: 1450 , loss: 0.0038102496199998955\n",
      "i: 1460 , loss: 0.003806504335859636\n",
      "i: 1470 , loss: 0.003802769112416552\n",
      "i: 1480 , loss: 0.003800856646101689\n",
      "i: 1490 , loss: 0.003853247568740177\n",
      "i: 1500 , loss: 0.003794228623179058\n",
      "i: 1510 , loss: 0.0037934405264157408\n",
      "i: 1520 , loss: 0.0037896351779449825\n",
      "i: 1530 , loss: 0.003784460121424583\n",
      "i: 1540 , loss: 0.0037801796209417622\n",
      "i: 1550 , loss: 0.0037765847703226767\n",
      "i: 1560 , loss: 0.0037732856886220087\n",
      "i: 1570 , loss: 0.0037701050342694655\n",
      "i: 1580 , loss: 0.0037669560218052183\n",
      "i: 1590 , loss: 0.0037638069591994783\n",
      "i: 1600 , loss: 0.0037606623577724064\n",
      "i: 1610 , loss: 0.0037575286212202146\n",
      "i: 1620 , loss: 0.003754401866295218\n",
      "i: 1630 , loss: 0.0037512819142676308\n",
      "i: 1640 , loss: 0.0037481689041514513\n",
      "i: 1650 , loss: 0.0037450626484386235\n",
      "i: 1660 , loss: 0.0037419631062182664\n",
      "i: 1670 , loss: 0.003738870238092587\n",
      "i: 1680 , loss: 0.0037357839898187225\n",
      "i: 1690 , loss: 0.0037327043162699346\n",
      "i: 1700 , loss: 0.0037296311727028535\n",
      "i: 1710 , loss: 0.0037265645143406\n",
      "i: 1720 , loss: 0.0037235042966645513\n",
      "i: 1730 , loss: 0.003720450475370052\n",
      "i: 1740 , loss: 0.003717403006286838\n",
      "i: 1750 , loss: 0.0037143618453203135\n",
      "i: 1760 , loss: 0.003711326948414581\n",
      "i: 1770 , loss: 0.0037082982715173313\n",
      "i: 1780 , loss: 0.003705275770546481\n",
      "i: 1790 , loss: 0.0037022594013668463\n",
      "i: 1800 , loss: 0.0036992491197681567\n",
      "i: 1810 , loss: 0.0036962448814478435\n",
      "i: 1820 , loss: 0.0036932466419963596\n",
      "i: 1830 , loss: 0.0036902543568856235\n",
      "i: 1840 , loss: 0.003687267981459728\n",
      "i: 1850 , loss: 0.0036842874709276914\n",
      "i: 1860 , loss: 0.0036813127803586496\n",
      "i: 1870 , loss: 0.003678343864686628\n",
      "i: 1880 , loss: 0.003675380683392004\n",
      "i: 1890 , loss: 0.0036724288191103916\n",
      "i: 1900 , loss: 0.00368307733178428\n",
      "i: 1910 , loss: 0.0037879907842476353\n",
      "i: 1920 , loss: 0.003695389576898147\n",
      "i: 1930 , loss: 0.0036708817807933054\n",
      "i: 1940 , loss: 0.0036612259221107226\n",
      "i: 1950 , loss: 0.0036566262481771954\n",
      "i: 1960 , loss: 0.0036540314896681865\n",
      "i: 1970 , loss: 0.003651576218616446\n",
      "i: 1980 , loss: 0.003648855790524005\n",
      "i: 1990 , loss: 0.003646243978409169\n",
      "i: 2000 , loss: 0.0036436965362005107\n",
      "i: 2010 , loss: 0.0036411337088696097\n",
      "i: 2020 , loss: 0.003638586264508925\n",
      "i: 2030 , loss: 0.003636040036508072\n",
      "i: 2040 , loss: 0.0036334989829349762\n",
      "i: 2050 , loss: 0.003630961473219979\n",
      "i: 2060 , loss: 0.0036284276320041223\n",
      "i: 2070 , loss: 0.0036258974582486386\n",
      "i: 2080 , loss: 0.0036233708743708243\n",
      "i: 2090 , loss: 0.003620847836750284\n",
      "i: 2100 , loss: 0.003618328309137489\n",
      "i: 2110 , loss: 0.0036158122556614286\n",
      "i: 2120 , loss: 0.003613299640774569\n",
      "i: 2130 , loss: 0.0036107904294251903\n",
      "i: 2140 , loss: 0.003608284587097808\n",
      "i: 2150 , loss: 0.0036057820797601066\n",
      "i: 2160 , loss: 0.003603282873729865\n",
      "i: 2170 , loss: 0.0036007869356984106\n",
      "i: 2180 , loss: 0.0035982942326940946\n",
      "i: 2190 , loss: 0.003595804732058392\n",
      "i: 2200 , loss: 0.0035933184014220573\n",
      "i: 2210 , loss: 0.00359083520868686\n",
      "i: 2220 , loss: 0.003588355122007952\n",
      "i: 2230 , loss: 0.003585878109778643\n",
      "i: 2240 , loss: 0.0035834041406166283\n",
      "i: 2250 , loss: 0.003580933183351578\n",
      "i: 2260 , loss: 0.003578465207014796\n",
      "i: 2270 , loss: 0.003576000180917853\n",
      "i: 2280 , loss: 0.0035735381128409196\n",
      "i: 2290 , loss: 0.0035711148719749955\n",
      "i: 2300 , loss: 0.0036282897359529768\n",
      "i: 2310 , loss: 0.003567273998654132\n",
      "i: 2320 , loss: 0.0035885059481385543\n",
      "i: 2330 , loss: 0.0035739912114729137\n",
      "i: 2340 , loss: 0.0035622279572728177\n",
      "i: 2350 , loss: 0.0035578638142641957\n",
      "i: 2360 , loss: 0.003556169503875317\n",
      "i: 2370 , loss: 0.0035535754698625107\n",
      "i: 2380 , loss: 0.0035514137681500043\n",
      "i: 2390 , loss: 0.003549219801110656\n",
      "i: 2400 , loss: 0.00354706873320807\n",
      "i: 2410 , loss: 0.003544910416505172\n",
      "i: 2420 , loss: 0.003542762294273235\n",
      "i: 2430 , loss: 0.0035406150710993903\n",
      "i: 2440 , loss: 0.00353846963799044\n",
      "i: 2450 , loss: 0.0035363262212821877\n",
      "i: 2460 , loss: 0.003534184612301125\n",
      "i: 2470 , loss: 0.0035320447327843126\n",
      "i: 2480 , loss: 0.0035299065519264878\n",
      "i: 2490 , loss: 0.0035277700451373257\n",
      "\n"
     ]
    }
   ],
   "source": [
    "for i in tqdm_notebook(range(2500), desc='Epoch:'):\n",
    "    \n",
    "    def closure():\n",
    "        optimizer.zero_grad()\n",
    "        out = seq(inputs)\n",
    "        loss = criterion(out, targets)\n",
    "        losses.append(loss.detach().numpy())\n",
    "        loss.backward()\n",
    "        return loss\n",
    "    optimizer.step(closure)\n",
    "    \n",
    "    if i % 10 == 0:\n",
    "        print('i:', i, ', loss:', losses[-1])\n",
    "    # begin to predict, no need to track gradient here\n",
    "#     with torch.no_grad():\n",
    "#         future = 1000\n",
    "#         pred = seq(test_input, future=future)\n",
    "#         loss = criterion(pred[:, :-future], test_target)\n",
    "#         print('test loss:', loss.item())\n",
    "#         y = pred.detach().numpy()"
   ]
  },
  {
   "cell_type": "code",
   "execution_count": 82,
   "metadata": {
    "ExecuteTime": {
     "end_time": "2018-07-31T21:52:54.164223Z",
     "start_time": "2018-07-31T21:52:54.055514Z"
    },
    "scrolled": true
   },
   "outputs": [
    {
     "data": {
      "text/plain": [
       "[<matplotlib.lines.Line2D at 0x24689114a20>]"
      ]
     },
     "execution_count": 82,
     "metadata": {},
     "output_type": "execute_result"
    },
    {
     "data": {
      "image/png": "[encoded data removed]",
      "text/plain": [
       "<Figure size 432x288 with 1 Axes>"
      ]
     },
     "metadata": {},
     "output_type": "display_data"
    }
   ],
   "source": [
    "plt.plot(np.array(losses[-1000:]))"
   ]
  },
  {
   "cell_type": "markdown",
   "metadata": {},
   "source": [
    "### Train sample"
   ]
  },
  {
   "cell_type": "code",
   "execution_count": 83,
   "metadata": {
    "ExecuteTime": {
     "end_time": "2018-07-31T21:52:54.545244Z",
     "start_time": "2018-07-31T21:52:54.166220Z"
    }
   },
   "outputs": [
    {
     "data": {
      "text/plain": [
       "torch.Size([100, 1000, 4])"
      ]
     },
     "execution_count": 83,
     "metadata": {},
     "output_type": "execute_result"
    }
   ],
   "source": [
    "with torch.no_grad():\n",
    "    out = seq(inputs)\n",
    "out.size()"
   ]
  },
  {
   "cell_type": "code",
   "execution_count": 84,
   "metadata": {
    "ExecuteTime": {
     "end_time": "2018-07-31T21:52:54.553183Z",
     "start_time": "2018-07-31T21:52:54.546202Z"
    }
   },
   "outputs": [
    {
     "data": {
      "text/plain": [
       "0.0035256351890231435"
      ]
     },
     "execution_count": 84,
     "metadata": {},
     "output_type": "execute_result"
    }
   ],
   "source": [
    "criterion(out, targets).item()"
   ]
  },
  {
   "cell_type": "code",
   "execution_count": 85,
   "metadata": {
    "ExecuteTime": {
     "end_time": "2018-07-31T21:52:54.716745Z",
     "start_time": "2018-07-31T21:52:54.554180Z"
    }
   },
   "outputs": [
    {
     "data": {
      "image/png": "[encoded data removed]",
      "text/plain": [
       "<Figure size 864x360 with 1 Axes>"
      ]
     },
     "metadata": {},
     "output_type": "display_data"
    }
   ],
   "source": [
    "j = np.random.randint(0, N_samples)\n",
    "y_hat = out.detach().numpy()\n",
    "y_hat_df = DataFrame(data=y_hat[j,...], columns=['rf', 'rs', 'sf', 'ss'])\n",
    "res_j = pd.concat((paths[j], y_hat_df), axis=1)\n",
    "res_j[['Close', 'Support_slow', 'ss']].plot(figsize=(12, 5));"
   ]
  },
  {
   "cell_type": "markdown",
   "metadata": {},
   "source": [
    "### Test sample"
   ]
  },
  {
   "cell_type": "code",
   "execution_count": 126,
   "metadata": {
    "ExecuteTime": {
     "end_time": "2018-07-31T22:18:10.277566Z",
     "start_time": "2018-07-31T22:18:09.611314Z"
    }
   },
   "outputs": [],
   "source": [
    "test_samples = 20\n",
    "\n",
    "input_variables = ['Close']\n",
    "target_variables = ['Resistance_fast', 'Resistance_slow',\n",
    "                    'Support_fast', 'Support_slow']\n",
    "\n",
    "test_paths = [add_support_resistance(sim_path(N=500)) for i in range(N_samples)]\n",
    "test_inputs = np.array([p[input_variables].values for p in test_paths])\n",
    "test_targets = np.array([p[target_variables].values for p in test_paths])"
   ]
  },
  {
   "cell_type": "code",
   "execution_count": 127,
   "metadata": {
    "ExecuteTime": {
     "end_time": "2018-07-31T22:18:10.414333Z",
     "start_time": "2018-07-31T22:18:10.411317Z"
    }
   },
   "outputs": [],
   "source": [
    "test_inputs = torch.from_numpy(test_inputs)\n",
    "test_targets = torch.from_numpy(test_targets)"
   ]
  },
  {
   "cell_type": "code",
   "execution_count": 128,
   "metadata": {
    "ExecuteTime": {
     "end_time": "2018-07-31T22:18:10.742976Z",
     "start_time": "2018-07-31T22:18:10.739012Z"
    }
   },
   "outputs": [
    {
     "data": {
      "text/plain": [
       "torch.Size([100, 500, 1])"
      ]
     },
     "execution_count": 128,
     "metadata": {},
     "output_type": "execute_result"
    }
   ],
   "source": [
    "test_inputs.size()"
   ]
  },
  {
   "cell_type": "code",
   "execution_count": 129,
   "metadata": {
    "ExecuteTime": {
     "end_time": "2018-07-31T22:18:11.307301Z",
     "start_time": "2018-07-31T22:18:11.154708Z"
    }
   },
   "outputs": [
    {
     "data": {
      "text/plain": [
       "torch.Size([100, 500, 4])"
      ]
     },
     "execution_count": 129,
     "metadata": {},
     "output_type": "execute_result"
    }
   ],
   "source": [
    "with torch.no_grad():\n",
    "    test_out = seq(test_inputs)\n",
    "test_out.size()"
   ]
  },
  {
   "cell_type": "code",
   "execution_count": 130,
   "metadata": {
    "ExecuteTime": {
     "end_time": "2018-07-31T22:18:11.553365Z",
     "start_time": "2018-07-31T22:18:11.547353Z"
    }
   },
   "outputs": [
    {
     "data": {
      "text/plain": [
       "0.003217763932008842"
      ]
     },
     "execution_count": 130,
     "metadata": {},
     "output_type": "execute_result"
    }
   ],
   "source": [
    "criterion(test_out, test_targets).item()"
   ]
  },
  {
   "cell_type": "code",
   "execution_count": 154,
   "metadata": {
    "ExecuteTime": {
     "end_time": "2018-07-31T22:18:36.343874Z",
     "start_time": "2018-07-31T22:18:36.214189Z"
    }
   },
   "outputs": [
    {
     "data": {
      "image/png": "[encoded data removed]",
      "text/plain": [
       "<Figure size 864x360 with 1 Axes>"
      ]
     },
     "metadata": {},
     "output_type": "display_data"
    }
   ],
   "source": [
    "j = np.random.randint(0, test_samples)\n",
    "y_hat = test_out.detach().numpy()\n",
    "y_hat_df = DataFrame(data=y_hat[j,...], columns=['rf', 'rs', 'sf', 'ss'])\n",
    "res_j = pd.concat((test_paths[j], y_hat_df), axis=1)\n",
    "res_j[['Close', 'Support_slow', 'ss']].plot(figsize=(12, 5));"
   ]
  },
  {
   "cell_type": "markdown",
   "metadata": {},
   "source": [
    "# Trend "
   ]
  },
  {
   "cell_type": "code",
   "execution_count": 9,
   "metadata": {
    "ExecuteTime": {
     "end_time": "2018-08-02T02:06:52.657388Z",
     "start_time": "2018-08-02T02:06:51.744440Z"
    }
   },
   "outputs": [],
   "source": [
    "from trading_strategies import *\n",
    "from utils import *"
   ]
  },
  {
   "cell_type": "code",
   "execution_count": 104,
   "metadata": {
    "ExecuteTime": {
     "end_time": "2018-08-02T02:50:27.903787Z",
     "start_time": "2018-08-02T02:50:27.899846Z"
    }
   },
   "outputs": [],
   "source": [
    "def add_trend(df, sd=20):\n",
    "    df = df.assign(High=df.Close, Low=df.Close, Open=df.Close)\n",
    "    df = find_trends(df, sd=sd)\n",
    "    df.Trend = df.Trend.clip_lower(0)\n",
    "    return df"
   ]
  },
  {
   "cell_type": "code",
   "execution_count": 105,
   "metadata": {
    "ExecuteTime": {
     "end_time": "2018-08-02T02:50:32.395528Z",
     "start_time": "2018-08-02T02:50:31.890294Z"
    }
   },
   "outputs": [
    {
     "data": {
      "image/png": "[encoded data removed]",
      "text/plain": [
       "<Figure size 1152x360 with 1 Axes>"
      ]
     },
     "metadata": {},
     "output_type": "display_data"
    }
   ],
   "source": [
    "price_df = add_trend(sim_path())\n",
    "plot_trends(price_df)"
   ]
  },
  {
   "cell_type": "code",
   "execution_count": 106,
   "metadata": {
    "ExecuteTime": {
     "end_time": "2018-08-02T02:50:42.334111Z",
     "start_time": "2018-08-02T02:50:42.302428Z"
    },
    "scrolled": true
   },
   "outputs": [
    {
     "data": {
      "text/html": [
       "<div>\n",
       "<style scoped>\n",
       "    .dataframe tbody tr th:only-of-type {\n",
       "        vertical-align: middle;\n",
       "    }\n",
       "\n",
       "    .dataframe tbody tr th {\n",
       "        vertical-align: top;\n",
       "    }\n",
       "\n",
       "    .dataframe thead th {\n",
       "        text-align: right;\n",
       "    }\n",
       "</style>\n",
       "<table border=\"1\" class=\"dataframe\">\n",
       "  <thead>\n",
       "    <tr style=\"text-align: right;\">\n",
       "      <th></th>\n",
       "      <th>Close</th>\n",
       "      <th>State</th>\n",
       "      <th>Ch</th>\n",
       "      <th>Ch2</th>\n",
       "      <th>Ch3</th>\n",
       "      <th>Ch4</th>\n",
       "      <th>High</th>\n",
       "      <th>Low</th>\n",
       "      <th>Open</th>\n",
       "      <th>Smoothed</th>\n",
       "      <th>...</th>\n",
       "      <th>n_Trend</th>\n",
       "      <th>Max_Drawdown</th>\n",
       "      <th>ATR</th>\n",
       "      <th>max_TR</th>\n",
       "      <th>min_TR</th>\n",
       "      <th>Ratio</th>\n",
       "      <th>ICAGR</th>\n",
       "      <th>Bliss</th>\n",
       "      <th>Trend_Start</th>\n",
       "      <th>Trend_End</th>\n",
       "    </tr>\n",
       "    <tr>\n",
       "      <th>Date</th>\n",
       "      <th></th>\n",
       "      <th></th>\n",
       "      <th></th>\n",
       "      <th></th>\n",
       "      <th></th>\n",
       "      <th></th>\n",
       "      <th></th>\n",
       "      <th></th>\n",
       "      <th></th>\n",
       "      <th></th>\n",
       "      <th></th>\n",
       "      <th></th>\n",
       "      <th></th>\n",
       "      <th></th>\n",
       "      <th></th>\n",
       "      <th></th>\n",
       "      <th></th>\n",
       "      <th></th>\n",
       "      <th></th>\n",
       "      <th></th>\n",
       "      <th></th>\n",
       "    </tr>\n",
       "  </thead>\n",
       "  <tbody>\n",
       "    <tr>\n",
       "      <th>2018-01-01</th>\n",
       "      <td>1.000000</td>\n",
       "      <td>0</td>\n",
       "      <td>0.000000</td>\n",
       "      <td>0.000000e+00</td>\n",
       "      <td>0.000000e+00</td>\n",
       "      <td>0.000000e+00</td>\n",
       "      <td>1.000000</td>\n",
       "      <td>1.000000</td>\n",
       "      <td>1.000000</td>\n",
       "      <td>0.961029</td>\n",
       "      <td>...</td>\n",
       "      <td>1.0</td>\n",
       "      <td>0.099747</td>\n",
       "      <td>0.015383</td>\n",
       "      <td>0.054279</td>\n",
       "      <td>0.0</td>\n",
       "      <td>1.260593</td>\n",
       "      <td>0.708856</td>\n",
       "      <td>7.106558</td>\n",
       "      <td>2018-01-01</td>\n",
       "      <td>2018-04-30</td>\n",
       "    </tr>\n",
       "    <tr>\n",
       "      <th>2018-01-02</th>\n",
       "      <td>0.977951</td>\n",
       "      <td>0</td>\n",
       "      <td>-0.022296</td>\n",
       "      <td>4.970959e-04</td>\n",
       "      <td>-1.108308e-05</td>\n",
       "      <td>2.471044e-07</td>\n",
       "      <td>0.977951</td>\n",
       "      <td>0.977951</td>\n",
       "      <td>0.977951</td>\n",
       "      <td>0.961046</td>\n",
       "      <td>...</td>\n",
       "      <td>1.0</td>\n",
       "      <td>NaN</td>\n",
       "      <td>NaN</td>\n",
       "      <td>NaN</td>\n",
       "      <td>NaN</td>\n",
       "      <td>NaN</td>\n",
       "      <td>NaN</td>\n",
       "      <td>NaN</td>\n",
       "      <td>2018-01-01</td>\n",
       "      <td>2018-04-30</td>\n",
       "    </tr>\n",
       "    <tr>\n",
       "      <th>2018-01-03</th>\n",
       "      <td>0.973856</td>\n",
       "      <td>0</td>\n",
       "      <td>-0.004196</td>\n",
       "      <td>1.760839e-05</td>\n",
       "      <td>-7.388892e-08</td>\n",
       "      <td>3.100552e-10</td>\n",
       "      <td>0.973856</td>\n",
       "      <td>0.973856</td>\n",
       "      <td>0.973856</td>\n",
       "      <td>0.961075</td>\n",
       "      <td>...</td>\n",
       "      <td>1.0</td>\n",
       "      <td>NaN</td>\n",
       "      <td>NaN</td>\n",
       "      <td>NaN</td>\n",
       "      <td>NaN</td>\n",
       "      <td>NaN</td>\n",
       "      <td>NaN</td>\n",
       "      <td>NaN</td>\n",
       "      <td>2018-01-01</td>\n",
       "      <td>2018-04-30</td>\n",
       "    </tr>\n",
       "    <tr>\n",
       "      <th>...</th>\n",
       "      <td>...</td>\n",
       "      <td>...</td>\n",
       "      <td>...</td>\n",
       "      <td>...</td>\n",
       "      <td>...</td>\n",
       "      <td>...</td>\n",
       "      <td>...</td>\n",
       "      <td>...</td>\n",
       "      <td>...</td>\n",
       "      <td>...</td>\n",
       "      <td>...</td>\n",
       "      <td>...</td>\n",
       "      <td>...</td>\n",
       "      <td>...</td>\n",
       "      <td>...</td>\n",
       "      <td>...</td>\n",
       "      <td>...</td>\n",
       "      <td>...</td>\n",
       "      <td>...</td>\n",
       "      <td>...</td>\n",
       "      <td>...</td>\n",
       "    </tr>\n",
       "    <tr>\n",
       "      <th>2020-09-24</th>\n",
       "      <td>1.322403</td>\n",
       "      <td>1</td>\n",
       "      <td>-0.002266</td>\n",
       "      <td>5.135315e-06</td>\n",
       "      <td>-1.163726e-08</td>\n",
       "      <td>2.637147e-11</td>\n",
       "      <td>1.322403</td>\n",
       "      <td>1.322403</td>\n",
       "      <td>1.322403</td>\n",
       "      <td>1.257486</td>\n",
       "      <td>...</td>\n",
       "      <td>11.0</td>\n",
       "      <td>NaN</td>\n",
       "      <td>NaN</td>\n",
       "      <td>NaN</td>\n",
       "      <td>NaN</td>\n",
       "      <td>NaN</td>\n",
       "      <td>NaN</td>\n",
       "      <td>NaN</td>\n",
       "      <td>2020-08-29</td>\n",
       "      <td>2020-09-26</td>\n",
       "    </tr>\n",
       "    <tr>\n",
       "      <th>2020-09-25</th>\n",
       "      <td>1.381714</td>\n",
       "      <td>1</td>\n",
       "      <td>0.043874</td>\n",
       "      <td>1.924944e-03</td>\n",
       "      <td>8.445537e-05</td>\n",
       "      <td>3.705411e-06</td>\n",
       "      <td>1.381714</td>\n",
       "      <td>1.381714</td>\n",
       "      <td>1.381714</td>\n",
       "      <td>1.257636</td>\n",
       "      <td>...</td>\n",
       "      <td>11.0</td>\n",
       "      <td>NaN</td>\n",
       "      <td>NaN</td>\n",
       "      <td>NaN</td>\n",
       "      <td>NaN</td>\n",
       "      <td>NaN</td>\n",
       "      <td>NaN</td>\n",
       "      <td>NaN</td>\n",
       "      <td>2020-08-29</td>\n",
       "      <td>2020-09-26</td>\n",
       "    </tr>\n",
       "    <tr>\n",
       "      <th>2020-09-26</th>\n",
       "      <td>1.382645</td>\n",
       "      <td>1</td>\n",
       "      <td>0.000673</td>\n",
       "      <td>4.530327e-07</td>\n",
       "      <td>3.049259e-10</td>\n",
       "      <td>2.052386e-13</td>\n",
       "      <td>1.382645</td>\n",
       "      <td>1.382645</td>\n",
       "      <td>1.382645</td>\n",
       "      <td>1.257686</td>\n",
       "      <td>...</td>\n",
       "      <td>11.0</td>\n",
       "      <td>NaN</td>\n",
       "      <td>NaN</td>\n",
       "      <td>NaN</td>\n",
       "      <td>NaN</td>\n",
       "      <td>NaN</td>\n",
       "      <td>NaN</td>\n",
       "      <td>NaN</td>\n",
       "      <td>2020-08-29</td>\n",
       "      <td>2020-09-26</td>\n",
       "    </tr>\n",
       "  </tbody>\n",
       "</table>\n",
       "<p>1000 rows × 21 columns</p>\n",
       "</div>"
      ],
      "text/plain": [
       "               Close  State        Ch           Ch2           Ch3  \\\n",
       "Date                                                                \n",
       "2018-01-01  1.000000      0  0.000000  0.000000e+00  0.000000e+00   \n",
       "2018-01-02  0.977951      0 -0.022296  4.970959e-04 -1.108308e-05   \n",
       "2018-01-03  0.973856      0 -0.004196  1.760839e-05 -7.388892e-08   \n",
       "...              ...    ...       ...           ...           ...   \n",
       "2020-09-24  1.322403      1 -0.002266  5.135315e-06 -1.163726e-08   \n",
       "2020-09-25  1.381714      1  0.043874  1.924944e-03  8.445537e-05   \n",
       "2020-09-26  1.382645      1  0.000673  4.530327e-07  3.049259e-10   \n",
       "\n",
       "                     Ch4      High       Low      Open  Smoothed    ...      \\\n",
       "Date                                                                ...       \n",
       "2018-01-01  0.000000e+00  1.000000  1.000000  1.000000  0.961029    ...       \n",
       "2018-01-02  2.471044e-07  0.977951  0.977951  0.977951  0.961046    ...       \n",
       "2018-01-03  3.100552e-10  0.973856  0.973856  0.973856  0.961075    ...       \n",
       "...                  ...       ...       ...       ...       ...    ...       \n",
       "2020-09-24  2.637147e-11  1.322403  1.322403  1.322403  1.257486    ...       \n",
       "2020-09-25  3.705411e-06  1.381714  1.381714  1.381714  1.257636    ...       \n",
       "2020-09-26  2.052386e-13  1.382645  1.382645  1.382645  1.257686    ...       \n",
       "\n",
       "            n_Trend  Max_Drawdown       ATR    max_TR  min_TR     Ratio  \\\n",
       "Date                                                                      \n",
       "2018-01-01      1.0      0.099747  0.015383  0.054279     0.0  1.260593   \n",
       "2018-01-02      1.0           NaN       NaN       NaN     NaN       NaN   \n",
       "2018-01-03      1.0           NaN       NaN       NaN     NaN       NaN   \n",
       "...             ...           ...       ...       ...     ...       ...   \n",
       "2020-09-24     11.0           NaN       NaN       NaN     NaN       NaN   \n",
       "2020-09-25     11.0           NaN       NaN       NaN     NaN       NaN   \n",
       "2020-09-26     11.0           NaN       NaN       NaN     NaN       NaN   \n",
       "\n",
       "               ICAGR     Bliss  Trend_Start  Trend_End  \n",
       "Date                                                    \n",
       "2018-01-01  0.708856  7.106558   2018-01-01 2018-04-30  \n",
       "2018-01-02       NaN       NaN   2018-01-01 2018-04-30  \n",
       "2018-01-03       NaN       NaN   2018-01-01 2018-04-30  \n",
       "...              ...       ...          ...        ...  \n",
       "2020-09-24       NaN       NaN   2020-08-29 2020-09-26  \n",
       "2020-09-25       NaN       NaN   2020-08-29 2020-09-26  \n",
       "2020-09-26       NaN       NaN   2020-08-29 2020-09-26  \n",
       "\n",
       "[1000 rows x 21 columns]"
      ]
     },
     "execution_count": 106,
     "metadata": {},
     "output_type": "execute_result"
    }
   ],
   "source": [
    "price_df"
   ]
  },
  {
   "cell_type": "markdown",
   "metadata": {},
   "source": [
    "## Train and test sets"
   ]
  },
  {
   "cell_type": "code",
   "execution_count": 164,
   "metadata": {
    "ExecuteTime": {
     "end_time": "2018-08-02T03:13:00.440227Z",
     "start_time": "2018-08-02T03:13:00.437374Z"
    }
   },
   "outputs": [],
   "source": [
    "N_samples = 250"
   ]
  },
  {
   "cell_type": "code",
   "execution_count": 165,
   "metadata": {
    "ExecuteTime": {
     "end_time": "2018-08-02T03:14:01.195951Z",
     "start_time": "2018-08-02T03:13:00.888265Z"
    }
   },
   "outputs": [
    {
     "name": "stderr",
     "output_type": "stream",
     "text": [
      "//anaconda/envs/trend/lib/python3.6/site-packages/numpy/core/fromnumeric.py:83: RuntimeWarning: invalid value encountered in reduce\n",
      "  return ufunc.reduce(obj, axis, dtype, out, **passkwargs)\n"
     ]
    }
   ],
   "source": [
    "input_variables = ['Close', 'Ch', 'Ch2', 'Ch3', 'Ch4', ]\n",
    "target_variables = ['Trend']\n",
    "\n",
    "paths = [add_trend(sim_path()) for i in range(N_samples)]\n",
    "inputs = np.array([p[input_variables].values for p in paths], dtype=np.double)\n",
    "targets = np.array([p[target_variables].values for p in paths], dtype=np.double)"
   ]
  },
  {
   "cell_type": "code",
   "execution_count": 166,
   "metadata": {
    "ExecuteTime": {
     "end_time": "2018-08-02T03:14:01.201836Z",
     "start_time": "2018-08-02T03:14:01.198244Z"
    }
   },
   "outputs": [],
   "source": [
    "inputs = torch.from_numpy(inputs)\n",
    "targets = torch.from_numpy(targets)"
   ]
  },
  {
   "cell_type": "code",
   "execution_count": 167,
   "metadata": {
    "ExecuteTime": {
     "end_time": "2018-08-02T03:14:01.212984Z",
     "start_time": "2018-08-02T03:14:01.205963Z"
    }
   },
   "outputs": [
    {
     "data": {
      "text/plain": [
       "(torch.Size([250, 1000, 5]), torch.Size([250, 1000, 1]))"
      ]
     },
     "execution_count": 167,
     "metadata": {},
     "output_type": "execute_result"
    }
   ],
   "source": [
    "inputs.size(), targets.size()"
   ]
  },
  {
   "cell_type": "markdown",
   "metadata": {},
   "source": [
    "## Build the model"
   ]
  },
  {
   "cell_type": "code",
   "execution_count": 168,
   "metadata": {
    "ExecuteTime": {
     "end_time": "2018-08-02T03:14:01.271257Z",
     "start_time": "2018-08-02T03:14:01.236854Z"
    },
    "code_folding": [
     0,
     29,
     62
    ]
   },
   "outputs": [],
   "source": [
    "class Sequence(nn.Module):\n",
    "    def __init__(self, h0=1, h1=51, h2=51, hL=1):\n",
    "        super(Sequence, self).__init__()\n",
    "        self.h0 = h0\n",
    "        self.h1 = h1\n",
    "        self.h2 = h2\n",
    "        self.hL = hL\n",
    "        self.lstm1 = nn.LSTMCell(h0, h1)\n",
    "        self.lstm2 = nn.LSTMCell(h1, h2)\n",
    "        self.linear = nn.Linear(h2, hL)\n",
    "        self.sigmoid = nn.Sigmoid()\n",
    "\n",
    "    def forward(self, input):\n",
    "        outputs = []\n",
    "        h_t = torch.zeros(input.size(0), self.h1, dtype=torch.double)\n",
    "        c_t = torch.zeros(input.size(0), self.h1, dtype=torch.double)\n",
    "        h_t2 = torch.zeros(input.size(0), self.h2, dtype=torch.double)\n",
    "        c_t2 = torch.zeros(input.size(0), self.h2, dtype=torch.double)\n",
    "\n",
    "        for i, input_t in enumerate(input.chunk(input.size(1), dim=1)):\n",
    "            h_t, c_t = self.lstm1(input_t.view(N_samples, -1), (h_t, c_t))\n",
    "            h_t2, c_t2 = self.lstm2(h_t, (h_t2, c_t2))\n",
    "            output = self.sigmoid(self.linear(h_t2))\n",
    "            outputs += [output]\n",
    "\n",
    "        outputs = torch.stack(outputs, 1).squeeze(2)\n",
    "        return outputs\n",
    "\n",
    "    \n",
    "class Sequence3(nn.Module):\n",
    "    def __init__(self, h0=1, h1=10, h2=10, h3=10, hL=1):\n",
    "        super(Sequence3, self).__init__()\n",
    "        self.h0 = h0\n",
    "        self.h1 = h1\n",
    "        self.h2 = h2\n",
    "        self.h3 = h3\n",
    "        self.hL = hL\n",
    "        self.lstm1 = nn.LSTMCell(h0, h1)\n",
    "        self.lstm2 = nn.LSTMCell(h1, h2)\n",
    "        self.lstm3 = nn.LSTMCell(h2, h3)\n",
    "        self.linear = nn.Linear(h3, hL)\n",
    "        self.sigmoid = nn.Sigmoid()\n",
    "\n",
    "    def forward(self, input):\n",
    "        outputs = []\n",
    "        h_t = torch.zeros(input.size(0), self.h1, dtype=torch.double)\n",
    "        c_t = torch.zeros(input.size(0), self.h1, dtype=torch.double)\n",
    "        h_t2 = torch.zeros(input.size(0), self.h2, dtype=torch.double)\n",
    "        c_t2 = torch.zeros(input.size(0), self.h2, dtype=torch.double)\n",
    "        h_t3 = torch.ones(input.size(0), self.h3, dtype=torch.double)\n",
    "        c_t3 = torch.zeros(input.size(0), self.h3, dtype=torch.double)\n",
    "\n",
    "        for i, input_t in enumerate(input.chunk(input.size(1), dim=1)):\n",
    "            h_t, c_t = self.lstm1(input_t.view(N_samples, -1), (h_t, c_t))\n",
    "            h_t2, c_t2 = self.lstm2(h_t, (h_t2, c_t2))\n",
    "            h_t3, c_t3 = self.lstm3(h_t2, (h_t3, c_t3))\n",
    "            output = self.sigmoid(self.linear(h_t3))\n",
    "            outputs += [output]\n",
    "\n",
    "        outputs = torch.stack(outputs, 1).squeeze(2)\n",
    "        return outputs\n",
    "\n",
    "class Sequence4(nn.Module):\n",
    "    def __init__(self, h0=1, h1=5, h2=5, h3=5, h4=5, hL=1):\n",
    "        super(Sequence4, self).__init__()\n",
    "        self.h0 = h0\n",
    "        self.h1 = h1\n",
    "        self.h2 = h2\n",
    "        self.h3 = h3\n",
    "        self.h4 = h4\n",
    "        self.hL = hL\n",
    "        self.lstm1 = nn.LSTMCell(h0, h1)\n",
    "        self.lstm2 = nn.LSTMCell(h1, h2)\n",
    "        self.lstm3 = nn.LSTMCell(h2, h3)\n",
    "        self.lstm4 = nn.LSTMCell(h3, h4)\n",
    "        self.linear = nn.Linear(h4, hL)\n",
    "        self.sigmoid = nn.Sigmoid()\n",
    "\n",
    "    def forward(self, input):\n",
    "        outputs = []\n",
    "        h_t = torch.zeros(input.size(0), self.h1, dtype=torch.double)\n",
    "        c_t = torch.zeros(input.size(0), self.h1, dtype=torch.double)\n",
    "        h_t2 = torch.zeros(input.size(0), self.h2, dtype=torch.double)\n",
    "        c_t2 = torch.zeros(input.size(0), self.h2, dtype=torch.double)\n",
    "        h_t3 = torch.ones(input.size(0), self.h3, dtype=torch.double)\n",
    "        c_t3 = torch.zeros(input.size(0), self.h3, dtype=torch.double)\n",
    "        h_t4 = torch.ones(input.size(0), self.h4, dtype=torch.double)\n",
    "        c_t4 = torch.zeros(input.size(0), self.h4, dtype=torch.double)\n",
    "\n",
    "        for i, input_t in enumerate(input.chunk(input.size(1), dim=1)):\n",
    "            h_t, c_t = self.lstm1(input_t.view(N_samples, -1), (h_t, c_t))\n",
    "            h_t2, c_t2 = self.lstm2(h_t, (h_t2, c_t2))\n",
    "            h_t3, c_t3 = self.lstm3(h_t2, (h_t3, c_t3))\n",
    "            h_t4, c_t4 = self.lstm4(h_t3, (h_t4, c_t4))\n",
    "            output = self.sigmoid(self.linear(h_t4))\n",
    "            outputs += [output]\n",
    "\n",
    "        outputs = torch.stack(outputs, 1).squeeze(2)\n",
    "        return outputs"
   ]
  },
  {
   "cell_type": "code",
   "execution_count": 311,
   "metadata": {
    "ExecuteTime": {
     "end_time": "2018-08-02T04:04:51.762585Z",
     "start_time": "2018-08-02T04:04:51.754391Z"
    }
   },
   "outputs": [
    {
     "data": {
      "text/plain": [
       "Sequence4(\n",
       "  (lstm1): LSTMCell(5, 10)\n",
       "  (lstm2): LSTMCell(10, 8)\n",
       "  (lstm3): LSTMCell(8, 6)\n",
       "  (lstm4): LSTMCell(6, 3)\n",
       "  (linear): Linear(in_features=3, out_features=1, bias=True)\n",
       "  (sigmoid): Sigmoid()\n",
       ")"
      ]
     },
     "execution_count": 311,
     "metadata": {},
     "output_type": "execute_result"
    }
   ],
   "source": [
    "# build the model\n",
    "seq = Sequence4(h0=5, hL=1)#, h1=10, h2=8, h3=6, h4=3)\n",
    "seq.double()"
   ]
  },
  {
   "cell_type": "code",
   "execution_count": 312,
   "metadata": {
    "ExecuteTime": {
     "end_time": "2018-08-02T04:05:00.391163Z",
     "start_time": "2018-08-02T04:04:59.219656Z"
    }
   },
   "outputs": [
    {
     "data": {
      "text/plain": [
       "tensor([[ 0.5114,  0.5249,  0.5345,  ...,  0.5510,  0.5510,  0.5510],\n",
       "        [ 0.5114,  0.5249,  0.5345,  ...,  0.5510,  0.5510,  0.5510],\n",
       "        [ 0.5114,  0.5249,  0.5345,  ...,  0.5511,  0.5511,  0.5511],\n",
       "        ...,\n",
       "        [ 0.5114,  0.5249,  0.5345,  ...,  0.5510,  0.5510,  0.5510],\n",
       "        [ 0.5114,  0.5249,  0.5344,  ...,  0.5513,  0.5513,  0.5513],\n",
       "        [ 0.5114,  0.5249,  0.5344,  ...,  0.5514,  0.5514,  0.5514]], dtype=torch.float64)"
      ]
     },
     "execution_count": 312,
     "metadata": {},
     "output_type": "execute_result"
    }
   ],
   "source": [
    "out = seq(inputs)\n",
    "out"
   ]
  },
  {
   "cell_type": "code",
   "execution_count": 313,
   "metadata": {
    "ExecuteTime": {
     "end_time": "2018-08-02T04:05:01.207719Z",
     "start_time": "2018-08-02T04:05:01.201511Z"
    },
    "scrolled": true
   },
   "outputs": [
    {
     "data": {
      "text/plain": [
       "(torch.Size([250, 1000, 1]), torch.Size([250, 1000, 1]))"
      ]
     },
     "execution_count": 313,
     "metadata": {},
     "output_type": "execute_result"
    }
   ],
   "source": [
    "out.unsqueeze(2).size(), targets.size()"
   ]
  },
  {
   "cell_type": "code",
   "execution_count": 314,
   "metadata": {
    "ExecuteTime": {
     "end_time": "2018-08-02T04:05:01.842705Z",
     "start_time": "2018-08-02T04:05:01.837590Z"
    }
   },
   "outputs": [],
   "source": [
    "warmup = 60\n",
    "\n",
    "def loss_fun(y_hat, y_true):\n",
    "    return torch.mean(- y_true * y_hat.log() - \\\n",
    "              (1 - y_true) * (1 - y_hat).log())\n",
    "\n",
    "def criterion(y_hat, y_true, warmup=90):\n",
    "    loss = loss_fun(y_hat[:, warmup:, :], y_true[:, warmup:, :])\n",
    "    return loss"
   ]
  },
  {
   "cell_type": "code",
   "execution_count": 315,
   "metadata": {
    "ExecuteTime": {
     "end_time": "2018-08-02T04:05:03.262033Z",
     "start_time": "2018-08-02T04:05:03.243918Z"
    }
   },
   "outputs": [
    {
     "data": {
      "text/plain": [
       "tensor(0.7026, dtype=torch.float64)"
      ]
     },
     "execution_count": 315,
     "metadata": {},
     "output_type": "execute_result"
    }
   ],
   "source": [
    "criterion(out.unsqueeze(2), targets)"
   ]
  },
  {
   "cell_type": "markdown",
   "metadata": {},
   "source": [
    "## Train"
   ]
  },
  {
   "cell_type": "code",
   "execution_count": 316,
   "metadata": {
    "ExecuteTime": {
     "end_time": "2018-08-02T04:05:24.534001Z",
     "start_time": "2018-08-02T04:05:24.525206Z"
    }
   },
   "outputs": [],
   "source": [
    "losses = []"
   ]
  },
  {
   "cell_type": "code",
   "execution_count": 317,
   "metadata": {
    "ExecuteTime": {
     "end_time": "2018-08-02T04:05:24.542884Z",
     "start_time": "2018-08-02T04:05:24.536728Z"
    }
   },
   "outputs": [],
   "source": [
    "optimizer = optim.Adam(seq.parameters(), lr=1e-3)"
   ]
  },
  {
   "cell_type": "code",
   "execution_count": 318,
   "metadata": {
    "ExecuteTime": {
     "end_time": "2018-08-02T04:09:17.574197Z",
     "start_time": "2018-08-02T04:05:24.553666Z"
    }
   },
   "outputs": [
    {
     "data": {
      "application/vnd.jupyter.widget-view+json": {
       "model_id": "c6bf107ac6c44f17909a52a4980b2ea8",
       "version_major": 2,
       "version_minor": 0
      },
      "text/plain": [
       "HBox(children=(IntProgress(value=0, description='Epoch:'), HTML(value='')))"
      ]
     },
     "metadata": {},
     "output_type": "display_data"
    },
    {
     "name": "stdout",
     "output_type": "stream",
     "text": [
      "i: 0, loss: 0.702645611075114\n",
      "i: 10, loss: 0.6998326157805203\n",
      "i: 20, loss: 0.6978161202435127\n",
      "i: 30, loss: 0.6963034380026866\n",
      "i: 40, loss: 0.6951094182822954\n",
      "i: 50, loss: 0.694120791593022\n",
      "i: 60, loss: 0.693296499740528\n",
      "i: 70, loss: 0.6926717765562647\n",
      "i: 80, loss: 0.6923192555495269\n",
      "i: 90, loss: 0.692218156830637\n",
      "\n"
     ]
    }
   ],
   "source": [
    "for i in tqdm_notebook(range(100), desc='Epoch:'):\n",
    "    \n",
    "    def closure():\n",
    "        optimizer.zero_grad()\n",
    "        out = seq(inputs).unsqueeze(2)\n",
    "        loss = criterion(out, targets)\n",
    "        losses.append(loss.detach().numpy())\n",
    "        loss.backward()\n",
    "        return loss\n",
    "    optimizer.step(closure)\n",
    "    \n",
    "    if i % 10 == 0:\n",
    "        print('i: ', i, ', loss: ', losses[-1], sep='')\n",
    "    # begin to predict, no need to track gradient here\n",
    "#     with torch.no_grad():\n",
    "#         future = 1000\n",
    "#         pred = seq(test_input, future=future)\n",
    "#         loss = criterion(pred[:, :-future], test_target)\n",
    "#         print('test loss:', loss.item())\n",
    "#         y = pred.detach().numpy()"
   ]
  },
  {
   "cell_type": "code",
   "execution_count": 319,
   "metadata": {
    "ExecuteTime": {
     "end_time": "2018-08-02T04:09:17.749949Z",
     "start_time": "2018-08-02T04:09:17.581037Z"
    },
    "scrolled": true
   },
   "outputs": [
    {
     "data": {
      "text/plain": [
       "[<matplotlib.lines.Line2D at 0x1c2756dcc0>]"
      ]
     },
     "execution_count": 319,
     "metadata": {},
     "output_type": "execute_result"
    },
    {
     "data": {
      "image/png": "[encoded data removed]",
      "text/plain": [
       "<Figure size 432x288 with 1 Axes>"
      ]
     },
     "metadata": {},
     "output_type": "display_data"
    }
   ],
   "source": [
    "plt.plot(np.array(losses))"
   ]
  },
  {
   "cell_type": "markdown",
   "metadata": {},
   "source": [
    "### Train sample"
   ]
  },
  {
   "cell_type": "code",
   "execution_count": 320,
   "metadata": {
    "ExecuteTime": {
     "end_time": "2018-08-02T04:09:17.756662Z",
     "start_time": "2018-08-02T04:09:17.752896Z"
    }
   },
   "outputs": [],
   "source": [
    "from sklearn.metrics import confusion_matrix"
   ]
  },
  {
   "cell_type": "code",
   "execution_count": 321,
   "metadata": {
    "ExecuteTime": {
     "end_time": "2018-08-02T04:09:18.971372Z",
     "start_time": "2018-08-02T04:09:17.760384Z"
    }
   },
   "outputs": [
    {
     "data": {
      "text/plain": [
       "torch.Size([250, 1000])"
      ]
     },
     "execution_count": 321,
     "metadata": {},
     "output_type": "execute_result"
    }
   ],
   "source": [
    "with torch.no_grad():\n",
    "    out = seq(inputs)\n",
    "out.size()"
   ]
  },
  {
   "cell_type": "code",
   "execution_count": 322,
   "metadata": {
    "ExecuteTime": {
     "end_time": "2018-08-02T04:09:19.002344Z",
     "start_time": "2018-08-02T04:09:18.978685Z"
    }
   },
   "outputs": [
    {
     "data": {
      "text/plain": [
       "0.6921608333508854"
      ]
     },
     "execution_count": 322,
     "metadata": {},
     "output_type": "execute_result"
    }
   ],
   "source": [
    "criterion(out.unsqueeze(dim=2), targets).item()"
   ]
  },
  {
   "cell_type": "code",
   "execution_count": 323,
   "metadata": {
    "ExecuteTime": {
     "end_time": "2018-08-02T04:09:19.016839Z",
     "start_time": "2018-08-02T04:09:19.005494Z"
    }
   },
   "outputs": [],
   "source": [
    "y_true = targets[:, warmup:, :].numpy()\n",
    "y_pred = out.unsqueeze(dim=2)[:, warmup:, :].detach().numpy().copy()\n",
    "y_pred[y_pred > 0.5] = 1\n",
    "y_pred[y_pred <= 0.5] = 0"
   ]
  },
  {
   "cell_type": "code",
   "execution_count": 324,
   "metadata": {
    "ExecuteTime": {
     "end_time": "2018-08-02T04:09:19.281590Z",
     "start_time": "2018-08-02T04:09:19.019883Z"
    }
   },
   "outputs": [
    {
     "data": {
      "text/plain": [
       "array([[0.52185106, 0.        ],\n",
       "       [0.47814894, 0.        ]])"
      ]
     },
     "execution_count": 324,
     "metadata": {},
     "output_type": "execute_result"
    }
   ],
   "source": [
    "confusion_matrix(y_true.flatten(), y_pred.flatten()) / len(y_true.flatten())"
   ]
  },
  {
   "cell_type": "code",
   "execution_count": 325,
   "metadata": {
    "ExecuteTime": {
     "end_time": "2018-08-02T04:09:19.681678Z",
     "start_time": "2018-08-02T04:09:19.284059Z"
    }
   },
   "outputs": [
    {
     "data": {
      "image/png": "[encoded data removed]",
      "text/plain": [
       "<Figure size 864x360 with 1 Axes>"
      ]
     },
     "metadata": {},
     "output_type": "display_data"
    }
   ],
   "source": [
    "j = np.random.randint(0, N_samples)\n",
    "y_hat = out.detach().numpy()\n",
    "\n",
    "# y_hat_df = DataFrame(data=y_hat[j,...], columns='Trend')\n",
    "res_j = paths[j].assign(Trend_hat=y_hat[j,...])\n",
    "res_j[['Close', 'Trend', 'Trend_hat']].plot(figsize=(12, 5))\n",
    "plt.axhline(0.5, c='grey', alpha=0.5);"
   ]
  },
  {
   "cell_type": "markdown",
   "metadata": {},
   "source": [
    "### Test sample"
   ]
  },
  {
   "cell_type": "code",
   "execution_count": 326,
   "metadata": {
    "ExecuteTime": {
     "end_time": "2018-08-02T04:09:55.783039Z",
     "start_time": "2018-08-02T04:09:19.684946Z"
    }
   },
   "outputs": [],
   "source": [
    "# N_samples = 20\n",
    "test_paths = [add_trend(sim_path(N=500)) for i in range(N_samples)]\n",
    "test_inputs = np.array([p[input_variables].values for p in test_paths])\n",
    "test_targets = np.array([p[target_variables].values for p in test_paths])"
   ]
  },
  {
   "cell_type": "code",
   "execution_count": 327,
   "metadata": {
    "ExecuteTime": {
     "end_time": "2018-08-02T04:09:55.789856Z",
     "start_time": "2018-08-02T04:09:55.785668Z"
    }
   },
   "outputs": [],
   "source": [
    "test_inputs = torch.from_numpy(test_inputs)\n",
    "test_targets = torch.from_numpy(test_targets)"
   ]
  },
  {
   "cell_type": "code",
   "execution_count": 328,
   "metadata": {
    "ExecuteTime": {
     "end_time": "2018-08-02T04:09:55.800506Z",
     "start_time": "2018-08-02T04:09:55.793958Z"
    }
   },
   "outputs": [
    {
     "data": {
      "text/plain": [
       "torch.Size([250, 500, 5])"
      ]
     },
     "execution_count": 328,
     "metadata": {},
     "output_type": "execute_result"
    }
   ],
   "source": [
    "test_inputs.size()"
   ]
  },
  {
   "cell_type": "code",
   "execution_count": 329,
   "metadata": {
    "ExecuteTime": {
     "end_time": "2018-08-02T04:09:56.590815Z",
     "start_time": "2018-08-02T04:09:55.803487Z"
    }
   },
   "outputs": [
    {
     "data": {
      "text/plain": [
       "torch.Size([250, 500])"
      ]
     },
     "execution_count": 329,
     "metadata": {},
     "output_type": "execute_result"
    }
   ],
   "source": [
    "with torch.no_grad():\n",
    "    test_out = seq(test_inputs)\n",
    "test_out.size()"
   ]
  },
  {
   "cell_type": "code",
   "execution_count": 330,
   "metadata": {
    "ExecuteTime": {
     "end_time": "2018-08-02T04:09:56.621042Z",
     "start_time": "2018-08-02T04:09:56.597374Z"
    },
    "scrolled": true
   },
   "outputs": [
    {
     "data": {
      "text/plain": [
       "0.6918954147368108"
      ]
     },
     "execution_count": 330,
     "metadata": {},
     "output_type": "execute_result"
    }
   ],
   "source": [
    "criterion(test_out.unsqueeze(dim=2), test_targets).item()"
   ]
  },
  {
   "cell_type": "code",
   "execution_count": 331,
   "metadata": {
    "ExecuteTime": {
     "end_time": "2018-08-02T04:09:56.635372Z",
     "start_time": "2018-08-02T04:09:56.624688Z"
    }
   },
   "outputs": [],
   "source": [
    "y_true = test_targets[:, warmup:, :].numpy()\n",
    "y_pred = test_out.unsqueeze(dim=2)[:, warmup:, :].detach().numpy().copy()\n",
    "y_pred[y_pred > 0.5] = 1\n",
    "y_pred[y_pred <= 0.5] = 0"
   ]
  },
  {
   "cell_type": "code",
   "execution_count": 332,
   "metadata": {
    "ExecuteTime": {
     "end_time": "2018-08-02T04:09:56.806524Z",
     "start_time": "2018-08-02T04:09:56.639019Z"
    }
   },
   "outputs": [
    {
     "data": {
      "text/plain": [
       "array([[0.5227, 0.    ],\n",
       "       [0.4773, 0.    ]])"
      ]
     },
     "execution_count": 332,
     "metadata": {},
     "output_type": "execute_result"
    }
   ],
   "source": [
    "confusion_matrix(y_true.flatten(), y_pred.flatten()) / len(y_true.flatten())"
   ]
  },
  {
   "cell_type": "code",
   "execution_count": 333,
   "metadata": {
    "ExecuteTime": {
     "end_time": "2018-08-02T04:09:57.390159Z",
     "start_time": "2018-08-02T04:09:56.814528Z"
    }
   },
   "outputs": [
    {
     "data": {
      "image/png": "[encoded data removed]",
      "text/plain": [
       "<Figure size 864x360 with 1 Axes>"
      ]
     },
     "metadata": {},
     "output_type": "display_data"
    }
   ],
   "source": [
    "j = np.random.randint(0, N_samples)\n",
    "y_hat = test_out.detach().numpy()\n",
    "\n",
    "# y_hat_df = DataFrame(data=y_hat[j,...], columns='Trend')\n",
    "res_j = test_paths[j].assign(Trend_hat=y_hat[j,...])\n",
    "res_j[['Close', 'Trend', 'Trend_hat']].plot(figsize=(12, 5))\n",
    "plt.axhline(0.5, c='grey', alpha=0.5);"
   ]
  },
  {
   "cell_type": "markdown",
   "metadata": {},
   "source": [
    "# End"
   ]
  }
 ],
 "metadata": {
  "kernelspec": {
   "display_name": "Python 3",
   "language": "python",
   "name": "python3"
  },
  "language_info": {
   "codemirror_mode": {
    "name": "ipython",
    "version": 3
   },
   "file_extension": ".py",
   "mimetype": "text/x-python",
   "name": "python",
   "nbconvert_exporter": "python",
   "pygments_lexer": "ipython3",
   "version": "3.6.6"
  },
  "toc": {
   "base_numbering": 1,
   "nav_menu": {},
   "number_sections": true,
   "sideBar": true,
   "skip_h1_title": false,
   "title_cell": "Table of Contents",
   "title_sidebar": "Contents",
   "toc_cell": false,
   "toc_position": {},
   "toc_section_display": true,
   "toc_window_display": false
  }
 },
 "nbformat": 4,
 "nbformat_minor": 2
}
