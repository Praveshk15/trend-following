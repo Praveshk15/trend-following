{
 "cells": [
  {
   "cell_type": "markdown",
   "metadata": {},
   "source": [
    "# Temp\n",
    "\n",
    "Temporary file for testing new functions."
   ]
  },
  {
   "cell_type": "code",
   "execution_count": 1,
   "metadata": {
    "ExecuteTime": {
     "end_time": "2018-07-04T22:57:35.722749Z",
     "start_time": "2018-07-04T22:57:33.716113Z"
    }
   },
   "outputs": [],
   "source": [
    "# Put these at the top of every notebook, to get automatic reloading and inline plotting\n",
    "%reload_ext autoreload\n",
    "%autoreload 2\n",
    "%matplotlib inline"
   ]
  },
  {
   "cell_type": "code",
   "execution_count": 2,
   "metadata": {
    "ExecuteTime": {
     "end_time": "2018-07-04T22:57:37.189829Z",
     "start_time": "2018-07-04T22:57:35.724744Z"
    }
   },
   "outputs": [],
   "source": [
    "import numpy as np\n",
    "import pandas as pd\n",
    "from pandas import Series, DataFrame\n",
    "pd.set_option('display.max_rows', 10)\n",
    "from matplotlib import pyplot as plt\n",
    "import matplotlib.transforms as mtransforms\n",
    "plt.rcParams['figure.figsize'] = [12, 4]"
   ]
  },
  {
   "cell_type": "markdown",
   "metadata": {},
   "source": [
    "# Pytorch "
   ]
  },
  {
   "cell_type": "code",
   "execution_count": 3,
   "metadata": {
    "ExecuteTime": {
     "end_time": "2018-07-04T22:57:39.371996Z",
     "start_time": "2018-07-04T22:57:38.425525Z"
    }
   },
   "outputs": [],
   "source": [
    "import torch"
   ]
  },
  {
   "cell_type": "code",
   "execution_count": 4,
   "metadata": {
    "ExecuteTime": {
     "end_time": "2018-07-04T22:57:39.452780Z",
     "start_time": "2018-07-04T22:57:39.372992Z"
    }
   },
   "outputs": [
    {
     "data": {
      "text/plain": [
       "array([[-1.47526494],\n",
       "       [ 0.23848053]])"
      ]
     },
     "execution_count": 4,
     "metadata": {},
     "output_type": "execute_result"
    }
   ],
   "source": [
    "# Simple example: y = (x1 - 2)^2 + (x2 - 5)^2\n",
    "x = np.random.randn(2, 1)\n",
    "x"
   ]
  },
  {
   "cell_type": "code",
   "execution_count": 5,
   "metadata": {
    "ExecuteTime": {
     "end_time": "2018-07-04T22:57:39.548524Z",
     "start_time": "2018-07-04T22:57:39.453778Z"
    }
   },
   "outputs": [
    {
     "data": {
      "text/plain": [
       "tensor([[-1.4753],\n",
       "        [ 0.2385]], dtype=torch.float64)"
      ]
     },
     "execution_count": 5,
     "metadata": {},
     "output_type": "execute_result"
    }
   ],
   "source": [
    "x = torch.from_numpy(x)\n",
    "x"
   ]
  },
  {
   "cell_type": "code",
   "execution_count": 6,
   "metadata": {
    "ExecuteTime": {
     "end_time": "2018-07-04T22:57:39.827777Z",
     "start_time": "2018-07-04T22:57:39.745995Z"
    }
   },
   "outputs": [],
   "source": [
    "x.requires_grad = True"
   ]
  },
  {
   "cell_type": "code",
   "execution_count": 7,
   "metadata": {
    "ExecuteTime": {
     "end_time": "2018-07-04T22:57:40.424183Z",
     "start_time": "2018-07-04T22:57:40.347389Z"
    }
   },
   "outputs": [],
   "source": [
    "y = (x[0] - 2)**2 + (x[1] - 5)**2"
   ]
  },
  {
   "cell_type": "code",
   "execution_count": 8,
   "metadata": {
    "ExecuteTime": {
     "end_time": "2018-07-04T22:57:40.735352Z",
     "start_time": "2018-07-04T22:57:40.657560Z"
    }
   },
   "outputs": [],
   "source": [
    "y.backward()"
   ]
  },
  {
   "cell_type": "code",
   "execution_count": 9,
   "metadata": {
    "ExecuteTime": {
     "end_time": "2018-07-04T22:57:40.987678Z",
     "start_time": "2018-07-04T22:57:40.907891Z"
    }
   },
   "outputs": [
    {
     "data": {
      "text/plain": [
       "tensor([[-6.9505],\n",
       "        [-9.5230]], dtype=torch.float64)"
      ]
     },
     "execution_count": 9,
     "metadata": {},
     "output_type": "execute_result"
    }
   ],
   "source": [
    "x.grad"
   ]
  },
  {
   "cell_type": "code",
   "execution_count": 10,
   "metadata": {
    "ExecuteTime": {
     "end_time": "2018-07-04T22:57:41.626968Z",
     "start_time": "2018-07-04T22:57:41.555161Z"
    }
   },
   "outputs": [
    {
     "name": "stdout",
     "output_type": "stream",
     "text": [
      "-5.54903456\n",
      "-7.29334372\n"
     ]
    }
   ],
   "source": [
    "print(2*(-0.77451728 - 2))\n",
    "print(2 * (-0.64667186 - 3))"
   ]
  },
  {
   "cell_type": "code",
   "execution_count": 11,
   "metadata": {
    "ExecuteTime": {
     "end_time": "2018-07-04T22:57:41.927167Z",
     "start_time": "2018-07-04T22:57:41.836408Z"
    }
   },
   "outputs": [
    {
     "data": {
      "text/plain": [
       "tensor([[-0.7802],\n",
       "        [ 1.1908]], dtype=torch.float64)"
      ]
     },
     "execution_count": 11,
     "metadata": {},
     "output_type": "execute_result"
    }
   ],
   "source": [
    "lr = 0.1\n",
    "x.data.sub_(lr * x.grad)  # With '_', modifies in place."
   ]
  },
  {
   "cell_type": "code",
   "execution_count": 12,
   "metadata": {
    "ExecuteTime": {
     "end_time": "2018-07-04T22:57:42.372975Z",
     "start_time": "2018-07-04T22:57:42.298174Z"
    }
   },
   "outputs": [
    {
     "data": {
      "text/plain": [
       "tensor([[-6.9505],\n",
       "        [-9.5230]], dtype=torch.float64)"
      ]
     },
     "execution_count": 12,
     "metadata": {},
     "output_type": "execute_result"
    }
   ],
   "source": [
    "x.grad"
   ]
  },
  {
   "cell_type": "code",
   "execution_count": 13,
   "metadata": {
    "ExecuteTime": {
     "end_time": "2018-07-04T22:57:43.089137Z",
     "start_time": "2018-07-04T22:57:43.018324Z"
    }
   },
   "outputs": [
    {
     "data": {
      "text/plain": [
       "tensor([[ 0.],\n",
       "        [ 0.]], dtype=torch.float64)"
      ]
     },
     "execution_count": 13,
     "metadata": {},
     "output_type": "execute_result"
    }
   ],
   "source": [
    "x.grad.zero_()"
   ]
  },
  {
   "cell_type": "code",
   "execution_count": 14,
   "metadata": {
    "ExecuteTime": {
     "end_time": "2018-07-04T22:57:43.512005Z",
     "start_time": "2018-07-04T22:57:43.442193Z"
    }
   },
   "outputs": [
    {
     "data": {
      "text/plain": [
       "tensor([[ 0.],\n",
       "        [ 0.]], dtype=torch.float64)"
      ]
     },
     "execution_count": 14,
     "metadata": {},
     "output_type": "execute_result"
    }
   ],
   "source": [
    "x.grad"
   ]
  },
  {
   "cell_type": "markdown",
   "metadata": {},
   "source": [
    "## Gradient Descent "
   ]
  },
  {
   "cell_type": "code",
   "execution_count": 15,
   "metadata": {
    "ExecuteTime": {
     "end_time": "2018-07-04T22:57:49.029416Z",
     "start_time": "2018-07-04T22:57:48.957608Z"
    }
   },
   "outputs": [],
   "source": [
    "# Gradient descent\n",
    "lr = 0.1\n",
    "steps = 30\n",
    "\n",
    "def loss(x1, x2):\n",
    "    return (x1 - 2)**2 + (x2 - 5)**2\n",
    "\n",
    "x = torch.tensor(np.array([5., -4.]), requires_grad=True)\n",
    "results = {'x1': [x.detach().numpy()[0]], 'x2': [x.detach().numpy()[1]],\n",
    "           'loss': [loss(x.detach().numpy()[0], x.detach().numpy()[1])]}\n",
    "\n",
    "for i in range(steps):\n",
    "    y = loss(x[0], x[1])\n",
    "    y.backward()\n",
    "    x.data.sub_(lr * x.grad)  # With '_', modifies in place.\n",
    "    x.grad.zero_()\n",
    "    results['x1'].append(x.detach().numpy()[0])\n",
    "    results['x2'].append(x.detach().numpy()[1])\n",
    "    results['loss'].append(y.detach().numpy())\n"
   ]
  },
  {
   "cell_type": "code",
   "execution_count": 16,
   "metadata": {
    "ExecuteTime": {
     "end_time": "2018-07-04T22:57:49.487543Z",
     "start_time": "2018-07-04T22:57:49.286728Z"
    }
   },
   "outputs": [
    {
     "data": {
      "image/png": "[encoded data removed]",
      "text/plain": [
       "<Figure size 864x288 with 1 Axes>"
      ]
     },
     "metadata": {},
     "output_type": "display_data"
    }
   ],
   "source": [
    "res_df = DataFrame.from_dict(results)\n",
    "plt.plot(res_df.loss)\n",
    "plt.axhline(y=0, c='grey', alpha=0.5)\n",
    "plt.show()"
   ]
  },
  {
   "cell_type": "code",
   "execution_count": 17,
   "metadata": {
    "ExecuteTime": {
     "end_time": "2018-07-04T22:57:49.944321Z",
     "start_time": "2018-07-04T22:57:49.709947Z"
    }
   },
   "outputs": [
    {
     "data": {
      "image/png": "[encoded data removed]",
      "text/plain": [
       "<Figure size 864x288 with 1 Axes>"
      ]
     },
     "metadata": {},
     "output_type": "display_data"
    }
   ],
   "source": [
    "res_df.plot()\n",
    "plt.axhline(y=2, c='grey', ls='dashed', alpha=0.5)\n",
    "plt.axhline(y=5, c='grey', ls='dashed', alpha=0.5)\n",
    "plt.axhline(y=0, c='grey', alpha=0.5)\n",
    "plt.show()"
   ]
  },
  {
   "cell_type": "code",
   "execution_count": 18,
   "metadata": {
    "ExecuteTime": {
     "end_time": "2018-07-04T22:57:50.825236Z",
     "start_time": "2018-07-04T22:57:50.744453Z"
    }
   },
   "outputs": [
    {
     "data": {
      "text/html": [
       "<div>\n",
       "<style scoped>\n",
       "    .dataframe tbody tr th:only-of-type {\n",
       "        vertical-align: middle;\n",
       "    }\n",
       "\n",
       "    .dataframe tbody tr th {\n",
       "        vertical-align: top;\n",
       "    }\n",
       "\n",
       "    .dataframe thead th {\n",
       "        text-align: right;\n",
       "    }\n",
       "</style>\n",
       "<table border=\"1\" class=\"dataframe\">\n",
       "  <thead>\n",
       "    <tr style=\"text-align: right;\">\n",
       "      <th></th>\n",
       "      <th>x1</th>\n",
       "      <th>x2</th>\n",
       "      <th>loss</th>\n",
       "    </tr>\n",
       "  </thead>\n",
       "  <tbody>\n",
       "    <tr>\n",
       "      <th>0</th>\n",
       "      <td>5.000000</td>\n",
       "      <td>-4.000000</td>\n",
       "      <td>90</td>\n",
       "    </tr>\n",
       "    <tr>\n",
       "      <th>1</th>\n",
       "      <td>4.400000</td>\n",
       "      <td>-2.200000</td>\n",
       "      <td>90.0</td>\n",
       "    </tr>\n",
       "    <tr>\n",
       "      <th>2</th>\n",
       "      <td>3.920000</td>\n",
       "      <td>-0.760000</td>\n",
       "      <td>57.60000000000001</td>\n",
       "    </tr>\n",
       "    <tr>\n",
       "      <th>3</th>\n",
       "      <td>3.536000</td>\n",
       "      <td>0.392000</td>\n",
       "      <td>36.864</td>\n",
       "    </tr>\n",
       "    <tr>\n",
       "      <th>4</th>\n",
       "      <td>3.228800</td>\n",
       "      <td>1.313600</td>\n",
       "      <td>23.592960000000005</td>\n",
       "    </tr>\n",
       "    <tr>\n",
       "      <th>...</th>\n",
       "      <td>...</td>\n",
       "      <td>...</td>\n",
       "      <td>...</td>\n",
       "    </tr>\n",
       "    <tr>\n",
       "      <th>26</th>\n",
       "      <td>2.009067</td>\n",
       "      <td>4.972799</td>\n",
       "      <td>0.0012845229234353854</td>\n",
       "    </tr>\n",
       "    <tr>\n",
       "      <th>27</th>\n",
       "      <td>2.007254</td>\n",
       "      <td>4.978239</td>\n",
       "      <td>0.0008220946709986565</td>\n",
       "    </tr>\n",
       "    <tr>\n",
       "      <th>28</th>\n",
       "      <td>2.005803</td>\n",
       "      <td>4.982591</td>\n",
       "      <td>0.0005261405894391414</td>\n",
       "    </tr>\n",
       "    <tr>\n",
       "      <th>29</th>\n",
       "      <td>2.004642</td>\n",
       "      <td>4.986073</td>\n",
       "      <td>0.0003367299772410381</td>\n",
       "    </tr>\n",
       "    <tr>\n",
       "      <th>30</th>\n",
       "      <td>2.003714</td>\n",
       "      <td>4.988859</td>\n",
       "      <td>0.00021550718543426853</td>\n",
       "    </tr>\n",
       "  </tbody>\n",
       "</table>\n",
       "<p>31 rows × 3 columns</p>\n",
       "</div>"
      ],
      "text/plain": [
       "          x1        x2                    loss\n",
       "0   5.000000 -4.000000                      90\n",
       "1   4.400000 -2.200000                    90.0\n",
       "2   3.920000 -0.760000       57.60000000000001\n",
       "3   3.536000  0.392000                  36.864\n",
       "4   3.228800  1.313600      23.592960000000005\n",
       "..       ...       ...                     ...\n",
       "26  2.009067  4.972799   0.0012845229234353854\n",
       "27  2.007254  4.978239   0.0008220946709986565\n",
       "28  2.005803  4.982591   0.0005261405894391414\n",
       "29  2.004642  4.986073   0.0003367299772410381\n",
       "30  2.003714  4.988859  0.00021550718543426853\n",
       "\n",
       "[31 rows x 3 columns]"
      ]
     },
     "execution_count": 18,
     "metadata": {},
     "output_type": "execute_result"
    }
   ],
   "source": [
    "res_df"
   ]
  },
  {
   "cell_type": "markdown",
   "metadata": {},
   "source": [
    "## Gradient Descent with Constraints\n",
    "\n",
    "$$ y = (x_1 - 2)^2 + (x_2 - 5)^2, \\quad x_1 >= 3 $$"
   ]
  },
  {
   "cell_type": "code",
   "execution_count": 19,
   "metadata": {
    "ExecuteTime": {
     "end_time": "2018-07-04T22:57:51.794780Z",
     "start_time": "2018-07-04T22:57:51.599174Z"
    },
    "scrolled": true
   },
   "outputs": [],
   "source": [
    "# Gradient descent\n",
    "lr = 0.01\n",
    "steps = 1000\n",
    "\n",
    "def loss(x1, x2):\n",
    "    return (torch.clamp(x1, 3, 4) - 2)**2 + (x2 - 5)**2\n",
    "\n",
    "x = torch.tensor(np.array([3.5, -25.]), requires_grad=True)\n",
    "results = {'x1': [x.detach().numpy()[0]], 'x2': [x.detach().numpy()[1]],\n",
    "           'loss': [loss(x[0], x[1]).detach().numpy()]}\n",
    "\n",
    "for i in range(steps):\n",
    "    y = loss(x[0], x[1])\n",
    "    y.backward()\n",
    "    x.data.sub_(lr * x.grad)  # With '_', modifies in place.\n",
    "    x.grad.zero_()\n",
    "    results['x1'].append(x.detach().numpy()[0])\n",
    "    results['x2'].append(x.detach().numpy()[1])\n",
    "    results['loss'].append(y.detach().numpy())\n"
   ]
  },
  {
   "cell_type": "code",
   "execution_count": 20,
   "metadata": {
    "ExecuteTime": {
     "end_time": "2018-07-04T22:57:52.150023Z",
     "start_time": "2018-07-04T22:57:52.070237Z"
    },
    "scrolled": true
   },
   "outputs": [
    {
     "data": {
      "text/html": [
       "<div>\n",
       "<style scoped>\n",
       "    .dataframe tbody tr th:only-of-type {\n",
       "        vertical-align: middle;\n",
       "    }\n",
       "\n",
       "    .dataframe tbody tr th {\n",
       "        vertical-align: top;\n",
       "    }\n",
       "\n",
       "    .dataframe thead th {\n",
       "        text-align: right;\n",
       "    }\n",
       "</style>\n",
       "<table border=\"1\" class=\"dataframe\">\n",
       "  <thead>\n",
       "    <tr style=\"text-align: right;\">\n",
       "      <th></th>\n",
       "      <th>x1</th>\n",
       "      <th>x2</th>\n",
       "      <th>loss</th>\n",
       "    </tr>\n",
       "  </thead>\n",
       "  <tbody>\n",
       "    <tr>\n",
       "      <th>0</th>\n",
       "      <td>3.500000</td>\n",
       "      <td>-25.000000</td>\n",
       "      <td>902.25</td>\n",
       "    </tr>\n",
       "    <tr>\n",
       "      <th>1</th>\n",
       "      <td>3.470000</td>\n",
       "      <td>-24.400000</td>\n",
       "      <td>902.25</td>\n",
       "    </tr>\n",
       "    <tr>\n",
       "      <th>2</th>\n",
       "      <td>3.440600</td>\n",
       "      <td>-23.812000</td>\n",
       "      <td>866.5208999999999</td>\n",
       "    </tr>\n",
       "    <tr>\n",
       "      <th>3</th>\n",
       "      <td>3.411788</td>\n",
       "      <td>-23.235760</td>\n",
       "      <td>832.2066723599999</td>\n",
       "    </tr>\n",
       "    <tr>\n",
       "      <th>4</th>\n",
       "      <td>3.383552</td>\n",
       "      <td>-22.671045</td>\n",
       "      <td>799.2512881345439</td>\n",
       "    </tr>\n",
       "    <tr>\n",
       "      <th>...</th>\n",
       "      <td>...</td>\n",
       "      <td>...</td>\n",
       "      <td>...</td>\n",
       "    </tr>\n",
       "    <tr>\n",
       "      <th>996</th>\n",
       "      <td>2.981384</td>\n",
       "      <td>5.000000</td>\n",
       "      <td>1.000000000000003</td>\n",
       "    </tr>\n",
       "    <tr>\n",
       "      <th>997</th>\n",
       "      <td>2.981384</td>\n",
       "      <td>5.000000</td>\n",
       "      <td>1.0000000000000029</td>\n",
       "    </tr>\n",
       "    <tr>\n",
       "      <th>998</th>\n",
       "      <td>2.981384</td>\n",
       "      <td>5.000000</td>\n",
       "      <td>1.0000000000000029</td>\n",
       "    </tr>\n",
       "    <tr>\n",
       "      <th>999</th>\n",
       "      <td>2.981384</td>\n",
       "      <td>5.000000</td>\n",
       "      <td>1.0000000000000027</td>\n",
       "    </tr>\n",
       "    <tr>\n",
       "      <th>1000</th>\n",
       "      <td>2.981384</td>\n",
       "      <td>5.000000</td>\n",
       "      <td>1.0000000000000027</td>\n",
       "    </tr>\n",
       "  </tbody>\n",
       "</table>\n",
       "<p>1001 rows × 3 columns</p>\n",
       "</div>"
      ],
      "text/plain": [
       "            x1         x2                loss\n",
       "0     3.500000 -25.000000              902.25\n",
       "1     3.470000 -24.400000              902.25\n",
       "2     3.440600 -23.812000   866.5208999999999\n",
       "3     3.411788 -23.235760   832.2066723599999\n",
       "4     3.383552 -22.671045   799.2512881345439\n",
       "...        ...        ...                 ...\n",
       "996   2.981384   5.000000   1.000000000000003\n",
       "997   2.981384   5.000000  1.0000000000000029\n",
       "998   2.981384   5.000000  1.0000000000000029\n",
       "999   2.981384   5.000000  1.0000000000000027\n",
       "1000  2.981384   5.000000  1.0000000000000027\n",
       "\n",
       "[1001 rows x 3 columns]"
      ]
     },
     "execution_count": 20,
     "metadata": {},
     "output_type": "execute_result"
    }
   ],
   "source": [
    "res_df = DataFrame.from_dict(results)\n",
    "res_df"
   ]
  },
  {
   "cell_type": "code",
   "execution_count": 21,
   "metadata": {
    "ExecuteTime": {
     "end_time": "2018-07-04T22:57:52.738594Z",
     "start_time": "2018-07-04T22:57:52.581869Z"
    }
   },
   "outputs": [
    {
     "data": {
      "image/png": "[encoded data removed]",
      "text/plain": [
       "<Figure size 864x288 with 1 Axes>"
      ]
     },
     "metadata": {},
     "output_type": "display_data"
    }
   ],
   "source": [
    "res_df = DataFrame.from_dict(results)\n",
    "plt.plot(res_df.loss)\n",
    "plt.axhline(y=0, c='grey', alpha=0.5)\n",
    "plt.show()"
   ]
  },
  {
   "cell_type": "code",
   "execution_count": 22,
   "metadata": {
    "ExecuteTime": {
     "end_time": "2018-07-04T22:57:53.503358Z",
     "start_time": "2018-07-04T22:57:53.317924Z"
    }
   },
   "outputs": [
    {
     "data": {
      "image/png": "[encoded data removed]",
      "text/plain": [
       "<Figure size 864x288 with 1 Axes>"
      ]
     },
     "metadata": {},
     "output_type": "display_data"
    }
   ],
   "source": [
    "res_df.plot()\n",
    "plt.axhline(y=2, c='grey', ls='dashed', alpha=0.5)\n",
    "plt.axhline(y=5, c='grey', ls='dashed', alpha=0.5)\n",
    "plt.axhline(y=0, c='grey', alpha=0.5)\n",
    "plt.show()"
   ]
  },
  {
   "cell_type": "markdown",
   "metadata": {},
   "source": [
    "## Exponential Smoothing Optimization\n",
    "\n",
    "We compare an arithmetic moving average with an exponential smoothing of the same series, defined as:\n",
    "\n",
    "$$ \\text{Moving average} = MAV_t(n) = \\frac{1}{\\min(n, t)} \\sum_{i=1}^{\\min(n, t)} x_{t + 1 - i} $$ \n",
    "\n",
    "$$ \\text{Exponential smoothing} = ES_t(a) = a\\cdot x_t + (1 - a)\\cdot ES_{t - 1}, \\quad ES_1(a) = x_1. $$\n",
    "\n",
    "The excersice consists of finding the value of $a$ for which we minimize the mean squared error (MSE) between $MAV(n)$ and $ES(a)$ for a given $n$.\n",
    "\n",
    "The teoretical value is:\n",
    "\n",
    "$$ a^{*} = \\frac{2}{n + 1} $$"
   ]
  },
  {
   "cell_type": "code",
   "execution_count": 23,
   "metadata": {
    "ExecuteTime": {
     "end_time": "2018-07-04T22:57:58.854802Z",
     "start_time": "2018-07-04T22:57:58.777010Z"
    }
   },
   "outputs": [],
   "source": [
    "N = 1000\n",
    "n = 100\n",
    "a = 0.1\n",
    "x = np.cumsum(np.random.randn(N))"
   ]
  },
  {
   "cell_type": "code",
   "execution_count": 24,
   "metadata": {
    "ExecuteTime": {
     "end_time": "2018-07-04T22:57:59.213843Z",
     "start_time": "2018-07-04T22:57:59.142036Z"
    }
   },
   "outputs": [],
   "source": [
    "def moving_average(x, n):\n",
    "    mav = x.copy()\n",
    "    for i in range(1, len(mav)):\n",
    "        mav[i] = np.mean(x[:i][-n:])\n",
    "    return(mav)\n",
    "\n",
    "\n",
    "def exponential_smoothing(x, a):\n",
    "    esm = x.copy()\n",
    "    for i in range(1, len(esm)):\n",
    "        esm[i] = a * x[i] + (1 - a) * esm[i - 1]\n",
    "    return(esm)"
   ]
  },
  {
   "cell_type": "code",
   "execution_count": 25,
   "metadata": {
    "ExecuteTime": {
     "end_time": "2018-07-04T22:58:00.250169Z",
     "start_time": "2018-07-04T22:58:00.031270Z"
    },
    "scrolled": true
   },
   "outputs": [
    {
     "data": {
      "image/png": "[encoded data removed]",
      "text/plain": [
       "<Figure size 864x288 with 1 Axes>"
      ]
     },
     "metadata": {},
     "output_type": "display_data"
    }
   ],
   "source": [
    "plt.plot(x)\n",
    "plt.plot(moving_average(x, n))\n",
    "plt.plot(exponential_smoothing(x, 2 / (n + 1)))\n",
    "plt.plot(exponential_smoothing(x, a))\n",
    "plt.show()"
   ]
  },
  {
   "cell_type": "code",
   "execution_count": 26,
   "metadata": {
    "ExecuteTime": {
     "end_time": "2018-07-04T22:58:03.512695Z",
     "start_time": "2018-07-04T22:58:03.422937Z"
    }
   },
   "outputs": [
    {
     "name": "stdout",
     "output_type": "stream",
     "text": [
      "tensor(0.1000, dtype=torch.float64)\n"
     ]
    }
   ],
   "source": [
    "mav = moving_average(x, n)\n",
    "mav_t = torch.tensor(mav)\n",
    "a_t = torch.tensor(a, dtype=torch.float64, requires_grad=True)\n",
    "x_t = torch.tensor(x)\n",
    "print(a_t)\n",
    "# print(x_t)\n",
    "# print(mav_t)"
   ]
  },
  {
   "cell_type": "code",
   "execution_count": 27,
   "metadata": {
    "ExecuteTime": {
     "end_time": "2018-07-04T22:58:04.332531Z",
     "start_time": "2018-07-04T22:58:04.246762Z"
    }
   },
   "outputs": [],
   "source": [
    "esa = np.zeros_like(x)\n",
    "# print(esa)"
   ]
  },
  {
   "cell_type": "code",
   "execution_count": 28,
   "metadata": {
    "ExecuteTime": {
     "end_time": "2018-07-04T22:58:04.711474Z",
     "start_time": "2018-07-04T22:58:04.631688Z"
    }
   },
   "outputs": [
    {
     "name": "stdout",
     "output_type": "stream",
     "text": [
      "tensor(-0.5615, dtype=torch.float64)\n"
     ]
    }
   ],
   "source": [
    "esa_t = x_t[0]\n",
    "esa[0] = esa_t.detach().numpy()\n",
    "loss = torch.zeros_like(esa_t)\n",
    "print(esa_t)\n",
    "# print(esa)\n",
    "# print(loss)"
   ]
  },
  {
   "cell_type": "code",
   "execution_count": 29,
   "metadata": {
    "ExecuteTime": {
     "end_time": "2018-07-04T22:58:04.996711Z",
     "start_time": "2018-07-04T22:58:04.927896Z"
    }
   },
   "outputs": [
    {
     "name": "stdout",
     "output_type": "stream",
     "text": [
      "tensor(-0.4945, dtype=torch.float64)\n",
      "tensor(1.00000e-03 *\n",
      "       4.4929, dtype=torch.float64)\n"
     ]
    }
   ],
   "source": [
    "esa_t = a_t * x_t[1] + (1 - a_t) * esa_t\n",
    "esa[1] = esa_t.detach().numpy()\n",
    "loss = loss.add((esa_t - mav_t[1]).pow(2))\n",
    "print(esa_t)\n",
    "# print(esa)\n",
    "print(loss)"
   ]
  },
  {
   "cell_type": "code",
   "execution_count": 30,
   "metadata": {
    "ExecuteTime": {
     "end_time": "2018-07-04T22:58:05.651765Z",
     "start_time": "2018-07-04T22:58:05.559216Z"
    }
   },
   "outputs": [],
   "source": [
    "loss.backward()"
   ]
  },
  {
   "cell_type": "markdown",
   "metadata": {},
   "source": [
    "### Gradient Descent with `torch.optim` \n",
    "\n",
    "See [`torch.optim`](https://pytorch.org/docs/stable/optim.html?highlight=zero_grad)"
   ]
  },
  {
   "cell_type": "code",
   "execution_count": 35,
   "metadata": {
    "ExecuteTime": {
     "end_time": "2018-07-04T22:58:18.770937Z",
     "start_time": "2018-07-04T22:58:15.352216Z"
    }
   },
   "outputs": [],
   "source": [
    "lr = 1e-2\n",
    "steps = 50\n",
    "\n",
    "n = np.random.randint(10, N//10)\n",
    "a = np.random.rand(1)\n",
    "mav = moving_average(x, n)\n",
    "mav_t = torch.tensor(mav)\n",
    "a_t = torch.tensor(a, dtype=torch.float64, requires_grad=True)\n",
    "x_t = torch.tensor(x)\n",
    "\n",
    "A = np.zeros(steps)\n",
    "Losses = np.zeros(steps)\n",
    "\n",
    "optimizer = torch.optim.Adam([a_t], lr=lr)\n",
    "for i in range(steps):\n",
    "    \n",
    "    optimizer.zero_grad()\n",
    "    A[i] = a_t.detach().numpy()\n",
    "    \n",
    "    # Forward...\n",
    "    esa = np.zeros_like(x)\n",
    "    esa_t = x_t[0]\n",
    "    \n",
    "    esa[0] = esa_t.detach().numpy()\n",
    "    loss = torch.zeros_like(esa_t)\n",
    "    for j in range(1, len(x_t)):\n",
    "        esa_t = a_t * x_t[j] + (1 - a_t) * esa_t\n",
    "        esa[j] = esa_t.detach().numpy()\n",
    "        loss = loss.add((esa_t - mav_t[j]).pow(2))\n",
    "    \n",
    "    Losses[i] = loss.detach().numpy()\n",
    "    \n",
    "    # Backwards\n",
    "    loss.backward()\n",
    "    optimizer.step()\n",
    "   \n"
   ]
  },
  {
   "cell_type": "code",
   "execution_count": 36,
   "metadata": {
    "ExecuteTime": {
     "end_time": "2018-07-04T22:58:19.010496Z",
     "start_time": "2018-07-04T22:58:18.770937Z"
    },
    "scrolled": true
   },
   "outputs": [
    {
     "data": {
      "image/png": "[encoded data removed]",
      "text/plain": [
       "<Figure size 864x288 with 2 Axes>"
      ]
     },
     "metadata": {},
     "output_type": "display_data"
    }
   ],
   "source": [
    "plt.subplot(2, 1, 1)\n",
    "plt.plot(Losses, label='loss'); plt.legend()\n",
    "plt.subplot(2, 1, 2)\n",
    "plt.plot(A, label='a'); plt.legend()\n",
    "plt.axhline(y = 2 / (n + 1), c='grey', alpha=0.5, ls='dashed')\n",
    "plt.axhline(y = 0, c='grey', alpha=0.5)\n",
    "plt.axhline(y = 1, c='grey', alpha=0.5)\n",
    "plt.show()"
   ]
  },
  {
   "cell_type": "code",
   "execution_count": 37,
   "metadata": {
    "ExecuteTime": {
     "end_time": "2018-07-04T22:58:19.106240Z",
     "start_time": "2018-07-04T22:58:19.011494Z"
    }
   },
   "outputs": [
    {
     "name": "stdout",
     "output_type": "stream",
     "text": [
      "a*: 0.02617763115299853\n",
      "n*: 75.40110704863794\n",
      "n: 78\n",
      "\n",
      "Theoretical MSE: 9.952619517854757\n",
      "Gradient Descent MSE: 9.952619517854757\n"
     ]
    }
   ],
   "source": [
    "print('a*:', a_t.item())\n",
    "print('n*:', 2 / a_t.item() - 1)\n",
    "print('n:', n)\n",
    "print('')\n",
    "print('Theoretical MSE:', np.mean((x - exponential_smoothing(x, a_t.item()))**2))\n",
    "print('Gradient Descent MSE:', np.mean((x - exponential_smoothing(x, a_t.item()))**2))"
   ]
  },
  {
   "cell_type": "code",
   "execution_count": 38,
   "metadata": {
    "ExecuteTime": {
     "end_time": "2018-07-04T22:58:19.318672Z",
     "start_time": "2018-07-04T22:58:19.108236Z"
    },
    "scrolled": true
   },
   "outputs": [
    {
     "data": {
      "image/png": "[encoded data removed]",
      "text/plain": [
       "<Figure size 864x288 with 1 Axes>"
      ]
     },
     "metadata": {},
     "output_type": "display_data"
    }
   ],
   "source": [
    "plt.plot(x)\n",
    "plt.plot(moving_average(x, n), label='moving average')\n",
    "plt.plot(exponential_smoothing(x, a_t.item()), label='GD exp. smoothing')\n",
    "plt.plot(exponential_smoothing(x, 2 / (n + 1)), label='Theoretical exp. smoothing')\n",
    "plt.show()"
   ]
  },
  {
   "cell_type": "code",
   "execution_count": null,
   "metadata": {},
   "outputs": [],
   "source": []
  }
 ],
 "metadata": {
  "kernelspec": {
   "display_name": "Python 3",
   "language": "python",
   "name": "python3"
  },
  "language_info": {
   "codemirror_mode": {
    "name": "ipython",
    "version": 3
   },
   "file_extension": ".py",
   "mimetype": "text/x-python",
   "name": "python",
   "nbconvert_exporter": "python",
   "pygments_lexer": "ipython3",
   "version": "3.6.5"
  },
  "toc": {
   "base_numbering": 1,
   "nav_menu": {},
   "number_sections": true,
   "sideBar": true,
   "skip_h1_title": false,
   "title_cell": "Table of Contents",
   "title_sidebar": "Contents",
   "toc_cell": false,
   "toc_position": {},
   "toc_section_display": true,
   "toc_window_display": false
  }
 },
 "nbformat": 4,
 "nbformat_minor": 2
}
