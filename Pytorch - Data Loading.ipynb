{
 "cells": [
  {
   "cell_type": "markdown",
   "metadata": {},
   "source": [
    "# Introduction\n",
    "\n",
    "See PyTorch's [Data Loading and Processing Tutorial](https://pytorch.org/tutorials/beginner/data_loading_tutorial.html)."
   ]
  },
  {
   "cell_type": "code",
   "execution_count": 1,
   "metadata": {
    "ExecuteTime": {
     "end_time": "2018-08-10T20:08:36.577420Z",
     "start_time": "2018-08-10T20:08:35.937677Z"
    }
   },
   "outputs": [],
   "source": [
    "# Put these at the top of every notebook, to get automatic reloading and inline plotting\n",
    "%reload_ext autoreload\n",
    "%autoreload 2\n",
    "%matplotlib inline"
   ]
  },
  {
   "cell_type": "code",
   "execution_count": 2,
   "metadata": {
    "ExecuteTime": {
     "end_time": "2018-08-10T20:08:39.001048Z",
     "start_time": "2018-08-10T20:08:36.580029Z"
    },
    "scrolled": true
   },
   "outputs": [
    {
     "name": "stderr",
     "output_type": "stream",
     "text": [
      "//anaconda/envs/fastai-cpu2/lib/python3.6/importlib/_bootstrap.py:219: RuntimeWarning: numpy.dtype size changed, may indicate binary incompatibility. Expected 96, got 88\n",
      "  return f(*args, **kwds)\n",
      "//anaconda/envs/fastai-cpu2/lib/python3.6/site-packages/sklearn/ensemble/weight_boosting.py:29: DeprecationWarning: numpy.core.umath_tests is an internal NumPy module and should not be imported. It will be removed in a future NumPy release.\n",
      "  from numpy.core.umath_tests import inner1d\n"
     ]
    }
   ],
   "source": [
    "from fastai.learner import *\n",
    "from fastai.column_data import *"
   ]
  },
  {
   "cell_type": "code",
   "execution_count": 3,
   "metadata": {
    "ExecuteTime": {
     "end_time": "2018-08-10T20:08:39.174286Z",
     "start_time": "2018-08-10T20:08:39.003459Z"
    }
   },
   "outputs": [],
   "source": [
    "from datetime import datetime\n",
    "from torchvision import transforms\n",
    "import torch.nn as nn\n",
    "from utils import *\n",
    "plt.rcParams['figure.figsize'] = [12, 4]\n",
    "pd.set_option('display.max_rows', 11)"
   ]
  },
  {
   "cell_type": "code",
   "execution_count": 4,
   "metadata": {
    "ExecuteTime": {
     "end_time": "2018-08-10T20:08:39.237987Z",
     "start_time": "2018-08-10T20:08:39.176658Z"
    }
   },
   "outputs": [],
   "source": [
    "# import os\n",
    "# import re\n",
    "# import dill as pickle\n",
    "# import itertools\n",
    "# from datetime import datetime\n",
    "# from tqdm import tqdm_notebook\n",
    "# import numpy as np\n",
    "# import pandas as pd\n",
    "# from pandas import Series, DataFrame\n",
    "# pd.set_option('display.max_rows', 40)\n",
    "# import matplotlib as mpl\n",
    "# from matplotlib import pyplot as plt\n",
    "# import matplotlib.transforms as mtransforms\n",
    "# plt.rcParams['figure.figsize'] = [12, 4]\n",
    "\n",
    "# from sklearn.metrics import confusion_matrix\n",
    "\n",
    "# from utils import *\n",
    "\n",
    "# import torch\n",
    "# from torch.utils.data import Dataset, DataLoader\n",
    "# from torchvision import transforms\n",
    "# import torch.nn as nn\n",
    "# import torch.optim as optim"
   ]
  },
  {
   "cell_type": "markdown",
   "metadata": {},
   "source": [
    "# Simulated prices\n",
    "\n",
    "**// TO DO:**\n",
    "\n",
    "* Define a class that inherits `ModelData` from fastai's **dataset.py** with `trn_dl`, `trn_ds`, `val_dl`, `val_ds`, `test_dl`, `test_ds`. See fastai's **column_data.py** and **model.py**.\n",
    "* Define a learner that inherits from class `Learner` (see **learner.py**).\n",
    "* Add a `get_learner` method as in fastai's [column_data.py](https://github.com/fastai/fastai/blob/master/fastai/column_data.py) `CollabFilterDataset`.\n",
    "\n",
    "\n",
    "* Simulated data ($L$ days) split between train data (days $0$ to $L_T$) and validation data (days $L_T - warmup$ to $L$).\n",
    "* Test data: new simulation.\n",
    "* Simulation of prices with different volatilities, drifts, return distributions and autocorrelation.\n"
   ]
  },
  {
   "cell_type": "markdown",
   "metadata": {},
   "source": [
    "## Data Generation"
   ]
  },
  {
   "cell_type": "code",
   "execution_count": 5,
   "metadata": {
    "ExecuteTime": {
     "end_time": "2018-08-10T20:08:42.815331Z",
     "start_time": "2018-08-10T20:08:42.763848Z"
    }
   },
   "outputs": [],
   "source": [
    "def sim_path(N=500, sigma=0.35, S0=1, dt=1/250,\n",
    "             mu=[0.05, 0.05], P=np.array([[0.95, 0.05], [0.1, 0.9]]),\n",
    "             wdt_hl=2):\n",
    "    \n",
    "    # State simulation\n",
    "    state = np.random.randint(0, 2)\n",
    "    states = [state]\n",
    "    for t in range(N - 1):\n",
    "        state = int(np.random.multinomial(1, P[state, :]).argmax())\n",
    "        states.append(state)\n",
    "    \n",
    "    # Price simulation\n",
    "    drift = (np.array([mu[s] for s in states[1:]]) - 0.5 * sigma**2) * dt\n",
    "    wiener = np.random.randn(N - 1) * sigma * np.sqrt(dt)\n",
    "\n",
    "    S = S0 * np.concatenate((np.ones(1), np.exp(np.cumsum(drift + wiener))))\n",
    "    \n",
    "    res_df = DataFrame(data=dict(Close=S))\n",
    "    res_df = res_df.assign(Date = pd.date_range(start=datetime(2018, 1, 1),\n",
    "                                                periods=N, freq='D')).set_index('Date')\n",
    "    \n",
    "    res_df = res_df.assign(Open = res_df.Close.shift(-1).fillna(method='ffill') * \\\n",
    "                                    np.exp((np.random.rand(N) - 0.5) * sigma * np.sqrt(dt)))\n",
    "    \n",
    "    res_df = res_df.assign(High = res_df[['Open', 'Close']].max(axis=1) * \\\n",
    "                                np.exp(np.random.rand(N) * wdt_hl * sigma * np.sqrt(dt)),\n",
    "                           Low = res_df[['Open', 'Close']].min(axis=1) * \\\n",
    "                                np.exp(- np.random.rand(N) * wdt_hl * sigma * np.sqrt(dt)))\n",
    "\n",
    "    return res_df[['Open', 'High', 'Low', 'Close']]"
   ]
  },
  {
   "cell_type": "code",
   "execution_count": 6,
   "metadata": {
    "ExecuteTime": {
     "end_time": "2018-08-10T20:08:44.089747Z",
     "start_time": "2018-08-10T20:08:43.786337Z"
    }
   },
   "outputs": [
    {
     "data": {
      "text/html": [
       "<div>\n",
       "<style scoped>\n",
       "    .dataframe tbody tr th:only-of-type {\n",
       "        vertical-align: middle;\n",
       "    }\n",
       "\n",
       "    .dataframe tbody tr th {\n",
       "        vertical-align: top;\n",
       "    }\n",
       "\n",
       "    .dataframe thead th {\n",
       "        text-align: right;\n",
       "    }\n",
       "</style>\n",
       "<table border=\"1\" class=\"dataframe\">\n",
       "  <thead>\n",
       "    <tr style=\"text-align: right;\">\n",
       "      <th></th>\n",
       "      <th>Open</th>\n",
       "      <th>High</th>\n",
       "      <th>Low</th>\n",
       "      <th>Close</th>\n",
       "      <th>Smoothed</th>\n",
       "      <th>Trend</th>\n",
       "      <th>n_Trend</th>\n",
       "      <th>Max_Drawdown</th>\n",
       "      <th>ATR</th>\n",
       "      <th>max_TR</th>\n",
       "      <th>min_TR</th>\n",
       "      <th>Ratio</th>\n",
       "      <th>ICAGR</th>\n",
       "      <th>Bliss</th>\n",
       "      <th>Trend_Start</th>\n",
       "      <th>Trend_End</th>\n",
       "      <th>Ch</th>\n",
       "      <th>Ch2</th>\n",
       "      <th>Ch3</th>\n",
       "      <th>Ch4</th>\n",
       "    </tr>\n",
       "    <tr>\n",
       "      <th>Date</th>\n",
       "      <th></th>\n",
       "      <th></th>\n",
       "      <th></th>\n",
       "      <th></th>\n",
       "      <th></th>\n",
       "      <th></th>\n",
       "      <th></th>\n",
       "      <th></th>\n",
       "      <th></th>\n",
       "      <th></th>\n",
       "      <th></th>\n",
       "      <th></th>\n",
       "      <th></th>\n",
       "      <th></th>\n",
       "      <th></th>\n",
       "      <th></th>\n",
       "      <th></th>\n",
       "      <th></th>\n",
       "      <th></th>\n",
       "      <th></th>\n",
       "    </tr>\n",
       "  </thead>\n",
       "  <tbody>\n",
       "    <tr>\n",
       "      <th>2018-01-01</th>\n",
       "      <td>1.024561</td>\n",
       "      <td>1.069049</td>\n",
       "      <td>0.960043</td>\n",
       "      <td>1.000000</td>\n",
       "      <td>1.076109</td>\n",
       "      <td>1.0</td>\n",
       "      <td>1.0</td>\n",
       "      <td>0.249231</td>\n",
       "      <td>0.068791</td>\n",
       "      <td>0.155075</td>\n",
       "      <td>0.018812</td>\n",
       "      <td>1.539729</td>\n",
       "      <td>1.257701</td>\n",
       "      <td>5.046321</td>\n",
       "      <td>2018-01-01</td>\n",
       "      <td>2018-05-06</td>\n",
       "      <td>0.000000</td>\n",
       "      <td>0.000000</td>\n",
       "      <td>0.000000e+00</td>\n",
       "      <td>0.000000e+00</td>\n",
       "    </tr>\n",
       "    <tr>\n",
       "      <th>2018-01-02</th>\n",
       "      <td>1.024381</td>\n",
       "      <td>1.070546</td>\n",
       "      <td>1.009288</td>\n",
       "      <td>1.021137</td>\n",
       "      <td>1.076289</td>\n",
       "      <td>1.0</td>\n",
       "      <td>1.0</td>\n",
       "      <td>NaN</td>\n",
       "      <td>NaN</td>\n",
       "      <td>NaN</td>\n",
       "      <td>NaN</td>\n",
       "      <td>NaN</td>\n",
       "      <td>NaN</td>\n",
       "      <td>NaN</td>\n",
       "      <td>2018-01-01</td>\n",
       "      <td>2018-05-06</td>\n",
       "      <td>0.020917</td>\n",
       "      <td>0.000438</td>\n",
       "      <td>9.151109e-06</td>\n",
       "      <td>1.914102e-07</td>\n",
       "    </tr>\n",
       "    <tr>\n",
       "      <th>2018-01-03</th>\n",
       "      <td>1.044894</td>\n",
       "      <td>1.057524</td>\n",
       "      <td>1.027569</td>\n",
       "      <td>1.028179</td>\n",
       "      <td>1.076587</td>\n",
       "      <td>1.0</td>\n",
       "      <td>1.0</td>\n",
       "      <td>NaN</td>\n",
       "      <td>NaN</td>\n",
       "      <td>NaN</td>\n",
       "      <td>NaN</td>\n",
       "      <td>NaN</td>\n",
       "      <td>NaN</td>\n",
       "      <td>NaN</td>\n",
       "      <td>2018-01-01</td>\n",
       "      <td>2018-05-06</td>\n",
       "      <td>0.006873</td>\n",
       "      <td>0.000047</td>\n",
       "      <td>3.246429e-07</td>\n",
       "      <td>2.231214e-09</td>\n",
       "    </tr>\n",
       "    <tr>\n",
       "      <th>2018-01-04</th>\n",
       "      <td>1.034471</td>\n",
       "      <td>1.053392</td>\n",
       "      <td>1.002190</td>\n",
       "      <td>1.047624</td>\n",
       "      <td>1.077003</td>\n",
       "      <td>1.0</td>\n",
       "      <td>1.0</td>\n",
       "      <td>NaN</td>\n",
       "      <td>NaN</td>\n",
       "      <td>NaN</td>\n",
       "      <td>NaN</td>\n",
       "      <td>NaN</td>\n",
       "      <td>NaN</td>\n",
       "      <td>NaN</td>\n",
       "      <td>2018-01-01</td>\n",
       "      <td>2018-05-06</td>\n",
       "      <td>0.018735</td>\n",
       "      <td>0.000351</td>\n",
       "      <td>6.575888e-06</td>\n",
       "      <td>1.231986e-07</td>\n",
       "    </tr>\n",
       "    <tr>\n",
       "      <th>2018-01-05</th>\n",
       "      <td>1.036301</td>\n",
       "      <td>1.077029</td>\n",
       "      <td>1.019179</td>\n",
       "      <td>1.035107</td>\n",
       "      <td>1.077534</td>\n",
       "      <td>1.0</td>\n",
       "      <td>1.0</td>\n",
       "      <td>NaN</td>\n",
       "      <td>NaN</td>\n",
       "      <td>NaN</td>\n",
       "      <td>NaN</td>\n",
       "      <td>NaN</td>\n",
       "      <td>NaN</td>\n",
       "      <td>NaN</td>\n",
       "      <td>2018-01-01</td>\n",
       "      <td>2018-05-06</td>\n",
       "      <td>-0.012020</td>\n",
       "      <td>0.000144</td>\n",
       "      <td>-1.736588e-06</td>\n",
       "      <td>2.087352e-08</td>\n",
       "    </tr>\n",
       "    <tr>\n",
       "      <th>...</th>\n",
       "      <td>...</td>\n",
       "      <td>...</td>\n",
       "      <td>...</td>\n",
       "      <td>...</td>\n",
       "      <td>...</td>\n",
       "      <td>...</td>\n",
       "      <td>...</td>\n",
       "      <td>...</td>\n",
       "      <td>...</td>\n",
       "      <td>...</td>\n",
       "      <td>...</td>\n",
       "      <td>...</td>\n",
       "      <td>...</td>\n",
       "      <td>...</td>\n",
       "      <td>...</td>\n",
       "      <td>...</td>\n",
       "      <td>...</td>\n",
       "      <td>...</td>\n",
       "      <td>...</td>\n",
       "      <td>...</td>\n",
       "    </tr>\n",
       "    <tr>\n",
       "      <th>2019-05-11</th>\n",
       "      <td>2.320963</td>\n",
       "      <td>2.352028</td>\n",
       "      <td>2.186797</td>\n",
       "      <td>2.264309</td>\n",
       "      <td>2.235146</td>\n",
       "      <td>1.0</td>\n",
       "      <td>3.0</td>\n",
       "      <td>NaN</td>\n",
       "      <td>NaN</td>\n",
       "      <td>NaN</td>\n",
       "      <td>NaN</td>\n",
       "      <td>NaN</td>\n",
       "      <td>NaN</td>\n",
       "      <td>NaN</td>\n",
       "      <td>2018-08-28</td>\n",
       "      <td>2019-05-15</td>\n",
       "      <td>-0.030382</td>\n",
       "      <td>0.000923</td>\n",
       "      <td>-2.804449e-05</td>\n",
       "      <td>8.520467e-07</td>\n",
       "    </tr>\n",
       "    <tr>\n",
       "      <th>2019-05-12</th>\n",
       "      <td>2.407920</td>\n",
       "      <td>2.454546</td>\n",
       "      <td>2.224760</td>\n",
       "      <td>2.299060</td>\n",
       "      <td>2.236398</td>\n",
       "      <td>1.0</td>\n",
       "      <td>3.0</td>\n",
       "      <td>NaN</td>\n",
       "      <td>NaN</td>\n",
       "      <td>NaN</td>\n",
       "      <td>NaN</td>\n",
       "      <td>NaN</td>\n",
       "      <td>NaN</td>\n",
       "      <td>NaN</td>\n",
       "      <td>2018-08-28</td>\n",
       "      <td>2019-05-15</td>\n",
       "      <td>0.015231</td>\n",
       "      <td>0.000232</td>\n",
       "      <td>3.533165e-06</td>\n",
       "      <td>5.381275e-08</td>\n",
       "    </tr>\n",
       "    <tr>\n",
       "      <th>2019-05-13</th>\n",
       "      <td>2.404358</td>\n",
       "      <td>2.518878</td>\n",
       "      <td>2.306011</td>\n",
       "      <td>2.415800</td>\n",
       "      <td>2.237294</td>\n",
       "      <td>1.0</td>\n",
       "      <td>3.0</td>\n",
       "      <td>NaN</td>\n",
       "      <td>NaN</td>\n",
       "      <td>NaN</td>\n",
       "      <td>NaN</td>\n",
       "      <td>NaN</td>\n",
       "      <td>NaN</td>\n",
       "      <td>NaN</td>\n",
       "      <td>2018-08-28</td>\n",
       "      <td>2019-05-15</td>\n",
       "      <td>0.049530</td>\n",
       "      <td>0.002453</td>\n",
       "      <td>1.215079e-04</td>\n",
       "      <td>6.018284e-06</td>\n",
       "    </tr>\n",
       "    <tr>\n",
       "      <th>2019-05-14</th>\n",
       "      <td>2.461200</td>\n",
       "      <td>2.477918</td>\n",
       "      <td>2.391453</td>\n",
       "      <td>2.401261</td>\n",
       "      <td>2.237833</td>\n",
       "      <td>1.0</td>\n",
       "      <td>3.0</td>\n",
       "      <td>NaN</td>\n",
       "      <td>NaN</td>\n",
       "      <td>NaN</td>\n",
       "      <td>NaN</td>\n",
       "      <td>NaN</td>\n",
       "      <td>NaN</td>\n",
       "      <td>NaN</td>\n",
       "      <td>2018-08-28</td>\n",
       "      <td>2019-05-15</td>\n",
       "      <td>-0.006036</td>\n",
       "      <td>0.000036</td>\n",
       "      <td>-2.199427e-07</td>\n",
       "      <td>1.327637e-09</td>\n",
       "    </tr>\n",
       "    <tr>\n",
       "      <th>2019-05-15</th>\n",
       "      <td>2.476468</td>\n",
       "      <td>2.512128</td>\n",
       "      <td>2.377510</td>\n",
       "      <td>2.449367</td>\n",
       "      <td>2.238013</td>\n",
       "      <td>1.0</td>\n",
       "      <td>3.0</td>\n",
       "      <td>NaN</td>\n",
       "      <td>NaN</td>\n",
       "      <td>NaN</td>\n",
       "      <td>NaN</td>\n",
       "      <td>NaN</td>\n",
       "      <td>NaN</td>\n",
       "      <td>NaN</td>\n",
       "      <td>2018-08-28</td>\n",
       "      <td>2019-05-15</td>\n",
       "      <td>0.019835</td>\n",
       "      <td>0.000393</td>\n",
       "      <td>7.804209e-06</td>\n",
       "      <td>1.548003e-07</td>\n",
       "    </tr>\n",
       "  </tbody>\n",
       "</table>\n",
       "<p>500 rows × 20 columns</p>\n",
       "</div>"
      ],
      "text/plain": [
       "                Open      High       Low     Close  Smoothed  Trend  n_Trend  \\\n",
       "Date                                                                           \n",
       "2018-01-01  1.024561  1.069049  0.960043  1.000000  1.076109    1.0      1.0   \n",
       "2018-01-02  1.024381  1.070546  1.009288  1.021137  1.076289    1.0      1.0   \n",
       "2018-01-03  1.044894  1.057524  1.027569  1.028179  1.076587    1.0      1.0   \n",
       "2018-01-04  1.034471  1.053392  1.002190  1.047624  1.077003    1.0      1.0   \n",
       "2018-01-05  1.036301  1.077029  1.019179  1.035107  1.077534    1.0      1.0   \n",
       "...              ...       ...       ...       ...       ...    ...      ...   \n",
       "2019-05-11  2.320963  2.352028  2.186797  2.264309  2.235146    1.0      3.0   \n",
       "2019-05-12  2.407920  2.454546  2.224760  2.299060  2.236398    1.0      3.0   \n",
       "2019-05-13  2.404358  2.518878  2.306011  2.415800  2.237294    1.0      3.0   \n",
       "2019-05-14  2.461200  2.477918  2.391453  2.401261  2.237833    1.0      3.0   \n",
       "2019-05-15  2.476468  2.512128  2.377510  2.449367  2.238013    1.0      3.0   \n",
       "\n",
       "            Max_Drawdown       ATR    max_TR    min_TR     Ratio     ICAGR  \\\n",
       "Date                                                                         \n",
       "2018-01-01      0.249231  0.068791  0.155075  0.018812  1.539729  1.257701   \n",
       "2018-01-02           NaN       NaN       NaN       NaN       NaN       NaN   \n",
       "2018-01-03           NaN       NaN       NaN       NaN       NaN       NaN   \n",
       "2018-01-04           NaN       NaN       NaN       NaN       NaN       NaN   \n",
       "2018-01-05           NaN       NaN       NaN       NaN       NaN       NaN   \n",
       "...                  ...       ...       ...       ...       ...       ...   \n",
       "2019-05-11           NaN       NaN       NaN       NaN       NaN       NaN   \n",
       "2019-05-12           NaN       NaN       NaN       NaN       NaN       NaN   \n",
       "2019-05-13           NaN       NaN       NaN       NaN       NaN       NaN   \n",
       "2019-05-14           NaN       NaN       NaN       NaN       NaN       NaN   \n",
       "2019-05-15           NaN       NaN       NaN       NaN       NaN       NaN   \n",
       "\n",
       "               Bliss Trend_Start  Trend_End        Ch       Ch2           Ch3  \\\n",
       "Date                                                                            \n",
       "2018-01-01  5.046321  2018-01-01 2018-05-06  0.000000  0.000000  0.000000e+00   \n",
       "2018-01-02       NaN  2018-01-01 2018-05-06  0.020917  0.000438  9.151109e-06   \n",
       "2018-01-03       NaN  2018-01-01 2018-05-06  0.006873  0.000047  3.246429e-07   \n",
       "2018-01-04       NaN  2018-01-01 2018-05-06  0.018735  0.000351  6.575888e-06   \n",
       "2018-01-05       NaN  2018-01-01 2018-05-06 -0.012020  0.000144 -1.736588e-06   \n",
       "...              ...         ...        ...       ...       ...           ...   \n",
       "2019-05-11       NaN  2018-08-28 2019-05-15 -0.030382  0.000923 -2.804449e-05   \n",
       "2019-05-12       NaN  2018-08-28 2019-05-15  0.015231  0.000232  3.533165e-06   \n",
       "2019-05-13       NaN  2018-08-28 2019-05-15  0.049530  0.002453  1.215079e-04   \n",
       "2019-05-14       NaN  2018-08-28 2019-05-15 -0.006036  0.000036 -2.199427e-07   \n",
       "2019-05-15       NaN  2018-08-28 2019-05-15  0.019835  0.000393  7.804209e-06   \n",
       "\n",
       "                     Ch4  \n",
       "Date                      \n",
       "2018-01-01  0.000000e+00  \n",
       "2018-01-02  1.914102e-07  \n",
       "2018-01-03  2.231214e-09  \n",
       "2018-01-04  1.231986e-07  \n",
       "2018-01-05  2.087352e-08  \n",
       "...                  ...  \n",
       "2019-05-11  8.520467e-07  \n",
       "2019-05-12  5.381275e-08  \n",
       "2019-05-13  6.018284e-06  \n",
       "2019-05-14  1.327637e-09  \n",
       "2019-05-15  1.548003e-07  \n",
       "\n",
       "[500 rows x 20 columns]"
      ]
     },
     "execution_count": 6,
     "metadata": {},
     "output_type": "execute_result"
    }
   ],
   "source": [
    "price_df = add_changes(clean_trends(find_trends(sim_path())))\n",
    "price_df"
   ]
  },
  {
   "cell_type": "code",
   "execution_count": 7,
   "metadata": {
    "ExecuteTime": {
     "end_time": "2018-08-10T20:08:44.918889Z",
     "start_time": "2018-08-10T20:08:44.595264Z"
    },
    "scrolled": false
   },
   "outputs": [
    {
     "data": {
      "image/png": "[encoded data removed]",
      "text/plain": [
       "<Figure size 1152x360 with 1 Axes>"
      ]
     },
     "metadata": {},
     "output_type": "display_data"
    }
   ],
   "source": [
    "plot_trends(price_df)"
   ]
  },
  {
   "cell_type": "markdown",
   "metadata": {},
   "source": [
    "## Dataset Class"
   ]
  },
  {
   "cell_type": "code",
   "execution_count": 8,
   "metadata": {
    "ExecuteTime": {
     "end_time": "2018-08-10T20:08:47.468015Z",
     "start_time": "2018-08-10T20:08:47.416696Z"
    }
   },
   "outputs": [],
   "source": [
    "def get_trend(df, sd, min_icagr=None,\n",
    "              targets=['Trend', 'Max_Drawdown', 'ICAGR', 'Bliss'],\n",
    "              is_multi=True):\n",
    "\n",
    "    t_df = find_trends(df, sd)\n",
    "    if min_icagr:\n",
    "        t_df = clean_trends(t_df)\n",
    "\n",
    "    t_df = t_df.loc[:, targets]\n",
    "    if 'Trend' in targets and is_multi:\n",
    "        t_df.Trend = t_df.Trend.add(1).astype(np.long)  # 0 = Down, 1 = No Trend, 2 = Up.\n",
    "    t_df = t_df.rename({t: t + '_' + str(sd) for t in targets}, axis=1)\n",
    "    \n",
    "    return t_df"
   ]
  },
  {
   "cell_type": "code",
   "execution_count": 9,
   "metadata": {
    "ExecuteTime": {
     "end_time": "2018-08-10T20:08:48.214987Z",
     "start_time": "2018-08-10T20:08:48.161570Z"
    }
   },
   "outputs": [],
   "source": [
    "class SimulatedPricesDataset(Dataset):\n",
    "    \"\"\"Simulated Prices Dataset\"\"\"\n",
    "    def __init__(self, N, sim_fun, \n",
    "                 features=None,\n",
    "                 targets=['Trend', 'Max_Drawdown', 'ATR', 'Bliss'],\n",
    "                 sds=[5, 10, 20, 30], min_icagr=None,\n",
    "                 Ch=None,\n",
    "                 tech_windows=None,\n",
    "                 is_multi=True,\n",
    "                 transform=None):\n",
    "        \"\"\"\n",
    "        Args:\n",
    "            N (int): number of prices to simulate.\n",
    "            sim_fun: function that returns a simulated price DataFrame: Date | OHLC.\n",
    "            transform (callable, optional): Optional transform to be applied\n",
    "                on a sample.\n",
    "        \"\"\"\n",
    "        self.N = N\n",
    "        self.sim_fun = sim_fun\n",
    "        self.targets = targets\n",
    "        self.features = features\n",
    "        self.sds = sds\n",
    "        self.min_icagr = min_icagr\n",
    "        self.Ch = Ch\n",
    "        self.tech_windows = tech_windows\n",
    "        self.transform = transform\n",
    "        self.samples = []\n",
    "        self.is_multi = is_multi\n",
    "        self.is_reg = not is_multi\n",
    "        \n",
    "        for i in tqdm_notebook(range(N)):\n",
    "            sim_df = self.sim_fun()\n",
    "        \n",
    "            targets_df = pd.concat(\n",
    "                (get_trend(sim_df, s, min_icagr=self.min_icagr, targets=self.targets, is_multi=self.is_multi)\n",
    "                 for s in self.sds),\n",
    "                axis=1,\n",
    "            )\n",
    "\n",
    "            if self.tech_windows:\n",
    "                sim_df = add_technical(add_changes(sim_df), windows=self.tech_windows)\n",
    "            elif self.Ch:\n",
    "                sim_df = add_changes(sim_df)\n",
    "\n",
    "            if self.features:\n",
    "                sim_df = sim_df[self.features]\n",
    "\n",
    "            sample = {'features': sim_df, 'targets': targets_df}\n",
    "            self.samples.append(sample)\n",
    "        \n",
    "        self.n_features = self.samples[0]['features'].shape[1]\n",
    "        self.n_targets = self.samples[0]['targets'].shape[1]\n",
    "        self.features_columns = self.samples[0]['features'].columns\n",
    "        self.targets_columns = self.samples[0]['targets'].columns\n",
    "    \n",
    "    \n",
    "    def __len__(self):\n",
    "        return self.N\n",
    "    \n",
    "    \n",
    "    def __getitem__(self, idx):\n",
    "        sample = self.samples[idx]\n",
    "        \n",
    "        if self.transform:\n",
    "            sample = self.transform(sample)\n",
    "        \n",
    "        return sample"
   ]
  },
  {
   "cell_type": "code",
   "execution_count": 10,
   "metadata": {
    "ExecuteTime": {
     "end_time": "2018-08-10T20:08:50.949232Z",
     "start_time": "2018-08-10T20:08:48.867191Z"
    }
   },
   "outputs": [
    {
     "data": {
      "application/vnd.jupyter.widget-view+json": {
       "model_id": "a891a1203876416b845f2848447edc48",
       "version_major": 2,
       "version_minor": 0
      },
      "text/plain": [
       "HBox(children=(IntProgress(value=0, max=10), HTML(value='')))"
      ]
     },
     "metadata": {},
     "output_type": "display_data"
    },
    {
     "name": "stdout",
     "output_type": "stream",
     "text": [
      "\n"
     ]
    }
   ],
   "source": [
    "sim_dataset = SimulatedPricesDataset(10, lambda: sim_path(N=800),\n",
    "                                     targets=['Trend'], sds = [20],\n",
    "                                     min_icagr=0.3, tech_windows=[30, 100])"
   ]
  },
  {
   "cell_type": "code",
   "execution_count": 11,
   "metadata": {
    "ExecuteTime": {
     "end_time": "2018-08-10T20:08:51.433981Z",
     "start_time": "2018-08-10T20:08:51.380628Z"
    }
   },
   "outputs": [
    {
     "data": {
      "text/plain": [
       "(20, 1)"
      ]
     },
     "execution_count": 11,
     "metadata": {},
     "output_type": "execute_result"
    }
   ],
   "source": [
    "sim_dataset.n_features, sim_dataset.n_targets"
   ]
  },
  {
   "cell_type": "code",
   "execution_count": 12,
   "metadata": {
    "ExecuteTime": {
     "end_time": "2018-08-10T20:08:51.881781Z",
     "start_time": "2018-08-10T20:08:51.821672Z"
    },
    "scrolled": true
   },
   "outputs": [
    {
     "name": "stdout",
     "output_type": "stream",
     "text": [
      "(800, 20) (800, 1)\n"
     ]
    }
   ],
   "source": [
    "sim_j = sim_dataset[2]\n",
    "print(sim_j['features'].shape, sim_j['targets'].shape)"
   ]
  },
  {
   "cell_type": "code",
   "execution_count": 13,
   "metadata": {
    "ExecuteTime": {
     "end_time": "2018-08-10T20:08:52.463860Z",
     "start_time": "2018-08-10T20:08:52.404789Z"
    }
   },
   "outputs": [
    {
     "data": {
      "text/plain": [
       "Index(['Open', 'High', 'Low', 'Close', 'Ch', 'Ch2', 'Ch3', 'Ch4', 'SMA_30',\n",
       "       'SMA_100', 'sigma2_SMA_30', 'sigma2_SMA_100', 'skew_SMA_30',\n",
       "       'skew_SMA_100', 'kurt_SMA_30', 'kurt_SMA_100', 'Support_30',\n",
       "       'Support_100', 'Resistance_30', 'Resistance_100'],\n",
       "      dtype='object')"
      ]
     },
     "execution_count": 13,
     "metadata": {},
     "output_type": "execute_result"
    }
   ],
   "source": [
    "sim_j['features'].columns"
   ]
  },
  {
   "cell_type": "code",
   "execution_count": 14,
   "metadata": {
    "ExecuteTime": {
     "end_time": "2018-08-10T20:08:53.304234Z",
     "start_time": "2018-08-10T20:08:53.240242Z"
    },
    "scrolled": true
   },
   "outputs": [
    {
     "data": {
      "text/html": [
       "<div>\n",
       "<style scoped>\n",
       "    .dataframe tbody tr th:only-of-type {\n",
       "        vertical-align: middle;\n",
       "    }\n",
       "\n",
       "    .dataframe tbody tr th {\n",
       "        vertical-align: top;\n",
       "    }\n",
       "\n",
       "    .dataframe thead th {\n",
       "        text-align: right;\n",
       "    }\n",
       "</style>\n",
       "<table border=\"1\" class=\"dataframe\">\n",
       "  <thead>\n",
       "    <tr style=\"text-align: right;\">\n",
       "      <th>Date</th>\n",
       "      <th>2018-01-01 00:00:00</th>\n",
       "      <th>2018-01-02 00:00:00</th>\n",
       "      <th>2018-01-03 00:00:00</th>\n",
       "      <th>2018-01-04 00:00:00</th>\n",
       "      <th>2018-01-05 00:00:00</th>\n",
       "    </tr>\n",
       "  </thead>\n",
       "  <tbody>\n",
       "    <tr>\n",
       "      <th>Open</th>\n",
       "      <td>0.974093</td>\n",
       "      <td>0.997461</td>\n",
       "      <td>1.017321</td>\n",
       "      <td>1.046387</td>\n",
       "      <td>1.040847</td>\n",
       "    </tr>\n",
       "    <tr>\n",
       "      <th>High</th>\n",
       "      <td>1.023143</td>\n",
       "      <td>1.007492</td>\n",
       "      <td>1.028765</td>\n",
       "      <td>1.091027</td>\n",
       "      <td>1.044154</td>\n",
       "    </tr>\n",
       "    <tr>\n",
       "      <th>Low</th>\n",
       "      <td>0.932929</td>\n",
       "      <td>0.961917</td>\n",
       "      <td>0.970239</td>\n",
       "      <td>0.988463</td>\n",
       "      <td>1.021408</td>\n",
       "    </tr>\n",
       "    <tr>\n",
       "      <th>Close</th>\n",
       "      <td>1.000000</td>\n",
       "      <td>0.969760</td>\n",
       "      <td>0.995564</td>\n",
       "      <td>1.021275</td>\n",
       "      <td>1.035566</td>\n",
       "    </tr>\n",
       "    <tr>\n",
       "      <th>Ch</th>\n",
       "      <td>0.000000</td>\n",
       "      <td>-0.030707</td>\n",
       "      <td>0.026261</td>\n",
       "      <td>0.025497</td>\n",
       "      <td>0.013897</td>\n",
       "    </tr>\n",
       "    <tr>\n",
       "      <th>...</th>\n",
       "      <td>...</td>\n",
       "      <td>...</td>\n",
       "      <td>...</td>\n",
       "      <td>...</td>\n",
       "      <td>...</td>\n",
       "    </tr>\n",
       "    <tr>\n",
       "      <th>kurt_SMA_100</th>\n",
       "      <td>-1.000000</td>\n",
       "      <td>-1.000000</td>\n",
       "      <td>-1.463901</td>\n",
       "      <td>-1.627913</td>\n",
       "      <td>-1.511604</td>\n",
       "    </tr>\n",
       "    <tr>\n",
       "      <th>Support_30</th>\n",
       "      <td>0.932929</td>\n",
       "      <td>0.932929</td>\n",
       "      <td>0.932929</td>\n",
       "      <td>0.932929</td>\n",
       "      <td>0.932929</td>\n",
       "    </tr>\n",
       "    <tr>\n",
       "      <th>Support_100</th>\n",
       "      <td>0.932929</td>\n",
       "      <td>0.932929</td>\n",
       "      <td>0.932929</td>\n",
       "      <td>0.932929</td>\n",
       "      <td>0.932929</td>\n",
       "    </tr>\n",
       "    <tr>\n",
       "      <th>Resistance_30</th>\n",
       "      <td>1.023143</td>\n",
       "      <td>1.023143</td>\n",
       "      <td>1.028765</td>\n",
       "      <td>1.091027</td>\n",
       "      <td>1.091027</td>\n",
       "    </tr>\n",
       "    <tr>\n",
       "      <th>Resistance_100</th>\n",
       "      <td>1.023143</td>\n",
       "      <td>1.023143</td>\n",
       "      <td>1.028765</td>\n",
       "      <td>1.091027</td>\n",
       "      <td>1.091027</td>\n",
       "    </tr>\n",
       "  </tbody>\n",
       "</table>\n",
       "<p>20 rows × 5 columns</p>\n",
       "</div>"
      ],
      "text/plain": [
       "Date            2018-01-01  2018-01-02  2018-01-03  2018-01-04  2018-01-05\n",
       "Open              0.974093    0.997461    1.017321    1.046387    1.040847\n",
       "High              1.023143    1.007492    1.028765    1.091027    1.044154\n",
       "Low               0.932929    0.961917    0.970239    0.988463    1.021408\n",
       "Close             1.000000    0.969760    0.995564    1.021275    1.035566\n",
       "Ch                0.000000   -0.030707    0.026261    0.025497    0.013897\n",
       "...                    ...         ...         ...         ...         ...\n",
       "kurt_SMA_100     -1.000000   -1.000000   -1.463901   -1.627913   -1.511604\n",
       "Support_30        0.932929    0.932929    0.932929    0.932929    0.932929\n",
       "Support_100       0.932929    0.932929    0.932929    0.932929    0.932929\n",
       "Resistance_30     1.023143    1.023143    1.028765    1.091027    1.091027\n",
       "Resistance_100    1.023143    1.023143    1.028765    1.091027    1.091027\n",
       "\n",
       "[20 rows x 5 columns]"
      ]
     },
     "execution_count": 14,
     "metadata": {},
     "output_type": "execute_result"
    }
   ],
   "source": [
    "sim_j['features'].head().T"
   ]
  },
  {
   "cell_type": "code",
   "execution_count": 15,
   "metadata": {
    "ExecuteTime": {
     "end_time": "2018-08-10T20:08:53.923031Z",
     "start_time": "2018-08-10T20:08:53.869609Z"
    }
   },
   "outputs": [
    {
     "data": {
      "text/html": [
       "<div>\n",
       "<style scoped>\n",
       "    .dataframe tbody tr th:only-of-type {\n",
       "        vertical-align: middle;\n",
       "    }\n",
       "\n",
       "    .dataframe tbody tr th {\n",
       "        vertical-align: top;\n",
       "    }\n",
       "\n",
       "    .dataframe thead th {\n",
       "        text-align: right;\n",
       "    }\n",
       "</style>\n",
       "<table border=\"1\" class=\"dataframe\">\n",
       "  <thead>\n",
       "    <tr style=\"text-align: right;\">\n",
       "      <th>Date</th>\n",
       "      <th>2018-01-01 00:00:00</th>\n",
       "      <th>2018-01-02 00:00:00</th>\n",
       "      <th>2018-01-03 00:00:00</th>\n",
       "      <th>2018-01-04 00:00:00</th>\n",
       "      <th>2018-01-05 00:00:00</th>\n",
       "    </tr>\n",
       "  </thead>\n",
       "  <tbody>\n",
       "    <tr>\n",
       "      <th>Trend_20</th>\n",
       "      <td>2</td>\n",
       "      <td>2</td>\n",
       "      <td>2</td>\n",
       "      <td>2</td>\n",
       "      <td>2</td>\n",
       "    </tr>\n",
       "  </tbody>\n",
       "</table>\n",
       "</div>"
      ],
      "text/plain": [
       "Date      2018-01-01  2018-01-02  2018-01-03  2018-01-04  2018-01-05\n",
       "Trend_20           2           2           2           2           2"
      ]
     },
     "execution_count": 15,
     "metadata": {},
     "output_type": "execute_result"
    }
   ],
   "source": [
    "sim_j['targets'].head().T"
   ]
  },
  {
   "cell_type": "markdown",
   "metadata": {},
   "source": [
    "## Transforms"
   ]
  },
  {
   "cell_type": "code",
   "execution_count": 16,
   "metadata": {
    "ExecuteTime": {
     "end_time": "2018-08-10T20:08:56.154703Z",
     "start_time": "2018-08-10T20:08:56.100068Z"
    }
   },
   "outputs": [],
   "source": [
    "class ToArray(object):\n",
    "    def __call__(self, sample):\n",
    "        features, targets = sample['features'], sample['targets']\n",
    "        return {'features': features.values, 'targets': targets.values}\n",
    "        \n",
    "\n",
    "class RandomCrop(object):\n",
    "    \"\"\"Crops randomly an inner segment of the time series.\n",
    "    \n",
    "    Args:\n",
    "        output_size (int): length of the desired time series.\n",
    "    \"\"\"\n",
    "    \n",
    "    def __init__(self, output_size):\n",
    "        assert isinstance(output_size, int)\n",
    "        self.output_size = output_size\n",
    "    \n",
    "    def __call__(self, sample):\n",
    "        features, targets = sample['features'], sample['targets']\n",
    "        \n",
    "        size = len(features)\n",
    "        if self.output_size < size:\n",
    "            start = np.random.randint(0, size - self.output_size)\n",
    "            features = features[start: start + self.output_size, :]\n",
    "            targets = targets[start: start + self.output_size, :]\n",
    "        \n",
    "        return {'features': features, 'targets': targets}\n",
    "\n",
    "\n",
    "class StartAt(object):\n",
    "    def __init__(self, at):\n",
    "        assert at > 0\n",
    "        self.at = at\n",
    "    \n",
    "    def __call__(self, sample):\n",
    "        features, targets = sample['features'], sample['targets']\n",
    "        # Open starts at self.at\n",
    "        features[:, :4] = self.at * features[:, :4] / features[0, 0]\n",
    "        \n",
    "        return {'features': features, 'targets': targets}\n",
    "    \n",
    "    \n",
    "class ToTensor(object):\n",
    "    \"\"\"Convert ndarrays in sample to Tensors.\"\"\"\n",
    "\n",
    "    def __call__(self, sample):\n",
    "        features, targets = sample['features'], sample['targets']\n",
    "\n",
    "        return {'features': torch.from_numpy(features), \n",
    "                'targets': torch.from_numpy(targets)}"
   ]
  },
  {
   "cell_type": "code",
   "execution_count": 17,
   "metadata": {
    "ExecuteTime": {
     "end_time": "2018-08-10T20:08:57.920472Z",
     "start_time": "2018-08-10T20:08:57.874060Z"
    }
   },
   "outputs": [],
   "source": [
    "# sim_dataset = SimulatedPricesDataset(...,\n",
    "#                                      transform=transforms.Compose([\n",
    "#                                          ToArray(), RandomCrop(480)\n",
    "#                                      ])\n",
    "#                                     )\n",
    "\n",
    "sim_dataset.transform = transforms.Compose([ToArray(), RandomCrop(480)])"
   ]
  },
  {
   "cell_type": "code",
   "execution_count": 18,
   "metadata": {
    "ExecuteTime": {
     "end_time": "2018-08-10T20:08:58.499852Z",
     "start_time": "2018-08-10T20:08:58.242948Z"
    }
   },
   "outputs": [
    {
     "name": "stdout",
     "output_type": "stream",
     "text": [
      "(480, 20) (480, 1)\n"
     ]
    },
    {
     "data": {
      "image/png": "[encoded data removed]",
      "text/plain": [
       "<Figure size 864x288 with 1 Axes>"
      ]
     },
     "metadata": {},
     "output_type": "display_data"
    }
   ],
   "source": [
    "sim_j = sim_dataset[2]\n",
    "print(sim_j['features'].shape, sim_j['targets'].shape)\n",
    "plt.plot(sim_j['features']);"
   ]
  },
  {
   "cell_type": "code",
   "execution_count": 19,
   "metadata": {
    "ExecuteTime": {
     "end_time": "2018-08-10T20:08:59.347438Z",
     "start_time": "2018-08-10T20:08:59.298639Z"
    }
   },
   "outputs": [],
   "source": [
    "composed = transforms.Compose([ToArray(), RandomCrop(480), StartAt(100), ToTensor()])\n",
    "\n",
    "sim_dataset.transform = composed"
   ]
  },
  {
   "cell_type": "code",
   "execution_count": 20,
   "metadata": {
    "ExecuteTime": {
     "end_time": "2018-08-10T20:08:59.887304Z",
     "start_time": "2018-08-10T20:08:59.838102Z"
    }
   },
   "outputs": [
    {
     "name": "stdout",
     "output_type": "stream",
     "text": [
      "torch.Size([480, 20]) torch.Size([480, 1])\n"
     ]
    }
   ],
   "source": [
    "sim_j = sim_dataset[2]\n",
    "print(sim_j['features'].size(), sim_j['targets'].size())"
   ]
  },
  {
   "cell_type": "code",
   "execution_count": 21,
   "metadata": {
    "ExecuteTime": {
     "end_time": "2018-08-10T20:09:00.418460Z",
     "start_time": "2018-08-10T20:09:00.360847Z"
    }
   },
   "outputs": [
    {
     "data": {
      "text/plain": [
       "tensor([[100.0000, 100.3591,  97.1706, 100.1897],\n",
       "        [101.1315, 104.1037,  98.6811,  99.0415],\n",
       "        [ 98.5233, 103.7602,  95.1423, 100.2487],\n",
       "        [ 99.6092, 100.3345,  96.8374,  98.0805],\n",
       "        [101.7273, 104.7091,  99.0652, 100.5607],\n",
       "        [105.7566, 107.5509,  98.0536, 101.8903]], dtype=torch.float64)"
      ]
     },
     "execution_count": 21,
     "metadata": {},
     "output_type": "execute_result"
    }
   ],
   "source": [
    "sim_j['features'][:6, :4]"
   ]
  },
  {
   "cell_type": "code",
   "execution_count": 22,
   "metadata": {
    "ExecuteTime": {
     "end_time": "2018-08-10T20:09:00.990955Z",
     "start_time": "2018-08-10T20:09:00.938249Z"
    }
   },
   "outputs": [
    {
     "data": {
      "text/plain": [
       "tensor([[1],\n",
       "        [1],\n",
       "        [1],\n",
       "        [1],\n",
       "        [1],\n",
       "        [1]])"
      ]
     },
     "execution_count": 22,
     "metadata": {},
     "output_type": "execute_result"
    }
   ],
   "source": [
    "sim_j['targets'][:6, :]"
   ]
  },
  {
   "cell_type": "markdown",
   "metadata": {},
   "source": [
    "## Iterating through the dataset"
   ]
  },
  {
   "cell_type": "code",
   "execution_count": 23,
   "metadata": {
    "ExecuteTime": {
     "end_time": "2018-08-10T20:09:24.514233Z",
     "start_time": "2018-08-10T20:09:03.225850Z"
    }
   },
   "outputs": [
    {
     "data": {
      "application/vnd.jupyter.widget-view+json": {
       "model_id": "52d4d3758cb2422ea2e9821e48df2134",
       "version_major": 2,
       "version_minor": 0
      },
      "text/plain": [
       "HBox(children=(IntProgress(value=0), HTML(value='')))"
      ]
     },
     "metadata": {},
     "output_type": "display_data"
    },
    {
     "name": "stderr",
     "output_type": "stream",
     "text": [
      "//anaconda/envs/fastai-cpu2/lib/python3.6/site-packages/numpy/core/fromnumeric.py:83: RuntimeWarning: invalid value encountered in reduce\n",
      "  return ufunc.reduce(obj, axis, dtype, out, **passkwargs)\n"
     ]
    },
    {
     "name": "stdout",
     "output_type": "stream",
     "text": [
      "\n"
     ]
    },
    {
     "data": {
      "application/vnd.jupyter.widget-view+json": {
       "model_id": "0ff35a548e114df0bea486302f5bd49a",
       "version_major": 2,
       "version_minor": 0
      },
      "text/plain": [
       "HBox(children=(IntProgress(value=0, max=50), HTML(value='')))"
      ]
     },
     "metadata": {},
     "output_type": "display_data"
    },
    {
     "name": "stdout",
     "output_type": "stream",
     "text": [
      "\n"
     ]
    }
   ],
   "source": [
    "sds = [20]\n",
    "tech_win = [10]\n",
    "min_icagr = 0.3\n",
    "\n",
    "train_dataset = SimulatedPricesDataset(100, lambda: sim_path(N=500),\n",
    "                                       targets=['Trend'],\n",
    "                                       sds=sds, min_icagr=min_icagr,\n",
    "                                       tech_windows=tech_win,\n",
    "                                       transform=transforms.Compose([\n",
    "                                           ToArray(),\n",
    "                                           RandomCrop(480),\n",
    "                                           ToTensor()\n",
    "                                       ]))\n",
    "\n",
    "test_dataset = SimulatedPricesDataset(50, lambda: sim_path(N=300),\n",
    "                                      targets=['Trend'],\n",
    "                                      sds=sds, min_icagr=min_icagr,\n",
    "                                      tech_windows=tech_win,\n",
    "                                      transform=transforms.Compose([\n",
    "                                          ToArray(),\n",
    "                                          ToTensor()\n",
    "                                      ]))"
   ]
  },
  {
   "cell_type": "code",
   "execution_count": 24,
   "metadata": {
    "ExecuteTime": {
     "end_time": "2018-08-10T20:09:27.839187Z",
     "start_time": "2018-08-10T20:09:27.774653Z"
    },
    "scrolled": true
   },
   "outputs": [
    {
     "name": "stdout",
     "output_type": "stream",
     "text": [
      "Train:\n",
      "0 torch.Size([50, 480, 14]) torch.Size([50, 480, 1])\n",
      "1 torch.Size([50, 480, 14]) torch.Size([50, 480, 1])\n",
      "Test:\n",
      "0 torch.Size([50, 300, 14]) torch.Size([50, 300, 1])\n"
     ]
    }
   ],
   "source": [
    "train_loader = torch.utils.data.DataLoader(train_dataset, batch_size=50, shuffle=True)\n",
    "test_loader = torch.utils.data.DataLoader(test_dataset, batch_size=len(test_dataset), shuffle=False)\n",
    "\n",
    "print('Train:')\n",
    "for i_batch, sample_batched in enumerate(train_loader):\n",
    "    print(i_batch, sample_batched['features'].size(),\n",
    "          sample_batched['targets'].size())\n",
    "    \n",
    "    if i_batch == 5:\n",
    "        break\n",
    "\n",
    "print('Test:')\n",
    "for i_batch, sample_batched in enumerate(test_loader):\n",
    "    print(i_batch, sample_batched['features'].size(),\n",
    "          sample_batched['targets'].size())\n",
    "    \n",
    "    if i_batch == 5:\n",
    "        break"
   ]
  },
  {
   "cell_type": "code",
   "execution_count": 25,
   "metadata": {
    "ExecuteTime": {
     "end_time": "2018-08-10T20:09:29.890210Z",
     "start_time": "2018-08-10T20:09:29.837609Z"
    },
    "scrolled": true
   },
   "outputs": [
    {
     "data": {
      "text/plain": [
       "tensor([[[ 0.9923,  1.0135,  0.9803,  ..., -1.0000,  0.9634,  1.0135],\n",
       "         [ 1.0068,  1.0415,  0.9638,  ..., -0.0049,  0.9634,  1.0415],\n",
       "         [ 1.0035,  1.0233,  0.9662,  ..., -0.3871,  0.9634,  1.0415],\n",
       "         ...,\n",
       "         [ 0.7955,  0.8127,  0.7571,  ...,  0.7577,  0.7445,  0.8998],\n",
       "         [ 0.8218,  0.8278,  0.7787,  ...,  0.6378,  0.7445,  0.8998],\n",
       "         [ 0.8259,  0.8334,  0.7859,  ...,  0.9617,  0.7445,  0.8998]],\n",
       "\n",
       "        [[ 1.0250,  1.0629,  0.9901,  ..., -1.4572,  0.9089,  1.0661],\n",
       "         [ 1.0539,  1.0714,  0.9846,  ..., -1.5552,  0.9089,  1.0714],\n",
       "         [ 1.0614,  1.1051,  1.0485,  ..., -1.5066,  0.9089,  1.1051],\n",
       "         ...,\n",
       "         [ 0.5664,  0.5836,  0.5604,  ..., -1.1241,  0.5236,  0.6083],\n",
       "         [ 0.5723,  0.5926,  0.5599,  ..., -0.8936,  0.5236,  0.6083],\n",
       "         [ 0.5823,  0.5935,  0.5650,  ..., -0.8406,  0.5236,  0.6017]],\n",
       "\n",
       "        [[ 1.0551,  1.1327,  1.0528,  ...,  2.2290,  0.9858,  1.1517],\n",
       "         [ 1.0379,  1.0892,  1.0176,  ...,  0.6723,  0.9858,  1.1517],\n",
       "         [ 1.0383,  1.0895,  1.0128,  ...,  0.9024,  0.9909,  1.1517],\n",
       "         ...,\n",
       "         [ 1.2164,  1.2417,  1.1454,  ..., -0.5470,  1.0752,  1.2613],\n",
       "         [ 1.2129,  1.2354,  1.1943,  ..., -0.6802,  1.0752,  1.2417],\n",
       "         [ 1.2063,  1.2283,  1.2016,  ..., -0.4108,  1.0752,  1.2417]],\n",
       "\n",
       "        ...,\n",
       "\n",
       "        [[ 0.9471,  0.9839,  0.8895,  ...,  3.5608,  0.8895,  1.0035],\n",
       "         [ 0.9236,  0.9485,  0.8846,  ...,  2.1939,  0.8846,  0.9839],\n",
       "         [ 0.9620,  0.9710,  0.8931,  ...,  0.4095,  0.8846,  0.9839],\n",
       "         ...,\n",
       "         [ 0.6404,  0.6508,  0.6110,  ..., -0.2994,  0.5701,  0.6508],\n",
       "         [ 0.6162,  0.6445,  0.6000,  ..., -0.7265,  0.5701,  0.6508],\n",
       "         [ 0.6145,  0.6439,  0.5912,  ..., -1.0621,  0.5701,  0.6508]],\n",
       "\n",
       "        [[ 1.0600,  1.1285,  1.0364,  ...,  1.4226,  0.9597,  1.1371],\n",
       "         [ 1.0770,  1.0924,  1.0528,  ...,  0.7791,  0.9597,  1.1371],\n",
       "         [ 1.0903,  1.1201,  1.0469,  ...,  0.4619,  1.0061,  1.1371],\n",
       "         ...,\n",
       "         [ 4.8309,  5.0261,  4.6848,  ..., -0.6532,  4.5735,  5.5751],\n",
       "         [ 4.6996,  4.8752,  4.6801,  ..., -0.9936,  4.5735,  5.5751],\n",
       "         [ 4.6390,  4.8588,  4.6174,  ..., -1.2918,  4.5735,  5.4669]],\n",
       "\n",
       "        [[ 1.0376,  1.0572,  0.9988,  ...,  0.2465,  0.9840,  1.0643],\n",
       "         [ 1.0521,  1.0814,  0.9950,  ...,  1.0324,  0.9840,  1.0814],\n",
       "         [ 1.0878,  1.0976,  1.0015,  ...,  0.5962,  0.9840,  1.0976],\n",
       "         ...,\n",
       "         [ 0.9735,  0.9773,  0.9597,  ..., -1.3041,  0.9027,  1.0372],\n",
       "         [ 0.9681,  0.9930,  0.9636,  ..., -0.9996,  0.9027,  1.0372],\n",
       "         [ 0.9826,  1.0048,  0.9453,  ..., -0.9996,  0.9027,  1.0235]]],\n",
       "       dtype=torch.float64)"
      ]
     },
     "execution_count": 25,
     "metadata": {},
     "output_type": "execute_result"
    }
   ],
   "source": [
    "input = next(iter(train_loader))['features']\n",
    "input"
   ]
  },
  {
   "cell_type": "code",
   "execution_count": 26,
   "metadata": {
    "ExecuteTime": {
     "end_time": "2018-08-10T20:09:37.239728Z",
     "start_time": "2018-08-10T20:09:37.173480Z"
    }
   },
   "outputs": [
    {
     "data": {
      "text/plain": [
       "torch.Size([50, 1, 14])"
      ]
     },
     "execution_count": 26,
     "metadata": {},
     "output_type": "execute_result"
    }
   ],
   "source": [
    "next(iter(input.chunk(input.size(1), dim=1))).shape"
   ]
  },
  {
   "cell_type": "code",
   "execution_count": 27,
   "metadata": {
    "ExecuteTime": {
     "end_time": "2018-08-10T20:09:37.829835Z",
     "start_time": "2018-08-10T20:09:37.777447Z"
    }
   },
   "outputs": [
    {
     "data": {
      "text/plain": [
       "torch.Size([50, 14])"
      ]
     },
     "execution_count": 27,
     "metadata": {},
     "output_type": "execute_result"
    }
   ],
   "source": [
    "next(iter(input.chunk(input.size(1), dim=1))).view(-1, 14).size()"
   ]
  },
  {
   "cell_type": "markdown",
   "metadata": {},
   "source": [
    "## ModelData"
   ]
  },
  {
   "cell_type": "code",
   "execution_count": 28,
   "metadata": {
    "ExecuteTime": {
     "end_time": "2018-08-10T20:09:41.207578Z",
     "start_time": "2018-08-10T20:09:41.150192Z"
    }
   },
   "outputs": [],
   "source": [
    "class PriceModelData(ModelData):\n",
    "    \n",
    "    def __init__(self, path, trn_ds, val_ds, bs, test_ds=None, shuffle=True, call=None):\n",
    "        \n",
    "        self.call = call\n",
    "        \n",
    "        if test_ds is not None:\n",
    "                test_dl = torch.utils.data.DataLoader(test_ds, bs, shuffle=False)\n",
    "        super().__init__(path, \n",
    "                         torch.utils.data.DataLoader(trn_ds, bs, shuffle=shuffle),\n",
    "                         torch.utils.data.DataLoader(val_ds, bs, shuffle=False),\n",
    "                         test_dl)\n",
    "    \n",
    "    @classmethod\n",
    "    def simulate(cls, N, bs, sim_fun=sim_path, n_days=500,\n",
    "                 targets=['Trend'],\n",
    "                 sds=[10, 20, 30], min_icagr=0.5,\n",
    "                 Ch=True,\n",
    "                 tech_windows=[10, 20, 30],\n",
    "                 features=None,\n",
    "                 ):\n",
    "        \n",
    "        \n",
    "        call = dict(N=N, n_days=n_days, sim_fun=sim_fun,\n",
    "                    targets=targets, features=features,\n",
    "                    sds=sds, min_icagr=min_icagr,\n",
    "                    Ch=Ch, tech_windows=tech_windows)\n",
    "        \n",
    "        trn_N, val_N, test_N = N\n",
    "        trn_ds = SimulatedPricesDataset(trn_N, lambda: sim_path(N=n_days + 30),\n",
    "                                        targets=['Trend'],\n",
    "                                        sds=sds, min_icagr=min_icagr,\n",
    "                                        tech_windows=tech_windows,\n",
    "                                        transform=transforms.Compose([\n",
    "                                            ToArray(),\n",
    "                                            RandomCrop(n_days - 30),\n",
    "                                            ToTensor()\n",
    "                                        ]))\n",
    "        val_ds = SimulatedPricesDataset(val_N, lambda: sim_path(N=n_days),\n",
    "                                        targets=['Trend'],\n",
    "                                        sds=sds, min_icagr=min_icagr,\n",
    "                                        tech_windows=tech_windows,\n",
    "                                        transform=transforms.Compose([\n",
    "                                            ToArray(),\n",
    "                                            ToTensor()\n",
    "                                        ]))\n",
    "        test_ds = SimulatedPricesDataset(test_N, lambda: sim_path(N=n_days),\n",
    "                                         targets=['Trend'],\n",
    "                                         sds=sds, min_icagr=min_icagr,\n",
    "                                         tech_windows=tech_windows,\n",
    "                                         transform=transforms.Compose([\n",
    "                                             ToArray(),\n",
    "                                             ToTensor()\n",
    "                                         ]))\n",
    "        \n",
    "        return cls('input/Sim/', trn_ds, val_ds, bs, test_ds, True, call)\n",
    "        \n",
    "        "
   ]
  },
  {
   "cell_type": "code",
   "execution_count": 29,
   "metadata": {
    "ExecuteTime": {
     "end_time": "2018-08-10T20:09:53.333820Z",
     "start_time": "2018-08-10T20:09:45.123203Z"
    }
   },
   "outputs": [
    {
     "data": {
      "application/vnd.jupyter.widget-view+json": {
       "model_id": "9b0c862376fa4c908ffa3b3f64dcfc28",
       "version_major": 2,
       "version_minor": 0
      },
      "text/plain": [
       "HBox(children=(IntProgress(value=0, max=20), HTML(value='')))"
      ]
     },
     "metadata": {},
     "output_type": "display_data"
    },
    {
     "name": "stdout",
     "output_type": "stream",
     "text": [
      "\n"
     ]
    },
    {
     "data": {
      "application/vnd.jupyter.widget-view+json": {
       "model_id": "12656b2b2bb245ad94414cf421825150",
       "version_major": 2,
       "version_minor": 0
      },
      "text/plain": [
       "HBox(children=(IntProgress(value=0, max=10), HTML(value='')))"
      ]
     },
     "metadata": {},
     "output_type": "display_data"
    },
    {
     "name": "stdout",
     "output_type": "stream",
     "text": [
      "\n"
     ]
    },
    {
     "data": {
      "application/vnd.jupyter.widget-view+json": {
       "model_id": "a5feedefd4bb4820aaeb23fd4b347a39",
       "version_major": 2,
       "version_minor": 0
      },
      "text/plain": [
       "HBox(children=(IntProgress(value=0, max=10), HTML(value='')))"
      ]
     },
     "metadata": {},
     "output_type": "display_data"
    },
    {
     "name": "stdout",
     "output_type": "stream",
     "text": [
      "\n"
     ]
    }
   ],
   "source": [
    "sim_data = PriceModelData.simulate((20, 10, 10), bs=10, sds=[20])"
   ]
  },
  {
   "cell_type": "code",
   "execution_count": 30,
   "metadata": {
    "ExecuteTime": {
     "end_time": "2018-08-10T20:09:53.962289Z",
     "start_time": "2018-08-10T20:09:53.910962Z"
    },
    "scrolled": true
   },
   "outputs": [
    {
     "data": {
      "text/plain": [
       "tensor([[[1.0884, 1.1136, 1.0867,  ..., 1.1691, 1.1691, 1.1691],\n",
       "         [1.1266, 1.1369, 1.0842,  ..., 1.1691, 1.1691, 1.1691],\n",
       "         [1.1167, 1.1260, 1.1112,  ..., 1.1691, 1.1691, 1.1691],\n",
       "         ...,\n",
       "         [1.4665, 1.5057, 1.4253,  ..., 1.5447, 1.5933, 1.5933],\n",
       "         [1.4498, 1.4912, 1.4366,  ..., 1.5447, 1.5933, 1.5933],\n",
       "         [1.4310, 1.5194, 1.3902,  ..., 1.5447, 1.5933, 1.5933]],\n",
       "\n",
       "        [[0.9989, 1.0321, 0.9513,  ..., 1.0658, 1.0658, 1.0658],\n",
       "         [1.0002, 1.0326, 0.9522,  ..., 1.0658, 1.0658, 1.0658],\n",
       "         [1.0142, 1.0234, 0.9738,  ..., 1.0658, 1.0658, 1.0658],\n",
       "         ...,\n",
       "         [1.3020, 1.3821, 1.2550,  ..., 1.3821, 1.3821, 1.3821],\n",
       "         [1.3102, 1.3626, 1.2930,  ..., 1.3821, 1.3821, 1.3821],\n",
       "         [1.2997, 1.3470, 1.2474,  ..., 1.3821, 1.3821, 1.3821]],\n",
       "\n",
       "        [[0.9430, 0.9559, 0.9037,  ..., 1.0021, 1.0021, 1.0021],\n",
       "         [0.9197, 0.9700, 0.9084,  ..., 1.0021, 1.0021, 1.0021],\n",
       "         [0.9407, 0.9584, 0.9262,  ..., 1.0021, 1.0021, 1.0021],\n",
       "         ...,\n",
       "         [2.0349, 2.1072, 1.9468,  ..., 2.1072, 2.1072, 2.1072],\n",
       "         [2.0381, 2.0939, 1.9623,  ..., 2.1072, 2.1072, 2.1072],\n",
       "         [2.0580, 2.1428, 1.9858,  ..., 2.1428, 2.1428, 2.1428]],\n",
       "\n",
       "        ...,\n",
       "\n",
       "        [[0.9722, 0.9917, 0.9692,  ..., 1.0591, 1.0591, 1.0591],\n",
       "         [0.9492, 0.9901, 0.9111,  ..., 1.0591, 1.0591, 1.0591],\n",
       "         [0.9150, 0.9836, 0.8856,  ..., 1.0591, 1.0591, 1.0591],\n",
       "         ...,\n",
       "         [0.9787, 1.0027, 0.9636,  ..., 1.0408, 1.0408, 1.0408],\n",
       "         [0.9752, 1.0135, 0.9392,  ..., 1.0408, 1.0408, 1.0408],\n",
       "         [0.9885, 1.0175, 0.9558,  ..., 1.0296, 1.0408, 1.0408]],\n",
       "\n",
       "        [[1.2223, 1.2467, 1.1522,  ..., 1.2655, 1.2655, 1.2655],\n",
       "         [1.1967, 1.2277, 1.1745,  ..., 1.2655, 1.2655, 1.2655],\n",
       "         [1.1612, 1.2017, 1.1461,  ..., 1.2655, 1.2655, 1.2655],\n",
       "         ...,\n",
       "         [1.6982, 1.7253, 1.6482,  ..., 1.8641, 1.8641, 1.8641],\n",
       "         [1.7148, 1.7283, 1.6506,  ..., 1.8641, 1.8641, 1.8641],\n",
       "         [1.7272, 1.7903, 1.7047,  ..., 1.8641, 1.8641, 1.8641]],\n",
       "\n",
       "        [[1.2861, 1.2909, 1.2045,  ..., 1.3050, 1.3050, 1.3050],\n",
       "         [1.2875, 1.2965, 1.2280,  ..., 1.3050, 1.3050, 1.3050],\n",
       "         [1.2674, 1.3353, 1.2469,  ..., 1.3353, 1.3353, 1.3353],\n",
       "         ...,\n",
       "         [0.9816, 1.0098, 0.9477,  ..., 1.0098, 1.0098, 1.0098],\n",
       "         [1.0040, 1.0183, 0.9755,  ..., 1.0183, 1.0183, 1.0183],\n",
       "         [0.9990, 1.0075, 0.9582,  ..., 1.0183, 1.0183, 1.0183]]],\n",
       "       dtype=torch.float64)"
      ]
     },
     "execution_count": 30,
     "metadata": {},
     "output_type": "execute_result"
    }
   ],
   "source": [
    "input = next(iter(sim_data.trn_dl))['features']\n",
    "input"
   ]
  },
  {
   "cell_type": "markdown",
   "metadata": {},
   "source": [
    "## LSTM Model\n",
    "\n",
    "**// TO DO:**\n",
    "\n",
    "* See fastai's [column_data.py](https://github.com/fastai/fastai/blob/master/fastai/column_data.py) `MixedInputModel` for list comprehension of layers. `self.lins = nn.ModuleList([nn.Linear(szs[i], szs[i+1]) for i in range(len(szs)-1)])`.\n",
    "* Multiple dimension softmax and `NLLLoss`, for Trend_5, Trend_10, etc.\n",
    "* Weights in loss function: prob(no trend) really low."
   ]
  },
  {
   "cell_type": "code",
   "execution_count": 32,
   "metadata": {
    "ExecuteTime": {
     "end_time": "2018-08-10T20:10:16.088366Z",
     "start_time": "2018-08-10T20:10:16.041504Z"
    }
   },
   "outputs": [
    {
     "data": {
      "text/plain": [
       "torch.Size([10, 1, 26])"
      ]
     },
     "execution_count": 32,
     "metadata": {},
     "output_type": "execute_result"
    }
   ],
   "source": [
    "input_t = next(iter(input.chunk(input.size(1), dim=1)))\n",
    "input_t.size()"
   ]
  },
  {
   "cell_type": "code",
   "execution_count": 104,
   "metadata": {
    "ExecuteTime": {
     "end_time": "2018-08-10T20:33:59.040531Z",
     "start_time": "2018-08-10T20:33:58.989403Z"
    }
   },
   "outputs": [
    {
     "data": {
      "text/plain": [
       "torch.float64"
      ]
     },
     "execution_count": 104,
     "metadata": {},
     "output_type": "execute_result"
    }
   ],
   "source": [
    "input_t.view(-1, 26).dtype"
   ]
  },
  {
   "cell_type": "code",
   "execution_count": 102,
   "metadata": {
    "ExecuteTime": {
     "end_time": "2018-08-10T20:33:37.665107Z",
     "start_time": "2018-08-10T20:33:37.620804Z"
    }
   },
   "outputs": [],
   "source": [
    "aux = nn.LSTMCell(26, 20)\n",
    "# aux.float()"
   ]
  },
  {
   "cell_type": "code",
   "execution_count": 107,
   "metadata": {
    "ExecuteTime": {
     "end_time": "2018-08-10T20:35:45.310255Z",
     "start_time": "2018-08-10T20:35:45.251952Z"
    }
   },
   "outputs": [
    {
     "data": {
      "text/plain": [
       "(tensor([[ 0.1087, -0.0984,  0.0030, -0.0433, -0.0934, -0.1955,  0.0118,  0.1292,\n",
       "           0.1623,  0.0485,  0.0482, -0.0300, -0.0885,  0.1605, -0.1551,  0.1201,\n",
       "          -0.0087,  0.1625,  0.2836, -0.2339],\n",
       "         [-0.0311, -0.0767, -0.0613, -0.0248, -0.0473, -0.2632, -0.0297,  0.1809,\n",
       "           0.1715,  0.0202,  0.0703,  0.0299, -0.0084,  0.2727, -0.1565,  0.1470,\n",
       "           0.0219,  0.0296,  0.2741, -0.2711],\n",
       "         [-0.0639, -0.1024, -0.0587, -0.0349, -0.0506, -0.2222,  0.0521,  0.1475,\n",
       "           0.1457,  0.0231,  0.0351, -0.0092, -0.1017,  0.2771, -0.2286,  0.1599,\n",
       "           0.0123,  0.0252,  0.2413, -0.2392],\n",
       "         [-0.0281, -0.1138, -0.0937, -0.0181, -0.0312, -0.0594, -0.0109,  0.1881,\n",
       "           0.2235, -0.0286,  0.1154, -0.1054, -0.0125,  0.2577, -0.2049,  0.1499,\n",
       "           0.0104, -0.0803,  0.2482, -0.1791],\n",
       "         [ 0.0574, -0.1246, -0.0160, -0.0534, -0.0694, -0.1114,  0.0742,  0.1080,\n",
       "           0.1432,  0.0415,  0.0465, -0.1032, -0.1650,  0.1805, -0.2428,  0.1421,\n",
       "          -0.0076,  0.0961,  0.2365, -0.1862],\n",
       "         [ 0.1275, -0.0972,  0.0221, -0.0285, -0.0742, -0.1597, -0.0448,  0.1319,\n",
       "           0.1629,  0.0422,  0.0788, -0.0124, -0.0510,  0.0684, -0.0480,  0.0203,\n",
       "           0.0066,  0.1705,  0.2839, -0.1771],\n",
       "         [ 0.1221, -0.1057,  0.0449, -0.0334, -0.1053, -0.0991, -0.0534,  0.0572,\n",
       "           0.1793,  0.0713,  0.0739, -0.1062, -0.0839,  0.0264,  0.1111, -0.0804,\n",
       "          -0.0192,  0.2135,  0.2829,  0.1193],\n",
       "         [ 0.1185, -0.0804,  0.0171, -0.0287, -0.0812, -0.1566, -0.0813,  0.1370,\n",
       "           0.1791,  0.0400,  0.0780, -0.0402, -0.0121,  0.1024,  0.0487, -0.0080,\n",
       "          -0.0084,  0.1599,  0.2809, -0.1324],\n",
       "         [ 0.1349, -0.1154,  0.0337, -0.0574, -0.1504, -0.1213,  0.0418,  0.0801,\n",
       "           0.2118,  0.0827,  0.0636, -0.1074, -0.1199,  0.1154, -0.1168,  0.0789,\n",
       "          -0.0293,  0.1968,  0.2880, -0.0602],\n",
       "         [ 0.1462, -0.1426,  0.0319, -0.0450, -0.1159, -0.0902,  0.0785,  0.0922,\n",
       "           0.2210,  0.0564,  0.0955, -0.0620, -0.1584,  0.0933, -0.2777,  0.1198,\n",
       "          -0.0036,  0.1802,  0.2789, -0.1180]], grad_fn=<ThMulBackward>),\n",
       " tensor([[ 0.2459, -0.2093,  0.0084, -0.1283, -0.1372, -0.3573,  0.0203,  0.2396,\n",
       "           0.3201,  0.0945,  0.0914, -0.0410, -0.2191,  0.2464, -0.1998,  0.3072,\n",
       "          -0.0167,  0.3196,  0.5641, -0.4110],\n",
       "         [-0.0534, -0.1852, -0.1320, -0.0831, -0.0733, -0.4803, -0.0613,  0.3464,\n",
       "           0.3434,  0.0416,  0.1205,  0.0406, -0.0251,  0.4459, -0.1913,  0.5568,\n",
       "           0.0308,  0.0566,  0.5060, -0.6289],\n",
       "         [-0.1013, -0.2083, -0.1344, -0.1016, -0.0744, -0.4225,  0.1053,  0.3046,\n",
       "           0.2752,  0.0490,  0.0561, -0.0116, -0.2477,  0.4455, -0.2869,  0.5781,\n",
       "           0.0181,  0.0520,  0.4903, -0.5830],\n",
       "         [-0.0487, -0.2529, -0.1640, -0.0405, -0.0496, -0.1323, -0.0206,  0.3376,\n",
       "           0.4625, -0.0463,  0.2014, -0.1572, -0.0307,  0.4092, -0.2529,  0.4365,\n",
       "           0.0192, -0.1480,  0.4513, -0.3595],\n",
       "         [ 0.1089, -0.2354, -0.0394, -0.1273, -0.1004, -0.2243,  0.1294,  0.2092,\n",
       "           0.2666,  0.0782,  0.0801, -0.1402, -0.3426,  0.2801, -0.3262,  0.3618,\n",
       "          -0.0152,  0.1931,  0.4928, -0.3455],\n",
       "         [ 0.3333, -0.2132,  0.0594, -0.0791, -0.1092, -0.2832, -0.0725,  0.2229,\n",
       "           0.3318,  0.0799,  0.1563, -0.0186, -0.1206,  0.1098, -0.0632,  0.0465,\n",
       "           0.0144,  0.2986,  0.5337, -0.2697],\n",
       "         [ 0.4289, -0.2295,  0.1362, -0.0826, -0.1585, -0.1907, -0.0798,  0.0936,\n",
       "           0.3715,  0.1223,  0.1707, -0.1716, -0.1948,  0.0407,  0.1550, -0.1496,\n",
       "          -0.0590,  0.3843,  0.5524,  0.1641],\n",
       "         [ 0.3290, -0.1940,  0.0438, -0.0799, -0.1278, -0.2889, -0.1358,  0.2298,\n",
       "           0.3760,  0.0724,  0.1685, -0.0646, -0.0323,  0.1633,  0.0643, -0.0178,\n",
       "          -0.0180,  0.2821,  0.5206, -0.2022],\n",
       "         [ 0.3789, -0.2391,  0.1007, -0.1462, -0.2185, -0.2339,  0.0657,  0.1400,\n",
       "           0.4214,  0.1438,  0.1291, -0.1510, -0.2830,  0.1679, -0.1499,  0.1618,\n",
       "          -0.0784,  0.3836,  0.5870, -0.0898],\n",
       "         [ 0.3545, -0.2708,  0.0887, -0.1070, -0.1571, -0.1653,  0.1215,  0.1552,\n",
       "           0.4468,  0.0998,  0.1707, -0.0828, -0.3355,  0.1388, -0.3575,  0.2638,\n",
       "          -0.0102,  0.3230,  0.5532, -0.1758]], grad_fn=<ThAddBackward>))"
      ]
     },
     "execution_count": 107,
     "metadata": {},
     "output_type": "execute_result"
    }
   ],
   "source": [
    "aux(input_t.view(-1, 26).float(), (torch.zeros(10, 20).float(), torch.zeros(10, 20).float()))"
   ]
  },
  {
   "cell_type": "code",
   "execution_count": 114,
   "metadata": {
    "ExecuteTime": {
     "end_time": "2018-08-10T20:36:29.572531Z",
     "start_time": "2018-08-10T20:36:29.523927Z"
    }
   },
   "outputs": [],
   "source": [
    "class Sequence(nn.Module):\n",
    "    def __init__(self, h0=1, h1=51, h2=51, hL=3, warmup=60, nll_weights=None):\n",
    "        super(Sequence, self).__init__()\n",
    "        self.h0 = h0\n",
    "        self.h1 = h1\n",
    "        self.h2 = h2\n",
    "        self.hL = hL\n",
    "        self.lstm1 = nn.LSTMCell(h0, h1).float()\n",
    "        self.lstm2 = nn.LSTMCell(h1, h2).float()\n",
    "        self.linear = nn.Linear(h2, hL).float()\n",
    "        self.softmax = nn.LogSoftmax(dim=1)\n",
    "        \n",
    "        self.warmup = 60\n",
    "        self.loss_fun = nn.NLLLoss(weight=nll_weights)\n",
    "        \n",
    "    \n",
    "    def init_hidden(self):\n",
    "        self.h_t = torch.zeros(input.size(0), self.h1).float()\n",
    "        self.c_t = torch.zeros(input.size(0), self.h1).float()\n",
    "        self.h_t2 = torch.zeros(input.size(0), self.h2).float()\n",
    "        self.c_t2 = torch.zeros(input.size(0), self.h2).float()\n",
    "\n",
    "    \n",
    "    def forward(self, input):\n",
    "        self.init_hidden()\n",
    "        outputs = []\n",
    "        for i, input_t in enumerate(input.chunk(input.size(1), dim=1)):\n",
    "            self.h_t, self.c_t = self.lstm1(input_t.view(-1, self.h0).float(), (self.h_t, self.c_t))\n",
    "            self.h_t2, self.c_t2 = self.lstm2(self.h_t, (self.h_t2, self.c_t2))\n",
    "            output = self.linear(self.h_t2)\n",
    "            output = self.softmax(output)\n",
    "            outputs += [output]\n",
    "\n",
    "        outputs = torch.stack(outputs, 1)\n",
    "        return outputs\n",
    "    \n",
    "\n",
    "    def loss(self, y_hat, y_true):\n",
    "        loss = 0\n",
    "        for i in range(self.warmup, y_hat.size()[1]):\n",
    "            loss = loss + self.loss_fun(y_hat[:, i, :], y_true[:, i, :].squeeze(dim=1))\n",
    "        return loss / (y_hat.size()[1] - self.warmup)"
   ]
  },
  {
   "cell_type": "code",
   "execution_count": 115,
   "metadata": {
    "ExecuteTime": {
     "end_time": "2018-08-10T20:36:29.876059Z",
     "start_time": "2018-08-10T20:36:29.816441Z"
    }
   },
   "outputs": [
    {
     "data": {
      "text/plain": [
       "0    2203\n",
       "2    2094\n",
       "1     503\n",
       "dtype: int64"
      ]
     },
     "execution_count": 115,
     "metadata": {},
     "output_type": "execute_result"
    }
   ],
   "source": [
    "Series(np.concatenate([sim_j['targets'].numpy().flatten() for sim_j in sim_dataset])).value_counts()"
   ]
  },
  {
   "cell_type": "code",
   "execution_count": 116,
   "metadata": {
    "ExecuteTime": {
     "end_time": "2018-08-10T20:36:30.150692Z",
     "start_time": "2018-08-10T20:36:30.084864Z"
    }
   },
   "outputs": [],
   "source": [
    "_, freqs = np.unique([sim_j['targets'].numpy().flatten() for sim_j in train_dataset], return_counts=True)\n",
    "weights = torch.Tensor(freqs / sum(freqs))"
   ]
  },
  {
   "cell_type": "code",
   "execution_count": 117,
   "metadata": {
    "ExecuteTime": {
     "end_time": "2018-08-10T20:36:30.339744Z",
     "start_time": "2018-08-10T20:36:30.287713Z"
    }
   },
   "outputs": [
    {
     "data": {
      "text/plain": [
       "Sequence(\n",
       "  (lstm1): LSTMCell(26, 51)\n",
       "  (lstm2): LSTMCell(51, 51)\n",
       "  (linear): Linear(in_features=51, out_features=3, bias=True)\n",
       "  (softmax): LogSoftmax()\n",
       "  (loss_fun): NLLLoss()\n",
       ")"
      ]
     },
     "execution_count": 117,
     "metadata": {},
     "output_type": "execute_result"
    }
   ],
   "source": [
    "# build the model\n",
    "#seq = Sequence(h0=train_loader.dataset.n_features, nll_weights=weights)\n",
    "seq = Sequence(h0=sim_data.trn_dl.dataset.n_features, nll_weights=weights)\n",
    "seq"
   ]
  },
  {
   "cell_type": "code",
   "execution_count": 118,
   "metadata": {
    "ExecuteTime": {
     "end_time": "2018-08-10T20:36:30.794280Z",
     "start_time": "2018-08-10T20:36:30.736193Z"
    }
   },
   "outputs": [],
   "source": [
    "sample = next(iter(sim_data.trn_dl))  # next(iter(train_loader))\n",
    "inputs = sample['features']\n",
    "targets = sample['targets']"
   ]
  },
  {
   "cell_type": "code",
   "execution_count": 119,
   "metadata": {
    "ExecuteTime": {
     "end_time": "2018-08-10T20:36:31.857400Z",
     "start_time": "2018-08-10T20:36:31.527160Z"
    }
   },
   "outputs": [],
   "source": [
    "out = seq(inputs)"
   ]
  },
  {
   "cell_type": "code",
   "execution_count": 120,
   "metadata": {
    "ExecuteTime": {
     "end_time": "2018-08-10T20:36:32.489993Z",
     "start_time": "2018-08-10T20:36:32.442780Z"
    }
   },
   "outputs": [
    {
     "data": {
      "text/plain": [
       "(torch.Size([10, 470, 3]), torch.Size([10, 470, 1]))"
      ]
     },
     "execution_count": 120,
     "metadata": {},
     "output_type": "execute_result"
    }
   ],
   "source": [
    "out.size(), targets.size()"
   ]
  },
  {
   "cell_type": "code",
   "execution_count": 121,
   "metadata": {
    "ExecuteTime": {
     "end_time": "2018-08-10T20:36:32.994496Z",
     "start_time": "2018-08-10T20:36:32.918894Z"
    }
   },
   "outputs": [
    {
     "data": {
      "text/plain": [
       "tensor(1.1227, grad_fn=<DivBackward0>)"
      ]
     },
     "execution_count": 121,
     "metadata": {},
     "output_type": "execute_result"
    }
   ],
   "source": [
    "seq.loss(out, targets)"
   ]
  },
  {
   "cell_type": "code",
   "execution_count": 122,
   "metadata": {
    "ExecuteTime": {
     "end_time": "2018-08-10T20:36:33.336505Z",
     "start_time": "2018-08-10T20:36:33.278052Z"
    }
   },
   "outputs": [],
   "source": [
    "test_sample = next(iter(sim_data.test_dl))  # next(iter(test_loader))\n",
    "test_inputs = test_sample['features']\n",
    "test_targets = test_sample['targets']"
   ]
  },
  {
   "cell_type": "code",
   "execution_count": 123,
   "metadata": {
    "ExecuteTime": {
     "end_time": "2018-08-10T20:36:34.029481Z",
     "start_time": "2018-08-10T20:36:33.755131Z"
    }
   },
   "outputs": [
    {
     "data": {
      "text/plain": [
       "torch.Size([10, 500, 3])"
      ]
     },
     "execution_count": 123,
     "metadata": {},
     "output_type": "execute_result"
    }
   ],
   "source": [
    "with torch.no_grad():\n",
    "    test_out = seq(test_inputs)\n",
    "test_out.size()"
   ]
  },
  {
   "cell_type": "code",
   "execution_count": 124,
   "metadata": {
    "ExecuteTime": {
     "end_time": "2018-08-10T20:36:34.492811Z",
     "start_time": "2018-08-10T20:36:34.423328Z"
    }
   },
   "outputs": [
    {
     "data": {
      "text/plain": [
       "tensor(1.1366)"
      ]
     },
     "execution_count": 124,
     "metadata": {},
     "output_type": "execute_result"
    }
   ],
   "source": [
    "seq.loss(test_out, test_targets)"
   ]
  },
  {
   "cell_type": "code",
   "execution_count": 133,
   "metadata": {
    "ExecuteTime": {
     "end_time": "2018-08-10T20:39:46.452368Z",
     "start_time": "2018-08-10T20:39:46.356405Z"
    },
    "collapsed": true
   },
   "outputs": [
    {
     "data": {
      "application/vnd.jupyter.widget-view+json": {
       "model_id": "",
       "version_major": 2,
       "version_minor": 0
      },
      "text/plain": [
       "HBox(children=(IntProgress(value=0, description='Epoch', max=2), HTML(value='')))"
      ]
     },
     "metadata": {},
     "output_type": "display_data"
    },
    {
     "name": "stdout",
     "output_type": "stream",
     "text": [
      "  0%|          | 0/2 [00:00<?, ?it/s]\n"
     ]
    },
    {
     "ename": "NotImplementedError",
     "evalue": "<U8",
     "output_type": "error",
     "traceback": [
      "\u001b[0;31m---------------------------------------------------------------------------\u001b[0m",
      "\u001b[0;31mNotImplementedError\u001b[0m                       Traceback (most recent call last)",
      "\u001b[0;32m<ipython-input-133-090debda6a18>\u001b[0m in \u001b[0;36m<module>\u001b[0;34m()\u001b[0m\n\u001b[0;32m----> 1\u001b[0;31m \u001b[0mfit\u001b[0m\u001b[0;34m(\u001b[0m\u001b[0mseq\u001b[0m\u001b[0;34m,\u001b[0m \u001b[0msim_data\u001b[0m\u001b[0;34m,\u001b[0m \u001b[0;36m2\u001b[0m\u001b[0;34m,\u001b[0m \u001b[0moptim\u001b[0m\u001b[0;34m.\u001b[0m\u001b[0mSGD\u001b[0m\u001b[0;34m(\u001b[0m\u001b[0mseq\u001b[0m\u001b[0;34m.\u001b[0m\u001b[0mparameters\u001b[0m\u001b[0;34m(\u001b[0m\u001b[0;34m)\u001b[0m\u001b[0;34m,\u001b[0m \u001b[0;36m1e-3\u001b[0m\u001b[0;34m,\u001b[0m \u001b[0mmomentum\u001b[0m\u001b[0;34m=\u001b[0m\u001b[0;36m0.9\u001b[0m\u001b[0;34m)\u001b[0m\u001b[0;34m,\u001b[0m \u001b[0mseq\u001b[0m\u001b[0;34m.\u001b[0m\u001b[0mloss\u001b[0m\u001b[0;34m)\u001b[0m\u001b[0;34m\u001b[0m\u001b[0m\n\u001b[0m",
      "\u001b[0;32m~/GitHub/trend-following/fastai/model.py\u001b[0m in \u001b[0;36mfit\u001b[0;34m(model, data, n_epochs, opt, crit, metrics, callbacks, stepper, swa_model, swa_start, swa_eval_freq, visualize, **kwargs)\u001b[0m\n\u001b[1;32m    139\u001b[0m             \u001b[0mbatch_num\u001b[0m \u001b[0;34m+=\u001b[0m \u001b[0;36m1\u001b[0m\u001b[0;34m\u001b[0m\u001b[0m\n\u001b[1;32m    140\u001b[0m             \u001b[0;32mfor\u001b[0m \u001b[0mcb\u001b[0m \u001b[0;32min\u001b[0m \u001b[0mcallbacks\u001b[0m\u001b[0;34m:\u001b[0m \u001b[0mcb\u001b[0m\u001b[0;34m.\u001b[0m\u001b[0mon_batch_begin\u001b[0m\u001b[0;34m(\u001b[0m\u001b[0;34m)\u001b[0m\u001b[0;34m\u001b[0m\u001b[0m\n\u001b[0;32m--> 141\u001b[0;31m             \u001b[0mloss\u001b[0m \u001b[0;34m=\u001b[0m \u001b[0mmodel_stepper\u001b[0m\u001b[0;34m.\u001b[0m\u001b[0mstep\u001b[0m\u001b[0;34m(\u001b[0m\u001b[0mV\u001b[0m\u001b[0;34m(\u001b[0m\u001b[0mx\u001b[0m\u001b[0;34m)\u001b[0m\u001b[0;34m,\u001b[0m\u001b[0mV\u001b[0m\u001b[0;34m(\u001b[0m\u001b[0my\u001b[0m\u001b[0;34m)\u001b[0m\u001b[0;34m,\u001b[0m \u001b[0mepoch\u001b[0m\u001b[0;34m)\u001b[0m\u001b[0;34m\u001b[0m\u001b[0m\n\u001b[0m\u001b[1;32m    142\u001b[0m             \u001b[0mavg_loss\u001b[0m \u001b[0;34m=\u001b[0m \u001b[0mavg_loss\u001b[0m \u001b[0;34m*\u001b[0m \u001b[0mavg_mom\u001b[0m \u001b[0;34m+\u001b[0m \u001b[0mloss\u001b[0m \u001b[0;34m*\u001b[0m \u001b[0;34m(\u001b[0m\u001b[0;36m1\u001b[0m\u001b[0;34m-\u001b[0m\u001b[0mavg_mom\u001b[0m\u001b[0;34m)\u001b[0m\u001b[0;34m\u001b[0m\u001b[0m\n\u001b[1;32m    143\u001b[0m             \u001b[0mdebias_loss\u001b[0m \u001b[0;34m=\u001b[0m \u001b[0mavg_loss\u001b[0m \u001b[0;34m/\u001b[0m \u001b[0;34m(\u001b[0m\u001b[0;36m1\u001b[0m \u001b[0;34m-\u001b[0m \u001b[0mavg_mom\u001b[0m\u001b[0;34m**\u001b[0m\u001b[0mbatch_num\u001b[0m\u001b[0;34m)\u001b[0m\u001b[0;34m\u001b[0m\u001b[0m\n",
      "\u001b[0;32m~/GitHub/trend-following/fastai/core.py\u001b[0m in \u001b[0;36mV\u001b[0;34m(x, requires_grad, volatile)\u001b[0m\n\u001b[1;32m     53\u001b[0m \u001b[0;32mdef\u001b[0m \u001b[0mV\u001b[0m\u001b[0;34m(\u001b[0m\u001b[0mx\u001b[0m\u001b[0;34m,\u001b[0m \u001b[0mrequires_grad\u001b[0m\u001b[0;34m=\u001b[0m\u001b[0;32mFalse\u001b[0m\u001b[0;34m,\u001b[0m \u001b[0mvolatile\u001b[0m\u001b[0;34m=\u001b[0m\u001b[0;32mFalse\u001b[0m\u001b[0;34m)\u001b[0m\u001b[0;34m:\u001b[0m\u001b[0;34m\u001b[0m\u001b[0m\n\u001b[1;32m     54\u001b[0m     \u001b[0;34m'''creates a single or a list of pytorch tensors, depending on input x. '''\u001b[0m\u001b[0;34m\u001b[0m\u001b[0m\n\u001b[0;32m---> 55\u001b[0;31m     \u001b[0;32mreturn\u001b[0m \u001b[0mmap_over\u001b[0m\u001b[0;34m(\u001b[0m\u001b[0mx\u001b[0m\u001b[0;34m,\u001b[0m \u001b[0;32mlambda\u001b[0m \u001b[0mo\u001b[0m\u001b[0;34m:\u001b[0m \u001b[0mV_\u001b[0m\u001b[0;34m(\u001b[0m\u001b[0mo\u001b[0m\u001b[0;34m,\u001b[0m \u001b[0mrequires_grad\u001b[0m\u001b[0;34m,\u001b[0m \u001b[0mvolatile\u001b[0m\u001b[0;34m)\u001b[0m\u001b[0;34m)\u001b[0m\u001b[0;34m\u001b[0m\u001b[0m\n\u001b[0m\u001b[1;32m     56\u001b[0m \u001b[0;34m\u001b[0m\u001b[0m\n\u001b[1;32m     57\u001b[0m \u001b[0;32mdef\u001b[0m \u001b[0mVV_\u001b[0m\u001b[0;34m(\u001b[0m\u001b[0mx\u001b[0m\u001b[0;34m)\u001b[0m\u001b[0;34m:\u001b[0m\u001b[0;34m\u001b[0m\u001b[0m\n",
      "\u001b[0;32m~/GitHub/trend-following/fastai/core.py\u001b[0m in \u001b[0;36mmap_over\u001b[0;34m(x, f)\u001b[0m\n\u001b[1;32m      6\u001b[0m \u001b[0;32mdef\u001b[0m \u001b[0mis_listy\u001b[0m\u001b[0;34m(\u001b[0m\u001b[0mx\u001b[0m\u001b[0;34m)\u001b[0m\u001b[0;34m:\u001b[0m \u001b[0;32mreturn\u001b[0m \u001b[0misinstance\u001b[0m\u001b[0;34m(\u001b[0m\u001b[0mx\u001b[0m\u001b[0;34m,\u001b[0m \u001b[0;34m(\u001b[0m\u001b[0mlist\u001b[0m\u001b[0;34m,\u001b[0m\u001b[0mtuple\u001b[0m\u001b[0;34m)\u001b[0m\u001b[0;34m)\u001b[0m\u001b[0;34m\u001b[0m\u001b[0m\n\u001b[1;32m      7\u001b[0m \u001b[0;32mdef\u001b[0m \u001b[0mis_iter\u001b[0m\u001b[0;34m(\u001b[0m\u001b[0mx\u001b[0m\u001b[0;34m)\u001b[0m\u001b[0;34m:\u001b[0m \u001b[0;32mreturn\u001b[0m \u001b[0misinstance\u001b[0m\u001b[0;34m(\u001b[0m\u001b[0mx\u001b[0m\u001b[0;34m,\u001b[0m \u001b[0mcollections\u001b[0m\u001b[0;34m.\u001b[0m\u001b[0mIterable\u001b[0m\u001b[0;34m)\u001b[0m\u001b[0;34m\u001b[0m\u001b[0m\n\u001b[0;32m----> 8\u001b[0;31m \u001b[0;32mdef\u001b[0m \u001b[0mmap_over\u001b[0m\u001b[0;34m(\u001b[0m\u001b[0mx\u001b[0m\u001b[0;34m,\u001b[0m \u001b[0mf\u001b[0m\u001b[0;34m)\u001b[0m\u001b[0;34m:\u001b[0m \u001b[0;32mreturn\u001b[0m \u001b[0;34m[\u001b[0m\u001b[0mf\u001b[0m\u001b[0;34m(\u001b[0m\u001b[0mo\u001b[0m\u001b[0;34m)\u001b[0m \u001b[0;32mfor\u001b[0m \u001b[0mo\u001b[0m \u001b[0;32min\u001b[0m \u001b[0mx\u001b[0m\u001b[0;34m]\u001b[0m \u001b[0;32mif\u001b[0m \u001b[0mis_listy\u001b[0m\u001b[0;34m(\u001b[0m\u001b[0mx\u001b[0m\u001b[0;34m)\u001b[0m \u001b[0;32melse\u001b[0m \u001b[0mf\u001b[0m\u001b[0;34m(\u001b[0m\u001b[0mx\u001b[0m\u001b[0;34m)\u001b[0m\u001b[0;34m\u001b[0m\u001b[0m\n\u001b[0m\u001b[1;32m      9\u001b[0m \u001b[0;32mdef\u001b[0m \u001b[0mmap_none\u001b[0m\u001b[0;34m(\u001b[0m\u001b[0mx\u001b[0m\u001b[0;34m,\u001b[0m \u001b[0mf\u001b[0m\u001b[0;34m)\u001b[0m\u001b[0;34m:\u001b[0m \u001b[0;32mreturn\u001b[0m \u001b[0;32mNone\u001b[0m \u001b[0;32mif\u001b[0m \u001b[0mx\u001b[0m \u001b[0;32mis\u001b[0m \u001b[0;32mNone\u001b[0m \u001b[0;32melse\u001b[0m \u001b[0mf\u001b[0m\u001b[0;34m(\u001b[0m\u001b[0mx\u001b[0m\u001b[0;34m)\u001b[0m\u001b[0;34m\u001b[0m\u001b[0m\n\u001b[1;32m     10\u001b[0m \u001b[0;32mdef\u001b[0m \u001b[0mdelistify\u001b[0m\u001b[0;34m(\u001b[0m\u001b[0mx\u001b[0m\u001b[0;34m)\u001b[0m\u001b[0;34m:\u001b[0m \u001b[0;32mreturn\u001b[0m \u001b[0mx\u001b[0m\u001b[0;34m[\u001b[0m\u001b[0;36m0\u001b[0m\u001b[0;34m]\u001b[0m \u001b[0;32mif\u001b[0m \u001b[0mis_listy\u001b[0m\u001b[0;34m(\u001b[0m\u001b[0mx\u001b[0m\u001b[0;34m)\u001b[0m \u001b[0;32melse\u001b[0m \u001b[0mx\u001b[0m\u001b[0;34m\u001b[0m\u001b[0m\n",
      "\u001b[0;32m~/GitHub/trend-following/fastai/core.py\u001b[0m in \u001b[0;36m<listcomp>\u001b[0;34m(.0)\u001b[0m\n\u001b[1;32m      6\u001b[0m \u001b[0;32mdef\u001b[0m \u001b[0mis_listy\u001b[0m\u001b[0;34m(\u001b[0m\u001b[0mx\u001b[0m\u001b[0;34m)\u001b[0m\u001b[0;34m:\u001b[0m \u001b[0;32mreturn\u001b[0m \u001b[0misinstance\u001b[0m\u001b[0;34m(\u001b[0m\u001b[0mx\u001b[0m\u001b[0;34m,\u001b[0m \u001b[0;34m(\u001b[0m\u001b[0mlist\u001b[0m\u001b[0;34m,\u001b[0m\u001b[0mtuple\u001b[0m\u001b[0;34m)\u001b[0m\u001b[0;34m)\u001b[0m\u001b[0;34m\u001b[0m\u001b[0m\n\u001b[1;32m      7\u001b[0m \u001b[0;32mdef\u001b[0m \u001b[0mis_iter\u001b[0m\u001b[0;34m(\u001b[0m\u001b[0mx\u001b[0m\u001b[0;34m)\u001b[0m\u001b[0;34m:\u001b[0m \u001b[0;32mreturn\u001b[0m \u001b[0misinstance\u001b[0m\u001b[0;34m(\u001b[0m\u001b[0mx\u001b[0m\u001b[0;34m,\u001b[0m \u001b[0mcollections\u001b[0m\u001b[0;34m.\u001b[0m\u001b[0mIterable\u001b[0m\u001b[0;34m)\u001b[0m\u001b[0;34m\u001b[0m\u001b[0m\n\u001b[0;32m----> 8\u001b[0;31m \u001b[0;32mdef\u001b[0m \u001b[0mmap_over\u001b[0m\u001b[0;34m(\u001b[0m\u001b[0mx\u001b[0m\u001b[0;34m,\u001b[0m \u001b[0mf\u001b[0m\u001b[0;34m)\u001b[0m\u001b[0;34m:\u001b[0m \u001b[0;32mreturn\u001b[0m \u001b[0;34m[\u001b[0m\u001b[0mf\u001b[0m\u001b[0;34m(\u001b[0m\u001b[0mo\u001b[0m\u001b[0;34m)\u001b[0m \u001b[0;32mfor\u001b[0m \u001b[0mo\u001b[0m \u001b[0;32min\u001b[0m \u001b[0mx\u001b[0m\u001b[0;34m]\u001b[0m \u001b[0;32mif\u001b[0m \u001b[0mis_listy\u001b[0m\u001b[0;34m(\u001b[0m\u001b[0mx\u001b[0m\u001b[0;34m)\u001b[0m \u001b[0;32melse\u001b[0m \u001b[0mf\u001b[0m\u001b[0;34m(\u001b[0m\u001b[0mx\u001b[0m\u001b[0;34m)\u001b[0m\u001b[0;34m\u001b[0m\u001b[0m\n\u001b[0m\u001b[1;32m      9\u001b[0m \u001b[0;32mdef\u001b[0m \u001b[0mmap_none\u001b[0m\u001b[0;34m(\u001b[0m\u001b[0mx\u001b[0m\u001b[0;34m,\u001b[0m \u001b[0mf\u001b[0m\u001b[0;34m)\u001b[0m\u001b[0;34m:\u001b[0m \u001b[0;32mreturn\u001b[0m \u001b[0;32mNone\u001b[0m \u001b[0;32mif\u001b[0m \u001b[0mx\u001b[0m \u001b[0;32mis\u001b[0m \u001b[0;32mNone\u001b[0m \u001b[0;32melse\u001b[0m \u001b[0mf\u001b[0m\u001b[0;34m(\u001b[0m\u001b[0mx\u001b[0m\u001b[0;34m)\u001b[0m\u001b[0;34m\u001b[0m\u001b[0m\n\u001b[1;32m     10\u001b[0m \u001b[0;32mdef\u001b[0m \u001b[0mdelistify\u001b[0m\u001b[0;34m(\u001b[0m\u001b[0mx\u001b[0m\u001b[0;34m)\u001b[0m\u001b[0;34m:\u001b[0m \u001b[0;32mreturn\u001b[0m \u001b[0mx\u001b[0m\u001b[0;34m[\u001b[0m\u001b[0;36m0\u001b[0m\u001b[0;34m]\u001b[0m \u001b[0;32mif\u001b[0m \u001b[0mis_listy\u001b[0m\u001b[0;34m(\u001b[0m\u001b[0mx\u001b[0m\u001b[0;34m)\u001b[0m \u001b[0;32melse\u001b[0m \u001b[0mx\u001b[0m\u001b[0;34m\u001b[0m\u001b[0m\n",
      "\u001b[0;32m~/GitHub/trend-following/fastai/core.py\u001b[0m in \u001b[0;36m<lambda>\u001b[0;34m(o)\u001b[0m\n\u001b[1;32m     53\u001b[0m \u001b[0;32mdef\u001b[0m \u001b[0mV\u001b[0m\u001b[0;34m(\u001b[0m\u001b[0mx\u001b[0m\u001b[0;34m,\u001b[0m \u001b[0mrequires_grad\u001b[0m\u001b[0;34m=\u001b[0m\u001b[0;32mFalse\u001b[0m\u001b[0;34m,\u001b[0m \u001b[0mvolatile\u001b[0m\u001b[0;34m=\u001b[0m\u001b[0;32mFalse\u001b[0m\u001b[0;34m)\u001b[0m\u001b[0;34m:\u001b[0m\u001b[0;34m\u001b[0m\u001b[0m\n\u001b[1;32m     54\u001b[0m     \u001b[0;34m'''creates a single or a list of pytorch tensors, depending on input x. '''\u001b[0m\u001b[0;34m\u001b[0m\u001b[0m\n\u001b[0;32m---> 55\u001b[0;31m     \u001b[0;32mreturn\u001b[0m \u001b[0mmap_over\u001b[0m\u001b[0;34m(\u001b[0m\u001b[0mx\u001b[0m\u001b[0;34m,\u001b[0m \u001b[0;32mlambda\u001b[0m \u001b[0mo\u001b[0m\u001b[0;34m:\u001b[0m \u001b[0mV_\u001b[0m\u001b[0;34m(\u001b[0m\u001b[0mo\u001b[0m\u001b[0;34m,\u001b[0m \u001b[0mrequires_grad\u001b[0m\u001b[0;34m,\u001b[0m \u001b[0mvolatile\u001b[0m\u001b[0;34m)\u001b[0m\u001b[0;34m)\u001b[0m\u001b[0;34m\u001b[0m\u001b[0m\n\u001b[0m\u001b[1;32m     56\u001b[0m \u001b[0;34m\u001b[0m\u001b[0m\n\u001b[1;32m     57\u001b[0m \u001b[0;32mdef\u001b[0m \u001b[0mVV_\u001b[0m\u001b[0;34m(\u001b[0m\u001b[0mx\u001b[0m\u001b[0;34m)\u001b[0m\u001b[0;34m:\u001b[0m\u001b[0;34m\u001b[0m\u001b[0m\n",
      "\u001b[0;32m~/GitHub/trend-following/fastai/core.py\u001b[0m in \u001b[0;36mV_\u001b[0;34m(x, requires_grad, volatile)\u001b[0m\n\u001b[1;32m     50\u001b[0m \u001b[0;32mdef\u001b[0m \u001b[0mV_\u001b[0m\u001b[0;34m(\u001b[0m\u001b[0mx\u001b[0m\u001b[0;34m,\u001b[0m \u001b[0mrequires_grad\u001b[0m\u001b[0;34m=\u001b[0m\u001b[0;32mFalse\u001b[0m\u001b[0;34m,\u001b[0m \u001b[0mvolatile\u001b[0m\u001b[0;34m=\u001b[0m\u001b[0;32mFalse\u001b[0m\u001b[0;34m)\u001b[0m\u001b[0;34m:\u001b[0m\u001b[0;34m\u001b[0m\u001b[0m\n\u001b[1;32m     51\u001b[0m     \u001b[0;34m'''equivalent to create_variable, which creates a pytorch tensor'''\u001b[0m\u001b[0;34m\u001b[0m\u001b[0m\n\u001b[0;32m---> 52\u001b[0;31m     \u001b[0;32mreturn\u001b[0m \u001b[0mcreate_variable\u001b[0m\u001b[0;34m(\u001b[0m\u001b[0mx\u001b[0m\u001b[0;34m,\u001b[0m \u001b[0mvolatile\u001b[0m\u001b[0;34m=\u001b[0m\u001b[0mvolatile\u001b[0m\u001b[0;34m,\u001b[0m \u001b[0mrequires_grad\u001b[0m\u001b[0;34m=\u001b[0m\u001b[0mrequires_grad\u001b[0m\u001b[0;34m)\u001b[0m\u001b[0;34m\u001b[0m\u001b[0m\n\u001b[0m\u001b[1;32m     53\u001b[0m \u001b[0;32mdef\u001b[0m \u001b[0mV\u001b[0m\u001b[0;34m(\u001b[0m\u001b[0mx\u001b[0m\u001b[0;34m,\u001b[0m \u001b[0mrequires_grad\u001b[0m\u001b[0;34m=\u001b[0m\u001b[0;32mFalse\u001b[0m\u001b[0;34m,\u001b[0m \u001b[0mvolatile\u001b[0m\u001b[0;34m=\u001b[0m\u001b[0;32mFalse\u001b[0m\u001b[0;34m)\u001b[0m\u001b[0;34m:\u001b[0m\u001b[0;34m\u001b[0m\u001b[0m\n\u001b[1;32m     54\u001b[0m     \u001b[0;34m'''creates a single or a list of pytorch tensors, depending on input x. '''\u001b[0m\u001b[0;34m\u001b[0m\u001b[0m\n",
      "\u001b[0;32m~/GitHub/trend-following/fastai/core.py\u001b[0m in \u001b[0;36mcreate_variable\u001b[0;34m(x, volatile, requires_grad)\u001b[0m\n\u001b[1;32m     44\u001b[0m \u001b[0;32mdef\u001b[0m \u001b[0mcreate_variable\u001b[0m\u001b[0;34m(\u001b[0m\u001b[0mx\u001b[0m\u001b[0;34m,\u001b[0m \u001b[0mvolatile\u001b[0m\u001b[0;34m,\u001b[0m \u001b[0mrequires_grad\u001b[0m\u001b[0;34m=\u001b[0m\u001b[0;32mFalse\u001b[0m\u001b[0;34m)\u001b[0m\u001b[0;34m:\u001b[0m\u001b[0;34m\u001b[0m\u001b[0m\n\u001b[1;32m     45\u001b[0m     \u001b[0;32mif\u001b[0m \u001b[0mtype\u001b[0m \u001b[0;34m(\u001b[0m\u001b[0mx\u001b[0m\u001b[0;34m)\u001b[0m \u001b[0;34m!=\u001b[0m \u001b[0mVariable\u001b[0m\u001b[0;34m:\u001b[0m\u001b[0;34m\u001b[0m\u001b[0m\n\u001b[0;32m---> 46\u001b[0;31m         \u001b[0;32mif\u001b[0m \u001b[0mIS_TORCH_04\u001b[0m\u001b[0;34m:\u001b[0m \u001b[0mx\u001b[0m \u001b[0;34m=\u001b[0m \u001b[0mVariable\u001b[0m\u001b[0;34m(\u001b[0m\u001b[0mT\u001b[0m\u001b[0;34m(\u001b[0m\u001b[0mx\u001b[0m\u001b[0;34m)\u001b[0m\u001b[0;34m,\u001b[0m \u001b[0mrequires_grad\u001b[0m\u001b[0;34m=\u001b[0m\u001b[0mrequires_grad\u001b[0m\u001b[0;34m)\u001b[0m\u001b[0;34m\u001b[0m\u001b[0m\n\u001b[0m\u001b[1;32m     47\u001b[0m         \u001b[0;32melse\u001b[0m\u001b[0;34m:\u001b[0m           \u001b[0mx\u001b[0m \u001b[0;34m=\u001b[0m \u001b[0mVariable\u001b[0m\u001b[0;34m(\u001b[0m\u001b[0mT\u001b[0m\u001b[0;34m(\u001b[0m\u001b[0mx\u001b[0m\u001b[0;34m)\u001b[0m\u001b[0;34m,\u001b[0m \u001b[0mrequires_grad\u001b[0m\u001b[0;34m=\u001b[0m\u001b[0mrequires_grad\u001b[0m\u001b[0;34m,\u001b[0m \u001b[0mvolatile\u001b[0m\u001b[0;34m=\u001b[0m\u001b[0mvolatile\u001b[0m\u001b[0;34m)\u001b[0m\u001b[0;34m\u001b[0m\u001b[0m\n\u001b[1;32m     48\u001b[0m     \u001b[0;32mreturn\u001b[0m \u001b[0mx\u001b[0m\u001b[0;34m\u001b[0m\u001b[0m\n",
      "\u001b[0;32m~/GitHub/trend-following/fastai/core.py\u001b[0m in \u001b[0;36mT\u001b[0;34m(a, half, cuda)\u001b[0m\n\u001b[1;32m     38\u001b[0m         \u001b[0;32melif\u001b[0m \u001b[0ma\u001b[0m\u001b[0;34m.\u001b[0m\u001b[0mdtype\u001b[0m \u001b[0;32min\u001b[0m \u001b[0;34m(\u001b[0m\u001b[0mnp\u001b[0m\u001b[0;34m.\u001b[0m\u001b[0mfloat32\u001b[0m\u001b[0;34m,\u001b[0m \u001b[0mnp\u001b[0m\u001b[0;34m.\u001b[0m\u001b[0mfloat64\u001b[0m\u001b[0;34m)\u001b[0m\u001b[0;34m:\u001b[0m\u001b[0;34m\u001b[0m\u001b[0m\n\u001b[1;32m     39\u001b[0m             \u001b[0ma\u001b[0m \u001b[0;34m=\u001b[0m \u001b[0mtorch\u001b[0m\u001b[0;34m.\u001b[0m\u001b[0mcuda\u001b[0m\u001b[0;34m.\u001b[0m\u001b[0mHalfTensor\u001b[0m\u001b[0;34m(\u001b[0m\u001b[0ma\u001b[0m\u001b[0;34m)\u001b[0m \u001b[0;32mif\u001b[0m \u001b[0mhalf\u001b[0m \u001b[0;32melse\u001b[0m \u001b[0mtorch\u001b[0m\u001b[0;34m.\u001b[0m\u001b[0mFloatTensor\u001b[0m\u001b[0;34m(\u001b[0m\u001b[0ma\u001b[0m\u001b[0;34m)\u001b[0m\u001b[0;34m\u001b[0m\u001b[0m\n\u001b[0;32m---> 40\u001b[0;31m         \u001b[0;32melse\u001b[0m\u001b[0;34m:\u001b[0m \u001b[0;32mraise\u001b[0m \u001b[0mNotImplementedError\u001b[0m\u001b[0;34m(\u001b[0m\u001b[0ma\u001b[0m\u001b[0;34m.\u001b[0m\u001b[0mdtype\u001b[0m\u001b[0;34m)\u001b[0m\u001b[0;34m\u001b[0m\u001b[0m\n\u001b[0m\u001b[1;32m     41\u001b[0m     \u001b[0;32mif\u001b[0m \u001b[0mcuda\u001b[0m\u001b[0;34m:\u001b[0m \u001b[0ma\u001b[0m \u001b[0;34m=\u001b[0m \u001b[0mto_gpu\u001b[0m\u001b[0;34m(\u001b[0m\u001b[0ma\u001b[0m\u001b[0;34m,\u001b[0m \u001b[0masync\u001b[0m\u001b[0;34m=\u001b[0m\u001b[0;32mTrue\u001b[0m\u001b[0;34m)\u001b[0m\u001b[0;34m\u001b[0m\u001b[0m\n\u001b[1;32m     42\u001b[0m     \u001b[0;32mreturn\u001b[0m \u001b[0ma\u001b[0m\u001b[0;34m\u001b[0m\u001b[0m\n",
      "\u001b[0;31mNotImplementedError\u001b[0m: <U8"
     ]
    }
   ],
   "source": [
    "fit(seq, sim_data, 2, optim.SGD(seq.parameters(), 1e-3, momentum=0.9), seq.loss)"
   ]
  },
  {
   "cell_type": "markdown",
   "metadata": {},
   "source": [
    "### Learner"
   ]
  },
  {
   "cell_type": "code",
   "execution_count": 134,
   "metadata": {
    "ExecuteTime": {
     "end_time": "2018-08-10T20:40:23.123182Z",
     "start_time": "2018-08-10T20:40:23.069875Z"
    }
   },
   "outputs": [
    {
     "ename": "TypeError",
     "evalue": "'int' object is not iterable",
     "output_type": "error",
     "traceback": [
      "\u001b[0;31m---------------------------------------------------------------------------\u001b[0m",
      "\u001b[0;31mTypeError\u001b[0m                                 Traceback (most recent call last)",
      "\u001b[0;32m<ipython-input-134-c808d073e251>\u001b[0m in \u001b[0;36m<module>\u001b[0;34m()\u001b[0m\n\u001b[0;32m----> 1\u001b[0;31m \u001b[0mmodel_summary\u001b[0m\u001b[0;34m(\u001b[0m\u001b[0mseq\u001b[0m\u001b[0;34m,\u001b[0m \u001b[0;36m1\u001b[0m\u001b[0;34m)\u001b[0m\u001b[0;34m\u001b[0m\u001b[0m\n\u001b[0m",
      "\u001b[0;32m~/GitHub/trend-following/fastai/model.py\u001b[0m in \u001b[0;36mmodel_summary\u001b[0;34m(m, inputs)\u001b[0m\n\u001b[1;32m    298\u001b[0m     \u001b[0mhooks\u001b[0m \u001b[0;34m=\u001b[0m \u001b[0;34m[\u001b[0m\u001b[0;34m]\u001b[0m\u001b[0;34m\u001b[0m\u001b[0m\n\u001b[1;32m    299\u001b[0m     \u001b[0mm\u001b[0m\u001b[0;34m.\u001b[0m\u001b[0mapply\u001b[0m\u001b[0;34m(\u001b[0m\u001b[0mregister_hook\u001b[0m\u001b[0;34m)\u001b[0m\u001b[0;34m\u001b[0m\u001b[0m\n\u001b[0;32m--> 300\u001b[0;31m     \u001b[0mxs\u001b[0m \u001b[0;34m=\u001b[0m \u001b[0;34m[\u001b[0m\u001b[0mto_gpu\u001b[0m\u001b[0;34m(\u001b[0m\u001b[0mVariable\u001b[0m\u001b[0;34m(\u001b[0m\u001b[0mx\u001b[0m\u001b[0;34m)\u001b[0m\u001b[0;34m)\u001b[0m \u001b[0;32mfor\u001b[0m \u001b[0mx\u001b[0m \u001b[0;32min\u001b[0m \u001b[0minputs\u001b[0m\u001b[0;34m]\u001b[0m\u001b[0;34m\u001b[0m\u001b[0m\n\u001b[0m\u001b[1;32m    301\u001b[0m     \u001b[0mm\u001b[0m\u001b[0;34m(\u001b[0m\u001b[0;34m*\u001b[0m\u001b[0mxs\u001b[0m\u001b[0;34m)\u001b[0m\u001b[0;34m\u001b[0m\u001b[0m\n\u001b[1;32m    302\u001b[0m \u001b[0;34m\u001b[0m\u001b[0m\n",
      "\u001b[0;31mTypeError\u001b[0m: 'int' object is not iterable"
     ]
    }
   ],
   "source": [
    "model_summary(seq, 1)"
   ]
  },
  {
   "cell_type": "code",
   "execution_count": 126,
   "metadata": {
    "ExecuteTime": {
     "end_time": "2018-08-10T20:36:47.634982Z",
     "start_time": "2018-08-10T20:36:47.591218Z"
    }
   },
   "outputs": [],
   "source": [
    "class PriceModelLearner(Learner):\n",
    "    def __init__(self, data, models, **kwargs):\n",
    "        super().__init__(data, models, **kwargs)\n",
    "\n",
    "    def _get_crit(self, data): return seq.loss\n",
    "\n",
    "    def summary(self): return model_summary(self.model, [torch.ones(3).long(), torch.ones(3).long()])\n"
   ]
  },
  {
   "cell_type": "code",
   "execution_count": 127,
   "metadata": {
    "ExecuteTime": {
     "end_time": "2018-08-10T20:36:48.404744Z",
     "start_time": "2018-08-10T20:36:48.354936Z"
    }
   },
   "outputs": [
    {
     "data": {
      "text/plain": [
       "Sequence(\n",
       "  (lstm1): LSTMCell(26, 51)\n",
       "  (lstm2): LSTMCell(51, 51)\n",
       "  (linear): Linear(in_features=51, out_features=3, bias=True)\n",
       "  (softmax): LogSoftmax()\n",
       "  (loss_fun): NLLLoss()\n",
       ")"
      ]
     },
     "execution_count": 127,
     "metadata": {},
     "output_type": "execute_result"
    }
   ],
   "source": [
    "sim_learner = PriceModelLearner(sim_data, BasicModel(seq, name='seq'))\n",
    "sim_learner"
   ]
  },
  {
   "cell_type": "code",
   "execution_count": 130,
   "metadata": {
    "ExecuteTime": {
     "end_time": "2018-08-10T20:37:24.411987Z",
     "start_time": "2018-08-10T20:37:24.312465Z"
    }
   },
   "outputs": [
    {
     "data": {
      "application/vnd.jupyter.widget-view+json": {
       "model_id": "7922e7074dd84b11823385601770e5eb",
       "version_major": 2,
       "version_minor": 0
      },
      "text/plain": [
       "HBox(children=(IntProgress(value=0, description='Epoch', max=2), HTML(value='')))"
      ]
     },
     "metadata": {},
     "output_type": "display_data"
    },
    {
     "name": "stdout",
     "output_type": "stream",
     "text": [
      "  0%|          | 0/2 [00:00<?, ?it/s]\n"
     ]
    },
    {
     "ename": "NotImplementedError",
     "evalue": "<U8",
     "output_type": "error",
     "traceback": [
      "\u001b[0;31m---------------------------------------------------------------------------\u001b[0m",
      "\u001b[0;31mNotImplementedError\u001b[0m                       Traceback (most recent call last)",
      "\u001b[0;32m<ipython-input-130-e1d2a3ce05f8>\u001b[0m in \u001b[0;36m<module>\u001b[0;34m()\u001b[0m\n\u001b[0;32m----> 1\u001b[0;31m \u001b[0msim_learner\u001b[0m\u001b[0;34m.\u001b[0m\u001b[0mfit\u001b[0m\u001b[0;34m(\u001b[0m\u001b[0;36m1e-3\u001b[0m\u001b[0;34m,\u001b[0m \u001b[0;36m2\u001b[0m\u001b[0;34m)\u001b[0m\u001b[0;34m\u001b[0m\u001b[0m\n\u001b[0m",
      "\u001b[0;32m~/GitHub/trend-following/fastai/learner.py\u001b[0m in \u001b[0;36mfit\u001b[0;34m(self, lrs, n_cycle, wds, **kwargs)\u001b[0m\n\u001b[1;32m    302\u001b[0m         \u001b[0mself\u001b[0m\u001b[0;34m.\u001b[0m\u001b[0msched\u001b[0m \u001b[0;34m=\u001b[0m \u001b[0;32mNone\u001b[0m\u001b[0;34m\u001b[0m\u001b[0m\n\u001b[1;32m    303\u001b[0m         \u001b[0mlayer_opt\u001b[0m \u001b[0;34m=\u001b[0m \u001b[0mself\u001b[0m\u001b[0;34m.\u001b[0m\u001b[0mget_layer_opt\u001b[0m\u001b[0;34m(\u001b[0m\u001b[0mlrs\u001b[0m\u001b[0;34m,\u001b[0m \u001b[0mwds\u001b[0m\u001b[0;34m)\u001b[0m\u001b[0;34m\u001b[0m\u001b[0m\n\u001b[0;32m--> 304\u001b[0;31m         \u001b[0;32mreturn\u001b[0m \u001b[0mself\u001b[0m\u001b[0;34m.\u001b[0m\u001b[0mfit_gen\u001b[0m\u001b[0;34m(\u001b[0m\u001b[0mself\u001b[0m\u001b[0;34m.\u001b[0m\u001b[0mmodel\u001b[0m\u001b[0;34m,\u001b[0m \u001b[0mself\u001b[0m\u001b[0;34m.\u001b[0m\u001b[0mdata\u001b[0m\u001b[0;34m,\u001b[0m \u001b[0mlayer_opt\u001b[0m\u001b[0;34m,\u001b[0m \u001b[0mn_cycle\u001b[0m\u001b[0;34m,\u001b[0m \u001b[0;34m**\u001b[0m\u001b[0mkwargs\u001b[0m\u001b[0;34m)\u001b[0m\u001b[0;34m\u001b[0m\u001b[0m\n\u001b[0m\u001b[1;32m    305\u001b[0m \u001b[0;34m\u001b[0m\u001b[0m\n\u001b[1;32m    306\u001b[0m     \u001b[0;32mdef\u001b[0m \u001b[0mwarm_up\u001b[0m\u001b[0;34m(\u001b[0m\u001b[0mself\u001b[0m\u001b[0;34m,\u001b[0m \u001b[0mlr\u001b[0m\u001b[0;34m,\u001b[0m \u001b[0mwds\u001b[0m\u001b[0;34m=\u001b[0m\u001b[0;32mNone\u001b[0m\u001b[0;34m)\u001b[0m\u001b[0;34m:\u001b[0m\u001b[0;34m\u001b[0m\u001b[0m\n",
      "\u001b[0;32m~/GitHub/trend-following/fastai/learner.py\u001b[0m in \u001b[0;36mfit_gen\u001b[0;34m(self, model, data, layer_opt, n_cycle, cycle_len, cycle_mult, cycle_save_name, best_save_name, use_clr, use_clr_beta, metrics, callbacks, use_wd_sched, norm_wds, wds_sched_mult, use_swa, swa_start, swa_eval_freq, **kwargs)\u001b[0m\n\u001b[1;32m    249\u001b[0m             \u001b[0mmetrics\u001b[0m\u001b[0;34m=\u001b[0m\u001b[0mmetrics\u001b[0m\u001b[0;34m,\u001b[0m \u001b[0mcallbacks\u001b[0m\u001b[0;34m=\u001b[0m\u001b[0mcallbacks\u001b[0m\u001b[0;34m,\u001b[0m \u001b[0mreg_fn\u001b[0m\u001b[0;34m=\u001b[0m\u001b[0mself\u001b[0m\u001b[0;34m.\u001b[0m\u001b[0mreg_fn\u001b[0m\u001b[0;34m,\u001b[0m \u001b[0mclip\u001b[0m\u001b[0;34m=\u001b[0m\u001b[0mself\u001b[0m\u001b[0;34m.\u001b[0m\u001b[0mclip\u001b[0m\u001b[0;34m,\u001b[0m \u001b[0mfp16\u001b[0m\u001b[0;34m=\u001b[0m\u001b[0mself\u001b[0m\u001b[0;34m.\u001b[0m\u001b[0mfp16\u001b[0m\u001b[0;34m,\u001b[0m\u001b[0;34m\u001b[0m\u001b[0m\n\u001b[1;32m    250\u001b[0m             \u001b[0mswa_model\u001b[0m\u001b[0;34m=\u001b[0m\u001b[0mself\u001b[0m\u001b[0;34m.\u001b[0m\u001b[0mswa_model\u001b[0m \u001b[0;32mif\u001b[0m \u001b[0muse_swa\u001b[0m \u001b[0;32melse\u001b[0m \u001b[0;32mNone\u001b[0m\u001b[0;34m,\u001b[0m \u001b[0mswa_start\u001b[0m\u001b[0;34m=\u001b[0m\u001b[0mswa_start\u001b[0m\u001b[0;34m,\u001b[0m\u001b[0;34m\u001b[0m\u001b[0m\n\u001b[0;32m--> 251\u001b[0;31m             swa_eval_freq=swa_eval_freq, **kwargs)\n\u001b[0m\u001b[1;32m    252\u001b[0m \u001b[0;34m\u001b[0m\u001b[0m\n\u001b[1;32m    253\u001b[0m     \u001b[0;32mdef\u001b[0m \u001b[0mget_layer_groups\u001b[0m\u001b[0;34m(\u001b[0m\u001b[0mself\u001b[0m\u001b[0;34m)\u001b[0m\u001b[0;34m:\u001b[0m \u001b[0;32mreturn\u001b[0m \u001b[0mself\u001b[0m\u001b[0;34m.\u001b[0m\u001b[0mmodels\u001b[0m\u001b[0;34m.\u001b[0m\u001b[0mget_layer_groups\u001b[0m\u001b[0;34m(\u001b[0m\u001b[0;34m)\u001b[0m\u001b[0;34m\u001b[0m\u001b[0m\n",
      "\u001b[0;32m~/GitHub/trend-following/fastai/model.py\u001b[0m in \u001b[0;36mfit\u001b[0;34m(model, data, n_epochs, opt, crit, metrics, callbacks, stepper, swa_model, swa_start, swa_eval_freq, visualize, **kwargs)\u001b[0m\n\u001b[1;32m    139\u001b[0m             \u001b[0mbatch_num\u001b[0m \u001b[0;34m+=\u001b[0m \u001b[0;36m1\u001b[0m\u001b[0;34m\u001b[0m\u001b[0m\n\u001b[1;32m    140\u001b[0m             \u001b[0;32mfor\u001b[0m \u001b[0mcb\u001b[0m \u001b[0;32min\u001b[0m \u001b[0mcallbacks\u001b[0m\u001b[0;34m:\u001b[0m \u001b[0mcb\u001b[0m\u001b[0;34m.\u001b[0m\u001b[0mon_batch_begin\u001b[0m\u001b[0;34m(\u001b[0m\u001b[0;34m)\u001b[0m\u001b[0;34m\u001b[0m\u001b[0m\n\u001b[0;32m--> 141\u001b[0;31m             \u001b[0mloss\u001b[0m \u001b[0;34m=\u001b[0m \u001b[0mmodel_stepper\u001b[0m\u001b[0;34m.\u001b[0m\u001b[0mstep\u001b[0m\u001b[0;34m(\u001b[0m\u001b[0mV\u001b[0m\u001b[0;34m(\u001b[0m\u001b[0mx\u001b[0m\u001b[0;34m)\u001b[0m\u001b[0;34m,\u001b[0m\u001b[0mV\u001b[0m\u001b[0;34m(\u001b[0m\u001b[0my\u001b[0m\u001b[0;34m)\u001b[0m\u001b[0;34m,\u001b[0m \u001b[0mepoch\u001b[0m\u001b[0;34m)\u001b[0m\u001b[0;34m\u001b[0m\u001b[0m\n\u001b[0m\u001b[1;32m    142\u001b[0m             \u001b[0mavg_loss\u001b[0m \u001b[0;34m=\u001b[0m \u001b[0mavg_loss\u001b[0m \u001b[0;34m*\u001b[0m \u001b[0mavg_mom\u001b[0m \u001b[0;34m+\u001b[0m \u001b[0mloss\u001b[0m \u001b[0;34m*\u001b[0m \u001b[0;34m(\u001b[0m\u001b[0;36m1\u001b[0m\u001b[0;34m-\u001b[0m\u001b[0mavg_mom\u001b[0m\u001b[0;34m)\u001b[0m\u001b[0;34m\u001b[0m\u001b[0m\n\u001b[1;32m    143\u001b[0m             \u001b[0mdebias_loss\u001b[0m \u001b[0;34m=\u001b[0m \u001b[0mavg_loss\u001b[0m \u001b[0;34m/\u001b[0m \u001b[0;34m(\u001b[0m\u001b[0;36m1\u001b[0m \u001b[0;34m-\u001b[0m \u001b[0mavg_mom\u001b[0m\u001b[0;34m**\u001b[0m\u001b[0mbatch_num\u001b[0m\u001b[0;34m)\u001b[0m\u001b[0;34m\u001b[0m\u001b[0m\n",
      "\u001b[0;32m~/GitHub/trend-following/fastai/core.py\u001b[0m in \u001b[0;36mV\u001b[0;34m(x, requires_grad, volatile)\u001b[0m\n\u001b[1;32m     53\u001b[0m \u001b[0;32mdef\u001b[0m \u001b[0mV\u001b[0m\u001b[0;34m(\u001b[0m\u001b[0mx\u001b[0m\u001b[0;34m,\u001b[0m \u001b[0mrequires_grad\u001b[0m\u001b[0;34m=\u001b[0m\u001b[0;32mFalse\u001b[0m\u001b[0;34m,\u001b[0m \u001b[0mvolatile\u001b[0m\u001b[0;34m=\u001b[0m\u001b[0;32mFalse\u001b[0m\u001b[0;34m)\u001b[0m\u001b[0;34m:\u001b[0m\u001b[0;34m\u001b[0m\u001b[0m\n\u001b[1;32m     54\u001b[0m     \u001b[0;34m'''creates a single or a list of pytorch tensors, depending on input x. '''\u001b[0m\u001b[0;34m\u001b[0m\u001b[0m\n\u001b[0;32m---> 55\u001b[0;31m     \u001b[0;32mreturn\u001b[0m \u001b[0mmap_over\u001b[0m\u001b[0;34m(\u001b[0m\u001b[0mx\u001b[0m\u001b[0;34m,\u001b[0m \u001b[0;32mlambda\u001b[0m \u001b[0mo\u001b[0m\u001b[0;34m:\u001b[0m \u001b[0mV_\u001b[0m\u001b[0;34m(\u001b[0m\u001b[0mo\u001b[0m\u001b[0;34m,\u001b[0m \u001b[0mrequires_grad\u001b[0m\u001b[0;34m,\u001b[0m \u001b[0mvolatile\u001b[0m\u001b[0;34m)\u001b[0m\u001b[0;34m)\u001b[0m\u001b[0;34m\u001b[0m\u001b[0m\n\u001b[0m\u001b[1;32m     56\u001b[0m \u001b[0;34m\u001b[0m\u001b[0m\n\u001b[1;32m     57\u001b[0m \u001b[0;32mdef\u001b[0m \u001b[0mVV_\u001b[0m\u001b[0;34m(\u001b[0m\u001b[0mx\u001b[0m\u001b[0;34m)\u001b[0m\u001b[0;34m:\u001b[0m\u001b[0;34m\u001b[0m\u001b[0m\n",
      "\u001b[0;32m~/GitHub/trend-following/fastai/core.py\u001b[0m in \u001b[0;36mmap_over\u001b[0;34m(x, f)\u001b[0m\n\u001b[1;32m      6\u001b[0m \u001b[0;32mdef\u001b[0m \u001b[0mis_listy\u001b[0m\u001b[0;34m(\u001b[0m\u001b[0mx\u001b[0m\u001b[0;34m)\u001b[0m\u001b[0;34m:\u001b[0m \u001b[0;32mreturn\u001b[0m \u001b[0misinstance\u001b[0m\u001b[0;34m(\u001b[0m\u001b[0mx\u001b[0m\u001b[0;34m,\u001b[0m \u001b[0;34m(\u001b[0m\u001b[0mlist\u001b[0m\u001b[0;34m,\u001b[0m\u001b[0mtuple\u001b[0m\u001b[0;34m)\u001b[0m\u001b[0;34m)\u001b[0m\u001b[0;34m\u001b[0m\u001b[0m\n\u001b[1;32m      7\u001b[0m \u001b[0;32mdef\u001b[0m \u001b[0mis_iter\u001b[0m\u001b[0;34m(\u001b[0m\u001b[0mx\u001b[0m\u001b[0;34m)\u001b[0m\u001b[0;34m:\u001b[0m \u001b[0;32mreturn\u001b[0m \u001b[0misinstance\u001b[0m\u001b[0;34m(\u001b[0m\u001b[0mx\u001b[0m\u001b[0;34m,\u001b[0m \u001b[0mcollections\u001b[0m\u001b[0;34m.\u001b[0m\u001b[0mIterable\u001b[0m\u001b[0;34m)\u001b[0m\u001b[0;34m\u001b[0m\u001b[0m\n\u001b[0;32m----> 8\u001b[0;31m \u001b[0;32mdef\u001b[0m \u001b[0mmap_over\u001b[0m\u001b[0;34m(\u001b[0m\u001b[0mx\u001b[0m\u001b[0;34m,\u001b[0m \u001b[0mf\u001b[0m\u001b[0;34m)\u001b[0m\u001b[0;34m:\u001b[0m \u001b[0;32mreturn\u001b[0m \u001b[0;34m[\u001b[0m\u001b[0mf\u001b[0m\u001b[0;34m(\u001b[0m\u001b[0mo\u001b[0m\u001b[0;34m)\u001b[0m \u001b[0;32mfor\u001b[0m \u001b[0mo\u001b[0m \u001b[0;32min\u001b[0m \u001b[0mx\u001b[0m\u001b[0;34m]\u001b[0m \u001b[0;32mif\u001b[0m \u001b[0mis_listy\u001b[0m\u001b[0;34m(\u001b[0m\u001b[0mx\u001b[0m\u001b[0;34m)\u001b[0m \u001b[0;32melse\u001b[0m \u001b[0mf\u001b[0m\u001b[0;34m(\u001b[0m\u001b[0mx\u001b[0m\u001b[0;34m)\u001b[0m\u001b[0;34m\u001b[0m\u001b[0m\n\u001b[0m\u001b[1;32m      9\u001b[0m \u001b[0;32mdef\u001b[0m \u001b[0mmap_none\u001b[0m\u001b[0;34m(\u001b[0m\u001b[0mx\u001b[0m\u001b[0;34m,\u001b[0m \u001b[0mf\u001b[0m\u001b[0;34m)\u001b[0m\u001b[0;34m:\u001b[0m \u001b[0;32mreturn\u001b[0m \u001b[0;32mNone\u001b[0m \u001b[0;32mif\u001b[0m \u001b[0mx\u001b[0m \u001b[0;32mis\u001b[0m \u001b[0;32mNone\u001b[0m \u001b[0;32melse\u001b[0m \u001b[0mf\u001b[0m\u001b[0;34m(\u001b[0m\u001b[0mx\u001b[0m\u001b[0;34m)\u001b[0m\u001b[0;34m\u001b[0m\u001b[0m\n\u001b[1;32m     10\u001b[0m \u001b[0;32mdef\u001b[0m \u001b[0mdelistify\u001b[0m\u001b[0;34m(\u001b[0m\u001b[0mx\u001b[0m\u001b[0;34m)\u001b[0m\u001b[0;34m:\u001b[0m \u001b[0;32mreturn\u001b[0m \u001b[0mx\u001b[0m\u001b[0;34m[\u001b[0m\u001b[0;36m0\u001b[0m\u001b[0;34m]\u001b[0m \u001b[0;32mif\u001b[0m \u001b[0mis_listy\u001b[0m\u001b[0;34m(\u001b[0m\u001b[0mx\u001b[0m\u001b[0;34m)\u001b[0m \u001b[0;32melse\u001b[0m \u001b[0mx\u001b[0m\u001b[0;34m\u001b[0m\u001b[0m\n",
      "\u001b[0;32m~/GitHub/trend-following/fastai/core.py\u001b[0m in \u001b[0;36m<listcomp>\u001b[0;34m(.0)\u001b[0m\n\u001b[1;32m      6\u001b[0m \u001b[0;32mdef\u001b[0m \u001b[0mis_listy\u001b[0m\u001b[0;34m(\u001b[0m\u001b[0mx\u001b[0m\u001b[0;34m)\u001b[0m\u001b[0;34m:\u001b[0m \u001b[0;32mreturn\u001b[0m \u001b[0misinstance\u001b[0m\u001b[0;34m(\u001b[0m\u001b[0mx\u001b[0m\u001b[0;34m,\u001b[0m \u001b[0;34m(\u001b[0m\u001b[0mlist\u001b[0m\u001b[0;34m,\u001b[0m\u001b[0mtuple\u001b[0m\u001b[0;34m)\u001b[0m\u001b[0;34m)\u001b[0m\u001b[0;34m\u001b[0m\u001b[0m\n\u001b[1;32m      7\u001b[0m \u001b[0;32mdef\u001b[0m \u001b[0mis_iter\u001b[0m\u001b[0;34m(\u001b[0m\u001b[0mx\u001b[0m\u001b[0;34m)\u001b[0m\u001b[0;34m:\u001b[0m \u001b[0;32mreturn\u001b[0m \u001b[0misinstance\u001b[0m\u001b[0;34m(\u001b[0m\u001b[0mx\u001b[0m\u001b[0;34m,\u001b[0m \u001b[0mcollections\u001b[0m\u001b[0;34m.\u001b[0m\u001b[0mIterable\u001b[0m\u001b[0;34m)\u001b[0m\u001b[0;34m\u001b[0m\u001b[0m\n\u001b[0;32m----> 8\u001b[0;31m \u001b[0;32mdef\u001b[0m \u001b[0mmap_over\u001b[0m\u001b[0;34m(\u001b[0m\u001b[0mx\u001b[0m\u001b[0;34m,\u001b[0m \u001b[0mf\u001b[0m\u001b[0;34m)\u001b[0m\u001b[0;34m:\u001b[0m \u001b[0;32mreturn\u001b[0m \u001b[0;34m[\u001b[0m\u001b[0mf\u001b[0m\u001b[0;34m(\u001b[0m\u001b[0mo\u001b[0m\u001b[0;34m)\u001b[0m \u001b[0;32mfor\u001b[0m \u001b[0mo\u001b[0m \u001b[0;32min\u001b[0m \u001b[0mx\u001b[0m\u001b[0;34m]\u001b[0m \u001b[0;32mif\u001b[0m \u001b[0mis_listy\u001b[0m\u001b[0;34m(\u001b[0m\u001b[0mx\u001b[0m\u001b[0;34m)\u001b[0m \u001b[0;32melse\u001b[0m \u001b[0mf\u001b[0m\u001b[0;34m(\u001b[0m\u001b[0mx\u001b[0m\u001b[0;34m)\u001b[0m\u001b[0;34m\u001b[0m\u001b[0m\n\u001b[0m\u001b[1;32m      9\u001b[0m \u001b[0;32mdef\u001b[0m \u001b[0mmap_none\u001b[0m\u001b[0;34m(\u001b[0m\u001b[0mx\u001b[0m\u001b[0;34m,\u001b[0m \u001b[0mf\u001b[0m\u001b[0;34m)\u001b[0m\u001b[0;34m:\u001b[0m \u001b[0;32mreturn\u001b[0m \u001b[0;32mNone\u001b[0m \u001b[0;32mif\u001b[0m \u001b[0mx\u001b[0m \u001b[0;32mis\u001b[0m \u001b[0;32mNone\u001b[0m \u001b[0;32melse\u001b[0m \u001b[0mf\u001b[0m\u001b[0;34m(\u001b[0m\u001b[0mx\u001b[0m\u001b[0;34m)\u001b[0m\u001b[0;34m\u001b[0m\u001b[0m\n\u001b[1;32m     10\u001b[0m \u001b[0;32mdef\u001b[0m \u001b[0mdelistify\u001b[0m\u001b[0;34m(\u001b[0m\u001b[0mx\u001b[0m\u001b[0;34m)\u001b[0m\u001b[0;34m:\u001b[0m \u001b[0;32mreturn\u001b[0m \u001b[0mx\u001b[0m\u001b[0;34m[\u001b[0m\u001b[0;36m0\u001b[0m\u001b[0;34m]\u001b[0m \u001b[0;32mif\u001b[0m \u001b[0mis_listy\u001b[0m\u001b[0;34m(\u001b[0m\u001b[0mx\u001b[0m\u001b[0;34m)\u001b[0m \u001b[0;32melse\u001b[0m \u001b[0mx\u001b[0m\u001b[0;34m\u001b[0m\u001b[0m\n",
      "\u001b[0;32m~/GitHub/trend-following/fastai/core.py\u001b[0m in \u001b[0;36m<lambda>\u001b[0;34m(o)\u001b[0m\n\u001b[1;32m     53\u001b[0m \u001b[0;32mdef\u001b[0m \u001b[0mV\u001b[0m\u001b[0;34m(\u001b[0m\u001b[0mx\u001b[0m\u001b[0;34m,\u001b[0m \u001b[0mrequires_grad\u001b[0m\u001b[0;34m=\u001b[0m\u001b[0;32mFalse\u001b[0m\u001b[0;34m,\u001b[0m \u001b[0mvolatile\u001b[0m\u001b[0;34m=\u001b[0m\u001b[0;32mFalse\u001b[0m\u001b[0;34m)\u001b[0m\u001b[0;34m:\u001b[0m\u001b[0;34m\u001b[0m\u001b[0m\n\u001b[1;32m     54\u001b[0m     \u001b[0;34m'''creates a single or a list of pytorch tensors, depending on input x. '''\u001b[0m\u001b[0;34m\u001b[0m\u001b[0m\n\u001b[0;32m---> 55\u001b[0;31m     \u001b[0;32mreturn\u001b[0m \u001b[0mmap_over\u001b[0m\u001b[0;34m(\u001b[0m\u001b[0mx\u001b[0m\u001b[0;34m,\u001b[0m \u001b[0;32mlambda\u001b[0m \u001b[0mo\u001b[0m\u001b[0;34m:\u001b[0m \u001b[0mV_\u001b[0m\u001b[0;34m(\u001b[0m\u001b[0mo\u001b[0m\u001b[0;34m,\u001b[0m \u001b[0mrequires_grad\u001b[0m\u001b[0;34m,\u001b[0m \u001b[0mvolatile\u001b[0m\u001b[0;34m)\u001b[0m\u001b[0;34m)\u001b[0m\u001b[0;34m\u001b[0m\u001b[0m\n\u001b[0m\u001b[1;32m     56\u001b[0m \u001b[0;34m\u001b[0m\u001b[0m\n\u001b[1;32m     57\u001b[0m \u001b[0;32mdef\u001b[0m \u001b[0mVV_\u001b[0m\u001b[0;34m(\u001b[0m\u001b[0mx\u001b[0m\u001b[0;34m)\u001b[0m\u001b[0;34m:\u001b[0m\u001b[0;34m\u001b[0m\u001b[0m\n",
      "\u001b[0;32m~/GitHub/trend-following/fastai/core.py\u001b[0m in \u001b[0;36mV_\u001b[0;34m(x, requires_grad, volatile)\u001b[0m\n\u001b[1;32m     50\u001b[0m \u001b[0;32mdef\u001b[0m \u001b[0mV_\u001b[0m\u001b[0;34m(\u001b[0m\u001b[0mx\u001b[0m\u001b[0;34m,\u001b[0m \u001b[0mrequires_grad\u001b[0m\u001b[0;34m=\u001b[0m\u001b[0;32mFalse\u001b[0m\u001b[0;34m,\u001b[0m \u001b[0mvolatile\u001b[0m\u001b[0;34m=\u001b[0m\u001b[0;32mFalse\u001b[0m\u001b[0;34m)\u001b[0m\u001b[0;34m:\u001b[0m\u001b[0;34m\u001b[0m\u001b[0m\n\u001b[1;32m     51\u001b[0m     \u001b[0;34m'''equivalent to create_variable, which creates a pytorch tensor'''\u001b[0m\u001b[0;34m\u001b[0m\u001b[0m\n\u001b[0;32m---> 52\u001b[0;31m     \u001b[0;32mreturn\u001b[0m \u001b[0mcreate_variable\u001b[0m\u001b[0;34m(\u001b[0m\u001b[0mx\u001b[0m\u001b[0;34m,\u001b[0m \u001b[0mvolatile\u001b[0m\u001b[0;34m=\u001b[0m\u001b[0mvolatile\u001b[0m\u001b[0;34m,\u001b[0m \u001b[0mrequires_grad\u001b[0m\u001b[0;34m=\u001b[0m\u001b[0mrequires_grad\u001b[0m\u001b[0;34m)\u001b[0m\u001b[0;34m\u001b[0m\u001b[0m\n\u001b[0m\u001b[1;32m     53\u001b[0m \u001b[0;32mdef\u001b[0m \u001b[0mV\u001b[0m\u001b[0;34m(\u001b[0m\u001b[0mx\u001b[0m\u001b[0;34m,\u001b[0m \u001b[0mrequires_grad\u001b[0m\u001b[0;34m=\u001b[0m\u001b[0;32mFalse\u001b[0m\u001b[0;34m,\u001b[0m \u001b[0mvolatile\u001b[0m\u001b[0;34m=\u001b[0m\u001b[0;32mFalse\u001b[0m\u001b[0;34m)\u001b[0m\u001b[0;34m:\u001b[0m\u001b[0;34m\u001b[0m\u001b[0m\n\u001b[1;32m     54\u001b[0m     \u001b[0;34m'''creates a single or a list of pytorch tensors, depending on input x. '''\u001b[0m\u001b[0;34m\u001b[0m\u001b[0m\n",
      "\u001b[0;32m~/GitHub/trend-following/fastai/core.py\u001b[0m in \u001b[0;36mcreate_variable\u001b[0;34m(x, volatile, requires_grad)\u001b[0m\n\u001b[1;32m     44\u001b[0m \u001b[0;32mdef\u001b[0m \u001b[0mcreate_variable\u001b[0m\u001b[0;34m(\u001b[0m\u001b[0mx\u001b[0m\u001b[0;34m,\u001b[0m \u001b[0mvolatile\u001b[0m\u001b[0;34m,\u001b[0m \u001b[0mrequires_grad\u001b[0m\u001b[0;34m=\u001b[0m\u001b[0;32mFalse\u001b[0m\u001b[0;34m)\u001b[0m\u001b[0;34m:\u001b[0m\u001b[0;34m\u001b[0m\u001b[0m\n\u001b[1;32m     45\u001b[0m     \u001b[0;32mif\u001b[0m \u001b[0mtype\u001b[0m \u001b[0;34m(\u001b[0m\u001b[0mx\u001b[0m\u001b[0;34m)\u001b[0m \u001b[0;34m!=\u001b[0m \u001b[0mVariable\u001b[0m\u001b[0;34m:\u001b[0m\u001b[0;34m\u001b[0m\u001b[0m\n\u001b[0;32m---> 46\u001b[0;31m         \u001b[0;32mif\u001b[0m \u001b[0mIS_TORCH_04\u001b[0m\u001b[0;34m:\u001b[0m \u001b[0mx\u001b[0m \u001b[0;34m=\u001b[0m \u001b[0mVariable\u001b[0m\u001b[0;34m(\u001b[0m\u001b[0mT\u001b[0m\u001b[0;34m(\u001b[0m\u001b[0mx\u001b[0m\u001b[0;34m)\u001b[0m\u001b[0;34m,\u001b[0m \u001b[0mrequires_grad\u001b[0m\u001b[0;34m=\u001b[0m\u001b[0mrequires_grad\u001b[0m\u001b[0;34m)\u001b[0m\u001b[0;34m\u001b[0m\u001b[0m\n\u001b[0m\u001b[1;32m     47\u001b[0m         \u001b[0;32melse\u001b[0m\u001b[0;34m:\u001b[0m           \u001b[0mx\u001b[0m \u001b[0;34m=\u001b[0m \u001b[0mVariable\u001b[0m\u001b[0;34m(\u001b[0m\u001b[0mT\u001b[0m\u001b[0;34m(\u001b[0m\u001b[0mx\u001b[0m\u001b[0;34m)\u001b[0m\u001b[0;34m,\u001b[0m \u001b[0mrequires_grad\u001b[0m\u001b[0;34m=\u001b[0m\u001b[0mrequires_grad\u001b[0m\u001b[0;34m,\u001b[0m \u001b[0mvolatile\u001b[0m\u001b[0;34m=\u001b[0m\u001b[0mvolatile\u001b[0m\u001b[0;34m)\u001b[0m\u001b[0;34m\u001b[0m\u001b[0m\n\u001b[1;32m     48\u001b[0m     \u001b[0;32mreturn\u001b[0m \u001b[0mx\u001b[0m\u001b[0;34m\u001b[0m\u001b[0m\n",
      "\u001b[0;32m~/GitHub/trend-following/fastai/core.py\u001b[0m in \u001b[0;36mT\u001b[0;34m(a, half, cuda)\u001b[0m\n\u001b[1;32m     38\u001b[0m         \u001b[0;32melif\u001b[0m \u001b[0ma\u001b[0m\u001b[0;34m.\u001b[0m\u001b[0mdtype\u001b[0m \u001b[0;32min\u001b[0m \u001b[0;34m(\u001b[0m\u001b[0mnp\u001b[0m\u001b[0;34m.\u001b[0m\u001b[0mfloat32\u001b[0m\u001b[0;34m,\u001b[0m \u001b[0mnp\u001b[0m\u001b[0;34m.\u001b[0m\u001b[0mfloat64\u001b[0m\u001b[0;34m)\u001b[0m\u001b[0;34m:\u001b[0m\u001b[0;34m\u001b[0m\u001b[0m\n\u001b[1;32m     39\u001b[0m             \u001b[0ma\u001b[0m \u001b[0;34m=\u001b[0m \u001b[0mtorch\u001b[0m\u001b[0;34m.\u001b[0m\u001b[0mcuda\u001b[0m\u001b[0;34m.\u001b[0m\u001b[0mHalfTensor\u001b[0m\u001b[0;34m(\u001b[0m\u001b[0ma\u001b[0m\u001b[0;34m)\u001b[0m \u001b[0;32mif\u001b[0m \u001b[0mhalf\u001b[0m \u001b[0;32melse\u001b[0m \u001b[0mtorch\u001b[0m\u001b[0;34m.\u001b[0m\u001b[0mFloatTensor\u001b[0m\u001b[0;34m(\u001b[0m\u001b[0ma\u001b[0m\u001b[0;34m)\u001b[0m\u001b[0;34m\u001b[0m\u001b[0m\n\u001b[0;32m---> 40\u001b[0;31m         \u001b[0;32melse\u001b[0m\u001b[0;34m:\u001b[0m \u001b[0;32mraise\u001b[0m \u001b[0mNotImplementedError\u001b[0m\u001b[0;34m(\u001b[0m\u001b[0ma\u001b[0m\u001b[0;34m.\u001b[0m\u001b[0mdtype\u001b[0m\u001b[0;34m)\u001b[0m\u001b[0;34m\u001b[0m\u001b[0m\n\u001b[0m\u001b[1;32m     41\u001b[0m     \u001b[0;32mif\u001b[0m \u001b[0mcuda\u001b[0m\u001b[0;34m:\u001b[0m \u001b[0ma\u001b[0m \u001b[0;34m=\u001b[0m \u001b[0mto_gpu\u001b[0m\u001b[0;34m(\u001b[0m\u001b[0ma\u001b[0m\u001b[0;34m,\u001b[0m \u001b[0masync\u001b[0m\u001b[0;34m=\u001b[0m\u001b[0;32mTrue\u001b[0m\u001b[0;34m)\u001b[0m\u001b[0;34m\u001b[0m\u001b[0m\n\u001b[1;32m     42\u001b[0m     \u001b[0;32mreturn\u001b[0m \u001b[0ma\u001b[0m\u001b[0;34m\u001b[0m\u001b[0m\n",
      "\u001b[0;31mNotImplementedError\u001b[0m: <U8"
     ]
    }
   ],
   "source": [
    "sim_learner.fit(1e-3, 2)"
   ]
  },
  {
   "cell_type": "markdown",
   "metadata": {},
   "source": [
    "### Train"
   ]
  },
  {
   "cell_type": "markdown",
   "metadata": {},
   "source": [
    "#### Find lr"
   ]
  },
  {
   "cell_type": "code",
   "execution_count": 94,
   "metadata": {
    "ExecuteTime": {
     "end_time": "2018-08-07T23:16:40.479250Z",
     "start_time": "2018-08-07T23:14:07.475332Z"
    }
   },
   "outputs": [
    {
     "data": {
      "application/vnd.jupyter.widget-view+json": {
       "model_id": "bee5aa23ece84a40a58bf855256eb6c1",
       "version_major": 2,
       "version_minor": 0
      },
      "text/plain": [
       "HBox(children=(IntProgress(value=0, description='Epoch:', max=7), HTML(value='')))"
      ]
     },
     "metadata": {},
     "output_type": "display_data"
    },
    {
     "data": {
      "application/vnd.jupyter.widget-view+json": {
       "model_id": "",
       "version_major": 2,
       "version_minor": 0
      },
      "text/plain": [
       "HBox(children=(IntProgress(value=1, bar_style='info', description='Mini-batch:', max=1), HTML(value='')))"
      ]
     },
     "metadata": {},
     "output_type": "display_data"
    },
    {
     "data": {
      "application/vnd.jupyter.widget-view+json": {
       "model_id": "",
       "version_major": 2,
       "version_minor": 0
      },
      "text/plain": [
       "HBox(children=(IntProgress(value=1, bar_style='info', description='Mini-batch:', max=1), HTML(value='')))"
      ]
     },
     "metadata": {},
     "output_type": "display_data"
    },
    {
     "data": {
      "application/vnd.jupyter.widget-view+json": {
       "model_id": "",
       "version_major": 2,
       "version_minor": 0
      },
      "text/plain": [
       "HBox(children=(IntProgress(value=1, bar_style='info', description='Mini-batch:', max=1), HTML(value='')))"
      ]
     },
     "metadata": {},
     "output_type": "display_data"
    },
    {
     "data": {
      "application/vnd.jupyter.widget-view+json": {
       "model_id": "",
       "version_major": 2,
       "version_minor": 0
      },
      "text/plain": [
       "HBox(children=(IntProgress(value=1, bar_style='info', description='Mini-batch:', max=1), HTML(value='')))"
      ]
     },
     "metadata": {},
     "output_type": "display_data"
    },
    {
     "data": {
      "application/vnd.jupyter.widget-view+json": {
       "model_id": "",
       "version_major": 2,
       "version_minor": 0
      },
      "text/plain": [
       "HBox(children=(IntProgress(value=1, bar_style='info', description='Mini-batch:', max=1), HTML(value='')))"
      ]
     },
     "metadata": {},
     "output_type": "display_data"
    },
    {
     "data": {
      "application/vnd.jupyter.widget-view+json": {
       "model_id": "",
       "version_major": 2,
       "version_minor": 0
      },
      "text/plain": [
       "HBox(children=(IntProgress(value=1, bar_style='info', description='Mini-batch:', max=1), HTML(value='')))"
      ]
     },
     "metadata": {},
     "output_type": "display_data"
    },
    {
     "data": {
      "application/vnd.jupyter.widget-view+json": {
       "model_id": "321c7c7a271c4f53838a8f05c71b01c2",
       "version_major": 2,
       "version_minor": 0
      },
      "text/plain": [
       "HBox(children=(IntProgress(value=1, bar_style='info', description='Mini-batch:', max=1), HTML(value='')))"
      ]
     },
     "metadata": {},
     "output_type": "display_data"
    }
   ],
   "source": [
    "losses = []\n",
    "lrs = np.exp(np.arange(np.log(1e-6), np.log(1), step=0.1))\n",
    "sched_lrs = []\n",
    "optimizer = optim.Adam(seq.parameters(), lr=1)\n",
    "scheduler = optim.lr_scheduler.LambdaLR(optimizer, lr_lambda=lambda epoch: lrs[epoch])\n",
    "\n",
    "\n",
    "for e in tqdm_notebook(np.arange(len(lrs) // (len(train_dataset) / train_loader.batch_size) + 1),\n",
    "                       desc='Epoch:'):\n",
    "\n",
    "    for i_batch, sample_batched in tqdm_notebook(enumerate(train_loader), desc='Mini-batch:', leave=False):\n",
    "        inputs, targets = sample_batched['features'], sample_batched['targets']\n",
    "        scheduler.step()\n",
    "        sched_lrs.append(scheduler.get_lr())\n",
    "        def closure():\n",
    "            optimizer.zero_grad()\n",
    "            out = seq(inputs)\n",
    "            loss = seq.loss(out, targets)\n",
    "            losses.append(loss.item())\n",
    "            loss.backward()\n",
    "            return loss\n",
    "        optimizer.step(closure)\n",
    "        \n",
    "        if scheduler.last_epoch == len(lrs) - 1: break\n",
    "    if scheduler.last_epoch == len(lrs) - 1: break\n"
   ]
  },
  {
   "cell_type": "code",
   "execution_count": 95,
   "metadata": {
    "ExecuteTime": {
     "end_time": "2018-08-07T23:16:41.278901Z",
     "start_time": "2018-08-07T23:16:40.481696Z"
    }
   },
   "outputs": [
    {
     "data": {
      "image/png": "[encoded data removed]",
      "text/plain": [
       "<Figure size 864x288 with 1 Axes>"
      ]
     },
     "metadata": {},
     "output_type": "display_data"
    }
   ],
   "source": [
    "plt.semilogx(np.array(sched_lrs).flatten()[:250], losses[:250])\n",
    "plt.xlabel('Learning rate (log-scale)')\n",
    "plt.ylabel('Loss')\n",
    "plt.show()"
   ]
  },
  {
   "cell_type": "markdown",
   "metadata": {},
   "source": [
    "#### Train the model"
   ]
  },
  {
   "cell_type": "code",
   "execution_count": 97,
   "metadata": {
    "ExecuteTime": {
     "end_time": "2018-08-07T23:17:11.903348Z",
     "start_time": "2018-08-07T23:17:11.854726Z"
    }
   },
   "outputs": [
    {
     "data": {
      "text/plain": [
       "Sequence(\n",
       "  (lstm1): LSTMCell(14, 51)\n",
       "  (lstm2): LSTMCell(51, 51)\n",
       "  (linear): Linear(in_features=51, out_features=3, bias=True)\n",
       "  (softmax): LogSoftmax()\n",
       "  (loss_fun): NLLLoss()\n",
       ")"
      ]
     },
     "execution_count": 97,
     "metadata": {},
     "output_type": "execute_result"
    }
   ],
   "source": [
    "losses = []\n",
    "test_losses = []\n",
    "seq = Sequence(h0=train_dataset.n_features, nll_weights=weights)\n",
    "seq.double()"
   ]
  },
  {
   "cell_type": "code",
   "execution_count": 115,
   "metadata": {
    "ExecuteTime": {
     "end_time": "2018-08-07T23:25:17.622007Z",
     "start_time": "2018-08-07T23:25:17.578948Z"
    }
   },
   "outputs": [],
   "source": [
    "optimizer = optim.Adam(seq.parameters(), lr=1e-4)\n",
    "# optimizer = optim.SGD(seq.parameters(), lr=1e-3, momentum=0.9)"
   ]
  },
  {
   "cell_type": "code",
   "execution_count": 116,
   "metadata": {
    "ExecuteTime": {
     "end_time": "2018-08-07T23:29:16.862393Z",
     "start_time": "2018-08-07T23:25:18.446141Z"
    }
   },
   "outputs": [
    {
     "data": {
      "application/vnd.jupyter.widget-view+json": {
       "model_id": "be2ff4318e114aadaceb55369aa8838c",
       "version_major": 2,
       "version_minor": 0
      },
      "text/plain": [
       "HBox(children=(IntProgress(value=0, description='Epoch:', max=10), HTML(value='')))"
      ]
     },
     "metadata": {},
     "output_type": "display_data"
    },
    {
     "data": {
      "application/vnd.jupyter.widget-view+json": {
       "model_id": "",
       "version_major": 2,
       "version_minor": 0
      },
      "text/plain": [
       "HBox(children=(IntProgress(value=1, bar_style='info', description='Mini-batch:', max=1), HTML(value='')))"
      ]
     },
     "metadata": {},
     "output_type": "display_data"
    },
    {
     "name": "stdout",
     "output_type": "stream",
     "text": [
      "Epoch: 0, training loss: 0.6959984932100256, test loss: 0.758437879921061\n"
     ]
    },
    {
     "data": {
      "application/vnd.jupyter.widget-view+json": {
       "model_id": "",
       "version_major": 2,
       "version_minor": 0
      },
      "text/plain": [
       "HBox(children=(IntProgress(value=1, bar_style='info', description='Mini-batch:', max=1), HTML(value='')))"
      ]
     },
     "metadata": {},
     "output_type": "display_data"
    },
    {
     "name": "stdout",
     "output_type": "stream",
     "text": [
      "Epoch: 1, training loss: 0.6934497047750812, test loss: 0.7582789784238455\n"
     ]
    },
    {
     "data": {
      "application/vnd.jupyter.widget-view+json": {
       "model_id": "",
       "version_major": 2,
       "version_minor": 0
      },
      "text/plain": [
       "HBox(children=(IntProgress(value=1, bar_style='info', description='Mini-batch:', max=1), HTML(value='')))"
      ]
     },
     "metadata": {},
     "output_type": "display_data"
    },
    {
     "name": "stdout",
     "output_type": "stream",
     "text": [
      "Epoch: 2, training loss: 0.6937716332477409, test loss: 0.756387478398797\n"
     ]
    },
    {
     "data": {
      "application/vnd.jupyter.widget-view+json": {
       "model_id": "",
       "version_major": 2,
       "version_minor": 0
      },
      "text/plain": [
       "HBox(children=(IntProgress(value=1, bar_style='info', description='Mini-batch:', max=1), HTML(value='')))"
      ]
     },
     "metadata": {},
     "output_type": "display_data"
    },
    {
     "name": "stdout",
     "output_type": "stream",
     "text": [
      "Epoch: 3, training loss: 0.6928217132565851, test loss: 0.7558873149497315\n"
     ]
    },
    {
     "data": {
      "application/vnd.jupyter.widget-view+json": {
       "model_id": "",
       "version_major": 2,
       "version_minor": 0
      },
      "text/plain": [
       "HBox(children=(IntProgress(value=1, bar_style='info', description='Mini-batch:', max=1), HTML(value='')))"
      ]
     },
     "metadata": {},
     "output_type": "display_data"
    },
    {
     "name": "stdout",
     "output_type": "stream",
     "text": [
      "Epoch: 4, training loss: 0.6933980075242903, test loss: 0.7556627411376763\n"
     ]
    },
    {
     "data": {
      "application/vnd.jupyter.widget-view+json": {
       "model_id": "",
       "version_major": 2,
       "version_minor": 0
      },
      "text/plain": [
       "HBox(children=(IntProgress(value=1, bar_style='info', description='Mini-batch:', max=1), HTML(value='')))"
      ]
     },
     "metadata": {},
     "output_type": "display_data"
    },
    {
     "name": "stdout",
     "output_type": "stream",
     "text": [
      "Epoch: 5, training loss: 0.6918859664140873, test loss: 0.7549143899937315\n"
     ]
    },
    {
     "data": {
      "application/vnd.jupyter.widget-view+json": {
       "model_id": "",
       "version_major": 2,
       "version_minor": 0
      },
      "text/plain": [
       "HBox(children=(IntProgress(value=1, bar_style='info', description='Mini-batch:', max=1), HTML(value='')))"
      ]
     },
     "metadata": {},
     "output_type": "display_data"
    },
    {
     "name": "stdout",
     "output_type": "stream",
     "text": [
      "Epoch: 6, training loss: 0.6918120202663062, test loss: 0.7542905581698034\n"
     ]
    },
    {
     "data": {
      "application/vnd.jupyter.widget-view+json": {
       "model_id": "",
       "version_major": 2,
       "version_minor": 0
      },
      "text/plain": [
       "HBox(children=(IntProgress(value=1, bar_style='info', description='Mini-batch:', max=1), HTML(value='')))"
      ]
     },
     "metadata": {},
     "output_type": "display_data"
    },
    {
     "name": "stdout",
     "output_type": "stream",
     "text": [
      "Epoch: 7, training loss: 0.6911097395588419, test loss: 0.7544207195773296\n"
     ]
    },
    {
     "data": {
      "application/vnd.jupyter.widget-view+json": {
       "model_id": "",
       "version_major": 2,
       "version_minor": 0
      },
      "text/plain": [
       "HBox(children=(IntProgress(value=1, bar_style='info', description='Mini-batch:', max=1), HTML(value='')))"
      ]
     },
     "metadata": {},
     "output_type": "display_data"
    },
    {
     "name": "stdout",
     "output_type": "stream",
     "text": [
      "Epoch: 8, training loss: 0.6903377705400484, test loss: 0.7533493032687466\n"
     ]
    },
    {
     "data": {
      "application/vnd.jupyter.widget-view+json": {
       "model_id": "",
       "version_major": 2,
       "version_minor": 0
      },
      "text/plain": [
       "HBox(children=(IntProgress(value=1, bar_style='info', description='Mini-batch:', max=1), HTML(value='')))"
      ]
     },
     "metadata": {},
     "output_type": "display_data"
    },
    {
     "name": "stdout",
     "output_type": "stream",
     "text": [
      "Epoch: 9, training loss: 0.6902901073449019, test loss: 0.7525716209955368\n"
     ]
    }
   ],
   "source": [
    "epochs = 10\n",
    "for e in tqdm_notebook(range(epochs), desc='Epoch:'):\n",
    "    \n",
    "    for i_batch, sample_batched in tqdm_notebook(enumerate(train_loader), desc='Mini-batch:', leave=False):\n",
    "        inputs, targets = sample_batched['features'], sample_batched['targets']\n",
    "    \n",
    "        def closure():\n",
    "            optimizer.zero_grad()\n",
    "            out = seq(inputs)\n",
    "            loss = seq.loss(out, targets)\n",
    "            losses.append(loss.item())\n",
    "            loss.backward()\n",
    "            return loss\n",
    "        optimizer.step(closure)\n",
    "    \n",
    "    if e % 1 == 0:\n",
    "        with torch.no_grad():\n",
    "            test_sample = next(iter(test_loader))\n",
    "            test_inputs, test_targets = test_sample['features'], test_sample['targets']\n",
    "            test_out = seq(test_inputs)\n",
    "            test_loss = seq.loss(test_out, test_targets)\n",
    "            test_losses.append(test_loss.item())\n",
    "        print('Epoch: ', e,\n",
    "              ', training loss: ', np.mean(losses[-(len(train_dataset) // train_loader.batch_size):]),\n",
    "              ', test loss: ', test_loss.item(), sep='')\n"
   ]
  },
  {
   "cell_type": "code",
   "execution_count": 125,
   "metadata": {
    "ExecuteTime": {
     "end_time": "2018-08-07T23:29:29.953494Z",
     "start_time": "2018-08-07T23:29:29.664379Z"
    },
    "scrolled": false
   },
   "outputs": [
    {
     "data": {
      "text/plain": [
       "[<matplotlib.lines.Line2D at 0x1c28c3ff60>]"
      ]
     },
     "execution_count": 125,
     "metadata": {},
     "output_type": "execute_result"
    },
    {
     "data": {
      "image/png": "[encoded data removed]",
      "text/plain": [
       "<Figure size 864x288 with 1 Axes>"
      ]
     },
     "metadata": {},
     "output_type": "display_data"
    }
   ],
   "source": [
    "plt.plot(losses)"
   ]
  },
  {
   "cell_type": "code",
   "execution_count": 118,
   "metadata": {
    "ExecuteTime": {
     "end_time": "2018-08-07T23:29:18.141324Z",
     "start_time": "2018-08-07T23:29:17.387385Z"
    }
   },
   "outputs": [],
   "source": [
    "test_sample = next(iter(test_loader))\n",
    "test_inputs, test_targets = test_sample['features'], test_sample['targets']\n",
    "test_out = seq(test_inputs)"
   ]
  },
  {
   "cell_type": "code",
   "execution_count": 119,
   "metadata": {
    "ExecuteTime": {
     "end_time": "2018-08-07T23:29:18.211966Z",
     "start_time": "2018-08-07T23:29:18.144655Z"
    }
   },
   "outputs": [],
   "source": [
    "j = np.random.randint(len(test_dataset))\n",
    "features_j = test_inputs[j, ...]\n",
    "x_j = pd.DataFrame(features_j.numpy(), columns=test_dataset.features_columns)"
   ]
  },
  {
   "cell_type": "code",
   "execution_count": 120,
   "metadata": {
    "ExecuteTime": {
     "end_time": "2018-08-07T23:29:18.279716Z",
     "start_time": "2018-08-07T23:29:18.223589Z"
    }
   },
   "outputs": [],
   "source": [
    "targets_j = test_targets[j, ...]\n",
    "y_j = pd.DataFrame(targets_j.numpy(), columns=test_dataset.targets_columns)"
   ]
  },
  {
   "cell_type": "code",
   "execution_count": 121,
   "metadata": {
    "ExecuteTime": {
     "end_time": "2018-08-07T23:29:18.372006Z",
     "start_time": "2018-08-07T23:29:18.288698Z"
    }
   },
   "outputs": [],
   "source": [
    "out_j = test_out[j, ...]\n",
    "yh_j = pd.DataFrame(np.exp(out_j.detach().numpy()), columns=['Down', 'No_Trend', 'Up'])\n",
    "yh_j = yh_j.assign(y_hat = pd.DataFrame(np.exp(out_j.detach().numpy())).idxmax(axis=1))"
   ]
  },
  {
   "cell_type": "code",
   "execution_count": 122,
   "metadata": {
    "ExecuteTime": {
     "end_time": "2018-08-07T23:29:18.450978Z",
     "start_time": "2018-08-07T23:29:18.374856Z"
    }
   },
   "outputs": [
    {
     "data": {
      "text/plain": [
       "array([[0.11333333, 0.        , 0.21666667],\n",
       "       [0.06666667, 0.        , 0.11      ],\n",
       "       [0.12666667, 0.        , 0.36666667]])"
      ]
     },
     "execution_count": 122,
     "metadata": {},
     "output_type": "execute_result"
    }
   ],
   "source": [
    "confusion_matrix(y_j.values, yh_j.y_hat)/len(y_j)"
   ]
  },
  {
   "cell_type": "code",
   "execution_count": 123,
   "metadata": {
    "ExecuteTime": {
     "end_time": "2018-08-07T23:29:18.819354Z",
     "start_time": "2018-08-07T23:29:18.471470Z"
    }
   },
   "outputs": [
    {
     "data": {
      "text/plain": [
       "<matplotlib.axes._subplots.AxesSubplot at 0x1c289da278>"
      ]
     },
     "execution_count": 123,
     "metadata": {},
     "output_type": "execute_result"
    },
    {
     "data": {
      "image/png": "[encoded data removed]",
      "text/plain": [
       "<Figure size 864x288 with 1 Axes>"
      ]
     },
     "metadata": {},
     "output_type": "display_data"
    }
   ],
   "source": [
    "res_j = pd.concat((x_j, y_j, yh_j), axis=1)\n",
    "res_j[['Close', 'No_Trend', 'Up', 'Down']].plot()"
   ]
  },
  {
   "cell_type": "code",
   "execution_count": 124,
   "metadata": {
    "ExecuteTime": {
     "end_time": "2018-08-07T23:29:19.152904Z",
     "start_time": "2018-08-07T23:29:18.822305Z"
    }
   },
   "outputs": [
    {
     "data": {
      "text/plain": [
       "<matplotlib.axes._subplots.AxesSubplot at 0x1c28af30f0>"
      ]
     },
     "execution_count": 124,
     "metadata": {},
     "output_type": "execute_result"
    },
    {
     "data": {
      "image/png": "[encoded data removed]",
      "text/plain": [
       "<Figure size 864x288 with 1 Axes>"
      ]
     },
     "metadata": {},
     "output_type": "display_data"
    }
   ],
   "source": [
    "res_j[['Close', 'Trend_20', 'y_hat']].plot()"
   ]
  },
  {
   "cell_type": "markdown",
   "metadata": {},
   "source": [
    "# Sharadar prices //\n",
    "\n",
    "> // How to manage train and validation samples?"
   ]
  },
  {
   "cell_type": "code",
   "execution_count": null,
   "metadata": {
    "ExecuteTime": {
     "end_time": "2018-08-07T16:09:00.722416Z",
     "start_time": "2018-08-07T16:09:00.639459Z"
    },
    "code_folding": []
   },
   "outputs": [],
   "source": [
    "class SharadarPricesDataset(Dataset):\n",
    "    \"\"\"Sharadar Prices Dataset\"\"\"\n",
    "    def __init__(self, root_dir, min_length,\n",
    "                 features=None,\n",
    "                 targets=['Trend', 'Max_Drawdown', 'ATR', 'Bliss'],\n",
    "                 sds=[5, 10, 20, 30], min_icagr=None, \n",
    "                 transform=None):\n",
    "        \"\"\"\n",
    "        Args:\n",
    "            root_dir (str): directory with data frames: Date | OHLC.\n",
    "            transform (callable, optional): Optional transform to be applied\n",
    "                on a sample.\n",
    "        \"\"\"\n",
    "        self.root_dir = root_dir\n",
    "        self.min_length = min_length\n",
    "        self.targets = targets\n",
    "        self.features = features\n",
    "        self.sds = sds\n",
    "        self.min_icagr = min_icagr\n",
    "        self.transform = transform\n",
    "        \n",
    "        # Only series longer than min_length\n",
    "        tickers = os.listdir(root_dir)\n",
    "        lengths = [len(pd.read_feather(os.path.join(root_dir, f)))\n",
    "                   for f in tickers]\n",
    "        tickers_df = DataFrame(data={'ticker': tickers, 'length': lengths})\n",
    "        self.fnames = list(\n",
    "            tickers_df.query('length > ' + str(self.min_length)).ticker.values\n",
    "        )\n",
    "    \n",
    "    def __len__(self):\n",
    "        return len(self.fnames)\n",
    "    \n",
    "    def __getitem__(self, idx):\n",
    "        \n",
    "        f_name = os.path.join(self.root_dir,\n",
    "                              self.fnames[idx])\n",
    "        \n",
    "        df = pd.read_feather(f_name).set_index('Date')\n",
    "        \n",
    "        targets_df = pd.concat(\n",
    "            (get_trend(df, s, min_icagr=self.min_icagr, targets=self.targets)\n",
    "             for s in self.sds),\n",
    "            axis=1,\n",
    "        )\n",
    "        \n",
    "        if self.features:\n",
    "            df = df[self.features]\n",
    "        \n",
    "        sample = {'features': df, 'targets': targets_df}\n",
    "        \n",
    "        if self.transform:\n",
    "            sample = self.transform(sample)\n",
    "        \n",
    "        return sample"
   ]
  },
  {
   "cell_type": "code",
   "execution_count": null,
   "metadata": {
    "ExecuteTime": {
     "end_time": "2018-08-07T16:10:23.378814Z",
     "start_time": "2018-08-07T16:09:02.118010Z"
    }
   },
   "outputs": [],
   "source": [
    "sh_train = 'input/Quandl/Sharadar/train/'\n",
    "\n",
    "sh_dataset = SharadarPricesDataset(sh_train, min_length=600, min_icagr=0.3)\n",
    "print(len(sh_dataset), 'series.')"
   ]
  },
  {
   "cell_type": "code",
   "execution_count": null,
   "metadata": {
    "ExecuteTime": {
     "end_time": "2018-08-07T16:13:38.771760Z",
     "start_time": "2018-08-07T16:13:36.140104Z"
    }
   },
   "outputs": [],
   "source": [
    "sh_j = sh_dataset[2]\n",
    "print(sh_j['features'].shape, sh_j['targets'].shape)"
   ]
  },
  {
   "cell_type": "code",
   "execution_count": null,
   "metadata": {
    "ExecuteTime": {
     "end_time": "2018-08-07T16:11:04.618157Z",
     "start_time": "2018-08-07T16:11:04.562345Z"
    }
   },
   "outputs": [],
   "source": [
    "sh_j['features'].head().T"
   ]
  },
  {
   "cell_type": "code",
   "execution_count": null,
   "metadata": {
    "ExecuteTime": {
     "end_time": "2018-08-07T16:12:45.938061Z",
     "start_time": "2018-08-07T16:12:45.885133Z"
    }
   },
   "outputs": [],
   "source": [
    "sh_j['targets'].head().T"
   ]
  },
  {
   "cell_type": "markdown",
   "metadata": {},
   "source": [
    "## Transforms"
   ]
  },
  {
   "cell_type": "code",
   "execution_count": null,
   "metadata": {},
   "outputs": [],
   "source": [
    "# sh_train = 'input/Quandl/Sharadar/train/'\n",
    "# sh_dataset = SharadarPricesDataset(sh_train, min_length=600, min_icagr=0.3,\n",
    "#                                    transform=transforms.Compose([\n",
    "#                                        ToArray(),\n",
    "#                                        RandomCrop(500),\n",
    "#                                        StartAt(1),\n",
    "#                                        ToTensor(),\n",
    "#                                      ])\n",
    "#                                    )"
   ]
  },
  {
   "cell_type": "code",
   "execution_count": null,
   "metadata": {
    "ExecuteTime": {
     "end_time": "2018-08-05T20:08:00.322346Z",
     "start_time": "2018-08-05T20:08:00.282158Z"
    }
   },
   "outputs": [],
   "source": [
    "composed = transforms.Compose([\n",
    "    ToArray(),\n",
    "    RandomCrop(300),\n",
    "    StartAt(1),\n",
    "    ToTensor()\n",
    "])\n",
    "\n",
    "sh_dataset.transform = composed\n",
    "print(len(sh_dataset), 'series.')"
   ]
  },
  {
   "cell_type": "code",
   "execution_count": null,
   "metadata": {
    "ExecuteTime": {
     "end_time": "2018-08-05T20:08:11.060773Z",
     "start_time": "2018-08-05T20:08:08.490542Z"
    },
    "scrolled": true
   },
   "outputs": [],
   "source": [
    "sh_j = sh_dataset[2]\n",
    "print(sh_j['features'].size(), sh_j['targets'].size())"
   ]
  },
  {
   "cell_type": "code",
   "execution_count": null,
   "metadata": {
    "ExecuteTime": {
     "end_time": "2018-08-05T20:08:14.226628Z",
     "start_time": "2018-08-05T20:08:13.968907Z"
    },
    "scrolled": false
   },
   "outputs": [],
   "source": [
    "plt.plot(sh_j['features'][:, :4].numpy());"
   ]
  },
  {
   "cell_type": "code",
   "execution_count": null,
   "metadata": {
    "ExecuteTime": {
     "end_time": "2018-08-04T15:48:25.318844Z",
     "start_time": "2018-08-04T15:48:25.084214Z"
    }
   },
   "outputs": [],
   "source": [
    "plt.plot(sh_j['features'][:, 4].numpy());"
   ]
  },
  {
   "cell_type": "code",
   "execution_count": null,
   "metadata": {
    "ExecuteTime": {
     "end_time": "2018-08-04T15:48:10.977578Z",
     "start_time": "2018-08-04T15:48:10.523415Z"
    }
   },
   "outputs": [],
   "source": [
    "plt.plot(sh_j['features'][:, 5:].numpy());"
   ]
  },
  {
   "cell_type": "markdown",
   "metadata": {},
   "source": [
    "## DataLoader"
   ]
  },
  {
   "cell_type": "code",
   "execution_count": null,
   "metadata": {
    "ExecuteTime": {
     "end_time": "2018-08-05T20:10:11.901140Z",
     "start_time": "2018-08-05T20:08:20.884761Z"
    },
    "scrolled": true
   },
   "outputs": [],
   "source": [
    "sh_loader = DataLoader(sh_dataset, batch_size=6)\n",
    "\n",
    "for i_batch, sample_batched in enumerate(sh_loader):\n",
    "    print(i_batch, sample_batched['features'].size(),\n",
    "          sample_batched['targets'].size())\n",
    "    \n",
    "    if i_batch == 5:\n",
    "        break"
   ]
  },
  {
   "cell_type": "markdown",
   "metadata": {},
   "source": [
    "# End"
   ]
  },
  {
   "cell_type": "code",
   "execution_count": null,
   "metadata": {
    "ExecuteTime": {
     "end_time": "2018-08-04T05:57:48.683577Z",
     "start_time": "2018-08-04T05:57:48.151860Z"
    },
    "scrolled": true
   },
   "outputs": [],
   "source": [
    "df = pd.read_feather('input/Quandl/Sharadar/train/NIOBF.feather').set_index('Date')\n",
    "df = find_trends(df)"
   ]
  },
  {
   "cell_type": "code",
   "execution_count": null,
   "metadata": {
    "ExecuteTime": {
     "end_time": "2018-08-04T05:58:33.453271Z",
     "start_time": "2018-08-04T05:58:33.378468Z"
    }
   },
   "outputs": [],
   "source": [
    "df"
   ]
  },
  {
   "cell_type": "code",
   "execution_count": null,
   "metadata": {
    "ExecuteTime": {
     "end_time": "2018-08-04T05:59:07.189441Z",
     "start_time": "2018-08-04T05:59:07.138816Z"
    }
   },
   "outputs": [],
   "source": [
    "(df.Trend_End - df.Trend_Start).min()"
   ]
  },
  {
   "cell_type": "code",
   "execution_count": null,
   "metadata": {
    "ExecuteTime": {
     "end_time": "2018-08-04T05:59:33.035975Z",
     "start_time": "2018-08-04T05:59:32.706395Z"
    }
   },
   "outputs": [],
   "source": [
    "plot_trends(df)"
   ]
  },
  {
   "cell_type": "code",
   "execution_count": null,
   "metadata": {
    "ExecuteTime": {
     "end_time": "2018-08-04T06:00:37.096602Z",
     "start_time": "2018-08-04T06:00:37.052296Z"
    }
   },
   "outputs": [],
   "source": [
    "df.Ratio.dropna().sort_values()"
   ]
  },
  {
   "cell_type": "markdown",
   "metadata": {},
   "source": [
    "# TO DO:\n",
    "\n",
    "* Check why the ratio is < 0.\n",
    "* `SharadarPricesDataset` that computes data and saves it to disk on `__init__`, and only loads df on `__get_item__`."
   ]
  }
 ],
 "metadata": {
  "kernelspec": {
   "display_name": "Python 3",
   "language": "python",
   "name": "python3"
  },
  "language_info": {
   "codemirror_mode": {
    "name": "ipython",
    "version": 3
   },
   "file_extension": ".py",
   "mimetype": "text/x-python",
   "name": "python",
   "nbconvert_exporter": "python",
   "pygments_lexer": "ipython3",
   "version": "3.6.6"
  },
  "toc": {
   "base_numbering": 1,
   "nav_menu": {},
   "number_sections": true,
   "sideBar": true,
   "skip_h1_title": false,
   "title_cell": "Table of Contents",
   "title_sidebar": "Contents",
   "toc_cell": false,
   "toc_position": {},
   "toc_section_display": true,
   "toc_window_display": false
  }
 },
 "nbformat": 4,
 "nbformat_minor": 2
}
