{
 "cells": [
  {
   "cell_type": "markdown",
   "metadata": {},
   "source": [
    "# Introduction\n",
    "\n",
    "See PyTorch's [Data Loading and Processing Tutorial](https://pytorch.org/tutorials/beginner/data_loading_tutorial.html)."
   ]
  },
  {
   "cell_type": "code",
   "execution_count": 1,
   "metadata": {
    "ExecuteTime": {
     "end_time": "2018-09-11T01:08:15.322530Z",
     "start_time": "2018-09-11T01:08:15.066566Z"
    }
   },
   "outputs": [],
   "source": [
    "# Put these at the top of every notebook, to get automatic reloading and inline plotting\n",
    "%reload_ext autoreload\n",
    "%autoreload 2\n",
    "%matplotlib inline"
   ]
  },
  {
   "cell_type": "code",
   "execution_count": 2,
   "metadata": {
    "ExecuteTime": {
     "end_time": "2018-09-11T01:08:16.956147Z",
     "start_time": "2018-09-11T01:08:15.770573Z"
    },
    "scrolled": true
   },
   "outputs": [],
   "source": [
    "from fastai.learner import *\n",
    "from fastai.column_data import *"
   ]
  },
  {
   "cell_type": "code",
   "execution_count": 3,
   "metadata": {
    "ExecuteTime": {
     "end_time": "2018-09-11T01:08:17.564857Z",
     "start_time": "2018-09-11T01:08:17.459029Z"
    }
   },
   "outputs": [],
   "source": [
    "from datetime import datetime\n",
    "from torchvision import transforms\n",
    "import torch.nn as nn\n",
    "from utils import *\n",
    "plt.rcParams['figure.figsize'] = [12, 4]\n",
    "pd.set_option('display.max_rows', 11)"
   ]
  },
  {
   "cell_type": "code",
   "execution_count": 4,
   "metadata": {
    "ExecuteTime": {
     "end_time": "2018-09-11T01:08:18.135633Z",
     "start_time": "2018-09-11T01:08:18.058658Z"
    }
   },
   "outputs": [],
   "source": [
    "# import os\n",
    "# import re\n",
    "# import dill as pickle\n",
    "# import itertools\n",
    "# from datetime import datetime\n",
    "# from tqdm import tqdm_notebook\n",
    "# import numpy as np\n",
    "# import pandas as pd\n",
    "# from pandas import Series, DataFrame\n",
    "# pd.set_option('display.max_rows', 40)\n",
    "# import matplotlib as mpl\n",
    "# from matplotlib import pyplot as plt\n",
    "# import matplotlib.transforms as mtransforms\n",
    "# plt.rcParams['figure.figsize'] = [12, 4]\n",
    "\n",
    "# from sklearn.metrics import confusion_matrix\n",
    "\n",
    "# from utils import *\n",
    "\n",
    "# import torch\n",
    "# from torch.utils.data import Dataset, DataLoader\n",
    "# from torchvision import transforms\n",
    "# import torch.nn as nn\n",
    "# import torch.optim as optim"
   ]
  },
  {
   "cell_type": "markdown",
   "metadata": {},
   "source": [
    "# Simulated prices\n",
    "\n",
    "**// TO DO:**\n",
    "\n",
    "* Define a class that inherits `ModelData` from fastai's **dataset.py** with `trn_dl`, `trn_ds`, `val_dl`, `val_ds`, `test_dl`, `test_ds`. See fastai's **column_data.py** and **model.py**.\n",
    "* Define a learner that inherits from class `Learner` (see **learner.py**).\n",
    "* Add a `get_learner` method as in fastai's [column_data.py](https://github.com/fastai/fastai/blob/master/fastai/column_data.py) `CollabFilterDataset`.\n",
    "\n",
    "\n",
    "* Simulated data ($L$ days) split between train data (days $0$ to $L_T$) and validation data (days $L_T - warmup$ to $L$).\n",
    "* Test data: new simulation.\n",
    "* Simulation of prices with different volatilities, drifts, return distributions and autocorrelation.\n"
   ]
  },
  {
   "cell_type": "markdown",
   "metadata": {},
   "source": [
    "## Data Generation"
   ]
  },
  {
   "cell_type": "code",
   "execution_count": 5,
   "metadata": {
    "ExecuteTime": {
     "end_time": "2018-09-11T01:08:19.336491Z",
     "start_time": "2018-09-11T01:08:19.257537Z"
    }
   },
   "outputs": [],
   "source": [
    "def sim_path(N=500, sigma=0.35, S0=1, dt=1/250,\n",
    "             mu=[0.05, 0.05], P=np.array([[0.95, 0.05], [0.1, 0.9]]),\n",
    "             wdt_hl=2):\n",
    "    \n",
    "    # State simulation\n",
    "    state = np.random.randint(0, 2)\n",
    "    states = [state]\n",
    "    for t in range(N - 1):\n",
    "        state = int(np.random.multinomial(1, P[state, :]).argmax())\n",
    "        states.append(state)\n",
    "    \n",
    "    # Price simulation\n",
    "    drift = (np.array([mu[s] for s in states[1:]]) - 0.5 * sigma**2) * dt\n",
    "    wiener = np.random.randn(N - 1) * sigma * np.sqrt(dt)\n",
    "\n",
    "    S = S0 * np.concatenate((np.ones(1), np.exp(np.cumsum(drift + wiener))))\n",
    "    \n",
    "    res_df = DataFrame(data=dict(Close=S))\n",
    "    res_df = res_df.assign(Date = pd.date_range(start=datetime(2018, 1, 1),\n",
    "                                                periods=N, freq='D')).set_index('Date')\n",
    "    \n",
    "    res_df = res_df.assign(Open = res_df.Close.shift(-1).fillna(method='ffill') * \\\n",
    "                                    np.exp((np.random.rand(N) - 0.5) * sigma * np.sqrt(dt)))\n",
    "    \n",
    "    res_df = res_df.assign(High = res_df[['Open', 'Close']].max(axis=1) * \\\n",
    "                                np.exp(np.random.rand(N) * wdt_hl * sigma * np.sqrt(dt)),\n",
    "                           Low = res_df[['Open', 'Close']].min(axis=1) * \\\n",
    "                                np.exp(- np.random.rand(N) * wdt_hl * sigma * np.sqrt(dt)))\n",
    "\n",
    "    return res_df[['Open', 'High', 'Low', 'Close']]"
   ]
  },
  {
   "cell_type": "code",
   "execution_count": 6,
   "metadata": {
    "ExecuteTime": {
     "end_time": "2018-09-11T01:08:19.911044Z",
     "start_time": "2018-09-11T01:08:19.667666Z"
    }
   },
   "outputs": [
    {
     "data": {
      "text/html": [
       "<div>\n",
       "<style scoped>\n",
       "    .dataframe tbody tr th:only-of-type {\n",
       "        vertical-align: middle;\n",
       "    }\n",
       "\n",
       "    .dataframe tbody tr th {\n",
       "        vertical-align: top;\n",
       "    }\n",
       "\n",
       "    .dataframe thead th {\n",
       "        text-align: right;\n",
       "    }\n",
       "</style>\n",
       "<table border=\"1\" class=\"dataframe\">\n",
       "  <thead>\n",
       "    <tr style=\"text-align: right;\">\n",
       "      <th></th>\n",
       "      <th>Open</th>\n",
       "      <th>High</th>\n",
       "      <th>Low</th>\n",
       "      <th>Close</th>\n",
       "      <th>Smoothed</th>\n",
       "      <th>Trend</th>\n",
       "      <th>n_Trend</th>\n",
       "      <th>Max_Drawdown</th>\n",
       "      <th>ATR</th>\n",
       "      <th>max_TR</th>\n",
       "      <th>min_TR</th>\n",
       "      <th>Ratio</th>\n",
       "      <th>ICAGR</th>\n",
       "      <th>Bliss</th>\n",
       "      <th>Trend_Start</th>\n",
       "      <th>Trend_End</th>\n",
       "      <th>Ch</th>\n",
       "      <th>Ch2</th>\n",
       "      <th>Ch3</th>\n",
       "      <th>Ch4</th>\n",
       "    </tr>\n",
       "    <tr>\n",
       "      <th>Date</th>\n",
       "      <th></th>\n",
       "      <th></th>\n",
       "      <th></th>\n",
       "      <th></th>\n",
       "      <th></th>\n",
       "      <th></th>\n",
       "      <th></th>\n",
       "      <th></th>\n",
       "      <th></th>\n",
       "      <th></th>\n",
       "      <th></th>\n",
       "      <th></th>\n",
       "      <th></th>\n",
       "      <th></th>\n",
       "      <th></th>\n",
       "      <th></th>\n",
       "      <th></th>\n",
       "      <th></th>\n",
       "      <th></th>\n",
       "      <th></th>\n",
       "    </tr>\n",
       "  </thead>\n",
       "  <tbody>\n",
       "    <tr>\n",
       "      <th>2018-01-01</th>\n",
       "      <td>0.982355</td>\n",
       "      <td>1.024249</td>\n",
       "      <td>0.980291</td>\n",
       "      <td>1.000000</td>\n",
       "      <td>0.926917</td>\n",
       "      <td>-1.0</td>\n",
       "      <td>1.0</td>\n",
       "      <td>0.503078</td>\n",
       "      <td>0.067764</td>\n",
       "      <td>0.122066</td>\n",
       "      <td>0.019482</td>\n",
       "      <td>1.32887</td>\n",
       "      <td>1.067699</td>\n",
       "      <td>2.122335</td>\n",
       "      <td>2018-01-01</td>\n",
       "      <td>2018-04-08</td>\n",
       "      <td>0.000000</td>\n",
       "      <td>0.000000</td>\n",
       "      <td>0.000000e+00</td>\n",
       "      <td>0.000000e+00</td>\n",
       "    </tr>\n",
       "    <tr>\n",
       "      <th>2018-01-02</th>\n",
       "      <td>1.004558</td>\n",
       "      <td>1.021508</td>\n",
       "      <td>0.960395</td>\n",
       "      <td>0.982675</td>\n",
       "      <td>0.926488</td>\n",
       "      <td>-1.0</td>\n",
       "      <td>1.0</td>\n",
       "      <td>NaN</td>\n",
       "      <td>NaN</td>\n",
       "      <td>NaN</td>\n",
       "      <td>NaN</td>\n",
       "      <td>NaN</td>\n",
       "      <td>NaN</td>\n",
       "      <td>NaN</td>\n",
       "      <td>2018-01-01</td>\n",
       "      <td>2018-04-08</td>\n",
       "      <td>-0.017477</td>\n",
       "      <td>0.000305</td>\n",
       "      <td>-5.338561e-06</td>\n",
       "      <td>9.330372e-08</td>\n",
       "    </tr>\n",
       "    <tr>\n",
       "      <th>2018-01-03</th>\n",
       "      <td>1.004738</td>\n",
       "      <td>1.033414</td>\n",
       "      <td>0.981537</td>\n",
       "      <td>1.005868</td>\n",
       "      <td>0.925776</td>\n",
       "      <td>-1.0</td>\n",
       "      <td>1.0</td>\n",
       "      <td>NaN</td>\n",
       "      <td>NaN</td>\n",
       "      <td>NaN</td>\n",
       "      <td>NaN</td>\n",
       "      <td>NaN</td>\n",
       "      <td>NaN</td>\n",
       "      <td>NaN</td>\n",
       "      <td>2018-01-01</td>\n",
       "      <td>2018-04-08</td>\n",
       "      <td>0.023328</td>\n",
       "      <td>0.000544</td>\n",
       "      <td>1.269553e-05</td>\n",
       "      <td>2.961655e-07</td>\n",
       "    </tr>\n",
       "    <tr>\n",
       "      <th>2018-01-04</th>\n",
       "      <td>1.030274</td>\n",
       "      <td>1.036245</td>\n",
       "      <td>0.959536</td>\n",
       "      <td>1.000860</td>\n",
       "      <td>0.924783</td>\n",
       "      <td>-1.0</td>\n",
       "      <td>1.0</td>\n",
       "      <td>NaN</td>\n",
       "      <td>NaN</td>\n",
       "      <td>NaN</td>\n",
       "      <td>NaN</td>\n",
       "      <td>NaN</td>\n",
       "      <td>NaN</td>\n",
       "      <td>NaN</td>\n",
       "      <td>2018-01-01</td>\n",
       "      <td>2018-04-08</td>\n",
       "      <td>-0.004992</td>\n",
       "      <td>0.000025</td>\n",
       "      <td>-1.243703e-07</td>\n",
       "      <td>6.208058e-10</td>\n",
       "    </tr>\n",
       "    <tr>\n",
       "      <th>2018-01-05</th>\n",
       "      <td>1.050844</td>\n",
       "      <td>1.057257</td>\n",
       "      <td>1.026701</td>\n",
       "      <td>1.033311</td>\n",
       "      <td>0.923511</td>\n",
       "      <td>-1.0</td>\n",
       "      <td>1.0</td>\n",
       "      <td>NaN</td>\n",
       "      <td>NaN</td>\n",
       "      <td>NaN</td>\n",
       "      <td>NaN</td>\n",
       "      <td>NaN</td>\n",
       "      <td>NaN</td>\n",
       "      <td>NaN</td>\n",
       "      <td>2018-01-01</td>\n",
       "      <td>2018-04-08</td>\n",
       "      <td>0.031909</td>\n",
       "      <td>0.001018</td>\n",
       "      <td>3.248985e-05</td>\n",
       "      <td>1.036725e-06</td>\n",
       "    </tr>\n",
       "    <tr>\n",
       "      <th>...</th>\n",
       "      <td>...</td>\n",
       "      <td>...</td>\n",
       "      <td>...</td>\n",
       "      <td>...</td>\n",
       "      <td>...</td>\n",
       "      <td>...</td>\n",
       "      <td>...</td>\n",
       "      <td>...</td>\n",
       "      <td>...</td>\n",
       "      <td>...</td>\n",
       "      <td>...</td>\n",
       "      <td>...</td>\n",
       "      <td>...</td>\n",
       "      <td>...</td>\n",
       "      <td>...</td>\n",
       "      <td>...</td>\n",
       "      <td>...</td>\n",
       "      <td>...</td>\n",
       "      <td>...</td>\n",
       "      <td>...</td>\n",
       "    </tr>\n",
       "    <tr>\n",
       "      <th>2019-05-11</th>\n",
       "      <td>0.472714</td>\n",
       "      <td>0.491079</td>\n",
       "      <td>0.472018</td>\n",
       "      <td>0.481222</td>\n",
       "      <td>0.468491</td>\n",
       "      <td>1.0</td>\n",
       "      <td>8.0</td>\n",
       "      <td>NaN</td>\n",
       "      <td>NaN</td>\n",
       "      <td>NaN</td>\n",
       "      <td>NaN</td>\n",
       "      <td>NaN</td>\n",
       "      <td>NaN</td>\n",
       "      <td>NaN</td>\n",
       "      <td>2019-04-23</td>\n",
       "      <td>2019-05-15</td>\n",
       "      <td>0.017292</td>\n",
       "      <td>0.000299</td>\n",
       "      <td>5.170349e-06</td>\n",
       "      <td>8.940460e-08</td>\n",
       "    </tr>\n",
       "    <tr>\n",
       "      <th>2019-05-12</th>\n",
       "      <td>0.473331</td>\n",
       "      <td>0.484680</td>\n",
       "      <td>0.457573</td>\n",
       "      <td>0.475013</td>\n",
       "      <td>0.468502</td>\n",
       "      <td>1.0</td>\n",
       "      <td>8.0</td>\n",
       "      <td>NaN</td>\n",
       "      <td>NaN</td>\n",
       "      <td>NaN</td>\n",
       "      <td>NaN</td>\n",
       "      <td>NaN</td>\n",
       "      <td>NaN</td>\n",
       "      <td>NaN</td>\n",
       "      <td>2019-04-23</td>\n",
       "      <td>2019-05-15</td>\n",
       "      <td>-0.012986</td>\n",
       "      <td>0.000169</td>\n",
       "      <td>-2.190124e-06</td>\n",
       "      <td>2.844187e-08</td>\n",
       "    </tr>\n",
       "    <tr>\n",
       "      <th>2019-05-13</th>\n",
       "      <td>0.471018</td>\n",
       "      <td>0.477845</td>\n",
       "      <td>0.467055</td>\n",
       "      <td>0.476930</td>\n",
       "      <td>0.468511</td>\n",
       "      <td>1.0</td>\n",
       "      <td>8.0</td>\n",
       "      <td>NaN</td>\n",
       "      <td>NaN</td>\n",
       "      <td>NaN</td>\n",
       "      <td>NaN</td>\n",
       "      <td>NaN</td>\n",
       "      <td>NaN</td>\n",
       "      <td>NaN</td>\n",
       "      <td>2019-04-23</td>\n",
       "      <td>2019-05-15</td>\n",
       "      <td>0.004028</td>\n",
       "      <td>0.000016</td>\n",
       "      <td>6.533343e-08</td>\n",
       "      <td>2.631362e-10</td>\n",
       "    </tr>\n",
       "    <tr>\n",
       "      <th>2019-05-14</th>\n",
       "      <td>0.476615</td>\n",
       "      <td>0.490051</td>\n",
       "      <td>0.466939</td>\n",
       "      <td>0.469479</td>\n",
       "      <td>0.468516</td>\n",
       "      <td>1.0</td>\n",
       "      <td>8.0</td>\n",
       "      <td>NaN</td>\n",
       "      <td>NaN</td>\n",
       "      <td>NaN</td>\n",
       "      <td>NaN</td>\n",
       "      <td>NaN</td>\n",
       "      <td>NaN</td>\n",
       "      <td>NaN</td>\n",
       "      <td>2019-04-23</td>\n",
       "      <td>2019-05-15</td>\n",
       "      <td>-0.015747</td>\n",
       "      <td>0.000248</td>\n",
       "      <td>-3.904689e-06</td>\n",
       "      <td>6.148680e-08</td>\n",
       "    </tr>\n",
       "    <tr>\n",
       "      <th>2019-05-15</th>\n",
       "      <td>0.476695</td>\n",
       "      <td>0.491739</td>\n",
       "      <td>0.456284</td>\n",
       "      <td>0.478810</td>\n",
       "      <td>0.468517</td>\n",
       "      <td>1.0</td>\n",
       "      <td>8.0</td>\n",
       "      <td>NaN</td>\n",
       "      <td>NaN</td>\n",
       "      <td>NaN</td>\n",
       "      <td>NaN</td>\n",
       "      <td>NaN</td>\n",
       "      <td>NaN</td>\n",
       "      <td>NaN</td>\n",
       "      <td>2019-04-23</td>\n",
       "      <td>2019-05-15</td>\n",
       "      <td>0.019680</td>\n",
       "      <td>0.000387</td>\n",
       "      <td>7.622476e-06</td>\n",
       "      <td>1.500127e-07</td>\n",
       "    </tr>\n",
       "  </tbody>\n",
       "</table>\n",
       "<p>500 rows × 20 columns</p>\n",
       "</div>"
      ],
      "text/plain": [
       "                Open      High       Low     Close  Smoothed  Trend  n_Trend  \\\n",
       "Date                                                                           \n",
       "2018-01-01  0.982355  1.024249  0.980291  1.000000  0.926917   -1.0      1.0   \n",
       "2018-01-02  1.004558  1.021508  0.960395  0.982675  0.926488   -1.0      1.0   \n",
       "2018-01-03  1.004738  1.033414  0.981537  1.005868  0.925776   -1.0      1.0   \n",
       "2018-01-04  1.030274  1.036245  0.959536  1.000860  0.924783   -1.0      1.0   \n",
       "2018-01-05  1.050844  1.057257  1.026701  1.033311  0.923511   -1.0      1.0   \n",
       "...              ...       ...       ...       ...       ...    ...      ...   \n",
       "2019-05-11  0.472714  0.491079  0.472018  0.481222  0.468491    1.0      8.0   \n",
       "2019-05-12  0.473331  0.484680  0.457573  0.475013  0.468502    1.0      8.0   \n",
       "2019-05-13  0.471018  0.477845  0.467055  0.476930  0.468511    1.0      8.0   \n",
       "2019-05-14  0.476615  0.490051  0.466939  0.469479  0.468516    1.0      8.0   \n",
       "2019-05-15  0.476695  0.491739  0.456284  0.478810  0.468517    1.0      8.0   \n",
       "\n",
       "            Max_Drawdown       ATR    max_TR    min_TR    Ratio     ICAGR  \\\n",
       "Date                                                                        \n",
       "2018-01-01      0.503078  0.067764  0.122066  0.019482  1.32887  1.067699   \n",
       "2018-01-02           NaN       NaN       NaN       NaN      NaN       NaN   \n",
       "2018-01-03           NaN       NaN       NaN       NaN      NaN       NaN   \n",
       "2018-01-04           NaN       NaN       NaN       NaN      NaN       NaN   \n",
       "2018-01-05           NaN       NaN       NaN       NaN      NaN       NaN   \n",
       "...                  ...       ...       ...       ...      ...       ...   \n",
       "2019-05-11           NaN       NaN       NaN       NaN      NaN       NaN   \n",
       "2019-05-12           NaN       NaN       NaN       NaN      NaN       NaN   \n",
       "2019-05-13           NaN       NaN       NaN       NaN      NaN       NaN   \n",
       "2019-05-14           NaN       NaN       NaN       NaN      NaN       NaN   \n",
       "2019-05-15           NaN       NaN       NaN       NaN      NaN       NaN   \n",
       "\n",
       "               Bliss Trend_Start  Trend_End        Ch       Ch2           Ch3  \\\n",
       "Date                                                                            \n",
       "2018-01-01  2.122335  2018-01-01 2018-04-08  0.000000  0.000000  0.000000e+00   \n",
       "2018-01-02       NaN  2018-01-01 2018-04-08 -0.017477  0.000305 -5.338561e-06   \n",
       "2018-01-03       NaN  2018-01-01 2018-04-08  0.023328  0.000544  1.269553e-05   \n",
       "2018-01-04       NaN  2018-01-01 2018-04-08 -0.004992  0.000025 -1.243703e-07   \n",
       "2018-01-05       NaN  2018-01-01 2018-04-08  0.031909  0.001018  3.248985e-05   \n",
       "...              ...         ...        ...       ...       ...           ...   \n",
       "2019-05-11       NaN  2019-04-23 2019-05-15  0.017292  0.000299  5.170349e-06   \n",
       "2019-05-12       NaN  2019-04-23 2019-05-15 -0.012986  0.000169 -2.190124e-06   \n",
       "2019-05-13       NaN  2019-04-23 2019-05-15  0.004028  0.000016  6.533343e-08   \n",
       "2019-05-14       NaN  2019-04-23 2019-05-15 -0.015747  0.000248 -3.904689e-06   \n",
       "2019-05-15       NaN  2019-04-23 2019-05-15  0.019680  0.000387  7.622476e-06   \n",
       "\n",
       "                     Ch4  \n",
       "Date                      \n",
       "2018-01-01  0.000000e+00  \n",
       "2018-01-02  9.330372e-08  \n",
       "2018-01-03  2.961655e-07  \n",
       "2018-01-04  6.208058e-10  \n",
       "2018-01-05  1.036725e-06  \n",
       "...                  ...  \n",
       "2019-05-11  8.940460e-08  \n",
       "2019-05-12  2.844187e-08  \n",
       "2019-05-13  2.631362e-10  \n",
       "2019-05-14  6.148680e-08  \n",
       "2019-05-15  1.500127e-07  \n",
       "\n",
       "[500 rows x 20 columns]"
      ]
     },
     "execution_count": 6,
     "metadata": {},
     "output_type": "execute_result"
    }
   ],
   "source": [
    "price_df = add_changes(clean_trends(find_trends(sim_path())))\n",
    "price_df"
   ]
  },
  {
   "cell_type": "code",
   "execution_count": 7,
   "metadata": {
    "ExecuteTime": {
     "end_time": "2018-09-11T01:08:20.467780Z",
     "start_time": "2018-09-11T01:08:20.250350Z"
    },
    "scrolled": false
   },
   "outputs": [
    {
     "data": {
      "image/png": "[encoded data removed]",
      "text/plain": [
       "<Figure size 1152x360 with 1 Axes>"
      ]
     },
     "metadata": {},
     "output_type": "display_data"
    }
   ],
   "source": [
    "plot_trends(price_df)"
   ]
  },
  {
   "cell_type": "markdown",
   "metadata": {},
   "source": [
    "## Dataset Class"
   ]
  },
  {
   "cell_type": "code",
   "execution_count": 8,
   "metadata": {
    "ExecuteTime": {
     "end_time": "2018-09-11T01:08:21.298422Z",
     "start_time": "2018-09-11T01:08:21.219469Z"
    }
   },
   "outputs": [],
   "source": [
    "def get_trend(df, sd, min_icagr=None,\n",
    "              targets=['Trend', 'Max_Drawdown', 'ICAGR', 'Bliss'],\n",
    "              is_multi=True):\n",
    "\n",
    "    t_df = find_trends(df, sd)\n",
    "    if min_icagr:\n",
    "        t_df = clean_trends(t_df)\n",
    "\n",
    "    t_df = t_df.loc[:, targets]\n",
    "    if 'Trend' in targets and is_multi:\n",
    "        t_df.Trend = t_df.Trend.add(1).astype(np.long)  # 0 = Down, 1 = No Trend, 2 = Up.\n",
    "    t_df = t_df.rename({t: t + '_' + str(sd) for t in targets}, axis=1)\n",
    "    \n",
    "    return t_df"
   ]
  },
  {
   "cell_type": "code",
   "execution_count": 9,
   "metadata": {
    "ExecuteTime": {
     "end_time": "2018-09-11T01:08:21.748300Z",
     "start_time": "2018-09-11T01:08:21.666490Z"
    }
   },
   "outputs": [],
   "source": [
    "class SimulatedPricesDataset(Dataset):\n",
    "    \"\"\"Simulated Prices Dataset\"\"\"\n",
    "    def __init__(self, N, sim_fun, \n",
    "                 features=None,\n",
    "                 targets=['Trend', 'Max_Drawdown', 'ATR', 'Bliss'],\n",
    "                 sds=[5, 10, 20, 30], min_icagr=None,\n",
    "                 Ch=None,\n",
    "                 tech_windows=None,\n",
    "                 is_multi=True,\n",
    "                 transform=None):\n",
    "        \"\"\"\n",
    "        Args:\n",
    "            N (int): number of prices to simulate.\n",
    "            sim_fun: function that returns a simulated price DataFrame: Date | OHLC.\n",
    "            transform (callable, optional): Optional transform to be applied\n",
    "                on a sample.\n",
    "        \"\"\"\n",
    "        self.N = N\n",
    "        self.sim_fun = sim_fun\n",
    "        self.targets = targets\n",
    "        self.features = features\n",
    "        self.sds = sds\n",
    "        self.min_icagr = min_icagr\n",
    "        self.Ch = Ch\n",
    "        self.tech_windows = tech_windows\n",
    "        self.transform = transform\n",
    "        self.samples = []\n",
    "        self.is_multi = is_multi\n",
    "        self.is_reg = not is_multi\n",
    "        \n",
    "        for i in tqdm_notebook(range(N)):\n",
    "            sim_df = self.sim_fun()\n",
    "        \n",
    "            targets_df = pd.concat(\n",
    "                (get_trend(sim_df, s, min_icagr=self.min_icagr, targets=self.targets, is_multi=self.is_multi)\n",
    "                 for s in self.sds),\n",
    "                axis=1,\n",
    "            )\n",
    "\n",
    "            if self.tech_windows:\n",
    "                sim_df = add_technical(add_changes(sim_df), windows=self.tech_windows)\n",
    "            elif self.Ch:\n",
    "                sim_df = add_changes(sim_df)\n",
    "\n",
    "            if self.features:\n",
    "                sim_df = sim_df[self.features]\n",
    "\n",
    "            sample = {'features': sim_df, 'targets': targets_df}\n",
    "            self.samples.append(sample)\n",
    "        \n",
    "        self.n_features = self.samples[0]['features'].shape[1]\n",
    "        self.n_targets = self.samples[0]['targets'].shape[1]\n",
    "        self.features_columns = self.samples[0]['features'].columns\n",
    "        self.targets_columns = self.samples[0]['targets'].columns\n",
    "    \n",
    "    \n",
    "    def __len__(self):\n",
    "        return self.N\n",
    "    \n",
    "    \n",
    "    def __getitem__(self, idx):\n",
    "        sample = self.samples[idx]\n",
    "        \n",
    "        if self.transform:\n",
    "            sample = self.transform(sample)\n",
    "        \n",
    "        return sample"
   ]
  },
  {
   "cell_type": "code",
   "execution_count": 10,
   "metadata": {
    "ExecuteTime": {
     "end_time": "2018-09-11T01:08:24.168328Z",
     "start_time": "2018-09-11T01:08:22.505892Z"
    }
   },
   "outputs": [
    {
     "data": {
      "application/vnd.jupyter.widget-view+json": {
       "model_id": "b67b90dffc6845b0a9d72da294824832",
       "version_major": 2,
       "version_minor": 0
      },
      "text/plain": [
       "HBox(children=(IntProgress(value=0, max=10), HTML(value='')))"
      ]
     },
     "metadata": {},
     "output_type": "display_data"
    },
    {
     "name": "stdout",
     "output_type": "stream",
     "text": [
      "\n"
     ]
    }
   ],
   "source": [
    "sim_dataset = SimulatedPricesDataset(10, lambda: sim_path(N=800),\n",
    "                                     targets=['Trend'], sds = [20],\n",
    "                                     min_icagr=0.3, tech_windows=[30, 100])"
   ]
  },
  {
   "cell_type": "code",
   "execution_count": 11,
   "metadata": {
    "ExecuteTime": {
     "end_time": "2018-09-11T01:08:24.257070Z",
     "start_time": "2018-09-11T01:08:24.169304Z"
    }
   },
   "outputs": [
    {
     "data": {
      "text/plain": [
       "(20, 1)"
      ]
     },
     "execution_count": 11,
     "metadata": {},
     "output_type": "execute_result"
    }
   ],
   "source": [
    "sim_dataset.n_features, sim_dataset.n_targets"
   ]
  },
  {
   "cell_type": "code",
   "execution_count": 12,
   "metadata": {
    "ExecuteTime": {
     "end_time": "2018-09-11T01:08:24.802888Z",
     "start_time": "2018-09-11T01:08:24.722078Z"
    },
    "scrolled": true
   },
   "outputs": [
    {
     "name": "stdout",
     "output_type": "stream",
     "text": [
      "(800, 20) (800, 1)\n"
     ]
    }
   ],
   "source": [
    "sim_j = sim_dataset[2]\n",
    "print(sim_j['features'].shape, sim_j['targets'].shape)"
   ]
  },
  {
   "cell_type": "code",
   "execution_count": 13,
   "metadata": {
    "ExecuteTime": {
     "end_time": "2018-09-11T01:08:25.162594Z",
     "start_time": "2018-09-11T01:08:25.080786Z"
    }
   },
   "outputs": [
    {
     "data": {
      "text/plain": [
       "Index(['Open', 'High', 'Low', 'Close', 'Ch', 'Ch2', 'Ch3', 'Ch4', 'SMA_30',\n",
       "       'SMA_100', 'sigma2_SMA_30', 'sigma2_SMA_100', 'skew_SMA_30',\n",
       "       'skew_SMA_100', 'kurt_SMA_30', 'kurt_SMA_100', 'Support_30',\n",
       "       'Support_100', 'Resistance_30', 'Resistance_100'],\n",
       "      dtype='object')"
      ]
     },
     "execution_count": 13,
     "metadata": {},
     "output_type": "execute_result"
    }
   ],
   "source": [
    "sim_j['features'].columns"
   ]
  },
  {
   "cell_type": "code",
   "execution_count": 14,
   "metadata": {
    "ExecuteTime": {
     "end_time": "2018-09-11T01:08:26.032767Z",
     "start_time": "2018-09-11T01:08:25.946997Z"
    },
    "scrolled": true
   },
   "outputs": [
    {
     "data": {
      "text/html": [
       "<div>\n",
       "<style scoped>\n",
       "    .dataframe tbody tr th:only-of-type {\n",
       "        vertical-align: middle;\n",
       "    }\n",
       "\n",
       "    .dataframe tbody tr th {\n",
       "        vertical-align: top;\n",
       "    }\n",
       "\n",
       "    .dataframe thead th {\n",
       "        text-align: right;\n",
       "    }\n",
       "</style>\n",
       "<table border=\"1\" class=\"dataframe\">\n",
       "  <thead>\n",
       "    <tr style=\"text-align: right;\">\n",
       "      <th>Date</th>\n",
       "      <th>2018-01-01 00:00:00</th>\n",
       "      <th>2018-01-02 00:00:00</th>\n",
       "      <th>2018-01-03 00:00:00</th>\n",
       "      <th>2018-01-04 00:00:00</th>\n",
       "      <th>2018-01-05 00:00:00</th>\n",
       "    </tr>\n",
       "  </thead>\n",
       "  <tbody>\n",
       "    <tr>\n",
       "      <th>Open</th>\n",
       "      <td>0.998189</td>\n",
       "      <td>0.981091</td>\n",
       "      <td>0.996034</td>\n",
       "      <td>0.962484</td>\n",
       "      <td>0.931387</td>\n",
       "    </tr>\n",
       "    <tr>\n",
       "      <th>High</th>\n",
       "      <td>1.013140</td>\n",
       "      <td>1.039497</td>\n",
       "      <td>1.002879</td>\n",
       "      <td>1.028962</td>\n",
       "      <td>0.992049</td>\n",
       "    </tr>\n",
       "    <tr>\n",
       "      <th>Low</th>\n",
       "      <td>0.980531</td>\n",
       "      <td>0.950755</td>\n",
       "      <td>0.957201</td>\n",
       "      <td>0.941264</td>\n",
       "      <td>0.920885</td>\n",
       "    </tr>\n",
       "    <tr>\n",
       "      <th>Close</th>\n",
       "      <td>1.000000</td>\n",
       "      <td>0.999365</td>\n",
       "      <td>0.980015</td>\n",
       "      <td>0.987577</td>\n",
       "      <td>0.968907</td>\n",
       "    </tr>\n",
       "    <tr>\n",
       "      <th>Ch</th>\n",
       "      <td>0.000000</td>\n",
       "      <td>-0.000635</td>\n",
       "      <td>-0.019552</td>\n",
       "      <td>0.007687</td>\n",
       "      <td>-0.019086</td>\n",
       "    </tr>\n",
       "    <tr>\n",
       "      <th>...</th>\n",
       "      <td>...</td>\n",
       "      <td>...</td>\n",
       "      <td>...</td>\n",
       "      <td>...</td>\n",
       "      <td>...</td>\n",
       "    </tr>\n",
       "    <tr>\n",
       "      <th>kurt_SMA_100</th>\n",
       "      <td>-1.000000</td>\n",
       "      <td>-1.000000</td>\n",
       "      <td>-0.006318</td>\n",
       "      <td>0.066828</td>\n",
       "      <td>-0.827278</td>\n",
       "    </tr>\n",
       "    <tr>\n",
       "      <th>Support_30</th>\n",
       "      <td>0.980531</td>\n",
       "      <td>0.950755</td>\n",
       "      <td>0.950755</td>\n",
       "      <td>0.941264</td>\n",
       "      <td>0.920885</td>\n",
       "    </tr>\n",
       "    <tr>\n",
       "      <th>Support_100</th>\n",
       "      <td>0.980531</td>\n",
       "      <td>0.950755</td>\n",
       "      <td>0.950755</td>\n",
       "      <td>0.941264</td>\n",
       "      <td>0.920885</td>\n",
       "    </tr>\n",
       "    <tr>\n",
       "      <th>Resistance_30</th>\n",
       "      <td>1.013140</td>\n",
       "      <td>1.039497</td>\n",
       "      <td>1.039497</td>\n",
       "      <td>1.039497</td>\n",
       "      <td>1.039497</td>\n",
       "    </tr>\n",
       "    <tr>\n",
       "      <th>Resistance_100</th>\n",
       "      <td>1.013140</td>\n",
       "      <td>1.039497</td>\n",
       "      <td>1.039497</td>\n",
       "      <td>1.039497</td>\n",
       "      <td>1.039497</td>\n",
       "    </tr>\n",
       "  </tbody>\n",
       "</table>\n",
       "<p>20 rows × 5 columns</p>\n",
       "</div>"
      ],
      "text/plain": [
       "Date            2018-01-01  2018-01-02  2018-01-03  2018-01-04  2018-01-05\n",
       "Open              0.998189    0.981091    0.996034    0.962484    0.931387\n",
       "High              1.013140    1.039497    1.002879    1.028962    0.992049\n",
       "Low               0.980531    0.950755    0.957201    0.941264    0.920885\n",
       "Close             1.000000    0.999365    0.980015    0.987577    0.968907\n",
       "Ch                0.000000   -0.000635   -0.019552    0.007687   -0.019086\n",
       "...                    ...         ...         ...         ...         ...\n",
       "kurt_SMA_100     -1.000000   -1.000000   -0.006318    0.066828   -0.827278\n",
       "Support_30        0.980531    0.950755    0.950755    0.941264    0.920885\n",
       "Support_100       0.980531    0.950755    0.950755    0.941264    0.920885\n",
       "Resistance_30     1.013140    1.039497    1.039497    1.039497    1.039497\n",
       "Resistance_100    1.013140    1.039497    1.039497    1.039497    1.039497\n",
       "\n",
       "[20 rows x 5 columns]"
      ]
     },
     "execution_count": 14,
     "metadata": {},
     "output_type": "execute_result"
    }
   ],
   "source": [
    "sim_j['features'].head().T"
   ]
  },
  {
   "cell_type": "code",
   "execution_count": 15,
   "metadata": {
    "ExecuteTime": {
     "end_time": "2018-09-11T01:08:26.582566Z",
     "start_time": "2018-09-11T01:08:26.498784Z"
    }
   },
   "outputs": [
    {
     "data": {
      "text/html": [
       "<div>\n",
       "<style scoped>\n",
       "    .dataframe tbody tr th:only-of-type {\n",
       "        vertical-align: middle;\n",
       "    }\n",
       "\n",
       "    .dataframe tbody tr th {\n",
       "        vertical-align: top;\n",
       "    }\n",
       "\n",
       "    .dataframe thead th {\n",
       "        text-align: right;\n",
       "    }\n",
       "</style>\n",
       "<table border=\"1\" class=\"dataframe\">\n",
       "  <thead>\n",
       "    <tr style=\"text-align: right;\">\n",
       "      <th>Date</th>\n",
       "      <th>2018-01-01 00:00:00</th>\n",
       "      <th>2018-01-02 00:00:00</th>\n",
       "      <th>2018-01-03 00:00:00</th>\n",
       "      <th>2018-01-04 00:00:00</th>\n",
       "      <th>2018-01-05 00:00:00</th>\n",
       "    </tr>\n",
       "  </thead>\n",
       "  <tbody>\n",
       "    <tr>\n",
       "      <th>Trend_20</th>\n",
       "      <td>0</td>\n",
       "      <td>0</td>\n",
       "      <td>0</td>\n",
       "      <td>0</td>\n",
       "      <td>0</td>\n",
       "    </tr>\n",
       "  </tbody>\n",
       "</table>\n",
       "</div>"
      ],
      "text/plain": [
       "Date      2018-01-01  2018-01-02  2018-01-03  2018-01-04  2018-01-05\n",
       "Trend_20           0           0           0           0           0"
      ]
     },
     "execution_count": 15,
     "metadata": {},
     "output_type": "execute_result"
    }
   ],
   "source": [
    "sim_j['targets'].head().T"
   ]
  },
  {
   "cell_type": "markdown",
   "metadata": {},
   "source": [
    "## Transforms"
   ]
  },
  {
   "cell_type": "code",
   "execution_count": 16,
   "metadata": {
    "ExecuteTime": {
     "end_time": "2018-09-11T01:08:27.618095Z",
     "start_time": "2018-09-11T01:08:27.538170Z"
    }
   },
   "outputs": [],
   "source": [
    "class ToArray(object):\n",
    "    def __call__(self, sample):\n",
    "        features, targets = sample['features'], sample['targets']\n",
    "        return {'features': features.values, 'targets': targets.values}\n",
    "        \n",
    "\n",
    "class RandomCrop(object):\n",
    "    \"\"\"Crops randomly an inner segment of the time series.\n",
    "    \n",
    "    Args:\n",
    "        output_size (int): length of the desired time series.\n",
    "    \"\"\"\n",
    "    \n",
    "    def __init__(self, output_size):\n",
    "        assert isinstance(output_size, int)\n",
    "        self.output_size = output_size\n",
    "    \n",
    "    def __call__(self, sample):\n",
    "        features, targets = sample['features'], sample['targets']\n",
    "        \n",
    "        size = len(features)\n",
    "        if self.output_size < size:\n",
    "            start = np.random.randint(0, size - self.output_size)\n",
    "            features = features[start: start + self.output_size, :]\n",
    "            targets = targets[start: start + self.output_size, :]\n",
    "        \n",
    "        return {'features': features, 'targets': targets}\n",
    "\n",
    "\n",
    "class StartAt(object):\n",
    "    def __init__(self, at):\n",
    "        assert at > 0\n",
    "        self.at = at\n",
    "    \n",
    "    def __call__(self, sample):\n",
    "        features, targets = sample['features'], sample['targets']\n",
    "        # Open starts at self.at\n",
    "        features[:, :4] = self.at * features[:, :4] / features[0, 0]\n",
    "        \n",
    "        return {'features': features, 'targets': targets}\n",
    "    \n",
    "    \n",
    "class ToTensor(object):\n",
    "    \"\"\"Convert ndarrays in sample to Tensors.\"\"\"\n",
    "\n",
    "    def __call__(self, sample):\n",
    "        features, targets = sample['features'], sample['targets']\n",
    "\n",
    "        return {'features': torch.from_numpy(features), \n",
    "                'targets': torch.from_numpy(targets)}"
   ]
  },
  {
   "cell_type": "code",
   "execution_count": 17,
   "metadata": {
    "ExecuteTime": {
     "end_time": "2018-09-11T01:08:28.168513Z",
     "start_time": "2018-09-11T01:08:28.090551Z"
    }
   },
   "outputs": [],
   "source": [
    "# sim_dataset = SimulatedPricesDataset(...,\n",
    "#                                      transform=transforms.Compose([\n",
    "#                                          ToArray(), RandomCrop(480)\n",
    "#                                      ])\n",
    "#                                     )\n",
    "\n",
    "sim_dataset.transform = transforms.Compose([ToArray(), RandomCrop(480)])"
   ]
  },
  {
   "cell_type": "code",
   "execution_count": 18,
   "metadata": {
    "ExecuteTime": {
     "end_time": "2018-09-11T01:08:28.559058Z",
     "start_time": "2018-09-11T01:08:28.354606Z"
    }
   },
   "outputs": [
    {
     "name": "stdout",
     "output_type": "stream",
     "text": [
      "(480, 20) (480, 1)\n"
     ]
    },
    {
     "data": {
      "image/png": "[encoded data removed]",
      "text/plain": [
       "<Figure size 864x288 with 1 Axes>"
      ]
     },
     "metadata": {},
     "output_type": "display_data"
    }
   ],
   "source": [
    "sim_j = sim_dataset[2]\n",
    "print(sim_j['features'].shape, sim_j['targets'].shape)\n",
    "plt.plot(sim_j['features']);"
   ]
  },
  {
   "cell_type": "code",
   "execution_count": 19,
   "metadata": {
    "ExecuteTime": {
     "end_time": "2018-09-11T01:08:29.047180Z",
     "start_time": "2018-09-11T01:08:28.970218Z"
    }
   },
   "outputs": [],
   "source": [
    "composed = transforms.Compose([ToArray(), RandomCrop(480), StartAt(100), ToTensor()])\n",
    "\n",
    "sim_dataset.transform = composed"
   ]
  },
  {
   "cell_type": "code",
   "execution_count": 20,
   "metadata": {
    "ExecuteTime": {
     "end_time": "2018-09-11T01:08:29.541490Z",
     "start_time": "2018-09-11T01:08:29.457710Z"
    }
   },
   "outputs": [
    {
     "name": "stdout",
     "output_type": "stream",
     "text": [
      "torch.Size([480, 20]) torch.Size([480, 1])\n"
     ]
    }
   ],
   "source": [
    "sim_j = sim_dataset[2]\n",
    "print(sim_j['features'].size(), sim_j['targets'].size())"
   ]
  },
  {
   "cell_type": "code",
   "execution_count": 21,
   "metadata": {
    "ExecuteTime": {
     "end_time": "2018-09-11T01:08:30.071426Z",
     "start_time": "2018-09-11T01:08:29.993626Z"
    }
   },
   "outputs": [
    {
     "data": {
      "text/plain": [
       "\n",
       " 100.0000  103.2262   98.2660  100.1122\n",
       " 102.6785  104.5326   96.5346   99.6914\n",
       " 103.5553  106.4963  100.8265  102.7019\n",
       " 103.8072  108.2664  101.0553  103.3272\n",
       " 100.4659  106.5554  100.1178  103.7266\n",
       " 100.6578  102.3248   98.6829  101.4090\n",
       "[torch.DoubleTensor of size 6x4]"
      ]
     },
     "execution_count": 21,
     "metadata": {},
     "output_type": "execute_result"
    }
   ],
   "source": [
    "sim_j['features'][:6, :4]"
   ]
  },
  {
   "cell_type": "code",
   "execution_count": 22,
   "metadata": {
    "ExecuteTime": {
     "end_time": "2018-09-11T01:08:30.616608Z",
     "start_time": "2018-09-11T01:08:30.537828Z"
    }
   },
   "outputs": [
    {
     "data": {
      "text/plain": [
       "\n",
       " 2\n",
       " 2\n",
       " 2\n",
       " 2\n",
       " 2\n",
       " 2\n",
       "[torch.IntTensor of size 6x1]"
      ]
     },
     "execution_count": 22,
     "metadata": {},
     "output_type": "execute_result"
    }
   ],
   "source": [
    "sim_j['targets'][:6, :]"
   ]
  },
  {
   "cell_type": "markdown",
   "metadata": {},
   "source": [
    "## Iterating through the dataset"
   ]
  },
  {
   "cell_type": "code",
   "execution_count": 23,
   "metadata": {
    "ExecuteTime": {
     "end_time": "2018-09-11T01:08:45.275053Z",
     "start_time": "2018-09-11T01:08:31.506515Z"
    }
   },
   "outputs": [
    {
     "data": {
      "application/vnd.jupyter.widget-view+json": {
       "model_id": "a5dfbeb888114fcf9de0b331d950735d",
       "version_major": 2,
       "version_minor": 0
      },
      "text/plain": [
       "HBox(children=(IntProgress(value=0), HTML(value='')))"
      ]
     },
     "metadata": {},
     "output_type": "display_data"
    },
    {
     "name": "stdout",
     "output_type": "stream",
     "text": [
      "\n"
     ]
    },
    {
     "data": {
      "application/vnd.jupyter.widget-view+json": {
       "model_id": "0d5a769347f64aa0b9cc5c61f8ce9539",
       "version_major": 2,
       "version_minor": 0
      },
      "text/plain": [
       "HBox(children=(IntProgress(value=0, max=50), HTML(value='')))"
      ]
     },
     "metadata": {},
     "output_type": "display_data"
    },
    {
     "name": "stdout",
     "output_type": "stream",
     "text": [
      "\n"
     ]
    }
   ],
   "source": [
    "sds = [20]\n",
    "tech_win = [10]\n",
    "min_icagr = 0.3\n",
    "\n",
    "train_dataset = SimulatedPricesDataset(100, lambda: sim_path(N=500),\n",
    "                                       targets=['Trend'],\n",
    "                                       sds=sds, min_icagr=min_icagr,\n",
    "                                       tech_windows=tech_win,\n",
    "                                       transform=transforms.Compose([\n",
    "                                           ToArray(),\n",
    "                                           RandomCrop(480),\n",
    "                                           ToTensor()\n",
    "                                       ]))\n",
    "\n",
    "test_dataset = SimulatedPricesDataset(50, lambda: sim_path(N=300),\n",
    "                                      targets=['Trend'],\n",
    "                                      sds=sds, min_icagr=min_icagr,\n",
    "                                      tech_windows=tech_win,\n",
    "                                      transform=transforms.Compose([\n",
    "                                          ToArray(),\n",
    "                                          ToTensor()\n",
    "                                      ]))"
   ]
  },
  {
   "cell_type": "code",
   "execution_count": 24,
   "metadata": {
    "ExecuteTime": {
     "end_time": "2018-09-11T01:08:45.381789Z",
     "start_time": "2018-09-11T01:08:45.276047Z"
    },
    "scrolled": true
   },
   "outputs": [
    {
     "name": "stdout",
     "output_type": "stream",
     "text": [
      "Train:\n",
      "0 torch.Size([50, 480, 14]) torch.Size([50, 480, 1])\n",
      "1 torch.Size([50, 480, 14]) torch.Size([50, 480, 1])\n",
      "Test:\n",
      "0 torch.Size([50, 300, 14]) torch.Size([50, 300, 1])\n"
     ]
    }
   ],
   "source": [
    "train_loader = torch.utils.data.DataLoader(train_dataset, batch_size=50, shuffle=True)\n",
    "test_loader = torch.utils.data.DataLoader(test_dataset, batch_size=len(test_dataset), shuffle=False)\n",
    "\n",
    "print('Train:')\n",
    "for i_batch, sample_batched in enumerate(train_loader):\n",
    "    print(i_batch, sample_batched['features'].size(),\n",
    "          sample_batched['targets'].size())\n",
    "    \n",
    "    if i_batch == 5:\n",
    "        break\n",
    "\n",
    "print('Test:')\n",
    "for i_batch, sample_batched in enumerate(test_loader):\n",
    "    print(i_batch, sample_batched['features'].size(),\n",
    "          sample_batched['targets'].size())\n",
    "    \n",
    "    if i_batch == 5:\n",
    "        break"
   ]
  },
  {
   "cell_type": "code",
   "execution_count": 25,
   "metadata": {
    "ExecuteTime": {
     "end_time": "2018-09-11T01:08:45.474512Z",
     "start_time": "2018-09-11T01:08:45.382751Z"
    },
    "scrolled": true
   },
   "outputs": [
    {
     "data": {
      "text/plain": [
       "\n",
       "( 0 ,.,.) = \n",
       "  1.0230  1.0576  1.0071  ...  -0.8081  0.9747  1.0987\n",
       "  1.0059  1.0457  0.9829  ...  -0.8142  0.9805  1.0987\n",
       "  1.0218  1.0655  0.9620  ...  -0.9533  0.9620  1.0987\n",
       "           ...             ⋱             ...          \n",
       "  1.4338  1.5426  1.4166  ...  -1.0415  1.3962  1.6566\n",
       "  1.4718  1.4902  1.4242  ...  -1.1343  1.3962  1.6555\n",
       "  1.4419  1.5103  1.4378  ...  -1.0664  1.3962  1.6555\n",
       "\n",
       "( 1 ,.,.) = \n",
       "  0.9655  0.9703  0.9578  ...   0.7909  0.9229  1.0570\n",
       "  0.9823  0.9857  0.9530  ...   0.5598  0.9229  1.0570\n",
       "  0.9632  1.0060  0.9385  ...   1.0003  0.9229  1.0570\n",
       "           ...             ⋱             ...          \n",
       "  0.5802  0.5813  0.5521  ...  -1.0994  0.5510  0.6171\n",
       "  0.5900  0.5906  0.5711  ...  -0.9537  0.5510  0.6171\n",
       "  0.5760  0.6020  0.5555  ...  -1.1788  0.5510  0.6171\n",
       "\n",
       "( 2 ,.,.) = \n",
       "  0.9925  1.0285  0.9621  ...  -1.0000  0.9621  1.0285\n",
       "  0.9841  1.0435  0.9738  ...  -1.4792  0.9621  1.0435\n",
       "  0.9436  0.9901  0.9213  ...  -1.5293  0.9213  1.0435\n",
       "           ...             ⋱             ...          \n",
       "  1.1863  1.2560  1.1675  ...  -0.3701  1.0624  1.2560\n",
       "  1.1669  1.2327  1.1367  ...  -0.5339  1.0673  1.2560\n",
       "  1.0986  1.2019  1.0945  ...  -0.4530  1.0673  1.2560\n",
       "... \n",
       "\n",
       "(47 ,.,.) = \n",
       "  1.0303  1.1109  1.0088  ...  -1.0346  1.0088  1.1829\n",
       "  1.0573  1.0948  1.0264  ...  -1.0885  1.0088  1.1773\n",
       "  1.0437  1.0767  1.0327  ...  -0.7428  1.0088  1.1599\n",
       "           ...             ⋱             ...          \n",
       "  2.3158  2.4121  2.2521  ...  -0.7455  2.0421  2.4121\n",
       "  2.3382  2.4262  2.2599  ...  -0.6655  2.0421  2.4262\n",
       "  2.2718  2.3607  2.2698  ...  -0.6207  2.0924  2.4262\n",
       "\n",
       "(48 ,.,.) = \n",
       "  0.9411  0.9634  0.9329  ...   2.7384  0.8609  1.0401\n",
       "  0.9223  0.9496  0.9023  ...   2.7278  0.8609  1.0401\n",
       "  0.9044  0.9494  0.9019  ...   2.7008  0.8609  0.9879\n",
       "           ...             ⋱             ...          \n",
       "  0.3188  0.3194  0.2843  ...  -0.6971  0.2559  0.3194\n",
       "  0.3209  0.3341  0.3132  ...   0.0197  0.2559  0.3341\n",
       "  0.3138  0.3259  0.3101  ...   0.1195  0.2559  0.3341\n",
       "\n",
       "(49 ,.,.) = \n",
       "  0.8694  0.8695  0.8461  ...  -0.5683  0.8152  0.9902\n",
       "  0.8500  0.8805  0.8140  ...  -0.5149  0.8140  0.9472\n",
       "  0.8649  0.8703  0.8199  ...  -0.0440  0.8140  0.9472\n",
       "           ...             ⋱             ...          \n",
       "  0.7021  0.7126  0.6758  ...  -0.2164  0.6728  0.7750\n",
       "  0.7088  0.7234  0.6926  ...   0.0142  0.6728  0.7750\n",
       "  0.7348  0.7603  0.7132  ...  -0.2117  0.6728  0.7750\n",
       "[torch.DoubleTensor of size 50x480x14]"
      ]
     },
     "execution_count": 25,
     "metadata": {},
     "output_type": "execute_result"
    }
   ],
   "source": [
    "input = next(iter(train_loader))['features']\n",
    "input"
   ]
  },
  {
   "cell_type": "code",
   "execution_count": 26,
   "metadata": {
    "ExecuteTime": {
     "end_time": "2018-09-11T01:08:45.560277Z",
     "start_time": "2018-09-11T01:08:45.475503Z"
    }
   },
   "outputs": [
    {
     "data": {
      "text/plain": [
       "torch.Size([50, 1, 14])"
      ]
     },
     "execution_count": 26,
     "metadata": {},
     "output_type": "execute_result"
    }
   ],
   "source": [
    "next(iter(input.chunk(input.size(1), dim=1))).shape"
   ]
  },
  {
   "cell_type": "code",
   "execution_count": 27,
   "metadata": {
    "ExecuteTime": {
     "end_time": "2018-09-11T01:08:45.645051Z",
     "start_time": "2018-09-11T01:08:45.562274Z"
    }
   },
   "outputs": [
    {
     "data": {
      "text/plain": [
       "torch.Size([50, 14])"
      ]
     },
     "execution_count": 27,
     "metadata": {},
     "output_type": "execute_result"
    }
   ],
   "source": [
    "next(iter(input.chunk(input.size(1), dim=1))).contiguous().view(-1, 14).size()"
   ]
  },
  {
   "cell_type": "markdown",
   "metadata": {},
   "source": [
    "## ModelData"
   ]
  },
  {
   "cell_type": "code",
   "execution_count": 28,
   "metadata": {
    "ExecuteTime": {
     "end_time": "2018-09-11T01:08:48.633242Z",
     "start_time": "2018-09-11T01:08:48.550326Z"
    }
   },
   "outputs": [],
   "source": [
    "class PriceModelData(ModelData):\n",
    "    \n",
    "    def __init__(self, path, trn_ds, val_ds, bs, test_ds=None, shuffle=True, call=None):\n",
    "        \n",
    "        self.call = call\n",
    "        \n",
    "        if test_ds is not None:\n",
    "                test_dl = torch.utils.data.DataLoader(test_ds, bs, shuffle=False)\n",
    "        super().__init__(path, \n",
    "                         torch.utils.data.DataLoader(trn_ds, bs, shuffle=shuffle),\n",
    "                         torch.utils.data.DataLoader(val_ds, bs, shuffle=False),\n",
    "                         test_dl)\n",
    "    \n",
    "    @classmethod\n",
    "    def simulate(cls, N, bs, sim_fun=sim_path, n_days=500,\n",
    "                 targets=['Trend'],\n",
    "                 sds=[10, 20, 30], min_icagr=0.5,\n",
    "                 Ch=True,\n",
    "                 tech_windows=[10, 20, 30],\n",
    "                 features=None,\n",
    "                 ):\n",
    "        \n",
    "        \n",
    "        call = dict(N=N, n_days=n_days, sim_fun=sim_fun,\n",
    "                    targets=targets, features=features,\n",
    "                    sds=sds, min_icagr=min_icagr,\n",
    "                    Ch=Ch, tech_windows=tech_windows)\n",
    "        \n",
    "        trn_N, val_N, test_N = N\n",
    "        trn_ds = SimulatedPricesDataset(trn_N, lambda: sim_path(N=n_days + 30),\n",
    "                                        targets=['Trend'],\n",
    "                                        sds=sds, min_icagr=min_icagr,\n",
    "                                        tech_windows=tech_windows,\n",
    "                                        transform=transforms.Compose([\n",
    "                                            ToArray(),\n",
    "                                            RandomCrop(n_days - 30),\n",
    "                                            ToTensor()\n",
    "                                        ]))\n",
    "        val_ds = SimulatedPricesDataset(val_N, lambda: sim_path(N=n_days),\n",
    "                                        targets=['Trend'],\n",
    "                                        sds=sds, min_icagr=min_icagr,\n",
    "                                        tech_windows=tech_windows,\n",
    "                                        transform=transforms.Compose([\n",
    "                                            ToArray(),\n",
    "                                            ToTensor()\n",
    "                                        ]))\n",
    "        test_ds = SimulatedPricesDataset(test_N, lambda: sim_path(N=n_days),\n",
    "                                         targets=['Trend'],\n",
    "                                         sds=sds, min_icagr=min_icagr,\n",
    "                                         tech_windows=tech_windows,\n",
    "                                         transform=transforms.Compose([\n",
    "                                             ToArray(),\n",
    "                                             ToTensor()\n",
    "                                         ]))\n",
    "        \n",
    "        return cls('input/Sim/', trn_ds, val_ds, bs, test_ds, True, call)\n",
    "        \n",
    "        "
   ]
  },
  {
   "cell_type": "code",
   "execution_count": 29,
   "metadata": {
    "ExecuteTime": {
     "end_time": "2018-09-11T01:08:55.341307Z",
     "start_time": "2018-09-11T01:08:50.870629Z"
    }
   },
   "outputs": [
    {
     "data": {
      "application/vnd.jupyter.widget-view+json": {
       "model_id": "b14a087c7c324ddeab22cfc86def9980",
       "version_major": 2,
       "version_minor": 0
      },
      "text/plain": [
       "HBox(children=(IntProgress(value=0, max=20), HTML(value='')))"
      ]
     },
     "metadata": {},
     "output_type": "display_data"
    },
    {
     "name": "stdout",
     "output_type": "stream",
     "text": [
      "\n"
     ]
    },
    {
     "data": {
      "application/vnd.jupyter.widget-view+json": {
       "model_id": "1bf580c45dff48a5ab194de4414d073e",
       "version_major": 2,
       "version_minor": 0
      },
      "text/plain": [
       "HBox(children=(IntProgress(value=0, max=10), HTML(value='')))"
      ]
     },
     "metadata": {},
     "output_type": "display_data"
    },
    {
     "name": "stdout",
     "output_type": "stream",
     "text": [
      "\n"
     ]
    },
    {
     "data": {
      "application/vnd.jupyter.widget-view+json": {
       "model_id": "2f8c7e13d9ac4e7981532fa684d1474e",
       "version_major": 2,
       "version_minor": 0
      },
      "text/plain": [
       "HBox(children=(IntProgress(value=0, max=10), HTML(value='')))"
      ]
     },
     "metadata": {},
     "output_type": "display_data"
    },
    {
     "name": "stdout",
     "output_type": "stream",
     "text": [
      "\n"
     ]
    }
   ],
   "source": [
    "sim_data = PriceModelData.simulate((20, 10, 10), bs=10, sds=[20])"
   ]
  },
  {
   "cell_type": "code",
   "execution_count": 30,
   "metadata": {
    "ExecuteTime": {
     "end_time": "2018-09-11T01:08:55.428075Z",
     "start_time": "2018-09-11T01:08:55.342290Z"
    },
    "scrolled": true
   },
   "outputs": [
    {
     "data": {
      "text/plain": [
       "\n",
       "( 0 ,.,.) = \n",
       "  1.0719e+00  1.1135e+00  1.0688e+00  ...   1.1820e+00  1.1820e+00  1.1820e+00\n",
       "  1.0838e+00  1.1089e+00  1.0271e+00  ...   1.1820e+00  1.1820e+00  1.1820e+00\n",
       "  1.0717e+00  1.0916e+00  1.0278e+00  ...   1.1820e+00  1.1820e+00  1.1820e+00\n",
       "                 ...                   ⋱                   ...                \n",
       "  1.6328e+00  1.6336e+00  1.5646e+00  ...   1.6928e+00  1.6928e+00  1.6928e+00\n",
       "  1.6378e+00  1.6543e+00  1.6283e+00  ...   1.6928e+00  1.6928e+00  1.6928e+00\n",
       "  1.6389e+00  1.6614e+00  1.5922e+00  ...   1.6928e+00  1.6928e+00  1.6928e+00\n",
       "\n",
       "( 1 ,.,.) = \n",
       "  1.1137e+00  1.1355e+00  1.0710e+00  ...   1.1355e+00  1.1355e+00  1.1355e+00\n",
       "  1.1237e+00  1.1653e+00  1.0883e+00  ...   1.1653e+00  1.1653e+00  1.1653e+00\n",
       "  1.1077e+00  1.1364e+00  1.0926e+00  ...   1.1653e+00  1.1653e+00  1.1653e+00\n",
       "                 ...                   ⋱                   ...                \n",
       "  5.3874e-01  5.5266e-01  5.0878e-01  ...   5.5266e-01  5.5266e-01  5.5266e-01\n",
       "  5.3596e-01  5.4561e-01  5.1072e-01  ...   5.5266e-01  5.5266e-01  5.5266e-01\n",
       "  5.6290e-01  5.8657e-01  5.1191e-01  ...   5.8657e-01  5.8657e-01  5.8657e-01\n",
       "\n",
       "( 2 ,.,.) = \n",
       "  9.4366e-01  9.8203e-01  9.2152e-01  ...   1.0603e+00  1.0603e+00  1.0603e+00\n",
       "  9.0861e-01  9.6908e-01  8.9736e-01  ...   1.0603e+00  1.0603e+00  1.0603e+00\n",
       "  9.3414e-01  9.3899e-01  8.8118e-01  ...   1.0603e+00  1.0603e+00  1.0603e+00\n",
       "                 ...                   ⋱                   ...                \n",
       "  8.2812e-01  8.4052e-01  7.9772e-01  ...   9.1232e-01  9.2921e-01  9.7351e-01\n",
       "  8.5297e-01  8.6229e-01  7.9609e-01  ...   9.0969e-01  9.2252e-01  9.6914e-01\n",
       "  8.6600e-01  9.0105e-01  8.3418e-01  ...   9.0969e-01  9.2252e-01  9.6914e-01\n",
       "... \n",
       "\n",
       "( 7 ,.,.) = \n",
       "  9.8728e-01  9.8908e-01  9.3545e-01  ...   1.0073e+00  1.0515e+00  1.0515e+00\n",
       "  9.8338e-01  1.0089e+00  9.8224e-01  ...   1.0089e+00  1.0515e+00  1.0515e+00\n",
       "  9.6841e-01  1.0379e+00  9.4179e-01  ...   1.0379e+00  1.0515e+00  1.0515e+00\n",
       "                 ...                   ⋱                   ...                \n",
       "  6.8638e-01  6.9211e-01  6.2721e-01  ...   7.1689e-01  7.9386e-01  7.9386e-01\n",
       "  6.6509e-01  6.9214e-01  6.3735e-01  ...   7.1021e-01  7.9386e-01  7.9386e-01\n",
       "  6.6645e-01  6.8833e-01  6.5068e-01  ...   6.9214e-01  7.9386e-01  7.9386e-01\n",
       "\n",
       "( 8 ,.,.) = \n",
       "  9.1368e-01  9.4033e-01  8.8833e-01  ...   1.0930e+00  1.0930e+00  1.0930e+00\n",
       "  8.7786e-01  9.3993e-01  8.6048e-01  ...   1.0930e+00  1.0930e+00  1.0930e+00\n",
       "  9.0603e-01  9.2926e-01  8.5770e-01  ...   1.0596e+00  1.0930e+00  1.0930e+00\n",
       "                 ...                   ⋱                   ...                \n",
       "  8.4717e-01  8.6277e-01  7.8659e-01  ...   8.6277e-01  8.6598e-01  8.6598e-01\n",
       "  8.3046e-01  8.6255e-01  8.0814e-01  ...   8.6277e-01  8.6598e-01  8.6598e-01\n",
       "  8.2807e-01  8.6956e-01  7.9456e-01  ...   8.6956e-01  8.6956e-01  8.6956e-01\n",
       "\n",
       "( 9 ,.,.) = \n",
       "  9.3488e-01  9.8102e-01  9.0660e-01  ...   1.0955e+00  1.0955e+00  1.0955e+00\n",
       "  8.9716e-01  9.8397e-01  8.6505e-01  ...   1.0955e+00  1.0955e+00  1.0955e+00\n",
       "  8.9243e-01  9.0394e-01  8.8719e-01  ...   1.0866e+00  1.0955e+00  1.0955e+00\n",
       "                 ...                   ⋱                   ...                \n",
       "  8.3263e-01  8.4317e-01  8.2555e-01  ...   8.8528e-01  9.3166e-01  9.3166e-01\n",
       "  8.4486e-01  8.8064e-01  8.0434e-01  ...   8.8528e-01  9.3166e-01  9.3166e-01\n",
       "  8.5108e-01  8.7240e-01  8.3214e-01  ...   8.8528e-01  9.3166e-01  9.3166e-01\n",
       "[torch.DoubleTensor of size 10x470x26]"
      ]
     },
     "execution_count": 30,
     "metadata": {},
     "output_type": "execute_result"
    }
   ],
   "source": [
    "input = next(iter(sim_data.trn_dl))['features']\n",
    "input"
   ]
  },
  {
   "cell_type": "markdown",
   "metadata": {},
   "source": [
    "## LSTM Model\n",
    "\n",
    "**// TO DO:**\n",
    "\n",
    "* See fastai's [column_data.py](https://github.com/fastai/fastai/blob/master/fastai/column_data.py) `MixedInputModel` for list comprehension of layers. `self.lins = nn.ModuleList([nn.Linear(szs[i], szs[i+1]) for i in range(len(szs)-1)])`.\n",
    "* Multiple dimension softmax and `NLLLoss`, for Trend_5, Trend_10, etc.\n",
    "* Weights in loss function: prob(no trend) really low."
   ]
  },
  {
   "cell_type": "code",
   "execution_count": 31,
   "metadata": {
    "ExecuteTime": {
     "end_time": "2018-09-11T01:08:57.469114Z",
     "start_time": "2018-09-11T01:08:57.390352Z"
    }
   },
   "outputs": [
    {
     "data": {
      "text/plain": [
       "torch.Size([10, 1, 26])"
      ]
     },
     "execution_count": 31,
     "metadata": {},
     "output_type": "execute_result"
    }
   ],
   "source": [
    "input_t = next(iter(input.chunk(input.size(1), dim=1)))\n",
    "input_t.size()"
   ]
  },
  {
   "cell_type": "code",
   "execution_count": 32,
   "metadata": {
    "ExecuteTime": {
     "end_time": "2018-09-11T01:08:58.108173Z",
     "start_time": "2018-09-11T01:08:58.030530Z"
    }
   },
   "outputs": [
    {
     "data": {
      "text/plain": [
       "\n",
       "\n",
       "Columns 0 to 5 \n",
       " 1.0719e+00  1.1135e+00  1.0688e+00  1.0941e+00 -1.3276e-02  1.7625e-04\n",
       " 1.1137e+00  1.1355e+00  1.0710e+00  1.1049e+00  1.2337e-02  1.5219e-04\n",
       " 9.4366e-01  9.8203e-01  9.2152e-01  9.5240e-01 -3.2378e-02  1.0484e-03\n",
       " 1.0659e+00  1.1018e+00  1.0592e+00  1.0799e+00  1.9417e-02  3.7701e-04\n",
       " 8.0671e-01  8.2797e-01  7.8122e-01  8.0865e-01 -2.8151e-02  7.9250e-04\n",
       " 9.4986e-01  1.0218e+00  9.1366e-01  9.8949e-01 -3.1705e-02  1.0052e-03\n",
       " 8.5937e-01  9.1820e-01  8.2920e-01  8.8446e-01  3.7101e-03  1.3765e-05\n",
       " 9.8728e-01  9.8908e-01  9.3545e-01  9.6797e-01  1.6135e-02  2.6034e-04\n",
       " 9.1368e-01  9.4033e-01  8.8833e-01  9.3802e-01 -8.2024e-03  6.7280e-05\n",
       " 9.3488e-01  9.8102e-01  9.0660e-01  9.4879e-01 -2.7421e-02  7.5189e-04\n",
       "\n",
       "Columns 6 to 11 \n",
       "-2.3399e-06  3.1064e-08  1.0712e+00  1.0647e+00  1.0647e+00  6.8035e-04\n",
       " 1.8775e-06  2.3162e-08  1.0485e+00  1.0485e+00  1.0485e+00  5.1815e-04\n",
       "-3.3944e-05  1.0990e-06  9.9320e-01  9.7500e-01  9.6693e-01  2.5821e-04\n",
       " 7.3203e-06  1.4214e-07  1.0760e+00  1.0615e+00  1.0615e+00  5.7281e-04\n",
       "-2.2310e-05  6.2805e-07  7.9623e-01  8.1814e-01  8.4913e-01  7.4189e-04\n",
       "-3.1871e-05  1.0105e-06  1.0599e+00  1.0384e+00  1.0107e+00  4.1438e-04\n",
       " 5.1069e-08  1.8947e-10  8.9713e-01  9.0238e-01  9.1805e-01  3.9630e-04\n",
       " 4.2005e-06  6.7775e-08  9.4802e-01  9.6004e-01  9.6004e-01  5.0351e-04\n",
       "-5.5186e-07  4.5266e-09  9.8960e-01  9.9539e-01  9.9532e-01  4.5944e-04\n",
       "-2.0617e-05  5.6534e-07  9.9644e-01  1.0090e+00  1.0069e+00  4.3001e-04\n",
       "\n",
       "Columns 12 to 17 \n",
       " 6.1850e-04  6.1850e-04  9.7691e-01  1.0246e+00  1.0246e+00 -9.8323e-01\n",
       " 5.1815e-04  5.1815e-04  2.0652e+00  2.0652e+00  2.0652e+00  2.3424e+00\n",
       " 6.7755e-04  6.5380e-04 -8.0594e-01 -5.6636e-01 -8.2014e-01 -8.4836e-01\n",
       " 5.4240e-04  5.4240e-04  6.1332e-01  9.1689e-01  9.1689e-01 -1.0266e+00\n",
       " 5.7692e-04  5.9800e-04  5.2056e-01  1.3916e-01 -1.3937e-02 -6.9330e-01\n",
       " 3.8419e-04  3.5705e-04 -6.4875e-01  1.6722e-01  2.2231e-01 -9.3376e-01\n",
       " 4.4803e-04  5.1018e-04  1.8378e-01 -6.5371e-01 -6.6186e-01  2.6485e-02\n",
       " 4.5866e-04  4.5866e-04  8.4484e-01  1.4458e-02  1.4458e-02  1.8500e-01\n",
       " 3.5005e-04  4.3524e-04 -1.1915e+00 -7.5709e-01 -2.5052e-01  7.6782e-01\n",
       " 4.6463e-04  3.4894e-04 -8.8897e-01 -5.6538e-01 -6.1813e-01 -7.0924e-01\n",
       "\n",
       "Columns 18 to 23 \n",
       "-7.8156e-01 -7.8156e-01  9.5745e-01  9.5745e-01  9.5745e-01  1.1820e+00\n",
       " 2.3424e+00  2.3424e+00  9.8258e-01  9.8258e-01  9.8258e-01  1.1355e+00\n",
       " 1.6225e+00  1.5524e+00  9.2152e-01  8.7599e-01  8.7160e-01  1.0603e+00\n",
       "-6.1939e-01 -6.1939e-01  1.0273e+00  9.9459e-01  9.9459e-01  1.1517e+00\n",
       "-5.6516e-01 -8.9274e-01  7.2900e-01  7.2900e-01  7.2900e-01  8.4663e-01\n",
       "-1.1156e+00 -9.1292e-01  9.1366e-01  9.1366e-01  9.1353e-01  1.1342e+00\n",
       " 6.2228e-01 -1.0606e-02  8.2920e-01  8.2012e-01  8.2012e-01  9.5103e-01\n",
       " 1.2703e-01  1.2703e-01  8.9940e-01  8.6368e-01  8.6368e-01  1.0073e+00\n",
       " 7.0459e-01 -2.1019e-01  8.8833e-01  8.8833e-01  8.8833e-01  1.0930e+00\n",
       "-9.6390e-01 -5.0559e-01  9.0660e-01  9.0660e-01  9.0660e-01  1.0955e+00\n",
       "\n",
       "Columns 24 to 25 \n",
       " 1.1820e+00  1.1820e+00\n",
       " 1.1355e+00  1.1355e+00\n",
       " 1.0603e+00  1.0603e+00\n",
       " 1.1517e+00  1.1517e+00\n",
       " 9.1242e-01  9.8487e-01\n",
       " 1.1342e+00  1.1342e+00\n",
       " 9.7023e-01  1.0076e+00\n",
       " 1.0515e+00  1.0515e+00\n",
       " 1.0930e+00  1.0930e+00\n",
       " 1.0955e+00  1.0955e+00\n",
       "[torch.DoubleTensor of size 10x26]"
      ]
     },
     "execution_count": 32,
     "metadata": {},
     "output_type": "execute_result"
    }
   ],
   "source": [
    "input_t.contiguous().view(-1, 26)"
   ]
  },
  {
   "cell_type": "code",
   "execution_count": 33,
   "metadata": {
    "ExecuteTime": {
     "end_time": "2018-09-11T01:08:58.939997Z",
     "start_time": "2018-09-11T01:08:58.862543Z"
    }
   },
   "outputs": [
    {
     "data": {
      "text/plain": [
       "LSTMCell(26, 20)"
      ]
     },
     "execution_count": 33,
     "metadata": {},
     "output_type": "execute_result"
    }
   ],
   "source": [
    "aux = nn.LSTMCell(26, 20)\n",
    "aux.cpu()"
   ]
  },
  {
   "cell_type": "code",
   "execution_count": 34,
   "metadata": {
    "ExecuteTime": {
     "end_time": "2018-09-11T01:09:07.408251Z",
     "start_time": "2018-09-11T01:09:07.194835Z"
    }
   },
   "outputs": [
    {
     "name": "stderr",
     "output_type": "stream",
     "text": [
      "C:\\Users\\REUTERS\\AppData\\Local\\conda\\conda\\envs\\fastai-cpu\\lib\\site-packages\\torch\\cuda\\__init__.py:116: UserWarning: \n",
      "    Found GPU0 NVS 310 which is of cuda capability 2.1.\n",
      "    PyTorch no longer supports this GPU because it is too old.\n",
      "    \n",
      "  warnings.warn(old_gpu_warn % (d, name, major, capability[1]))\n"
     ]
    },
    {
     "data": {
      "text/plain": [
       "(Variable containing:\n",
       " \n",
       " Columns 0 to 9 \n",
       " -0.0713  0.1365 -0.0898  0.0288  0.2213  0.3306 -0.0945  0.1365 -0.0179 -0.0636\n",
       " -0.0934  0.0960 -0.2992 -0.1101  0.0833  0.2660 -0.2240  0.0475 -0.2518 -0.1587\n",
       " -0.3007  0.1001 -0.1253 -0.0496  0.0567  0.1531 -0.1798  0.0519  0.0147  0.0702\n",
       " -0.0778  0.1287 -0.0949  0.0294  0.2051  0.3141 -0.1021  0.1210 -0.0147 -0.0605\n",
       " -0.0898  0.1161 -0.0483  0.0158  0.1730  0.2399 -0.0806  0.0849  0.0723 -0.0078\n",
       " -0.0441  0.0813 -0.0100  0.0476  0.1631  0.2505 -0.0754  0.0446  0.0639 -0.0174\n",
       " -0.1883  0.1328 -0.0795 -0.0546  0.1336  0.1918 -0.1634  0.0446  0.0642  0.0312\n",
       " -0.1445  0.1457 -0.0850 -0.0486  0.1550  0.2350 -0.1460  0.0721  0.0178 -0.0256\n",
       " -0.0812  0.1081 -0.0687 -0.0211  0.1013  0.1512 -0.1901 -0.0164  0.0437  0.0266\n",
       " -0.0939  0.0824  0.0191  0.0215  0.1249  0.2020 -0.0880  0.0211  0.0991  0.0220\n",
       " \n",
       " Columns 10 to 19 \n",
       "  0.1315  0.1983  0.0132  0.0705 -0.0309 -0.0338 -0.0534  0.1521 -0.0520  0.1722\n",
       "  0.0438  0.1485 -0.0932  0.1235 -0.0564  0.0175 -0.0231 -0.1657 -0.0477  0.3915\n",
       "  0.1609  0.0166 -0.1281  0.0763 -0.0575  0.1868 -0.0103 -0.0937 -0.0698  0.0618\n",
       "  0.1363  0.1922  0.0093  0.0760 -0.0333 -0.0037 -0.0479  0.1383 -0.0538  0.1658\n",
       "  0.0614  0.1244  0.0173  0.0362 -0.0376 -0.0229 -0.0483  0.1380 -0.0773  0.0328\n",
       "  0.1085  0.1800  0.0202  0.0592 -0.0310 -0.0103  0.0037  0.1627 -0.0740  0.0212\n",
       "  0.0601  0.0695 -0.0789  0.0198 -0.0722  0.0566 -0.0040  0.0463 -0.0875 -0.0100\n",
       "  0.0513  0.1215 -0.0702  0.0565 -0.0570  0.0045  0.0041  0.0620 -0.0733  0.0537\n",
       "  0.0796  0.1071 -0.0596  0.0396 -0.0812  0.0077  0.0173  0.0661 -0.0936 -0.0564\n",
       "  0.0814  0.1427 -0.0219  0.0468 -0.0342  0.0321  0.0623  0.1525 -0.0803 -0.0716\n",
       " [torch.FloatTensor of size 10x20], Variable containing:\n",
       " \n",
       " Columns 0 to 9 \n",
       " -0.1469  0.1774 -0.1892  0.0619  0.4037  0.4984 -0.2658  0.3347 -0.0381 -0.1063\n",
       " -0.1385  0.1356 -0.4598 -0.2014  0.1683  0.4500 -0.4797  0.0874 -0.3886 -0.2806\n",
       " -0.4297  0.2078 -0.2208 -0.1066  0.1233  0.3153 -0.4374  0.1172  0.0269  0.1034\n",
       " -0.1517  0.1721 -0.1963  0.0650  0.3846  0.4803 -0.2807  0.2983 -0.0315 -0.0997\n",
       " -0.1738  0.1769 -0.1079  0.0314  0.3172  0.3804 -0.1928  0.2195  0.1426 -0.0136\n",
       " -0.0792  0.1225 -0.0229  0.1159  0.3224  0.3763 -0.1829  0.1424  0.1348 -0.0288\n",
       " -0.3056  0.2428 -0.1673 -0.0985  0.2636  0.3441 -0.3525  0.1214  0.1111  0.0525\n",
       " -0.2450  0.2382 -0.1756 -0.0913  0.3064  0.3983 -0.3457  0.1855  0.0319 -0.0426\n",
       " -0.1176  0.2063 -0.1482 -0.0405  0.2180  0.2466 -0.3401 -0.0601  0.0684  0.0478\n",
       " -0.1534  0.1483  0.0455  0.0508  0.2615  0.3260 -0.2099  0.0725  0.2043  0.0350\n",
       " \n",
       " Columns 10 to 19 \n",
       "  0.2679  0.3489  0.0453  0.1694 -0.1806 -0.0775 -0.0834  0.3320 -0.2142  0.2563\n",
       "  0.0676  0.3273 -0.3788  0.1942 -0.5585  0.0851 -0.0652 -0.5760 -0.2087  0.5389\n",
       "  0.2741  0.0329 -0.1998  0.1444 -0.1610  0.4888 -0.0156 -0.1899 -0.3285  0.0929\n",
       "  0.2793  0.3435  0.0290  0.1850 -0.1800 -0.0086 -0.0740  0.3003 -0.2228  0.2462\n",
       "  0.1226  0.2333  0.0427  0.0806 -0.1521 -0.0464 -0.0702  0.2760 -0.2686  0.0561\n",
       "  0.2378  0.3502  0.0514  0.1593 -0.1346 -0.0226  0.0050  0.3538 -0.2712  0.0325\n",
       "  0.1083  0.1459 -0.1534  0.0368 -0.2785  0.1218 -0.0056  0.0913 -0.3417 -0.0174\n",
       "  0.0931  0.2495 -0.1739  0.1039 -0.2713  0.0102  0.0063  0.1341 -0.2916  0.0867\n",
       "  0.1533  0.2509 -0.1171  0.0852 -0.3839  0.0199  0.0238  0.1458 -0.3292 -0.0915\n",
       "  0.1706  0.2977 -0.0451  0.1084 -0.1213  0.0662  0.0822  0.3257 -0.2999 -0.1173\n",
       " [torch.FloatTensor of size 10x20])"
      ]
     },
     "execution_count": 34,
     "metadata": {},
     "output_type": "execute_result"
    }
   ],
   "source": [
    "aux(V(input_t.contiguous().view(-1, 26).float()).cpu(),\n",
    "    (V(torch.zeros(10, 20).float()).cpu(), V(torch.zeros(10, 20).float()).cpu()))"
   ]
  },
  {
   "cell_type": "code",
   "execution_count": 35,
   "metadata": {
    "ExecuteTime": {
     "end_time": "2018-09-11T01:09:08.299594Z",
     "start_time": "2018-09-11T01:09:08.218671Z"
    }
   },
   "outputs": [],
   "source": [
    "class Sequence(nn.Module):\n",
    "    def __init__(self, h0=1, h1=51, h2=51, hL=3, warmup=60, nll_weights=None):\n",
    "        super(Sequence, self).__init__()\n",
    "        self.h0 = h0\n",
    "        self.h1 = h1\n",
    "        self.h2 = h2\n",
    "        self.hL = hL\n",
    "        self.lstm1 = nn.LSTMCell(h0, h1).float()\n",
    "        self.lstm2 = nn.LSTMCell(h1, h2).float()\n",
    "        self.linear = nn.Linear(h2, hL).float()\n",
    "        self.softmax = nn.LogSoftmax(dim=1)\n",
    "        \n",
    "        self.warmup = 60\n",
    "        self.loss_fun = nn.NLLLoss(weight=nll_weights)\n",
    "        \n",
    "    \n",
    "    def init_hidden(self):\n",
    "        self.h_t = V(torch.zeros(input.size(0), self.h1).float()).cpu()\n",
    "        self.c_t = V(torch.zeros(input.size(0), self.h1).float()).cpu()\n",
    "        self.h_t2 = V(torch.zeros(input.size(0), self.h2).float()).cpu()\n",
    "        self.c_t2 = V(torch.zeros(input.size(0), self.h2).float()).cpu()\n",
    "\n",
    "    \n",
    "    def forward(self, input):\n",
    "        self.init_hidden()\n",
    "        outputs = []\n",
    "        for i, input_t in enumerate(input.chunk(input.size(1), dim=1)):\n",
    "            self.h_t, self.c_t = self.lstm1(V(input_t.contiguous().view(-1, self.h0).float()).cpu(), (self.h_t, self.c_t))\n",
    "            self.h_t2, self.c_t2 = self.lstm2(self.h_t, (self.h_t2, self.c_t2))\n",
    "            output = self.linear(self.h_t2)\n",
    "            output = self.softmax(output)\n",
    "            outputs += [output]\n",
    "\n",
    "        outputs = torch.stack(outputs, 1)\n",
    "        return outputs\n",
    "    \n",
    "\n",
    "    def loss(self, y_hat, y_true):\n",
    "        loss = 0\n",
    "        for i in range(self.warmup, y_hat.size()[1]):\n",
    "            loss = loss + self.loss_fun(V(y_hat).cpu()[:, i, :], V(y_true).cpu()[:, i, :].squeeze(dim=1))\n",
    "        return loss / (y_hat.size()[1] - self.warmup)"
   ]
  },
  {
   "cell_type": "code",
   "execution_count": 36,
   "metadata": {
    "ExecuteTime": {
     "end_time": "2018-09-11T01:09:09.568485Z",
     "start_time": "2018-09-11T01:09:09.486702Z"
    }
   },
   "outputs": [
    {
     "data": {
      "text/plain": [
       "2    2316\n",
       "0    1967\n",
       "1     517\n",
       "dtype: int64"
      ]
     },
     "execution_count": 36,
     "metadata": {},
     "output_type": "execute_result"
    }
   ],
   "source": [
    "Series(np.concatenate([sim_j['targets'].numpy().flatten() for sim_j in sim_dataset])).value_counts()"
   ]
  },
  {
   "cell_type": "code",
   "execution_count": 37,
   "metadata": {
    "ExecuteTime": {
     "end_time": "2018-09-11T01:09:10.090557Z",
     "start_time": "2018-09-11T01:09:10.009734Z"
    }
   },
   "outputs": [],
   "source": [
    "_, freqs = np.unique([sim_j['targets'].numpy().flatten() for sim_j in train_dataset], return_counts=True)\n",
    "weights = torch.Tensor(freqs / sum(freqs))"
   ]
  },
  {
   "cell_type": "code",
   "execution_count": 38,
   "metadata": {
    "ExecuteTime": {
     "end_time": "2018-09-11T01:09:10.603790Z",
     "start_time": "2018-09-11T01:09:10.525952Z"
    }
   },
   "outputs": [
    {
     "data": {
      "text/plain": [
       "Sequence(\n",
       "  (lstm1): LSTMCell(26, 51)\n",
       "  (lstm2): LSTMCell(51, 51)\n",
       "  (linear): Linear(in_features=51, out_features=3, bias=True)\n",
       "  (softmax): LogSoftmax()\n",
       "  (loss_fun): NLLLoss(\n",
       "  )\n",
       ")"
      ]
     },
     "execution_count": 38,
     "metadata": {},
     "output_type": "execute_result"
    }
   ],
   "source": [
    "# build the model\n",
    "#seq = Sequence(h0=train_loader.dataset.n_features, nll_weights=weights)\n",
    "seq = Sequence(h0=sim_data.trn_dl.dataset.n_features, nll_weights=weights)\n",
    "seq.float()"
   ]
  },
  {
   "cell_type": "code",
   "execution_count": 39,
   "metadata": {
    "ExecuteTime": {
     "end_time": "2018-09-11T01:09:11.191526Z",
     "start_time": "2018-09-11T01:09:11.114641Z"
    }
   },
   "outputs": [],
   "source": [
    "sample = next(iter(sim_data.trn_dl))  # next(iter(train_loader))\n",
    "inputs = sample['features']\n",
    "targets = sample['targets']"
   ]
  },
  {
   "cell_type": "code",
   "execution_count": 40,
   "metadata": {
    "ExecuteTime": {
     "end_time": "2018-09-11T01:09:12.296309Z",
     "start_time": "2018-09-11T01:09:12.059448Z"
    }
   },
   "outputs": [],
   "source": [
    "out = seq(inputs)"
   ]
  },
  {
   "cell_type": "code",
   "execution_count": 41,
   "metadata": {
    "ExecuteTime": {
     "end_time": "2018-09-11T01:09:12.878494Z",
     "start_time": "2018-09-11T01:09:12.794747Z"
    }
   },
   "outputs": [
    {
     "data": {
      "text/plain": [
       "(torch.Size([10, 470, 3]), torch.Size([10, 470, 1]))"
      ]
     },
     "execution_count": 41,
     "metadata": {},
     "output_type": "execute_result"
    }
   ],
   "source": [
    "out.size(), targets.size()"
   ]
  },
  {
   "cell_type": "code",
   "execution_count": 42,
   "metadata": {
    "ExecuteTime": {
     "end_time": "2018-09-11T01:09:14.036361Z",
     "start_time": "2018-09-11T01:09:13.946600Z"
    },
    "scrolled": true
   },
   "outputs": [],
   "source": [
    "loss = seq.loss(out, V(targets.long()).cpu())"
   ]
  },
  {
   "cell_type": "code",
   "execution_count": 43,
   "metadata": {
    "ExecuteTime": {
     "end_time": "2018-09-11T01:09:14.602003Z",
     "start_time": "2018-09-11T01:09:14.409816Z"
    }
   },
   "outputs": [],
   "source": [
    "loss.backward()"
   ]
  },
  {
   "cell_type": "code",
   "execution_count": 44,
   "metadata": {
    "ExecuteTime": {
     "end_time": "2018-09-11T01:09:16.500569Z",
     "start_time": "2018-09-11T01:09:16.277581Z"
    }
   },
   "outputs": [
    {
     "data": {
      "application/vnd.jupyter.widget-view+json": {
       "model_id": "3784763c0c284fd1a179c727e8495f4b",
       "version_major": 2,
       "version_minor": 0
      },
      "text/plain": [
       "HBox(children=(IntProgress(value=0, description='Epoch', max=2), HTML(value='')))"
      ]
     },
     "metadata": {},
     "output_type": "display_data"
    },
    {
     "name": "stdout",
     "output_type": "stream",
     "text": [
      "  0%|                                                                                                                  | 0/2 [00:00<?, ?it/s]\n"
     ]
    },
    {
     "ename": "NotImplementedError",
     "evalue": "<U8",
     "output_type": "error",
     "traceback": [
      "\u001b[1;31m---------------------------------------------------------------------------\u001b[0m",
      "\u001b[1;31mNotImplementedError\u001b[0m                       Traceback (most recent call last)",
      "\u001b[1;32m<ipython-input-44-02c42cab2b6b>\u001b[0m in \u001b[0;36m<module>\u001b[1;34m()\u001b[0m\n\u001b[0;32m      1\u001b[0m \u001b[0madam\u001b[0m \u001b[1;33m=\u001b[0m \u001b[0mtorch\u001b[0m\u001b[1;33m.\u001b[0m\u001b[0moptim\u001b[0m\u001b[1;33m.\u001b[0m\u001b[0mAdam\u001b[0m\u001b[1;33m(\u001b[0m\u001b[0mseq\u001b[0m\u001b[1;33m.\u001b[0m\u001b[0mparameters\u001b[0m\u001b[1;33m(\u001b[0m\u001b[1;33m)\u001b[0m\u001b[1;33m,\u001b[0m \u001b[0mlr\u001b[0m\u001b[1;33m=\u001b[0m\u001b[1;36m1e-2\u001b[0m\u001b[1;33m)\u001b[0m\u001b[1;33m\u001b[0m\u001b[0m\n\u001b[1;32m----> 2\u001b[1;33m \u001b[0mfit\u001b[0m\u001b[1;33m(\u001b[0m\u001b[0mseq\u001b[0m\u001b[1;33m,\u001b[0m \u001b[0msim_data\u001b[0m\u001b[1;33m,\u001b[0m \u001b[1;36m2\u001b[0m\u001b[1;33m,\u001b[0m \u001b[0madam\u001b[0m\u001b[1;33m,\u001b[0m \u001b[0mseq\u001b[0m\u001b[1;33m.\u001b[0m\u001b[0mloss\u001b[0m\u001b[1;33m)\u001b[0m\u001b[1;33m\u001b[0m\u001b[0m\n\u001b[0m",
      "\u001b[1;32m~\\Github\\trend-following\\fastai\\model.py\u001b[0m in \u001b[0;36mfit\u001b[1;34m(model, data, n_epochs, opt, crit, metrics, callbacks, stepper, swa_model, swa_start, swa_eval_freq, visualize, **kwargs)\u001b[0m\n\u001b[0;32m    139\u001b[0m             \u001b[0mbatch_num\u001b[0m \u001b[1;33m+=\u001b[0m \u001b[1;36m1\u001b[0m\u001b[1;33m\u001b[0m\u001b[0m\n\u001b[0;32m    140\u001b[0m             \u001b[1;32mfor\u001b[0m \u001b[0mcb\u001b[0m \u001b[1;32min\u001b[0m \u001b[0mcallbacks\u001b[0m\u001b[1;33m:\u001b[0m \u001b[0mcb\u001b[0m\u001b[1;33m.\u001b[0m\u001b[0mon_batch_begin\u001b[0m\u001b[1;33m(\u001b[0m\u001b[1;33m)\u001b[0m\u001b[1;33m\u001b[0m\u001b[0m\n\u001b[1;32m--> 141\u001b[1;33m             \u001b[0mloss\u001b[0m \u001b[1;33m=\u001b[0m \u001b[0mmodel_stepper\u001b[0m\u001b[1;33m.\u001b[0m\u001b[0mstep\u001b[0m\u001b[1;33m(\u001b[0m\u001b[0mV\u001b[0m\u001b[1;33m(\u001b[0m\u001b[0mx\u001b[0m\u001b[1;33m)\u001b[0m\u001b[1;33m,\u001b[0m\u001b[0mV\u001b[0m\u001b[1;33m(\u001b[0m\u001b[0my\u001b[0m\u001b[1;33m)\u001b[0m\u001b[1;33m,\u001b[0m \u001b[0mepoch\u001b[0m\u001b[1;33m)\u001b[0m\u001b[1;33m\u001b[0m\u001b[0m\n\u001b[0m\u001b[0;32m    142\u001b[0m             \u001b[0mavg_loss\u001b[0m \u001b[1;33m=\u001b[0m \u001b[0mavg_loss\u001b[0m \u001b[1;33m*\u001b[0m \u001b[0mavg_mom\u001b[0m \u001b[1;33m+\u001b[0m \u001b[0mloss\u001b[0m \u001b[1;33m*\u001b[0m \u001b[1;33m(\u001b[0m\u001b[1;36m1\u001b[0m\u001b[1;33m-\u001b[0m\u001b[0mavg_mom\u001b[0m\u001b[1;33m)\u001b[0m\u001b[1;33m\u001b[0m\u001b[0m\n\u001b[0;32m    143\u001b[0m             \u001b[0mdebias_loss\u001b[0m \u001b[1;33m=\u001b[0m \u001b[0mavg_loss\u001b[0m \u001b[1;33m/\u001b[0m \u001b[1;33m(\u001b[0m\u001b[1;36m1\u001b[0m \u001b[1;33m-\u001b[0m \u001b[0mavg_mom\u001b[0m\u001b[1;33m**\u001b[0m\u001b[0mbatch_num\u001b[0m\u001b[1;33m)\u001b[0m\u001b[1;33m\u001b[0m\u001b[0m\n",
      "\u001b[1;32m~\\Github\\trend-following\\fastai\\core.py\u001b[0m in \u001b[0;36mV\u001b[1;34m(x, requires_grad, volatile)\u001b[0m\n\u001b[0;32m     59\u001b[0m \u001b[1;32mdef\u001b[0m \u001b[0mV\u001b[0m\u001b[1;33m(\u001b[0m\u001b[0mx\u001b[0m\u001b[1;33m,\u001b[0m \u001b[0mrequires_grad\u001b[0m\u001b[1;33m=\u001b[0m\u001b[1;32mFalse\u001b[0m\u001b[1;33m,\u001b[0m \u001b[0mvolatile\u001b[0m\u001b[1;33m=\u001b[0m\u001b[1;32mFalse\u001b[0m\u001b[1;33m)\u001b[0m\u001b[1;33m:\u001b[0m\u001b[1;33m\u001b[0m\u001b[0m\n\u001b[0;32m     60\u001b[0m     \u001b[1;34m'''creates a single or a list of pytorch tensors, depending on input x. '''\u001b[0m\u001b[1;33m\u001b[0m\u001b[0m\n\u001b[1;32m---> 61\u001b[1;33m     \u001b[1;32mreturn\u001b[0m \u001b[0mmap_over\u001b[0m\u001b[1;33m(\u001b[0m\u001b[0mx\u001b[0m\u001b[1;33m,\u001b[0m \u001b[1;32mlambda\u001b[0m \u001b[0mo\u001b[0m\u001b[1;33m:\u001b[0m \u001b[0mV_\u001b[0m\u001b[1;33m(\u001b[0m\u001b[0mo\u001b[0m\u001b[1;33m,\u001b[0m \u001b[0mrequires_grad\u001b[0m\u001b[1;33m,\u001b[0m \u001b[0mvolatile\u001b[0m\u001b[1;33m)\u001b[0m\u001b[1;33m)\u001b[0m\u001b[1;33m\u001b[0m\u001b[0m\n\u001b[0m\u001b[0;32m     62\u001b[0m \u001b[1;33m\u001b[0m\u001b[0m\n\u001b[0;32m     63\u001b[0m \u001b[1;32mdef\u001b[0m \u001b[0mVV_\u001b[0m\u001b[1;33m(\u001b[0m\u001b[0mx\u001b[0m\u001b[1;33m)\u001b[0m\u001b[1;33m:\u001b[0m\u001b[1;33m\u001b[0m\u001b[0m\n",
      "\u001b[1;32m~\\Github\\trend-following\\fastai\\core.py\u001b[0m in \u001b[0;36mmap_over\u001b[1;34m(x, f)\u001b[0m\n\u001b[0;32m      6\u001b[0m \u001b[1;32mdef\u001b[0m \u001b[0mis_listy\u001b[0m\u001b[1;33m(\u001b[0m\u001b[0mx\u001b[0m\u001b[1;33m)\u001b[0m\u001b[1;33m:\u001b[0m \u001b[1;32mreturn\u001b[0m \u001b[0misinstance\u001b[0m\u001b[1;33m(\u001b[0m\u001b[0mx\u001b[0m\u001b[1;33m,\u001b[0m \u001b[1;33m(\u001b[0m\u001b[0mlist\u001b[0m\u001b[1;33m,\u001b[0m\u001b[0mtuple\u001b[0m\u001b[1;33m)\u001b[0m\u001b[1;33m)\u001b[0m\u001b[1;33m\u001b[0m\u001b[0m\n\u001b[0;32m      7\u001b[0m \u001b[1;32mdef\u001b[0m \u001b[0mis_iter\u001b[0m\u001b[1;33m(\u001b[0m\u001b[0mx\u001b[0m\u001b[1;33m)\u001b[0m\u001b[1;33m:\u001b[0m \u001b[1;32mreturn\u001b[0m \u001b[0misinstance\u001b[0m\u001b[1;33m(\u001b[0m\u001b[0mx\u001b[0m\u001b[1;33m,\u001b[0m \u001b[0mcollections\u001b[0m\u001b[1;33m.\u001b[0m\u001b[0mIterable\u001b[0m\u001b[1;33m)\u001b[0m\u001b[1;33m\u001b[0m\u001b[0m\n\u001b[1;32m----> 8\u001b[1;33m \u001b[1;32mdef\u001b[0m \u001b[0mmap_over\u001b[0m\u001b[1;33m(\u001b[0m\u001b[0mx\u001b[0m\u001b[1;33m,\u001b[0m \u001b[0mf\u001b[0m\u001b[1;33m)\u001b[0m\u001b[1;33m:\u001b[0m \u001b[1;32mreturn\u001b[0m \u001b[1;33m[\u001b[0m\u001b[0mf\u001b[0m\u001b[1;33m(\u001b[0m\u001b[0mo\u001b[0m\u001b[1;33m)\u001b[0m \u001b[1;32mfor\u001b[0m \u001b[0mo\u001b[0m \u001b[1;32min\u001b[0m \u001b[0mx\u001b[0m\u001b[1;33m]\u001b[0m \u001b[1;32mif\u001b[0m \u001b[0mis_listy\u001b[0m\u001b[1;33m(\u001b[0m\u001b[0mx\u001b[0m\u001b[1;33m)\u001b[0m \u001b[1;32melse\u001b[0m \u001b[0mf\u001b[0m\u001b[1;33m(\u001b[0m\u001b[0mx\u001b[0m\u001b[1;33m)\u001b[0m\u001b[1;33m\u001b[0m\u001b[0m\n\u001b[0m\u001b[0;32m      9\u001b[0m \u001b[1;32mdef\u001b[0m \u001b[0mmap_none\u001b[0m\u001b[1;33m(\u001b[0m\u001b[0mx\u001b[0m\u001b[1;33m,\u001b[0m \u001b[0mf\u001b[0m\u001b[1;33m)\u001b[0m\u001b[1;33m:\u001b[0m \u001b[1;32mreturn\u001b[0m \u001b[1;32mNone\u001b[0m \u001b[1;32mif\u001b[0m \u001b[0mx\u001b[0m \u001b[1;32mis\u001b[0m \u001b[1;32mNone\u001b[0m \u001b[1;32melse\u001b[0m \u001b[0mf\u001b[0m\u001b[1;33m(\u001b[0m\u001b[0mx\u001b[0m\u001b[1;33m)\u001b[0m\u001b[1;33m\u001b[0m\u001b[0m\n\u001b[0;32m     10\u001b[0m \u001b[1;32mdef\u001b[0m \u001b[0mdelistify\u001b[0m\u001b[1;33m(\u001b[0m\u001b[0mx\u001b[0m\u001b[1;33m)\u001b[0m\u001b[1;33m:\u001b[0m \u001b[1;32mreturn\u001b[0m \u001b[0mx\u001b[0m\u001b[1;33m[\u001b[0m\u001b[1;36m0\u001b[0m\u001b[1;33m]\u001b[0m \u001b[1;32mif\u001b[0m \u001b[0mis_listy\u001b[0m\u001b[1;33m(\u001b[0m\u001b[0mx\u001b[0m\u001b[1;33m)\u001b[0m \u001b[1;32melse\u001b[0m \u001b[0mx\u001b[0m\u001b[1;33m\u001b[0m\u001b[0m\n",
      "\u001b[1;32m~\\Github\\trend-following\\fastai\\core.py\u001b[0m in \u001b[0;36m<listcomp>\u001b[1;34m(.0)\u001b[0m\n\u001b[0;32m      6\u001b[0m \u001b[1;32mdef\u001b[0m \u001b[0mis_listy\u001b[0m\u001b[1;33m(\u001b[0m\u001b[0mx\u001b[0m\u001b[1;33m)\u001b[0m\u001b[1;33m:\u001b[0m \u001b[1;32mreturn\u001b[0m \u001b[0misinstance\u001b[0m\u001b[1;33m(\u001b[0m\u001b[0mx\u001b[0m\u001b[1;33m,\u001b[0m \u001b[1;33m(\u001b[0m\u001b[0mlist\u001b[0m\u001b[1;33m,\u001b[0m\u001b[0mtuple\u001b[0m\u001b[1;33m)\u001b[0m\u001b[1;33m)\u001b[0m\u001b[1;33m\u001b[0m\u001b[0m\n\u001b[0;32m      7\u001b[0m \u001b[1;32mdef\u001b[0m \u001b[0mis_iter\u001b[0m\u001b[1;33m(\u001b[0m\u001b[0mx\u001b[0m\u001b[1;33m)\u001b[0m\u001b[1;33m:\u001b[0m \u001b[1;32mreturn\u001b[0m \u001b[0misinstance\u001b[0m\u001b[1;33m(\u001b[0m\u001b[0mx\u001b[0m\u001b[1;33m,\u001b[0m \u001b[0mcollections\u001b[0m\u001b[1;33m.\u001b[0m\u001b[0mIterable\u001b[0m\u001b[1;33m)\u001b[0m\u001b[1;33m\u001b[0m\u001b[0m\n\u001b[1;32m----> 8\u001b[1;33m \u001b[1;32mdef\u001b[0m \u001b[0mmap_over\u001b[0m\u001b[1;33m(\u001b[0m\u001b[0mx\u001b[0m\u001b[1;33m,\u001b[0m \u001b[0mf\u001b[0m\u001b[1;33m)\u001b[0m\u001b[1;33m:\u001b[0m \u001b[1;32mreturn\u001b[0m \u001b[1;33m[\u001b[0m\u001b[0mf\u001b[0m\u001b[1;33m(\u001b[0m\u001b[0mo\u001b[0m\u001b[1;33m)\u001b[0m \u001b[1;32mfor\u001b[0m \u001b[0mo\u001b[0m \u001b[1;32min\u001b[0m \u001b[0mx\u001b[0m\u001b[1;33m]\u001b[0m \u001b[1;32mif\u001b[0m \u001b[0mis_listy\u001b[0m\u001b[1;33m(\u001b[0m\u001b[0mx\u001b[0m\u001b[1;33m)\u001b[0m \u001b[1;32melse\u001b[0m \u001b[0mf\u001b[0m\u001b[1;33m(\u001b[0m\u001b[0mx\u001b[0m\u001b[1;33m)\u001b[0m\u001b[1;33m\u001b[0m\u001b[0m\n\u001b[0m\u001b[0;32m      9\u001b[0m \u001b[1;32mdef\u001b[0m \u001b[0mmap_none\u001b[0m\u001b[1;33m(\u001b[0m\u001b[0mx\u001b[0m\u001b[1;33m,\u001b[0m \u001b[0mf\u001b[0m\u001b[1;33m)\u001b[0m\u001b[1;33m:\u001b[0m \u001b[1;32mreturn\u001b[0m \u001b[1;32mNone\u001b[0m \u001b[1;32mif\u001b[0m \u001b[0mx\u001b[0m \u001b[1;32mis\u001b[0m \u001b[1;32mNone\u001b[0m \u001b[1;32melse\u001b[0m \u001b[0mf\u001b[0m\u001b[1;33m(\u001b[0m\u001b[0mx\u001b[0m\u001b[1;33m)\u001b[0m\u001b[1;33m\u001b[0m\u001b[0m\n\u001b[0;32m     10\u001b[0m \u001b[1;32mdef\u001b[0m \u001b[0mdelistify\u001b[0m\u001b[1;33m(\u001b[0m\u001b[0mx\u001b[0m\u001b[1;33m)\u001b[0m\u001b[1;33m:\u001b[0m \u001b[1;32mreturn\u001b[0m \u001b[0mx\u001b[0m\u001b[1;33m[\u001b[0m\u001b[1;36m0\u001b[0m\u001b[1;33m]\u001b[0m \u001b[1;32mif\u001b[0m \u001b[0mis_listy\u001b[0m\u001b[1;33m(\u001b[0m\u001b[0mx\u001b[0m\u001b[1;33m)\u001b[0m \u001b[1;32melse\u001b[0m \u001b[0mx\u001b[0m\u001b[1;33m\u001b[0m\u001b[0m\n",
      "\u001b[1;32m~\\Github\\trend-following\\fastai\\core.py\u001b[0m in \u001b[0;36m<lambda>\u001b[1;34m(o)\u001b[0m\n\u001b[0;32m     59\u001b[0m \u001b[1;32mdef\u001b[0m \u001b[0mV\u001b[0m\u001b[1;33m(\u001b[0m\u001b[0mx\u001b[0m\u001b[1;33m,\u001b[0m \u001b[0mrequires_grad\u001b[0m\u001b[1;33m=\u001b[0m\u001b[1;32mFalse\u001b[0m\u001b[1;33m,\u001b[0m \u001b[0mvolatile\u001b[0m\u001b[1;33m=\u001b[0m\u001b[1;32mFalse\u001b[0m\u001b[1;33m)\u001b[0m\u001b[1;33m:\u001b[0m\u001b[1;33m\u001b[0m\u001b[0m\n\u001b[0;32m     60\u001b[0m     \u001b[1;34m'''creates a single or a list of pytorch tensors, depending on input x. '''\u001b[0m\u001b[1;33m\u001b[0m\u001b[0m\n\u001b[1;32m---> 61\u001b[1;33m     \u001b[1;32mreturn\u001b[0m \u001b[0mmap_over\u001b[0m\u001b[1;33m(\u001b[0m\u001b[0mx\u001b[0m\u001b[1;33m,\u001b[0m \u001b[1;32mlambda\u001b[0m \u001b[0mo\u001b[0m\u001b[1;33m:\u001b[0m \u001b[0mV_\u001b[0m\u001b[1;33m(\u001b[0m\u001b[0mo\u001b[0m\u001b[1;33m,\u001b[0m \u001b[0mrequires_grad\u001b[0m\u001b[1;33m,\u001b[0m \u001b[0mvolatile\u001b[0m\u001b[1;33m)\u001b[0m\u001b[1;33m)\u001b[0m\u001b[1;33m\u001b[0m\u001b[0m\n\u001b[0m\u001b[0;32m     62\u001b[0m \u001b[1;33m\u001b[0m\u001b[0m\n\u001b[0;32m     63\u001b[0m \u001b[1;32mdef\u001b[0m \u001b[0mVV_\u001b[0m\u001b[1;33m(\u001b[0m\u001b[0mx\u001b[0m\u001b[1;33m)\u001b[0m\u001b[1;33m:\u001b[0m\u001b[1;33m\u001b[0m\u001b[0m\n",
      "\u001b[1;32m~\\Github\\trend-following\\fastai\\core.py\u001b[0m in \u001b[0;36mV_\u001b[1;34m(x, requires_grad, volatile)\u001b[0m\n\u001b[0;32m     56\u001b[0m \u001b[1;32mdef\u001b[0m \u001b[0mV_\u001b[0m\u001b[1;33m(\u001b[0m\u001b[0mx\u001b[0m\u001b[1;33m,\u001b[0m \u001b[0mrequires_grad\u001b[0m\u001b[1;33m=\u001b[0m\u001b[1;32mFalse\u001b[0m\u001b[1;33m,\u001b[0m \u001b[0mvolatile\u001b[0m\u001b[1;33m=\u001b[0m\u001b[1;32mFalse\u001b[0m\u001b[1;33m)\u001b[0m\u001b[1;33m:\u001b[0m\u001b[1;33m\u001b[0m\u001b[0m\n\u001b[0;32m     57\u001b[0m     \u001b[1;34m'''equivalent to create_variable, which creates a pytorch tensor'''\u001b[0m\u001b[1;33m\u001b[0m\u001b[0m\n\u001b[1;32m---> 58\u001b[1;33m     \u001b[1;32mreturn\u001b[0m \u001b[0mcreate_variable\u001b[0m\u001b[1;33m(\u001b[0m\u001b[0mx\u001b[0m\u001b[1;33m,\u001b[0m \u001b[0mvolatile\u001b[0m\u001b[1;33m=\u001b[0m\u001b[0mvolatile\u001b[0m\u001b[1;33m,\u001b[0m \u001b[0mrequires_grad\u001b[0m\u001b[1;33m=\u001b[0m\u001b[0mrequires_grad\u001b[0m\u001b[1;33m)\u001b[0m\u001b[1;33m\u001b[0m\u001b[0m\n\u001b[0m\u001b[0;32m     59\u001b[0m \u001b[1;32mdef\u001b[0m \u001b[0mV\u001b[0m\u001b[1;33m(\u001b[0m\u001b[0mx\u001b[0m\u001b[1;33m,\u001b[0m \u001b[0mrequires_grad\u001b[0m\u001b[1;33m=\u001b[0m\u001b[1;32mFalse\u001b[0m\u001b[1;33m,\u001b[0m \u001b[0mvolatile\u001b[0m\u001b[1;33m=\u001b[0m\u001b[1;32mFalse\u001b[0m\u001b[1;33m)\u001b[0m\u001b[1;33m:\u001b[0m\u001b[1;33m\u001b[0m\u001b[0m\n\u001b[0;32m     60\u001b[0m     \u001b[1;34m'''creates a single or a list of pytorch tensors, depending on input x. '''\u001b[0m\u001b[1;33m\u001b[0m\u001b[0m\n",
      "\u001b[1;32m~\\Github\\trend-following\\fastai\\core.py\u001b[0m in \u001b[0;36mcreate_variable\u001b[1;34m(x, volatile, requires_grad)\u001b[0m\n\u001b[0;32m     51\u001b[0m     \u001b[1;32mif\u001b[0m \u001b[0mtype\u001b[0m \u001b[1;33m(\u001b[0m\u001b[0mx\u001b[0m\u001b[1;33m)\u001b[0m \u001b[1;33m!=\u001b[0m \u001b[0mVariable\u001b[0m\u001b[1;33m:\u001b[0m\u001b[1;33m\u001b[0m\u001b[0m\n\u001b[0;32m     52\u001b[0m         \u001b[1;32mif\u001b[0m \u001b[0mIS_TORCH_04\u001b[0m\u001b[1;33m:\u001b[0m \u001b[0mx\u001b[0m \u001b[1;33m=\u001b[0m \u001b[0mVariable\u001b[0m\u001b[1;33m(\u001b[0m\u001b[0mT\u001b[0m\u001b[1;33m(\u001b[0m\u001b[0mx\u001b[0m\u001b[1;33m)\u001b[0m\u001b[1;33m,\u001b[0m \u001b[0mrequires_grad\u001b[0m\u001b[1;33m=\u001b[0m\u001b[0mrequires_grad\u001b[0m\u001b[1;33m)\u001b[0m\u001b[1;33m\u001b[0m\u001b[0m\n\u001b[1;32m---> 53\u001b[1;33m         \u001b[1;32melse\u001b[0m\u001b[1;33m:\u001b[0m           \u001b[0mx\u001b[0m \u001b[1;33m=\u001b[0m \u001b[0mVariable\u001b[0m\u001b[1;33m(\u001b[0m\u001b[0mT\u001b[0m\u001b[1;33m(\u001b[0m\u001b[0mx\u001b[0m\u001b[1;33m)\u001b[0m\u001b[1;33m,\u001b[0m \u001b[0mrequires_grad\u001b[0m\u001b[1;33m=\u001b[0m\u001b[0mrequires_grad\u001b[0m\u001b[1;33m,\u001b[0m \u001b[0mvolatile\u001b[0m\u001b[1;33m=\u001b[0m\u001b[0mvolatile\u001b[0m\u001b[1;33m)\u001b[0m\u001b[1;33m\u001b[0m\u001b[0m\n\u001b[0m\u001b[0;32m     54\u001b[0m     \u001b[1;32mreturn\u001b[0m \u001b[0mx\u001b[0m\u001b[1;33m\u001b[0m\u001b[0m\n\u001b[0;32m     55\u001b[0m \u001b[1;33m\u001b[0m\u001b[0m\n",
      "\u001b[1;32m~\\Github\\trend-following\\fastai\\core.py\u001b[0m in \u001b[0;36mT\u001b[1;34m(a, half, cuda)\u001b[0m\n\u001b[0;32m     38\u001b[0m         \u001b[1;32melif\u001b[0m \u001b[0ma\u001b[0m\u001b[1;33m.\u001b[0m\u001b[0mdtype\u001b[0m \u001b[1;32min\u001b[0m \u001b[1;33m(\u001b[0m\u001b[0mnp\u001b[0m\u001b[1;33m.\u001b[0m\u001b[0mfloat32\u001b[0m\u001b[1;33m,\u001b[0m \u001b[0mnp\u001b[0m\u001b[1;33m.\u001b[0m\u001b[0mfloat64\u001b[0m\u001b[1;33m)\u001b[0m\u001b[1;33m:\u001b[0m\u001b[1;33m\u001b[0m\u001b[0m\n\u001b[0;32m     39\u001b[0m             \u001b[0ma\u001b[0m \u001b[1;33m=\u001b[0m \u001b[0mto_half\u001b[0m\u001b[1;33m(\u001b[0m\u001b[0ma\u001b[0m\u001b[1;33m)\u001b[0m \u001b[1;32mif\u001b[0m \u001b[0mhalf\u001b[0m \u001b[1;32melse\u001b[0m \u001b[0mtorch\u001b[0m\u001b[1;33m.\u001b[0m\u001b[0mFloatTensor\u001b[0m\u001b[1;33m(\u001b[0m\u001b[0ma\u001b[0m\u001b[1;33m)\u001b[0m\u001b[1;33m\u001b[0m\u001b[0m\n\u001b[1;32m---> 40\u001b[1;33m         \u001b[1;32melse\u001b[0m\u001b[1;33m:\u001b[0m \u001b[1;32mraise\u001b[0m \u001b[0mNotImplementedError\u001b[0m\u001b[1;33m(\u001b[0m\u001b[0ma\u001b[0m\u001b[1;33m.\u001b[0m\u001b[0mdtype\u001b[0m\u001b[1;33m)\u001b[0m\u001b[1;33m\u001b[0m\u001b[0m\n\u001b[0m\u001b[0;32m     41\u001b[0m     \u001b[1;32mif\u001b[0m \u001b[0mcuda\u001b[0m\u001b[1;33m:\u001b[0m \u001b[0ma\u001b[0m \u001b[1;33m=\u001b[0m \u001b[0mto_gpu\u001b[0m\u001b[1;33m(\u001b[0m\u001b[0ma\u001b[0m\u001b[1;33m,\u001b[0m \u001b[0masync\u001b[0m\u001b[1;33m=\u001b[0m\u001b[1;32mTrue\u001b[0m\u001b[1;33m)\u001b[0m\u001b[1;33m\u001b[0m\u001b[0m\n\u001b[0;32m     42\u001b[0m     \u001b[1;32mreturn\u001b[0m \u001b[0ma\u001b[0m\u001b[1;33m\u001b[0m\u001b[0m\n",
      "\u001b[1;31mNotImplementedError\u001b[0m: <U8"
     ]
    }
   ],
   "source": [
    "adam = torch.optim.Adam(seq.parameters(), lr=1e-2)\n",
    "fit(seq, sim_data, 2, adam, seq.loss)"
   ]
  },
  {
   "cell_type": "code",
   "execution_count": null,
   "metadata": {
    "ExecuteTime": {
     "end_time": "2018-09-11T00:15:03.720886Z",
     "start_time": "2018-09-11T00:14:44.667Z"
    }
   },
   "outputs": [],
   "source": [
    "test_sample = next(iter(sim_data.test_dl))  # next(iter(test_loader))\n",
    "test_inputs = test_sample['features']\n",
    "test_targets = test_sample['targets']"
   ]
  },
  {
   "cell_type": "code",
   "execution_count": null,
   "metadata": {
    "ExecuteTime": {
     "end_time": "2018-09-11T00:15:03.721883Z",
     "start_time": "2018-09-11T00:14:44.670Z"
    }
   },
   "outputs": [],
   "source": [
    "with torch.no_grad():\n",
    "    test_out = seq(test_inputs)\n",
    "test_out.size()"
   ]
  },
  {
   "cell_type": "code",
   "execution_count": null,
   "metadata": {
    "ExecuteTime": {
     "end_time": "2018-09-11T00:15:03.721883Z",
     "start_time": "2018-09-11T00:14:44.672Z"
    }
   },
   "outputs": [],
   "source": [
    "seq.loss(test_out, test_targets)"
   ]
  },
  {
   "cell_type": "code",
   "execution_count": 45,
   "metadata": {
    "ExecuteTime": {
     "end_time": "2018-09-11T01:09:28.219461Z",
     "start_time": "2018-09-11T01:09:28.108126Z"
    }
   },
   "outputs": [
    {
     "data": {
      "application/vnd.jupyter.widget-view+json": {
       "model_id": "8e0a3ca636684359bbf4cb09cfe1f421",
       "version_major": 2,
       "version_minor": 0
      },
      "text/plain": [
       "HBox(children=(IntProgress(value=0, description='Epoch', max=2), HTML(value='')))"
      ]
     },
     "metadata": {},
     "output_type": "display_data"
    },
    {
     "name": "stdout",
     "output_type": "stream",
     "text": [
      "  0%|                                                                                                                  | 0/2 [00:00<?, ?it/s]\n"
     ]
    },
    {
     "ename": "NotImplementedError",
     "evalue": "<U8",
     "output_type": "error",
     "traceback": [
      "\u001b[1;31m---------------------------------------------------------------------------\u001b[0m",
      "\u001b[1;31mNotImplementedError\u001b[0m                       Traceback (most recent call last)",
      "\u001b[1;32m<ipython-input-45-090debda6a18>\u001b[0m in \u001b[0;36m<module>\u001b[1;34m()\u001b[0m\n\u001b[1;32m----> 1\u001b[1;33m \u001b[0mfit\u001b[0m\u001b[1;33m(\u001b[0m\u001b[0mseq\u001b[0m\u001b[1;33m,\u001b[0m \u001b[0msim_data\u001b[0m\u001b[1;33m,\u001b[0m \u001b[1;36m2\u001b[0m\u001b[1;33m,\u001b[0m \u001b[0moptim\u001b[0m\u001b[1;33m.\u001b[0m\u001b[0mSGD\u001b[0m\u001b[1;33m(\u001b[0m\u001b[0mseq\u001b[0m\u001b[1;33m.\u001b[0m\u001b[0mparameters\u001b[0m\u001b[1;33m(\u001b[0m\u001b[1;33m)\u001b[0m\u001b[1;33m,\u001b[0m \u001b[1;36m1e-3\u001b[0m\u001b[1;33m,\u001b[0m \u001b[0mmomentum\u001b[0m\u001b[1;33m=\u001b[0m\u001b[1;36m0.9\u001b[0m\u001b[1;33m)\u001b[0m\u001b[1;33m,\u001b[0m \u001b[0mseq\u001b[0m\u001b[1;33m.\u001b[0m\u001b[0mloss\u001b[0m\u001b[1;33m)\u001b[0m\u001b[1;33m\u001b[0m\u001b[0m\n\u001b[0m",
      "\u001b[1;32m~\\Github\\trend-following\\fastai\\model.py\u001b[0m in \u001b[0;36mfit\u001b[1;34m(model, data, n_epochs, opt, crit, metrics, callbacks, stepper, swa_model, swa_start, swa_eval_freq, visualize, **kwargs)\u001b[0m\n\u001b[0;32m    139\u001b[0m             \u001b[0mbatch_num\u001b[0m \u001b[1;33m+=\u001b[0m \u001b[1;36m1\u001b[0m\u001b[1;33m\u001b[0m\u001b[0m\n\u001b[0;32m    140\u001b[0m             \u001b[1;32mfor\u001b[0m \u001b[0mcb\u001b[0m \u001b[1;32min\u001b[0m \u001b[0mcallbacks\u001b[0m\u001b[1;33m:\u001b[0m \u001b[0mcb\u001b[0m\u001b[1;33m.\u001b[0m\u001b[0mon_batch_begin\u001b[0m\u001b[1;33m(\u001b[0m\u001b[1;33m)\u001b[0m\u001b[1;33m\u001b[0m\u001b[0m\n\u001b[1;32m--> 141\u001b[1;33m             \u001b[0mloss\u001b[0m \u001b[1;33m=\u001b[0m \u001b[0mmodel_stepper\u001b[0m\u001b[1;33m.\u001b[0m\u001b[0mstep\u001b[0m\u001b[1;33m(\u001b[0m\u001b[0mV\u001b[0m\u001b[1;33m(\u001b[0m\u001b[0mx\u001b[0m\u001b[1;33m)\u001b[0m\u001b[1;33m,\u001b[0m\u001b[0mV\u001b[0m\u001b[1;33m(\u001b[0m\u001b[0my\u001b[0m\u001b[1;33m)\u001b[0m\u001b[1;33m,\u001b[0m \u001b[0mepoch\u001b[0m\u001b[1;33m)\u001b[0m\u001b[1;33m\u001b[0m\u001b[0m\n\u001b[0m\u001b[0;32m    142\u001b[0m             \u001b[0mavg_loss\u001b[0m \u001b[1;33m=\u001b[0m \u001b[0mavg_loss\u001b[0m \u001b[1;33m*\u001b[0m \u001b[0mavg_mom\u001b[0m \u001b[1;33m+\u001b[0m \u001b[0mloss\u001b[0m \u001b[1;33m*\u001b[0m \u001b[1;33m(\u001b[0m\u001b[1;36m1\u001b[0m\u001b[1;33m-\u001b[0m\u001b[0mavg_mom\u001b[0m\u001b[1;33m)\u001b[0m\u001b[1;33m\u001b[0m\u001b[0m\n\u001b[0;32m    143\u001b[0m             \u001b[0mdebias_loss\u001b[0m \u001b[1;33m=\u001b[0m \u001b[0mavg_loss\u001b[0m \u001b[1;33m/\u001b[0m \u001b[1;33m(\u001b[0m\u001b[1;36m1\u001b[0m \u001b[1;33m-\u001b[0m \u001b[0mavg_mom\u001b[0m\u001b[1;33m**\u001b[0m\u001b[0mbatch_num\u001b[0m\u001b[1;33m)\u001b[0m\u001b[1;33m\u001b[0m\u001b[0m\n",
      "\u001b[1;32m~\\Github\\trend-following\\fastai\\core.py\u001b[0m in \u001b[0;36mV\u001b[1;34m(x, requires_grad, volatile)\u001b[0m\n\u001b[0;32m     59\u001b[0m \u001b[1;32mdef\u001b[0m \u001b[0mV\u001b[0m\u001b[1;33m(\u001b[0m\u001b[0mx\u001b[0m\u001b[1;33m,\u001b[0m \u001b[0mrequires_grad\u001b[0m\u001b[1;33m=\u001b[0m\u001b[1;32mFalse\u001b[0m\u001b[1;33m,\u001b[0m \u001b[0mvolatile\u001b[0m\u001b[1;33m=\u001b[0m\u001b[1;32mFalse\u001b[0m\u001b[1;33m)\u001b[0m\u001b[1;33m:\u001b[0m\u001b[1;33m\u001b[0m\u001b[0m\n\u001b[0;32m     60\u001b[0m     \u001b[1;34m'''creates a single or a list of pytorch tensors, depending on input x. '''\u001b[0m\u001b[1;33m\u001b[0m\u001b[0m\n\u001b[1;32m---> 61\u001b[1;33m     \u001b[1;32mreturn\u001b[0m \u001b[0mmap_over\u001b[0m\u001b[1;33m(\u001b[0m\u001b[0mx\u001b[0m\u001b[1;33m,\u001b[0m \u001b[1;32mlambda\u001b[0m \u001b[0mo\u001b[0m\u001b[1;33m:\u001b[0m \u001b[0mV_\u001b[0m\u001b[1;33m(\u001b[0m\u001b[0mo\u001b[0m\u001b[1;33m,\u001b[0m \u001b[0mrequires_grad\u001b[0m\u001b[1;33m,\u001b[0m \u001b[0mvolatile\u001b[0m\u001b[1;33m)\u001b[0m\u001b[1;33m)\u001b[0m\u001b[1;33m\u001b[0m\u001b[0m\n\u001b[0m\u001b[0;32m     62\u001b[0m \u001b[1;33m\u001b[0m\u001b[0m\n\u001b[0;32m     63\u001b[0m \u001b[1;32mdef\u001b[0m \u001b[0mVV_\u001b[0m\u001b[1;33m(\u001b[0m\u001b[0mx\u001b[0m\u001b[1;33m)\u001b[0m\u001b[1;33m:\u001b[0m\u001b[1;33m\u001b[0m\u001b[0m\n",
      "\u001b[1;32m~\\Github\\trend-following\\fastai\\core.py\u001b[0m in \u001b[0;36mmap_over\u001b[1;34m(x, f)\u001b[0m\n\u001b[0;32m      6\u001b[0m \u001b[1;32mdef\u001b[0m \u001b[0mis_listy\u001b[0m\u001b[1;33m(\u001b[0m\u001b[0mx\u001b[0m\u001b[1;33m)\u001b[0m\u001b[1;33m:\u001b[0m \u001b[1;32mreturn\u001b[0m \u001b[0misinstance\u001b[0m\u001b[1;33m(\u001b[0m\u001b[0mx\u001b[0m\u001b[1;33m,\u001b[0m \u001b[1;33m(\u001b[0m\u001b[0mlist\u001b[0m\u001b[1;33m,\u001b[0m\u001b[0mtuple\u001b[0m\u001b[1;33m)\u001b[0m\u001b[1;33m)\u001b[0m\u001b[1;33m\u001b[0m\u001b[0m\n\u001b[0;32m      7\u001b[0m \u001b[1;32mdef\u001b[0m \u001b[0mis_iter\u001b[0m\u001b[1;33m(\u001b[0m\u001b[0mx\u001b[0m\u001b[1;33m)\u001b[0m\u001b[1;33m:\u001b[0m \u001b[1;32mreturn\u001b[0m \u001b[0misinstance\u001b[0m\u001b[1;33m(\u001b[0m\u001b[0mx\u001b[0m\u001b[1;33m,\u001b[0m \u001b[0mcollections\u001b[0m\u001b[1;33m.\u001b[0m\u001b[0mIterable\u001b[0m\u001b[1;33m)\u001b[0m\u001b[1;33m\u001b[0m\u001b[0m\n\u001b[1;32m----> 8\u001b[1;33m \u001b[1;32mdef\u001b[0m \u001b[0mmap_over\u001b[0m\u001b[1;33m(\u001b[0m\u001b[0mx\u001b[0m\u001b[1;33m,\u001b[0m \u001b[0mf\u001b[0m\u001b[1;33m)\u001b[0m\u001b[1;33m:\u001b[0m \u001b[1;32mreturn\u001b[0m \u001b[1;33m[\u001b[0m\u001b[0mf\u001b[0m\u001b[1;33m(\u001b[0m\u001b[0mo\u001b[0m\u001b[1;33m)\u001b[0m \u001b[1;32mfor\u001b[0m \u001b[0mo\u001b[0m \u001b[1;32min\u001b[0m \u001b[0mx\u001b[0m\u001b[1;33m]\u001b[0m \u001b[1;32mif\u001b[0m \u001b[0mis_listy\u001b[0m\u001b[1;33m(\u001b[0m\u001b[0mx\u001b[0m\u001b[1;33m)\u001b[0m \u001b[1;32melse\u001b[0m \u001b[0mf\u001b[0m\u001b[1;33m(\u001b[0m\u001b[0mx\u001b[0m\u001b[1;33m)\u001b[0m\u001b[1;33m\u001b[0m\u001b[0m\n\u001b[0m\u001b[0;32m      9\u001b[0m \u001b[1;32mdef\u001b[0m \u001b[0mmap_none\u001b[0m\u001b[1;33m(\u001b[0m\u001b[0mx\u001b[0m\u001b[1;33m,\u001b[0m \u001b[0mf\u001b[0m\u001b[1;33m)\u001b[0m\u001b[1;33m:\u001b[0m \u001b[1;32mreturn\u001b[0m \u001b[1;32mNone\u001b[0m \u001b[1;32mif\u001b[0m \u001b[0mx\u001b[0m \u001b[1;32mis\u001b[0m \u001b[1;32mNone\u001b[0m \u001b[1;32melse\u001b[0m \u001b[0mf\u001b[0m\u001b[1;33m(\u001b[0m\u001b[0mx\u001b[0m\u001b[1;33m)\u001b[0m\u001b[1;33m\u001b[0m\u001b[0m\n\u001b[0;32m     10\u001b[0m \u001b[1;32mdef\u001b[0m \u001b[0mdelistify\u001b[0m\u001b[1;33m(\u001b[0m\u001b[0mx\u001b[0m\u001b[1;33m)\u001b[0m\u001b[1;33m:\u001b[0m \u001b[1;32mreturn\u001b[0m \u001b[0mx\u001b[0m\u001b[1;33m[\u001b[0m\u001b[1;36m0\u001b[0m\u001b[1;33m]\u001b[0m \u001b[1;32mif\u001b[0m \u001b[0mis_listy\u001b[0m\u001b[1;33m(\u001b[0m\u001b[0mx\u001b[0m\u001b[1;33m)\u001b[0m \u001b[1;32melse\u001b[0m \u001b[0mx\u001b[0m\u001b[1;33m\u001b[0m\u001b[0m\n",
      "\u001b[1;32m~\\Github\\trend-following\\fastai\\core.py\u001b[0m in \u001b[0;36m<listcomp>\u001b[1;34m(.0)\u001b[0m\n\u001b[0;32m      6\u001b[0m \u001b[1;32mdef\u001b[0m \u001b[0mis_listy\u001b[0m\u001b[1;33m(\u001b[0m\u001b[0mx\u001b[0m\u001b[1;33m)\u001b[0m\u001b[1;33m:\u001b[0m \u001b[1;32mreturn\u001b[0m \u001b[0misinstance\u001b[0m\u001b[1;33m(\u001b[0m\u001b[0mx\u001b[0m\u001b[1;33m,\u001b[0m \u001b[1;33m(\u001b[0m\u001b[0mlist\u001b[0m\u001b[1;33m,\u001b[0m\u001b[0mtuple\u001b[0m\u001b[1;33m)\u001b[0m\u001b[1;33m)\u001b[0m\u001b[1;33m\u001b[0m\u001b[0m\n\u001b[0;32m      7\u001b[0m \u001b[1;32mdef\u001b[0m \u001b[0mis_iter\u001b[0m\u001b[1;33m(\u001b[0m\u001b[0mx\u001b[0m\u001b[1;33m)\u001b[0m\u001b[1;33m:\u001b[0m \u001b[1;32mreturn\u001b[0m \u001b[0misinstance\u001b[0m\u001b[1;33m(\u001b[0m\u001b[0mx\u001b[0m\u001b[1;33m,\u001b[0m \u001b[0mcollections\u001b[0m\u001b[1;33m.\u001b[0m\u001b[0mIterable\u001b[0m\u001b[1;33m)\u001b[0m\u001b[1;33m\u001b[0m\u001b[0m\n\u001b[1;32m----> 8\u001b[1;33m \u001b[1;32mdef\u001b[0m \u001b[0mmap_over\u001b[0m\u001b[1;33m(\u001b[0m\u001b[0mx\u001b[0m\u001b[1;33m,\u001b[0m \u001b[0mf\u001b[0m\u001b[1;33m)\u001b[0m\u001b[1;33m:\u001b[0m \u001b[1;32mreturn\u001b[0m \u001b[1;33m[\u001b[0m\u001b[0mf\u001b[0m\u001b[1;33m(\u001b[0m\u001b[0mo\u001b[0m\u001b[1;33m)\u001b[0m \u001b[1;32mfor\u001b[0m \u001b[0mo\u001b[0m \u001b[1;32min\u001b[0m \u001b[0mx\u001b[0m\u001b[1;33m]\u001b[0m \u001b[1;32mif\u001b[0m \u001b[0mis_listy\u001b[0m\u001b[1;33m(\u001b[0m\u001b[0mx\u001b[0m\u001b[1;33m)\u001b[0m \u001b[1;32melse\u001b[0m \u001b[0mf\u001b[0m\u001b[1;33m(\u001b[0m\u001b[0mx\u001b[0m\u001b[1;33m)\u001b[0m\u001b[1;33m\u001b[0m\u001b[0m\n\u001b[0m\u001b[0;32m      9\u001b[0m \u001b[1;32mdef\u001b[0m \u001b[0mmap_none\u001b[0m\u001b[1;33m(\u001b[0m\u001b[0mx\u001b[0m\u001b[1;33m,\u001b[0m \u001b[0mf\u001b[0m\u001b[1;33m)\u001b[0m\u001b[1;33m:\u001b[0m \u001b[1;32mreturn\u001b[0m \u001b[1;32mNone\u001b[0m \u001b[1;32mif\u001b[0m \u001b[0mx\u001b[0m \u001b[1;32mis\u001b[0m \u001b[1;32mNone\u001b[0m \u001b[1;32melse\u001b[0m \u001b[0mf\u001b[0m\u001b[1;33m(\u001b[0m\u001b[0mx\u001b[0m\u001b[1;33m)\u001b[0m\u001b[1;33m\u001b[0m\u001b[0m\n\u001b[0;32m     10\u001b[0m \u001b[1;32mdef\u001b[0m \u001b[0mdelistify\u001b[0m\u001b[1;33m(\u001b[0m\u001b[0mx\u001b[0m\u001b[1;33m)\u001b[0m\u001b[1;33m:\u001b[0m \u001b[1;32mreturn\u001b[0m \u001b[0mx\u001b[0m\u001b[1;33m[\u001b[0m\u001b[1;36m0\u001b[0m\u001b[1;33m]\u001b[0m \u001b[1;32mif\u001b[0m \u001b[0mis_listy\u001b[0m\u001b[1;33m(\u001b[0m\u001b[0mx\u001b[0m\u001b[1;33m)\u001b[0m \u001b[1;32melse\u001b[0m \u001b[0mx\u001b[0m\u001b[1;33m\u001b[0m\u001b[0m\n",
      "\u001b[1;32m~\\Github\\trend-following\\fastai\\core.py\u001b[0m in \u001b[0;36m<lambda>\u001b[1;34m(o)\u001b[0m\n\u001b[0;32m     59\u001b[0m \u001b[1;32mdef\u001b[0m \u001b[0mV\u001b[0m\u001b[1;33m(\u001b[0m\u001b[0mx\u001b[0m\u001b[1;33m,\u001b[0m \u001b[0mrequires_grad\u001b[0m\u001b[1;33m=\u001b[0m\u001b[1;32mFalse\u001b[0m\u001b[1;33m,\u001b[0m \u001b[0mvolatile\u001b[0m\u001b[1;33m=\u001b[0m\u001b[1;32mFalse\u001b[0m\u001b[1;33m)\u001b[0m\u001b[1;33m:\u001b[0m\u001b[1;33m\u001b[0m\u001b[0m\n\u001b[0;32m     60\u001b[0m     \u001b[1;34m'''creates a single or a list of pytorch tensors, depending on input x. '''\u001b[0m\u001b[1;33m\u001b[0m\u001b[0m\n\u001b[1;32m---> 61\u001b[1;33m     \u001b[1;32mreturn\u001b[0m \u001b[0mmap_over\u001b[0m\u001b[1;33m(\u001b[0m\u001b[0mx\u001b[0m\u001b[1;33m,\u001b[0m \u001b[1;32mlambda\u001b[0m \u001b[0mo\u001b[0m\u001b[1;33m:\u001b[0m \u001b[0mV_\u001b[0m\u001b[1;33m(\u001b[0m\u001b[0mo\u001b[0m\u001b[1;33m,\u001b[0m \u001b[0mrequires_grad\u001b[0m\u001b[1;33m,\u001b[0m \u001b[0mvolatile\u001b[0m\u001b[1;33m)\u001b[0m\u001b[1;33m)\u001b[0m\u001b[1;33m\u001b[0m\u001b[0m\n\u001b[0m\u001b[0;32m     62\u001b[0m \u001b[1;33m\u001b[0m\u001b[0m\n\u001b[0;32m     63\u001b[0m \u001b[1;32mdef\u001b[0m \u001b[0mVV_\u001b[0m\u001b[1;33m(\u001b[0m\u001b[0mx\u001b[0m\u001b[1;33m)\u001b[0m\u001b[1;33m:\u001b[0m\u001b[1;33m\u001b[0m\u001b[0m\n",
      "\u001b[1;32m~\\Github\\trend-following\\fastai\\core.py\u001b[0m in \u001b[0;36mV_\u001b[1;34m(x, requires_grad, volatile)\u001b[0m\n\u001b[0;32m     56\u001b[0m \u001b[1;32mdef\u001b[0m \u001b[0mV_\u001b[0m\u001b[1;33m(\u001b[0m\u001b[0mx\u001b[0m\u001b[1;33m,\u001b[0m \u001b[0mrequires_grad\u001b[0m\u001b[1;33m=\u001b[0m\u001b[1;32mFalse\u001b[0m\u001b[1;33m,\u001b[0m \u001b[0mvolatile\u001b[0m\u001b[1;33m=\u001b[0m\u001b[1;32mFalse\u001b[0m\u001b[1;33m)\u001b[0m\u001b[1;33m:\u001b[0m\u001b[1;33m\u001b[0m\u001b[0m\n\u001b[0;32m     57\u001b[0m     \u001b[1;34m'''equivalent to create_variable, which creates a pytorch tensor'''\u001b[0m\u001b[1;33m\u001b[0m\u001b[0m\n\u001b[1;32m---> 58\u001b[1;33m     \u001b[1;32mreturn\u001b[0m \u001b[0mcreate_variable\u001b[0m\u001b[1;33m(\u001b[0m\u001b[0mx\u001b[0m\u001b[1;33m,\u001b[0m \u001b[0mvolatile\u001b[0m\u001b[1;33m=\u001b[0m\u001b[0mvolatile\u001b[0m\u001b[1;33m,\u001b[0m \u001b[0mrequires_grad\u001b[0m\u001b[1;33m=\u001b[0m\u001b[0mrequires_grad\u001b[0m\u001b[1;33m)\u001b[0m\u001b[1;33m\u001b[0m\u001b[0m\n\u001b[0m\u001b[0;32m     59\u001b[0m \u001b[1;32mdef\u001b[0m \u001b[0mV\u001b[0m\u001b[1;33m(\u001b[0m\u001b[0mx\u001b[0m\u001b[1;33m,\u001b[0m \u001b[0mrequires_grad\u001b[0m\u001b[1;33m=\u001b[0m\u001b[1;32mFalse\u001b[0m\u001b[1;33m,\u001b[0m \u001b[0mvolatile\u001b[0m\u001b[1;33m=\u001b[0m\u001b[1;32mFalse\u001b[0m\u001b[1;33m)\u001b[0m\u001b[1;33m:\u001b[0m\u001b[1;33m\u001b[0m\u001b[0m\n\u001b[0;32m     60\u001b[0m     \u001b[1;34m'''creates a single or a list of pytorch tensors, depending on input x. '''\u001b[0m\u001b[1;33m\u001b[0m\u001b[0m\n",
      "\u001b[1;32m~\\Github\\trend-following\\fastai\\core.py\u001b[0m in \u001b[0;36mcreate_variable\u001b[1;34m(x, volatile, requires_grad)\u001b[0m\n\u001b[0;32m     51\u001b[0m     \u001b[1;32mif\u001b[0m \u001b[0mtype\u001b[0m \u001b[1;33m(\u001b[0m\u001b[0mx\u001b[0m\u001b[1;33m)\u001b[0m \u001b[1;33m!=\u001b[0m \u001b[0mVariable\u001b[0m\u001b[1;33m:\u001b[0m\u001b[1;33m\u001b[0m\u001b[0m\n\u001b[0;32m     52\u001b[0m         \u001b[1;32mif\u001b[0m \u001b[0mIS_TORCH_04\u001b[0m\u001b[1;33m:\u001b[0m \u001b[0mx\u001b[0m \u001b[1;33m=\u001b[0m \u001b[0mVariable\u001b[0m\u001b[1;33m(\u001b[0m\u001b[0mT\u001b[0m\u001b[1;33m(\u001b[0m\u001b[0mx\u001b[0m\u001b[1;33m)\u001b[0m\u001b[1;33m,\u001b[0m \u001b[0mrequires_grad\u001b[0m\u001b[1;33m=\u001b[0m\u001b[0mrequires_grad\u001b[0m\u001b[1;33m)\u001b[0m\u001b[1;33m\u001b[0m\u001b[0m\n\u001b[1;32m---> 53\u001b[1;33m         \u001b[1;32melse\u001b[0m\u001b[1;33m:\u001b[0m           \u001b[0mx\u001b[0m \u001b[1;33m=\u001b[0m \u001b[0mVariable\u001b[0m\u001b[1;33m(\u001b[0m\u001b[0mT\u001b[0m\u001b[1;33m(\u001b[0m\u001b[0mx\u001b[0m\u001b[1;33m)\u001b[0m\u001b[1;33m,\u001b[0m \u001b[0mrequires_grad\u001b[0m\u001b[1;33m=\u001b[0m\u001b[0mrequires_grad\u001b[0m\u001b[1;33m,\u001b[0m \u001b[0mvolatile\u001b[0m\u001b[1;33m=\u001b[0m\u001b[0mvolatile\u001b[0m\u001b[1;33m)\u001b[0m\u001b[1;33m\u001b[0m\u001b[0m\n\u001b[0m\u001b[0;32m     54\u001b[0m     \u001b[1;32mreturn\u001b[0m \u001b[0mx\u001b[0m\u001b[1;33m\u001b[0m\u001b[0m\n\u001b[0;32m     55\u001b[0m \u001b[1;33m\u001b[0m\u001b[0m\n",
      "\u001b[1;32m~\\Github\\trend-following\\fastai\\core.py\u001b[0m in \u001b[0;36mT\u001b[1;34m(a, half, cuda)\u001b[0m\n\u001b[0;32m     38\u001b[0m         \u001b[1;32melif\u001b[0m \u001b[0ma\u001b[0m\u001b[1;33m.\u001b[0m\u001b[0mdtype\u001b[0m \u001b[1;32min\u001b[0m \u001b[1;33m(\u001b[0m\u001b[0mnp\u001b[0m\u001b[1;33m.\u001b[0m\u001b[0mfloat32\u001b[0m\u001b[1;33m,\u001b[0m \u001b[0mnp\u001b[0m\u001b[1;33m.\u001b[0m\u001b[0mfloat64\u001b[0m\u001b[1;33m)\u001b[0m\u001b[1;33m:\u001b[0m\u001b[1;33m\u001b[0m\u001b[0m\n\u001b[0;32m     39\u001b[0m             \u001b[0ma\u001b[0m \u001b[1;33m=\u001b[0m \u001b[0mto_half\u001b[0m\u001b[1;33m(\u001b[0m\u001b[0ma\u001b[0m\u001b[1;33m)\u001b[0m \u001b[1;32mif\u001b[0m \u001b[0mhalf\u001b[0m \u001b[1;32melse\u001b[0m \u001b[0mtorch\u001b[0m\u001b[1;33m.\u001b[0m\u001b[0mFloatTensor\u001b[0m\u001b[1;33m(\u001b[0m\u001b[0ma\u001b[0m\u001b[1;33m)\u001b[0m\u001b[1;33m\u001b[0m\u001b[0m\n\u001b[1;32m---> 40\u001b[1;33m         \u001b[1;32melse\u001b[0m\u001b[1;33m:\u001b[0m \u001b[1;32mraise\u001b[0m \u001b[0mNotImplementedError\u001b[0m\u001b[1;33m(\u001b[0m\u001b[0ma\u001b[0m\u001b[1;33m.\u001b[0m\u001b[0mdtype\u001b[0m\u001b[1;33m)\u001b[0m\u001b[1;33m\u001b[0m\u001b[0m\n\u001b[0m\u001b[0;32m     41\u001b[0m     \u001b[1;32mif\u001b[0m \u001b[0mcuda\u001b[0m\u001b[1;33m:\u001b[0m \u001b[0ma\u001b[0m \u001b[1;33m=\u001b[0m \u001b[0mto_gpu\u001b[0m\u001b[1;33m(\u001b[0m\u001b[0ma\u001b[0m\u001b[1;33m,\u001b[0m \u001b[0masync\u001b[0m\u001b[1;33m=\u001b[0m\u001b[1;32mTrue\u001b[0m\u001b[1;33m)\u001b[0m\u001b[1;33m\u001b[0m\u001b[0m\n\u001b[0;32m     42\u001b[0m     \u001b[1;32mreturn\u001b[0m \u001b[0ma\u001b[0m\u001b[1;33m\u001b[0m\u001b[0m\n",
      "\u001b[1;31mNotImplementedError\u001b[0m: <U8"
     ]
    }
   ],
   "source": [
    "fit(seq, sim_data, 2, optim.SGD(seq.parameters(), 1e-3, momentum=0.9), seq.loss)"
   ]
  },
  {
   "cell_type": "markdown",
   "metadata": {},
   "source": [
    "### Learner"
   ]
  },
  {
   "cell_type": "code",
   "execution_count": null,
   "metadata": {
    "ExecuteTime": {
     "end_time": "2018-09-11T00:15:03.722880Z",
     "start_time": "2018-09-11T00:14:44.686Z"
    }
   },
   "outputs": [],
   "source": [
    "model_summary(seq, 1)"
   ]
  },
  {
   "cell_type": "code",
   "execution_count": null,
   "metadata": {
    "ExecuteTime": {
     "end_time": "2018-09-11T00:15:03.723878Z",
     "start_time": "2018-09-11T00:14:44.688Z"
    }
   },
   "outputs": [],
   "source": [
    "class PriceModelLearner(Learner):\n",
    "    def __init__(self, data, models, **kwargs):\n",
    "        super().__init__(data, models, **kwargs)\n",
    "\n",
    "    def _get_crit(self, data): return seq.loss\n",
    "\n",
    "    def summary(self): return model_summary(self.model, [torch.ones(3).long(), torch.ones(3).long()])\n"
   ]
  },
  {
   "cell_type": "code",
   "execution_count": null,
   "metadata": {
    "ExecuteTime": {
     "end_time": "2018-09-11T00:15:03.724875Z",
     "start_time": "2018-09-11T00:14:44.690Z"
    }
   },
   "outputs": [],
   "source": [
    "sim_learner = PriceModelLearner(sim_data, BasicModel(seq, name='seq'))\n",
    "sim_learner"
   ]
  },
  {
   "cell_type": "code",
   "execution_count": null,
   "metadata": {
    "ExecuteTime": {
     "end_time": "2018-09-11T00:15:03.724875Z",
     "start_time": "2018-09-11T00:14:44.693Z"
    }
   },
   "outputs": [],
   "source": [
    "sim_learner.fit(1e-3, 2)"
   ]
  },
  {
   "cell_type": "markdown",
   "metadata": {},
   "source": [
    "### Train"
   ]
  },
  {
   "cell_type": "markdown",
   "metadata": {},
   "source": [
    "#### Find lr"
   ]
  },
  {
   "cell_type": "code",
   "execution_count": null,
   "metadata": {
    "ExecuteTime": {
     "end_time": "2018-09-11T00:15:03.725885Z",
     "start_time": "2018-09-11T00:14:44.696Z"
    }
   },
   "outputs": [],
   "source": [
    "losses = []\n",
    "lrs = np.exp(np.arange(np.log(1e-6), np.log(1), step=0.1))\n",
    "sched_lrs = []\n",
    "optimizer = optim.Adam(seq.parameters(), lr=1)\n",
    "scheduler = optim.lr_scheduler.LambdaLR(optimizer, lr_lambda=lambda epoch: lrs[epoch])\n",
    "\n",
    "\n",
    "for e in tqdm_notebook(np.arange(len(lrs) // (len(train_dataset) / train_loader.batch_size) + 1),\n",
    "                       desc='Epoch:'):\n",
    "\n",
    "    for i_batch, sample_batched in tqdm_notebook(enumerate(train_loader), desc='Mini-batch:', leave=False):\n",
    "        inputs, targets = sample_batched['features'], sample_batched['targets']\n",
    "        scheduler.step()\n",
    "        sched_lrs.append(scheduler.get_lr())\n",
    "        def closure():\n",
    "            optimizer.zero_grad()\n",
    "            out = seq(inputs)\n",
    "            loss = seq.loss(out, targets)\n",
    "            losses.append(loss.item())\n",
    "            loss.backward()\n",
    "            return loss\n",
    "        optimizer.step(closure)\n",
    "        \n",
    "        if scheduler.last_epoch == len(lrs) - 1: break\n",
    "    if scheduler.last_epoch == len(lrs) - 1: break\n"
   ]
  },
  {
   "cell_type": "code",
   "execution_count": null,
   "metadata": {
    "ExecuteTime": {
     "end_time": "2018-09-11T00:15:03.725885Z",
     "start_time": "2018-09-11T00:14:44.699Z"
    }
   },
   "outputs": [],
   "source": [
    "plt.semilogx(np.array(sched_lrs).flatten()[:250], losses[:250])\n",
    "plt.xlabel('Learning rate (log-scale)')\n",
    "plt.ylabel('Loss')\n",
    "plt.show()"
   ]
  },
  {
   "cell_type": "markdown",
   "metadata": {},
   "source": [
    "#### Train the model"
   ]
  },
  {
   "cell_type": "code",
   "execution_count": null,
   "metadata": {
    "ExecuteTime": {
     "end_time": "2018-09-11T00:15:03.726875Z",
     "start_time": "2018-09-11T00:14:44.701Z"
    }
   },
   "outputs": [],
   "source": [
    "losses = []\n",
    "test_losses = []\n",
    "seq = Sequence(h0=train_dataset.n_features, nll_weights=weights)\n",
    "seq.double()"
   ]
  },
  {
   "cell_type": "code",
   "execution_count": null,
   "metadata": {
    "ExecuteTime": {
     "end_time": "2018-09-11T00:15:03.726875Z",
     "start_time": "2018-09-11T00:14:44.702Z"
    }
   },
   "outputs": [],
   "source": [
    "optimizer = optim.Adam(seq.parameters(), lr=1e-4)\n",
    "# optimizer = optim.SGD(seq.parameters(), lr=1e-3, momentum=0.9)"
   ]
  },
  {
   "cell_type": "code",
   "execution_count": null,
   "metadata": {
    "ExecuteTime": {
     "end_time": "2018-09-11T00:15:03.727876Z",
     "start_time": "2018-09-11T00:14:44.706Z"
    }
   },
   "outputs": [],
   "source": [
    "epochs = 10\n",
    "for e in tqdm_notebook(range(epochs), desc='Epoch:'):\n",
    "    \n",
    "    for i_batch, sample_batched in tqdm_notebook(enumerate(train_loader), desc='Mini-batch:', leave=False):\n",
    "        inputs, targets = sample_batched['features'], sample_batched['targets']\n",
    "    \n",
    "        def closure():\n",
    "            optimizer.zero_grad()\n",
    "            out = seq(inputs)\n",
    "            loss = seq.loss(out, targets)\n",
    "            losses.append(loss.item())\n",
    "            loss.backward()\n",
    "            return loss\n",
    "        optimizer.step(closure)\n",
    "    \n",
    "    if e % 1 == 0:\n",
    "        with torch.no_grad():\n",
    "            test_sample = next(iter(test_loader))\n",
    "            test_inputs, test_targets = test_sample['features'], test_sample['targets']\n",
    "            test_out = seq(test_inputs)\n",
    "            test_loss = seq.loss(test_out, test_targets)\n",
    "            test_losses.append(test_loss.item())\n",
    "        print('Epoch: ', e,\n",
    "              ', training loss: ', np.mean(losses[-(len(train_dataset) // train_loader.batch_size):]),\n",
    "              ', test loss: ', test_loss.item(), sep='')\n"
   ]
  },
  {
   "cell_type": "code",
   "execution_count": null,
   "metadata": {
    "ExecuteTime": {
     "end_time": "2018-09-11T00:15:03.727876Z",
     "start_time": "2018-09-11T00:14:44.708Z"
    },
    "scrolled": false
   },
   "outputs": [],
   "source": [
    "plt.plot(losses)"
   ]
  },
  {
   "cell_type": "code",
   "execution_count": null,
   "metadata": {
    "ExecuteTime": {
     "end_time": "2018-09-11T00:15:03.728869Z",
     "start_time": "2018-09-11T00:14:44.710Z"
    }
   },
   "outputs": [],
   "source": [
    "test_sample = next(iter(test_loader))\n",
    "test_inputs, test_targets = test_sample['features'], test_sample['targets']\n",
    "test_out = seq(test_inputs)"
   ]
  },
  {
   "cell_type": "code",
   "execution_count": null,
   "metadata": {
    "ExecuteTime": {
     "end_time": "2018-09-11T00:15:03.729862Z",
     "start_time": "2018-09-11T00:14:44.712Z"
    }
   },
   "outputs": [],
   "source": [
    "j = np.random.randint(len(test_dataset))\n",
    "features_j = test_inputs[j, ...]\n",
    "x_j = pd.DataFrame(features_j.numpy(), columns=test_dataset.features_columns)"
   ]
  },
  {
   "cell_type": "code",
   "execution_count": null,
   "metadata": {
    "ExecuteTime": {
     "end_time": "2018-09-11T00:15:03.729862Z",
     "start_time": "2018-09-11T00:14:44.715Z"
    }
   },
   "outputs": [],
   "source": [
    "targets_j = test_targets[j, ...]\n",
    "y_j = pd.DataFrame(targets_j.numpy(), columns=test_dataset.targets_columns)"
   ]
  },
  {
   "cell_type": "code",
   "execution_count": null,
   "metadata": {
    "ExecuteTime": {
     "end_time": "2018-09-11T00:15:03.730891Z",
     "start_time": "2018-09-11T00:14:44.716Z"
    }
   },
   "outputs": [],
   "source": [
    "out_j = test_out[j, ...]\n",
    "yh_j = pd.DataFrame(np.exp(out_j.detach().numpy()), columns=['Down', 'No_Trend', 'Up'])\n",
    "yh_j = yh_j.assign(y_hat = pd.DataFrame(np.exp(out_j.detach().numpy())).idxmax(axis=1))"
   ]
  },
  {
   "cell_type": "code",
   "execution_count": null,
   "metadata": {
    "ExecuteTime": {
     "end_time": "2018-09-11T00:15:03.730891Z",
     "start_time": "2018-09-11T00:14:44.718Z"
    }
   },
   "outputs": [],
   "source": [
    "confusion_matrix(y_j.values, yh_j.y_hat)/len(y_j)"
   ]
  },
  {
   "cell_type": "code",
   "execution_count": null,
   "metadata": {
    "ExecuteTime": {
     "end_time": "2018-09-11T00:15:03.731857Z",
     "start_time": "2018-09-11T00:14:44.721Z"
    }
   },
   "outputs": [],
   "source": [
    "res_j = pd.concat((x_j, y_j, yh_j), axis=1)\n",
    "res_j[['Close', 'No_Trend', 'Up', 'Down']].plot()"
   ]
  },
  {
   "cell_type": "code",
   "execution_count": null,
   "metadata": {
    "ExecuteTime": {
     "end_time": "2018-09-11T00:15:03.731857Z",
     "start_time": "2018-09-11T00:14:44.723Z"
    }
   },
   "outputs": [],
   "source": [
    "res_j[['Close', 'Trend_20', 'y_hat']].plot()"
   ]
  },
  {
   "cell_type": "markdown",
   "metadata": {},
   "source": [
    "# Sharadar prices //\n",
    "\n",
    "> // How to manage train and validation samples?"
   ]
  },
  {
   "cell_type": "code",
   "execution_count": null,
   "metadata": {
    "ExecuteTime": {
     "end_time": "2018-09-11T00:15:03.732854Z",
     "start_time": "2018-09-11T00:14:53.172Z"
    },
    "code_folding": []
   },
   "outputs": [],
   "source": [
    "class SharadarPricesDataset(Dataset):\n",
    "    \"\"\"Sharadar Prices Dataset\"\"\"\n",
    "    def __init__(self, root_dir, min_length,\n",
    "                 features=None,\n",
    "                 targets=['Trend', 'Max_Drawdown', 'ATR', 'Bliss'],\n",
    "                 sds=[5, 10, 20, 30], min_icagr=None, \n",
    "                 transform=None):\n",
    "        \"\"\"\n",
    "        Args:\n",
    "            root_dir (str): directory with data frames: Date | OHLC.\n",
    "            transform (callable, optional): Optional transform to be applied\n",
    "                on a sample.\n",
    "        \"\"\"\n",
    "        self.root_dir = root_dir\n",
    "        self.min_length = min_length\n",
    "        self.targets = targets\n",
    "        self.features = features\n",
    "        self.sds = sds\n",
    "        self.min_icagr = min_icagr\n",
    "        self.transform = transform\n",
    "        \n",
    "        # Only series longer than min_length\n",
    "        tickers = os.listdir(root_dir)\n",
    "        lengths = [len(pd.read_feather(os.path.join(root_dir, f)))\n",
    "                   for f in tickers]\n",
    "        tickers_df = DataFrame(data={'ticker': tickers, 'length': lengths})\n",
    "        self.fnames = list(\n",
    "            tickers_df.query('length > ' + str(self.min_length)).ticker.values\n",
    "        )\n",
    "    \n",
    "    def __len__(self):\n",
    "        return len(self.fnames)\n",
    "    \n",
    "    def __getitem__(self, idx):\n",
    "        \n",
    "        f_name = os.path.join(self.root_dir,\n",
    "                              self.fnames[idx])\n",
    "        \n",
    "        df = pd.read_feather(f_name).set_index('Date')\n",
    "        \n",
    "        targets_df = pd.concat(\n",
    "            (get_trend(df, s, min_icagr=self.min_icagr, targets=self.targets)\n",
    "             for s in self.sds),\n",
    "            axis=1,\n",
    "        )\n",
    "        \n",
    "        if self.features:\n",
    "            df = df[self.features]\n",
    "        \n",
    "        sample = {'features': df, 'targets': targets_df}\n",
    "        \n",
    "        if self.transform:\n",
    "            sample = self.transform(sample)\n",
    "        \n",
    "        return sample"
   ]
  },
  {
   "cell_type": "code",
   "execution_count": null,
   "metadata": {
    "ExecuteTime": {
     "end_time": "2018-09-11T00:15:03.732854Z",
     "start_time": "2018-09-11T00:14:53.174Z"
    }
   },
   "outputs": [],
   "source": [
    "sh_train = 'input/Quandl/Sharadar/train/'\n",
    "\n",
    "sh_dataset = SharadarPricesDataset(sh_train, min_length=600, min_icagr=0.3)\n",
    "print(len(sh_dataset), 'series.')"
   ]
  },
  {
   "cell_type": "code",
   "execution_count": null,
   "metadata": {
    "ExecuteTime": {
     "end_time": "2018-09-11T00:15:03.733852Z",
     "start_time": "2018-09-11T00:14:53.176Z"
    }
   },
   "outputs": [],
   "source": [
    "sh_j = sh_dataset[2]\n",
    "print(sh_j['features'].shape, sh_j['targets'].shape)"
   ]
  },
  {
   "cell_type": "code",
   "execution_count": null,
   "metadata": {
    "ExecuteTime": {
     "end_time": "2018-09-11T00:15:03.733852Z",
     "start_time": "2018-09-11T00:14:53.178Z"
    }
   },
   "outputs": [],
   "source": [
    "sh_j['features'].head().T"
   ]
  },
  {
   "cell_type": "code",
   "execution_count": null,
   "metadata": {
    "ExecuteTime": {
     "end_time": "2018-09-11T00:15:03.733852Z",
     "start_time": "2018-09-11T00:14:53.180Z"
    }
   },
   "outputs": [],
   "source": [
    "sh_j['targets'].head().T"
   ]
  },
  {
   "cell_type": "markdown",
   "metadata": {},
   "source": [
    "## Transforms"
   ]
  },
  {
   "cell_type": "code",
   "execution_count": null,
   "metadata": {
    "ExecuteTime": {
     "end_time": "2018-09-11T00:15:03.734870Z",
     "start_time": "2018-09-11T00:14:53.182Z"
    }
   },
   "outputs": [],
   "source": [
    "# sh_train = 'input/Quandl/Sharadar/train/'\n",
    "# sh_dataset = SharadarPricesDataset(sh_train, min_length=600, min_icagr=0.3,\n",
    "#                                    transform=transforms.Compose([\n",
    "#                                        ToArray(),\n",
    "#                                        RandomCrop(500),\n",
    "#                                        StartAt(1),\n",
    "#                                        ToTensor(),\n",
    "#                                      ])\n",
    "#                                    )"
   ]
  },
  {
   "cell_type": "code",
   "execution_count": null,
   "metadata": {
    "ExecuteTime": {
     "end_time": "2018-09-11T00:15:03.734870Z",
     "start_time": "2018-09-11T00:14:53.184Z"
    }
   },
   "outputs": [],
   "source": [
    "composed = transforms.Compose([\n",
    "    ToArray(),\n",
    "    RandomCrop(300),\n",
    "    StartAt(1),\n",
    "    ToTensor()\n",
    "])\n",
    "\n",
    "sh_dataset.transform = composed\n",
    "print(len(sh_dataset), 'series.')"
   ]
  },
  {
   "cell_type": "code",
   "execution_count": null,
   "metadata": {
    "ExecuteTime": {
     "end_time": "2018-09-11T00:15:03.735846Z",
     "start_time": "2018-09-11T00:14:53.186Z"
    },
    "scrolled": true
   },
   "outputs": [],
   "source": [
    "sh_j = sh_dataset[2]\n",
    "print(sh_j['features'].size(), sh_j['targets'].size())"
   ]
  },
  {
   "cell_type": "code",
   "execution_count": null,
   "metadata": {
    "ExecuteTime": {
     "end_time": "2018-09-11T00:15:03.735846Z",
     "start_time": "2018-09-11T00:14:53.191Z"
    },
    "scrolled": false
   },
   "outputs": [],
   "source": [
    "plt.plot(sh_j['features'][:, :4].numpy());"
   ]
  },
  {
   "cell_type": "code",
   "execution_count": null,
   "metadata": {
    "ExecuteTime": {
     "end_time": "2018-09-11T00:15:03.736844Z",
     "start_time": "2018-09-11T00:14:53.192Z"
    }
   },
   "outputs": [],
   "source": [
    "plt.plot(sh_j['features'][:, 4].numpy());"
   ]
  },
  {
   "cell_type": "code",
   "execution_count": null,
   "metadata": {
    "ExecuteTime": {
     "end_time": "2018-09-11T00:15:03.737841Z",
     "start_time": "2018-09-11T00:14:53.193Z"
    }
   },
   "outputs": [],
   "source": [
    "plt.plot(sh_j['features'][:, 5:].numpy());"
   ]
  },
  {
   "cell_type": "markdown",
   "metadata": {},
   "source": [
    "## DataLoader"
   ]
  },
  {
   "cell_type": "code",
   "execution_count": null,
   "metadata": {
    "ExecuteTime": {
     "end_time": "2018-09-11T00:15:03.737841Z",
     "start_time": "2018-09-11T00:14:53.196Z"
    },
    "scrolled": true
   },
   "outputs": [],
   "source": [
    "sh_loader = DataLoader(sh_dataset, batch_size=6)\n",
    "\n",
    "for i_batch, sample_batched in enumerate(sh_loader):\n",
    "    print(i_batch, sample_batched['features'].size(),\n",
    "          sample_batched['targets'].size())\n",
    "    \n",
    "    if i_batch == 5:\n",
    "        break"
   ]
  },
  {
   "cell_type": "markdown",
   "metadata": {},
   "source": [
    "# End"
   ]
  },
  {
   "cell_type": "code",
   "execution_count": null,
   "metadata": {
    "ExecuteTime": {
     "end_time": "2018-08-04T05:57:48.683577Z",
     "start_time": "2018-08-04T05:57:48.151860Z"
    },
    "scrolled": true
   },
   "outputs": [],
   "source": [
    "df = pd.read_feather('input/Quandl/Sharadar/train/NIOBF.feather').set_index('Date')\n",
    "df = find_trends(df)"
   ]
  },
  {
   "cell_type": "code",
   "execution_count": null,
   "metadata": {
    "ExecuteTime": {
     "end_time": "2018-08-04T05:58:33.453271Z",
     "start_time": "2018-08-04T05:58:33.378468Z"
    }
   },
   "outputs": [],
   "source": [
    "df"
   ]
  },
  {
   "cell_type": "code",
   "execution_count": null,
   "metadata": {
    "ExecuteTime": {
     "end_time": "2018-08-04T05:59:07.189441Z",
     "start_time": "2018-08-04T05:59:07.138816Z"
    }
   },
   "outputs": [],
   "source": [
    "(df.Trend_End - df.Trend_Start).min()"
   ]
  },
  {
   "cell_type": "code",
   "execution_count": null,
   "metadata": {
    "ExecuteTime": {
     "end_time": "2018-08-04T05:59:33.035975Z",
     "start_time": "2018-08-04T05:59:32.706395Z"
    }
   },
   "outputs": [],
   "source": [
    "plot_trends(df)"
   ]
  },
  {
   "cell_type": "code",
   "execution_count": null,
   "metadata": {
    "ExecuteTime": {
     "end_time": "2018-08-04T06:00:37.096602Z",
     "start_time": "2018-08-04T06:00:37.052296Z"
    }
   },
   "outputs": [],
   "source": [
    "df.Ratio.dropna().sort_values()"
   ]
  },
  {
   "cell_type": "markdown",
   "metadata": {},
   "source": [
    "# TO DO:\n",
    "\n",
    "* Check why the ratio is < 0.\n",
    "* `SharadarPricesDataset` that computes data and saves it to disk on `__init__`, and only loads df on `__get_item__`."
   ]
  }
 ],
 "metadata": {
  "kernelspec": {
   "display_name": "Python 3",
   "language": "python",
   "name": "python3"
  },
  "language_info": {
   "codemirror_mode": {
    "name": "ipython",
    "version": 3
   },
   "file_extension": ".py",
   "mimetype": "text/x-python",
   "name": "python",
   "nbconvert_exporter": "python",
   "pygments_lexer": "ipython3",
   "version": "3.6.5"
  },
  "toc": {
   "base_numbering": 1,
   "nav_menu": {},
   "number_sections": true,
   "sideBar": true,
   "skip_h1_title": false,
   "title_cell": "Table of Contents",
   "title_sidebar": "Contents",
   "toc_cell": false,
   "toc_position": {},
   "toc_section_display": true,
   "toc_window_display": false
  }
 },
 "nbformat": 4,
 "nbformat_minor": 2
}
