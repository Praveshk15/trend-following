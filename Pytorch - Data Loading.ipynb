{
 "cells": [
  {
   "cell_type": "markdown",
   "metadata": {},
   "source": [
    "# Introduction\n",
    "\n",
    "See PyTorch's [Data Loading and Processing Tutorial](https://pytorch.org/tutorials/beginner/data_loading_tutorial.html)."
   ]
  },
  {
   "cell_type": "code",
   "execution_count": 1,
   "metadata": {
    "ExecuteTime": {
     "end_time": "2018-08-07T22:39:51.477869Z",
     "start_time": "2018-08-07T22:39:50.852681Z"
    }
   },
   "outputs": [],
   "source": [
    "# Put these at the top of every notebook, to get automatic reloading and inline plotting\n",
    "%reload_ext autoreload\n",
    "%autoreload 2\n",
    "%matplotlib inline"
   ]
  },
  {
   "cell_type": "code",
   "execution_count": 2,
   "metadata": {
    "ExecuteTime": {
     "end_time": "2018-08-07T22:39:52.783130Z",
     "start_time": "2018-08-07T22:39:51.480259Z"
    }
   },
   "outputs": [],
   "source": [
    "import os\n",
    "import re\n",
    "import dill as pickle\n",
    "import itertools\n",
    "from datetime import datetime\n",
    "from tqdm import tqdm_notebook\n",
    "import numpy as np\n",
    "import pandas as pd\n",
    "from pandas import Series, DataFrame\n",
    "pd.set_option('display.max_rows', 40)\n",
    "import matplotlib as mpl\n",
    "from matplotlib import pyplot as plt\n",
    "import matplotlib.transforms as mtransforms\n",
    "plt.rcParams['figure.figsize'] = [12, 4]\n",
    "\n",
    "from sklearn.metrics import confusion_matrix\n",
    "\n",
    "from utils import *"
   ]
  },
  {
   "cell_type": "code",
   "execution_count": 3,
   "metadata": {
    "ExecuteTime": {
     "end_time": "2018-08-07T22:39:53.242092Z",
     "start_time": "2018-08-07T22:39:52.785609Z"
    }
   },
   "outputs": [],
   "source": [
    "import torch\n",
    "from torch.utils.data import Dataset, DataLoader\n",
    "from torchvision import transforms\n",
    "import torch.nn as nn\n",
    "import torch.optim as optim"
   ]
  },
  {
   "cell_type": "markdown",
   "metadata": {},
   "source": [
    "# Simulated prices"
   ]
  },
  {
   "cell_type": "markdown",
   "metadata": {},
   "source": [
    "## Data Generation"
   ]
  },
  {
   "cell_type": "code",
   "execution_count": 4,
   "metadata": {
    "ExecuteTime": {
     "end_time": "2018-08-07T22:39:54.412540Z",
     "start_time": "2018-08-07T22:39:54.363379Z"
    }
   },
   "outputs": [],
   "source": [
    "def sim_path(N=500, sigma=0.35, S0=1, dt=1/250,\n",
    "             mu=[0.05, 0.05], P=np.array([[0.95, 0.05], [0.1, 0.9]]),\n",
    "             wdt_hl=2):\n",
    "    \n",
    "    # State simulation\n",
    "    state = np.random.randint(0, 2)\n",
    "    states = [state]\n",
    "    for t in range(N - 1):\n",
    "        state = int(np.random.multinomial(1, P[state, :]).argmax())\n",
    "        states.append(state)\n",
    "    \n",
    "    # Price simulation\n",
    "    drift = (np.array([mu[s] for s in states[1:]]) - 0.5 * sigma**2) * dt\n",
    "    wiener = np.random.randn(N - 1) * sigma * np.sqrt(dt)\n",
    "\n",
    "    S = S0 * np.concatenate((np.ones(1), np.exp(np.cumsum(drift + wiener))))\n",
    "    \n",
    "    res_df = DataFrame(data=dict(Close=S))\n",
    "    res_df = res_df.assign(Date = pd.date_range(start=datetime(2018, 1, 1),\n",
    "                                                periods=N, freq='D')).set_index('Date')\n",
    "    \n",
    "    res_df = res_df.assign(Open = res_df.Close.shift(-1).fillna(method='ffill') * \\\n",
    "                                    np.exp((np.random.rand(N) - 0.5) * sigma * np.sqrt(dt)))\n",
    "    \n",
    "    res_df = res_df.assign(High = res_df[['Open', 'Close']].max(axis=1) * \\\n",
    "                                np.exp(np.random.rand(N) * wdt_hl * sigma * np.sqrt(dt)),\n",
    "                           Low = res_df[['Open', 'Close']].min(axis=1) * \\\n",
    "                                np.exp(- np.random.rand(N) * wdt_hl * sigma * np.sqrt(dt)))\n",
    "\n",
    "    return res_df[['Open', 'High', 'Low', 'Close']]"
   ]
  },
  {
   "cell_type": "code",
   "execution_count": 5,
   "metadata": {
    "ExecuteTime": {
     "end_time": "2018-08-07T22:39:55.469909Z",
     "start_time": "2018-08-07T22:39:55.252427Z"
    }
   },
   "outputs": [
    {
     "data": {
      "text/html": [
       "<div>\n",
       "<style scoped>\n",
       "    .dataframe tbody tr th:only-of-type {\n",
       "        vertical-align: middle;\n",
       "    }\n",
       "\n",
       "    .dataframe tbody tr th {\n",
       "        vertical-align: top;\n",
       "    }\n",
       "\n",
       "    .dataframe thead th {\n",
       "        text-align: right;\n",
       "    }\n",
       "</style>\n",
       "<table border=\"1\" class=\"dataframe\">\n",
       "  <thead>\n",
       "    <tr style=\"text-align: right;\">\n",
       "      <th></th>\n",
       "      <th>Open</th>\n",
       "      <th>High</th>\n",
       "      <th>Low</th>\n",
       "      <th>Close</th>\n",
       "      <th>Smoothed</th>\n",
       "      <th>Trend</th>\n",
       "      <th>n_Trend</th>\n",
       "      <th>Max_Drawdown</th>\n",
       "      <th>ATR</th>\n",
       "      <th>max_TR</th>\n",
       "      <th>min_TR</th>\n",
       "      <th>Ratio</th>\n",
       "      <th>ICAGR</th>\n",
       "      <th>Bliss</th>\n",
       "      <th>Trend_Start</th>\n",
       "      <th>Trend_End</th>\n",
       "      <th>Ch</th>\n",
       "      <th>Ch2</th>\n",
       "      <th>Ch3</th>\n",
       "      <th>Ch4</th>\n",
       "    </tr>\n",
       "    <tr>\n",
       "      <th>Date</th>\n",
       "      <th></th>\n",
       "      <th></th>\n",
       "      <th></th>\n",
       "      <th></th>\n",
       "      <th></th>\n",
       "      <th></th>\n",
       "      <th></th>\n",
       "      <th></th>\n",
       "      <th></th>\n",
       "      <th></th>\n",
       "      <th></th>\n",
       "      <th></th>\n",
       "      <th></th>\n",
       "      <th></th>\n",
       "      <th></th>\n",
       "      <th></th>\n",
       "      <th></th>\n",
       "      <th></th>\n",
       "      <th></th>\n",
       "      <th></th>\n",
       "    </tr>\n",
       "  </thead>\n",
       "  <tbody>\n",
       "    <tr>\n",
       "      <th>2018-01-01</th>\n",
       "      <td>0.994739</td>\n",
       "      <td>1.039616</td>\n",
       "      <td>0.987976</td>\n",
       "      <td>1.000000</td>\n",
       "      <td>0.977322</td>\n",
       "      <td>1.0</td>\n",
       "      <td>1.0</td>\n",
       "      <td>0.149232</td>\n",
       "      <td>0.065055</td>\n",
       "      <td>0.118758</td>\n",
       "      <td>0.016359</td>\n",
       "      <td>1.248733</td>\n",
       "      <td>0.582091</td>\n",
       "      <td>3.900589</td>\n",
       "      <td>2018-01-01</td>\n",
       "      <td>2018-05-20</td>\n",
       "      <td>0.000000</td>\n",
       "      <td>0.000000e+00</td>\n",
       "      <td>0.000000e+00</td>\n",
       "      <td>0.000000e+00</td>\n",
       "    </tr>\n",
       "    <tr>\n",
       "      <th>2018-01-02</th>\n",
       "      <td>0.971798</td>\n",
       "      <td>1.002698</td>\n",
       "      <td>0.954783</td>\n",
       "      <td>0.995955</td>\n",
       "      <td>0.977348</td>\n",
       "      <td>1.0</td>\n",
       "      <td>1.0</td>\n",
       "      <td>NaN</td>\n",
       "      <td>NaN</td>\n",
       "      <td>NaN</td>\n",
       "      <td>NaN</td>\n",
       "      <td>NaN</td>\n",
       "      <td>NaN</td>\n",
       "      <td>NaN</td>\n",
       "      <td>2018-01-01</td>\n",
       "      <td>2018-05-20</td>\n",
       "      <td>-0.004053</td>\n",
       "      <td>1.642956e-05</td>\n",
       "      <td>-6.659458e-08</td>\n",
       "      <td>2.699305e-10</td>\n",
       "    </tr>\n",
       "    <tr>\n",
       "      <th>2018-01-03</th>\n",
       "      <td>1.009619</td>\n",
       "      <td>1.049435</td>\n",
       "      <td>0.976765</td>\n",
       "      <td>0.977162</td>\n",
       "      <td>0.977391</td>\n",
       "      <td>1.0</td>\n",
       "      <td>1.0</td>\n",
       "      <td>NaN</td>\n",
       "      <td>NaN</td>\n",
       "      <td>NaN</td>\n",
       "      <td>NaN</td>\n",
       "      <td>NaN</td>\n",
       "      <td>NaN</td>\n",
       "      <td>NaN</td>\n",
       "      <td>2018-01-01</td>\n",
       "      <td>2018-05-20</td>\n",
       "      <td>-0.019050</td>\n",
       "      <td>3.628986e-04</td>\n",
       "      <td>-6.913181e-06</td>\n",
       "      <td>1.316954e-07</td>\n",
       "    </tr>\n",
       "    <tr>\n",
       "      <th>2018-01-04</th>\n",
       "      <td>1.001809</td>\n",
       "      <td>1.046206</td>\n",
       "      <td>0.959566</td>\n",
       "      <td>1.013802</td>\n",
       "      <td>0.977452</td>\n",
       "      <td>1.0</td>\n",
       "      <td>1.0</td>\n",
       "      <td>NaN</td>\n",
       "      <td>NaN</td>\n",
       "      <td>NaN</td>\n",
       "      <td>NaN</td>\n",
       "      <td>NaN</td>\n",
       "      <td>NaN</td>\n",
       "      <td>NaN</td>\n",
       "      <td>2018-01-01</td>\n",
       "      <td>2018-05-20</td>\n",
       "      <td>0.036811</td>\n",
       "      <td>1.355031e-03</td>\n",
       "      <td>4.987969e-05</td>\n",
       "      <td>1.836109e-06</td>\n",
       "    </tr>\n",
       "    <tr>\n",
       "      <th>2018-01-05</th>\n",
       "      <td>1.003713</td>\n",
       "      <td>1.008949</td>\n",
       "      <td>0.988042</td>\n",
       "      <td>1.001233</td>\n",
       "      <td>0.977531</td>\n",
       "      <td>1.0</td>\n",
       "      <td>1.0</td>\n",
       "      <td>NaN</td>\n",
       "      <td>NaN</td>\n",
       "      <td>NaN</td>\n",
       "      <td>NaN</td>\n",
       "      <td>NaN</td>\n",
       "      <td>NaN</td>\n",
       "      <td>NaN</td>\n",
       "      <td>2018-01-01</td>\n",
       "      <td>2018-05-20</td>\n",
       "      <td>-0.012475</td>\n",
       "      <td>1.556380e-04</td>\n",
       "      <td>-1.941661e-06</td>\n",
       "      <td>2.422318e-08</td>\n",
       "    </tr>\n",
       "    <tr>\n",
       "      <th>2018-01-06</th>\n",
       "      <td>0.991941</td>\n",
       "      <td>1.037951</td>\n",
       "      <td>0.951376</td>\n",
       "      <td>1.001374</td>\n",
       "      <td>0.977628</td>\n",
       "      <td>1.0</td>\n",
       "      <td>1.0</td>\n",
       "      <td>NaN</td>\n",
       "      <td>NaN</td>\n",
       "      <td>NaN</td>\n",
       "      <td>NaN</td>\n",
       "      <td>NaN</td>\n",
       "      <td>NaN</td>\n",
       "      <td>NaN</td>\n",
       "      <td>2018-01-01</td>\n",
       "      <td>2018-05-20</td>\n",
       "      <td>0.000141</td>\n",
       "      <td>1.976604e-08</td>\n",
       "      <td>2.778942e-12</td>\n",
       "      <td>3.906964e-16</td>\n",
       "    </tr>\n",
       "    <tr>\n",
       "      <th>2018-01-07</th>\n",
       "      <td>0.987532</td>\n",
       "      <td>1.006431</td>\n",
       "      <td>0.973565</td>\n",
       "      <td>0.989944</td>\n",
       "      <td>0.977744</td>\n",
       "      <td>1.0</td>\n",
       "      <td>1.0</td>\n",
       "      <td>NaN</td>\n",
       "      <td>NaN</td>\n",
       "      <td>NaN</td>\n",
       "      <td>NaN</td>\n",
       "      <td>NaN</td>\n",
       "      <td>NaN</td>\n",
       "      <td>NaN</td>\n",
       "      <td>2018-01-01</td>\n",
       "      <td>2018-05-20</td>\n",
       "      <td>-0.011480</td>\n",
       "      <td>1.317813e-04</td>\n",
       "      <td>-1.512797e-06</td>\n",
       "      <td>1.736631e-08</td>\n",
       "    </tr>\n",
       "    <tr>\n",
       "      <th>2018-01-08</th>\n",
       "      <td>1.034804</td>\n",
       "      <td>1.041502</td>\n",
       "      <td>0.936010</td>\n",
       "      <td>0.976938</td>\n",
       "      <td>0.977880</td>\n",
       "      <td>1.0</td>\n",
       "      <td>1.0</td>\n",
       "      <td>NaN</td>\n",
       "      <td>NaN</td>\n",
       "      <td>NaN</td>\n",
       "      <td>NaN</td>\n",
       "      <td>NaN</td>\n",
       "      <td>NaN</td>\n",
       "      <td>NaN</td>\n",
       "      <td>2018-01-01</td>\n",
       "      <td>2018-05-20</td>\n",
       "      <td>-0.013226</td>\n",
       "      <td>1.749157e-04</td>\n",
       "      <td>-2.313360e-06</td>\n",
       "      <td>3.059551e-08</td>\n",
       "    </tr>\n",
       "    <tr>\n",
       "      <th>2018-01-09</th>\n",
       "      <td>0.961432</td>\n",
       "      <td>1.055006</td>\n",
       "      <td>0.945284</td>\n",
       "      <td>1.024255</td>\n",
       "      <td>0.978034</td>\n",
       "      <td>1.0</td>\n",
       "      <td>1.0</td>\n",
       "      <td>NaN</td>\n",
       "      <td>NaN</td>\n",
       "      <td>NaN</td>\n",
       "      <td>NaN</td>\n",
       "      <td>NaN</td>\n",
       "      <td>NaN</td>\n",
       "      <td>NaN</td>\n",
       "      <td>2018-01-01</td>\n",
       "      <td>2018-05-20</td>\n",
       "      <td>0.047298</td>\n",
       "      <td>2.237088e-03</td>\n",
       "      <td>1.058095e-04</td>\n",
       "      <td>5.004562e-06</td>\n",
       "    </tr>\n",
       "    <tr>\n",
       "      <th>2018-01-10</th>\n",
       "      <td>0.977480</td>\n",
       "      <td>0.989063</td>\n",
       "      <td>0.941853</td>\n",
       "      <td>0.966000</td>\n",
       "      <td>0.978210</td>\n",
       "      <td>1.0</td>\n",
       "      <td>1.0</td>\n",
       "      <td>NaN</td>\n",
       "      <td>NaN</td>\n",
       "      <td>NaN</td>\n",
       "      <td>NaN</td>\n",
       "      <td>NaN</td>\n",
       "      <td>NaN</td>\n",
       "      <td>NaN</td>\n",
       "      <td>2018-01-01</td>\n",
       "      <td>2018-05-20</td>\n",
       "      <td>-0.058556</td>\n",
       "      <td>3.428856e-03</td>\n",
       "      <td>-2.007816e-04</td>\n",
       "      <td>1.175705e-05</td>\n",
       "    </tr>\n",
       "    <tr>\n",
       "      <th>2018-01-11</th>\n",
       "      <td>0.955314</td>\n",
       "      <td>0.987131</td>\n",
       "      <td>0.925120</td>\n",
       "      <td>0.973147</td>\n",
       "      <td>0.978405</td>\n",
       "      <td>1.0</td>\n",
       "      <td>1.0</td>\n",
       "      <td>NaN</td>\n",
       "      <td>NaN</td>\n",
       "      <td>NaN</td>\n",
       "      <td>NaN</td>\n",
       "      <td>NaN</td>\n",
       "      <td>NaN</td>\n",
       "      <td>NaN</td>\n",
       "      <td>2018-01-01</td>\n",
       "      <td>2018-05-20</td>\n",
       "      <td>0.007371</td>\n",
       "      <td>5.432731e-05</td>\n",
       "      <td>4.004306e-07</td>\n",
       "      <td>2.951457e-09</td>\n",
       "    </tr>\n",
       "    <tr>\n",
       "      <th>2018-01-12</th>\n",
       "      <td>0.951159</td>\n",
       "      <td>0.958931</td>\n",
       "      <td>0.937674</td>\n",
       "      <td>0.958446</td>\n",
       "      <td>0.978622</td>\n",
       "      <td>1.0</td>\n",
       "      <td>1.0</td>\n",
       "      <td>NaN</td>\n",
       "      <td>NaN</td>\n",
       "      <td>NaN</td>\n",
       "      <td>NaN</td>\n",
       "      <td>NaN</td>\n",
       "      <td>NaN</td>\n",
       "      <td>NaN</td>\n",
       "      <td>2018-01-01</td>\n",
       "      <td>2018-05-20</td>\n",
       "      <td>-0.015221</td>\n",
       "      <td>2.316871e-04</td>\n",
       "      <td>-3.526573e-06</td>\n",
       "      <td>5.367892e-08</td>\n",
       "    </tr>\n",
       "    <tr>\n",
       "      <th>2018-01-13</th>\n",
       "      <td>0.933866</td>\n",
       "      <td>0.979183</td>\n",
       "      <td>0.914959</td>\n",
       "      <td>0.954340</td>\n",
       "      <td>0.978860</td>\n",
       "      <td>1.0</td>\n",
       "      <td>1.0</td>\n",
       "      <td>NaN</td>\n",
       "      <td>NaN</td>\n",
       "      <td>NaN</td>\n",
       "      <td>NaN</td>\n",
       "      <td>NaN</td>\n",
       "      <td>NaN</td>\n",
       "      <td>NaN</td>\n",
       "      <td>2018-01-01</td>\n",
       "      <td>2018-05-20</td>\n",
       "      <td>-0.004293</td>\n",
       "      <td>1.843248e-05</td>\n",
       "      <td>-7.913627e-08</td>\n",
       "      <td>3.397562e-10</td>\n",
       "    </tr>\n",
       "    <tr>\n",
       "      <th>2018-01-14</th>\n",
       "      <td>0.924506</td>\n",
       "      <td>0.942841</td>\n",
       "      <td>0.900408</td>\n",
       "      <td>0.933774</td>\n",
       "      <td>0.979120</td>\n",
       "      <td>1.0</td>\n",
       "      <td>1.0</td>\n",
       "      <td>NaN</td>\n",
       "      <td>NaN</td>\n",
       "      <td>NaN</td>\n",
       "      <td>NaN</td>\n",
       "      <td>NaN</td>\n",
       "      <td>NaN</td>\n",
       "      <td>NaN</td>\n",
       "      <td>2018-01-01</td>\n",
       "      <td>2018-05-20</td>\n",
       "      <td>-0.021786</td>\n",
       "      <td>4.746406e-04</td>\n",
       "      <td>-1.034064e-05</td>\n",
       "      <td>2.252837e-07</td>\n",
       "    </tr>\n",
       "    <tr>\n",
       "      <th>2018-01-15</th>\n",
       "      <td>0.939422</td>\n",
       "      <td>0.954118</td>\n",
       "      <td>0.897566</td>\n",
       "      <td>0.924886</td>\n",
       "      <td>0.979402</td>\n",
       "      <td>1.0</td>\n",
       "      <td>1.0</td>\n",
       "      <td>NaN</td>\n",
       "      <td>NaN</td>\n",
       "      <td>NaN</td>\n",
       "      <td>NaN</td>\n",
       "      <td>NaN</td>\n",
       "      <td>NaN</td>\n",
       "      <td>NaN</td>\n",
       "      <td>2018-01-01</td>\n",
       "      <td>2018-05-20</td>\n",
       "      <td>-0.009564</td>\n",
       "      <td>9.146369e-05</td>\n",
       "      <td>-8.747281e-07</td>\n",
       "      <td>8.365607e-09</td>\n",
       "    </tr>\n",
       "    <tr>\n",
       "      <th>2018-01-16</th>\n",
       "      <td>0.944968</td>\n",
       "      <td>0.959893</td>\n",
       "      <td>0.907856</td>\n",
       "      <td>0.935900</td>\n",
       "      <td>0.979706</td>\n",
       "      <td>1.0</td>\n",
       "      <td>1.0</td>\n",
       "      <td>NaN</td>\n",
       "      <td>NaN</td>\n",
       "      <td>NaN</td>\n",
       "      <td>NaN</td>\n",
       "      <td>NaN</td>\n",
       "      <td>NaN</td>\n",
       "      <td>NaN</td>\n",
       "      <td>2018-01-01</td>\n",
       "      <td>2018-05-20</td>\n",
       "      <td>0.011838</td>\n",
       "      <td>1.401373e-04</td>\n",
       "      <td>1.658940e-06</td>\n",
       "      <td>1.963847e-08</td>\n",
       "    </tr>\n",
       "    <tr>\n",
       "      <th>2018-01-17</th>\n",
       "      <td>0.951986</td>\n",
       "      <td>0.981697</td>\n",
       "      <td>0.947262</td>\n",
       "      <td>0.947332</td>\n",
       "      <td>0.980032</td>\n",
       "      <td>1.0</td>\n",
       "      <td>1.0</td>\n",
       "      <td>NaN</td>\n",
       "      <td>NaN</td>\n",
       "      <td>NaN</td>\n",
       "      <td>NaN</td>\n",
       "      <td>NaN</td>\n",
       "      <td>NaN</td>\n",
       "      <td>NaN</td>\n",
       "      <td>2018-01-01</td>\n",
       "      <td>2018-05-20</td>\n",
       "      <td>0.012142</td>\n",
       "      <td>1.474172e-04</td>\n",
       "      <td>1.789873e-06</td>\n",
       "      <td>2.173183e-08</td>\n",
       "    </tr>\n",
       "    <tr>\n",
       "      <th>2018-01-18</th>\n",
       "      <td>0.951154</td>\n",
       "      <td>0.977304</td>\n",
       "      <td>0.932281</td>\n",
       "      <td>0.957614</td>\n",
       "      <td>0.980380</td>\n",
       "      <td>1.0</td>\n",
       "      <td>1.0</td>\n",
       "      <td>NaN</td>\n",
       "      <td>NaN</td>\n",
       "      <td>NaN</td>\n",
       "      <td>NaN</td>\n",
       "      <td>NaN</td>\n",
       "      <td>NaN</td>\n",
       "      <td>NaN</td>\n",
       "      <td>2018-01-01</td>\n",
       "      <td>2018-05-20</td>\n",
       "      <td>0.010795</td>\n",
       "      <td>1.165408e-04</td>\n",
       "      <td>1.258105e-06</td>\n",
       "      <td>1.358176e-08</td>\n",
       "    </tr>\n",
       "    <tr>\n",
       "      <th>2018-01-19</th>\n",
       "      <td>0.950457</td>\n",
       "      <td>0.965330</td>\n",
       "      <td>0.949779</td>\n",
       "      <td>0.950674</td>\n",
       "      <td>0.980750</td>\n",
       "      <td>1.0</td>\n",
       "      <td>1.0</td>\n",
       "      <td>NaN</td>\n",
       "      <td>NaN</td>\n",
       "      <td>NaN</td>\n",
       "      <td>NaN</td>\n",
       "      <td>NaN</td>\n",
       "      <td>NaN</td>\n",
       "      <td>NaN</td>\n",
       "      <td>2018-01-01</td>\n",
       "      <td>2018-05-20</td>\n",
       "      <td>-0.007274</td>\n",
       "      <td>5.290854e-05</td>\n",
       "      <td>-3.848475e-07</td>\n",
       "      <td>2.799314e-09</td>\n",
       "    </tr>\n",
       "    <tr>\n",
       "      <th>2018-01-20</th>\n",
       "      <td>1.001753</td>\n",
       "      <td>1.040059</td>\n",
       "      <td>0.942639</td>\n",
       "      <td>0.958083</td>\n",
       "      <td>0.981140</td>\n",
       "      <td>1.0</td>\n",
       "      <td>1.0</td>\n",
       "      <td>NaN</td>\n",
       "      <td>NaN</td>\n",
       "      <td>NaN</td>\n",
       "      <td>NaN</td>\n",
       "      <td>NaN</td>\n",
       "      <td>NaN</td>\n",
       "      <td>NaN</td>\n",
       "      <td>2018-01-01</td>\n",
       "      <td>2018-05-20</td>\n",
       "      <td>0.007763</td>\n",
       "      <td>6.026312e-05</td>\n",
       "      <td>4.678186e-07</td>\n",
       "      <td>3.631644e-09</td>\n",
       "    </tr>\n",
       "    <tr>\n",
       "      <th>...</th>\n",
       "      <td>...</td>\n",
       "      <td>...</td>\n",
       "      <td>...</td>\n",
       "      <td>...</td>\n",
       "      <td>...</td>\n",
       "      <td>...</td>\n",
       "      <td>...</td>\n",
       "      <td>...</td>\n",
       "      <td>...</td>\n",
       "      <td>...</td>\n",
       "      <td>...</td>\n",
       "      <td>...</td>\n",
       "      <td>...</td>\n",
       "      <td>...</td>\n",
       "      <td>...</td>\n",
       "      <td>...</td>\n",
       "      <td>...</td>\n",
       "      <td>...</td>\n",
       "      <td>...</td>\n",
       "      <td>...</td>\n",
       "    </tr>\n",
       "    <tr>\n",
       "      <th>2019-04-26</th>\n",
       "      <td>0.849784</td>\n",
       "      <td>0.917245</td>\n",
       "      <td>0.824280</td>\n",
       "      <td>0.879729</td>\n",
       "      <td>0.860759</td>\n",
       "      <td>-1.0</td>\n",
       "      <td>4.0</td>\n",
       "      <td>NaN</td>\n",
       "      <td>NaN</td>\n",
       "      <td>NaN</td>\n",
       "      <td>NaN</td>\n",
       "      <td>NaN</td>\n",
       "      <td>NaN</td>\n",
       "      <td>NaN</td>\n",
       "      <td>2019-04-12</td>\n",
       "      <td>2019-05-15</td>\n",
       "      <td>0.011739</td>\n",
       "      <td>1.378007e-04</td>\n",
       "      <td>1.617622e-06</td>\n",
       "      <td>1.898903e-08</td>\n",
       "    </tr>\n",
       "    <tr>\n",
       "      <th>2019-04-27</th>\n",
       "      <td>0.862449</td>\n",
       "      <td>0.893526</td>\n",
       "      <td>0.820891</td>\n",
       "      <td>0.855933</td>\n",
       "      <td>0.859612</td>\n",
       "      <td>-1.0</td>\n",
       "      <td>4.0</td>\n",
       "      <td>NaN</td>\n",
       "      <td>NaN</td>\n",
       "      <td>NaN</td>\n",
       "      <td>NaN</td>\n",
       "      <td>NaN</td>\n",
       "      <td>NaN</td>\n",
       "      <td>NaN</td>\n",
       "      <td>2019-04-12</td>\n",
       "      <td>2019-05-15</td>\n",
       "      <td>-0.027421</td>\n",
       "      <td>7.519361e-04</td>\n",
       "      <td>-2.061918e-05</td>\n",
       "      <td>5.654080e-07</td>\n",
       "    </tr>\n",
       "    <tr>\n",
       "      <th>2019-04-28</th>\n",
       "      <td>0.891474</td>\n",
       "      <td>0.908567</td>\n",
       "      <td>0.858517</td>\n",
       "      <td>0.869550</td>\n",
       "      <td>0.858456</td>\n",
       "      <td>-1.0</td>\n",
       "      <td>4.0</td>\n",
       "      <td>NaN</td>\n",
       "      <td>NaN</td>\n",
       "      <td>NaN</td>\n",
       "      <td>NaN</td>\n",
       "      <td>NaN</td>\n",
       "      <td>NaN</td>\n",
       "      <td>NaN</td>\n",
       "      <td>2019-04-12</td>\n",
       "      <td>2019-05-15</td>\n",
       "      <td>0.015783</td>\n",
       "      <td>2.491048e-04</td>\n",
       "      <td>3.931636e-06</td>\n",
       "      <td>6.205322e-08</td>\n",
       "    </tr>\n",
       "    <tr>\n",
       "      <th>2019-04-29</th>\n",
       "      <td>0.883194</td>\n",
       "      <td>0.920163</td>\n",
       "      <td>0.868079</td>\n",
       "      <td>0.901381</td>\n",
       "      <td>0.857301</td>\n",
       "      <td>-1.0</td>\n",
       "      <td>4.0</td>\n",
       "      <td>NaN</td>\n",
       "      <td>NaN</td>\n",
       "      <td>NaN</td>\n",
       "      <td>NaN</td>\n",
       "      <td>NaN</td>\n",
       "      <td>NaN</td>\n",
       "      <td>NaN</td>\n",
       "      <td>2019-04-12</td>\n",
       "      <td>2019-05-15</td>\n",
       "      <td>0.035952</td>\n",
       "      <td>1.292553e-03</td>\n",
       "      <td>4.647000e-05</td>\n",
       "      <td>1.670694e-06</td>\n",
       "    </tr>\n",
       "    <tr>\n",
       "      <th>2019-04-30</th>\n",
       "      <td>0.888224</td>\n",
       "      <td>0.924117</td>\n",
       "      <td>0.878077</td>\n",
       "      <td>0.889695</td>\n",
       "      <td>0.856155</td>\n",
       "      <td>-1.0</td>\n",
       "      <td>4.0</td>\n",
       "      <td>NaN</td>\n",
       "      <td>NaN</td>\n",
       "      <td>NaN</td>\n",
       "      <td>NaN</td>\n",
       "      <td>NaN</td>\n",
       "      <td>NaN</td>\n",
       "      <td>NaN</td>\n",
       "      <td>2019-04-12</td>\n",
       "      <td>2019-05-15</td>\n",
       "      <td>-0.013049</td>\n",
       "      <td>1.702670e-04</td>\n",
       "      <td>-2.221753e-06</td>\n",
       "      <td>2.899086e-08</td>\n",
       "    </tr>\n",
       "    <tr>\n",
       "      <th>2019-05-01</th>\n",
       "      <td>0.903402</td>\n",
       "      <td>0.936551</td>\n",
       "      <td>0.857552</td>\n",
       "      <td>0.889161</td>\n",
       "      <td>0.855028</td>\n",
       "      <td>-1.0</td>\n",
       "      <td>4.0</td>\n",
       "      <td>NaN</td>\n",
       "      <td>NaN</td>\n",
       "      <td>NaN</td>\n",
       "      <td>NaN</td>\n",
       "      <td>NaN</td>\n",
       "      <td>NaN</td>\n",
       "      <td>NaN</td>\n",
       "      <td>2019-04-12</td>\n",
       "      <td>2019-05-15</td>\n",
       "      <td>-0.000601</td>\n",
       "      <td>3.609162e-07</td>\n",
       "      <td>-2.168251e-10</td>\n",
       "      <td>1.302605e-13</td>\n",
       "    </tr>\n",
       "    <tr>\n",
       "      <th>2019-05-02</th>\n",
       "      <td>0.906539</td>\n",
       "      <td>0.930014</td>\n",
       "      <td>0.900376</td>\n",
       "      <td>0.902560</td>\n",
       "      <td>0.853931</td>\n",
       "      <td>-1.0</td>\n",
       "      <td>4.0</td>\n",
       "      <td>NaN</td>\n",
       "      <td>NaN</td>\n",
       "      <td>NaN</td>\n",
       "      <td>NaN</td>\n",
       "      <td>NaN</td>\n",
       "      <td>NaN</td>\n",
       "      <td>NaN</td>\n",
       "      <td>2019-04-12</td>\n",
       "      <td>2019-05-15</td>\n",
       "      <td>0.014957</td>\n",
       "      <td>2.237185e-04</td>\n",
       "      <td>3.346208e-06</td>\n",
       "      <td>5.004997e-08</td>\n",
       "    </tr>\n",
       "    <tr>\n",
       "      <th>2019-05-03</th>\n",
       "      <td>0.861940</td>\n",
       "      <td>0.905404</td>\n",
       "      <td>0.833282</td>\n",
       "      <td>0.900642</td>\n",
       "      <td>0.852872</td>\n",
       "      <td>-1.0</td>\n",
       "      <td>4.0</td>\n",
       "      <td>NaN</td>\n",
       "      <td>NaN</td>\n",
       "      <td>NaN</td>\n",
       "      <td>NaN</td>\n",
       "      <td>NaN</td>\n",
       "      <td>NaN</td>\n",
       "      <td>NaN</td>\n",
       "      <td>2019-04-12</td>\n",
       "      <td>2019-05-15</td>\n",
       "      <td>-0.002128</td>\n",
       "      <td>4.528308e-06</td>\n",
       "      <td>-9.636160e-09</td>\n",
       "      <td>2.050558e-11</td>\n",
       "    </tr>\n",
       "    <tr>\n",
       "      <th>2019-05-04</th>\n",
       "      <td>0.821785</td>\n",
       "      <td>0.878218</td>\n",
       "      <td>0.811163</td>\n",
       "      <td>0.863734</td>\n",
       "      <td>0.851861</td>\n",
       "      <td>-1.0</td>\n",
       "      <td>4.0</td>\n",
       "      <td>NaN</td>\n",
       "      <td>NaN</td>\n",
       "      <td>NaN</td>\n",
       "      <td>NaN</td>\n",
       "      <td>NaN</td>\n",
       "      <td>NaN</td>\n",
       "      <td>NaN</td>\n",
       "      <td>2019-04-12</td>\n",
       "      <td>2019-05-15</td>\n",
       "      <td>-0.041843</td>\n",
       "      <td>1.750805e-03</td>\n",
       "      <td>-7.325828e-05</td>\n",
       "      <td>3.065318e-06</td>\n",
       "    </tr>\n",
       "    <tr>\n",
       "      <th>2019-05-05</th>\n",
       "      <td>0.790163</td>\n",
       "      <td>0.851478</td>\n",
       "      <td>0.777577</td>\n",
       "      <td>0.823170</td>\n",
       "      <td>0.850905</td>\n",
       "      <td>-1.0</td>\n",
       "      <td>4.0</td>\n",
       "      <td>NaN</td>\n",
       "      <td>NaN</td>\n",
       "      <td>NaN</td>\n",
       "      <td>NaN</td>\n",
       "      <td>NaN</td>\n",
       "      <td>NaN</td>\n",
       "      <td>NaN</td>\n",
       "      <td>2019-04-12</td>\n",
       "      <td>2019-05-15</td>\n",
       "      <td>-0.048102</td>\n",
       "      <td>2.313844e-03</td>\n",
       "      <td>-1.113015e-04</td>\n",
       "      <td>5.353872e-06</td>\n",
       "    </tr>\n",
       "    <tr>\n",
       "      <th>2019-05-06</th>\n",
       "      <td>0.785494</td>\n",
       "      <td>0.804345</td>\n",
       "      <td>0.764994</td>\n",
       "      <td>0.795011</td>\n",
       "      <td>0.850014</td>\n",
       "      <td>-1.0</td>\n",
       "      <td>4.0</td>\n",
       "      <td>NaN</td>\n",
       "      <td>NaN</td>\n",
       "      <td>NaN</td>\n",
       "      <td>NaN</td>\n",
       "      <td>NaN</td>\n",
       "      <td>NaN</td>\n",
       "      <td>NaN</td>\n",
       "      <td>2019-04-12</td>\n",
       "      <td>2019-05-15</td>\n",
       "      <td>-0.034806</td>\n",
       "      <td>1.211480e-03</td>\n",
       "      <td>-4.216714e-05</td>\n",
       "      <td>1.467683e-06</td>\n",
       "    </tr>\n",
       "    <tr>\n",
       "      <th>2019-05-07</th>\n",
       "      <td>0.788332</td>\n",
       "      <td>0.818498</td>\n",
       "      <td>0.745860</td>\n",
       "      <td>0.778639</td>\n",
       "      <td>0.849196</td>\n",
       "      <td>-1.0</td>\n",
       "      <td>4.0</td>\n",
       "      <td>NaN</td>\n",
       "      <td>NaN</td>\n",
       "      <td>NaN</td>\n",
       "      <td>NaN</td>\n",
       "      <td>NaN</td>\n",
       "      <td>NaN</td>\n",
       "      <td>NaN</td>\n",
       "      <td>2019-04-12</td>\n",
       "      <td>2019-05-15</td>\n",
       "      <td>-0.020809</td>\n",
       "      <td>4.330174e-04</td>\n",
       "      <td>-9.010688e-06</td>\n",
       "      <td>1.875040e-07</td>\n",
       "    </tr>\n",
       "    <tr>\n",
       "      <th>2019-05-08</th>\n",
       "      <td>0.784641</td>\n",
       "      <td>0.789676</td>\n",
       "      <td>0.776812</td>\n",
       "      <td>0.787016</td>\n",
       "      <td>0.848455</td>\n",
       "      <td>-1.0</td>\n",
       "      <td>4.0</td>\n",
       "      <td>NaN</td>\n",
       "      <td>NaN</td>\n",
       "      <td>NaN</td>\n",
       "      <td>NaN</td>\n",
       "      <td>NaN</td>\n",
       "      <td>NaN</td>\n",
       "      <td>NaN</td>\n",
       "      <td>2019-04-12</td>\n",
       "      <td>2019-05-15</td>\n",
       "      <td>0.010702</td>\n",
       "      <td>1.145297e-04</td>\n",
       "      <td>1.225680e-06</td>\n",
       "      <td>1.311705e-08</td>\n",
       "    </tr>\n",
       "    <tr>\n",
       "      <th>2019-05-09</th>\n",
       "      <td>0.797885</td>\n",
       "      <td>0.830887</td>\n",
       "      <td>0.775746</td>\n",
       "      <td>0.783128</td>\n",
       "      <td>0.847801</td>\n",
       "      <td>-1.0</td>\n",
       "      <td>4.0</td>\n",
       "      <td>NaN</td>\n",
       "      <td>NaN</td>\n",
       "      <td>NaN</td>\n",
       "      <td>NaN</td>\n",
       "      <td>NaN</td>\n",
       "      <td>NaN</td>\n",
       "      <td>NaN</td>\n",
       "      <td>2019-04-12</td>\n",
       "      <td>2019-05-15</td>\n",
       "      <td>-0.004953</td>\n",
       "      <td>2.452920e-05</td>\n",
       "      <td>-1.214856e-07</td>\n",
       "      <td>6.016814e-10</td>\n",
       "    </tr>\n",
       "    <tr>\n",
       "      <th>2019-05-10</th>\n",
       "      <td>0.786870</td>\n",
       "      <td>0.808039</td>\n",
       "      <td>0.761328</td>\n",
       "      <td>0.794475</td>\n",
       "      <td>0.847237</td>\n",
       "      <td>-1.0</td>\n",
       "      <td>4.0</td>\n",
       "      <td>NaN</td>\n",
       "      <td>NaN</td>\n",
       "      <td>NaN</td>\n",
       "      <td>NaN</td>\n",
       "      <td>NaN</td>\n",
       "      <td>NaN</td>\n",
       "      <td>NaN</td>\n",
       "      <td>2019-04-12</td>\n",
       "      <td>2019-05-15</td>\n",
       "      <td>0.014385</td>\n",
       "      <td>2.069406e-04</td>\n",
       "      <td>2.976930e-06</td>\n",
       "      <td>4.282442e-08</td>\n",
       "    </tr>\n",
       "    <tr>\n",
       "      <th>2019-05-11</th>\n",
       "      <td>0.789825</td>\n",
       "      <td>0.806224</td>\n",
       "      <td>0.776522</td>\n",
       "      <td>0.787604</td>\n",
       "      <td>0.846769</td>\n",
       "      <td>-1.0</td>\n",
       "      <td>4.0</td>\n",
       "      <td>NaN</td>\n",
       "      <td>NaN</td>\n",
       "      <td>NaN</td>\n",
       "      <td>NaN</td>\n",
       "      <td>NaN</td>\n",
       "      <td>NaN</td>\n",
       "      <td>NaN</td>\n",
       "      <td>2019-04-12</td>\n",
       "      <td>2019-05-15</td>\n",
       "      <td>-0.008686</td>\n",
       "      <td>7.544960e-05</td>\n",
       "      <td>-6.553683e-07</td>\n",
       "      <td>5.692642e-09</td>\n",
       "    </tr>\n",
       "    <tr>\n",
       "      <th>2019-05-12</th>\n",
       "      <td>0.795191</td>\n",
       "      <td>0.814015</td>\n",
       "      <td>0.768545</td>\n",
       "      <td>0.790774</td>\n",
       "      <td>0.846401</td>\n",
       "      <td>-1.0</td>\n",
       "      <td>4.0</td>\n",
       "      <td>NaN</td>\n",
       "      <td>NaN</td>\n",
       "      <td>NaN</td>\n",
       "      <td>NaN</td>\n",
       "      <td>NaN</td>\n",
       "      <td>NaN</td>\n",
       "      <td>NaN</td>\n",
       "      <td>2019-04-12</td>\n",
       "      <td>2019-05-15</td>\n",
       "      <td>0.004017</td>\n",
       "      <td>1.613777e-05</td>\n",
       "      <td>6.482840e-08</td>\n",
       "      <td>2.604277e-10</td>\n",
       "    </tr>\n",
       "    <tr>\n",
       "      <th>2019-05-13</th>\n",
       "      <td>0.759943</td>\n",
       "      <td>0.825657</td>\n",
       "      <td>0.735098</td>\n",
       "      <td>0.790543</td>\n",
       "      <td>0.846135</td>\n",
       "      <td>-1.0</td>\n",
       "      <td>4.0</td>\n",
       "      <td>NaN</td>\n",
       "      <td>NaN</td>\n",
       "      <td>NaN</td>\n",
       "      <td>NaN</td>\n",
       "      <td>NaN</td>\n",
       "      <td>NaN</td>\n",
       "      <td>NaN</td>\n",
       "      <td>2019-04-12</td>\n",
       "      <td>2019-05-15</td>\n",
       "      <td>-0.000292</td>\n",
       "      <td>8.536758e-08</td>\n",
       "      <td>-2.494247e-11</td>\n",
       "      <td>7.287623e-15</td>\n",
       "    </tr>\n",
       "    <tr>\n",
       "      <th>2019-05-14</th>\n",
       "      <td>0.761168</td>\n",
       "      <td>0.800194</td>\n",
       "      <td>0.754656</td>\n",
       "      <td>0.768289</td>\n",
       "      <td>0.845975</td>\n",
       "      <td>-1.0</td>\n",
       "      <td>4.0</td>\n",
       "      <td>NaN</td>\n",
       "      <td>NaN</td>\n",
       "      <td>NaN</td>\n",
       "      <td>NaN</td>\n",
       "      <td>NaN</td>\n",
       "      <td>NaN</td>\n",
       "      <td>NaN</td>\n",
       "      <td>2019-04-12</td>\n",
       "      <td>2019-05-15</td>\n",
       "      <td>-0.028555</td>\n",
       "      <td>8.153824e-04</td>\n",
       "      <td>-2.328316e-05</td>\n",
       "      <td>6.648484e-07</td>\n",
       "    </tr>\n",
       "    <tr>\n",
       "      <th>2019-05-15</th>\n",
       "      <td>0.776830</td>\n",
       "      <td>0.786018</td>\n",
       "      <td>0.764449</td>\n",
       "      <td>0.769414</td>\n",
       "      <td>0.845922</td>\n",
       "      <td>-1.0</td>\n",
       "      <td>4.0</td>\n",
       "      <td>NaN</td>\n",
       "      <td>NaN</td>\n",
       "      <td>NaN</td>\n",
       "      <td>NaN</td>\n",
       "      <td>NaN</td>\n",
       "      <td>NaN</td>\n",
       "      <td>NaN</td>\n",
       "      <td>2019-04-12</td>\n",
       "      <td>2019-05-15</td>\n",
       "      <td>0.001464</td>\n",
       "      <td>2.142410e-06</td>\n",
       "      <td>3.135840e-09</td>\n",
       "      <td>4.589920e-12</td>\n",
       "    </tr>\n",
       "  </tbody>\n",
       "</table>\n",
       "<p>500 rows × 20 columns</p>\n",
       "</div>"
      ],
      "text/plain": [
       "                Open      High       Low     Close  Smoothed  Trend  n_Trend  \\\n",
       "Date                                                                           \n",
       "2018-01-01  0.994739  1.039616  0.987976  1.000000  0.977322    1.0      1.0   \n",
       "2018-01-02  0.971798  1.002698  0.954783  0.995955  0.977348    1.0      1.0   \n",
       "2018-01-03  1.009619  1.049435  0.976765  0.977162  0.977391    1.0      1.0   \n",
       "2018-01-04  1.001809  1.046206  0.959566  1.013802  0.977452    1.0      1.0   \n",
       "2018-01-05  1.003713  1.008949  0.988042  1.001233  0.977531    1.0      1.0   \n",
       "2018-01-06  0.991941  1.037951  0.951376  1.001374  0.977628    1.0      1.0   \n",
       "2018-01-07  0.987532  1.006431  0.973565  0.989944  0.977744    1.0      1.0   \n",
       "2018-01-08  1.034804  1.041502  0.936010  0.976938  0.977880    1.0      1.0   \n",
       "2018-01-09  0.961432  1.055006  0.945284  1.024255  0.978034    1.0      1.0   \n",
       "2018-01-10  0.977480  0.989063  0.941853  0.966000  0.978210    1.0      1.0   \n",
       "2018-01-11  0.955314  0.987131  0.925120  0.973147  0.978405    1.0      1.0   \n",
       "2018-01-12  0.951159  0.958931  0.937674  0.958446  0.978622    1.0      1.0   \n",
       "2018-01-13  0.933866  0.979183  0.914959  0.954340  0.978860    1.0      1.0   \n",
       "2018-01-14  0.924506  0.942841  0.900408  0.933774  0.979120    1.0      1.0   \n",
       "2018-01-15  0.939422  0.954118  0.897566  0.924886  0.979402    1.0      1.0   \n",
       "2018-01-16  0.944968  0.959893  0.907856  0.935900  0.979706    1.0      1.0   \n",
       "2018-01-17  0.951986  0.981697  0.947262  0.947332  0.980032    1.0      1.0   \n",
       "2018-01-18  0.951154  0.977304  0.932281  0.957614  0.980380    1.0      1.0   \n",
       "2018-01-19  0.950457  0.965330  0.949779  0.950674  0.980750    1.0      1.0   \n",
       "2018-01-20  1.001753  1.040059  0.942639  0.958083  0.981140    1.0      1.0   \n",
       "...              ...       ...       ...       ...       ...    ...      ...   \n",
       "2019-04-26  0.849784  0.917245  0.824280  0.879729  0.860759   -1.0      4.0   \n",
       "2019-04-27  0.862449  0.893526  0.820891  0.855933  0.859612   -1.0      4.0   \n",
       "2019-04-28  0.891474  0.908567  0.858517  0.869550  0.858456   -1.0      4.0   \n",
       "2019-04-29  0.883194  0.920163  0.868079  0.901381  0.857301   -1.0      4.0   \n",
       "2019-04-30  0.888224  0.924117  0.878077  0.889695  0.856155   -1.0      4.0   \n",
       "2019-05-01  0.903402  0.936551  0.857552  0.889161  0.855028   -1.0      4.0   \n",
       "2019-05-02  0.906539  0.930014  0.900376  0.902560  0.853931   -1.0      4.0   \n",
       "2019-05-03  0.861940  0.905404  0.833282  0.900642  0.852872   -1.0      4.0   \n",
       "2019-05-04  0.821785  0.878218  0.811163  0.863734  0.851861   -1.0      4.0   \n",
       "2019-05-05  0.790163  0.851478  0.777577  0.823170  0.850905   -1.0      4.0   \n",
       "2019-05-06  0.785494  0.804345  0.764994  0.795011  0.850014   -1.0      4.0   \n",
       "2019-05-07  0.788332  0.818498  0.745860  0.778639  0.849196   -1.0      4.0   \n",
       "2019-05-08  0.784641  0.789676  0.776812  0.787016  0.848455   -1.0      4.0   \n",
       "2019-05-09  0.797885  0.830887  0.775746  0.783128  0.847801   -1.0      4.0   \n",
       "2019-05-10  0.786870  0.808039  0.761328  0.794475  0.847237   -1.0      4.0   \n",
       "2019-05-11  0.789825  0.806224  0.776522  0.787604  0.846769   -1.0      4.0   \n",
       "2019-05-12  0.795191  0.814015  0.768545  0.790774  0.846401   -1.0      4.0   \n",
       "2019-05-13  0.759943  0.825657  0.735098  0.790543  0.846135   -1.0      4.0   \n",
       "2019-05-14  0.761168  0.800194  0.754656  0.768289  0.845975   -1.0      4.0   \n",
       "2019-05-15  0.776830  0.786018  0.764449  0.769414  0.845922   -1.0      4.0   \n",
       "\n",
       "            Max_Drawdown       ATR    max_TR    min_TR     Ratio     ICAGR  \\\n",
       "Date                                                                         \n",
       "2018-01-01      0.149232  0.065055  0.118758  0.016359  1.248733  0.582091   \n",
       "2018-01-02           NaN       NaN       NaN       NaN       NaN       NaN   \n",
       "2018-01-03           NaN       NaN       NaN       NaN       NaN       NaN   \n",
       "2018-01-04           NaN       NaN       NaN       NaN       NaN       NaN   \n",
       "2018-01-05           NaN       NaN       NaN       NaN       NaN       NaN   \n",
       "2018-01-06           NaN       NaN       NaN       NaN       NaN       NaN   \n",
       "2018-01-07           NaN       NaN       NaN       NaN       NaN       NaN   \n",
       "2018-01-08           NaN       NaN       NaN       NaN       NaN       NaN   \n",
       "2018-01-09           NaN       NaN       NaN       NaN       NaN       NaN   \n",
       "2018-01-10           NaN       NaN       NaN       NaN       NaN       NaN   \n",
       "2018-01-11           NaN       NaN       NaN       NaN       NaN       NaN   \n",
       "2018-01-12           NaN       NaN       NaN       NaN       NaN       NaN   \n",
       "2018-01-13           NaN       NaN       NaN       NaN       NaN       NaN   \n",
       "2018-01-14           NaN       NaN       NaN       NaN       NaN       NaN   \n",
       "2018-01-15           NaN       NaN       NaN       NaN       NaN       NaN   \n",
       "2018-01-16           NaN       NaN       NaN       NaN       NaN       NaN   \n",
       "2018-01-17           NaN       NaN       NaN       NaN       NaN       NaN   \n",
       "2018-01-18           NaN       NaN       NaN       NaN       NaN       NaN   \n",
       "2018-01-19           NaN       NaN       NaN       NaN       NaN       NaN   \n",
       "2018-01-20           NaN       NaN       NaN       NaN       NaN       NaN   \n",
       "...                  ...       ...       ...       ...       ...       ...   \n",
       "2019-04-26           NaN       NaN       NaN       NaN       NaN       NaN   \n",
       "2019-04-27           NaN       NaN       NaN       NaN       NaN       NaN   \n",
       "2019-04-28           NaN       NaN       NaN       NaN       NaN       NaN   \n",
       "2019-04-29           NaN       NaN       NaN       NaN       NaN       NaN   \n",
       "2019-04-30           NaN       NaN       NaN       NaN       NaN       NaN   \n",
       "2019-05-01           NaN       NaN       NaN       NaN       NaN       NaN   \n",
       "2019-05-02           NaN       NaN       NaN       NaN       NaN       NaN   \n",
       "2019-05-03           NaN       NaN       NaN       NaN       NaN       NaN   \n",
       "2019-05-04           NaN       NaN       NaN       NaN       NaN       NaN   \n",
       "2019-05-05           NaN       NaN       NaN       NaN       NaN       NaN   \n",
       "2019-05-06           NaN       NaN       NaN       NaN       NaN       NaN   \n",
       "2019-05-07           NaN       NaN       NaN       NaN       NaN       NaN   \n",
       "2019-05-08           NaN       NaN       NaN       NaN       NaN       NaN   \n",
       "2019-05-09           NaN       NaN       NaN       NaN       NaN       NaN   \n",
       "2019-05-10           NaN       NaN       NaN       NaN       NaN       NaN   \n",
       "2019-05-11           NaN       NaN       NaN       NaN       NaN       NaN   \n",
       "2019-05-12           NaN       NaN       NaN       NaN       NaN       NaN   \n",
       "2019-05-13           NaN       NaN       NaN       NaN       NaN       NaN   \n",
       "2019-05-14           NaN       NaN       NaN       NaN       NaN       NaN   \n",
       "2019-05-15           NaN       NaN       NaN       NaN       NaN       NaN   \n",
       "\n",
       "               Bliss Trend_Start  Trend_End        Ch           Ch2  \\\n",
       "Date                                                                  \n",
       "2018-01-01  3.900589  2018-01-01 2018-05-20  0.000000  0.000000e+00   \n",
       "2018-01-02       NaN  2018-01-01 2018-05-20 -0.004053  1.642956e-05   \n",
       "2018-01-03       NaN  2018-01-01 2018-05-20 -0.019050  3.628986e-04   \n",
       "2018-01-04       NaN  2018-01-01 2018-05-20  0.036811  1.355031e-03   \n",
       "2018-01-05       NaN  2018-01-01 2018-05-20 -0.012475  1.556380e-04   \n",
       "2018-01-06       NaN  2018-01-01 2018-05-20  0.000141  1.976604e-08   \n",
       "2018-01-07       NaN  2018-01-01 2018-05-20 -0.011480  1.317813e-04   \n",
       "2018-01-08       NaN  2018-01-01 2018-05-20 -0.013226  1.749157e-04   \n",
       "2018-01-09       NaN  2018-01-01 2018-05-20  0.047298  2.237088e-03   \n",
       "2018-01-10       NaN  2018-01-01 2018-05-20 -0.058556  3.428856e-03   \n",
       "2018-01-11       NaN  2018-01-01 2018-05-20  0.007371  5.432731e-05   \n",
       "2018-01-12       NaN  2018-01-01 2018-05-20 -0.015221  2.316871e-04   \n",
       "2018-01-13       NaN  2018-01-01 2018-05-20 -0.004293  1.843248e-05   \n",
       "2018-01-14       NaN  2018-01-01 2018-05-20 -0.021786  4.746406e-04   \n",
       "2018-01-15       NaN  2018-01-01 2018-05-20 -0.009564  9.146369e-05   \n",
       "2018-01-16       NaN  2018-01-01 2018-05-20  0.011838  1.401373e-04   \n",
       "2018-01-17       NaN  2018-01-01 2018-05-20  0.012142  1.474172e-04   \n",
       "2018-01-18       NaN  2018-01-01 2018-05-20  0.010795  1.165408e-04   \n",
       "2018-01-19       NaN  2018-01-01 2018-05-20 -0.007274  5.290854e-05   \n",
       "2018-01-20       NaN  2018-01-01 2018-05-20  0.007763  6.026312e-05   \n",
       "...              ...         ...        ...       ...           ...   \n",
       "2019-04-26       NaN  2019-04-12 2019-05-15  0.011739  1.378007e-04   \n",
       "2019-04-27       NaN  2019-04-12 2019-05-15 -0.027421  7.519361e-04   \n",
       "2019-04-28       NaN  2019-04-12 2019-05-15  0.015783  2.491048e-04   \n",
       "2019-04-29       NaN  2019-04-12 2019-05-15  0.035952  1.292553e-03   \n",
       "2019-04-30       NaN  2019-04-12 2019-05-15 -0.013049  1.702670e-04   \n",
       "2019-05-01       NaN  2019-04-12 2019-05-15 -0.000601  3.609162e-07   \n",
       "2019-05-02       NaN  2019-04-12 2019-05-15  0.014957  2.237185e-04   \n",
       "2019-05-03       NaN  2019-04-12 2019-05-15 -0.002128  4.528308e-06   \n",
       "2019-05-04       NaN  2019-04-12 2019-05-15 -0.041843  1.750805e-03   \n",
       "2019-05-05       NaN  2019-04-12 2019-05-15 -0.048102  2.313844e-03   \n",
       "2019-05-06       NaN  2019-04-12 2019-05-15 -0.034806  1.211480e-03   \n",
       "2019-05-07       NaN  2019-04-12 2019-05-15 -0.020809  4.330174e-04   \n",
       "2019-05-08       NaN  2019-04-12 2019-05-15  0.010702  1.145297e-04   \n",
       "2019-05-09       NaN  2019-04-12 2019-05-15 -0.004953  2.452920e-05   \n",
       "2019-05-10       NaN  2019-04-12 2019-05-15  0.014385  2.069406e-04   \n",
       "2019-05-11       NaN  2019-04-12 2019-05-15 -0.008686  7.544960e-05   \n",
       "2019-05-12       NaN  2019-04-12 2019-05-15  0.004017  1.613777e-05   \n",
       "2019-05-13       NaN  2019-04-12 2019-05-15 -0.000292  8.536758e-08   \n",
       "2019-05-14       NaN  2019-04-12 2019-05-15 -0.028555  8.153824e-04   \n",
       "2019-05-15       NaN  2019-04-12 2019-05-15  0.001464  2.142410e-06   \n",
       "\n",
       "                     Ch3           Ch4  \n",
       "Date                                    \n",
       "2018-01-01  0.000000e+00  0.000000e+00  \n",
       "2018-01-02 -6.659458e-08  2.699305e-10  \n",
       "2018-01-03 -6.913181e-06  1.316954e-07  \n",
       "2018-01-04  4.987969e-05  1.836109e-06  \n",
       "2018-01-05 -1.941661e-06  2.422318e-08  \n",
       "2018-01-06  2.778942e-12  3.906964e-16  \n",
       "2018-01-07 -1.512797e-06  1.736631e-08  \n",
       "2018-01-08 -2.313360e-06  3.059551e-08  \n",
       "2018-01-09  1.058095e-04  5.004562e-06  \n",
       "2018-01-10 -2.007816e-04  1.175705e-05  \n",
       "2018-01-11  4.004306e-07  2.951457e-09  \n",
       "2018-01-12 -3.526573e-06  5.367892e-08  \n",
       "2018-01-13 -7.913627e-08  3.397562e-10  \n",
       "2018-01-14 -1.034064e-05  2.252837e-07  \n",
       "2018-01-15 -8.747281e-07  8.365607e-09  \n",
       "2018-01-16  1.658940e-06  1.963847e-08  \n",
       "2018-01-17  1.789873e-06  2.173183e-08  \n",
       "2018-01-18  1.258105e-06  1.358176e-08  \n",
       "2018-01-19 -3.848475e-07  2.799314e-09  \n",
       "2018-01-20  4.678186e-07  3.631644e-09  \n",
       "...                  ...           ...  \n",
       "2019-04-26  1.617622e-06  1.898903e-08  \n",
       "2019-04-27 -2.061918e-05  5.654080e-07  \n",
       "2019-04-28  3.931636e-06  6.205322e-08  \n",
       "2019-04-29  4.647000e-05  1.670694e-06  \n",
       "2019-04-30 -2.221753e-06  2.899086e-08  \n",
       "2019-05-01 -2.168251e-10  1.302605e-13  \n",
       "2019-05-02  3.346208e-06  5.004997e-08  \n",
       "2019-05-03 -9.636160e-09  2.050558e-11  \n",
       "2019-05-04 -7.325828e-05  3.065318e-06  \n",
       "2019-05-05 -1.113015e-04  5.353872e-06  \n",
       "2019-05-06 -4.216714e-05  1.467683e-06  \n",
       "2019-05-07 -9.010688e-06  1.875040e-07  \n",
       "2019-05-08  1.225680e-06  1.311705e-08  \n",
       "2019-05-09 -1.214856e-07  6.016814e-10  \n",
       "2019-05-10  2.976930e-06  4.282442e-08  \n",
       "2019-05-11 -6.553683e-07  5.692642e-09  \n",
       "2019-05-12  6.482840e-08  2.604277e-10  \n",
       "2019-05-13 -2.494247e-11  7.287623e-15  \n",
       "2019-05-14 -2.328316e-05  6.648484e-07  \n",
       "2019-05-15  3.135840e-09  4.589920e-12  \n",
       "\n",
       "[500 rows x 20 columns]"
      ]
     },
     "execution_count": 5,
     "metadata": {},
     "output_type": "execute_result"
    }
   ],
   "source": [
    "price_df = add_changes(clean_trends(find_trends(sim_path())))\n",
    "price_df"
   ]
  },
  {
   "cell_type": "code",
   "execution_count": 6,
   "metadata": {
    "ExecuteTime": {
     "end_time": "2018-08-07T22:39:56.111658Z",
     "start_time": "2018-08-07T22:39:55.725871Z"
    },
    "scrolled": false
   },
   "outputs": [
    {
     "data": {
      "image/png": "[encoded data removed]",
      "text/plain": [
       "<Figure size 1152x360 with 1 Axes>"
      ]
     },
     "metadata": {},
     "output_type": "display_data"
    }
   ],
   "source": [
    "plot_trends(price_df)"
   ]
  },
  {
   "cell_type": "markdown",
   "metadata": {},
   "source": [
    "## Dataset Class"
   ]
  },
  {
   "cell_type": "code",
   "execution_count": 7,
   "metadata": {
    "ExecuteTime": {
     "end_time": "2018-08-07T22:40:04.022586Z",
     "start_time": "2018-08-07T22:40:03.979622Z"
    }
   },
   "outputs": [],
   "source": [
    "def get_trend(df, sd, min_icagr=None,\n",
    "              targets=['Trend', 'Max_Drawdown', 'ICAGR', 'Bliss']):\n",
    "\n",
    "    t_df = find_trends(df, sd)\n",
    "    if min_icagr:\n",
    "        t_df = clean_trends(t_df)\n",
    "\n",
    "    t_df = t_df.loc[:, targets]\n",
    "    if 'Trend' in targets:\n",
    "        t_df.Trend = t_df.Trend.add(1).astype(np.long)  # 0 = Down, 1 = No Trend, 2 = Up.\n",
    "    t_df = t_df.rename({t: t + '_' + str(sd) for t in targets}, axis=1)\n",
    "    \n",
    "    return t_df"
   ]
  },
  {
   "cell_type": "code",
   "execution_count": 8,
   "metadata": {
    "ExecuteTime": {
     "end_time": "2018-08-07T22:40:04.563987Z",
     "start_time": "2018-08-07T22:40:04.515412Z"
    }
   },
   "outputs": [],
   "source": [
    "class SimulatedPricesDataset(Dataset):\n",
    "    \"\"\"Simulated Prices Dataset\"\"\"\n",
    "    def __init__(self, N, sim_fun, \n",
    "                 features=None,\n",
    "                 targets=['Trend', 'Max_Drawdown', 'ATR', 'Bliss'],\n",
    "                 sds=[5, 10, 20, 30], min_icagr=None,\n",
    "                 Ch=None,\n",
    "                 tech_windows=None,\n",
    "                 transform=None):\n",
    "        \"\"\"\n",
    "        Args:\n",
    "            N (int): number of prices to simulate.\n",
    "            sim_fun: function that returns a simulated price DataFrame: Date | OHLC.\n",
    "            transform (callable, optional): Optional transform to be applied\n",
    "                on a sample.\n",
    "        \"\"\"\n",
    "        self.N = N\n",
    "        self.sim_fun = sim_fun\n",
    "        self.targets = targets\n",
    "        self.features = features\n",
    "        self.sds = sds\n",
    "        self.min_icagr = min_icagr\n",
    "        self.Ch = Ch\n",
    "        self.tech_windows = tech_windows\n",
    "        self.transform = transform\n",
    "        self.samples = []\n",
    "        \n",
    "        for i in tqdm_notebook(range(N)):\n",
    "            sim_df = self.sim_fun()\n",
    "        \n",
    "            targets_df = pd.concat(\n",
    "                (get_trend(sim_df, s, min_icagr=self.min_icagr, targets=self.targets)\n",
    "                 for s in self.sds),\n",
    "                axis=1,\n",
    "            )\n",
    "\n",
    "            if self.tech_windows:\n",
    "                sim_df = add_technical(add_changes(sim_df), windows=self.tech_windows)\n",
    "            elif self.Ch:\n",
    "                sim_df = add_changes(sim_df)\n",
    "\n",
    "            if self.features:\n",
    "                sim_df = sim_df[self.features]\n",
    "\n",
    "            sample = {'features': sim_df, 'targets': targets_df}\n",
    "            self.samples.append(sample)\n",
    "        \n",
    "        self.n_features = self.samples[0]['features'].shape[1]\n",
    "        self.n_targets = self.samples[0]['targets'].shape[1]\n",
    "        self.features_columns = self.samples[0]['features'].columns\n",
    "        self.targets_columns = self.samples[0]['targets'].columns\n",
    "    \n",
    "    \n",
    "    def __len__(self):\n",
    "        return self.N\n",
    "    \n",
    "    \n",
    "    def __getitem__(self, idx):\n",
    "        sample = self.samples[idx]\n",
    "        \n",
    "        if self.transform:\n",
    "            sample = self.transform(sample)\n",
    "        \n",
    "        return sample"
   ]
  },
  {
   "cell_type": "code",
   "execution_count": 9,
   "metadata": {
    "ExecuteTime": {
     "end_time": "2018-08-07T22:40:07.269326Z",
     "start_time": "2018-08-07T22:40:05.197764Z"
    }
   },
   "outputs": [
    {
     "data": {
      "application/vnd.jupyter.widget-view+json": {
       "model_id": "a20a8c9ed6ad41da8d8b1d2b27620d4b",
       "version_major": 2,
       "version_minor": 0
      },
      "text/plain": [
       "HBox(children=(IntProgress(value=0, max=10), HTML(value='')))"
      ]
     },
     "metadata": {},
     "output_type": "display_data"
    },
    {
     "name": "stdout",
     "output_type": "stream",
     "text": [
      "\n"
     ]
    }
   ],
   "source": [
    "sim_dataset = SimulatedPricesDataset(10, lambda: sim_path(N=800),\n",
    "                                     targets=['Trend'], sds = [20],\n",
    "                                     min_icagr=0.3, tech_windows=[30, 100])"
   ]
  },
  {
   "cell_type": "code",
   "execution_count": 10,
   "metadata": {
    "ExecuteTime": {
     "end_time": "2018-08-07T22:40:08.518800Z",
     "start_time": "2018-08-07T22:40:08.476269Z"
    }
   },
   "outputs": [
    {
     "data": {
      "text/plain": [
       "(20, 1)"
      ]
     },
     "execution_count": 10,
     "metadata": {},
     "output_type": "execute_result"
    }
   ],
   "source": [
    "sim_dataset.n_features, sim_dataset.n_targets"
   ]
  },
  {
   "cell_type": "code",
   "execution_count": 11,
   "metadata": {
    "ExecuteTime": {
     "end_time": "2018-08-07T22:40:09.134719Z",
     "start_time": "2018-08-07T22:40:09.092705Z"
    },
    "scrolled": true
   },
   "outputs": [
    {
     "name": "stdout",
     "output_type": "stream",
     "text": [
      "(800, 20) (800, 1)\n"
     ]
    }
   ],
   "source": [
    "sim_j = sim_dataset[2]\n",
    "print(sim_j['features'].shape, sim_j['targets'].shape)"
   ]
  },
  {
   "cell_type": "code",
   "execution_count": 12,
   "metadata": {
    "ExecuteTime": {
     "end_time": "2018-08-07T22:40:09.966618Z",
     "start_time": "2018-08-07T22:40:09.922754Z"
    }
   },
   "outputs": [
    {
     "data": {
      "text/plain": [
       "Index(['Open', 'High', 'Low', 'Close', 'Ch', 'Ch2', 'Ch3', 'Ch4', 'SMA_30',\n",
       "       'SMA_100', 'sigma2_SMA_30', 'sigma2_SMA_100', 'skew_SMA_30',\n",
       "       'skew_SMA_100', 'kurt_SMA_30', 'kurt_SMA_100', 'Support_30',\n",
       "       'Support_100', 'Resistance_30', 'Resistance_100'],\n",
       "      dtype='object')"
      ]
     },
     "execution_count": 12,
     "metadata": {},
     "output_type": "execute_result"
    }
   ],
   "source": [
    "sim_j['features'].columns"
   ]
  },
  {
   "cell_type": "code",
   "execution_count": 13,
   "metadata": {
    "ExecuteTime": {
     "end_time": "2018-08-07T22:40:11.734738Z",
     "start_time": "2018-08-07T22:40:11.676061Z"
    },
    "scrolled": true
   },
   "outputs": [
    {
     "data": {
      "text/html": [
       "<div>\n",
       "<style scoped>\n",
       "    .dataframe tbody tr th:only-of-type {\n",
       "        vertical-align: middle;\n",
       "    }\n",
       "\n",
       "    .dataframe tbody tr th {\n",
       "        vertical-align: top;\n",
       "    }\n",
       "\n",
       "    .dataframe thead th {\n",
       "        text-align: right;\n",
       "    }\n",
       "</style>\n",
       "<table border=\"1\" class=\"dataframe\">\n",
       "  <thead>\n",
       "    <tr style=\"text-align: right;\">\n",
       "      <th>Date</th>\n",
       "      <th>2018-01-01 00:00:00</th>\n",
       "      <th>2018-01-02 00:00:00</th>\n",
       "      <th>2018-01-03 00:00:00</th>\n",
       "      <th>2018-01-04 00:00:00</th>\n",
       "      <th>2018-01-05 00:00:00</th>\n",
       "    </tr>\n",
       "  </thead>\n",
       "  <tbody>\n",
       "    <tr>\n",
       "      <th>Open</th>\n",
       "      <td>1.000519</td>\n",
       "      <td>1.011577e+00</td>\n",
       "      <td>1.016253e+00</td>\n",
       "      <td>1.025132e+00</td>\n",
       "      <td>9.842086e-01</td>\n",
       "    </tr>\n",
       "    <tr>\n",
       "      <th>High</th>\n",
       "      <td>1.036294</td>\n",
       "      <td>1.039560e+00</td>\n",
       "      <td>1.023625e+00</td>\n",
       "      <td>1.030857e+00</td>\n",
       "      <td>1.060112e+00</td>\n",
       "    </tr>\n",
       "    <tr>\n",
       "      <th>Low</th>\n",
       "      <td>0.963654</td>\n",
       "      <td>9.884338e-01</td>\n",
       "      <td>9.793427e-01</td>\n",
       "      <td>9.670523e-01</td>\n",
       "      <td>9.811258e-01</td>\n",
       "    </tr>\n",
       "    <tr>\n",
       "      <th>Close</th>\n",
       "      <td>1.000000</td>\n",
       "      <td>9.911027e-01</td>\n",
       "      <td>1.011484e+00</td>\n",
       "      <td>1.010153e+00</td>\n",
       "      <td>1.024588e+00</td>\n",
       "    </tr>\n",
       "    <tr>\n",
       "      <th>Ch</th>\n",
       "      <td>0.000000</td>\n",
       "      <td>-8.937080e-03</td>\n",
       "      <td>2.035539e-02</td>\n",
       "      <td>-1.316144e-03</td>\n",
       "      <td>1.418886e-02</td>\n",
       "    </tr>\n",
       "    <tr>\n",
       "      <th>Ch2</th>\n",
       "      <td>0.000000</td>\n",
       "      <td>7.987140e-05</td>\n",
       "      <td>4.143421e-04</td>\n",
       "      <td>1.732234e-06</td>\n",
       "      <td>2.013237e-04</td>\n",
       "    </tr>\n",
       "    <tr>\n",
       "      <th>Ch3</th>\n",
       "      <td>0.000000</td>\n",
       "      <td>-7.138171e-07</td>\n",
       "      <td>8.434097e-06</td>\n",
       "      <td>-2.279868e-09</td>\n",
       "      <td>2.856553e-06</td>\n",
       "    </tr>\n",
       "    <tr>\n",
       "      <th>Ch4</th>\n",
       "      <td>0.000000</td>\n",
       "      <td>6.379440e-09</td>\n",
       "      <td>1.716794e-07</td>\n",
       "      <td>3.000634e-12</td>\n",
       "      <td>4.053122e-08</td>\n",
       "    </tr>\n",
       "    <tr>\n",
       "      <th>SMA_30</th>\n",
       "      <td>1.000000</td>\n",
       "      <td>9.955514e-01</td>\n",
       "      <td>1.000862e+00</td>\n",
       "      <td>1.003185e+00</td>\n",
       "      <td>1.007466e+00</td>\n",
       "    </tr>\n",
       "    <tr>\n",
       "      <th>SMA_100</th>\n",
       "      <td>1.000000</td>\n",
       "      <td>9.955514e-01</td>\n",
       "      <td>1.000862e+00</td>\n",
       "      <td>1.003185e+00</td>\n",
       "      <td>1.007466e+00</td>\n",
       "    </tr>\n",
       "    <tr>\n",
       "      <th>sigma2_SMA_30</th>\n",
       "      <td>0.000000</td>\n",
       "      <td>3.993570e-05</td>\n",
       "      <td>1.647378e-04</td>\n",
       "      <td>1.239864e-04</td>\n",
       "      <td>1.394539e-04</td>\n",
       "    </tr>\n",
       "    <tr>\n",
       "      <th>sigma2_SMA_100</th>\n",
       "      <td>0.000000</td>\n",
       "      <td>3.993570e-05</td>\n",
       "      <td>1.647378e-04</td>\n",
       "      <td>1.239864e-04</td>\n",
       "      <td>1.394539e-04</td>\n",
       "    </tr>\n",
       "    <tr>\n",
       "      <th>skew_SMA_30</th>\n",
       "      <td>-1.414214</td>\n",
       "      <td>-1.414214e+00</td>\n",
       "      <td>1.217087e+00</td>\n",
       "      <td>1.397602e+00</td>\n",
       "      <td>1.284240e+00</td>\n",
       "    </tr>\n",
       "    <tr>\n",
       "      <th>skew_SMA_100</th>\n",
       "      <td>-1.414214</td>\n",
       "      <td>-1.414214e+00</td>\n",
       "      <td>1.217087e+00</td>\n",
       "      <td>1.397602e+00</td>\n",
       "      <td>1.284240e+00</td>\n",
       "    </tr>\n",
       "    <tr>\n",
       "      <th>kurt_SMA_30</th>\n",
       "      <td>-1.000000</td>\n",
       "      <td>-1.000000e+00</td>\n",
       "      <td>-8.129660e-01</td>\n",
       "      <td>-1.042406e-01</td>\n",
       "      <td>-7.519544e-01</td>\n",
       "    </tr>\n",
       "    <tr>\n",
       "      <th>kurt_SMA_100</th>\n",
       "      <td>-1.000000</td>\n",
       "      <td>-1.000000e+00</td>\n",
       "      <td>-8.129660e-01</td>\n",
       "      <td>-1.042406e-01</td>\n",
       "      <td>-7.519544e-01</td>\n",
       "    </tr>\n",
       "    <tr>\n",
       "      <th>Support_30</th>\n",
       "      <td>0.963654</td>\n",
       "      <td>9.636542e-01</td>\n",
       "      <td>9.636542e-01</td>\n",
       "      <td>9.636542e-01</td>\n",
       "      <td>9.636542e-01</td>\n",
       "    </tr>\n",
       "    <tr>\n",
       "      <th>Support_100</th>\n",
       "      <td>0.963654</td>\n",
       "      <td>9.636542e-01</td>\n",
       "      <td>9.636542e-01</td>\n",
       "      <td>9.636542e-01</td>\n",
       "      <td>9.636542e-01</td>\n",
       "    </tr>\n",
       "    <tr>\n",
       "      <th>Resistance_30</th>\n",
       "      <td>1.036294</td>\n",
       "      <td>1.039560e+00</td>\n",
       "      <td>1.039560e+00</td>\n",
       "      <td>1.039560e+00</td>\n",
       "      <td>1.060112e+00</td>\n",
       "    </tr>\n",
       "    <tr>\n",
       "      <th>Resistance_100</th>\n",
       "      <td>1.036294</td>\n",
       "      <td>1.039560e+00</td>\n",
       "      <td>1.039560e+00</td>\n",
       "      <td>1.039560e+00</td>\n",
       "      <td>1.060112e+00</td>\n",
       "    </tr>\n",
       "  </tbody>\n",
       "</table>\n",
       "</div>"
      ],
      "text/plain": [
       "Date            2018-01-01    2018-01-02    2018-01-03    2018-01-04  \\\n",
       "Open              1.000519  1.011577e+00  1.016253e+00  1.025132e+00   \n",
       "High              1.036294  1.039560e+00  1.023625e+00  1.030857e+00   \n",
       "Low               0.963654  9.884338e-01  9.793427e-01  9.670523e-01   \n",
       "Close             1.000000  9.911027e-01  1.011484e+00  1.010153e+00   \n",
       "Ch                0.000000 -8.937080e-03  2.035539e-02 -1.316144e-03   \n",
       "Ch2               0.000000  7.987140e-05  4.143421e-04  1.732234e-06   \n",
       "Ch3               0.000000 -7.138171e-07  8.434097e-06 -2.279868e-09   \n",
       "Ch4               0.000000  6.379440e-09  1.716794e-07  3.000634e-12   \n",
       "SMA_30            1.000000  9.955514e-01  1.000862e+00  1.003185e+00   \n",
       "SMA_100           1.000000  9.955514e-01  1.000862e+00  1.003185e+00   \n",
       "sigma2_SMA_30     0.000000  3.993570e-05  1.647378e-04  1.239864e-04   \n",
       "sigma2_SMA_100    0.000000  3.993570e-05  1.647378e-04  1.239864e-04   \n",
       "skew_SMA_30      -1.414214 -1.414214e+00  1.217087e+00  1.397602e+00   \n",
       "skew_SMA_100     -1.414214 -1.414214e+00  1.217087e+00  1.397602e+00   \n",
       "kurt_SMA_30      -1.000000 -1.000000e+00 -8.129660e-01 -1.042406e-01   \n",
       "kurt_SMA_100     -1.000000 -1.000000e+00 -8.129660e-01 -1.042406e-01   \n",
       "Support_30        0.963654  9.636542e-01  9.636542e-01  9.636542e-01   \n",
       "Support_100       0.963654  9.636542e-01  9.636542e-01  9.636542e-01   \n",
       "Resistance_30     1.036294  1.039560e+00  1.039560e+00  1.039560e+00   \n",
       "Resistance_100    1.036294  1.039560e+00  1.039560e+00  1.039560e+00   \n",
       "\n",
       "Date              2018-01-05  \n",
       "Open            9.842086e-01  \n",
       "High            1.060112e+00  \n",
       "Low             9.811258e-01  \n",
       "Close           1.024588e+00  \n",
       "Ch              1.418886e-02  \n",
       "Ch2             2.013237e-04  \n",
       "Ch3             2.856553e-06  \n",
       "Ch4             4.053122e-08  \n",
       "SMA_30          1.007466e+00  \n",
       "SMA_100         1.007466e+00  \n",
       "sigma2_SMA_30   1.394539e-04  \n",
       "sigma2_SMA_100  1.394539e-04  \n",
       "skew_SMA_30     1.284240e+00  \n",
       "skew_SMA_100    1.284240e+00  \n",
       "kurt_SMA_30    -7.519544e-01  \n",
       "kurt_SMA_100   -7.519544e-01  \n",
       "Support_30      9.636542e-01  \n",
       "Support_100     9.636542e-01  \n",
       "Resistance_30   1.060112e+00  \n",
       "Resistance_100  1.060112e+00  "
      ]
     },
     "execution_count": 13,
     "metadata": {},
     "output_type": "execute_result"
    }
   ],
   "source": [
    "sim_j['features'].head().T"
   ]
  },
  {
   "cell_type": "code",
   "execution_count": 14,
   "metadata": {
    "ExecuteTime": {
     "end_time": "2018-08-07T22:40:12.156222Z",
     "start_time": "2018-08-07T22:40:12.097267Z"
    }
   },
   "outputs": [
    {
     "data": {
      "text/html": [
       "<div>\n",
       "<style scoped>\n",
       "    .dataframe tbody tr th:only-of-type {\n",
       "        vertical-align: middle;\n",
       "    }\n",
       "\n",
       "    .dataframe tbody tr th {\n",
       "        vertical-align: top;\n",
       "    }\n",
       "\n",
       "    .dataframe thead th {\n",
       "        text-align: right;\n",
       "    }\n",
       "</style>\n",
       "<table border=\"1\" class=\"dataframe\">\n",
       "  <thead>\n",
       "    <tr style=\"text-align: right;\">\n",
       "      <th>Date</th>\n",
       "      <th>2018-01-01 00:00:00</th>\n",
       "      <th>2018-01-02 00:00:00</th>\n",
       "      <th>2018-01-03 00:00:00</th>\n",
       "      <th>2018-01-04 00:00:00</th>\n",
       "      <th>2018-01-05 00:00:00</th>\n",
       "    </tr>\n",
       "  </thead>\n",
       "  <tbody>\n",
       "    <tr>\n",
       "      <th>Trend_20</th>\n",
       "      <td>2</td>\n",
       "      <td>2</td>\n",
       "      <td>2</td>\n",
       "      <td>2</td>\n",
       "      <td>2</td>\n",
       "    </tr>\n",
       "  </tbody>\n",
       "</table>\n",
       "</div>"
      ],
      "text/plain": [
       "Date      2018-01-01  2018-01-02  2018-01-03  2018-01-04  2018-01-05\n",
       "Trend_20           2           2           2           2           2"
      ]
     },
     "execution_count": 14,
     "metadata": {},
     "output_type": "execute_result"
    }
   ],
   "source": [
    "sim_j['targets'].head().T"
   ]
  },
  {
   "cell_type": "markdown",
   "metadata": {},
   "source": [
    "## Transforms"
   ]
  },
  {
   "cell_type": "code",
   "execution_count": 15,
   "metadata": {
    "ExecuteTime": {
     "end_time": "2018-08-07T22:40:19.356545Z",
     "start_time": "2018-08-07T22:40:19.306380Z"
    }
   },
   "outputs": [],
   "source": [
    "class ToArray(object):\n",
    "    def __call__(self, sample):\n",
    "        features, targets = sample['features'], sample['targets']\n",
    "        return {'features': features.values, 'targets': targets.values}\n",
    "        \n",
    "\n",
    "class RandomCrop(object):\n",
    "    \"\"\"Crops randomly an inner segment of the time series.\n",
    "    \n",
    "    Args:\n",
    "        output_size (int): length of the desired time series.\n",
    "    \"\"\"\n",
    "    \n",
    "    def __init__(self, output_size):\n",
    "        assert isinstance(output_size, int)\n",
    "        self.output_size = output_size\n",
    "    \n",
    "    def __call__(self, sample):\n",
    "        features, targets = sample['features'], sample['targets']\n",
    "        \n",
    "        size = len(features)\n",
    "        if self.output_size < size:\n",
    "            start = np.random.randint(0, size - self.output_size)\n",
    "            features = features[start: start + self.output_size, :]\n",
    "            targets = targets[start: start + self.output_size, :]\n",
    "        \n",
    "        return {'features': features, 'targets': targets}\n",
    "\n",
    "\n",
    "class StartAt(object):\n",
    "    def __init__(self, at):\n",
    "        assert at > 0\n",
    "        self.at = at\n",
    "    \n",
    "    def __call__(self, sample):\n",
    "        features, targets = sample['features'], sample['targets']\n",
    "        # Open starts at self.at\n",
    "        features[:, :4] = self.at * features[:, :4] / features[0, 0]\n",
    "        \n",
    "        return {'features': features, 'targets': targets}\n",
    "    \n",
    "    \n",
    "class ToTensor(object):\n",
    "    \"\"\"Convert ndarrays in sample to Tensors.\"\"\"\n",
    "\n",
    "    def __call__(self, sample):\n",
    "        features, targets = sample['features'], sample['targets']\n",
    "\n",
    "        return {'features': torch.from_numpy(features), \n",
    "                'targets': torch.from_numpy(targets)}"
   ]
  },
  {
   "cell_type": "code",
   "execution_count": 16,
   "metadata": {
    "ExecuteTime": {
     "end_time": "2018-08-07T22:40:19.679204Z",
     "start_time": "2018-08-07T22:40:19.633620Z"
    }
   },
   "outputs": [],
   "source": [
    "# sim_dataset = SimulatedPricesDataset(...,\n",
    "#                                      transform=transforms.Compose([\n",
    "#                                          ToArray(), RandomCrop(480)\n",
    "#                                      ])\n",
    "#                                     )\n",
    "\n",
    "sim_dataset.transform = transforms.Compose([ToArray(), RandomCrop(480)])"
   ]
  },
  {
   "cell_type": "code",
   "execution_count": 17,
   "metadata": {
    "ExecuteTime": {
     "end_time": "2018-08-07T22:40:20.331273Z",
     "start_time": "2018-08-07T22:40:20.075013Z"
    }
   },
   "outputs": [
    {
     "name": "stdout",
     "output_type": "stream",
     "text": [
      "(480, 20) (480, 1)\n"
     ]
    },
    {
     "data": {
      "image/png": "[encoded data removed]",
      "text/plain": [
       "<Figure size 864x288 with 1 Axes>"
      ]
     },
     "metadata": {},
     "output_type": "display_data"
    }
   ],
   "source": [
    "sim_j = sim_dataset[2]\n",
    "print(sim_j['features'].shape, sim_j['targets'].shape)\n",
    "plt.plot(sim_j['features']);"
   ]
  },
  {
   "cell_type": "code",
   "execution_count": 18,
   "metadata": {
    "ExecuteTime": {
     "end_time": "2018-08-07T22:40:20.682037Z",
     "start_time": "2018-08-07T22:40:20.628844Z"
    }
   },
   "outputs": [],
   "source": [
    "composed = transforms.Compose([ToArray(), RandomCrop(480), StartAt(100), ToTensor()])\n",
    "\n",
    "sim_dataset.transform = composed"
   ]
  },
  {
   "cell_type": "code",
   "execution_count": 19,
   "metadata": {
    "ExecuteTime": {
     "end_time": "2018-08-07T22:40:21.962391Z",
     "start_time": "2018-08-07T22:40:21.905429Z"
    }
   },
   "outputs": [
    {
     "name": "stdout",
     "output_type": "stream",
     "text": [
      "torch.Size([480, 20]) torch.Size([480, 1])\n"
     ]
    }
   ],
   "source": [
    "sim_j = sim_dataset[2]\n",
    "print(sim_j['features'].size(), sim_j['targets'].size())"
   ]
  },
  {
   "cell_type": "code",
   "execution_count": 20,
   "metadata": {
    "ExecuteTime": {
     "end_time": "2018-08-07T22:40:24.640969Z",
     "start_time": "2018-08-07T22:40:24.593219Z"
    }
   },
   "outputs": [
    {
     "data": {
      "text/plain": [
       "tensor([[ 100.0000,  103.6370,   94.5519,   98.2206],\n",
       "        [ 100.4753,  104.7136,   96.6290,   99.3158],\n",
       "        [ 102.1351,  102.8091,   99.2322,  100.0442],\n",
       "        [  97.2599,  103.6160,   94.6677,  101.9103],\n",
       "        [  98.5077,  100.7020,   95.9298,   97.3787],\n",
       "        [ 103.3817,  105.6665,   98.0384,   99.2823]], dtype=torch.float64)"
      ]
     },
     "execution_count": 20,
     "metadata": {},
     "output_type": "execute_result"
    }
   ],
   "source": [
    "sim_j['features'][:6, :4]"
   ]
  },
  {
   "cell_type": "code",
   "execution_count": 21,
   "metadata": {
    "ExecuteTime": {
     "end_time": "2018-08-07T22:40:25.283195Z",
     "start_time": "2018-08-07T22:40:25.241025Z"
    }
   },
   "outputs": [
    {
     "data": {
      "text/plain": [
       "tensor([[ 2],\n",
       "        [ 2],\n",
       "        [ 2],\n",
       "        [ 2],\n",
       "        [ 2],\n",
       "        [ 2]])"
      ]
     },
     "execution_count": 21,
     "metadata": {},
     "output_type": "execute_result"
    }
   ],
   "source": [
    "sim_j['targets'][:6, :]"
   ]
  },
  {
   "cell_type": "markdown",
   "metadata": {},
   "source": [
    "## Iterating through the dataset"
   ]
  },
  {
   "cell_type": "code",
   "execution_count": 22,
   "metadata": {
    "ExecuteTime": {
     "end_time": "2018-08-07T22:43:38.791609Z",
     "start_time": "2018-08-07T22:40:44.673256Z"
    }
   },
   "outputs": [
    {
     "data": {
      "application/vnd.jupyter.widget-view+json": {
       "model_id": "34945b6a6ba54fa8b6587388d322d6c0",
       "version_major": 2,
       "version_minor": 0
      },
      "text/plain": [
       "HBox(children=(IntProgress(value=0, max=1000), HTML(value='')))"
      ]
     },
     "metadata": {},
     "output_type": "display_data"
    },
    {
     "name": "stderr",
     "output_type": "stream",
     "text": [
      "//anaconda/envs/trend/lib/python3.6/site-packages/numpy/core/fromnumeric.py:83: RuntimeWarning: invalid value encountered in reduce\n",
      "  return ufunc.reduce(obj, axis, dtype, out, **passkwargs)\n"
     ]
    },
    {
     "name": "stdout",
     "output_type": "stream",
     "text": [
      "\n"
     ]
    },
    {
     "data": {
      "application/vnd.jupyter.widget-view+json": {
       "model_id": "ed993a8ca9d342c692e68271caccab0e",
       "version_major": 2,
       "version_minor": 0
      },
      "text/plain": [
       "HBox(children=(IntProgress(value=0, max=50), HTML(value='')))"
      ]
     },
     "metadata": {},
     "output_type": "display_data"
    },
    {
     "name": "stdout",
     "output_type": "stream",
     "text": [
      "\n"
     ]
    }
   ],
   "source": [
    "sds = [20]\n",
    "tech_win = [10]\n",
    "min_icagr = 0.3\n",
    "\n",
    "train_dataset = SimulatedPricesDataset(1000, lambda: sim_path(N=500),\n",
    "                                       targets=['Trend'],\n",
    "                                       sds=sds, min_icagr=min_icagr,\n",
    "                                       tech_windows=tech_win,\n",
    "                                       transform=transforms.Compose([\n",
    "                                           ToArray(),\n",
    "                                           RandomCrop(480),\n",
    "                                           ToTensor()\n",
    "                                       ]))\n",
    "\n",
    "test_dataset = SimulatedPricesDataset(50, lambda: sim_path(N=300),\n",
    "                                      targets=['Trend'],\n",
    "                                      sds=sds, min_icagr=min_icagr,\n",
    "                                      tech_windows=tech_win,\n",
    "                                      transform=transforms.Compose([\n",
    "                                          ToArray(),\n",
    "                                          ToTensor()\n",
    "                                      ]))"
   ]
  },
  {
   "cell_type": "code",
   "execution_count": 23,
   "metadata": {
    "ExecuteTime": {
     "end_time": "2018-08-07T22:43:40.923156Z",
     "start_time": "2018-08-07T22:43:40.848369Z"
    },
    "scrolled": true
   },
   "outputs": [
    {
     "name": "stdout",
     "output_type": "stream",
     "text": [
      "Train:\n",
      "0 torch.Size([50, 480, 14]) torch.Size([50, 480, 1])\n",
      "1 torch.Size([50, 480, 14]) torch.Size([50, 480, 1])\n",
      "2 torch.Size([50, 480, 14]) torch.Size([50, 480, 1])\n",
      "3 torch.Size([50, 480, 14]) torch.Size([50, 480, 1])\n",
      "4 torch.Size([50, 480, 14]) torch.Size([50, 480, 1])\n",
      "5 torch.Size([50, 480, 14]) torch.Size([50, 480, 1])\n",
      "Test:\n",
      "0 torch.Size([50, 300, 14]) torch.Size([50, 300, 1])\n"
     ]
    }
   ],
   "source": [
    "train_loader = DataLoader(train_dataset, batch_size=50, shuffle=True)\n",
    "test_loader = DataLoader(test_dataset, batch_size=len(test_dataset), shuffle=False)\n",
    "\n",
    "print('Train:')\n",
    "for i_batch, sample_batched in enumerate(train_loader):\n",
    "    print(i_batch, sample_batched['features'].size(),\n",
    "          sample_batched['targets'].size())\n",
    "    \n",
    "    if i_batch == 5:\n",
    "        break\n",
    "\n",
    "print('Test:')\n",
    "for i_batch, sample_batched in enumerate(test_loader):\n",
    "    print(i_batch, sample_batched['features'].size(),\n",
    "          sample_batched['targets'].size())\n",
    "    \n",
    "    if i_batch == 5:\n",
    "        break"
   ]
  },
  {
   "cell_type": "code",
   "execution_count": 24,
   "metadata": {
    "ExecuteTime": {
     "end_time": "2018-08-07T22:43:43.023651Z",
     "start_time": "2018-08-07T22:43:42.976578Z"
    }
   },
   "outputs": [
    {
     "data": {
      "text/plain": [
       "torch.Size([50, 1, 14])"
      ]
     },
     "execution_count": 24,
     "metadata": {},
     "output_type": "execute_result"
    }
   ],
   "source": [
    "input = next(iter(train_loader))['features']\n",
    "list(input.chunk(input.size(1), dim=1))[479].shape"
   ]
  },
  {
   "cell_type": "markdown",
   "metadata": {},
   "source": [
    "## LSTM Model\n",
    "\n",
    "> // Multiple dimension softmax and `NLLLoss`, for Trend_5, Trend_10, etc.\n",
    ">\n",
    "> // Weights in loss function: prob(no trend) really low."
   ]
  },
  {
   "cell_type": "code",
   "execution_count": 83,
   "metadata": {
    "ExecuteTime": {
     "end_time": "2018-08-07T23:13:23.873569Z",
     "start_time": "2018-08-07T23:13:23.824960Z"
    }
   },
   "outputs": [],
   "source": [
    "class Sequence(nn.Module):\n",
    "    def __init__(self, h0=1, h1=51, h2=51, hL=3, warmup=60, nll_weights=None):\n",
    "        super(Sequence, self).__init__()\n",
    "        self.h0 = h0\n",
    "        self.h1 = h1\n",
    "        self.h2 = h2\n",
    "        self.hL = hL\n",
    "        self.lstm1 = nn.LSTMCell(h0, h1)\n",
    "        self.lstm2 = nn.LSTMCell(h1, h2)\n",
    "        self.linear = nn.Linear(h2, hL)\n",
    "        self.softmax = nn.LogSoftmax(dim=1)\n",
    "        \n",
    "        self.warmup = 60\n",
    "        self.loss_fun = nn.NLLLoss(weight=nll_weights)\n",
    "        \n",
    "    \n",
    "    def init_hidden(self):\n",
    "        self.h_t = torch.zeros(input.size(0), self.h1, dtype=torch.double)\n",
    "        self.c_t = torch.zeros(input.size(0), self.h1, dtype=torch.double)\n",
    "        self.h_t2 = torch.zeros(input.size(0), self.h2, dtype=torch.double)\n",
    "        self.c_t2 = torch.zeros(input.size(0), self.h2, dtype=torch.double)\n",
    "\n",
    "    \n",
    "    def forward(self, input):\n",
    "        self.init_hidden()\n",
    "        outputs = []\n",
    "        for i, input_t in enumerate(input.chunk(input.size(1), dim=1)):\n",
    "            self.h_t, self.c_t = self.lstm1(input_t.view(-1, self.h0), (self.h_t, self.c_t))\n",
    "            self.h_t2, self.c_t2 = self.lstm2(self.h_t, (self.h_t2, self.c_t2))\n",
    "            output = self.linear(self.h_t2)\n",
    "            output = self.softmax(output)\n",
    "            outputs += [output]\n",
    "\n",
    "        outputs = torch.stack(outputs, 1)\n",
    "        return outputs\n",
    "    \n",
    "\n",
    "    def loss(self, y_hat, y_true):\n",
    "        loss = 0\n",
    "        for i in range(self.warmup, y_hat.size()[1]):\n",
    "            loss = loss + self.loss_fun(y_hat[:, i, :], y_true[:, i, :].squeeze(dim=1))\n",
    "        return loss / (y_hat.size()[1] - self.warmup)"
   ]
  },
  {
   "cell_type": "code",
   "execution_count": null,
   "metadata": {},
   "outputs": [],
   "source": [
    "Series(np.concatenate([sim_j['targets'].numpy().flatten() for sim_j in sim_dataset])).value_counts()"
   ]
  },
  {
   "cell_type": "code",
   "execution_count": 96,
   "metadata": {
    "ExecuteTime": {
     "end_time": "2018-08-07T23:16:41.446549Z",
     "start_time": "2018-08-07T23:16:41.302328Z"
    }
   },
   "outputs": [],
   "source": [
    "_, freqs = np.unique([sim_j['targets'].numpy().flatten() for sim_j in train_dataset], return_counts=True)\n",
    "weights = torch.Tensor(freqs / sum(freqs))"
   ]
  },
  {
   "cell_type": "code",
   "execution_count": 86,
   "metadata": {
    "ExecuteTime": {
     "end_time": "2018-08-07T23:13:53.546057Z",
     "start_time": "2018-08-07T23:13:53.499794Z"
    }
   },
   "outputs": [
    {
     "data": {
      "text/plain": [
       "Sequence(\n",
       "  (lstm1): LSTMCell(14, 51)\n",
       "  (lstm2): LSTMCell(51, 51)\n",
       "  (linear): Linear(in_features=51, out_features=3, bias=True)\n",
       "  (softmax): LogSoftmax()\n",
       "  (loss_fun): NLLLoss()\n",
       ")"
      ]
     },
     "execution_count": 86,
     "metadata": {},
     "output_type": "execute_result"
    }
   ],
   "source": [
    "# build the model\n",
    "seq = Sequence(h0=train_dataset.n_features, nll_weights=weights)\n",
    "seq.double()"
   ]
  },
  {
   "cell_type": "code",
   "execution_count": 87,
   "metadata": {
    "ExecuteTime": {
     "end_time": "2018-08-07T23:13:55.669502Z",
     "start_time": "2018-08-07T23:13:55.623041Z"
    }
   },
   "outputs": [],
   "source": [
    "sample = next(iter(train_loader))\n",
    "inputs = sample['features']\n",
    "targets = sample['targets']"
   ]
  },
  {
   "cell_type": "code",
   "execution_count": 88,
   "metadata": {
    "ExecuteTime": {
     "end_time": "2018-08-07T23:13:56.771455Z",
     "start_time": "2018-08-07T23:13:56.025878Z"
    }
   },
   "outputs": [],
   "source": [
    "out = seq(inputs)"
   ]
  },
  {
   "cell_type": "code",
   "execution_count": 89,
   "metadata": {
    "ExecuteTime": {
     "end_time": "2018-08-07T23:13:56.839543Z",
     "start_time": "2018-08-07T23:13:56.774033Z"
    }
   },
   "outputs": [
    {
     "data": {
      "text/plain": [
       "(torch.Size([50, 480, 3]), torch.Size([50, 480, 1]))"
      ]
     },
     "execution_count": 89,
     "metadata": {},
     "output_type": "execute_result"
    }
   ],
   "source": [
    "out.size(), targets.size()"
   ]
  },
  {
   "cell_type": "code",
   "execution_count": 90,
   "metadata": {
    "ExecuteTime": {
     "end_time": "2018-08-07T23:13:57.765171Z",
     "start_time": "2018-08-07T23:13:57.705428Z"
    }
   },
   "outputs": [
    {
     "data": {
      "text/plain": [
       "tensor(1.1239, dtype=torch.float64)"
      ]
     },
     "execution_count": 90,
     "metadata": {},
     "output_type": "execute_result"
    }
   ],
   "source": [
    "seq.loss(out, targets)"
   ]
  },
  {
   "cell_type": "code",
   "execution_count": 91,
   "metadata": {
    "ExecuteTime": {
     "end_time": "2018-08-07T23:13:58.671287Z",
     "start_time": "2018-08-07T23:13:58.622852Z"
    }
   },
   "outputs": [],
   "source": [
    "test_sample = next(iter(test_loader))\n",
    "test_inputs = test_sample['features']\n",
    "test_targets = test_sample['targets']"
   ]
  },
  {
   "cell_type": "code",
   "execution_count": 92,
   "metadata": {
    "ExecuteTime": {
     "end_time": "2018-08-07T23:13:59.754030Z",
     "start_time": "2018-08-07T23:13:59.431154Z"
    }
   },
   "outputs": [
    {
     "data": {
      "text/plain": [
       "torch.Size([50, 300, 3])"
      ]
     },
     "execution_count": 92,
     "metadata": {},
     "output_type": "execute_result"
    }
   ],
   "source": [
    "with torch.no_grad():\n",
    "    test_out = seq(test_inputs)\n",
    "test_out.size()"
   ]
  },
  {
   "cell_type": "code",
   "execution_count": 93,
   "metadata": {
    "ExecuteTime": {
     "end_time": "2018-08-07T23:14:00.280643Z",
     "start_time": "2018-08-07T23:14:00.220551Z"
    }
   },
   "outputs": [
    {
     "data": {
      "text/plain": [
       "tensor(1.1103, dtype=torch.float64)"
      ]
     },
     "execution_count": 93,
     "metadata": {},
     "output_type": "execute_result"
    }
   ],
   "source": [
    "seq.loss(test_out, test_targets)"
   ]
  },
  {
   "cell_type": "markdown",
   "metadata": {},
   "source": [
    "### Train"
   ]
  },
  {
   "cell_type": "markdown",
   "metadata": {},
   "source": [
    "#### Find lr"
   ]
  },
  {
   "cell_type": "code",
   "execution_count": 94,
   "metadata": {
    "ExecuteTime": {
     "end_time": "2018-08-07T23:16:40.479250Z",
     "start_time": "2018-08-07T23:14:07.475332Z"
    }
   },
   "outputs": [
    {
     "data": {
      "application/vnd.jupyter.widget-view+json": {
       "model_id": "bee5aa23ece84a40a58bf855256eb6c1",
       "version_major": 2,
       "version_minor": 0
      },
      "text/plain": [
       "HBox(children=(IntProgress(value=0, description='Epoch:', max=7), HTML(value='')))"
      ]
     },
     "metadata": {},
     "output_type": "display_data"
    },
    {
     "data": {
      "application/vnd.jupyter.widget-view+json": {
       "model_id": "",
       "version_major": 2,
       "version_minor": 0
      },
      "text/plain": [
       "HBox(children=(IntProgress(value=1, bar_style='info', description='Mini-batch:', max=1), HTML(value='')))"
      ]
     },
     "metadata": {},
     "output_type": "display_data"
    },
    {
     "data": {
      "application/vnd.jupyter.widget-view+json": {
       "model_id": "",
       "version_major": 2,
       "version_minor": 0
      },
      "text/plain": [
       "HBox(children=(IntProgress(value=1, bar_style='info', description='Mini-batch:', max=1), HTML(value='')))"
      ]
     },
     "metadata": {},
     "output_type": "display_data"
    },
    {
     "data": {
      "application/vnd.jupyter.widget-view+json": {
       "model_id": "",
       "version_major": 2,
       "version_minor": 0
      },
      "text/plain": [
       "HBox(children=(IntProgress(value=1, bar_style='info', description='Mini-batch:', max=1), HTML(value='')))"
      ]
     },
     "metadata": {},
     "output_type": "display_data"
    },
    {
     "data": {
      "application/vnd.jupyter.widget-view+json": {
       "model_id": "",
       "version_major": 2,
       "version_minor": 0
      },
      "text/plain": [
       "HBox(children=(IntProgress(value=1, bar_style='info', description='Mini-batch:', max=1), HTML(value='')))"
      ]
     },
     "metadata": {},
     "output_type": "display_data"
    },
    {
     "data": {
      "application/vnd.jupyter.widget-view+json": {
       "model_id": "",
       "version_major": 2,
       "version_minor": 0
      },
      "text/plain": [
       "HBox(children=(IntProgress(value=1, bar_style='info', description='Mini-batch:', max=1), HTML(value='')))"
      ]
     },
     "metadata": {},
     "output_type": "display_data"
    },
    {
     "data": {
      "application/vnd.jupyter.widget-view+json": {
       "model_id": "",
       "version_major": 2,
       "version_minor": 0
      },
      "text/plain": [
       "HBox(children=(IntProgress(value=1, bar_style='info', description='Mini-batch:', max=1), HTML(value='')))"
      ]
     },
     "metadata": {},
     "output_type": "display_data"
    },
    {
     "data": {
      "application/vnd.jupyter.widget-view+json": {
       "model_id": "321c7c7a271c4f53838a8f05c71b01c2",
       "version_major": 2,
       "version_minor": 0
      },
      "text/plain": [
       "HBox(children=(IntProgress(value=1, bar_style='info', description='Mini-batch:', max=1), HTML(value='')))"
      ]
     },
     "metadata": {},
     "output_type": "display_data"
    }
   ],
   "source": [
    "losses = []\n",
    "lrs = np.exp(np.arange(np.log(1e-6), np.log(1), step=0.1))\n",
    "sched_lrs = []\n",
    "optimizer = optim.Adam(seq.parameters(), lr=1)\n",
    "scheduler = optim.lr_scheduler.LambdaLR(optimizer, lr_lambda=lambda epoch: lrs[epoch])\n",
    "\n",
    "\n",
    "for e in tqdm_notebook(np.arange(len(lrs) // (len(train_dataset) / train_loader.batch_size) + 1),\n",
    "                       desc='Epoch:'):\n",
    "\n",
    "    for i_batch, sample_batched in tqdm_notebook(enumerate(train_loader), desc='Mini-batch:', leave=False):\n",
    "        inputs, targets = sample_batched['features'], sample_batched['targets']\n",
    "        scheduler.step()\n",
    "        sched_lrs.append(scheduler.get_lr())\n",
    "        def closure():\n",
    "            optimizer.zero_grad()\n",
    "            out = seq(inputs)\n",
    "            loss = seq.loss(out, targets)\n",
    "            losses.append(loss.item())\n",
    "            loss.backward()\n",
    "            return loss\n",
    "        optimizer.step(closure)\n",
    "        \n",
    "        if scheduler.last_epoch == len(lrs) - 1: break\n",
    "    if scheduler.last_epoch == len(lrs) - 1: break\n"
   ]
  },
  {
   "cell_type": "code",
   "execution_count": 95,
   "metadata": {
    "ExecuteTime": {
     "end_time": "2018-08-07T23:16:41.278901Z",
     "start_time": "2018-08-07T23:16:40.481696Z"
    }
   },
   "outputs": [
    {
     "data": {
      "image/png": "[encoded data removed]",
      "text/plain": [
       "<Figure size 864x288 with 1 Axes>"
      ]
     },
     "metadata": {},
     "output_type": "display_data"
    }
   ],
   "source": [
    "plt.semilogx(np.array(sched_lrs).flatten()[:250], losses[:250])\n",
    "plt.xlabel('Learning rate (log-scale)')\n",
    "plt.ylabel('Loss')\n",
    "plt.show()"
   ]
  },
  {
   "cell_type": "markdown",
   "metadata": {},
   "source": [
    "#### Train the model"
   ]
  },
  {
   "cell_type": "code",
   "execution_count": 97,
   "metadata": {
    "ExecuteTime": {
     "end_time": "2018-08-07T23:17:11.903348Z",
     "start_time": "2018-08-07T23:17:11.854726Z"
    }
   },
   "outputs": [
    {
     "data": {
      "text/plain": [
       "Sequence(\n",
       "  (lstm1): LSTMCell(14, 51)\n",
       "  (lstm2): LSTMCell(51, 51)\n",
       "  (linear): Linear(in_features=51, out_features=3, bias=True)\n",
       "  (softmax): LogSoftmax()\n",
       "  (loss_fun): NLLLoss()\n",
       ")"
      ]
     },
     "execution_count": 97,
     "metadata": {},
     "output_type": "execute_result"
    }
   ],
   "source": [
    "losses = []\n",
    "test_losses = []\n",
    "seq = Sequence(h0=train_dataset.n_features, nll_weights=weights)\n",
    "seq.double()"
   ]
  },
  {
   "cell_type": "code",
   "execution_count": 115,
   "metadata": {
    "ExecuteTime": {
     "end_time": "2018-08-07T23:25:17.622007Z",
     "start_time": "2018-08-07T23:25:17.578948Z"
    }
   },
   "outputs": [],
   "source": [
    "optimizer = optim.Adam(seq.parameters(), lr=1e-4)\n",
    "# optimizer = optim.SGD(seq.parameters(), lr=1e-3, momentum=0.9)"
   ]
  },
  {
   "cell_type": "code",
   "execution_count": 116,
   "metadata": {
    "ExecuteTime": {
     "end_time": "2018-08-07T23:29:16.862393Z",
     "start_time": "2018-08-07T23:25:18.446141Z"
    }
   },
   "outputs": [
    {
     "data": {
      "application/vnd.jupyter.widget-view+json": {
       "model_id": "be2ff4318e114aadaceb55369aa8838c",
       "version_major": 2,
       "version_minor": 0
      },
      "text/plain": [
       "HBox(children=(IntProgress(value=0, description='Epoch:', max=10), HTML(value='')))"
      ]
     },
     "metadata": {},
     "output_type": "display_data"
    },
    {
     "data": {
      "application/vnd.jupyter.widget-view+json": {
       "model_id": "",
       "version_major": 2,
       "version_minor": 0
      },
      "text/plain": [
       "HBox(children=(IntProgress(value=1, bar_style='info', description='Mini-batch:', max=1), HTML(value='')))"
      ]
     },
     "metadata": {},
     "output_type": "display_data"
    },
    {
     "name": "stdout",
     "output_type": "stream",
     "text": [
      "Epoch: 0, training loss: 0.6959984932100256, test loss: 0.758437879921061\n"
     ]
    },
    {
     "data": {
      "application/vnd.jupyter.widget-view+json": {
       "model_id": "",
       "version_major": 2,
       "version_minor": 0
      },
      "text/plain": [
       "HBox(children=(IntProgress(value=1, bar_style='info', description='Mini-batch:', max=1), HTML(value='')))"
      ]
     },
     "metadata": {},
     "output_type": "display_data"
    },
    {
     "name": "stdout",
     "output_type": "stream",
     "text": [
      "Epoch: 1, training loss: 0.6934497047750812, test loss: 0.7582789784238455\n"
     ]
    },
    {
     "data": {
      "application/vnd.jupyter.widget-view+json": {
       "model_id": "",
       "version_major": 2,
       "version_minor": 0
      },
      "text/plain": [
       "HBox(children=(IntProgress(value=1, bar_style='info', description='Mini-batch:', max=1), HTML(value='')))"
      ]
     },
     "metadata": {},
     "output_type": "display_data"
    },
    {
     "name": "stdout",
     "output_type": "stream",
     "text": [
      "Epoch: 2, training loss: 0.6937716332477409, test loss: 0.756387478398797\n"
     ]
    },
    {
     "data": {
      "application/vnd.jupyter.widget-view+json": {
       "model_id": "",
       "version_major": 2,
       "version_minor": 0
      },
      "text/plain": [
       "HBox(children=(IntProgress(value=1, bar_style='info', description='Mini-batch:', max=1), HTML(value='')))"
      ]
     },
     "metadata": {},
     "output_type": "display_data"
    },
    {
     "name": "stdout",
     "output_type": "stream",
     "text": [
      "Epoch: 3, training loss: 0.6928217132565851, test loss: 0.7558873149497315\n"
     ]
    },
    {
     "data": {
      "application/vnd.jupyter.widget-view+json": {
       "model_id": "",
       "version_major": 2,
       "version_minor": 0
      },
      "text/plain": [
       "HBox(children=(IntProgress(value=1, bar_style='info', description='Mini-batch:', max=1), HTML(value='')))"
      ]
     },
     "metadata": {},
     "output_type": "display_data"
    },
    {
     "name": "stdout",
     "output_type": "stream",
     "text": [
      "Epoch: 4, training loss: 0.6933980075242903, test loss: 0.7556627411376763\n"
     ]
    },
    {
     "data": {
      "application/vnd.jupyter.widget-view+json": {
       "model_id": "",
       "version_major": 2,
       "version_minor": 0
      },
      "text/plain": [
       "HBox(children=(IntProgress(value=1, bar_style='info', description='Mini-batch:', max=1), HTML(value='')))"
      ]
     },
     "metadata": {},
     "output_type": "display_data"
    },
    {
     "name": "stdout",
     "output_type": "stream",
     "text": [
      "Epoch: 5, training loss: 0.6918859664140873, test loss: 0.7549143899937315\n"
     ]
    },
    {
     "data": {
      "application/vnd.jupyter.widget-view+json": {
       "model_id": "",
       "version_major": 2,
       "version_minor": 0
      },
      "text/plain": [
       "HBox(children=(IntProgress(value=1, bar_style='info', description='Mini-batch:', max=1), HTML(value='')))"
      ]
     },
     "metadata": {},
     "output_type": "display_data"
    },
    {
     "name": "stdout",
     "output_type": "stream",
     "text": [
      "Epoch: 6, training loss: 0.6918120202663062, test loss: 0.7542905581698034\n"
     ]
    },
    {
     "data": {
      "application/vnd.jupyter.widget-view+json": {
       "model_id": "",
       "version_major": 2,
       "version_minor": 0
      },
      "text/plain": [
       "HBox(children=(IntProgress(value=1, bar_style='info', description='Mini-batch:', max=1), HTML(value='')))"
      ]
     },
     "metadata": {},
     "output_type": "display_data"
    },
    {
     "name": "stdout",
     "output_type": "stream",
     "text": [
      "Epoch: 7, training loss: 0.6911097395588419, test loss: 0.7544207195773296\n"
     ]
    },
    {
     "data": {
      "application/vnd.jupyter.widget-view+json": {
       "model_id": "",
       "version_major": 2,
       "version_minor": 0
      },
      "text/plain": [
       "HBox(children=(IntProgress(value=1, bar_style='info', description='Mini-batch:', max=1), HTML(value='')))"
      ]
     },
     "metadata": {},
     "output_type": "display_data"
    },
    {
     "name": "stdout",
     "output_type": "stream",
     "text": [
      "Epoch: 8, training loss: 0.6903377705400484, test loss: 0.7533493032687466\n"
     ]
    },
    {
     "data": {
      "application/vnd.jupyter.widget-view+json": {
       "model_id": "",
       "version_major": 2,
       "version_minor": 0
      },
      "text/plain": [
       "HBox(children=(IntProgress(value=1, bar_style='info', description='Mini-batch:', max=1), HTML(value='')))"
      ]
     },
     "metadata": {},
     "output_type": "display_data"
    },
    {
     "name": "stdout",
     "output_type": "stream",
     "text": [
      "Epoch: 9, training loss: 0.6902901073449019, test loss: 0.7525716209955368\n"
     ]
    }
   ],
   "source": [
    "epochs = 10\n",
    "for e in tqdm_notebook(range(epochs), desc='Epoch:'):\n",
    "    \n",
    "    for i_batch, sample_batched in tqdm_notebook(enumerate(train_loader), desc='Mini-batch:', leave=False):\n",
    "        inputs, targets = sample_batched['features'], sample_batched['targets']\n",
    "    \n",
    "        def closure():\n",
    "            optimizer.zero_grad()\n",
    "            out = seq(inputs)\n",
    "            loss = seq.loss(out, targets)\n",
    "            losses.append(loss.item())\n",
    "            loss.backward()\n",
    "            return loss\n",
    "        optimizer.step(closure)\n",
    "    \n",
    "    if e % 1 == 0:\n",
    "        with torch.no_grad():\n",
    "            test_sample = next(iter(test_loader))\n",
    "            test_inputs, test_targets = test_sample['features'], test_sample['targets']\n",
    "            test_out = seq(test_inputs)\n",
    "            test_loss = seq.loss(test_out, test_targets)\n",
    "            test_losses.append(test_loss.item())\n",
    "        print('Epoch: ', e,\n",
    "              ', training loss: ', np.mean(losses[-(len(train_dataset) // train_loader.batch_size):]),\n",
    "              ', test loss: ', test_loss.item(), sep='')\n"
   ]
  },
  {
   "cell_type": "code",
   "execution_count": 125,
   "metadata": {
    "ExecuteTime": {
     "end_time": "2018-08-07T23:29:29.953494Z",
     "start_time": "2018-08-07T23:29:29.664379Z"
    },
    "scrolled": false
   },
   "outputs": [
    {
     "data": {
      "text/plain": [
       "[<matplotlib.lines.Line2D at 0x1c28c3ff60>]"
      ]
     },
     "execution_count": 125,
     "metadata": {},
     "output_type": "execute_result"
    },
    {
     "data": {
      "image/png": "[encoded data removed]",
      "text/plain": [
       "<Figure size 864x288 with 1 Axes>"
      ]
     },
     "metadata": {},
     "output_type": "display_data"
    }
   ],
   "source": [
    "plt.plot(losses)"
   ]
  },
  {
   "cell_type": "code",
   "execution_count": 118,
   "metadata": {
    "ExecuteTime": {
     "end_time": "2018-08-07T23:29:18.141324Z",
     "start_time": "2018-08-07T23:29:17.387385Z"
    }
   },
   "outputs": [],
   "source": [
    "test_sample = next(iter(test_loader))\n",
    "test_inputs, test_targets = test_sample['features'], test_sample['targets']\n",
    "test_out = seq(test_inputs)"
   ]
  },
  {
   "cell_type": "code",
   "execution_count": 119,
   "metadata": {
    "ExecuteTime": {
     "end_time": "2018-08-07T23:29:18.211966Z",
     "start_time": "2018-08-07T23:29:18.144655Z"
    }
   },
   "outputs": [],
   "source": [
    "j = np.random.randint(len(test_dataset))\n",
    "features_j = test_inputs[j, ...]\n",
    "x_j = pd.DataFrame(features_j.numpy(), columns=test_dataset.features_columns)"
   ]
  },
  {
   "cell_type": "code",
   "execution_count": 120,
   "metadata": {
    "ExecuteTime": {
     "end_time": "2018-08-07T23:29:18.279716Z",
     "start_time": "2018-08-07T23:29:18.223589Z"
    }
   },
   "outputs": [],
   "source": [
    "targets_j = test_targets[j, ...]\n",
    "y_j = pd.DataFrame(targets_j.numpy(), columns=test_dataset.targets_columns)"
   ]
  },
  {
   "cell_type": "code",
   "execution_count": 121,
   "metadata": {
    "ExecuteTime": {
     "end_time": "2018-08-07T23:29:18.372006Z",
     "start_time": "2018-08-07T23:29:18.288698Z"
    }
   },
   "outputs": [],
   "source": [
    "out_j = test_out[j, ...]\n",
    "yh_j = pd.DataFrame(np.exp(out_j.detach().numpy()), columns=['Down', 'No_Trend', 'Up'])\n",
    "yh_j = yh_j.assign(y_hat = pd.DataFrame(np.exp(out_j.detach().numpy())).idxmax(axis=1))"
   ]
  },
  {
   "cell_type": "code",
   "execution_count": 122,
   "metadata": {
    "ExecuteTime": {
     "end_time": "2018-08-07T23:29:18.450978Z",
     "start_time": "2018-08-07T23:29:18.374856Z"
    }
   },
   "outputs": [
    {
     "data": {
      "text/plain": [
       "array([[0.11333333, 0.        , 0.21666667],\n",
       "       [0.06666667, 0.        , 0.11      ],\n",
       "       [0.12666667, 0.        , 0.36666667]])"
      ]
     },
     "execution_count": 122,
     "metadata": {},
     "output_type": "execute_result"
    }
   ],
   "source": [
    "confusion_matrix(y_j.values, yh_j.y_hat)/len(y_j)"
   ]
  },
  {
   "cell_type": "code",
   "execution_count": 123,
   "metadata": {
    "ExecuteTime": {
     "end_time": "2018-08-07T23:29:18.819354Z",
     "start_time": "2018-08-07T23:29:18.471470Z"
    }
   },
   "outputs": [
    {
     "data": {
      "text/plain": [
       "<matplotlib.axes._subplots.AxesSubplot at 0x1c289da278>"
      ]
     },
     "execution_count": 123,
     "metadata": {},
     "output_type": "execute_result"
    },
    {
     "data": {
      "image/png": "[encoded data removed]",
      "text/plain": [
       "<Figure size 864x288 with 1 Axes>"
      ]
     },
     "metadata": {},
     "output_type": "display_data"
    }
   ],
   "source": [
    "res_j = pd.concat((x_j, y_j, yh_j), axis=1)\n",
    "res_j[['Close', 'No_Trend', 'Up', 'Down']].plot()"
   ]
  },
  {
   "cell_type": "code",
   "execution_count": 124,
   "metadata": {
    "ExecuteTime": {
     "end_time": "2018-08-07T23:29:19.152904Z",
     "start_time": "2018-08-07T23:29:18.822305Z"
    }
   },
   "outputs": [
    {
     "data": {
      "text/plain": [
       "<matplotlib.axes._subplots.AxesSubplot at 0x1c28af30f0>"
      ]
     },
     "execution_count": 124,
     "metadata": {},
     "output_type": "execute_result"
    },
    {
     "data": {
      "image/png": "[encoded data removed]",
      "text/plain": [
       "<Figure size 864x288 with 1 Axes>"
      ]
     },
     "metadata": {},
     "output_type": "display_data"
    }
   ],
   "source": [
    "res_j[['Close', 'Trend_20', 'y_hat']].plot()"
   ]
  },
  {
   "cell_type": "markdown",
   "metadata": {},
   "source": [
    "# Sharadar prices //\n",
    "\n",
    "> // How to manage train and validation samples?"
   ]
  },
  {
   "cell_type": "code",
   "execution_count": null,
   "metadata": {
    "ExecuteTime": {
     "end_time": "2018-08-07T16:09:00.722416Z",
     "start_time": "2018-08-07T16:09:00.639459Z"
    },
    "code_folding": []
   },
   "outputs": [],
   "source": [
    "class SharadarPricesDataset(Dataset):\n",
    "    \"\"\"Sharadar Prices Dataset\"\"\"\n",
    "    def __init__(self, root_dir, min_length,\n",
    "                 features=None,\n",
    "                 targets=['Trend', 'Max_Drawdown', 'ATR', 'Bliss'],\n",
    "                 sds=[5, 10, 20, 30], min_icagr=None, \n",
    "                 transform=None):\n",
    "        \"\"\"\n",
    "        Args:\n",
    "            root_dir (str): directory with data frames: Date | OHLC.\n",
    "            transform (callable, optional): Optional transform to be applied\n",
    "                on a sample.\n",
    "        \"\"\"\n",
    "        self.root_dir = root_dir\n",
    "        self.min_length = min_length\n",
    "        self.targets = targets\n",
    "        self.features = features\n",
    "        self.sds = sds\n",
    "        self.min_icagr = min_icagr\n",
    "        self.transform = transform\n",
    "        \n",
    "        # Only series longer than min_length\n",
    "        tickers = os.listdir(root_dir)\n",
    "        lengths = [len(pd.read_feather(os.path.join(root_dir, f)))\n",
    "                   for f in tickers]\n",
    "        tickers_df = DataFrame(data={'ticker': tickers, 'length': lengths})\n",
    "        self.fnames = list(\n",
    "            tickers_df.query('length > ' + str(self.min_length)).ticker.values\n",
    "        )\n",
    "    \n",
    "    def __len__(self):\n",
    "        return len(self.fnames)\n",
    "    \n",
    "    def __getitem__(self, idx):\n",
    "        \n",
    "        f_name = os.path.join(self.root_dir,\n",
    "                              self.fnames[idx])\n",
    "        \n",
    "        df = pd.read_feather(f_name).set_index('Date')\n",
    "        \n",
    "        targets_df = pd.concat(\n",
    "            (get_trend(df, s, min_icagr=self.min_icagr, targets=self.targets)\n",
    "             for s in self.sds),\n",
    "            axis=1,\n",
    "        )\n",
    "        \n",
    "        if self.features:\n",
    "            df = df[self.features]\n",
    "        \n",
    "        sample = {'features': df, 'targets': targets_df}\n",
    "        \n",
    "        if self.transform:\n",
    "            sample = self.transform(sample)\n",
    "        \n",
    "        return sample"
   ]
  },
  {
   "cell_type": "code",
   "execution_count": null,
   "metadata": {
    "ExecuteTime": {
     "end_time": "2018-08-07T16:10:23.378814Z",
     "start_time": "2018-08-07T16:09:02.118010Z"
    }
   },
   "outputs": [],
   "source": [
    "sh_train = 'input/Quandl/Sharadar/train/'\n",
    "\n",
    "sh_dataset = SharadarPricesDataset(sh_train, min_length=600, min_icagr=0.3)\n",
    "print(len(sh_dataset), 'series.')"
   ]
  },
  {
   "cell_type": "code",
   "execution_count": null,
   "metadata": {
    "ExecuteTime": {
     "end_time": "2018-08-07T16:13:38.771760Z",
     "start_time": "2018-08-07T16:13:36.140104Z"
    }
   },
   "outputs": [],
   "source": [
    "sh_j = sh_dataset[2]\n",
    "print(sh_j['features'].shape, sh_j['targets'].shape)"
   ]
  },
  {
   "cell_type": "code",
   "execution_count": null,
   "metadata": {
    "ExecuteTime": {
     "end_time": "2018-08-07T16:11:04.618157Z",
     "start_time": "2018-08-07T16:11:04.562345Z"
    }
   },
   "outputs": [],
   "source": [
    "sh_j['features'].head().T"
   ]
  },
  {
   "cell_type": "code",
   "execution_count": null,
   "metadata": {
    "ExecuteTime": {
     "end_time": "2018-08-07T16:12:45.938061Z",
     "start_time": "2018-08-07T16:12:45.885133Z"
    }
   },
   "outputs": [],
   "source": [
    "sh_j['targets'].head().T"
   ]
  },
  {
   "cell_type": "markdown",
   "metadata": {},
   "source": [
    "## Transforms"
   ]
  },
  {
   "cell_type": "code",
   "execution_count": null,
   "metadata": {},
   "outputs": [],
   "source": [
    "# sh_train = 'input/Quandl/Sharadar/train/'\n",
    "# sh_dataset = SharadarPricesDataset(sh_train, min_length=600, min_icagr=0.3,\n",
    "#                                    transform=transforms.Compose([\n",
    "#                                        ToArray(),\n",
    "#                                        RandomCrop(500),\n",
    "#                                        StartAt(1),\n",
    "#                                        ToTensor(),\n",
    "#                                      ])\n",
    "#                                    )"
   ]
  },
  {
   "cell_type": "code",
   "execution_count": null,
   "metadata": {
    "ExecuteTime": {
     "end_time": "2018-08-05T20:08:00.322346Z",
     "start_time": "2018-08-05T20:08:00.282158Z"
    }
   },
   "outputs": [],
   "source": [
    "composed = transforms.Compose([\n",
    "    ToArray(),\n",
    "    RandomCrop(300),\n",
    "    StartAt(1),\n",
    "    ToTensor()\n",
    "])\n",
    "\n",
    "sh_dataset.transform = composed\n",
    "print(len(sh_dataset), 'series.')"
   ]
  },
  {
   "cell_type": "code",
   "execution_count": null,
   "metadata": {
    "ExecuteTime": {
     "end_time": "2018-08-05T20:08:11.060773Z",
     "start_time": "2018-08-05T20:08:08.490542Z"
    },
    "scrolled": true
   },
   "outputs": [],
   "source": [
    "sh_j = sh_dataset[2]\n",
    "print(sh_j['features'].size(), sh_j['targets'].size())"
   ]
  },
  {
   "cell_type": "code",
   "execution_count": null,
   "metadata": {
    "ExecuteTime": {
     "end_time": "2018-08-05T20:08:14.226628Z",
     "start_time": "2018-08-05T20:08:13.968907Z"
    },
    "scrolled": false
   },
   "outputs": [],
   "source": [
    "plt.plot(sh_j['features'][:, :4].numpy());"
   ]
  },
  {
   "cell_type": "code",
   "execution_count": null,
   "metadata": {
    "ExecuteTime": {
     "end_time": "2018-08-04T15:48:25.318844Z",
     "start_time": "2018-08-04T15:48:25.084214Z"
    }
   },
   "outputs": [],
   "source": [
    "plt.plot(sh_j['features'][:, 4].numpy());"
   ]
  },
  {
   "cell_type": "code",
   "execution_count": null,
   "metadata": {
    "ExecuteTime": {
     "end_time": "2018-08-04T15:48:10.977578Z",
     "start_time": "2018-08-04T15:48:10.523415Z"
    }
   },
   "outputs": [],
   "source": [
    "plt.plot(sh_j['features'][:, 5:].numpy());"
   ]
  },
  {
   "cell_type": "markdown",
   "metadata": {},
   "source": [
    "## DataLoader"
   ]
  },
  {
   "cell_type": "code",
   "execution_count": null,
   "metadata": {
    "ExecuteTime": {
     "end_time": "2018-08-05T20:10:11.901140Z",
     "start_time": "2018-08-05T20:08:20.884761Z"
    },
    "scrolled": true
   },
   "outputs": [],
   "source": [
    "sh_loader = DataLoader(sh_dataset, batch_size=6)\n",
    "\n",
    "for i_batch, sample_batched in enumerate(sh_loader):\n",
    "    print(i_batch, sample_batched['features'].size(),\n",
    "          sample_batched['targets'].size())\n",
    "    \n",
    "    if i_batch == 5:\n",
    "        break"
   ]
  },
  {
   "cell_type": "markdown",
   "metadata": {},
   "source": [
    "# End"
   ]
  },
  {
   "cell_type": "code",
   "execution_count": null,
   "metadata": {
    "ExecuteTime": {
     "end_time": "2018-08-04T05:57:48.683577Z",
     "start_time": "2018-08-04T05:57:48.151860Z"
    },
    "scrolled": true
   },
   "outputs": [],
   "source": [
    "df = pd.read_feather('input/Quandl/Sharadar/train/NIOBF.feather').set_index('Date')\n",
    "df = find_trends(df)"
   ]
  },
  {
   "cell_type": "code",
   "execution_count": null,
   "metadata": {
    "ExecuteTime": {
     "end_time": "2018-08-04T05:58:33.453271Z",
     "start_time": "2018-08-04T05:58:33.378468Z"
    }
   },
   "outputs": [],
   "source": [
    "df"
   ]
  },
  {
   "cell_type": "code",
   "execution_count": null,
   "metadata": {
    "ExecuteTime": {
     "end_time": "2018-08-04T05:59:07.189441Z",
     "start_time": "2018-08-04T05:59:07.138816Z"
    }
   },
   "outputs": [],
   "source": [
    "(df.Trend_End - df.Trend_Start).min()"
   ]
  },
  {
   "cell_type": "code",
   "execution_count": null,
   "metadata": {
    "ExecuteTime": {
     "end_time": "2018-08-04T05:59:33.035975Z",
     "start_time": "2018-08-04T05:59:32.706395Z"
    }
   },
   "outputs": [],
   "source": [
    "plot_trends(df)"
   ]
  },
  {
   "cell_type": "code",
   "execution_count": null,
   "metadata": {
    "ExecuteTime": {
     "end_time": "2018-08-04T06:00:37.096602Z",
     "start_time": "2018-08-04T06:00:37.052296Z"
    }
   },
   "outputs": [],
   "source": [
    "df.Ratio.dropna().sort_values()"
   ]
  },
  {
   "cell_type": "markdown",
   "metadata": {},
   "source": [
    "# TO DO:\n",
    "\n",
    "* Check why the ratio is < 0.\n",
    "* `SharadarPricesDataset` that computes data and saves it to disk on `__init__`, and only loads df on `__get_item__`."
   ]
  }
 ],
 "metadata": {
  "kernelspec": {
   "display_name": "Python 3",
   "language": "python",
   "name": "python3"
  },
  "language_info": {
   "codemirror_mode": {
    "name": "ipython",
    "version": 3
   },
   "file_extension": ".py",
   "mimetype": "text/x-python",
   "name": "python",
   "nbconvert_exporter": "python",
   "pygments_lexer": "ipython3",
   "version": "3.6.6"
  },
  "toc": {
   "base_numbering": 1,
   "nav_menu": {},
   "number_sections": true,
   "sideBar": true,
   "skip_h1_title": false,
   "title_cell": "Table of Contents",
   "title_sidebar": "Contents",
   "toc_cell": false,
   "toc_position": {},
   "toc_section_display": true,
   "toc_window_display": false
  }
 },
 "nbformat": 4,
 "nbformat_minor": 2
}
